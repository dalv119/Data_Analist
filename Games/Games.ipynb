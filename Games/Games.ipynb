{
 "cells": [
  {
   "cell_type": "markdown",
   "id": "e06910dd",
   "metadata": {
    "id": "e06910dd"
   },
   "source": [
    "# Анализ игровой индустрии с 2000 по 2013 год\n",
    "\n",
    "- Автор: Добров Владимир\n",
    "- Дата: 2025-04-09"
   ]
  },
  {
   "cell_type": "markdown",
   "id": "4149134c",
   "metadata": {
    "id": "4149134c"
   },
   "source": [
    "### Цели и задачи проекта\n",
    "\n",
    "<font color='#777778'>Перечислите цель проекта и задачи, которые вы решаете. Для этого можно использовать описание проекта, но полезнее будет сформулировать основную цель проекта самостоятельно.</font>\n",
    "\n",
    "Создатели игры «Секреты Темнолесья» хотят привлечь новую аудиторию и подготовить статью о развитии индустрии игр в начале XXI века. Выпустить статью хотят на одном известном IT-ресурсе. Статья должна привлечь внимание людей, которые любят старые игры, и заодно заинтересовать их «Секретами Темнолесья».\n",
    "\n",
    "В статье-исследовании необходимо сделать обзор игровых платформ, изучить объёмы продаж игр разных жанров и региональные предпочтения игроков. Акцент в статье надо сделать на играх жанра RPG — так называют компьютерные ролевые игры, в которых игроки управляют персонажами.\n",
    "\n",
    "Для статьи необходимо изучить развитие игровой индустрии с 2000 по 2013 год. \n"
   ]
  },
  {
   "cell_type": "markdown",
   "id": "728986ea",
   "metadata": {
    "id": "728986ea"
   },
   "source": [
    "### Описание данных\n",
    "\n",
    "<font color='#777778'>Здесь приведите описание данных.</font>\n",
    "\n",
    "Историческими данные были собраны из открытых источников.  \n",
    "В проекте будут использованы данные датасета `/datasets/new_games.csv` с таким описанием: \n",
    "- `Name` — название игры;\n",
    "- `Platform` — название платформы;\n",
    "- `Year of Release` — год выпуска игры;\n",
    "- `Genre` — жанр игры;\n",
    "- `NA sales` — продажи в Северной Америке (в миллионах проданных копий);\n",
    "- `EU sales` — продажи в Европе (в миллионах проданных копий);\n",
    "- `JP sales` — продажи в Японии (в миллионах проданных копий);\n",
    "- `Other sales` — продажи в других странах (в миллионах проданных копий);\n",
    "- `Critic Score` — оценка критиков (от 0 до 100);\n",
    "- `User Score` — оценка пользователей (от 0 до 10);\n",
    "- `Rating` — рейтинг организации ESRB (англ. Entertainment Software Rating Board). Эта ассоциация определяет рейтинг компьютерных игр и присваивает им подходящую возрастную категорию"
   ]
  },
  {
   "cell_type": "markdown",
   "id": "4fecaf95",
   "metadata": {
    "id": "4fecaf95"
   },
   "source": [
    "### Содержимое проекта\n",
    "\n",
    "<font color='#777778'>Перечислите основные шаги проекта или напишите оглавление. Используйте описание проекта, чтобы зафиксировать основные шаги.</font>\n",
    "\n",
    "1. Загрузка данных и знакомство с ними\n",
    "2. Проверка ошибок в данных и их предобработка\n",
    "3. Фильтрация данных\n",
    "4. Категоризация данных\n",
    "5. Итоговый вывод\n",
    "---"
   ]
  },
  {
   "cell_type": "markdown",
   "id": "6f7d21d6",
   "metadata": {
    "id": "6f7d21d6"
   },
   "source": [
    "## 1. Загрузка данных и знакомство с ними\n",
    "\n",
    "- Загрузка необходимых библиотек Python и данные датасета `/datasets/new_games.csv`.\n"
   ]
  },
  {
   "cell_type": "code",
   "execution_count": 1,
   "id": "ebb66dc5",
   "metadata": {
    "id": "ebb66dc5"
   },
   "outputs": [],
   "source": [
    "# Импортируем библиотеку pandas\n",
    "import pandas as pd"
   ]
  },
  {
   "cell_type": "code",
   "execution_count": 2,
   "id": "ce87c1db",
   "metadata": {
    "id": "ce87c1db"
   },
   "outputs": [],
   "source": [
    "# Выгружаем данные из датасета /datasets/new_games.csv в датафрейм hotels\n",
    "df = pd.read_csv('https://code.s3.yandex.net/datasets/new_games.csv')"
   ]
  },
  {
   "cell_type": "code",
   "execution_count": 3,
   "id": "90fee493",
   "metadata": {
    "id": "90fee493"
   },
   "outputs": [
    {
     "name": "stdout",
     "output_type": "stream",
     "text": [
      "<class 'pandas.core.frame.DataFrame'>\n",
      "RangeIndex: 16956 entries, 0 to 16955\n",
      "Data columns (total 11 columns):\n",
      " #   Column           Non-Null Count  Dtype  \n",
      "---  ------           --------------  -----  \n",
      " 0   Name             16954 non-null  object \n",
      " 1   Platform         16956 non-null  object \n",
      " 2   Year of Release  16681 non-null  float64\n",
      " 3   Genre            16954 non-null  object \n",
      " 4   NA sales         16956 non-null  float64\n",
      " 5   EU sales         16956 non-null  object \n",
      " 6   JP sales         16956 non-null  object \n",
      " 7   Other sales      16956 non-null  float64\n",
      " 8   Critic Score     8242 non-null   float64\n",
      " 9   User Score       10152 non-null  object \n",
      " 10  Rating           10085 non-null  object \n",
      "dtypes: float64(4), object(7)\n",
      "memory usage: 1.4+ MB\n"
     ]
    }
   ],
   "source": [
    "# Выводим информацию о датафрейме\n",
    "df.info()"
   ]
  },
  {
   "cell_type": "markdown",
   "id": "c1f84b13",
   "metadata": {
    "id": "e0a8705f"
   },
   "source": [
    "- Знакомство с данными: выводим первые строки и результат метода `info()`.\n"
   ]
  },
  {
   "cell_type": "code",
   "execution_count": 4,
   "id": "3937acf7",
   "metadata": {
    "id": "3937acf7"
   },
   "outputs": [
    {
     "data": {
      "text/html": [
       "<div>\n",
       "<style scoped>\n",
       "    .dataframe tbody tr th:only-of-type {\n",
       "        vertical-align: middle;\n",
       "    }\n",
       "\n",
       "    .dataframe tbody tr th {\n",
       "        vertical-align: top;\n",
       "    }\n",
       "\n",
       "    .dataframe thead th {\n",
       "        text-align: right;\n",
       "    }\n",
       "</style>\n",
       "<table border=\"1\" class=\"dataframe\">\n",
       "  <thead>\n",
       "    <tr style=\"text-align: right;\">\n",
       "      <th></th>\n",
       "      <th>Name</th>\n",
       "      <th>Platform</th>\n",
       "      <th>Year of Release</th>\n",
       "      <th>Genre</th>\n",
       "      <th>NA sales</th>\n",
       "      <th>EU sales</th>\n",
       "      <th>JP sales</th>\n",
       "      <th>Other sales</th>\n",
       "      <th>Critic Score</th>\n",
       "      <th>User Score</th>\n",
       "      <th>Rating</th>\n",
       "    </tr>\n",
       "  </thead>\n",
       "  <tbody>\n",
       "    <tr>\n",
       "      <th>0</th>\n",
       "      <td>Wii Sports</td>\n",
       "      <td>Wii</td>\n",
       "      <td>2006.0</td>\n",
       "      <td>Sports</td>\n",
       "      <td>41.36</td>\n",
       "      <td>28.96</td>\n",
       "      <td>3.77</td>\n",
       "      <td>8.45</td>\n",
       "      <td>76.0</td>\n",
       "      <td>8</td>\n",
       "      <td>E</td>\n",
       "    </tr>\n",
       "    <tr>\n",
       "      <th>1</th>\n",
       "      <td>Super Mario Bros.</td>\n",
       "      <td>NES</td>\n",
       "      <td>1985.0</td>\n",
       "      <td>Platform</td>\n",
       "      <td>29.08</td>\n",
       "      <td>3.58</td>\n",
       "      <td>6.81</td>\n",
       "      <td>0.77</td>\n",
       "      <td>NaN</td>\n",
       "      <td>NaN</td>\n",
       "      <td>NaN</td>\n",
       "    </tr>\n",
       "    <tr>\n",
       "      <th>2</th>\n",
       "      <td>Mario Kart Wii</td>\n",
       "      <td>Wii</td>\n",
       "      <td>2008.0</td>\n",
       "      <td>Racing</td>\n",
       "      <td>15.68</td>\n",
       "      <td>12.76</td>\n",
       "      <td>3.79</td>\n",
       "      <td>3.29</td>\n",
       "      <td>82.0</td>\n",
       "      <td>8.3</td>\n",
       "      <td>E</td>\n",
       "    </tr>\n",
       "    <tr>\n",
       "      <th>3</th>\n",
       "      <td>Wii Sports Resort</td>\n",
       "      <td>Wii</td>\n",
       "      <td>2009.0</td>\n",
       "      <td>Sports</td>\n",
       "      <td>15.61</td>\n",
       "      <td>10.93</td>\n",
       "      <td>3.28</td>\n",
       "      <td>2.95</td>\n",
       "      <td>80.0</td>\n",
       "      <td>8</td>\n",
       "      <td>E</td>\n",
       "    </tr>\n",
       "    <tr>\n",
       "      <th>4</th>\n",
       "      <td>Pokemon Red/Pokemon Blue</td>\n",
       "      <td>GB</td>\n",
       "      <td>1996.0</td>\n",
       "      <td>Role-Playing</td>\n",
       "      <td>11.27</td>\n",
       "      <td>8.89</td>\n",
       "      <td>10.22</td>\n",
       "      <td>1.00</td>\n",
       "      <td>NaN</td>\n",
       "      <td>NaN</td>\n",
       "      <td>NaN</td>\n",
       "    </tr>\n",
       "    <tr>\n",
       "      <th>5</th>\n",
       "      <td>Tetris</td>\n",
       "      <td>GB</td>\n",
       "      <td>1989.0</td>\n",
       "      <td>Puzzle</td>\n",
       "      <td>23.20</td>\n",
       "      <td>2.26</td>\n",
       "      <td>4.22</td>\n",
       "      <td>0.58</td>\n",
       "      <td>NaN</td>\n",
       "      <td>NaN</td>\n",
       "      <td>NaN</td>\n",
       "    </tr>\n",
       "    <tr>\n",
       "      <th>6</th>\n",
       "      <td>New Super Mario Bros.</td>\n",
       "      <td>DS</td>\n",
       "      <td>2006.0</td>\n",
       "      <td>Platform</td>\n",
       "      <td>11.28</td>\n",
       "      <td>9.14</td>\n",
       "      <td>6.5</td>\n",
       "      <td>2.88</td>\n",
       "      <td>89.0</td>\n",
       "      <td>8.5</td>\n",
       "      <td>E</td>\n",
       "    </tr>\n",
       "    <tr>\n",
       "      <th>7</th>\n",
       "      <td>Wii Play</td>\n",
       "      <td>Wii</td>\n",
       "      <td>2006.0</td>\n",
       "      <td>Misc</td>\n",
       "      <td>13.96</td>\n",
       "      <td>9.18</td>\n",
       "      <td>2.93</td>\n",
       "      <td>2.84</td>\n",
       "      <td>58.0</td>\n",
       "      <td>6.6</td>\n",
       "      <td>E</td>\n",
       "    </tr>\n",
       "    <tr>\n",
       "      <th>8</th>\n",
       "      <td>New Super Mario Bros. Wii</td>\n",
       "      <td>Wii</td>\n",
       "      <td>2009.0</td>\n",
       "      <td>Platform</td>\n",
       "      <td>14.44</td>\n",
       "      <td>6.94</td>\n",
       "      <td>4.7</td>\n",
       "      <td>2.24</td>\n",
       "      <td>87.0</td>\n",
       "      <td>8.4</td>\n",
       "      <td>E</td>\n",
       "    </tr>\n",
       "    <tr>\n",
       "      <th>9</th>\n",
       "      <td>Duck Hunt</td>\n",
       "      <td>NES</td>\n",
       "      <td>1984.0</td>\n",
       "      <td>Shooter</td>\n",
       "      <td>26.93</td>\n",
       "      <td>0.63</td>\n",
       "      <td>0.28</td>\n",
       "      <td>0.47</td>\n",
       "      <td>NaN</td>\n",
       "      <td>NaN</td>\n",
       "      <td>NaN</td>\n",
       "    </tr>\n",
       "  </tbody>\n",
       "</table>\n",
       "</div>"
      ],
      "text/plain": [
       "                        Name Platform  Year of Release         Genre  \\\n",
       "0                 Wii Sports      Wii           2006.0        Sports   \n",
       "1          Super Mario Bros.      NES           1985.0      Platform   \n",
       "2             Mario Kart Wii      Wii           2008.0        Racing   \n",
       "3          Wii Sports Resort      Wii           2009.0        Sports   \n",
       "4   Pokemon Red/Pokemon Blue       GB           1996.0  Role-Playing   \n",
       "5                     Tetris       GB           1989.0        Puzzle   \n",
       "6      New Super Mario Bros.       DS           2006.0      Platform   \n",
       "7                   Wii Play      Wii           2006.0          Misc   \n",
       "8  New Super Mario Bros. Wii      Wii           2009.0      Platform   \n",
       "9                  Duck Hunt      NES           1984.0       Shooter   \n",
       "\n",
       "   NA sales EU sales JP sales  Other sales  Critic Score User Score Rating  \n",
       "0     41.36    28.96     3.77         8.45          76.0          8      E  \n",
       "1     29.08     3.58     6.81         0.77           NaN        NaN    NaN  \n",
       "2     15.68    12.76     3.79         3.29          82.0        8.3      E  \n",
       "3     15.61    10.93     3.28         2.95          80.0          8      E  \n",
       "4     11.27     8.89    10.22         1.00           NaN        NaN    NaN  \n",
       "5     23.20     2.26     4.22         0.58           NaN        NaN    NaN  \n",
       "6     11.28     9.14      6.5         2.88          89.0        8.5      E  \n",
       "7     13.96     9.18     2.93         2.84          58.0        6.6      E  \n",
       "8     14.44     6.94      4.7         2.24          87.0        8.4      E  \n",
       "9     26.93     0.63     0.28         0.47           NaN        NaN    NaN  "
      ]
     },
     "execution_count": 4,
     "metadata": {},
     "output_type": "execute_result"
    }
   ],
   "source": [
    "# Выводим первые строки датафрейма на экран\n",
    "df.head(10)"
   ]
  },
  {
   "cell_type": "markdown",
   "id": "26a9de77",
   "metadata": {
    "id": "d7c8eb4b"
   },
   "source": [
    "Датасет `new_games.csv` содержит 11 столбцов и 16956 строк, в которых представлена информация о игровых платформах и объёмах продаж игр разных жанров в различных регионах.\n",
    "\n",
    "Типы данных и их корректность:\n",
    "- **Числовые значения с плавающей запятой (float64).** Четыре столбца имеют тип данных `float64`:  \n",
    "    - `Year of Release` содержит информацию о годе выпуска игры. Лучшим решением для данной колонки будет тип данных `int16`\n",
    "    - `NA sales` и `Other sales` содержат объемы продаж, а `Critic Score` это оценка критиков могут включать дробные значения по этому использование типа  `float64` является правильным решением  \n",
    "- **Строковые данные (object).** Семь столбцов имеют тип данных `object`:\n",
    "    - `Name` содержат строковую информацию (название игры), что логично для текстовых данных. Здесь тип данных `object` подходит.\n",
    "   - `Platform`, `Genre` и `Rating` также хранят текстовые данные (название платформы, жанр игры и рейтинг), но их можно рассматривать как категориальные признаки. В этом случае можно использовать тип `category`, чтобы улучшить производительность и оптимизировать память, если набор значений ограничен и заведомо известен.\n",
    "    - `EU sales`, `JP sales` и `User Score`  имеют не корректный тип данных так как хранят числовую информацию о объемах продаж и оценке пользователей. Для таких данных рекомендуется использовать тип `float64`  \n",
    "\n",
    "После анализа типов данных видно, что для корректного представления данных для 3-х столбцов требуется преобразовать строковые данные в тип `float64` и один в `int16`.\n",
    "\n",
    "Полнота данных:\n",
    "- в шести из одинадцать колонок таблицы присутствуют пустые значения\n",
    "Названия столбцов правильно отражают содержание, но содержат пробелы которые лучше заменить на `_` в соответсвии с стилем snake case"
   ]
  },
  {
   "cell_type": "markdown",
   "id": "774bf76e",
   "metadata": {
    "id": "774bf76e"
   },
   "source": [
    "---\n",
    "\n",
    "## 2.  Проверка ошибок в данных и их предобработка\n",
    "\n",
    "\n",
    "### 2.1. Названия, или метки, столбцов датафрейма\n",
    "\n",
    "- Выведите на экран названия всех столбцов датафрейма и проверьте их стиль написания.\n",
    "- Приведите все столбцы к стилю snake case. Названия должны быть в нижнем регистре, а вместо пробелов — подчёркивания."
   ]
  },
  {
   "cell_type": "code",
   "execution_count": 5,
   "id": "d554563c",
   "metadata": {
    "id": "d554563c"
   },
   "outputs": [
    {
     "data": {
      "text/plain": [
       "['Name',\n",
       " 'Platform',\n",
       " 'Year of Release',\n",
       " 'Genre',\n",
       " 'NA sales',\n",
       " 'EU sales',\n",
       " 'JP sales',\n",
       " 'Other sales',\n",
       " 'Critic Score',\n",
       " 'User Score',\n",
       " 'Rating']"
      ]
     },
     "execution_count": 5,
     "metadata": {},
     "output_type": "execute_result"
    }
   ],
   "source": [
    "# Выведем на экран названия всех столбцов датафрейма\n",
    "list(df)"
   ]
  },
  {
   "cell_type": "code",
   "execution_count": 6,
   "id": "87b573dd",
   "metadata": {
    "id": "87b573dd"
   },
   "outputs": [
    {
     "data": {
      "text/plain": [
       "['name',\n",
       " 'platform',\n",
       " 'year of release',\n",
       " 'genre',\n",
       " 'na sales',\n",
       " 'eu sales',\n",
       " 'jp sales',\n",
       " 'other sales',\n",
       " 'critic score',\n",
       " 'user score',\n",
       " 'rating']"
      ]
     },
     "execution_count": 6,
     "metadata": {},
     "output_type": "execute_result"
    }
   ],
   "source": [
    "# Приводим названия в нижний регистр\n",
    "df.columns = df.columns.str.lower()\n",
    "list(df)"
   ]
  },
  {
   "cell_type": "code",
   "execution_count": 7,
   "id": "576cdc8a",
   "metadata": {},
   "outputs": [
    {
     "data": {
      "text/plain": [
       "['name',\n",
       " 'platform',\n",
       " 'year_of_release',\n",
       " 'genre',\n",
       " 'na_sales',\n",
       " 'eu_sales',\n",
       " 'jp_sales',\n",
       " 'other_sales',\n",
       " 'critic_score',\n",
       " 'user_score',\n",
       " 'rating']"
      ]
     },
     "execution_count": 7,
     "metadata": {},
     "output_type": "execute_result"
    }
   ],
   "source": [
    "# Приведём все столбцы к стилю snake case. Вместо пробелов — подчёркивания.\n",
    "df.columns = df.columns.str.replace(' ', '_')\n",
    "list(df)"
   ]
  },
  {
   "cell_type": "markdown",
   "id": "41bc6bf8",
   "metadata": {
    "id": "41bc6bf8"
   },
   "source": [
    "### 2.2. Типы данных\n"
   ]
  },
  {
   "cell_type": "markdown",
   "id": "1144450b",
   "metadata": {},
   "source": [
    "Проанализируем типы данных и количество пропущенных значений по столбцам:\n",
    "- Формат `object` колонок `year_of_release`, `na_sales`, `eu_sales`, `jp_sales`, `user_score` не соответствует числовому типу данных. Возможные причины - наличии в данных строковой информации или пустых значений."
   ]
  },
  {
   "cell_type": "code",
   "execution_count": 8,
   "id": "8adaac81",
   "metadata": {
    "id": "8adaac81"
   },
   "outputs": [
    {
     "name": "stdout",
     "output_type": "stream",
     "text": [
      "<class 'pandas.core.frame.DataFrame'>\n",
      "RangeIndex: 16956 entries, 0 to 16955\n",
      "Data columns (total 11 columns):\n",
      " #   Column           Non-Null Count  Dtype  \n",
      "---  ------           --------------  -----  \n",
      " 0   name             16954 non-null  object \n",
      " 1   platform         16956 non-null  object \n",
      " 2   year_of_release  16681 non-null  float64\n",
      " 3   genre            16954 non-null  object \n",
      " 4   na_sales         16956 non-null  float64\n",
      " 5   eu_sales         16956 non-null  object \n",
      " 6   jp_sales         16956 non-null  object \n",
      " 7   other_sales      16956 non-null  float64\n",
      " 8   critic_score     8242 non-null   float64\n",
      " 9   user_score       10152 non-null  object \n",
      " 10  rating           10085 non-null  object \n",
      "dtypes: float64(4), object(7)\n",
      "memory usage: 1.4+ MB\n",
      "\n",
      "Количество пропусков\n"
     ]
    },
    {
     "data": {
      "text/plain": [
       "name                  2\n",
       "platform              0\n",
       "year_of_release     275\n",
       "genre                 2\n",
       "na_sales              0\n",
       "eu_sales              0\n",
       "jp_sales              0\n",
       "other_sales           0\n",
       "critic_score       8714\n",
       "user_score         6804\n",
       "rating             6871\n",
       "dtype: int64"
      ]
     },
     "metadata": {},
     "output_type": "display_data"
    }
   ],
   "source": [
    "# Выводим информацию о датафрейме\n",
    "df.info()\n",
    "\n",
    "print()\n",
    "\n",
    "# Посчитаем количество пропусков значений\n",
    "print('Количество пропусков')\n",
    "display(df.isna().sum())"
   ]
  },
  {
   "cell_type": "markdown",
   "id": "f62f1d2f",
   "metadata": {},
   "source": [
    "- Преобразуем тип данных колонки `year_of_release_int` (год выхода игры) в числовой формат `integer`  \n",
    "- Заменяем строковые значения на пропуски в колонках с числовыми данными и приводим к числовому типу"
   ]
  },
  {
   "cell_type": "code",
   "execution_count": 9,
   "id": "c0183bf3",
   "metadata": {},
   "outputs": [
    {
     "name": "stdout",
     "output_type": "stream",
     "text": [
      "<class 'pandas.core.frame.DataFrame'>\n",
      "RangeIndex: 16956 entries, 0 to 16955\n",
      "Data columns (total 11 columns):\n",
      " #   Column           Non-Null Count  Dtype  \n",
      "---  ------           --------------  -----  \n",
      " 0   name             16954 non-null  object \n",
      " 1   platform         16956 non-null  object \n",
      " 2   year_of_release  16956 non-null  int64  \n",
      " 3   genre            16954 non-null  object \n",
      " 4   na_sales         16956 non-null  float64\n",
      " 5   eu_sales         16956 non-null  object \n",
      " 6   jp_sales         16956 non-null  object \n",
      " 7   other_sales      16956 non-null  float64\n",
      " 8   critic_score     8242 non-null   float64\n",
      " 9   user_score       10152 non-null  object \n",
      " 10  rating           10085 non-null  object \n",
      "dtypes: float64(3), int64(1), object(7)\n",
      "memory usage: 1.4+ MB\n",
      "<class 'pandas.core.frame.DataFrame'>\n",
      "RangeIndex: 16956 entries, 0 to 16955\n",
      "Data columns (total 11 columns):\n",
      " #   Column           Non-Null Count  Dtype   \n",
      "---  ------           --------------  -----   \n",
      " 0   name             16954 non-null  object  \n",
      " 1   platform         16956 non-null  category\n",
      " 2   year_of_release  16956 non-null  int64   \n",
      " 3   genre            16954 non-null  category\n",
      " 4   na_sales         16956 non-null  float64 \n",
      " 5   eu_sales         16956 non-null  float64 \n",
      " 6   jp_sales         16956 non-null  float64 \n",
      " 7   other_sales      16956 non-null  float64 \n",
      " 8   critic_score     8242 non-null   float64 \n",
      " 9   user_score       8876 non-null   float64 \n",
      " 10  rating           16956 non-null  category\n",
      "dtypes: category(3), float64(6), int64(1), object(1)\n",
      "memory usage: 1.1+ MB\n"
     ]
    }
   ],
   "source": [
    "# Заменим пропущенные значения на 0\n",
    "df['year_of_release'] = df['year_of_release'].fillna(0)\n",
    "\n",
    "# Меняем тип данных на числовой\n",
    "df['year_of_release'] = df['year_of_release'].astype('float64').astype('int64')\n",
    "df.info()\n",
    "\n",
    "# Определяем список столбцов с числовыми данными\n",
    "num_data = ['na_sales', 'eu_sales','jp_sales', 'user_score']\n",
    "\n",
    "# Заменяем строковые и пустые значения на пропуски\n",
    "for column in num_data:\n",
    "    df[column] = df[column].replace(['unknown', 'tbd', ''], None)\n",
    "    \n",
    "#   Приводим данные в столбцах к числовому типу\n",
    "    df[column] = pd.to_numeric(df[column], errors='coerce')\n",
    "#     df[column] = df[column].astype('float64')\n",
    "\n",
    "# Заменяем пустые значения для Рейтинга на 'no_available'    \n",
    "df['rating'] = df['rating'].fillna('no_available')    \n",
    "    \n",
    "# Определяем список столбцов с котигориальными данными\n",
    "category_data = ['platform', 'genre', 'rating']  \n",
    "\n",
    "# Приводим данные в столбцах к типу 'category'\n",
    "for column in category_data:\n",
    "    df[column] = df[column].astype('category')     \n",
    "\n",
    "# Выводим результат преобразования типов столбцов\n",
    "df.info()"
   ]
  },
  {
   "cell_type": "markdown",
   "id": "b39893cb",
   "metadata": {
    "id": "b39893cb"
   },
   "source": [
    "### 2.3. Наличие пропусков в данных\n",
    "\n",
    "- Посчитаем количество пропусков в каждом столбце в абсолютных и относительных значениях.\n"
   ]
  },
  {
   "cell_type": "code",
   "execution_count": 10,
   "id": "0f1c91a8",
   "metadata": {
    "id": "0f1c91a8"
   },
   "outputs": [
    {
     "data": {
      "text/plain": [
       "name                  2\n",
       "platform              0\n",
       "year_of_release       0\n",
       "genre                 2\n",
       "na_sales              0\n",
       "eu_sales              0\n",
       "jp_sales              0\n",
       "other_sales           0\n",
       "critic_score       8714\n",
       "user_score         8080\n",
       "rating                0\n",
       "dtype: int64"
      ]
     },
     "execution_count": 10,
     "metadata": {},
     "output_type": "execute_result"
    }
   ],
   "source": [
    "# Посчитаем абсолютное количество пропусков в каждом столбце\n",
    "df.isna().sum()"
   ]
  },
  {
   "cell_type": "code",
   "execution_count": 11,
   "id": "86cd1cc1",
   "metadata": {
    "id": "86cd1cc1"
   },
   "outputs": [
    {
     "data": {
      "text/plain": [
       "name                0.011795\n",
       "platform            0.000000\n",
       "year_of_release     0.000000\n",
       "genre               0.011795\n",
       "na_sales            0.000000\n",
       "eu_sales            0.000000\n",
       "jp_sales            0.000000\n",
       "other_sales         0.000000\n",
       "critic_score       51.391838\n",
       "user_score         47.652748\n",
       "rating              0.000000\n",
       "dtype: float64"
      ]
     },
     "execution_count": 11,
     "metadata": {},
     "output_type": "execute_result"
    }
   ],
   "source": [
    "# Подсчитываем процент строк с пропусками\n",
    "df.isna().mean()*100"
   ]
  },
  {
   "cell_type": "markdown",
   "id": "c958a642",
   "metadata": {
    "id": "247a6cf7"
   },
   "source": [
    "Промежуточные выводы по пропускам:\n",
    "- Количество пропусков в столбцах с названием игры (`name`) и жанр (`genre`) одинаково 2, что составляет всего 0.1%. Данные строки можно удалить, т.к. <span style='color: blue;'>данные игры вышли в 1993 году и не входят в рассматриваемый интервал времени 2000-2013.</span>\n",
    "- Для количества продаж в Европу и Японию 6 и 4 соответственно, что составляет 0,3 и 0,2 %. Здесь пропуски можно заменить на средние значение продаж по Году выпуска и Жанру.\n",
    "- Существенная доля пропусков в Оценке критиков (`critic_score`) 8714 (51 %), Оценки пользователей (`user_score`) 8080 (47%). <span style='color: blue;'>Одна из причин отсутствия данных - игры вышедшие до момента появления рейтингов в 1994. Так же можно исключить из рассмотрения игры вышедшие после 2013.</span> В данных колонках можно оставить без изменений, т.к. в случае замены на 0 при агрегации и поиске среднего значения получатся неверные результаты.\n",
    "- В Рейтинге организации (`rating`) 6871 (40 %) заменены на `no_available`.<span style='color: blue;'> Пропуски из за отсутствия рейтингов до 1994</span>"
   ]
  },
  {
   "cell_type": "markdown",
   "id": "bbbe3bda",
   "metadata": {
    "id": "bbbe3bda"
   },
   "source": [
    "- Обработаем пропущенные значения. \n",
    "- В данных с количеством проданных копий игры в том или ином регионе, заменяем на среднее значение в зависимости от названия платформы и года выхода игры."
   ]
  },
  {
   "cell_type": "code",
   "execution_count": 12,
   "id": "154be65d",
   "metadata": {
    "id": "154be65d"
   },
   "outputs": [],
   "source": [
    "# Определяем список колонок для замещения пропусков средними значениями по Году выпуска и Названию платформы\n",
    "sales_region = ['eu_sales', 'jp_sales']\n",
    "\n",
    "# Функция для заполнения пропусков средними значениями\n",
    "def mean_gr_sales(row):\n",
    "    if pd.isna(row[region]):\n",
    "        group = df[(df['platform'] == row['platform']) & \n",
    "                   (df['year_of_release'] == row['year_of_release'])]\n",
    "        return group[region].mean()    \n",
    "    else:\n",
    "        return row[region]\n",
    "    \n",
    "# Заполняем пропуски, используя функцию mean_gr_sales()    \n",
    "for region in sales_region:\n",
    "    df[region] = df.apply(mean_gr_sales, axis = 1)\n",
    "    "
   ]
  },
  {
   "cell_type": "code",
   "execution_count": 13,
   "id": "236f8fed",
   "metadata": {},
   "outputs": [
    {
     "data": {
      "text/plain": [
       "eu_sales    0\n",
       "jp_sales    0\n",
       "dtype: int64"
      ]
     },
     "execution_count": 13,
     "metadata": {},
     "output_type": "execute_result"
    }
   ],
   "source": [
    "# Проверяем результат замены на наличие пропущенных значений\n",
    "df[['eu_sales', 'jp_sales']].isna().sum()"
   ]
  },
  {
   "cell_type": "markdown",
   "id": "8e985c90",
   "metadata": {},
   "source": [
    "- Удалим строки с пропусками в колонках с Названием игры и жанра, т.к. их количество менее 1% и не повлияет на результат исследования"
   ]
  },
  {
   "cell_type": "code",
   "execution_count": 14,
   "id": "2784c760",
   "metadata": {
    "id": "2784c760"
   },
   "outputs": [
    {
     "data": {
      "text/html": [
       "<div>\n",
       "<style scoped>\n",
       "    .dataframe tbody tr th:only-of-type {\n",
       "        vertical-align: middle;\n",
       "    }\n",
       "\n",
       "    .dataframe tbody tr th {\n",
       "        vertical-align: top;\n",
       "    }\n",
       "\n",
       "    .dataframe thead th {\n",
       "        text-align: right;\n",
       "    }\n",
       "</style>\n",
       "<table border=\"1\" class=\"dataframe\">\n",
       "  <thead>\n",
       "    <tr style=\"text-align: right;\">\n",
       "      <th></th>\n",
       "      <th>name</th>\n",
       "      <th>platform</th>\n",
       "      <th>year_of_release</th>\n",
       "      <th>genre</th>\n",
       "      <th>na_sales</th>\n",
       "      <th>eu_sales</th>\n",
       "      <th>jp_sales</th>\n",
       "      <th>other_sales</th>\n",
       "      <th>critic_score</th>\n",
       "      <th>user_score</th>\n",
       "      <th>rating</th>\n",
       "    </tr>\n",
       "  </thead>\n",
       "  <tbody>\n",
       "  </tbody>\n",
       "</table>\n",
       "</div>"
      ],
      "text/plain": [
       "Empty DataFrame\n",
       "Columns: [name, platform, year_of_release, genre, na_sales, eu_sales, jp_sales, other_sales, critic_score, user_score, rating]\n",
       "Index: []"
      ]
     },
     "execution_count": 14,
     "metadata": {},
     "output_type": "execute_result"
    }
   ],
   "source": [
    "# Удаляем строки с пропусками\n",
    "df = df.dropna(subset = ['name'])\n",
    "\n",
    "# Проверяем результат удаления на наличие пропущенных значений\n",
    "df[df['name'].isna()]"
   ]
  },
  {
   "cell_type": "code",
   "execution_count": 15,
   "id": "3f42817b",
   "metadata": {
    "id": "3f42817b"
   },
   "outputs": [
    {
     "data": {
      "text/plain": [
       "name                  0\n",
       "platform              0\n",
       "year_of_release       0\n",
       "genre                 0\n",
       "na_sales              0\n",
       "eu_sales              0\n",
       "jp_sales              0\n",
       "other_sales           0\n",
       "critic_score       8712\n",
       "user_score         8078\n",
       "rating                0\n",
       "dtype: int64"
      ]
     },
     "metadata": {},
     "output_type": "display_data"
    },
    {
     "data": {
      "text/html": [
       "<div>\n",
       "<style scoped>\n",
       "    .dataframe tbody tr th:only-of-type {\n",
       "        vertical-align: middle;\n",
       "    }\n",
       "\n",
       "    .dataframe tbody tr th {\n",
       "        vertical-align: top;\n",
       "    }\n",
       "\n",
       "    .dataframe thead th {\n",
       "        text-align: right;\n",
       "    }\n",
       "</style>\n",
       "<table border=\"1\" class=\"dataframe\">\n",
       "  <thead>\n",
       "    <tr style=\"text-align: right;\">\n",
       "      <th></th>\n",
       "      <th>name</th>\n",
       "      <th>platform</th>\n",
       "      <th>year_of_release</th>\n",
       "      <th>genre</th>\n",
       "      <th>na_sales</th>\n",
       "      <th>eu_sales</th>\n",
       "      <th>jp_sales</th>\n",
       "      <th>other_sales</th>\n",
       "      <th>critic_score</th>\n",
       "      <th>user_score</th>\n",
       "      <th>rating</th>\n",
       "    </tr>\n",
       "  </thead>\n",
       "  <tbody>\n",
       "  </tbody>\n",
       "</table>\n",
       "</div>"
      ],
      "text/plain": [
       "Empty DataFrame\n",
       "Columns: [name, platform, year_of_release, genre, na_sales, eu_sales, jp_sales, other_sales, critic_score, user_score, rating]\n",
       "Index: []"
      ]
     },
     "execution_count": 15,
     "metadata": {},
     "output_type": "execute_result"
    }
   ],
   "source": [
    "# Проверим результат\n",
    "display(df.isna().sum())\n",
    "df[df['name'].isna()]"
   ]
  },
  {
   "cell_type": "markdown",
   "id": "a63363fd",
   "metadata": {
    "id": "a63363fd"
   },
   "source": [
    "### 2.4. Явные и неявные дубликаты в данных\n",
    "\n",
    "\n",
    "- Проведем нормализацию данных с текстовыми значениями. Названия или жанры игр приведем к нижнему регистру, а названия рейтинга — к верхнему."
   ]
  },
  {
   "cell_type": "code",
   "execution_count": 16,
   "id": "9e53cff4",
   "metadata": {
    "id": "9e53cff4"
   },
   "outputs": [
    {
     "name": "stdout",
     "output_type": "stream",
     "text": [
      "0                           wii sports\n",
      "1                    super mario bros.\n",
      "2                       mario kart wii\n",
      "3                    wii sports resort\n",
      "4             pokemon red/pokemon blue\n",
      "                     ...              \n",
      "16951    samurai warriors: sanada maru\n",
      "16952                 lma manager 2007\n",
      "16953          haitaka no psychedelica\n",
      "16954                 spirits & spells\n",
      "16955              winning post 8 2016\n",
      "Name: name, Length: 16954, dtype: object\n"
     ]
    }
   ],
   "source": [
    "# Определяем колонку для анализа\n",
    "col = 'name'\n",
    "\n",
    "# Сортируем данные колонки\n",
    "sorted_df = df[col].sort_values()\n",
    "\n",
    "# Приводим данные к нижнему регистру\n",
    "df[col] = sorted_df.str.lower()\n",
    "\n",
    "# Проверим результат\n",
    "print(df[col])"
   ]
  },
  {
   "cell_type": "code",
   "execution_count": 17,
   "id": "491c9c39",
   "metadata": {
    "id": "491c9c39"
   },
   "outputs": [
    {
     "name": "stdout",
     "output_type": "stream",
     "text": [
      "Исходные данные: genre\n",
      "ACTION\n",
      "ADVENTURE\n",
      "Action\n",
      "Adventure\n",
      "FIGHTING\n",
      "Fighting\n",
      "MISC\n",
      "Misc\n",
      "PLATFORM\n",
      "PUZZLE\n",
      "Platform\n",
      "Puzzle\n",
      "RACING\n",
      "ROLE-PLAYING\n",
      "Racing\n",
      "Role-Playing\n",
      "SHOOTER\n",
      "SIMULATION\n",
      "SPORTS\n",
      "STRATEGY\n",
      "Shooter\n",
      "Simulation\n",
      "Sports\n",
      "Strategy\n",
      "\n",
      "Нормализованные данные: genre\n",
      "action\n",
      "adventure\n",
      "fighting\n",
      "misc\n",
      "platform\n",
      "puzzle\n",
      "racing\n",
      "role-playing\n",
      "shooter\n",
      "simulation\n",
      "sports\n",
      "strategy\n"
     ]
    }
   ],
   "source": [
    "# Определяем колонку для анализа\n",
    "col = 'genre'\n",
    "\n",
    "# Сортируем и выадим уникальные значения исходных данных\n",
    "sorted_uniq = df[col].sort_values().unique()\n",
    "print(f'Исходные данные: {col}')\n",
    "print('\\n'.join(sorted_uniq))\n",
    "\n",
    "# Приводим данные в колонке Жанр к нижнему регистру\n",
    "df[col] = df[col].str.lower()\n",
    "\n",
    "print()\n",
    "# Вывадим уникальные значения нормализованных данных\n",
    "uniq_value = df[col].sort_values().unique()\n",
    "print(f'Нормализованные данные: {col}')\n",
    "print ('\\n'.join(uniq_value))"
   ]
  },
  {
   "cell_type": "code",
   "execution_count": 18,
   "id": "f1627198",
   "metadata": {
    "id": "f1627198"
   },
   "outputs": [
    {
     "name": "stdout",
     "output_type": "stream",
     "text": [
      "Исходные данные: platform\n",
      "2600\n",
      "3DO\n",
      "3DS\n",
      "DC\n",
      "DS\n",
      "GB\n",
      "GBA\n",
      "GC\n",
      "GEN\n",
      "GG\n",
      "N64\n",
      "NES\n",
      "NG\n",
      "PC\n",
      "PCFX\n",
      "PS\n",
      "PS2\n",
      "PS3\n",
      "PS4\n",
      "PSP\n",
      "PSV\n",
      "SAT\n",
      "SCD\n",
      "SNES\n",
      "TG16\n",
      "WS\n",
      "Wii\n",
      "WiiU\n",
      "X360\n",
      "XB\n",
      "XOne\n"
     ]
    }
   ],
   "source": [
    "# Определяем колонку для анализа\n",
    "col = 'platform'\n",
    "\n",
    "# Сортируем и выадим уникальные значения исходных данных\n",
    "sorted_uniq = df[col].sort_values().unique()\n",
    "\n",
    "print(f'Исходные данные: {col}')\n",
    "print('\\n'.join(sorted_uniq))"
   ]
  },
  {
   "cell_type": "code",
   "execution_count": 19,
   "id": "a0cac80c",
   "metadata": {
    "id": "a0cac80c"
   },
   "outputs": [
    {
     "name": "stdout",
     "output_type": "stream",
     "text": [
      "Исходные данные: rating\n",
      "AO\n",
      "E\n",
      "E10+\n",
      "EC\n",
      "K-A\n",
      "M\n",
      "RP\n",
      "T\n",
      "no_available\n",
      "\n",
      "Нормализованные данные: rating\n",
      "AO\n",
      "E\n",
      "E10+\n",
      "EC\n",
      "M\n",
      "NO_AVAILABLE\n",
      "RP\n",
      "T\n"
     ]
    }
   ],
   "source": [
    "# Определяем колонку для анализа\n",
    "col = 'rating'\n",
    "\n",
    "# Сортируем и выадим уникальные значения исходных данных\n",
    "sorted_uniq = df[col].sort_values().unique()\n",
    "\n",
    "print(f'Исходные данные: {col}')\n",
    "print('\\n'.join(sorted_uniq))\n",
    "\n",
    "# Приводим данные к верхнему регистру\n",
    "df[col] = df[col].str.upper()\n",
    "\n",
    "# Заменим рейтинг 'K-A' на 'E', так как 'K-A' это старое название 'E'\n",
    "df[col] = df[col].str.replace('K-A', 'E')\n",
    "\n",
    "print()\n",
    "\n",
    "# Сортируем и вывадим уникальные значения нормализованных данных\n",
    "uniq_value = df[col].sort_values().unique()\n",
    "\n",
    "print(f'Нормализованные данные: {col}')\n",
    "print ('\\n'.join(uniq_value))"
   ]
  },
  {
   "cell_type": "markdown",
   "id": "fc3d3db4",
   "metadata": {
    "id": "fc3d3db4"
   },
   "source": [
    "- Проверим наличие явных дубликатов в данных."
   ]
  },
  {
   "cell_type": "code",
   "execution_count": 20,
   "id": "29e57705",
   "metadata": {
    "id": "29e57705"
   },
   "outputs": [
    {
     "name": "stdout",
     "output_type": "stream",
     "text": [
      "Количество строк до удаления дубликатов: 16954\n",
      "Количество явных дубликатов: 482\n",
      "Доля явных дубликатов: 2.8 %\n",
      "Количество строк после удаления дубликатов: 16713\n",
      "Доля  удаленных предобработкой данных: 1.42 %\n"
     ]
    }
   ],
   "source": [
    "# Определяем количество строк в датафрейме до удаления дубликатов\n",
    "base_row_count = len(df)\n",
    "print(f'Количество строк до удаления дубликатов: {base_row_count}')\n",
    "\n",
    "# Сортируем датафрейм по всем столбцам\n",
    "df_sorted = df.sort_values(by=df.columns.tolist())\n",
    "\n",
    "# Находим количество дубликатов\n",
    "count_duplicates = df_sorted.duplicated(keep=False).sum()\n",
    "print(f'Количество явных дубликатов: {count_duplicates}')\n",
    "\n",
    "\n",
    "share_duplicate = round(count_duplicates / base_row_count * 100, 1)\n",
    "print(f'Доля явных дубликатов: {share_duplicate} %')\n",
    "\n",
    "# Удалите дублирующиеся строки\n",
    "df_cleaned = df.drop_duplicates() # subset=None, keep='first', inplace=False\n",
    "\n",
    "# Определяем количество строк в датафрейме после удаления дубликатов\n",
    "final_row_count = len(df_cleaned)\n",
    "print(f'Количество строк после удаления дубликатов: {final_row_count}')\n",
    "\n",
    "share_delited_rows = round((1 -  final_row_count / base_row_count)*100, 2)\n",
    "print(f'Доля  удаленных предобработкой данных: {share_delited_rows} %')"
   ]
  },
  {
   "cell_type": "markdown",
   "id": "0c59e32b",
   "metadata": {
    "id": "327e55bb"
   },
   "source": [
    "Промежуточный вывод:  \n",
    "- В данных было найдено и удалено <span style='color: blue;'> 482 </span> явных дубликатов, что составдяет несущественную долю 2.1% от всех данных.  \n",
    "- <span style='color: blue;'>Доля  удаленных предобработкой данных: 1.42 % </span>"
   ]
  },
  {
   "cell_type": "markdown",
   "id": "47613d75",
   "metadata": {
    "id": "47613d75"
   },
   "source": [
    "- После проведения предобработки данных напишите общий промежуточный вывод."
   ]
  },
  {
   "cell_type": "markdown",
   "id": "613f0eb0",
   "metadata": {
    "id": "613f0eb0"
   },
   "source": [
    "---\n",
    "\n",
    "## 3. Фильтрация данных\n",
    "\n",
    "- Для изучения истории продаж игр с 2000 по 2013 год включительно. Отберем данные и охраним новый срез в отдельном датафрейме `df_actual`."
   ]
  },
  {
   "cell_type": "code",
   "execution_count": 21,
   "id": "2344916d",
   "metadata": {
    "id": "2344916d"
   },
   "outputs": [
    {
     "name": "stdout",
     "output_type": "stream",
     "text": [
      " Min 2000\n",
      " Max 2013\n"
     ]
    }
   ],
   "source": [
    "# Отберём данные период с 2000 по 2013 год включительно\n",
    "df_actual = df[df['year_of_release'].between(2000, 2013)]\n",
    "\n",
    "# Проверим результат\n",
    "print(f\" Min {df_actual['year_of_release'].min()}\")\n",
    "print(f\" Max {df_actual['year_of_release'].max()}\")"
   ]
  },
  {
   "cell_type": "markdown",
   "id": "a6f10b01",
   "metadata": {
    "id": "a6f10b01"
   },
   "source": [
    "---\n",
    "\n",
    "## 4. Категоризация данных\n",
    "    \n",
    "Проведите категоризацию данных:\n",
    "- Разделим все игры по оценкам пользователей и выделим такие категории: высокая оценка (от 8 до 10 включительно), средняя оценка (от 3 до 8, не включая правую границу интервала) и низкая оценка (от 0 до 3, не включая правую границу интервала)."
   ]
  },
  {
   "cell_type": "code",
   "execution_count": 23,
   "id": "3db87229",
   "metadata": {
    "id": "3db87229"
   },
   "outputs": [
    {
     "data": {
      "text/html": [
       "<div>\n",
       "<style scoped>\n",
       "    .dataframe tbody tr th:only-of-type {\n",
       "        vertical-align: middle;\n",
       "    }\n",
       "\n",
       "    .dataframe tbody tr th {\n",
       "        vertical-align: top;\n",
       "    }\n",
       "\n",
       "    .dataframe thead th {\n",
       "        text-align: right;\n",
       "    }\n",
       "</style>\n",
       "<table border=\"1\" class=\"dataframe\">\n",
       "  <thead>\n",
       "    <tr style=\"text-align: right;\">\n",
       "      <th></th>\n",
       "      <th>user_score</th>\n",
       "      <th>group_user_score</th>\n",
       "    </tr>\n",
       "  </thead>\n",
       "  <tbody>\n",
       "    <tr>\n",
       "      <th>0</th>\n",
       "      <td>8.0</td>\n",
       "      <td>высокая оценка</td>\n",
       "    </tr>\n",
       "    <tr>\n",
       "      <th>2</th>\n",
       "      <td>8.3</td>\n",
       "      <td>высокая оценка</td>\n",
       "    </tr>\n",
       "    <tr>\n",
       "      <th>3</th>\n",
       "      <td>8.0</td>\n",
       "      <td>высокая оценка</td>\n",
       "    </tr>\n",
       "    <tr>\n",
       "      <th>6</th>\n",
       "      <td>8.5</td>\n",
       "      <td>высокая оценка</td>\n",
       "    </tr>\n",
       "    <tr>\n",
       "      <th>7</th>\n",
       "      <td>6.6</td>\n",
       "      <td>средняя оценка</td>\n",
       "    </tr>\n",
       "    <tr>\n",
       "      <th>...</th>\n",
       "      <td>...</td>\n",
       "      <td>...</td>\n",
       "    </tr>\n",
       "    <tr>\n",
       "      <th>16937</th>\n",
       "      <td>5.8</td>\n",
       "      <td>средняя оценка</td>\n",
       "    </tr>\n",
       "    <tr>\n",
       "      <th>16938</th>\n",
       "      <td>5.8</td>\n",
       "      <td>средняя оценка</td>\n",
       "    </tr>\n",
       "    <tr>\n",
       "      <th>16943</th>\n",
       "      <td>7.2</td>\n",
       "      <td>средняя оценка</td>\n",
       "    </tr>\n",
       "    <tr>\n",
       "      <th>16946</th>\n",
       "      <td>5.8</td>\n",
       "      <td>средняя оценка</td>\n",
       "    </tr>\n",
       "    <tr>\n",
       "      <th>16947</th>\n",
       "      <td>5.8</td>\n",
       "      <td>средняя оценка</td>\n",
       "    </tr>\n",
       "  </tbody>\n",
       "</table>\n",
       "<p>8876 rows × 2 columns</p>\n",
       "</div>"
      ],
      "text/plain": [
       "       user_score group_user_score\n",
       "0             8.0   высокая оценка\n",
       "2             8.3   высокая оценка\n",
       "3             8.0   высокая оценка\n",
       "6             8.5   высокая оценка\n",
       "7             6.6   средняя оценка\n",
       "...           ...              ...\n",
       "16937         5.8   средняя оценка\n",
       "16938         5.8   средняя оценка\n",
       "16943         7.2   средняя оценка\n",
       "16946         5.8   средняя оценка\n",
       "16947         5.8   средняя оценка\n",
       "\n",
       "[8876 rows x 2 columns]"
      ]
     },
     "execution_count": 23,
     "metadata": {},
     "output_type": "execute_result"
    }
   ],
   "source": [
    "# Создадим колонку с категориями оценки пользователей\n",
    "df['group_user_score'] = pd.cut(df['user_score'], bins=[0, 3, 8, 11], labels=[\"низкая оценка\", \"средняя оценка\", \"высокая оценка\"], right=False)\n",
    "\n",
    "# Проверим результат\n",
    "df[['user_score','group_user_score']][(df['user_score'].isna() == False)] "
   ]
  },
  {
   "cell_type": "markdown",
   "id": "f8f34b40",
   "metadata": {
    "id": "f8f34b40"
   },
   "source": [
    "- Разделим все игры по оценкам критиков и выделим такие категории: высокая оценка (от 80 до 100 включительно), средняя оценка (от 30 до 80, не включая правую границу интервала) и низкая оценка (от 0 до 30, не включая правую границу интервала)."
   ]
  },
  {
   "cell_type": "code",
   "execution_count": 24,
   "id": "e3f7acb0",
   "metadata": {
    "id": "e3f7acb0"
   },
   "outputs": [
    {
     "data": {
      "text/html": [
       "<div>\n",
       "<style scoped>\n",
       "    .dataframe tbody tr th:only-of-type {\n",
       "        vertical-align: middle;\n",
       "    }\n",
       "\n",
       "    .dataframe tbody tr th {\n",
       "        vertical-align: top;\n",
       "    }\n",
       "\n",
       "    .dataframe thead th {\n",
       "        text-align: right;\n",
       "    }\n",
       "</style>\n",
       "<table border=\"1\" class=\"dataframe\">\n",
       "  <thead>\n",
       "    <tr style=\"text-align: right;\">\n",
       "      <th></th>\n",
       "      <th>critic_score</th>\n",
       "      <th>group_critic_score</th>\n",
       "    </tr>\n",
       "  </thead>\n",
       "  <tbody>\n",
       "    <tr>\n",
       "      <th>0</th>\n",
       "      <td>76.0</td>\n",
       "      <td>middle</td>\n",
       "    </tr>\n",
       "    <tr>\n",
       "      <th>2</th>\n",
       "      <td>82.0</td>\n",
       "      <td>high</td>\n",
       "    </tr>\n",
       "    <tr>\n",
       "      <th>3</th>\n",
       "      <td>80.0</td>\n",
       "      <td>high</td>\n",
       "    </tr>\n",
       "    <tr>\n",
       "      <th>6</th>\n",
       "      <td>89.0</td>\n",
       "      <td>high</td>\n",
       "    </tr>\n",
       "    <tr>\n",
       "      <th>7</th>\n",
       "      <td>58.0</td>\n",
       "      <td>middle</td>\n",
       "    </tr>\n",
       "    <tr>\n",
       "      <th>...</th>\n",
       "      <td>...</td>\n",
       "      <td>...</td>\n",
       "    </tr>\n",
       "    <tr>\n",
       "      <th>16936</th>\n",
       "      <td>61.0</td>\n",
       "      <td>middle</td>\n",
       "    </tr>\n",
       "    <tr>\n",
       "      <th>16937</th>\n",
       "      <td>53.0</td>\n",
       "      <td>middle</td>\n",
       "    </tr>\n",
       "    <tr>\n",
       "      <th>16938</th>\n",
       "      <td>48.0</td>\n",
       "      <td>middle</td>\n",
       "    </tr>\n",
       "    <tr>\n",
       "      <th>16943</th>\n",
       "      <td>60.0</td>\n",
       "      <td>middle</td>\n",
       "    </tr>\n",
       "    <tr>\n",
       "      <th>16946</th>\n",
       "      <td>63.0</td>\n",
       "      <td>middle</td>\n",
       "    </tr>\n",
       "  </tbody>\n",
       "</table>\n",
       "<p>8242 rows × 2 columns</p>\n",
       "</div>"
      ],
      "text/plain": [
       "       critic_score group_critic_score\n",
       "0              76.0             middle\n",
       "2              82.0               high\n",
       "3              80.0               high\n",
       "6              89.0               high\n",
       "7              58.0             middle\n",
       "...             ...                ...\n",
       "16936          61.0             middle\n",
       "16937          53.0             middle\n",
       "16938          48.0             middle\n",
       "16943          60.0             middle\n",
       "16946          63.0             middle\n",
       "\n",
       "[8242 rows x 2 columns]"
      ]
     },
     "execution_count": 24,
     "metadata": {},
     "output_type": "execute_result"
    }
   ],
   "source": [
    "# Создадим колонку с категориями оценки критиков\n",
    "df['group_critic_score'] = pd.cut(df['critic_score'], bins = [0, 30, 80, 101], labels = ['low', 'middle', 'high'], right=False)\n",
    "\n",
    "# Проверим результат\n",
    "df[['critic_score','group_critic_score']][(df['critic_score'].isna() == False)]  "
   ]
  },
  {
   "cell_type": "markdown",
   "id": "olkTlTlAUDR9",
   "metadata": {
    "id": "olkTlTlAUDR9"
   },
   "source": [
    "- Проверим результат: сгруппируем данные по выделенным категориям и посчитаем количество игр в каждой категории."
   ]
  },
  {
   "cell_type": "code",
   "execution_count": 25,
   "id": "184a3a53",
   "metadata": {},
   "outputs": [
    {
     "name": "stdout",
     "output_type": "stream",
     "text": [
      "Количество игр для group_user_score\n",
      "низкая оценка       60.06\n",
      "средняя оценка    3276.54\n",
      "высокая оценка    2591.89\n",
      "dtype: float64\n",
      "Количество игр для group_critic_score\n",
      "low         13.08\n",
      "middle    2624.65\n",
      "high      3008.03\n",
      "dtype: float64\n"
     ]
    }
   ],
   "source": [
    "# Определим колонки для группировки\n",
    "gr_score = ['group_user_score', 'group_critic_score']\n",
    "\n",
    "# Cгруппируем данные по выделенным категориям и посчитаем количество игр по регионам\n",
    "for group in gr_score:\n",
    "    grouped_data = df.groupby(group).agg({'na_sales': 'sum', \n",
    "                                          'eu_sales': 'sum',\n",
    "                                          'jp_sales': 'sum',\n",
    "                                          'other_sales': 'sum'})\n",
    "    # Просуммируем продажи в регионах в каждой категории\n",
    "    grouped_data = grouped_data[['na_sales', 'eu_sales', 'jp_sales', 'other_sales']].sum(axis=1)\n",
    "    \n",
    "    # Выведем результат\n",
    "    print(f'Количество игр для {grouped_data}')\n"
   ]
  },
  {
   "cell_type": "markdown",
   "id": "6a98444c",
   "metadata": {
    "id": "6a98444c"
   },
   "source": [
    "- Выделите топ-7 платформ по количеству проданных игр, выпущенных за весь актуальный период."
   ]
  },
  {
   "cell_type": "code",
   "execution_count": 26,
   "id": "003caa2c",
   "metadata": {
    "id": "003caa2c"
   },
   "outputs": [
    {
     "data": {
      "text/html": [
       "<div>\n",
       "<style scoped>\n",
       "    .dataframe tbody tr th:only-of-type {\n",
       "        vertical-align: middle;\n",
       "    }\n",
       "\n",
       "    .dataframe tbody tr th {\n",
       "        vertical-align: top;\n",
       "    }\n",
       "\n",
       "    .dataframe thead th {\n",
       "        text-align: right;\n",
       "    }\n",
       "</style>\n",
       "<table border=\"1\" class=\"dataframe\">\n",
       "  <thead>\n",
       "    <tr style=\"text-align: right;\">\n",
       "      <th></th>\n",
       "      <th>name</th>\n",
       "    </tr>\n",
       "    <tr>\n",
       "      <th>platform</th>\n",
       "      <th></th>\n",
       "    </tr>\n",
       "  </thead>\n",
       "  <tbody>\n",
       "    <tr>\n",
       "      <th>PS2</th>\n",
       "      <td>2154</td>\n",
       "    </tr>\n",
       "    <tr>\n",
       "      <th>DS</th>\n",
       "      <td>2146</td>\n",
       "    </tr>\n",
       "    <tr>\n",
       "      <th>Wii</th>\n",
       "      <td>1294</td>\n",
       "    </tr>\n",
       "    <tr>\n",
       "      <th>PSP</th>\n",
       "      <td>1199</td>\n",
       "    </tr>\n",
       "    <tr>\n",
       "      <th>X360</th>\n",
       "      <td>1138</td>\n",
       "    </tr>\n",
       "    <tr>\n",
       "      <th>PS3</th>\n",
       "      <td>1107</td>\n",
       "    </tr>\n",
       "    <tr>\n",
       "      <th>GBA</th>\n",
       "      <td>826</td>\n",
       "    </tr>\n",
       "  </tbody>\n",
       "</table>\n",
       "</div>"
      ],
      "text/plain": [
       "          name\n",
       "platform      \n",
       "PS2       2154\n",
       "DS        2146\n",
       "Wii       1294\n",
       "PSP       1199\n",
       "X360      1138\n",
       "PS3       1107\n",
       "GBA        826"
      ]
     },
     "execution_count": 26,
     "metadata": {},
     "output_type": "execute_result"
    }
   ],
   "source": [
    "# Определим колонки для группировки\n",
    "gr_platform = ['platform']\n",
    "\n",
    "# Cгруппируем данные по выделенным категориям и посчитаем количество игр по регионам\n",
    "count_name = df_actual.groupby(gr_platform).agg({'name': 'count'})\n",
    "\n",
    "# Сортируем данные по продажам по убыванию и выводим первые 7 строк\n",
    "sorted_count_name = count_name[['name']].sort_values('name', ascending=False).head(7)\n",
    "\n",
    "# Выводим результат\n",
    "sorted_count_name"
   ]
  },
  {
   "cell_type": "markdown",
   "id": "c0158881",
   "metadata": {
    "id": "c0158881"
   },
   "source": [
    "---\n",
    "\n",
    "## 5. Итоговый вывод\n",
    "\n",
    "В конце напишите основной вывод и отразите, какую работу проделали. Не забудьте указать описание среза данных и новых полей, которые добавили в исходный датасет."
   ]
  },
  {
   "cell_type": "markdown",
   "id": "2315d8eb",
   "metadata": {
    "id": "20175f5b"
   },
   "source": [
    "Были загружены данные `/datasets/new_games.csv`. Датасет new_games.csv содержит 11 столбцов и 16956 строк, в которых представлена информация о игровых платформах и объёмах продаж игр разных жанров в различных регионах. При первичном знакомстве с данными и их предобработкой получили такие результаты:\n",
    "Предобработка данных включала в себя:\n",
    "- Названия столбцов датафрейма\n",
    "    - все названия столбцов были приведены к стилю snake caseю, то есть в нижнем регистре, а вместо пробелов — подчёркивания.\n",
    "- Преобразование типов данных в колонках датафрейма включали:\n",
    "    - `na_sales`, `eu_sales`, `jp_sales`, `user_score`:  тип данных изменён с `object` на `float64`.\n",
    "    - `year_of_release_int` (год выхода игры):  тип данных изменён с `float64` на  `int64`\n",
    "    - `platform`, `genre`, `rating`:  тип данных изменён с `object` на  `category`\n",
    "    - Формат object колонок year_of_release, na_sales, eu_sales, jp_sales, user_score, rating не соответствует числовому типу данных. Возможные причины - наличии в данных строковой информации или пустых значений.\n",
    "- Наличие пропусков в данных\n",
    "    - `na_sales`, `eu_sales`, `jp_sales`, `user_score`:  строковые данные заменены на пропуски.\n",
    "    - `name`, `genre`: количество пропусков 2 (0.1%) Были удалены.\n",
    "    - `eu_sales`, `jp_sales`: пропуски замещены средними значениями по Году выпуска и Названию платформы\n",
    "    - `critic_score`, `user_score`: количество пропусков 8714 (51 %),  8080 (47%). Оставлены без изменений\n",
    "    - `rating`: количество пропусков 6871 (40 %). Заменены на `no_available`\n",
    "- Явные и неявные дубликаты в данных\n",
    "    - проведена нормализация данных с текстовыми значениями. Названия или жанры игр приведены к нижнему регистру, а названия рейтинга — к верхнему.\n",
    " \n",
    "Фильтрация данных:  \n",
    "    - подготовлен срез данных `df_actual` в отдельном датафрейме за период с 2000 по 2013 год включительно. \n",
    "    \n",
    "Категоризация данных. Для дополнительной работы с данными были созданы дополнительные столбцы:  \n",
    "    - `group_user_score` категории по оценкам критиков: высокая оценка (от 8 до 10 включительно), средняя оценка (от 3 до 8, не включая правую границу интервала) и низкая оценка (от 0 до 3, не включая правую границу интервала).   \n",
    "    - `group_critic_score` категории по оценкам критиков: высокая оценка (от 80 до 100 включительно), средняя оценка (от 30 до 80, не включая правую границу интервала) и низкая оценка (от 0 до 30, не включая правую границу интервала).\n",
    "\n",
    "Создан отчет топ-7 платформ по количеству игр, выпущенных за весь актуальный период"
   ]
  },
  {
   "cell_type": "code",
   "execution_count": null,
   "id": "e5aa0c6d",
   "metadata": {},
   "outputs": [],
   "source": []
  }
 ],
 "metadata": {
  "ExecuteTimeLog": [
   {
    "duration": 348,
    "start_time": "2025-04-09T17:00:45.493Z"
   },
   {
    "duration": 96,
    "start_time": "2025-04-09T17:00:47.532Z"
   },
   {
    "duration": 60,
    "start_time": "2025-04-09T17:02:18.849Z"
   },
   {
    "duration": 84,
    "start_time": "2025-04-09T17:02:30.167Z"
   },
   {
    "duration": 16,
    "start_time": "2025-04-09T17:02:32.359Z"
   },
   {
    "duration": 82,
    "start_time": "2025-04-09T17:04:35.874Z"
   },
   {
    "duration": 15,
    "start_time": "2025-04-09T17:04:37.898Z"
   },
   {
    "duration": 28,
    "start_time": "2025-04-09T17:05:41.208Z"
   },
   {
    "duration": 23,
    "start_time": "2025-04-09T17:39:56.386Z"
   },
   {
    "duration": 15,
    "start_time": "2025-04-09T17:41:00.964Z"
   },
   {
    "duration": 11,
    "start_time": "2025-04-09T20:06:44.144Z"
   },
   {
    "duration": 7,
    "start_time": "2025-04-09T20:06:48.840Z"
   },
   {
    "duration": 7,
    "start_time": "2025-04-09T20:07:05.684Z"
   },
   {
    "duration": 7,
    "start_time": "2025-04-09T20:08:08.263Z"
   },
   {
    "duration": 6,
    "start_time": "2025-04-09T20:09:08.966Z"
   },
   {
    "duration": 4,
    "start_time": "2025-04-09T20:09:30.535Z"
   },
   {
    "duration": 95,
    "start_time": "2025-04-09T20:22:01.991Z"
   },
   {
    "duration": 93,
    "start_time": "2025-04-09T20:22:22.549Z"
   },
   {
    "duration": 79,
    "start_time": "2025-04-09T20:24:46.121Z"
   },
   {
    "duration": 80,
    "start_time": "2025-04-09T20:26:25.108Z"
   },
   {
    "duration": 81,
    "start_time": "2025-04-09T20:27:13.081Z"
   },
   {
    "duration": 97,
    "start_time": "2025-04-09T20:27:59.424Z"
   },
   {
    "duration": 73,
    "start_time": "2025-04-09T20:32:41.812Z"
   },
   {
    "duration": 5,
    "start_time": "2025-04-09T20:36:46.314Z"
   },
   {
    "duration": 4,
    "start_time": "2025-04-09T20:38:55.200Z"
   },
   {
    "duration": 6,
    "start_time": "2025-04-09T20:40:09.628Z"
   },
   {
    "duration": 7,
    "start_time": "2025-04-09T20:42:15.654Z"
   },
   {
    "duration": 8,
    "start_time": "2025-04-09T20:42:27.261Z"
   },
   {
    "duration": 7,
    "start_time": "2025-04-09T20:43:01.631Z"
   },
   {
    "duration": 4,
    "start_time": "2025-04-09T20:43:19.935Z"
   },
   {
    "duration": 7,
    "start_time": "2025-04-09T20:43:54.399Z"
   },
   {
    "duration": 3,
    "start_time": "2025-04-09T20:46:14.794Z"
   },
   {
    "duration": 3,
    "start_time": "2025-04-09T20:46:30.107Z"
   },
   {
    "duration": 3,
    "start_time": "2025-04-09T20:46:57.770Z"
   },
   {
    "duration": 363,
    "start_time": "2025-04-09T20:48:15.895Z"
   },
   {
    "duration": 180,
    "start_time": "2025-04-09T20:48:16.260Z"
   },
   {
    "duration": 16,
    "start_time": "2025-04-09T20:48:16.441Z"
   },
   {
    "duration": 20,
    "start_time": "2025-04-09T20:48:16.459Z"
   },
   {
    "duration": 16,
    "start_time": "2025-04-09T20:48:16.481Z"
   },
   {
    "duration": 27,
    "start_time": "2025-04-09T20:48:16.499Z"
   },
   {
    "duration": 12,
    "start_time": "2025-04-09T20:49:16.149Z"
   },
   {
    "duration": 4,
    "start_time": "2025-04-09T20:49:39.752Z"
   },
   {
    "duration": 4,
    "start_time": "2025-04-09T20:54:58.074Z"
   },
   {
    "duration": 5,
    "start_time": "2025-04-09T20:57:08.467Z"
   },
   {
    "duration": 438,
    "start_time": "2025-04-12T11:42:18.719Z"
   },
   {
    "duration": 144,
    "start_time": "2025-04-12T11:42:22.663Z"
   },
   {
    "duration": 19,
    "start_time": "2025-04-12T11:42:23.760Z"
   },
   {
    "duration": 22,
    "start_time": "2025-04-12T11:42:33.920Z"
   },
   {
    "duration": 4,
    "start_time": "2025-04-12T11:42:39.616Z"
   },
   {
    "duration": 6,
    "start_time": "2025-04-12T11:42:41.271Z"
   },
   {
    "duration": 67,
    "start_time": "2025-04-12T11:43:08.153Z"
   },
   {
    "duration": 17,
    "start_time": "2025-04-12T11:43:51.952Z"
   },
   {
    "duration": 7,
    "start_time": "2025-04-12T11:48:54.860Z"
   },
   {
    "duration": 7,
    "start_time": "2025-04-12T11:49:12.453Z"
   },
   {
    "duration": 13,
    "start_time": "2025-04-12T11:49:23.124Z"
   },
   {
    "duration": 18,
    "start_time": "2025-04-12T11:49:34.710Z"
   },
   {
    "duration": 12,
    "start_time": "2025-04-12T11:49:53.843Z"
   },
   {
    "duration": 19,
    "start_time": "2025-04-12T11:50:11.039Z"
   },
   {
    "duration": 43,
    "start_time": "2025-04-12T15:16:44.339Z"
   },
   {
    "duration": 417,
    "start_time": "2025-04-12T15:17:04.014Z"
   },
   {
    "duration": 82,
    "start_time": "2025-04-12T15:17:05.470Z"
   },
   {
    "duration": 16,
    "start_time": "2025-04-12T15:17:06.430Z"
   },
   {
    "duration": 21,
    "start_time": "2025-04-12T15:17:11.110Z"
   },
   {
    "duration": 27,
    "start_time": "2025-04-12T15:17:29.941Z"
   },
   {
    "duration": 1028,
    "start_time": "2025-04-12T15:17:51.223Z"
   },
   {
    "duration": 963,
    "start_time": "2025-04-12T15:18:53.241Z"
   },
   {
    "duration": 1025,
    "start_time": "2025-04-12T15:19:28.495Z"
   },
   {
    "duration": 1804,
    "start_time": "2025-04-12T15:21:52.536Z"
   },
   {
    "duration": 10,
    "start_time": "2025-04-12T15:22:17.017Z"
   },
   {
    "duration": 1065,
    "start_time": "2025-04-12T15:23:53.651Z"
   },
   {
    "duration": 1178,
    "start_time": "2025-04-12T15:26:09.068Z"
   },
   {
    "duration": 1420,
    "start_time": "2025-04-12T15:26:18.380Z"
   },
   {
    "duration": 954,
    "start_time": "2025-04-12T15:29:26.535Z"
   },
   {
    "duration": 7,
    "start_time": "2025-04-12T15:29:58.467Z"
   },
   {
    "duration": 1245,
    "start_time": "2025-04-12T15:33:44.329Z"
   },
   {
    "duration": 3,
    "start_time": "2025-04-12T15:41:31.492Z"
   },
   {
    "duration": 127,
    "start_time": "2025-04-12T15:41:32.525Z"
   },
   {
    "duration": 14,
    "start_time": "2025-04-12T15:41:35.524Z"
   },
   {
    "duration": 17,
    "start_time": "2025-04-12T15:41:40.621Z"
   },
   {
    "duration": 4,
    "start_time": "2025-04-12T15:41:47.873Z"
   },
   {
    "duration": 5,
    "start_time": "2025-04-12T15:41:48.707Z"
   },
   {
    "duration": 15,
    "start_time": "2025-04-12T15:41:53.320Z"
   },
   {
    "duration": 12,
    "start_time": "2025-04-12T15:41:55.731Z"
   },
   {
    "duration": 4,
    "start_time": "2025-04-12T15:42:03.838Z"
   },
   {
    "duration": 5,
    "start_time": "2025-04-12T15:42:38.216Z"
   },
   {
    "duration": 4,
    "start_time": "2025-04-12T15:43:20.925Z"
   },
   {
    "duration": 12,
    "start_time": "2025-04-12T15:46:26.052Z"
   },
   {
    "duration": 12,
    "start_time": "2025-04-12T16:00:44.388Z"
   },
   {
    "duration": 22,
    "start_time": "2025-04-12T16:01:33.899Z"
   },
   {
    "duration": 24,
    "start_time": "2025-04-12T16:03:00.722Z"
   },
   {
    "duration": 23,
    "start_time": "2025-04-12T16:04:36.204Z"
   },
   {
    "duration": 22,
    "start_time": "2025-04-12T16:05:22.014Z"
   },
   {
    "duration": 13,
    "start_time": "2025-04-12T16:07:47.015Z"
   },
   {
    "duration": 13,
    "start_time": "2025-04-12T16:08:57.878Z"
   },
   {
    "duration": 15,
    "start_time": "2025-04-12T16:09:35.038Z"
   },
   {
    "duration": 90,
    "start_time": "2025-04-12T16:12:06.048Z"
   },
   {
    "duration": 12,
    "start_time": "2025-04-12T16:12:14.113Z"
   },
   {
    "duration": 1095,
    "start_time": "2025-04-12T16:13:00.641Z"
   },
   {
    "duration": 5,
    "start_time": "2025-04-12T16:18:13.534Z"
   },
   {
    "duration": 5,
    "start_time": "2025-04-12T16:18:28.067Z"
   },
   {
    "duration": 5,
    "start_time": "2025-04-12T16:18:48.340Z"
   },
   {
    "duration": 5,
    "start_time": "2025-04-12T16:19:25.887Z"
   },
   {
    "duration": 15,
    "start_time": "2025-04-12T16:20:19.973Z"
   },
   {
    "duration": 4,
    "start_time": "2025-04-12T16:21:55.667Z"
   },
   {
    "duration": 4,
    "start_time": "2025-04-12T16:22:30.240Z"
   },
   {
    "duration": 4,
    "start_time": "2025-04-12T16:23:12.028Z"
   },
   {
    "duration": 4,
    "start_time": "2025-04-12T16:23:34.357Z"
   },
   {
    "duration": 4,
    "start_time": "2025-04-12T16:23:40.199Z"
   },
   {
    "duration": 15,
    "start_time": "2025-04-12T16:26:47.984Z"
   },
   {
    "duration": 12,
    "start_time": "2025-04-12T16:27:00.392Z"
   },
   {
    "duration": 12,
    "start_time": "2025-04-12T16:28:05.075Z"
   },
   {
    "duration": 13,
    "start_time": "2025-04-12T16:32:13.515Z"
   },
   {
    "duration": 13,
    "start_time": "2025-04-12T16:37:14.034Z"
   },
   {
    "duration": 6,
    "start_time": "2025-04-12T16:39:38.506Z"
   },
   {
    "duration": 16,
    "start_time": "2025-04-12T16:42:43.497Z"
   },
   {
    "duration": 21,
    "start_time": "2025-04-12T16:42:55.760Z"
   },
   {
    "duration": 22,
    "start_time": "2025-04-12T16:43:58.550Z"
   },
   {
    "duration": 8,
    "start_time": "2025-04-12T16:44:07.694Z"
   },
   {
    "duration": 9,
    "start_time": "2025-04-12T16:44:39.743Z"
   },
   {
    "duration": 9,
    "start_time": "2025-04-12T16:45:37.777Z"
   },
   {
    "duration": 7,
    "start_time": "2025-04-12T16:45:51.627Z"
   },
   {
    "duration": 8,
    "start_time": "2025-04-12T16:46:45.278Z"
   },
   {
    "duration": 385,
    "start_time": "2025-04-13T05:59:49.557Z"
   },
   {
    "duration": 114,
    "start_time": "2025-04-13T05:59:50.744Z"
   },
   {
    "duration": 16,
    "start_time": "2025-04-13T05:59:51.471Z"
   },
   {
    "duration": 21,
    "start_time": "2025-04-13T05:59:55.556Z"
   },
   {
    "duration": 3,
    "start_time": "2025-04-13T06:00:09.584Z"
   },
   {
    "duration": 5,
    "start_time": "2025-04-13T06:00:17.081Z"
   },
   {
    "duration": 14,
    "start_time": "2025-04-13T06:00:23.563Z"
   },
   {
    "duration": 13,
    "start_time": "2025-04-13T06:00:24.184Z"
   },
   {
    "duration": 8,
    "start_time": "2025-04-13T06:00:40.640Z"
   },
   {
    "duration": 8,
    "start_time": "2025-04-13T06:02:42.674Z"
   },
   {
    "duration": 10,
    "start_time": "2025-04-13T06:03:35.189Z"
   },
   {
    "duration": 6,
    "start_time": "2025-04-13T06:06:20.774Z"
   },
   {
    "duration": 5,
    "start_time": "2025-04-13T06:07:49.303Z"
   },
   {
    "duration": 8,
    "start_time": "2025-04-13T06:08:38.750Z"
   },
   {
    "duration": 7,
    "start_time": "2025-04-13T06:09:25.412Z"
   },
   {
    "duration": 1049,
    "start_time": "2025-04-13T06:10:51.055Z"
   },
   {
    "duration": 7,
    "start_time": "2025-04-13T06:12:03.056Z"
   },
   {
    "duration": 272,
    "start_time": "2025-04-13T06:33:36.006Z"
   },
   {
    "duration": 15,
    "start_time": "2025-04-13T06:34:16.397Z"
   },
   {
    "duration": 147,
    "start_time": "2025-04-13T06:38:06.935Z"
   },
   {
    "duration": 4,
    "start_time": "2025-04-13T06:50:47.532Z"
   },
   {
    "duration": 22,
    "start_time": "2025-04-13T06:51:01.427Z"
   },
   {
    "duration": 13,
    "start_time": "2025-04-13T06:59:09.913Z"
   },
   {
    "duration": 431,
    "start_time": "2025-04-13T11:16:11.649Z"
   },
   {
    "duration": 161,
    "start_time": "2025-04-13T11:16:12.082Z"
   },
   {
    "duration": 20,
    "start_time": "2025-04-13T11:16:12.244Z"
   },
   {
    "duration": 25,
    "start_time": "2025-04-13T11:16:12.266Z"
   },
   {
    "duration": 3,
    "start_time": "2025-04-13T11:16:12.294Z"
   },
   {
    "duration": 7,
    "start_time": "2025-04-13T11:16:12.298Z"
   },
   {
    "duration": 49,
    "start_time": "2025-04-13T11:16:12.307Z"
   },
   {
    "duration": 15,
    "start_time": "2025-04-13T11:16:12.358Z"
   },
   {
    "duration": 14,
    "start_time": "2025-04-13T11:16:12.375Z"
   },
   {
    "duration": 18,
    "start_time": "2025-04-13T11:16:12.390Z"
   },
   {
    "duration": 200,
    "start_time": "2025-04-13T11:16:12.409Z"
   },
   {
    "duration": 0,
    "start_time": "2025-04-13T11:16:12.611Z"
   },
   {
    "duration": 0,
    "start_time": "2025-04-13T11:16:12.612Z"
   },
   {
    "duration": 0,
    "start_time": "2025-04-13T11:16:12.613Z"
   },
   {
    "duration": 0,
    "start_time": "2025-04-13T11:16:12.615Z"
   },
   {
    "duration": 134,
    "start_time": "2025-04-13T11:17:35.989Z"
   },
   {
    "duration": 168,
    "start_time": "2025-04-13T11:17:48.780Z"
   },
   {
    "duration": 146,
    "start_time": "2025-04-13T11:21:14.079Z"
   },
   {
    "duration": 155,
    "start_time": "2025-04-13T11:21:42.910Z"
   },
   {
    "duration": 17,
    "start_time": "2025-04-13T11:23:04.630Z"
   },
   {
    "duration": 140,
    "start_time": "2025-04-13T11:23:38.766Z"
   },
   {
    "duration": 133,
    "start_time": "2025-04-13T11:24:34.215Z"
   },
   {
    "duration": 19,
    "start_time": "2025-04-13T11:26:32.080Z"
   },
   {
    "duration": 11,
    "start_time": "2025-04-13T11:27:09.519Z"
   },
   {
    "duration": 17,
    "start_time": "2025-04-13T11:27:12.575Z"
   },
   {
    "duration": 84,
    "start_time": "2025-04-13T11:36:25.063Z"
   },
   {
    "duration": 1039,
    "start_time": "2025-04-13T11:36:32.773Z"
   },
   {
    "duration": 18,
    "start_time": "2025-04-13T11:37:14.391Z"
   },
   {
    "duration": 13,
    "start_time": "2025-04-13T11:37:27.000Z"
   },
   {
    "duration": 105,
    "start_time": "2025-04-13T11:55:04.116Z"
   },
   {
    "duration": 1347,
    "start_time": "2025-04-13T11:55:19.682Z"
   },
   {
    "duration": 1138,
    "start_time": "2025-04-13T11:55:57.195Z"
   },
   {
    "duration": 9,
    "start_time": "2025-04-13T11:58:41.378Z"
   },
   {
    "duration": 9,
    "start_time": "2025-04-13T12:05:07.091Z"
   },
   {
    "duration": 128,
    "start_time": "2025-04-13T12:08:48.123Z"
   },
   {
    "duration": 10,
    "start_time": "2025-04-13T12:08:56.315Z"
   },
   {
    "duration": 20,
    "start_time": "2025-04-13T12:09:13.908Z"
   },
   {
    "duration": 509,
    "start_time": "2025-04-13T12:10:49.989Z"
   },
   {
    "duration": 7,
    "start_time": "2025-04-13T12:11:30.223Z"
   },
   {
    "duration": 87,
    "start_time": "2025-04-13T12:54:50.652Z"
   },
   {
    "duration": 6,
    "start_time": "2025-04-13T13:29:51.236Z"
   },
   {
    "duration": 5,
    "start_time": "2025-04-13T13:29:59.260Z"
   },
   {
    "duration": 16,
    "start_time": "2025-04-13T13:31:36.478Z"
   },
   {
    "duration": 86,
    "start_time": "2025-04-13T13:33:34.656Z"
   },
   {
    "duration": 87,
    "start_time": "2025-04-13T13:34:14.152Z"
   },
   {
    "duration": 28,
    "start_time": "2025-04-13T13:34:54.994Z"
   },
   {
    "duration": 32,
    "start_time": "2025-04-13T13:35:57.595Z"
   },
   {
    "duration": 15,
    "start_time": "2025-04-13T13:36:26.649Z"
   },
   {
    "duration": 30,
    "start_time": "2025-04-13T13:37:15.057Z"
   },
   {
    "duration": 14,
    "start_time": "2025-04-13T13:37:30.729Z"
   },
   {
    "duration": 13,
    "start_time": "2025-04-13T13:37:55.737Z"
   },
   {
    "duration": 9,
    "start_time": "2025-04-13T13:38:14.707Z"
   },
   {
    "duration": 26,
    "start_time": "2025-04-13T13:38:38.715Z"
   },
   {
    "duration": 103,
    "start_time": "2025-04-13T13:39:36.060Z"
   },
   {
    "duration": 102,
    "start_time": "2025-04-13T13:39:54.035Z"
   },
   {
    "duration": 24,
    "start_time": "2025-04-13T13:40:04.347Z"
   },
   {
    "duration": 15,
    "start_time": "2025-04-13T13:40:57.219Z"
   },
   {
    "duration": 18,
    "start_time": "2025-04-13T13:41:58.253Z"
   },
   {
    "duration": 16,
    "start_time": "2025-04-13T13:42:21.187Z"
   },
   {
    "duration": 24,
    "start_time": "2025-04-13T13:42:54.593Z"
   },
   {
    "duration": 175,
    "start_time": "2025-04-13T13:45:15.304Z"
   },
   {
    "duration": 15,
    "start_time": "2025-04-13T13:45:49.880Z"
   },
   {
    "duration": 14,
    "start_time": "2025-04-13T13:47:32.336Z"
   },
   {
    "duration": 11,
    "start_time": "2025-04-13T13:56:29.116Z"
   },
   {
    "duration": 139,
    "start_time": "2025-04-13T13:57:28.948Z"
   },
   {
    "duration": 15,
    "start_time": "2025-04-13T13:57:44.717Z"
   },
   {
    "duration": 82,
    "start_time": "2025-04-13T13:58:46.476Z"
   },
   {
    "duration": 117,
    "start_time": "2025-04-13T13:58:59.086Z"
   },
   {
    "duration": 125,
    "start_time": "2025-04-13T13:59:22.934Z"
   },
   {
    "duration": 122,
    "start_time": "2025-04-13T13:59:59.553Z"
   },
   {
    "duration": 151,
    "start_time": "2025-04-13T14:00:54.392Z"
   },
   {
    "duration": 9,
    "start_time": "2025-04-13T14:01:19.344Z"
   },
   {
    "duration": 79,
    "start_time": "2025-04-13T14:03:13.835Z"
   },
   {
    "duration": 9,
    "start_time": "2025-04-13T15:56:19.750Z"
   },
   {
    "duration": 4,
    "start_time": "2025-04-13T16:04:20.162Z"
   },
   {
    "duration": 6,
    "start_time": "2025-04-13T16:04:24.764Z"
   },
   {
    "duration": 7,
    "start_time": "2025-04-13T16:05:08.987Z"
   },
   {
    "duration": 5,
    "start_time": "2025-04-13T16:05:59.460Z"
   },
   {
    "duration": 22,
    "start_time": "2025-04-13T16:10:41.395Z"
   },
   {
    "duration": 22,
    "start_time": "2025-04-13T16:30:38.232Z"
   },
   {
    "duration": 21,
    "start_time": "2025-04-13T16:31:05.202Z"
   },
   {
    "duration": 4,
    "start_time": "2025-04-13T16:37:37.531Z"
   },
   {
    "duration": 67,
    "start_time": "2025-04-13T16:45:19.732Z"
   },
   {
    "duration": 13,
    "start_time": "2025-04-13T16:45:40.870Z"
   },
   {
    "duration": 4,
    "start_time": "2025-04-13T16:47:00.840Z"
   },
   {
    "duration": 16,
    "start_time": "2025-04-13T16:47:12.716Z"
   },
   {
    "duration": 77,
    "start_time": "2025-04-13T16:48:54.921Z"
   },
   {
    "duration": 5,
    "start_time": "2025-04-13T16:49:16.599Z"
   },
   {
    "duration": 16,
    "start_time": "2025-04-13T16:49:31.449Z"
   },
   {
    "duration": 15,
    "start_time": "2025-04-13T16:51:03.369Z"
   },
   {
    "duration": 5,
    "start_time": "2025-04-13T16:51:47.835Z"
   },
   {
    "duration": 5,
    "start_time": "2025-04-13T16:52:09.939Z"
   },
   {
    "duration": 75,
    "start_time": "2025-04-13T17:02:02.162Z"
   },
   {
    "duration": 79,
    "start_time": "2025-04-13T17:02:34.434Z"
   },
   {
    "duration": 87,
    "start_time": "2025-04-13T17:02:54.261Z"
   },
   {
    "duration": 18,
    "start_time": "2025-04-13T17:03:01.345Z"
   },
   {
    "duration": 18,
    "start_time": "2025-04-13T17:04:03.961Z"
   },
   {
    "duration": 18,
    "start_time": "2025-04-13T17:04:38.914Z"
   },
   {
    "duration": 72,
    "start_time": "2025-04-13T17:04:51.230Z"
   },
   {
    "duration": 16,
    "start_time": "2025-04-13T17:06:38.814Z"
   },
   {
    "duration": 17,
    "start_time": "2025-04-13T17:11:53.402Z"
   },
   {
    "duration": 16,
    "start_time": "2025-04-13T17:12:30.298Z"
   },
   {
    "duration": 8,
    "start_time": "2025-04-13T17:14:24.933Z"
   },
   {
    "duration": 11,
    "start_time": "2025-04-13T17:16:17.127Z"
   },
   {
    "duration": 17,
    "start_time": "2025-04-13T17:16:33.958Z"
   },
   {
    "duration": 4,
    "start_time": "2025-04-13T17:22:57.836Z"
   },
   {
    "duration": 6,
    "start_time": "2025-04-13T17:23:11.189Z"
   },
   {
    "duration": 21,
    "start_time": "2025-04-13T17:24:02.190Z"
   },
   {
    "duration": 6,
    "start_time": "2025-04-13T17:25:29.079Z"
   },
   {
    "duration": 1116,
    "start_time": "2025-04-13T17:27:13.857Z"
   },
   {
    "duration": 17,
    "start_time": "2025-04-13T17:28:34.233Z"
   },
   {
    "duration": 988,
    "start_time": "2025-04-13T17:28:55.839Z"
   },
   {
    "duration": 5,
    "start_time": "2025-04-13T17:29:09.746Z"
   },
   {
    "duration": 18,
    "start_time": "2025-04-13T17:29:46.051Z"
   },
   {
    "duration": 10,
    "start_time": "2025-04-13T17:30:19.451Z"
   },
   {
    "duration": 9,
    "start_time": "2025-04-13T17:30:28.655Z"
   },
   {
    "duration": 13,
    "start_time": "2025-04-13T17:31:07.882Z"
   },
   {
    "duration": 5,
    "start_time": "2025-04-13T17:31:35.572Z"
   },
   {
    "duration": 8,
    "start_time": "2025-04-13T17:34:28.911Z"
   },
   {
    "duration": 9,
    "start_time": "2025-04-13T17:34:44.365Z"
   },
   {
    "duration": 18,
    "start_time": "2025-04-13T17:35:04.796Z"
   },
   {
    "duration": 16,
    "start_time": "2025-04-13T17:41:19.280Z"
   },
   {
    "duration": 10,
    "start_time": "2025-04-13T17:41:24.285Z"
   },
   {
    "duration": 22,
    "start_time": "2025-04-13T17:41:43.391Z"
   },
   {
    "duration": 17,
    "start_time": "2025-04-13T17:42:15.832Z"
   },
   {
    "duration": 13,
    "start_time": "2025-04-13T17:42:21.886Z"
   },
   {
    "duration": 81,
    "start_time": "2025-04-13T17:43:25.006Z"
   },
   {
    "duration": 89,
    "start_time": "2025-04-13T17:44:11.959Z"
   },
   {
    "duration": 19,
    "start_time": "2025-04-13T17:44:22.685Z"
   },
   {
    "duration": 21,
    "start_time": "2025-04-13T17:45:12.824Z"
   },
   {
    "duration": 27,
    "start_time": "2025-04-13T17:46:55.314Z"
   },
   {
    "duration": 75,
    "start_time": "2025-04-13T17:47:30.876Z"
   },
   {
    "duration": 9,
    "start_time": "2025-04-13T17:47:50.920Z"
   },
   {
    "duration": 7,
    "start_time": "2025-04-13T17:53:00.652Z"
   },
   {
    "duration": 19,
    "start_time": "2025-04-13T17:53:22.595Z"
   },
   {
    "duration": 11,
    "start_time": "2025-04-13T17:54:28.282Z"
   },
   {
    "duration": 9,
    "start_time": "2025-04-13T17:54:38.226Z"
   },
   {
    "duration": 10,
    "start_time": "2025-04-13T18:21:54.017Z"
   },
   {
    "duration": 29,
    "start_time": "2025-04-13T19:12:36.284Z"
   },
   {
    "duration": 20,
    "start_time": "2025-04-13T19:15:04.246Z"
   },
   {
    "duration": 353,
    "start_time": "2025-04-13T19:18:56.192Z"
   },
   {
    "duration": 13,
    "start_time": "2025-04-13T19:19:01.676Z"
   },
   {
    "duration": 18,
    "start_time": "2025-04-13T19:20:22.041Z"
   },
   {
    "duration": 19,
    "start_time": "2025-04-13T19:22:21.803Z"
   },
   {
    "duration": 325,
    "start_time": "2025-04-13T19:24:03.845Z"
   },
   {
    "duration": 15,
    "start_time": "2025-04-13T19:24:06.418Z"
   },
   {
    "duration": 317,
    "start_time": "2025-04-13T19:24:51.574Z"
   },
   {
    "duration": 20,
    "start_time": "2025-04-13T19:26:24.480Z"
   },
   {
    "duration": 6,
    "start_time": "2025-04-13T19:31:22.333Z"
   },
   {
    "duration": 15,
    "start_time": "2025-04-13T19:31:28.688Z"
   },
   {
    "duration": 5,
    "start_time": "2025-04-13T19:38:29.386Z"
   },
   {
    "duration": 6,
    "start_time": "2025-04-13T19:38:43.963Z"
   },
   {
    "duration": 15,
    "start_time": "2025-04-13T19:45:25.708Z"
   },
   {
    "duration": 25,
    "start_time": "2025-04-13T19:45:44.404Z"
   },
   {
    "duration": 26,
    "start_time": "2025-04-13T19:47:59.072Z"
   },
   {
    "duration": 20,
    "start_time": "2025-04-13T19:53:11.326Z"
   },
   {
    "duration": 19,
    "start_time": "2025-04-13T19:59:30.423Z"
   },
   {
    "duration": 330,
    "start_time": "2025-04-13T20:31:02.079Z"
   },
   {
    "duration": 334,
    "start_time": "2025-04-13T20:31:29.352Z"
   },
   {
    "duration": 328,
    "start_time": "2025-04-13T20:34:25.138Z"
   },
   {
    "duration": 6,
    "start_time": "2025-04-13T20:35:07.299Z"
   },
   {
    "duration": 347,
    "start_time": "2025-04-13T20:36:39.901Z"
   },
   {
    "duration": 322,
    "start_time": "2025-04-13T20:37:03.148Z"
   },
   {
    "duration": 324,
    "start_time": "2025-04-13T20:38:34.613Z"
   },
   {
    "duration": 316,
    "start_time": "2025-04-13T20:45:22.873Z"
   },
   {
    "duration": 327,
    "start_time": "2025-04-13T20:45:59.300Z"
   },
   {
    "duration": 318,
    "start_time": "2025-04-13T20:48:45.996Z"
   },
   {
    "duration": 25,
    "start_time": "2025-04-13T20:49:07.829Z"
   },
   {
    "duration": 326,
    "start_time": "2025-04-13T20:58:15.862Z"
   },
   {
    "duration": 24,
    "start_time": "2025-04-13T20:58:20.673Z"
   },
   {
    "duration": 1308,
    "start_time": "2025-04-13T20:58:53.125Z"
   },
   {
    "duration": 63,
    "start_time": "2025-04-13T21:03:03.913Z"
   },
   {
    "duration": 476,
    "start_time": "2025-04-13T21:03:59.005Z"
   },
   {
    "duration": 121,
    "start_time": "2025-04-13T21:03:59.484Z"
   },
   {
    "duration": 16,
    "start_time": "2025-04-13T21:03:59.607Z"
   },
   {
    "duration": 40,
    "start_time": "2025-04-13T21:03:59.626Z"
   },
   {
    "duration": 5,
    "start_time": "2025-04-13T21:03:59.668Z"
   },
   {
    "duration": 8,
    "start_time": "2025-04-13T21:03:59.675Z"
   },
   {
    "duration": 8,
    "start_time": "2025-04-13T21:03:59.685Z"
   },
   {
    "duration": 42,
    "start_time": "2025-04-13T21:03:59.695Z"
   },
   {
    "duration": 1446,
    "start_time": "2025-04-13T21:03:59.739Z"
   },
   {
    "duration": 0,
    "start_time": "2025-04-13T21:04:01.187Z"
   },
   {
    "duration": 0,
    "start_time": "2025-04-13T21:04:01.190Z"
   },
   {
    "duration": 0,
    "start_time": "2025-04-13T21:04:01.191Z"
   },
   {
    "duration": 0,
    "start_time": "2025-04-13T21:04:01.192Z"
   },
   {
    "duration": 0,
    "start_time": "2025-04-13T21:04:01.193Z"
   },
   {
    "duration": 0,
    "start_time": "2025-04-13T21:04:01.194Z"
   },
   {
    "duration": 0,
    "start_time": "2025-04-13T21:04:01.195Z"
   },
   {
    "duration": 0,
    "start_time": "2025-04-13T21:04:01.196Z"
   },
   {
    "duration": 0,
    "start_time": "2025-04-13T21:04:01.197Z"
   },
   {
    "duration": 0,
    "start_time": "2025-04-13T21:04:01.198Z"
   },
   {
    "duration": 0,
    "start_time": "2025-04-13T21:04:01.199Z"
   },
   {
    "duration": 0,
    "start_time": "2025-04-13T21:04:01.200Z"
   },
   {
    "duration": 1168,
    "start_time": "2025-04-13T21:05:45.680Z"
   },
   {
    "duration": 27,
    "start_time": "2025-04-13T21:05:58.971Z"
   },
   {
    "duration": 6,
    "start_time": "2025-04-13T21:06:07.052Z"
   },
   {
    "duration": 45,
    "start_time": "2025-04-13T21:06:13.334Z"
   },
   {
    "duration": 13,
    "start_time": "2025-04-13T21:06:19.276Z"
   },
   {
    "duration": 18,
    "start_time": "2025-04-13T21:06:22.196Z"
   },
   {
    "duration": 6,
    "start_time": "2025-04-13T21:06:24.908Z"
   },
   {
    "duration": 8,
    "start_time": "2025-04-13T21:06:29.500Z"
   },
   {
    "duration": 12,
    "start_time": "2025-04-13T21:06:30.867Z"
   },
   {
    "duration": 48,
    "start_time": "2025-04-13T21:07:27.593Z"
   },
   {
    "duration": 410,
    "start_time": "2025-04-14T04:52:24.325Z"
   },
   {
    "duration": 127,
    "start_time": "2025-04-14T04:52:24.737Z"
   },
   {
    "duration": 17,
    "start_time": "2025-04-14T04:52:24.865Z"
   },
   {
    "duration": 52,
    "start_time": "2025-04-14T04:52:24.884Z"
   },
   {
    "duration": 4,
    "start_time": "2025-04-14T04:52:24.937Z"
   },
   {
    "duration": 9,
    "start_time": "2025-04-14T04:52:24.942Z"
   },
   {
    "duration": 4,
    "start_time": "2025-04-14T04:52:24.952Z"
   },
   {
    "duration": 24,
    "start_time": "2025-04-14T04:52:24.957Z"
   },
   {
    "duration": 17,
    "start_time": "2025-04-14T04:52:24.982Z"
   },
   {
    "duration": 35,
    "start_time": "2025-04-14T04:52:25.002Z"
   },
   {
    "duration": 30,
    "start_time": "2025-04-14T04:52:25.039Z"
   },
   {
    "duration": 10,
    "start_time": "2025-04-14T04:52:25.070Z"
   },
   {
    "duration": 13,
    "start_time": "2025-04-14T04:52:25.082Z"
   },
   {
    "duration": 41,
    "start_time": "2025-04-14T04:52:25.096Z"
   },
   {
    "duration": 8,
    "start_time": "2025-04-14T04:52:25.138Z"
   },
   {
    "duration": 10,
    "start_time": "2025-04-14T04:52:25.147Z"
   },
   {
    "duration": 398,
    "start_time": "2025-04-14T04:53:22.034Z"
   },
   {
    "duration": 80,
    "start_time": "2025-04-14T04:53:22.752Z"
   },
   {
    "duration": 15,
    "start_time": "2025-04-14T04:53:23.554Z"
   },
   {
    "duration": 22,
    "start_time": "2025-04-14T04:53:30.184Z"
   },
   {
    "duration": 4,
    "start_time": "2025-04-14T04:53:49.377Z"
   },
   {
    "duration": 5,
    "start_time": "2025-04-14T04:53:52.161Z"
   },
   {
    "duration": 5,
    "start_time": "2025-04-14T04:53:52.888Z"
   },
   {
    "duration": 25,
    "start_time": "2025-04-14T04:54:04.520Z"
   },
   {
    "duration": 17,
    "start_time": "2025-04-14T04:54:08.721Z"
   },
   {
    "duration": 5,
    "start_time": "2025-04-14T04:54:14.714Z"
   },
   {
    "duration": 30,
    "start_time": "2025-04-14T04:55:11.779Z"
   },
   {
    "duration": 9,
    "start_time": "2025-04-14T04:55:21.913Z"
   },
   {
    "duration": 12,
    "start_time": "2025-04-14T04:55:24.810Z"
   },
   {
    "duration": 5,
    "start_time": "2025-04-14T04:55:25.877Z"
   },
   {
    "duration": 9,
    "start_time": "2025-04-14T04:55:29.323Z"
   },
   {
    "duration": 11,
    "start_time": "2025-04-14T04:55:30.569Z"
   },
   {
    "duration": 48,
    "start_time": "2025-04-14T04:55:59.634Z"
   },
   {
    "duration": 363,
    "start_time": "2025-04-14T05:00:40.789Z"
   },
   {
    "duration": 155,
    "start_time": "2025-04-14T05:00:41.153Z"
   },
   {
    "duration": 16,
    "start_time": "2025-04-14T05:00:41.309Z"
   },
   {
    "duration": 21,
    "start_time": "2025-04-14T05:00:41.326Z"
   },
   {
    "duration": 3,
    "start_time": "2025-04-14T05:00:41.349Z"
   },
   {
    "duration": 5,
    "start_time": "2025-04-14T05:00:41.353Z"
   },
   {
    "duration": 5,
    "start_time": "2025-04-14T05:00:41.359Z"
   },
   {
    "duration": 21,
    "start_time": "2025-04-14T05:00:41.365Z"
   },
   {
    "duration": 14,
    "start_time": "2025-04-14T05:00:41.388Z"
   },
   {
    "duration": 58,
    "start_time": "2025-04-14T05:00:41.403Z"
   },
   {
    "duration": 45,
    "start_time": "2025-04-14T05:00:41.463Z"
   },
   {
    "duration": 12,
    "start_time": "2025-04-14T05:00:41.509Z"
   },
   {
    "duration": 6,
    "start_time": "2025-04-14T05:00:41.522Z"
   },
   {
    "duration": 9,
    "start_time": "2025-04-14T05:00:41.530Z"
   },
   {
    "duration": 11,
    "start_time": "2025-04-14T05:00:41.540Z"
   },
   {
    "duration": 401,
    "start_time": "2025-04-14T05:00:41.553Z"
   },
   {
    "duration": 0,
    "start_time": "2025-04-14T05:00:41.956Z"
   },
   {
    "duration": 0,
    "start_time": "2025-04-14T05:00:41.957Z"
   },
   {
    "duration": 0,
    "start_time": "2025-04-14T05:00:41.958Z"
   },
   {
    "duration": 0,
    "start_time": "2025-04-14T05:00:41.958Z"
   },
   {
    "duration": 20,
    "start_time": "2025-04-14T05:01:48.098Z"
   },
   {
    "duration": 10,
    "start_time": "2025-04-14T05:02:32.937Z"
   },
   {
    "duration": 452,
    "start_time": "2025-04-14T05:04:16.214Z"
   },
   {
    "duration": 132,
    "start_time": "2025-04-14T05:04:17.450Z"
   },
   {
    "duration": 17,
    "start_time": "2025-04-14T05:04:18.367Z"
   },
   {
    "duration": 9,
    "start_time": "2025-04-14T05:04:29.548Z"
   },
   {
    "duration": 5,
    "start_time": "2025-04-14T05:04:35.140Z"
   },
   {
    "duration": 5,
    "start_time": "2025-04-14T05:04:43.666Z"
   },
   {
    "duration": 24,
    "start_time": "2025-04-14T05:04:56.594Z"
   },
   {
    "duration": 18,
    "start_time": "2025-04-14T05:05:43.667Z"
   },
   {
    "duration": 31,
    "start_time": "2025-04-14T05:05:59.795Z"
   },
   {
    "duration": 11,
    "start_time": "2025-04-14T05:06:05.954Z"
   },
   {
    "duration": 13,
    "start_time": "2025-04-14T05:06:07.491Z"
   },
   {
    "duration": 6,
    "start_time": "2025-04-14T05:06:08.827Z"
   },
   {
    "duration": 12,
    "start_time": "2025-04-14T05:06:15.603Z"
   },
   {
    "duration": 10,
    "start_time": "2025-04-14T05:06:17.457Z"
   },
   {
    "duration": 457,
    "start_time": "2025-04-14T05:09:16.114Z"
   },
   {
    "duration": 150,
    "start_time": "2025-04-14T05:09:16.573Z"
   },
   {
    "duration": 15,
    "start_time": "2025-04-14T05:09:16.724Z"
   },
   {
    "duration": 23,
    "start_time": "2025-04-14T05:09:16.741Z"
   },
   {
    "duration": 4,
    "start_time": "2025-04-14T05:09:16.765Z"
   },
   {
    "duration": 5,
    "start_time": "2025-04-14T05:09:16.770Z"
   },
   {
    "duration": 10,
    "start_time": "2025-04-14T05:09:16.777Z"
   },
   {
    "duration": 56,
    "start_time": "2025-04-14T05:09:16.789Z"
   },
   {
    "duration": 16,
    "start_time": "2025-04-14T05:09:16.846Z"
   },
   {
    "duration": 31,
    "start_time": "2025-04-14T05:09:16.865Z"
   },
   {
    "duration": 10,
    "start_time": "2025-04-14T05:09:16.897Z"
   },
   {
    "duration": 13,
    "start_time": "2025-04-14T05:09:16.935Z"
   },
   {
    "duration": 84,
    "start_time": "2025-04-14T05:09:16.950Z"
   },
   {
    "duration": 10,
    "start_time": "2025-04-14T05:09:17.036Z"
   },
   {
    "duration": 403,
    "start_time": "2025-04-14T05:09:17.048Z"
   },
   {
    "duration": 0,
    "start_time": "2025-04-14T05:09:17.453Z"
   },
   {
    "duration": 0,
    "start_time": "2025-04-14T05:09:17.454Z"
   },
   {
    "duration": 0,
    "start_time": "2025-04-14T05:09:17.455Z"
   },
   {
    "duration": 0,
    "start_time": "2025-04-14T05:09:17.456Z"
   },
   {
    "duration": 23,
    "start_time": "2025-04-14T05:12:55.344Z"
   },
   {
    "duration": 3,
    "start_time": "2025-04-14T05:16:25.336Z"
   },
   {
    "duration": 109,
    "start_time": "2025-04-14T05:16:26.479Z"
   },
   {
    "duration": 17,
    "start_time": "2025-04-14T05:16:27.802Z"
   },
   {
    "duration": 15,
    "start_time": "2025-04-14T05:16:36.568Z"
   },
   {
    "duration": 4,
    "start_time": "2025-04-14T05:16:48.343Z"
   },
   {
    "duration": 4,
    "start_time": "2025-04-14T05:16:51.441Z"
   },
   {
    "duration": 4,
    "start_time": "2025-04-14T05:16:53.937Z"
   },
   {
    "duration": 32,
    "start_time": "2025-04-14T05:17:04.729Z"
   },
   {
    "duration": 20,
    "start_time": "2025-04-14T05:17:23.922Z"
   },
   {
    "duration": 34,
    "start_time": "2025-04-14T05:18:30.066Z"
   },
   {
    "duration": 14,
    "start_time": "2025-04-14T05:18:47.076Z"
   },
   {
    "duration": 14,
    "start_time": "2025-04-14T05:19:03.107Z"
   },
   {
    "duration": 9,
    "start_time": "2025-04-14T05:19:42.068Z"
   },
   {
    "duration": 14,
    "start_time": "2025-04-14T05:19:52.083Z"
   },
   {
    "duration": 7,
    "start_time": "2025-04-14T05:19:55.699Z"
   },
   {
    "duration": 8,
    "start_time": "2025-04-14T05:19:59.770Z"
   },
   {
    "duration": 318,
    "start_time": "2025-04-14T05:24:38.418Z"
   },
   {
    "duration": 46,
    "start_time": "2025-04-14T05:35:30.756Z"
   },
   {
    "duration": 8,
    "start_time": "2025-04-14T05:36:44.895Z"
   },
   {
    "duration": 402,
    "start_time": "2025-04-14T05:36:58.657Z"
   },
   {
    "duration": 126,
    "start_time": "2025-04-14T05:36:59.061Z"
   },
   {
    "duration": 18,
    "start_time": "2025-04-14T05:36:59.189Z"
   },
   {
    "duration": 23,
    "start_time": "2025-04-14T05:36:59.208Z"
   },
   {
    "duration": 7,
    "start_time": "2025-04-14T05:36:59.233Z"
   },
   {
    "duration": 6,
    "start_time": "2025-04-14T05:36:59.246Z"
   },
   {
    "duration": 7,
    "start_time": "2025-04-14T05:36:59.253Z"
   },
   {
    "duration": 40,
    "start_time": "2025-04-14T05:36:59.262Z"
   },
   {
    "duration": 51,
    "start_time": "2025-04-14T05:36:59.303Z"
   },
   {
    "duration": 35,
    "start_time": "2025-04-14T05:36:59.356Z"
   },
   {
    "duration": 11,
    "start_time": "2025-04-14T05:36:59.393Z"
   },
   {
    "duration": 39,
    "start_time": "2025-04-14T05:36:59.405Z"
   },
   {
    "duration": 9,
    "start_time": "2025-04-14T05:36:59.446Z"
   },
   {
    "duration": 9,
    "start_time": "2025-04-14T05:36:59.457Z"
   },
   {
    "duration": 2140,
    "start_time": "2025-04-14T05:36:59.468Z"
   },
   {
    "duration": 39,
    "start_time": "2025-04-14T05:37:01.609Z"
   },
   {
    "duration": 31,
    "start_time": "2025-04-14T05:37:01.650Z"
   },
   {
    "duration": 114,
    "start_time": "2025-04-14T05:37:01.684Z"
   },
   {
    "duration": 0,
    "start_time": "2025-04-14T05:37:01.799Z"
   },
   {
    "duration": 1885,
    "start_time": "2025-04-14T05:37:15.889Z"
   },
   {
    "duration": 298,
    "start_time": "2025-04-14T05:39:22.217Z"
   },
   {
    "duration": 364,
    "start_time": "2025-04-14T05:39:38.176Z"
   },
   {
    "duration": 173,
    "start_time": "2025-04-14T05:39:38.542Z"
   },
   {
    "duration": 16,
    "start_time": "2025-04-14T05:39:38.717Z"
   },
   {
    "duration": 35,
    "start_time": "2025-04-14T05:39:38.735Z"
   },
   {
    "duration": 4,
    "start_time": "2025-04-14T05:39:38.772Z"
   },
   {
    "duration": 5,
    "start_time": "2025-04-14T05:39:38.778Z"
   },
   {
    "duration": 4,
    "start_time": "2025-04-14T05:39:38.785Z"
   },
   {
    "duration": 23,
    "start_time": "2025-04-14T05:39:38.791Z"
   },
   {
    "duration": 16,
    "start_time": "2025-04-14T05:39:38.836Z"
   },
   {
    "duration": 32,
    "start_time": "2025-04-14T05:39:38.855Z"
   },
   {
    "duration": 9,
    "start_time": "2025-04-14T05:39:38.889Z"
   },
   {
    "duration": 38,
    "start_time": "2025-04-14T05:39:38.899Z"
   },
   {
    "duration": 8,
    "start_time": "2025-04-14T05:39:38.938Z"
   },
   {
    "duration": 10,
    "start_time": "2025-04-14T05:39:38.947Z"
   },
   {
    "duration": 331,
    "start_time": "2025-04-14T05:39:38.958Z"
   },
   {
    "duration": 25,
    "start_time": "2025-04-14T05:39:39.290Z"
   },
   {
    "duration": 54,
    "start_time": "2025-04-14T05:39:39.316Z"
   },
   {
    "duration": 82,
    "start_time": "2025-04-14T05:39:39.371Z"
   },
   {
    "duration": 0,
    "start_time": "2025-04-14T05:39:39.455Z"
   },
   {
    "duration": 322,
    "start_time": "2025-04-14T05:39:51.570Z"
   },
   {
    "duration": 3,
    "start_time": "2025-04-14T05:40:04.708Z"
   },
   {
    "duration": 2,
    "start_time": "2025-04-14T05:40:09.361Z"
   },
   {
    "duration": 77,
    "start_time": "2025-04-14T05:40:10.464Z"
   },
   {
    "duration": 16,
    "start_time": "2025-04-14T05:40:11.155Z"
   },
   {
    "duration": 16,
    "start_time": "2025-04-14T05:40:18.563Z"
   },
   {
    "duration": 15,
    "start_time": "2025-04-14T05:40:21.756Z"
   },
   {
    "duration": 5,
    "start_time": "2025-04-14T05:40:32.077Z"
   },
   {
    "duration": 5,
    "start_time": "2025-04-14T05:40:32.812Z"
   },
   {
    "duration": 5,
    "start_time": "2025-04-14T05:40:33.579Z"
   },
   {
    "duration": 24,
    "start_time": "2025-04-14T05:40:40.140Z"
   },
   {
    "duration": 17,
    "start_time": "2025-04-14T05:40:52.365Z"
   },
   {
    "duration": 35,
    "start_time": "2025-04-14T05:41:05.244Z"
   },
   {
    "duration": 10,
    "start_time": "2025-04-14T05:41:11.485Z"
   },
   {
    "duration": 13,
    "start_time": "2025-04-14T05:41:12.485Z"
   },
   {
    "duration": 9,
    "start_time": "2025-04-14T05:41:20.875Z"
   },
   {
    "duration": 19,
    "start_time": "2025-04-14T05:42:10.455Z"
   },
   {
    "duration": 7,
    "start_time": "2025-04-14T05:42:14.028Z"
   },
   {
    "duration": 9,
    "start_time": "2025-04-14T05:42:15.118Z"
   },
   {
    "duration": 306,
    "start_time": "2025-04-14T05:42:34.487Z"
   },
   {
    "duration": 22,
    "start_time": "2025-04-14T05:42:38.582Z"
   },
   {
    "duration": 17,
    "start_time": "2025-04-14T05:44:08.936Z"
   },
   {
    "duration": 33,
    "start_time": "2025-04-14T05:44:17.239Z"
   },
   {
    "duration": 14,
    "start_time": "2025-04-14T05:44:21.197Z"
   },
   {
    "duration": 500,
    "start_time": "2025-04-15T02:41:45.677Z"
   },
   {
    "duration": 115,
    "start_time": "2025-04-15T02:41:46.654Z"
   },
   {
    "duration": 19,
    "start_time": "2025-04-15T02:41:47.389Z"
   },
   {
    "duration": 33,
    "start_time": "2025-04-15T02:42:00.202Z"
   },
   {
    "duration": 4,
    "start_time": "2025-04-15T02:42:05.211Z"
   },
   {
    "duration": 6,
    "start_time": "2025-04-15T02:42:11.121Z"
   },
   {
    "duration": 9,
    "start_time": "2025-04-15T02:42:13.401Z"
   },
   {
    "duration": 28,
    "start_time": "2025-04-15T02:42:20.114Z"
   },
   {
    "duration": 18,
    "start_time": "2025-04-15T02:42:24.061Z"
   },
   {
    "duration": 43,
    "start_time": "2025-04-15T02:42:32.096Z"
   },
   {
    "duration": 13,
    "start_time": "2025-04-15T02:42:40.413Z"
   },
   {
    "duration": 15,
    "start_time": "2025-04-15T02:42:41.842Z"
   },
   {
    "duration": 19,
    "start_time": "2025-04-15T02:42:44.601Z"
   },
   {
    "duration": 11,
    "start_time": "2025-04-15T02:42:46.144Z"
   },
   {
    "duration": 362,
    "start_time": "2025-04-15T02:42:51.675Z"
   },
   {
    "duration": 356,
    "start_time": "2025-04-15T02:43:23.415Z"
   },
   {
    "duration": 23,
    "start_time": "2025-04-15T02:43:26.354Z"
   },
   {
    "duration": 31,
    "start_time": "2025-04-15T02:43:31.377Z"
   },
   {
    "duration": 16,
    "start_time": "2025-04-15T02:43:33.282Z"
   },
   {
    "duration": 5,
    "start_time": "2025-04-15T02:45:49.347Z"
   },
   {
    "duration": 3,
    "start_time": "2025-04-15T02:46:30.043Z"
   },
   {
    "duration": 7,
    "start_time": "2025-04-15T02:46:41.916Z"
   },
   {
    "duration": 77,
    "start_time": "2025-04-15T02:51:51.760Z"
   },
   {
    "duration": 9,
    "start_time": "2025-04-15T02:52:35.456Z"
   },
   {
    "duration": 7,
    "start_time": "2025-04-15T02:52:50.279Z"
   },
   {
    "duration": 9,
    "start_time": "2025-04-15T03:02:58.718Z"
   },
   {
    "duration": 8,
    "start_time": "2025-04-15T03:03:55.434Z"
   },
   {
    "duration": 25,
    "start_time": "2025-04-15T03:04:30.823Z"
   },
   {
    "duration": 23,
    "start_time": "2025-04-15T03:04:39.919Z"
   },
   {
    "duration": 9,
    "start_time": "2025-04-15T03:04:53.687Z"
   },
   {
    "duration": 17,
    "start_time": "2025-04-15T03:05:39.814Z"
   },
   {
    "duration": 8,
    "start_time": "2025-04-15T03:06:56.695Z"
   },
   {
    "duration": 8,
    "start_time": "2025-04-15T03:07:05.830Z"
   },
   {
    "duration": 3,
    "start_time": "2025-04-15T03:09:32.553Z"
   },
   {
    "duration": 8,
    "start_time": "2025-04-15T03:09:37.914Z"
   },
   {
    "duration": 20,
    "start_time": "2025-04-15T03:09:51.697Z"
   },
   {
    "duration": 8,
    "start_time": "2025-04-15T03:10:01.642Z"
   },
   {
    "duration": 9,
    "start_time": "2025-04-15T03:12:55.641Z"
   },
   {
    "duration": 9,
    "start_time": "2025-04-15T03:15:49.572Z"
   },
   {
    "duration": 9,
    "start_time": "2025-04-15T03:17:25.830Z"
   },
   {
    "duration": 10,
    "start_time": "2025-04-15T03:18:08.229Z"
   },
   {
    "duration": 8,
    "start_time": "2025-04-15T03:19:16.192Z"
   },
   {
    "duration": 36,
    "start_time": "2025-04-15T03:33:08.378Z"
   },
   {
    "duration": 20,
    "start_time": "2025-04-15T03:39:04.003Z"
   },
   {
    "duration": 10,
    "start_time": "2025-04-15T03:39:33.440Z"
   },
   {
    "duration": 7,
    "start_time": "2025-04-15T03:41:21.245Z"
   },
   {
    "duration": 789,
    "start_time": "2025-04-15T03:41:33.628Z"
   },
   {
    "duration": 10,
    "start_time": "2025-04-15T03:42:25.566Z"
   },
   {
    "duration": 11,
    "start_time": "2025-04-15T03:43:26.865Z"
   },
   {
    "duration": 11,
    "start_time": "2025-04-15T03:44:44.017Z"
   },
   {
    "duration": 11,
    "start_time": "2025-04-15T04:49:20.553Z"
   },
   {
    "duration": 39,
    "start_time": "2025-04-15T04:50:40.499Z"
   },
   {
    "duration": 10,
    "start_time": "2025-04-15T04:51:24.326Z"
   },
   {
    "duration": 28,
    "start_time": "2025-04-15T04:54:56.800Z"
   },
   {
    "duration": 40,
    "start_time": "2025-04-15T04:55:16.439Z"
   },
   {
    "duration": 12,
    "start_time": "2025-04-15T04:56:02.257Z"
   },
   {
    "duration": 10,
    "start_time": "2025-04-15T04:56:12.050Z"
   },
   {
    "duration": 450,
    "start_time": "2025-04-15T10:48:13.216Z"
   },
   {
    "duration": 87,
    "start_time": "2025-04-15T10:48:13.668Z"
   },
   {
    "duration": 19,
    "start_time": "2025-04-15T10:48:13.757Z"
   },
   {
    "duration": 48,
    "start_time": "2025-04-15T10:48:13.778Z"
   },
   {
    "duration": 13,
    "start_time": "2025-04-15T10:48:13.829Z"
   },
   {
    "duration": 14,
    "start_time": "2025-04-15T10:48:13.844Z"
   },
   {
    "duration": 28,
    "start_time": "2025-04-15T10:48:13.860Z"
   },
   {
    "duration": 52,
    "start_time": "2025-04-15T10:48:13.890Z"
   },
   {
    "duration": 20,
    "start_time": "2025-04-15T10:48:13.943Z"
   },
   {
    "duration": 67,
    "start_time": "2025-04-15T10:48:13.964Z"
   },
   {
    "duration": 16,
    "start_time": "2025-04-15T10:48:14.034Z"
   },
   {
    "duration": 192,
    "start_time": "2025-04-15T10:48:14.052Z"
   },
   {
    "duration": 44,
    "start_time": "2025-04-15T10:48:14.246Z"
   },
   {
    "duration": 29,
    "start_time": "2025-04-15T10:48:14.295Z"
   },
   {
    "duration": 383,
    "start_time": "2025-04-15T10:48:14.326Z"
   },
   {
    "duration": 30,
    "start_time": "2025-04-15T10:48:14.715Z"
   },
   {
    "duration": 32,
    "start_time": "2025-04-15T10:48:14.747Z"
   },
   {
    "duration": 41,
    "start_time": "2025-04-15T10:48:14.781Z"
   },
   {
    "duration": 40,
    "start_time": "2025-04-15T10:48:14.825Z"
   },
   {
    "duration": 15,
    "start_time": "2025-04-15T10:48:14.867Z"
   },
   {
    "duration": 126,
    "start_time": "2025-04-15T10:48:14.885Z"
   },
   {
    "duration": 117,
    "start_time": "2025-04-15T10:48:15.013Z"
   },
   {
    "duration": 89,
    "start_time": "2025-04-15T10:48:15.133Z"
   },
   {
    "duration": 16,
    "start_time": "2025-04-15T10:53:20.260Z"
   },
   {
    "duration": 16,
    "start_time": "2025-04-15T10:55:09.976Z"
   },
   {
    "duration": 15,
    "start_time": "2025-04-15T10:56:13.651Z"
   },
   {
    "duration": 15,
    "start_time": "2025-04-15T12:52:23.601Z"
   },
   {
    "duration": 28,
    "start_time": "2025-04-15T12:55:15.273Z"
   },
   {
    "duration": 27,
    "start_time": "2025-04-15T12:55:50.981Z"
   },
   {
    "duration": 71,
    "start_time": "2025-04-15T13:10:09.943Z"
   },
   {
    "duration": 18,
    "start_time": "2025-04-15T13:13:09.282Z"
   },
   {
    "duration": 82,
    "start_time": "2025-04-15T13:14:17.969Z"
   },
   {
    "duration": 15,
    "start_time": "2025-04-15T13:14:58.395Z"
   },
   {
    "duration": 15,
    "start_time": "2025-04-15T13:15:49.922Z"
   },
   {
    "duration": 15,
    "start_time": "2025-04-15T13:16:01.084Z"
   },
   {
    "duration": 91,
    "start_time": "2025-04-15T13:19:41.918Z"
   },
   {
    "duration": 53,
    "start_time": "2025-04-15T13:20:22.799Z"
   },
   {
    "duration": 58,
    "start_time": "2025-04-15T13:20:33.521Z"
   },
   {
    "duration": 50,
    "start_time": "2025-04-15T13:22:12.411Z"
   },
   {
    "duration": 101,
    "start_time": "2025-04-15T14:01:15.738Z"
   },
   {
    "duration": 15,
    "start_time": "2025-04-15T14:01:44.783Z"
   },
   {
    "duration": 20,
    "start_time": "2025-04-15T14:02:36.961Z"
   },
   {
    "duration": 12,
    "start_time": "2025-04-15T14:04:12.951Z"
   },
   {
    "duration": 13,
    "start_time": "2025-04-15T14:04:44.575Z"
   },
   {
    "duration": 14,
    "start_time": "2025-04-15T14:06:01.802Z"
   },
   {
    "duration": 15,
    "start_time": "2025-04-15T14:07:29.029Z"
   },
   {
    "duration": 13,
    "start_time": "2025-04-15T14:08:23.663Z"
   },
   {
    "duration": 84,
    "start_time": "2025-04-15T14:11:32.541Z"
   },
   {
    "duration": 12,
    "start_time": "2025-04-15T14:11:43.105Z"
   },
   {
    "duration": 14,
    "start_time": "2025-04-15T14:12:01.817Z"
   },
   {
    "duration": 13,
    "start_time": "2025-04-15T14:12:20.005Z"
   },
   {
    "duration": 13,
    "start_time": "2025-04-15T14:13:33.944Z"
   },
   {
    "duration": 14,
    "start_time": "2025-04-15T14:13:49.644Z"
   },
   {
    "duration": 15,
    "start_time": "2025-04-15T14:49:19.271Z"
   },
   {
    "duration": 15,
    "start_time": "2025-04-15T14:49:41.705Z"
   },
   {
    "duration": 16,
    "start_time": "2025-04-15T14:53:47.804Z"
   },
   {
    "duration": 13,
    "start_time": "2025-04-15T14:54:01.177Z"
   },
   {
    "duration": 14,
    "start_time": "2025-04-15T14:54:09.976Z"
   },
   {
    "duration": 16,
    "start_time": "2025-04-15T14:54:14.251Z"
   },
   {
    "duration": 17,
    "start_time": "2025-04-15T14:56:58.429Z"
   },
   {
    "duration": 83,
    "start_time": "2025-04-15T14:57:27.056Z"
   },
   {
    "duration": 84,
    "start_time": "2025-04-15T14:57:44.182Z"
   },
   {
    "duration": 14,
    "start_time": "2025-04-15T14:57:57.853Z"
   },
   {
    "duration": 12,
    "start_time": "2025-04-15T14:58:22.580Z"
   },
   {
    "duration": 16,
    "start_time": "2025-04-15T14:58:57.176Z"
   },
   {
    "duration": 4,
    "start_time": "2025-04-15T15:00:24.849Z"
   },
   {
    "duration": 13,
    "start_time": "2025-04-15T15:00:39.967Z"
   },
   {
    "duration": 14,
    "start_time": "2025-04-15T15:04:42.187Z"
   },
   {
    "duration": 11,
    "start_time": "2025-04-15T15:05:43.485Z"
   },
   {
    "duration": 11,
    "start_time": "2025-04-15T15:06:14.347Z"
   },
   {
    "duration": 12,
    "start_time": "2025-04-15T15:06:39.621Z"
   },
   {
    "duration": 11,
    "start_time": "2025-04-15T15:06:56.141Z"
   },
   {
    "duration": 11,
    "start_time": "2025-04-15T15:07:06.364Z"
   },
   {
    "duration": 11,
    "start_time": "2025-04-15T15:07:16.524Z"
   },
   {
    "duration": 12,
    "start_time": "2025-04-15T15:07:26.432Z"
   },
   {
    "duration": 15,
    "start_time": "2025-04-15T15:08:05.125Z"
   },
   {
    "duration": 15,
    "start_time": "2025-04-15T15:08:35.651Z"
   },
   {
    "duration": 13,
    "start_time": "2025-04-15T15:09:20.269Z"
   },
   {
    "duration": 20,
    "start_time": "2025-04-15T15:11:06.527Z"
   },
   {
    "duration": 9,
    "start_time": "2025-04-15T15:12:33.281Z"
   },
   {
    "duration": 5,
    "start_time": "2025-04-15T15:15:47.922Z"
   },
   {
    "duration": 17,
    "start_time": "2025-04-15T15:15:57.508Z"
   },
   {
    "duration": 15,
    "start_time": "2025-04-15T15:16:34.168Z"
   },
   {
    "duration": 13,
    "start_time": "2025-04-15T15:17:23.536Z"
   },
   {
    "duration": 24,
    "start_time": "2025-04-15T15:18:39.261Z"
   },
   {
    "duration": 11,
    "start_time": "2025-04-15T15:18:53.227Z"
   },
   {
    "duration": 19,
    "start_time": "2025-04-15T15:19:37.566Z"
   },
   {
    "duration": 14,
    "start_time": "2025-04-15T15:20:25.045Z"
   },
   {
    "duration": 16,
    "start_time": "2025-04-15T15:20:57.430Z"
   },
   {
    "duration": 363,
    "start_time": "2025-04-15T15:26:24.530Z"
   },
   {
    "duration": 15,
    "start_time": "2025-04-15T15:27:31.835Z"
   },
   {
    "duration": 14,
    "start_time": "2025-04-15T15:28:54.034Z"
   },
   {
    "duration": 15,
    "start_time": "2025-04-15T15:29:24.868Z"
   },
   {
    "duration": 24,
    "start_time": "2025-04-15T15:29:38.037Z"
   },
   {
    "duration": 331,
    "start_time": "2025-04-15T15:30:08.766Z"
   },
   {
    "duration": 14,
    "start_time": "2025-04-15T15:31:03.357Z"
   },
   {
    "duration": 12,
    "start_time": "2025-04-15T15:31:49.969Z"
   },
   {
    "duration": 9,
    "start_time": "2025-04-15T15:31:54.340Z"
   },
   {
    "duration": 26,
    "start_time": "2025-04-15T15:32:21.294Z"
   },
   {
    "duration": 14,
    "start_time": "2025-04-15T15:33:07.686Z"
   },
   {
    "duration": 30,
    "start_time": "2025-04-15T15:33:17.894Z"
   },
   {
    "duration": 26,
    "start_time": "2025-04-15T15:33:57.462Z"
   },
   {
    "duration": 19,
    "start_time": "2025-04-15T15:34:37.892Z"
   },
   {
    "duration": 6,
    "start_time": "2025-04-15T15:37:38.818Z"
   },
   {
    "duration": 5,
    "start_time": "2025-04-15T15:37:57.018Z"
   },
   {
    "duration": 4,
    "start_time": "2025-04-15T15:38:22.896Z"
   },
   {
    "duration": 15,
    "start_time": "2025-04-15T15:38:59.761Z"
   },
   {
    "duration": 15,
    "start_time": "2025-04-15T15:41:23.434Z"
   },
   {
    "duration": 7,
    "start_time": "2025-04-15T15:49:33.354Z"
   },
   {
    "duration": 24,
    "start_time": "2025-04-15T15:50:01.094Z"
   },
   {
    "duration": 3,
    "start_time": "2025-04-15T15:58:08.655Z"
   },
   {
    "duration": 33,
    "start_time": "2025-04-15T15:58:23.321Z"
   },
   {
    "duration": 27,
    "start_time": "2025-04-15T15:58:58.432Z"
   },
   {
    "duration": 16,
    "start_time": "2025-04-15T17:02:47.153Z"
   },
   {
    "duration": 15,
    "start_time": "2025-04-15T17:03:38.840Z"
   },
   {
    "duration": 15,
    "start_time": "2025-04-15T17:04:10.420Z"
   },
   {
    "duration": 15,
    "start_time": "2025-04-15T17:04:31.483Z"
   },
   {
    "duration": 60,
    "start_time": "2025-04-15T17:05:18.578Z"
   },
   {
    "duration": 15,
    "start_time": "2025-04-15T17:06:01.230Z"
   },
   {
    "duration": 65,
    "start_time": "2025-04-15T17:10:06.785Z"
   },
   {
    "duration": 36,
    "start_time": "2025-04-15T17:14:10.509Z"
   },
   {
    "duration": 53,
    "start_time": "2025-04-15T17:14:31.891Z"
   },
   {
    "duration": 36,
    "start_time": "2025-04-15T17:21:14.183Z"
   },
   {
    "duration": 25,
    "start_time": "2025-04-15T17:22:11.726Z"
   },
   {
    "duration": 27,
    "start_time": "2025-04-15T17:23:41.724Z"
   },
   {
    "duration": 28,
    "start_time": "2025-04-15T17:24:17.835Z"
   },
   {
    "duration": 6,
    "start_time": "2025-04-15T17:29:46.471Z"
   },
   {
    "duration": 71,
    "start_time": "2025-04-15T17:30:55.510Z"
   },
   {
    "duration": 65,
    "start_time": "2025-04-15T17:31:31.647Z"
   },
   {
    "duration": 7,
    "start_time": "2025-04-15T17:42:08.554Z"
   },
   {
    "duration": 23,
    "start_time": "2025-04-15T17:42:22.036Z"
   },
   {
    "duration": 7,
    "start_time": "2025-04-15T17:42:53.386Z"
   },
   {
    "duration": 8,
    "start_time": "2025-04-15T17:44:03.630Z"
   },
   {
    "duration": 25,
    "start_time": "2025-04-15T18:12:19.873Z"
   },
   {
    "duration": 10,
    "start_time": "2025-04-15T18:18:14.789Z"
   },
   {
    "duration": 6,
    "start_time": "2025-04-15T18:18:28.836Z"
   },
   {
    "duration": 24,
    "start_time": "2025-04-15T18:18:36.501Z"
   },
   {
    "duration": 7,
    "start_time": "2025-04-15T18:29:42.987Z"
   },
   {
    "duration": 26,
    "start_time": "2025-04-15T18:29:49.380Z"
   },
   {
    "duration": 5,
    "start_time": "2025-04-15T18:35:02.010Z"
   },
   {
    "duration": 7,
    "start_time": "2025-04-15T18:36:15.056Z"
   },
   {
    "duration": 9,
    "start_time": "2025-04-15T18:38:23.715Z"
   },
   {
    "duration": 7,
    "start_time": "2025-04-15T18:38:56.062Z"
   },
   {
    "duration": 27,
    "start_time": "2025-04-15T18:39:02.907Z"
   },
   {
    "duration": 83,
    "start_time": "2025-04-15T18:50:47.121Z"
   },
   {
    "duration": 255,
    "start_time": "2025-04-15T18:51:16.032Z"
   },
   {
    "duration": 8,
    "start_time": "2025-04-15T18:57:17.549Z"
   },
   {
    "duration": 16,
    "start_time": "2025-04-15T19:05:23.362Z"
   },
   {
    "duration": 15,
    "start_time": "2025-04-15T19:09:16.661Z"
   },
   {
    "duration": 14,
    "start_time": "2025-04-15T19:10:06.196Z"
   },
   {
    "duration": 11,
    "start_time": "2025-04-15T19:10:38.749Z"
   },
   {
    "duration": 26,
    "start_time": "2025-04-15T19:10:48.061Z"
   },
   {
    "duration": 8,
    "start_time": "2025-04-15T19:20:45.105Z"
   },
   {
    "duration": 4,
    "start_time": "2025-04-15T19:21:01.121Z"
   },
   {
    "duration": 14,
    "start_time": "2025-04-15T19:24:18.087Z"
   },
   {
    "duration": 10,
    "start_time": "2025-04-15T19:26:02.366Z"
   },
   {
    "duration": 11,
    "start_time": "2025-04-15T19:27:24.986Z"
   },
   {
    "duration": 13,
    "start_time": "2025-04-15T19:28:57.200Z"
   },
   {
    "duration": 18,
    "start_time": "2025-04-15T19:34:30.076Z"
   },
   {
    "duration": 19,
    "start_time": "2025-04-15T19:37:14.327Z"
   },
   {
    "duration": 20,
    "start_time": "2025-04-15T19:37:57.245Z"
   },
   {
    "duration": 17,
    "start_time": "2025-04-15T19:39:46.017Z"
   },
   {
    "duration": 962,
    "start_time": "2025-04-15T19:52:41.561Z"
   },
   {
    "duration": 22,
    "start_time": "2025-04-15T19:53:25.137Z"
   },
   {
    "duration": 21,
    "start_time": "2025-04-15T19:54:49.594Z"
   },
   {
    "duration": 19,
    "start_time": "2025-04-15T19:55:44.355Z"
   },
   {
    "duration": 10,
    "start_time": "2025-04-15T19:59:40.423Z"
   },
   {
    "duration": 26,
    "start_time": "2025-04-15T20:01:12.623Z"
   },
   {
    "duration": 25,
    "start_time": "2025-04-15T20:02:09.879Z"
   },
   {
    "duration": 25,
    "start_time": "2025-04-15T20:02:29.704Z"
   },
   {
    "duration": 8,
    "start_time": "2025-04-15T20:02:35.258Z"
   },
   {
    "duration": 12,
    "start_time": "2025-04-15T20:04:27.624Z"
   },
   {
    "duration": 23,
    "start_time": "2025-04-15T20:04:51.801Z"
   },
   {
    "duration": 24,
    "start_time": "2025-04-15T20:05:22.128Z"
   },
   {
    "duration": 90,
    "start_time": "2025-04-15T20:05:40.635Z"
   },
   {
    "duration": 8,
    "start_time": "2025-04-15T20:10:41.590Z"
   },
   {
    "duration": 24,
    "start_time": "2025-04-15T20:14:32.501Z"
   },
   {
    "duration": 18,
    "start_time": "2025-04-15T20:18:43.954Z"
   },
   {
    "duration": 16,
    "start_time": "2025-04-15T20:20:04.209Z"
   },
   {
    "duration": 19,
    "start_time": "2025-04-15T20:23:31.820Z"
   },
   {
    "duration": 16,
    "start_time": "2025-04-15T20:23:58.523Z"
   },
   {
    "duration": 14,
    "start_time": "2025-04-15T20:26:07.077Z"
   },
   {
    "duration": 28,
    "start_time": "2025-04-15T20:37:51.164Z"
   },
   {
    "duration": 24,
    "start_time": "2025-04-15T20:39:07.462Z"
   },
   {
    "duration": 15,
    "start_time": "2025-04-15T20:41:07.207Z"
   },
   {
    "duration": 25,
    "start_time": "2025-04-15T20:41:21.695Z"
   },
   {
    "duration": 25,
    "start_time": "2025-04-15T20:41:53.410Z"
   },
   {
    "duration": 19,
    "start_time": "2025-04-15T20:44:14.913Z"
   },
   {
    "duration": 78,
    "start_time": "2025-04-15T20:44:43.877Z"
   },
   {
    "duration": 17,
    "start_time": "2025-04-15T20:45:05.151Z"
   },
   {
    "duration": 20,
    "start_time": "2025-04-15T20:45:34.665Z"
   },
   {
    "duration": 406,
    "start_time": "2025-04-16T04:37:22.043Z"
   },
   {
    "duration": 126,
    "start_time": "2025-04-16T04:37:22.451Z"
   },
   {
    "duration": 18,
    "start_time": "2025-04-16T04:37:22.579Z"
   },
   {
    "duration": 67,
    "start_time": "2025-04-16T04:37:22.598Z"
   },
   {
    "duration": 8,
    "start_time": "2025-04-16T04:37:22.668Z"
   },
   {
    "duration": 48,
    "start_time": "2025-04-16T04:37:22.677Z"
   },
   {
    "duration": 26,
    "start_time": "2025-04-16T04:37:22.727Z"
   },
   {
    "duration": 57,
    "start_time": "2025-04-16T04:37:22.754Z"
   },
   {
    "duration": 101,
    "start_time": "2025-04-16T04:37:22.813Z"
   },
   {
    "duration": 38,
    "start_time": "2025-04-16T04:37:22.916Z"
   },
   {
    "duration": 10,
    "start_time": "2025-04-16T04:37:22.956Z"
   },
   {
    "duration": 14,
    "start_time": "2025-04-16T04:37:22.968Z"
   },
   {
    "duration": 36,
    "start_time": "2025-04-16T04:37:22.984Z"
   },
   {
    "duration": 10,
    "start_time": "2025-04-16T04:37:23.023Z"
   },
   {
    "duration": 353,
    "start_time": "2025-04-16T04:37:23.035Z"
   },
   {
    "duration": 33,
    "start_time": "2025-04-16T04:37:23.389Z"
   },
   {
    "duration": 53,
    "start_time": "2025-04-16T04:37:23.424Z"
   },
   {
    "duration": 15,
    "start_time": "2025-04-16T04:37:23.478Z"
   },
   {
    "duration": 95,
    "start_time": "2025-04-16T04:37:23.494Z"
   },
   {
    "duration": 0,
    "start_time": "2025-04-16T04:37:23.591Z"
   },
   {
    "duration": 0,
    "start_time": "2025-04-16T04:37:23.604Z"
   },
   {
    "duration": 0,
    "start_time": "2025-04-16T04:37:23.605Z"
   },
   {
    "duration": 0,
    "start_time": "2025-04-16T04:37:23.607Z"
   },
   {
    "duration": 0,
    "start_time": "2025-04-16T04:37:23.608Z"
   },
   {
    "duration": 0,
    "start_time": "2025-04-16T04:37:23.609Z"
   },
   {
    "duration": 0,
    "start_time": "2025-04-16T04:37:23.611Z"
   },
   {
    "duration": 0,
    "start_time": "2025-04-16T04:37:23.612Z"
   },
   {
    "duration": 0,
    "start_time": "2025-04-16T04:37:23.613Z"
   },
   {
    "duration": 0,
    "start_time": "2025-04-16T04:37:23.614Z"
   },
   {
    "duration": 2,
    "start_time": "2025-04-16T04:37:45.153Z"
   },
   {
    "duration": 90,
    "start_time": "2025-04-16T04:37:46.094Z"
   },
   {
    "duration": 17,
    "start_time": "2025-04-16T04:37:46.807Z"
   },
   {
    "duration": 16,
    "start_time": "2025-04-16T04:37:55.376Z"
   },
   {
    "duration": 5,
    "start_time": "2025-04-16T04:38:00.412Z"
   },
   {
    "duration": 5,
    "start_time": "2025-04-16T04:38:01.198Z"
   },
   {
    "duration": 5,
    "start_time": "2025-04-16T04:38:01.943Z"
   },
   {
    "duration": 11,
    "start_time": "2025-04-16T04:52:04.167Z"
   },
   {
    "duration": 21,
    "start_time": "2025-04-16T04:52:42.177Z"
   },
   {
    "duration": 442,
    "start_time": "2025-04-16T04:53:12.173Z"
   },
   {
    "duration": 132,
    "start_time": "2025-04-16T04:53:12.618Z"
   },
   {
    "duration": 18,
    "start_time": "2025-04-16T04:53:12.752Z"
   },
   {
    "duration": 23,
    "start_time": "2025-04-16T04:53:12.771Z"
   },
   {
    "duration": 9,
    "start_time": "2025-04-16T04:53:12.797Z"
   },
   {
    "duration": 6,
    "start_time": "2025-04-16T04:53:12.808Z"
   },
   {
    "duration": 7,
    "start_time": "2025-04-16T04:53:12.815Z"
   },
   {
    "duration": 27,
    "start_time": "2025-04-16T04:53:12.824Z"
   },
   {
    "duration": 18,
    "start_time": "2025-04-16T04:53:12.853Z"
   },
   {
    "duration": 134,
    "start_time": "2025-04-16T04:53:12.872Z"
   },
   {
    "duration": 11,
    "start_time": "2025-04-16T04:53:13.008Z"
   },
   {
    "duration": 18,
    "start_time": "2025-04-16T04:53:13.021Z"
   },
   {
    "duration": 26,
    "start_time": "2025-04-16T04:53:13.040Z"
   },
   {
    "duration": 9,
    "start_time": "2025-04-16T04:53:13.070Z"
   },
   {
    "duration": 356,
    "start_time": "2025-04-16T04:53:13.081Z"
   },
   {
    "duration": 24,
    "start_time": "2025-04-16T04:53:13.439Z"
   },
   {
    "duration": 41,
    "start_time": "2025-04-16T04:53:13.465Z"
   },
   {
    "duration": 14,
    "start_time": "2025-04-16T04:53:13.508Z"
   },
   {
    "duration": 108,
    "start_time": "2025-04-16T04:53:13.523Z"
   },
   {
    "duration": 0,
    "start_time": "2025-04-16T04:53:13.633Z"
   },
   {
    "duration": 0,
    "start_time": "2025-04-16T04:53:13.634Z"
   },
   {
    "duration": 0,
    "start_time": "2025-04-16T04:53:13.635Z"
   },
   {
    "duration": 0,
    "start_time": "2025-04-16T04:53:13.636Z"
   },
   {
    "duration": 0,
    "start_time": "2025-04-16T04:53:13.637Z"
   },
   {
    "duration": 0,
    "start_time": "2025-04-16T04:53:13.638Z"
   },
   {
    "duration": 0,
    "start_time": "2025-04-16T04:53:13.639Z"
   },
   {
    "duration": 0,
    "start_time": "2025-04-16T04:53:13.640Z"
   },
   {
    "duration": 0,
    "start_time": "2025-04-16T04:53:13.641Z"
   },
   {
    "duration": 0,
    "start_time": "2025-04-16T04:53:13.643Z"
   },
   {
    "duration": 26,
    "start_time": "2025-04-16T04:53:49.042Z"
   },
   {
    "duration": 34,
    "start_time": "2025-04-16T04:54:20.761Z"
   },
   {
    "duration": 65,
    "start_time": "2025-04-16T04:56:01.216Z"
   },
   {
    "duration": 19,
    "start_time": "2025-04-16T04:59:30.894Z"
   },
   {
    "duration": 36,
    "start_time": "2025-04-16T04:59:45.329Z"
   },
   {
    "duration": 15,
    "start_time": "2025-04-16T05:00:22.024Z"
   },
   {
    "duration": 68,
    "start_time": "2025-04-16T05:01:40.890Z"
   },
   {
    "duration": 46,
    "start_time": "2025-04-16T05:02:25.961Z"
   },
   {
    "duration": 45,
    "start_time": "2025-04-16T05:02:53.744Z"
   },
   {
    "duration": 28,
    "start_time": "2025-04-16T05:03:23.651Z"
   },
   {
    "duration": 27,
    "start_time": "2025-04-16T05:04:07.354Z"
   },
   {
    "duration": 42,
    "start_time": "2025-04-16T05:05:07.807Z"
   },
   {
    "duration": 11,
    "start_time": "2025-04-16T05:08:37.364Z"
   },
   {
    "duration": 7,
    "start_time": "2025-04-16T05:08:48.776Z"
   },
   {
    "duration": 7,
    "start_time": "2025-04-16T05:09:46.447Z"
   },
   {
    "duration": 14,
    "start_time": "2025-04-16T05:15:48.477Z"
   },
   {
    "duration": 116,
    "start_time": "2025-04-16T05:16:04.362Z"
   },
   {
    "duration": 4,
    "start_time": "2025-04-16T05:16:23.077Z"
   },
   {
    "duration": 3,
    "start_time": "2025-04-16T05:16:30.525Z"
   },
   {
    "duration": 20,
    "start_time": "2025-04-16T05:16:41.161Z"
   },
   {
    "duration": 26,
    "start_time": "2025-04-16T05:22:08.125Z"
   },
   {
    "duration": 32,
    "start_time": "2025-04-16T05:26:21.967Z"
   },
   {
    "duration": 8,
    "start_time": "2025-04-16T05:28:39.085Z"
   },
   {
    "duration": 1415,
    "start_time": "2025-04-16T05:28:52.144Z"
   },
   {
    "duration": 6,
    "start_time": "2025-04-16T05:29:41.924Z"
   },
   {
    "duration": 22,
    "start_time": "2025-04-16T05:29:56.751Z"
   },
   {
    "duration": 44,
    "start_time": "2025-04-16T05:30:40.960Z"
   },
   {
    "duration": 1448,
    "start_time": "2025-04-16T05:31:36.646Z"
   },
   {
    "duration": 29,
    "start_time": "2025-04-16T05:32:35.023Z"
   },
   {
    "duration": 29,
    "start_time": "2025-04-16T05:33:41.422Z"
   },
   {
    "duration": 28,
    "start_time": "2025-04-16T05:33:51.015Z"
   },
   {
    "duration": 33,
    "start_time": "2025-04-16T05:36:28.596Z"
   },
   {
    "duration": 41,
    "start_time": "2025-04-16T05:36:57.568Z"
   },
   {
    "duration": 38,
    "start_time": "2025-04-16T05:41:25.637Z"
   },
   {
    "duration": 6,
    "start_time": "2025-04-16T05:44:16.314Z"
   },
   {
    "duration": 1355,
    "start_time": "2025-04-16T05:45:02.129Z"
   },
   {
    "duration": 1397,
    "start_time": "2025-04-16T05:46:49.114Z"
   },
   {
    "duration": 1447,
    "start_time": "2025-04-16T05:47:49.051Z"
   },
   {
    "duration": 40,
    "start_time": "2025-04-16T05:50:23.349Z"
   },
   {
    "duration": 39,
    "start_time": "2025-04-16T05:50:51.917Z"
   },
   {
    "duration": 24,
    "start_time": "2025-04-16T05:51:44.687Z"
   },
   {
    "duration": 61,
    "start_time": "2025-04-16T05:53:56.044Z"
   },
   {
    "duration": 41,
    "start_time": "2025-04-16T06:03:31.925Z"
   },
   {
    "duration": 40,
    "start_time": "2025-04-16T06:04:15.273Z"
   },
   {
    "duration": 38,
    "start_time": "2025-04-16T06:06:17.315Z"
   },
   {
    "duration": 43,
    "start_time": "2025-04-16T06:06:51.778Z"
   },
   {
    "duration": 13,
    "start_time": "2025-04-16T06:24:10.657Z"
   },
   {
    "duration": 9,
    "start_time": "2025-04-16T06:25:42.145Z"
   },
   {
    "duration": 10,
    "start_time": "2025-04-16T06:26:11.259Z"
   },
   {
    "duration": 6,
    "start_time": "2025-04-16T06:29:20.674Z"
   },
   {
    "duration": 2297,
    "start_time": "2025-04-16T06:31:50.341Z"
   },
   {
    "duration": 19,
    "start_time": "2025-04-16T06:33:10.054Z"
   },
   {
    "duration": 1962,
    "start_time": "2025-04-16T06:34:15.266Z"
   },
   {
    "duration": 1854,
    "start_time": "2025-04-16T06:35:09.929Z"
   },
   {
    "duration": 1929,
    "start_time": "2025-04-16T06:35:43.601Z"
   },
   {
    "duration": 1895,
    "start_time": "2025-04-16T06:36:08.493Z"
   },
   {
    "duration": 19,
    "start_time": "2025-04-16T06:36:26.380Z"
   },
   {
    "duration": 21,
    "start_time": "2025-04-16T06:37:02.593Z"
   },
   {
    "duration": 149,
    "start_time": "2025-04-16T06:41:34.827Z"
   },
   {
    "duration": 124,
    "start_time": "2025-04-16T06:42:01.052Z"
   },
   {
    "duration": 1862,
    "start_time": "2025-04-16T06:42:33.098Z"
   },
   {
    "duration": 160,
    "start_time": "2025-04-16T06:42:46.879Z"
   },
   {
    "duration": 202,
    "start_time": "2025-04-16T06:43:47.792Z"
   },
   {
    "duration": 193,
    "start_time": "2025-04-16T06:44:13.639Z"
   },
   {
    "duration": 123,
    "start_time": "2025-04-16T06:44:34.304Z"
   },
   {
    "duration": 193,
    "start_time": "2025-04-16T06:45:50.344Z"
   },
   {
    "duration": 189,
    "start_time": "2025-04-16T06:46:10.518Z"
   },
   {
    "duration": 192,
    "start_time": "2025-04-16T06:48:03.131Z"
   },
   {
    "duration": 33,
    "start_time": "2025-04-16T06:48:16.382Z"
   },
   {
    "duration": 32,
    "start_time": "2025-04-16T06:49:30.748Z"
   },
   {
    "duration": 187,
    "start_time": "2025-04-16T06:50:05.398Z"
   },
   {
    "duration": 35,
    "start_time": "2025-04-16T06:50:15.936Z"
   },
   {
    "duration": 15,
    "start_time": "2025-04-16T06:52:42.100Z"
   },
   {
    "duration": 2356,
    "start_time": "2025-04-16T06:52:58.928Z"
   },
   {
    "duration": 23,
    "start_time": "2025-04-16T06:53:13.115Z"
   },
   {
    "duration": 20,
    "start_time": "2025-04-16T06:53:41.879Z"
   },
   {
    "duration": 6,
    "start_time": "2025-04-16T06:57:10.797Z"
   },
   {
    "duration": 16,
    "start_time": "2025-04-16T06:57:14.390Z"
   },
   {
    "duration": 11,
    "start_time": "2025-04-16T06:58:21.979Z"
   },
   {
    "duration": 14,
    "start_time": "2025-04-16T06:58:23.628Z"
   },
   {
    "duration": 22,
    "start_time": "2025-04-16T07:00:32.782Z"
   },
   {
    "duration": 18,
    "start_time": "2025-04-16T07:06:58.798Z"
   },
   {
    "duration": 17,
    "start_time": "2025-04-16T07:18:34.361Z"
   },
   {
    "duration": 447,
    "start_time": "2025-04-16T08:15:08.988Z"
   },
   {
    "duration": 233,
    "start_time": "2025-04-16T08:15:09.438Z"
   },
   {
    "duration": 17,
    "start_time": "2025-04-16T08:15:09.673Z"
   },
   {
    "duration": 65,
    "start_time": "2025-04-16T08:15:09.691Z"
   },
   {
    "duration": 15,
    "start_time": "2025-04-16T08:15:09.758Z"
   },
   {
    "duration": 25,
    "start_time": "2025-04-16T08:15:09.775Z"
   },
   {
    "duration": 18,
    "start_time": "2025-04-16T08:15:09.802Z"
   },
   {
    "duration": 48,
    "start_time": "2025-04-16T08:15:09.822Z"
   },
   {
    "duration": 63,
    "start_time": "2025-04-16T08:15:09.872Z"
   },
   {
    "duration": 40,
    "start_time": "2025-04-16T08:15:09.937Z"
   },
   {
    "duration": 26,
    "start_time": "2025-04-16T08:15:09.980Z"
   },
   {
    "duration": 33,
    "start_time": "2025-04-16T08:15:10.008Z"
   },
   {
    "duration": 374,
    "start_time": "2025-04-16T08:15:10.043Z"
   },
   {
    "duration": 7,
    "start_time": "2025-04-16T08:15:10.421Z"
   },
   {
    "duration": 50,
    "start_time": "2025-04-16T08:15:10.429Z"
   },
   {
    "duration": 30,
    "start_time": "2025-04-16T08:15:10.481Z"
   },
   {
    "duration": 74,
    "start_time": "2025-04-16T08:15:10.512Z"
   },
   {
    "duration": 20,
    "start_time": "2025-04-16T08:15:10.588Z"
   },
   {
    "duration": 71,
    "start_time": "2025-04-16T08:15:10.610Z"
   },
   {
    "duration": 0,
    "start_time": "2025-04-16T08:15:10.682Z"
   },
   {
    "duration": 0,
    "start_time": "2025-04-16T08:15:10.684Z"
   },
   {
    "duration": 0,
    "start_time": "2025-04-16T08:15:10.685Z"
   },
   {
    "duration": 0,
    "start_time": "2025-04-16T08:15:10.686Z"
   },
   {
    "duration": 0,
    "start_time": "2025-04-16T08:15:10.706Z"
   },
   {
    "duration": 0,
    "start_time": "2025-04-16T08:15:10.707Z"
   },
   {
    "duration": 0,
    "start_time": "2025-04-16T08:15:10.708Z"
   },
   {
    "duration": 0,
    "start_time": "2025-04-16T08:15:10.709Z"
   },
   {
    "duration": 0,
    "start_time": "2025-04-16T08:15:10.711Z"
   },
   {
    "duration": 454,
    "start_time": "2025-04-16T08:17:00.789Z"
   },
   {
    "duration": 318,
    "start_time": "2025-04-16T08:17:03.758Z"
   },
   {
    "duration": 26,
    "start_time": "2025-04-16T08:17:06.045Z"
   },
   {
    "duration": 23,
    "start_time": "2025-04-16T08:17:12.609Z"
   },
   {
    "duration": 4,
    "start_time": "2025-04-16T08:17:22.010Z"
   },
   {
    "duration": 4,
    "start_time": "2025-04-16T08:17:23.246Z"
   },
   {
    "duration": 5,
    "start_time": "2025-04-16T08:17:29.321Z"
   },
   {
    "duration": 26,
    "start_time": "2025-04-16T08:17:36.396Z"
   },
   {
    "duration": 20,
    "start_time": "2025-04-16T08:18:03.270Z"
   },
   {
    "duration": 41,
    "start_time": "2025-04-16T08:18:14.359Z"
   },
   {
    "duration": 7,
    "start_time": "2025-04-16T08:20:11.075Z"
   },
   {
    "duration": 76,
    "start_time": "2025-04-16T08:21:30.902Z"
   },
   {
    "duration": 3,
    "start_time": "2025-04-16T08:22:11.215Z"
   },
   {
    "duration": 4,
    "start_time": "2025-04-16T08:22:24.876Z"
   },
   {
    "duration": 10,
    "start_time": "2025-04-16T08:22:33.628Z"
   },
   {
    "duration": 13,
    "start_time": "2025-04-16T08:22:45.903Z"
   },
   {
    "duration": 16,
    "start_time": "2025-04-16T08:22:56.090Z"
   },
   {
    "duration": 382,
    "start_time": "2025-04-16T08:43:10.758Z"
   },
   {
    "duration": 136,
    "start_time": "2025-04-16T08:43:11.142Z"
   },
   {
    "duration": 16,
    "start_time": "2025-04-16T08:43:11.281Z"
   },
   {
    "duration": 22,
    "start_time": "2025-04-16T08:43:11.299Z"
   },
   {
    "duration": 3,
    "start_time": "2025-04-16T08:43:11.323Z"
   },
   {
    "duration": 10,
    "start_time": "2025-04-16T08:43:11.328Z"
   },
   {
    "duration": 44,
    "start_time": "2025-04-16T08:43:11.339Z"
   },
   {
    "duration": 36,
    "start_time": "2025-04-16T08:43:11.385Z"
   },
   {
    "duration": 20,
    "start_time": "2025-04-16T08:43:11.424Z"
   },
   {
    "duration": 39,
    "start_time": "2025-04-16T08:43:11.445Z"
   },
   {
    "duration": 26,
    "start_time": "2025-04-16T08:43:11.486Z"
   },
   {
    "duration": 10,
    "start_time": "2025-04-16T08:43:11.514Z"
   },
   {
    "duration": 357,
    "start_time": "2025-04-16T08:43:11.525Z"
   },
   {
    "duration": 7,
    "start_time": "2025-04-16T08:43:11.884Z"
   },
   {
    "duration": 43,
    "start_time": "2025-04-16T08:43:11.893Z"
   },
   {
    "duration": 15,
    "start_time": "2025-04-16T08:43:11.938Z"
   },
   {
    "duration": 63,
    "start_time": "2025-04-16T08:43:11.955Z"
   },
   {
    "duration": 21,
    "start_time": "2025-04-16T08:43:12.020Z"
   },
   {
    "duration": 97,
    "start_time": "2025-04-16T08:43:12.042Z"
   },
   {
    "duration": 0,
    "start_time": "2025-04-16T08:43:12.141Z"
   },
   {
    "duration": 0,
    "start_time": "2025-04-16T08:43:12.143Z"
   },
   {
    "duration": 0,
    "start_time": "2025-04-16T08:43:12.144Z"
   },
   {
    "duration": 0,
    "start_time": "2025-04-16T08:43:12.145Z"
   },
   {
    "duration": 0,
    "start_time": "2025-04-16T08:43:12.146Z"
   },
   {
    "duration": 0,
    "start_time": "2025-04-16T08:43:12.147Z"
   },
   {
    "duration": 0,
    "start_time": "2025-04-16T08:43:12.148Z"
   },
   {
    "duration": 0,
    "start_time": "2025-04-16T08:43:12.150Z"
   },
   {
    "duration": 0,
    "start_time": "2025-04-16T08:43:12.150Z"
   },
   {
    "duration": 5,
    "start_time": "2025-04-16T08:43:52.221Z"
   },
   {
    "duration": 433,
    "start_time": "2025-04-16T08:44:06.707Z"
   },
   {
    "duration": 149,
    "start_time": "2025-04-16T08:44:07.142Z"
   },
   {
    "duration": 17,
    "start_time": "2025-04-16T08:44:07.293Z"
   },
   {
    "duration": 43,
    "start_time": "2025-04-16T08:44:07.312Z"
   },
   {
    "duration": 39,
    "start_time": "2025-04-16T08:44:07.357Z"
   },
   {
    "duration": 46,
    "start_time": "2025-04-16T08:44:07.397Z"
   },
   {
    "duration": 44,
    "start_time": "2025-04-16T08:44:07.445Z"
   },
   {
    "duration": 79,
    "start_time": "2025-04-16T08:44:07.491Z"
   },
   {
    "duration": 33,
    "start_time": "2025-04-16T08:44:07.572Z"
   },
   {
    "duration": 73,
    "start_time": "2025-04-16T08:44:07.609Z"
   },
   {
    "duration": 8,
    "start_time": "2025-04-16T08:44:07.684Z"
   },
   {
    "duration": 140,
    "start_time": "2025-04-16T08:44:07.694Z"
   },
   {
    "duration": 426,
    "start_time": "2025-04-16T08:44:07.836Z"
   },
   {
    "duration": 6,
    "start_time": "2025-04-16T08:44:08.264Z"
   },
   {
    "duration": 40,
    "start_time": "2025-04-16T08:44:08.272Z"
   },
   {
    "duration": 68,
    "start_time": "2025-04-16T08:44:08.313Z"
   },
   {
    "duration": 195,
    "start_time": "2025-04-16T08:44:08.382Z"
   },
   {
    "duration": 162,
    "start_time": "2025-04-16T08:44:08.579Z"
   },
   {
    "duration": 20,
    "start_time": "2025-04-16T08:44:08.742Z"
   },
   {
    "duration": 49,
    "start_time": "2025-04-16T08:44:08.763Z"
   },
   {
    "duration": 100,
    "start_time": "2025-04-16T08:44:08.815Z"
   },
   {
    "duration": 91,
    "start_time": "2025-04-16T08:44:08.917Z"
   },
   {
    "duration": 32,
    "start_time": "2025-04-16T08:44:09.010Z"
   },
   {
    "duration": 16,
    "start_time": "2025-04-16T08:44:09.044Z"
   },
   {
    "duration": 13,
    "start_time": "2025-04-16T08:44:09.062Z"
   },
   {
    "duration": 45,
    "start_time": "2025-04-16T08:44:09.076Z"
   },
   {
    "duration": 22,
    "start_time": "2025-04-16T08:44:09.123Z"
   },
   {
    "duration": 18,
    "start_time": "2025-04-16T08:44:09.148Z"
   },
   {
    "duration": 72,
    "start_time": "2025-04-16T08:44:35.478Z"
   },
   {
    "duration": 5,
    "start_time": "2025-04-16T08:44:59.541Z"
   },
   {
    "duration": 454,
    "start_time": "2025-04-16T08:59:34.985Z"
   },
   {
    "duration": 291,
    "start_time": "2025-04-16T08:59:35.441Z"
   },
   {
    "duration": 17,
    "start_time": "2025-04-16T08:59:35.734Z"
   },
   {
    "duration": 37,
    "start_time": "2025-04-16T08:59:35.753Z"
   },
   {
    "duration": 119,
    "start_time": "2025-04-16T08:59:35.792Z"
   },
   {
    "duration": 39,
    "start_time": "2025-04-16T08:59:35.913Z"
   },
   {
    "duration": 33,
    "start_time": "2025-04-16T08:59:35.954Z"
   },
   {
    "duration": 80,
    "start_time": "2025-04-16T08:59:35.988Z"
   },
   {
    "duration": 27,
    "start_time": "2025-04-16T08:59:36.070Z"
   },
   {
    "duration": 45,
    "start_time": "2025-04-16T08:59:36.099Z"
   },
   {
    "duration": 7,
    "start_time": "2025-04-16T08:59:36.146Z"
   },
   {
    "duration": 67,
    "start_time": "2025-04-16T08:59:36.154Z"
   },
   {
    "duration": 338,
    "start_time": "2025-04-16T08:59:36.222Z"
   },
   {
    "duration": 6,
    "start_time": "2025-04-16T08:59:36.563Z"
   },
   {
    "duration": 54,
    "start_time": "2025-04-16T08:59:36.571Z"
   },
   {
    "duration": 165,
    "start_time": "2025-04-16T08:59:36.627Z"
   },
   {
    "duration": 80,
    "start_time": "2025-04-16T08:59:36.794Z"
   },
   {
    "duration": 20,
    "start_time": "2025-04-16T08:59:36.876Z"
   },
   {
    "duration": 7,
    "start_time": "2025-04-16T08:59:36.898Z"
   },
   {
    "duration": 18,
    "start_time": "2025-04-16T08:59:36.907Z"
   },
   {
    "duration": 80,
    "start_time": "2025-04-16T08:59:36.927Z"
   },
   {
    "duration": 6,
    "start_time": "2025-04-16T08:59:37.009Z"
   },
   {
    "duration": 122,
    "start_time": "2025-04-16T08:59:37.017Z"
   },
   {
    "duration": 29,
    "start_time": "2025-04-16T08:59:37.140Z"
   },
   {
    "duration": 28,
    "start_time": "2025-04-16T08:59:37.171Z"
   },
   {
    "duration": 24,
    "start_time": "2025-04-16T08:59:37.200Z"
   },
   {
    "duration": 31,
    "start_time": "2025-04-16T08:59:37.225Z"
   },
   {
    "duration": 31,
    "start_time": "2025-04-16T08:59:37.258Z"
   },
   {
    "duration": 23,
    "start_time": "2025-04-16T08:59:37.291Z"
   },
   {
    "duration": 86,
    "start_time": "2025-04-16T19:35:47.559Z"
   },
   {
    "duration": 47,
    "start_time": "2025-04-16T19:42:59.140Z"
   },
   {
    "duration": 379,
    "start_time": "2025-04-16T19:43:10.767Z"
   },
   {
    "duration": 75,
    "start_time": "2025-04-16T19:43:11.147Z"
   },
   {
    "duration": 17,
    "start_time": "2025-04-16T19:43:11.223Z"
   },
   {
    "duration": 24,
    "start_time": "2025-04-16T19:43:11.242Z"
   },
   {
    "duration": 3,
    "start_time": "2025-04-16T19:43:11.268Z"
   },
   {
    "duration": 7,
    "start_time": "2025-04-16T19:43:11.273Z"
   },
   {
    "duration": 6,
    "start_time": "2025-04-16T19:43:11.282Z"
   },
   {
    "duration": 26,
    "start_time": "2025-04-16T19:43:11.289Z"
   },
   {
    "duration": 17,
    "start_time": "2025-04-16T19:43:11.334Z"
   },
   {
    "duration": 40,
    "start_time": "2025-04-16T19:43:11.352Z"
   },
   {
    "duration": 7,
    "start_time": "2025-04-16T19:43:11.393Z"
   },
   {
    "duration": 33,
    "start_time": "2025-04-16T19:43:11.402Z"
   },
   {
    "duration": 298,
    "start_time": "2025-04-16T19:43:11.437Z"
   },
   {
    "duration": 5,
    "start_time": "2025-04-16T19:43:11.738Z"
   },
   {
    "duration": 14,
    "start_time": "2025-04-16T19:43:11.745Z"
   },
   {
    "duration": 12,
    "start_time": "2025-04-16T19:43:11.761Z"
   },
   {
    "duration": 57,
    "start_time": "2025-04-16T19:43:11.774Z"
   },
   {
    "duration": 17,
    "start_time": "2025-04-16T19:43:11.835Z"
   },
   {
    "duration": 45,
    "start_time": "2025-04-16T19:43:11.854Z"
   },
   {
    "duration": 16,
    "start_time": "2025-04-16T19:43:11.901Z"
   },
   {
    "duration": 57,
    "start_time": "2025-04-16T19:43:11.919Z"
   },
   {
    "duration": 5,
    "start_time": "2025-04-16T19:43:11.978Z"
   },
   {
    "duration": 67,
    "start_time": "2025-04-16T19:43:11.984Z"
   },
   {
    "duration": 13,
    "start_time": "2025-04-16T19:43:12.053Z"
   },
   {
    "duration": 5,
    "start_time": "2025-04-16T19:43:12.067Z"
   },
   {
    "duration": 12,
    "start_time": "2025-04-16T19:43:12.074Z"
   },
   {
    "duration": 17,
    "start_time": "2025-04-16T19:43:12.087Z"
   },
   {
    "duration": 35,
    "start_time": "2025-04-16T19:43:12.105Z"
   },
   {
    "duration": 11,
    "start_time": "2025-04-16T19:53:55.068Z"
   },
   {
    "duration": 10,
    "start_time": "2025-04-16T19:54:21.877Z"
   },
   {
    "duration": 383,
    "start_time": "2025-04-16T19:54:55.645Z"
   },
   {
    "duration": 112,
    "start_time": "2025-04-16T19:54:56.496Z"
   },
   {
    "duration": 16,
    "start_time": "2025-04-16T19:54:57.419Z"
   },
   {
    "duration": 8,
    "start_time": "2025-04-16T19:55:04.815Z"
   },
   {
    "duration": 4,
    "start_time": "2025-04-16T19:55:05.949Z"
   },
   {
    "duration": 7,
    "start_time": "2025-04-16T19:55:07.110Z"
   },
   {
    "duration": 25,
    "start_time": "2025-04-16T19:55:11.822Z"
   },
   {
    "duration": 51,
    "start_time": "2025-04-16T19:55:16.581Z"
   },
   {
    "duration": 9,
    "start_time": "2025-04-16T19:55:26.480Z"
   },
   {
    "duration": 11,
    "start_time": "2025-04-16T19:55:27.606Z"
   },
   {
    "duration": 22,
    "start_time": "2025-04-16T19:55:28.780Z"
   },
   {
    "duration": 21,
    "start_time": "2025-04-16T20:05:27.809Z"
   },
   {
    "duration": 307,
    "start_time": "2025-04-16T20:23:32.660Z"
   },
   {
    "duration": 6,
    "start_time": "2025-04-16T20:23:37.554Z"
   },
   {
    "duration": 13,
    "start_time": "2025-04-16T20:23:43.779Z"
   },
   {
    "duration": 14,
    "start_time": "2025-04-16T20:23:47.603Z"
   },
   {
    "duration": 98,
    "start_time": "2025-04-16T20:28:46.541Z"
   },
   {
    "duration": 31,
    "start_time": "2025-04-16T20:29:35.906Z"
   },
   {
    "duration": 26,
    "start_time": "2025-04-16T20:29:52.920Z"
   },
   {
    "duration": 18,
    "start_time": "2025-04-16T20:34:04.551Z"
   },
   {
    "duration": 6,
    "start_time": "2025-04-16T20:34:12.840Z"
   },
   {
    "duration": 16,
    "start_time": "2025-04-16T20:34:38.969Z"
   },
   {
    "duration": 39,
    "start_time": "2025-04-16T21:10:55.429Z"
   },
   {
    "duration": 58,
    "start_time": "2025-04-16T21:13:03.796Z"
   },
   {
    "duration": 108,
    "start_time": "2025-04-16T21:25:25.905Z"
   },
   {
    "duration": 56,
    "start_time": "2025-04-16T21:25:46.682Z"
   },
   {
    "duration": 53,
    "start_time": "2025-04-16T21:26:08.935Z"
   },
   {
    "duration": 52,
    "start_time": "2025-04-16T21:26:31.767Z"
   },
   {
    "duration": 53,
    "start_time": "2025-04-16T21:26:51.497Z"
   },
   {
    "duration": 64,
    "start_time": "2025-04-16T21:27:20.959Z"
   },
   {
    "duration": 125,
    "start_time": "2025-04-16T21:36:53.771Z"
   },
   {
    "duration": 9,
    "start_time": "2025-04-16T21:37:06.702Z"
   },
   {
    "duration": 12,
    "start_time": "2025-04-16T21:38:03.720Z"
   },
   {
    "duration": 8,
    "start_time": "2025-04-16T21:38:46.985Z"
   },
   {
    "duration": 89,
    "start_time": "2025-04-16T21:40:07.704Z"
   },
   {
    "duration": 111,
    "start_time": "2025-04-16T21:40:23.447Z"
   },
   {
    "duration": 10,
    "start_time": "2025-04-16T21:41:19.381Z"
   },
   {
    "duration": 7,
    "start_time": "2025-04-16T21:41:52.344Z"
   },
   {
    "duration": 13,
    "start_time": "2025-04-16T21:49:44.118Z"
   },
   {
    "duration": 10,
    "start_time": "2025-04-16T21:51:44.971Z"
   },
   {
    "duration": 9,
    "start_time": "2025-04-16T21:57:26.265Z"
   },
   {
    "duration": 14,
    "start_time": "2025-04-16T21:57:56.565Z"
   },
   {
    "duration": 8,
    "start_time": "2025-04-16T22:00:13.763Z"
   },
   {
    "duration": 11,
    "start_time": "2025-04-16T22:00:25.283Z"
   },
   {
    "duration": 14,
    "start_time": "2025-04-16T22:01:13.197Z"
   },
   {
    "duration": 16,
    "start_time": "2025-04-16T22:03:28.879Z"
   },
   {
    "duration": 17,
    "start_time": "2025-04-16T22:17:32.086Z"
   },
   {
    "duration": 16,
    "start_time": "2025-04-16T22:24:08.243Z"
   },
   {
    "duration": 13,
    "start_time": "2025-04-16T22:26:27.659Z"
   },
   {
    "duration": 14,
    "start_time": "2025-04-16T22:27:57.792Z"
   },
   {
    "duration": 14,
    "start_time": "2025-04-16T22:28:27.755Z"
   },
   {
    "duration": 15,
    "start_time": "2025-04-16T22:29:51.389Z"
   },
   {
    "duration": 433,
    "start_time": "2025-04-17T10:33:01.617Z"
   },
   {
    "duration": 111,
    "start_time": "2025-04-17T10:33:02.052Z"
   },
   {
    "duration": 19,
    "start_time": "2025-04-17T10:33:02.165Z"
   },
   {
    "duration": 24,
    "start_time": "2025-04-17T10:33:02.186Z"
   },
   {
    "duration": 4,
    "start_time": "2025-04-17T10:33:02.236Z"
   },
   {
    "duration": 12,
    "start_time": "2025-04-17T10:33:02.242Z"
   },
   {
    "duration": 39,
    "start_time": "2025-04-17T10:33:02.256Z"
   },
   {
    "duration": 50,
    "start_time": "2025-04-17T10:33:02.297Z"
   },
   {
    "duration": 102,
    "start_time": "2025-04-17T10:33:02.349Z"
   },
   {
    "duration": 7,
    "start_time": "2025-04-17T10:33:02.455Z"
   },
   {
    "duration": 12,
    "start_time": "2025-04-17T10:33:02.464Z"
   },
   {
    "duration": 414,
    "start_time": "2025-04-17T10:33:02.478Z"
   },
   {
    "duration": 7,
    "start_time": "2025-04-17T10:33:02.894Z"
   },
   {
    "duration": 14,
    "start_time": "2025-04-17T10:33:02.902Z"
   },
   {
    "duration": 30,
    "start_time": "2025-04-17T10:33:02.918Z"
   },
   {
    "duration": 25,
    "start_time": "2025-04-17T10:33:02.950Z"
   },
   {
    "duration": 130,
    "start_time": "2025-04-17T10:33:02.976Z"
   },
   {
    "duration": 35,
    "start_time": "2025-04-17T10:33:03.107Z"
   },
   {
    "duration": 48,
    "start_time": "2025-04-17T10:33:03.144Z"
   },
   {
    "duration": 61,
    "start_time": "2025-04-17T10:33:03.194Z"
   },
   {
    "duration": 7,
    "start_time": "2025-04-17T10:33:03.257Z"
   },
   {
    "duration": 92,
    "start_time": "2025-04-17T10:33:03.266Z"
   },
   {
    "duration": 0,
    "start_time": "2025-04-17T10:33:03.360Z"
   },
   {
    "duration": 0,
    "start_time": "2025-04-17T10:33:03.361Z"
   },
   {
    "duration": 0,
    "start_time": "2025-04-17T10:33:03.362Z"
   },
   {
    "duration": 402,
    "start_time": "2025-04-17T12:26:16.305Z"
   },
   {
    "duration": 80,
    "start_time": "2025-04-17T12:26:16.709Z"
   },
   {
    "duration": 17,
    "start_time": "2025-04-17T12:26:16.793Z"
   },
   {
    "duration": 23,
    "start_time": "2025-04-17T12:26:16.812Z"
   },
   {
    "duration": 4,
    "start_time": "2025-04-17T12:26:16.837Z"
   },
   {
    "duration": 4,
    "start_time": "2025-04-17T12:26:16.843Z"
   },
   {
    "duration": 5,
    "start_time": "2025-04-17T12:26:16.871Z"
   },
   {
    "duration": 25,
    "start_time": "2025-04-17T12:26:16.877Z"
   },
   {
    "duration": 83,
    "start_time": "2025-04-17T12:26:16.904Z"
   },
   {
    "duration": 9,
    "start_time": "2025-04-17T12:26:16.989Z"
   },
   {
    "duration": 13,
    "start_time": "2025-04-17T12:26:16.999Z"
   },
   {
    "duration": 322,
    "start_time": "2025-04-17T12:26:17.013Z"
   },
   {
    "duration": 7,
    "start_time": "2025-04-17T12:26:17.336Z"
   },
   {
    "duration": 32,
    "start_time": "2025-04-17T12:26:17.346Z"
   },
   {
    "duration": 15,
    "start_time": "2025-04-17T12:26:17.379Z"
   },
   {
    "duration": 27,
    "start_time": "2025-04-17T12:26:17.396Z"
   },
   {
    "duration": 18,
    "start_time": "2025-04-17T12:26:17.425Z"
   },
   {
    "duration": 6,
    "start_time": "2025-04-17T12:26:17.471Z"
   },
   {
    "duration": 28,
    "start_time": "2025-04-17T12:26:17.479Z"
   },
   {
    "duration": 90,
    "start_time": "2025-04-17T12:26:17.509Z"
   },
   {
    "duration": 7,
    "start_time": "2025-04-17T12:26:17.601Z"
   },
   {
    "duration": 133,
    "start_time": "2025-04-17T12:26:17.610Z"
   },
   {
    "duration": 0,
    "start_time": "2025-04-17T12:26:17.745Z"
   },
   {
    "duration": 0,
    "start_time": "2025-04-17T12:26:17.747Z"
   },
   {
    "duration": 0,
    "start_time": "2025-04-17T12:26:17.748Z"
   },
   {
    "duration": 16,
    "start_time": "2025-04-17T12:29:31.067Z"
   },
   {
    "duration": 18,
    "start_time": "2025-04-17T12:29:44.854Z"
   },
   {
    "duration": 20,
    "start_time": "2025-04-17T12:29:53.728Z"
   },
   {
    "duration": 15,
    "start_time": "2025-04-17T12:30:04.942Z"
   }
  ],
  "colab": {
   "provenance": []
  },
  "kernelspec": {
   "display_name": "Python 3 (ipykernel)",
   "language": "python",
   "name": "python3"
  },
  "language_info": {
   "codemirror_mode": {
    "name": "ipython",
    "version": 3
   },
   "file_extension": ".py",
   "mimetype": "text/x-python",
   "name": "python",
   "nbconvert_exporter": "python",
   "pygments_lexer": "ipython3",
   "version": "3.9.12"
  },
  "toc": {
   "base_numbering": 1,
   "nav_menu": {},
   "number_sections": true,
   "sideBar": true,
   "skip_h1_title": true,
   "title_cell": "Table of Contents",
   "title_sidebar": "Contents",
   "toc_cell": false,
   "toc_position": {},
   "toc_section_display": true,
   "toc_window_display": false
  }
 },
 "nbformat": 4,
 "nbformat_minor": 5
}
