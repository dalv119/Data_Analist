{
 "cells": [
  {
   "cell_type": "markdown",
   "metadata": {
    "id": "u98L9TgH0eMk"
   },
   "source": [
    "# Разработка A/B-тестирования и анализ результатов\n",
    "\n",
    "Компания, разрабатывает развлекательное приложение с функцией «бесконечной» ленты, как, например, в приложениях с короткими видео. В приложении существует две модели монетизации: первая — ежемесячная платная подписка, которая позволяет пользователям смотреть ленту без рекламы, вторая — демонстрация рекламы для пользователей, которые ещё не оформили подписку.\n",
    "\n",
    "Команда разработчиков рекомендательных систем создала новый алгоритм рекомендаций, который, по их мнению, будет показывать более интересный контент для каждого пользователя. Необходимо помочь рассчитать параметры A/B-теста, который позволит проверить эту гипотезу, и проанализировать его результаты."
   ]
  },
  {
   "cell_type": "markdown",
   "metadata": {
    "id": "LJBRALHs0eMf"
   },
   "source": [
    "## Описание данных\n",
    "\n",
    "Исходная информация находится в трёх таблицаx:\n",
    "\n",
    "- `sessions_project_history.csv` — таблица с историческими данными по сессиям пользователей на период с 2025-08-11 по 2025-09-23. Путь к файлу: `/datasets/sessions_project_history.csv`.\n",
    "\n",
    "- `sessions_project_test_part.csv` — таблица с данными за первый день проведения A/B-теста, то есть за 2025-10-14. Путь к файлу: `/datasets/sessions_project_test_part.csv`.\n",
    "\n",
    "- `sessions_project_test.csv` — таблица с данными за весь период проведения A/B-теста, то есть с 2025-10-14 по 2025-11-02. Путь к файлу: `/datasets/sessions_project_test.csv`.\n",
    "\n",
    "У этих таблиц почти совпадает структура и содержание колонок, различаются лишь периоды наблюдения.\n",
    "\n",
    "Поля таблиц `sessions_project_history.csv`, `sessions_project_test.csv`, `sessions_project_test_part.csv`:\n",
    "\n",
    "- `user_id` — идентификатор пользователя;\n",
    "\n",
    "- `session_id` — идентификатор сессии в приложении;\n",
    "\n",
    "- `session_date` — дата сессии;\n",
    "\n",
    "- `session_start_ts` — дата и время начала сессии;\n",
    "\n",
    "- `install_date` — дата установки приложения;\n",
    "\n",
    "- `session_number` — порядковый номер сессии для конкретного пользователя;\n",
    "\n",
    "- `registration_flag` — является ли пользователь зарегистрированным;\n",
    "\n",
    "- `page_counter` — количество просмотренных страниц во время сессии;\n",
    "\n",
    "- `region` — регион пользователя;\n",
    "\n",
    "- `device` — тип устройства пользователя;\n",
    "\n",
    "- `test_group` — тестовая группа (в таблице с историческими данными этого столбца нет).\n",
    "\n",
    "\n",
    "## Что нужно сделать\n",
    "Рассчитать параметры теста, оценить корректность его проведения и проанализировать результаты эксперимента."
   ]
  },
  {
   "cell_type": "markdown",
   "metadata": {},
   "source": [
    "- В процессе А/В тестирования необходимо проверить изменение количества пользователей просматривающих 4 и более страниц за сессию. Ожидаемый эффект - увеличение данного показателя не менее 3%. Для этого будет проведен анализ историчесих данных, включая определение размера выборки и ее репрезентативность, длительность теста для каждой из групп А/В, мониторинг проведения теста, проверка статистической значимости полученного результата."
   ]
  },
  {
   "cell_type": "markdown",
   "metadata": {
    "id": "UpOucjID0eMl"
   },
   "source": [
    "### 1. Работа с историческими данными (EDA)"
   ]
  },
  {
   "cell_type": "markdown",
   "metadata": {
    "id": "8iJMtL-30eMl"
   },
   "source": [
    "#### 1.1. Загрузка исторических данных\n"
   ]
  },
  {
   "cell_type": "code",
   "execution_count": 1,
   "metadata": {},
   "outputs": [
    {
     "name": "stdout",
     "output_type": "stream",
     "text": [
      "Requirement already satisfied: matplotlib-venn in c:\\users\\11961\\anaconda3\\lib\\site-packages (1.1.2)\n",
      "Requirement already satisfied: matplotlib in c:\\users\\11961\\anaconda3\\lib\\site-packages (from matplotlib-venn) (3.5.1)\n",
      "Requirement already satisfied: scipy in c:\\users\\11961\\anaconda3\\lib\\site-packages (from matplotlib-venn) (1.13.1)\n",
      "Requirement already satisfied: numpy in c:\\users\\11961\\anaconda3\\lib\\site-packages (from matplotlib-venn) (1.26.4)\n",
      "Requirement already satisfied: kiwisolver>=1.0.1 in c:\\users\\11961\\anaconda3\\lib\\site-packages (from matplotlib->matplotlib-venn) (1.3.2)\n",
      "Requirement already satisfied: pyparsing>=2.2.1 in c:\\users\\11961\\anaconda3\\lib\\site-packages (from matplotlib->matplotlib-venn) (3.0.4)\n",
      "Requirement already satisfied: python-dateutil>=2.7 in c:\\users\\11961\\anaconda3\\lib\\site-packages (from matplotlib->matplotlib-venn) (2.8.2)\n",
      "Requirement already satisfied: pillow>=6.2.0 in c:\\users\\11961\\anaconda3\\lib\\site-packages (from matplotlib->matplotlib-venn) (9.0.1)\n",
      "Requirement already satisfied: packaging>=20.0 in c:\\users\\11961\\anaconda3\\lib\\site-packages (from matplotlib->matplotlib-venn) (21.3)\n",
      "Requirement already satisfied: fonttools>=4.22.0 in c:\\users\\11961\\anaconda3\\lib\\site-packages (from matplotlib->matplotlib-venn) (4.25.0)\n",
      "Requirement already satisfied: cycler>=0.10 in c:\\users\\11961\\anaconda3\\lib\\site-packages (from matplotlib->matplotlib-venn) (0.11.0)\n",
      "Requirement already satisfied: six>=1.5 in c:\\users\\11961\\anaconda3\\lib\\site-packages (from python-dateutil>=2.7->matplotlib->matplotlib-venn) (1.16.0)\n"
     ]
    }
   ],
   "source": [
    "# Устанавливаем библиотеку визуализации данных\n",
    "!pip install matplotlib-venn"
   ]
  },
  {
   "cell_type": "code",
   "execution_count": 2,
   "metadata": {
    "id": "6TPR2-1RPboT"
   },
   "outputs": [],
   "source": [
    "# Импортируем библиотеки\n",
    "import pandas as pd\n",
    "\n",
    "import numpy as np\n",
    "\n",
    "from math import ceil\n",
    "from scipy.stats import ttest_ind\n",
    "from statsmodels.stats.power import NormalIndPower\n",
    "from statsmodels.stats.proportion import proportion_effectsize\n",
    "from statsmodels.stats.proportion import proportions_ztest\n",
    "\n",
    "# Импортируем библиотеки для визуализации данных\n",
    "import matplotlib.pyplot as plt\n",
    "from matplotlib_venn import venn2\n",
    "\n"
   ]
  },
  {
   "cell_type": "code",
   "execution_count": 3,
   "metadata": {},
   "outputs": [
    {
     "data": {
      "text/html": [
       "<div>\n",
       "<style scoped>\n",
       "    .dataframe tbody tr th:only-of-type {\n",
       "        vertical-align: middle;\n",
       "    }\n",
       "\n",
       "    .dataframe tbody tr th {\n",
       "        vertical-align: top;\n",
       "    }\n",
       "\n",
       "    .dataframe thead th {\n",
       "        text-align: right;\n",
       "    }\n",
       "</style>\n",
       "<table border=\"1\" class=\"dataframe\">\n",
       "  <thead>\n",
       "    <tr style=\"text-align: right;\">\n",
       "      <th></th>\n",
       "      <th>user_id</th>\n",
       "      <th>session_id</th>\n",
       "      <th>session_date</th>\n",
       "      <th>session_start_ts</th>\n",
       "      <th>install_date</th>\n",
       "      <th>session_number</th>\n",
       "      <th>registration_flag</th>\n",
       "      <th>page_counter</th>\n",
       "      <th>region</th>\n",
       "      <th>device</th>\n",
       "    </tr>\n",
       "  </thead>\n",
       "  <tbody>\n",
       "    <tr>\n",
       "      <th>0</th>\n",
       "      <td>E302123B7000BFE4</td>\n",
       "      <td>F9AF61A0C2023832</td>\n",
       "      <td>2025-08-15</td>\n",
       "      <td>2025-08-15 17:47:35</td>\n",
       "      <td>2025-08-15</td>\n",
       "      <td>1</td>\n",
       "      <td>0</td>\n",
       "      <td>3</td>\n",
       "      <td>CIS</td>\n",
       "      <td>iPhone</td>\n",
       "    </tr>\n",
       "    <tr>\n",
       "      <th>1</th>\n",
       "      <td>2530F72E221829FB</td>\n",
       "      <td>85003A206CBDAC6F</td>\n",
       "      <td>2025-08-15</td>\n",
       "      <td>2025-08-15 16:42:14</td>\n",
       "      <td>2025-08-15</td>\n",
       "      <td>1</td>\n",
       "      <td>0</td>\n",
       "      <td>4</td>\n",
       "      <td>MENA</td>\n",
       "      <td>Android</td>\n",
       "    </tr>\n",
       "    <tr>\n",
       "      <th>2</th>\n",
       "      <td>876E020A4FC512F5</td>\n",
       "      <td>3677423E49D72DEE</td>\n",
       "      <td>2025-08-15</td>\n",
       "      <td>2025-08-15 12:30:00</td>\n",
       "      <td>2025-08-15</td>\n",
       "      <td>1</td>\n",
       "      <td>0</td>\n",
       "      <td>4</td>\n",
       "      <td>EU</td>\n",
       "      <td>PC</td>\n",
       "    </tr>\n",
       "    <tr>\n",
       "      <th>3</th>\n",
       "      <td>2640B349E1D81584</td>\n",
       "      <td>956B45F5915CA225</td>\n",
       "      <td>2025-08-15</td>\n",
       "      <td>2025-08-15 15:31:31</td>\n",
       "      <td>2025-08-15</td>\n",
       "      <td>1</td>\n",
       "      <td>0</td>\n",
       "      <td>4</td>\n",
       "      <td>CIS</td>\n",
       "      <td>Android</td>\n",
       "    </tr>\n",
       "    <tr>\n",
       "      <th>4</th>\n",
       "      <td>94E1CBFAEF1F5EE9</td>\n",
       "      <td>83BF0DA35F9F1F40</td>\n",
       "      <td>2025-08-15</td>\n",
       "      <td>2025-08-15 21:33:53</td>\n",
       "      <td>2025-08-15</td>\n",
       "      <td>1</td>\n",
       "      <td>0</td>\n",
       "      <td>3</td>\n",
       "      <td>CIS</td>\n",
       "      <td>Android</td>\n",
       "    </tr>\n",
       "  </tbody>\n",
       "</table>\n",
       "</div>"
      ],
      "text/plain": [
       "            user_id        session_id session_date     session_start_ts  \\\n",
       "0  E302123B7000BFE4  F9AF61A0C2023832   2025-08-15  2025-08-15 17:47:35   \n",
       "1  2530F72E221829FB  85003A206CBDAC6F   2025-08-15  2025-08-15 16:42:14   \n",
       "2  876E020A4FC512F5  3677423E49D72DEE   2025-08-15  2025-08-15 12:30:00   \n",
       "3  2640B349E1D81584  956B45F5915CA225   2025-08-15  2025-08-15 15:31:31   \n",
       "4  94E1CBFAEF1F5EE9  83BF0DA35F9F1F40   2025-08-15  2025-08-15 21:33:53   \n",
       "\n",
       "  install_date  session_number  registration_flag  page_counter region  \\\n",
       "0   2025-08-15               1                  0             3    CIS   \n",
       "1   2025-08-15               1                  0             4   MENA   \n",
       "2   2025-08-15               1                  0             4     EU   \n",
       "3   2025-08-15               1                  0             4    CIS   \n",
       "4   2025-08-15               1                  0             3    CIS   \n",
       "\n",
       "    device  \n",
       "0   iPhone  \n",
       "1  Android  \n",
       "2       PC  \n",
       "3  Android  \n",
       "4  Android  "
      ]
     },
     "execution_count": 3,
     "metadata": {},
     "output_type": "execute_result"
    }
   ],
   "source": [
    "# Выгружаем и сохраняем в датафрейм данные \n",
    "sessions_history = pd.read_csv('https://code.s3.yandex.net/datasets/sessions_project_history.csv')\n",
    "\n",
    "# Выводим на экран первые пять строк датафрейма\n",
    "sessions_history.head(5)"
   ]
  },
  {
   "cell_type": "markdown",
   "metadata": {
    "id": "qTDoiODz0eMo"
   },
   "source": [
    "#### 1.2. Знакомство с данными\n",
    "- Для каждого уникального пользователя `user_id` рассчитаем количество уникальных сессий `session_id`.\n",
    "\n"
   ]
  },
  {
   "cell_type": "code",
   "execution_count": null,
   "metadata": {
    "id": "PWZO9vTIPbPN"
   },
   "outputs": [
    {
     "data": {
      "text/html": [
       "<div>\n",
       "<style scoped>\n",
       "    .dataframe tbody tr th:only-of-type {\n",
       "        vertical-align: middle;\n",
       "    }\n",
       "\n",
       "    .dataframe tbody tr th {\n",
       "        vertical-align: top;\n",
       "    }\n",
       "\n",
       "    .dataframe thead th {\n",
       "        text-align: right;\n",
       "    }\n",
       "</style>\n",
       "<table border=\"1\" class=\"dataframe\">\n",
       "  <thead>\n",
       "    <tr style=\"text-align: right;\">\n",
       "      <th></th>\n",
       "      <th>user_id</th>\n",
       "      <th>session_id</th>\n",
       "      <th>session_date</th>\n",
       "      <th>session_start_ts</th>\n",
       "      <th>install_date</th>\n",
       "      <th>session_number</th>\n",
       "      <th>registration_flag</th>\n",
       "      <th>page_counter</th>\n",
       "      <th>region</th>\n",
       "      <th>device</th>\n",
       "    </tr>\n",
       "  </thead>\n",
       "  <tbody>\n",
       "    <tr>\n",
       "      <th>124515</th>\n",
       "      <td>6A73CB5566BB494D</td>\n",
       "      <td>110E3F28C1F5415F</td>\n",
       "      <td>2025-08-28</td>\n",
       "      <td>2025-08-28 18:58:19</td>\n",
       "      <td>2025-08-28</td>\n",
       "      <td>1</td>\n",
       "      <td>0</td>\n",
       "      <td>3</td>\n",
       "      <td>MENA</td>\n",
       "      <td>Mac</td>\n",
       "    </tr>\n",
       "    <tr>\n",
       "      <th>196252</th>\n",
       "      <td>6A73CB5566BB494D</td>\n",
       "      <td>D68C8D98A0F1C439</td>\n",
       "      <td>2025-08-29</td>\n",
       "      <td>2025-08-29 20:53:27</td>\n",
       "      <td>2025-08-28</td>\n",
       "      <td>2</td>\n",
       "      <td>1</td>\n",
       "      <td>3</td>\n",
       "      <td>MENA</td>\n",
       "      <td>Mac</td>\n",
       "    </tr>\n",
       "    <tr>\n",
       "      <th>242428</th>\n",
       "      <td>6A73CB5566BB494D</td>\n",
       "      <td>6587D217472BF807</td>\n",
       "      <td>2025-08-30</td>\n",
       "      <td>2025-08-30 13:08:22</td>\n",
       "      <td>2025-08-28</td>\n",
       "      <td>3</td>\n",
       "      <td>1</td>\n",
       "      <td>1</td>\n",
       "      <td>MENA</td>\n",
       "      <td>Mac</td>\n",
       "    </tr>\n",
       "    <tr>\n",
       "      <th>304287</th>\n",
       "      <td>6A73CB5566BB494D</td>\n",
       "      <td>A9BC25593D056F8E</td>\n",
       "      <td>2025-09-01</td>\n",
       "      <td>2025-09-01 18:52:49</td>\n",
       "      <td>2025-08-28</td>\n",
       "      <td>4</td>\n",
       "      <td>1</td>\n",
       "      <td>2</td>\n",
       "      <td>MENA</td>\n",
       "      <td>Mac</td>\n",
       "    </tr>\n",
       "    <tr>\n",
       "      <th>346611</th>\n",
       "      <td>6A73CB5566BB494D</td>\n",
       "      <td>CB6F9C4191FAF6F6</td>\n",
       "      <td>2025-09-03</td>\n",
       "      <td>2025-09-03 22:49:08</td>\n",
       "      <td>2025-08-28</td>\n",
       "      <td>5</td>\n",
       "      <td>1</td>\n",
       "      <td>3</td>\n",
       "      <td>MENA</td>\n",
       "      <td>Mac</td>\n",
       "    </tr>\n",
       "    <tr>\n",
       "      <th>363510</th>\n",
       "      <td>6A73CB5566BB494D</td>\n",
       "      <td>9C609432F6E6535A</td>\n",
       "      <td>2025-09-04</td>\n",
       "      <td>2025-09-04 13:59:46</td>\n",
       "      <td>2025-08-28</td>\n",
       "      <td>6</td>\n",
       "      <td>1</td>\n",
       "      <td>4</td>\n",
       "      <td>MENA</td>\n",
       "      <td>Mac</td>\n",
       "    </tr>\n",
       "    <tr>\n",
       "      <th>391902</th>\n",
       "      <td>6A73CB5566BB494D</td>\n",
       "      <td>5D892E33B97A257A</td>\n",
       "      <td>2025-09-06</td>\n",
       "      <td>2025-09-06 18:46:55</td>\n",
       "      <td>2025-08-28</td>\n",
       "      <td>7</td>\n",
       "      <td>1</td>\n",
       "      <td>2</td>\n",
       "      <td>MENA</td>\n",
       "      <td>Mac</td>\n",
       "    </tr>\n",
       "    <tr>\n",
       "      <th>404322</th>\n",
       "      <td>6A73CB5566BB494D</td>\n",
       "      <td>22A9BD3861F49087</td>\n",
       "      <td>2025-09-07</td>\n",
       "      <td>2025-09-07 18:33:49</td>\n",
       "      <td>2025-08-28</td>\n",
       "      <td>8</td>\n",
       "      <td>1</td>\n",
       "      <td>3</td>\n",
       "      <td>MENA</td>\n",
       "      <td>Mac</td>\n",
       "    </tr>\n",
       "    <tr>\n",
       "      <th>415489</th>\n",
       "      <td>6A73CB5566BB494D</td>\n",
       "      <td>F70E351154B092DC</td>\n",
       "      <td>2025-09-08</td>\n",
       "      <td>2025-09-08 20:30:22</td>\n",
       "      <td>2025-08-28</td>\n",
       "      <td>9</td>\n",
       "      <td>1</td>\n",
       "      <td>4</td>\n",
       "      <td>MENA</td>\n",
       "      <td>Mac</td>\n",
       "    </tr>\n",
       "    <tr>\n",
       "      <th>425805</th>\n",
       "      <td>6A73CB5566BB494D</td>\n",
       "      <td>84A3DC0CFF449F53</td>\n",
       "      <td>2025-09-09</td>\n",
       "      <td>2025-09-09 16:36:04</td>\n",
       "      <td>2025-08-28</td>\n",
       "      <td>10</td>\n",
       "      <td>1</td>\n",
       "      <td>1</td>\n",
       "      <td>MENA</td>\n",
       "      <td>Mac</td>\n",
       "    </tr>\n",
       "  </tbody>\n",
       "</table>\n",
       "</div>"
      ],
      "text/plain": [
       "                 user_id        session_id session_date     session_start_ts  \\\n",
       "124515  6A73CB5566BB494D  110E3F28C1F5415F   2025-08-28  2025-08-28 18:58:19   \n",
       "196252  6A73CB5566BB494D  D68C8D98A0F1C439   2025-08-29  2025-08-29 20:53:27   \n",
       "242428  6A73CB5566BB494D  6587D217472BF807   2025-08-30  2025-08-30 13:08:22   \n",
       "304287  6A73CB5566BB494D  A9BC25593D056F8E   2025-09-01  2025-09-01 18:52:49   \n",
       "346611  6A73CB5566BB494D  CB6F9C4191FAF6F6   2025-09-03  2025-09-03 22:49:08   \n",
       "363510  6A73CB5566BB494D  9C609432F6E6535A   2025-09-04  2025-09-04 13:59:46   \n",
       "391902  6A73CB5566BB494D  5D892E33B97A257A   2025-09-06  2025-09-06 18:46:55   \n",
       "404322  6A73CB5566BB494D  22A9BD3861F49087   2025-09-07  2025-09-07 18:33:49   \n",
       "415489  6A73CB5566BB494D  F70E351154B092DC   2025-09-08  2025-09-08 20:30:22   \n",
       "425805  6A73CB5566BB494D  84A3DC0CFF449F53   2025-09-09  2025-09-09 16:36:04   \n",
       "\n",
       "       install_date  session_number  registration_flag  page_counter region  \\\n",
       "124515   2025-08-28               1                  0             3   MENA   \n",
       "196252   2025-08-28               2                  1             3   MENA   \n",
       "242428   2025-08-28               3                  1             1   MENA   \n",
       "304287   2025-08-28               4                  1             2   MENA   \n",
       "346611   2025-08-28               5                  1             3   MENA   \n",
       "363510   2025-08-28               6                  1             4   MENA   \n",
       "391902   2025-08-28               7                  1             2   MENA   \n",
       "404322   2025-08-28               8                  1             3   MENA   \n",
       "415489   2025-08-28               9                  1             4   MENA   \n",
       "425805   2025-08-28              10                  1             1   MENA   \n",
       "\n",
       "       device  \n",
       "124515    Mac  \n",
       "196252    Mac  \n",
       "242428    Mac  \n",
       "304287    Mac  \n",
       "346611    Mac  \n",
       "363510    Mac  \n",
       "391902    Mac  \n",
       "404322    Mac  \n",
       "415489    Mac  \n",
       "425805    Mac  "
      ]
     },
     "execution_count": 4,
     "metadata": {},
     "output_type": "execute_result"
    }
   ],
   "source": [
    "# Найдём одного пользователя с наибольшим количеством сессий\n",
    "\n",
    "# user_max_sessions = sessions_history.groupby('user_id', as_index=False)['session_id'].count().sort_values(by='session_id',ascending=False).head(1)\n",
    "# user_max_sessions =  user_max_sessions['user_id'].values[0]\n",
    "user_max_sessions = sessions_history['user_id'].value_counts().idxmax()\n",
    "\n",
    "# Выведем на экран все данные из таблицы sessions_history для одного пользователя с наибольшим количеством сессий\n",
    "sessions_history[sessions_history['user_id'] == user_max_sessions]"
   ]
  },
  {
   "cell_type": "markdown",
   "metadata": {
    "id": "CmcGpJTP0eMq"
   },
   "source": [
    "#### 1.3. Анализ числа регистраций\n",
    "Используя исторические данные, визуализируем, как менялось число регистраций в приложении за время его существования.\n",
    "\n",
    "\n",
    "- Построим линейные графики общего числа пользователей и общего числа зарегистрированных пользователей по дням.\n",
    "\n",
    "- Построим отдельный линейный график доли зарегистрированных пользователей от всех пользователей по дням.\n"
   ]
  },
  {
   "cell_type": "code",
   "execution_count": 5,
   "metadata": {
    "id": "tN_6Ml3EPatS"
   },
   "outputs": [
    {
     "data": {
      "image/png": "[encoded data removed]",
      "text/plain": [
       "<Figure size 1080x576 with 1 Axes>"
      ]
     },
     "metadata": {
      "needs_background": "light"
     },
     "output_type": "display_data"
    },
    {
     "data": {
      "image/png": "[encoded data removed]",
      "text/plain": [
       "<Figure size 1080x576 with 1 Axes>"
      ]
     },
     "metadata": {
      "needs_background": "light"
     },
     "output_type": "display_data"
    }
   ],
   "source": [
    "# Агрегируем исторические данные по пользователеям для каждого дня\n",
    "gr_history = sessions_history.groupby(['user_id', 'session_date'], as_index=False )\\\n",
    "                             .agg(count_user = ('user_id', 'count'), max_registr_flag = ('registration_flag', 'max'))\\\n",
    "                             .sort_values(by='session_date', ascending=False) \n",
    "\n",
    "# Число уникальных пользователей для каждого дня\n",
    "users_all = gr_history.groupby('session_date')['user_id'].count()\n",
    "# Число зарегистрированных пользователей для каждого дня\n",
    "users_reg = gr_history[gr_history['max_registr_flag']==1].groupby('session_date')['user_id'].count()\n",
    "\n",
    "# Задаём размер графика\n",
    "plt.figure(figsize=(15, 8))\n",
    "\n",
    "# Строим линейный график для всех пользователей\n",
    "plt.plot(users_all, label='Все пользователи')\n",
    "# Строим линейный график для зарегистрированных пользователей\n",
    "plt.plot(users_reg, label='Зарегистрированные пользователи')\n",
    "\n",
    "# Настраиваем оформление графика\n",
    "plt.xticks(rotation=45) # поворот подписей оси Х\n",
    "plt.grid() # линии сетки\n",
    "plt.xlabel('Дата')\n",
    "plt.ylabel('Кол-во пользователей')\n",
    "plt.legend()\n",
    "plt.title('Число всех пользователей и число зарегистрированных пользователей по дням')\n",
    "# Выводим график\n",
    "plt.show()\n",
    "\n",
    "# Считаем доли зарегистрированных пользователей от всех пользователей по дням\n",
    "users_reg_share = 100*users_reg/users_all\n",
    "\n",
    "# Задаём размер графика\n",
    "plt.figure(figsize=(15, 8))\n",
    "\n",
    "# Строим линейный график доли зарегистрированных пользователей от всех пользователей по дням\n",
    "plt.plot(users_reg_share, label='Доля зарегистрированных пользователей, %')\n",
    "\n",
    "# Настраиваем оформление графика\n",
    "plt.xticks(rotation=45)\n",
    "plt.grid()\n",
    "plt.xlabel('Дата')\n",
    "plt.ylabel('Доля зарегистрированных пользователей, %')\n",
    "plt.legend()\n",
    "plt.title('Доля зарегистрированных пользователей от всех пользователей по дням, %')\n",
    "# Выводим график\n",
    "plt.show()"
   ]
  },
  {
   "cell_type": "markdown",
   "metadata": {},
   "source": [
    "Выводы:   \n",
    "- можно отметить, что количество пользователей росло начиная с начала июня. Затем наблюдаем пилообразные всплески с 7ми дневным интервалом до начала сентября,возможно вызванные повышением активности пользователей в выходные дни и  резкое падение с начала сентября. Динамика числа зарегистрированных пользователей  по дням в общем повторяет динамику числа всех пользователей, но носит более плавный характер не повторяя резких всплесков.\n",
    "- важно отметить тренд роста доли зарегистрированных пользователей в течение всего периода"
   ]
  },
  {
   "cell_type": "markdown",
   "metadata": {
    "id": "UR7D7RhF0eMr"
   },
   "source": [
    "#### 1.4. Анализ числа просмотренных страниц\n",
    "Чем больше страниц просмотрено, тем сильнее пользователь увлечён контентом, а значит, выше шансы, что он зарегистрируется и оплатит подписку.\n",
    "\n",
    "- Найдём количество сессий для каждого значения количества просмотренных страниц. \n",
    "\n",
    "- Построим столбчатую диаграмму, где по оси X будет число просмотренных страниц, по оси Y — количество сессий.\n"
   ]
  },
  {
   "cell_type": "code",
   "execution_count": 6,
   "metadata": {
    "id": "cb6hPlVzPaSf"
   },
   "outputs": [
    {
     "data": {
      "image/png": "[encoded data removed]",
      "text/plain": [
       "<Figure size 1080x576 with 1 Axes>"
      ]
     },
     "metadata": {
      "needs_background": "light"
     },
     "output_type": "display_data"
    }
   ],
   "source": [
    "# Находим количество сессий для каждого значения количества просмотренных страниц\n",
    "session_count = sessions_history.groupby('page_counter')['session_id'].count()\n",
    "session_count\n",
    "\n",
    "# Определим размер графика\n",
    "plt.figure(figsize=(15, 8))\n",
    "\n",
    "# Строим столбчатый график\n",
    "session_count.plot(\n",
    "         kind='bar',\n",
    "         rot = 0)\n",
    "\n",
    "# Настраиваем оформление графика\n",
    "plt.xlabel('Число просмотренных страниц')\n",
    "plt.ylabel('Количество сессий')\n",
    "plt.grid(axis='y')\n",
    "plt.title('Количество сессий для каждого значения количества просмотренных страниц')\n",
    "# Выводим график\n",
    "plt.show()"
   ]
  },
  {
   "cell_type": "markdown",
   "metadata": {},
   "source": [
    "Выводы:  \n",
    "- Из графика видно, что чаще всего пользователи просмотривают 3 страницы. График ности характер нормального симметричного распределения"
   ]
  },
  {
   "cell_type": "markdown",
   "metadata": {
    "id": "xDltSpVP0eMr"
   },
   "source": [
    "#### 1.5. Доля пользователей, просмотревших более четырёх страниц\n",
    "Продуктовая команда продукта считает, что сессии, в рамках которых пользователь просмотрел 4 и более страниц, говорят об удовлетворённости контентом и алгоритмами рекомендаций. Этот показатель является важной прокси-метрикой для продукта.\n",
    "\n",
    "- В датафрейме `sessions_history` создадим дополнительный столбец `good_session`. В него войдёт значение `1`, если за одну сессию было просмотрено 4 и более страниц, и значение `0`, если было просмотрено меньше.\n",
    "\n",
    "- Построим график со средним значением доли успешных сессий от всех сессий по дням за весь период наблюдения."
   ]
  },
  {
   "cell_type": "code",
   "execution_count": 7,
   "metadata": {
    "id": "iygaPfixPYMW"
   },
   "outputs": [
    {
     "data": {
      "image/png": "[encoded data removed]",
      "text/plain": [
       "<Figure size 1080x576 with 1 Axes>"
      ]
     },
     "metadata": {
      "needs_background": "light"
     },
     "output_type": "display_data"
    }
   ],
   "source": [
    "# Ссоздаём дополнительный столбец good_session со значением 1, если за одну сессию было просмотрено 4 и более страниц\n",
    "sessions_history['good_session'] = np.where(sessions_history['page_counter'] >= 4,  1, 0)\n",
    "\n",
    "# Считаем количество успешных сессий по дням\n",
    "gr_good_session = sessions_history.groupby('session_date')['good_session'].sum()\n",
    "# Считаем количество всех сессий по дням\n",
    "gr_all_session = sessions_history.groupby('session_date')['session_id'].count()\n",
    "# Определяем долю успешных сессий от всех сессий по дням\n",
    "share_good_session = 100*gr_good_session / gr_all_session\n",
    "\n",
    "# Определим размер графика\n",
    "plt.figure(figsize=(15, 8))\n",
    "\n",
    "# Строим линейный график\n",
    "plt.plot(share_good_session, \n",
    "         label='Доля успешных сессий, %')\n",
    "plt.xticks(rotation=45)\n",
    "\n",
    "# Настраиваем оформление графика\n",
    "plt.grid()\n",
    "plt.xlabel('Дата')\n",
    "plt.ylabel('Доля успешных сессий, %')\n",
    "plt.legend()\n",
    "plt.title('Доля успешных сессий от всех сессий по дням, %')\n",
    "# Выводим график\n",
    "plt.show()"
   ]
  },
  {
   "cell_type": "markdown",
   "metadata": {},
   "source": [
    "Выводы:  \n",
    "- динамика доли успешных сессий (с просмотром 4х и более страниц) несмотря на пилообразный вид в среднем постоянна до начала сентября с дальнейшим понижающим трендом"
   ]
  },
  {
   "cell_type": "markdown",
   "metadata": {
    "id": "21JcG77Y0eMt"
   },
   "source": [
    "### 2. Подготовка к тесту\n"
   ]
  },
  {
   "cell_type": "markdown",
   "metadata": {
    "id": "kXdcwkjf859k"
   },
   "source": [
    "#### 2.1 Формулировка нулевой и альтернативной гипотез\n",
    "\n",
    "Изначальное условие: команда разработчиков рекомендательных систем создала новый алгоритм, который, по их мнению, будет показывать более интересный контент для каждого пользователя.\n"
   ]
  },
  {
   "cell_type": "markdown",
   "metadata": {
    "id": "RiKI8eT49h3F"
   },
   "source": [
    "\n",
    "\n",
    "Сформулируем нулевую и альтернативную гипотезы:  \n",
    "\n",
    "- Метрика - количество хороших сессий, в течение которых пользователь просмотрит 4 и более страниц приложения\n",
    "\n",
    "- Нулевая гипотеза :\n",
    "    - H₀: доля успешных сессий в тестовой группе B меньше или равна, чем в контрольной группе A.\n",
    "- Альтернативная гипотеза :\n",
    "    - H₁: доля успешных сессий в тестовой группе B больше, чем в контрольной группе A.\n",
    "\n",
    "\n",
    "\n",
    "\n",
    "\n"
   ]
  },
  {
   "cell_type": "markdown",
   "metadata": {
    "id": "uzaeln270eMt"
   },
   "source": [
    "#### 2.2. Расчёт размера выборки\n"
   ]
  },
  {
   "cell_type": "code",
   "execution_count": null,
   "metadata": {
    "id": "zSxJyPGPNdaI"
   },
   "outputs": [
    {
     "name": "stdout",
     "output_type": "stream",
     "text": [
      "Необходимый размер выборки для каждой группы: 41040\n"
     ]
    }
   ],
   "source": [
    "# Задаём параметры\n",
    "alpha = 0.05  # Уровень значимости\n",
    "beta = 0.2  # Вероятность ошибки второго рода, часто 1 - мощность\n",
    "power = 0.8  # Мощность теста\n",
    "p1 = 0.3 # Базовый уровень доли\n",
    "mde = 0.03 * p1  # Минимальный детектируемый эффект 3%\n",
    "effect_size = proportion_effectsize(p1, p1 + mde)\n",
    "\n",
    "# Инициализируем класс NormalIndPower\n",
    "power_analysis = NormalIndPower()\n",
    "\n",
    "# Рассчитываем размер выборки\n",
    "sample_size = power_analysis.solve_power(\n",
    "    effect_size = effect_size,\n",
    "    power = power,\n",
    "    alpha = alpha,\n",
    "    ratio = 1 # Равномерное распределение выборок\n",
    ")\n",
    "\n",
    "print(f\"Необходимый размер выборки для каждой группы: {int(sample_size)}\")"
   ]
  },
  {
   "cell_type": "markdown",
   "metadata": {
    "id": "qLEv4RoV0eMu"
   },
   "source": [
    "#### 2.3. Расчёт длительности A/B-теста\n"
   ]
  },
  {
   "cell_type": "code",
   "execution_count": 9,
   "metadata": {
    "id": "KZDRbryDOGHa"
   },
   "outputs": [
    {
     "name": "stdout",
     "output_type": "stream",
     "text": [
      "Рассчитанная длительность A/B-теста при текущем уровене трафика в 9907.363636363636 пользователей в день составит 9 дней\n"
     ]
    }
   ],
   "source": [
    "# Среднее количество пользователей приложения в день по историческим данным\n",
    "avg_daily_users = sessions_history.groupby('session_date')['user_id'].count().mean()\n",
    "\n",
    "\n",
    "# Рассчитываем длительность теста в днях как отношение размера выборки к среднему числу пользователей\n",
    "test_duration = ceil(sample_size*2 / avg_daily_users )\n",
    "\n",
    "print(f\"Рассчитанная длительность A/B-теста при текущем уровене трафика в {avg_daily_users} пользователей в день составит {test_duration} дней\")"
   ]
  },
  {
   "cell_type": "markdown",
   "metadata": {},
   "source": [
    "<!-- ✅⚠️⛔❌🚩 -->\n",
    "\n",
    "\n",
    "Важно понимать, что это допустимый минимальный срок, однако для повышения надёжности результатов теста желательно провести его дольше , чтобы сгладить возможные колебания в поведении пользователей по дням недели и собрать больше данных для анализа.       \n",
    "В нашем случае тест длится - 20 дней, за счёт чего общее число участников увеличивается. Поэтому мощность теста остаётся высокой — 99.97%. Это значит, что вероятность не заметить реальный эффект крайне мала.   "
   ]
  },
  {
   "cell_type": "markdown",
   "metadata": {
    "id": "ZuvtAdha0eMv"
   },
   "source": [
    "### 3. Мониторинг А/В-теста"
   ]
  },
  {
   "cell_type": "markdown",
   "metadata": {
    "id": "jq5sE3Ya0eMv"
   },
   "source": [
    "#### 3.1. Проверка распределения пользователей\n",
    "\n",
    "A/B-тест успешно запущен, и уже доступны данные за первые три дня. На этом этапе нужно убедиться, что всё идёт хорошо: пользователи разделены правильным образом, а интересующие вас метрики корректно считаются.\n",
    "\n",
    "- Рассчитаем количество уникальных пользователей в каждой из экспериментальных групп для одного дня наблюдения.\n",
    "\n",
    "- Рассчитаем и выведем на экран процентную разницу в количестве пользователей в группах A и B. \n",
    "\n",
    "Для расчёта процентной разницы воспользуемся формулой:\n",
    "$$P = 100 \\cdot  \\frac{|A − B|}{A}$$"
   ]
  },
  {
   "cell_type": "code",
   "execution_count": 10,
   "metadata": {
    "id": "G1bqIzDJOUiz"
   },
   "outputs": [
    {
     "name": "stdout",
     "output_type": "stream",
     "text": [
      "Кол-во уникальных пользователей в каждой из экспериментальных групп для одного дня наблюдения\n",
      "группа А: 1477, группа В: 1466\n",
      "\n",
      "Разница в количестве пользователей в группах A и B,: 0.74 % \n"
     ]
    }
   ],
   "source": [
    "# Считаем и сохраним в датафрейм sessions_test_part CSV-файл с историческими данными о сессиях пользователей\n",
    "sessions_test_part = pd.read_csv('https://code.s3.yandex.net/datasets/sessions_project_test_part.csv')\n",
    "# display(sessions_test_part.head(5))\n",
    "\n",
    "# Выводим два датафрейма для группы А и группы В\n",
    "test_part_A = sessions_test_part[sessions_test_part.test_group == 'A']\n",
    "test_part_B = sessions_test_part[sessions_test_part.test_group == 'B']\n",
    "\n",
    "\n",
    "# Рассчитаем количество уникальных пользователей в каждой из экспериментальных групп для одного дня наблюдения\n",
    "users_a_count = test_part_A['user_id'].nunique()\n",
    "users_b_count = test_part_B['user_id'].nunique()\n",
    "print('Кол-во уникальных пользователей в каждой из экспериментальных групп для одного дня наблюдения')\n",
    "print(f'группа А: {users_a_count}, группа В: {users_b_count}\\n')\n",
    "\n",
    "# Рассчитаем процентную разницу в количестве пользователей в группах A и B\n",
    "diff = 100*abs(users_a_count - users_b_count) / users_a_count\n",
    "print(f'Разница в количестве пользователей в группах A и B,: {round(diff, 2)} % ')\n"
   ]
  },
  {
   "cell_type": "markdown",
   "metadata": {},
   "source": [
    "- разницу количества пользователей двух групп менее 1% можно считать не существенной"
   ]
  },
  {
   "cell_type": "code",
   "execution_count": 11,
   "metadata": {},
   "outputs": [
    {
     "data": {
      "image/png": "[encoded data removed]",
      "text/plain": [
       "<Figure size 648x288 with 1 Axes>"
      ]
     },
     "metadata": {
      "needs_background": "light"
     },
     "output_type": "display_data"
    }
   ],
   "source": [
    "# Группируем пользователей по группам А/В\n",
    "gr_test_part = sessions_test_part.groupby('test_group')['user_id'].count()\n",
    "\n",
    "# Строим диаграмму распределения пользователей по группа А/В\n",
    "gr_test_part.plot(kind='bar',\n",
    "                  rot=0,\n",
    "                  color=['salmon', 'darkseagreen'],#'yellowgreen'\n",
    "                  figsize=(9, 4))#labels=('Группа А', 'Группа В')\n",
    "            \n",
    "# Настраиваем оформление графика\n",
    "plt.title(\"Распределение пользователей по группам \")\n",
    "plt.ylabel('Кол-во пользователей')\n",
    "# Отображаем график\n",
    "plt.show() "
   ]
  },
  {
   "cell_type": "markdown",
   "metadata": {},
   "source": [
    "Выводы:  \n",
    "- распределение кол-ва пользователей равномерно. Разницу количества между двух групп менее 1% можно считать не существенной"
   ]
  },
  {
   "cell_type": "markdown",
   "metadata": {
    "id": "sgpNY5bv0eM0"
   },
   "source": [
    "#### 3.2. Проверка пересечений пользователей\n",
    "Помимо проверки равенства количества пользователей в группах, убедимся в том, что группы независимы. Для этого нужно убедиться, что никто из пользователей случайно не попал в обе группы одновременно.\n",
    "\n",
    "- Рассчитаем количество пользователей, которые встречаются одновременно в группах A и B, или убедитесь, что таких нет."
   ]
  },
  {
   "cell_type": "code",
   "execution_count": 12,
   "metadata": {
    "id": "E72ozN9FOX1u"
   },
   "outputs": [
    {
     "name": "stdout",
     "output_type": "stream",
     "text": [
      "Кол-во пользователей, которые встречаются одновременно в группах A и B: 0\n"
     ]
    }
   ],
   "source": [
    "# Пользователи группы А\n",
    "users_a = sessions_test_part[sessions_test_part.test_group == 'A']['user_id']\n",
    "# Пользователи группы В\n",
    "users_b = sessions_test_part[sessions_test_part.test_group == 'B']['user_id']\n",
    "\n",
    "# Рассчитаем количество пользователей, которые встречаются одновременно в группах A и B\n",
    "interselection = len(list(set(users_a) & set(users_b)))\n",
    "print(f'Кол-во пользователей, которые встречаются одновременно в группах A и B: {interselection}')"
   ]
  },
  {
   "cell_type": "code",
   "execution_count": 13,
   "metadata": {},
   "outputs": [
    {
     "data": {
      "image/png": "[encoded data removed]",
      "text/plain": [
       "<Figure size 432x288 with 1 Axes>"
      ]
     },
     "metadata": {},
     "output_type": "display_data"
    }
   ],
   "source": [
    "A = set(sessions_test_part[sessions_test_part.test_group == 'A']['user_id'].unique())\n",
    "B = set(sessions_test_part[sessions_test_part.test_group == 'B']['user_id'].unique())\n",
    "\n",
    "# Строим диаграмму Венна\n",
    "venn2([A, B], set_labels=('Группа А', 'Группа В'))\n",
    "\n",
    "# Отображаем график\n",
    "plt.title(\"Пересечение \")\n",
    "plt.show() \n",
    "\n"
   ]
  },
  {
   "cell_type": "markdown",
   "metadata": {},
   "source": [
    "Выводы:  \n",
    "- диаграмма Венна показывает полную независимость и отсутсвие пересечений двух групп между собой, т.е. пользователи одной группы не попадают на другую"
   ]
  },
  {
   "cell_type": "markdown",
   "metadata": {
    "id": "6RvkNLrg0eM1"
   },
   "source": [
    "#### 3.3. Равномерность разделения пользователей по устройствам\n",
    "Убедимся в том, что пользователи равномерно распределены по всем доступным категориальным переменным — типам устройств и регионам.\n",
    "\n",
    "Построим две диаграммы:\n",
    "\n",
    "- доля каждого типа устройства для пользователей из группы A,\n",
    "\n",
    "- доля каждого типа устройства для пользователей из группы B.\n"
   ]
  },
  {
   "cell_type": "code",
   "execution_count": 14,
   "metadata": {
    "id": "x_IP6PUNPWHC"
   },
   "outputs": [
    {
     "data": {
      "image/png": "[encoded data removed]",
      "text/plain": [
       "<Figure size 648x288 with 1 Axes>"
      ]
     },
     "metadata": {
      "needs_background": "light"
     },
     "output_type": "display_data"
    }
   ],
   "source": [
    "# Оставляем уникальные значения user_id\n",
    "uniq_region = sessions_test_part[['device', 'test_group', 'user_id']].drop_duplicates(subset='user_id')\n",
    "# Группируем уникальных пользователей по устройству\n",
    "gr_uniq_region = uniq_region.groupby(['device', 'test_group'], as_index=False)['user_id'].count()\n",
    "# Добавляем столбец с расчетом доли\n",
    "gr_uniq_region['share'] = 100*gr_uniq_region['user_id']/gr_uniq_region.groupby('test_group')['user_id'].transform('sum')\n",
    "# Группируем кол-во пользователей по типу устройства для тестовых групп\n",
    "device_test_part = pd.pivot_table(gr_uniq_region, values='share', index='device',\n",
    "                       columns=['test_group'], aggfunc=\"sum\") \n",
    "\n",
    "# Строим столбчатый график\n",
    "device_test_part.plot(kind='bar',\n",
    "                      figsize=(9, 4),\n",
    "                      rot=0,\n",
    "                      color=['salmon', 'darkseagreen'])\n",
    "# Настраиваем оформление графика\n",
    "plt.grid(axis='y')\n",
    "plt.xlabel('Тип устройства')\n",
    "plt.ylabel('Доля пользователей, %')\n",
    "plt.title('Равномерность разделения пользователей по устройствам')\n",
    "# Отображаем график\n",
    "plt.show()"
   ]
  },
  {
   "cell_type": "markdown",
   "metadata": {},
   "source": [
    "Выводы:  \n",
    "- несмотря на несущественные разницы по устройствам можно заключить, что распределение пользователей по группам равномерно и является репрезентативным"
   ]
  },
  {
   "cell_type": "markdown",
   "metadata": {
    "id": "gAgmP6vo0eM1"
   },
   "source": [
    "#### 3.4. Равномерность распределения пользователей по регионам\n",
    "Убедимся, что пользователи равномерно распределены по регионам.\n",
    "\n",
    "Построим две диаграммы:\n",
    "\n",
    "- доля каждого региона для пользователей из группы A,\n",
    "\n",
    "- доля каждого региона для пользователей из группы B.\n"
   ]
  },
  {
   "cell_type": "code",
   "execution_count": 15,
   "metadata": {
    "id": "3hAq-FG4OdYM"
   },
   "outputs": [
    {
     "data": {
      "image/png": "[encoded data removed]",
      "text/plain": [
       "<Figure size 648x288 with 1 Axes>"
      ]
     },
     "metadata": {
      "needs_background": "light"
     },
     "output_type": "display_data"
    },
    {
     "data": {
      "image/png": "[encoded data removed]",
      "text/plain": [
       "<Figure size 648x288 with 1 Axes>"
      ]
     },
     "metadata": {
      "needs_background": "light"
     },
     "output_type": "display_data"
    }
   ],
   "source": [
    "# Определяем уникальные значения user_id для группы А\n",
    "uniq_region_A = test_part_A[['region', 'test_group', 'user_id']].drop_duplicates(subset='user_id')\n",
    "# Группируем уникальных пользователей по региону\n",
    "gr_uniq_region_A = uniq_region_A.groupby(['region', 'test_group'], as_index=False)['user_id'].count()\n",
    "# Добавляем столбец с расчетом доли\n",
    "gr_uniq_region_A['share'] = 100*gr_uniq_region_A['user_id']/gr_uniq_region_A.groupby('test_group')['user_id'].transform('sum')\n",
    "\n",
    "# Определяем уникальные значения user_id для группы В\n",
    "uniq_region_B = test_part_B[['region', 'test_group', 'user_id']].drop_duplicates(subset='user_id')\n",
    "# Группируем уникальных пользователей по устройству\n",
    "gr_uniq_region_B = uniq_region_B.groupby(['region', 'test_group'], as_index=False)['user_id'].count()\n",
    "# Добавляем столбец с расчетом доли\n",
    "gr_uniq_region_B['share'] = 100*gr_uniq_region_B['user_id']/gr_uniq_region_B.groupby('test_group')['user_id'].transform('sum')\n",
    "\n",
    "\n",
    "# Строим график распределения для группы А\n",
    "gr_uniq_region_A[['region', 'share']].plot( kind='bar',\n",
    "                         x='region',\n",
    "                         rot=0,\n",
    "                         color='salmon',#'yellowgreen'\n",
    "                         figsize=(9, 4))\n",
    "# Настраиваем оформление графика\n",
    "plt.grid(axis='y')\n",
    "plt.xlabel('Регион')\n",
    "plt.ylabel('Доля пользователей, %')\n",
    "plt.title('Равномерность распределения пользователей по регионам из группы A')\n",
    "# Отображаем график\n",
    "plt.show()\n",
    "\n",
    "# # Строим график распределения для группы В\n",
    "gr_uniq_region_B[['region', 'share']].plot( kind='bar',\n",
    "                         x='region',\n",
    "                         rot=0,\n",
    "                         color='darkseagreen',#'yellowgreen'\n",
    "                         figsize=(9, 4))\n",
    "# Настраиваем оформление графика\n",
    "plt.grid(axis='y')\n",
    "plt.xlabel('Регион')\n",
    "plt.ylabel('Доля пользователей, %')\n",
    "plt.title('Равномерность распределения пользователей по регионам из группы В')\n",
    "# Отображаем график\n",
    "plt.show()"
   ]
  },
  {
   "cell_type": "markdown",
   "metadata": {},
   "source": [
    "Выводы:  \n",
    "- характер графиков распределение пользователей по регионам носит схожий характер. Данные по регионам распределены равномерно. "
   ]
  },
  {
   "cell_type": "markdown",
   "metadata": {
    "id": "X2WSZ-sDrSUi"
   },
   "source": [
    "#### 3.5. Вывод после проверки A/B-теста\n"
   ]
  },
  {
   "cell_type": "markdown",
   "metadata": {
    "id": "dDELHlAcOi8d"
   },
   "source": [
    "Выводы на основе проведённого анализа A/B-теста:  \n",
    "- Обнаруженое различие в количестве пользователей в двух группах незначительно \n",
    "- Пересечение пользователей из тестовой и контрольной групп не обнаружено  \n",
    "- Распределение пользователей тестовой и контрольной групп по категориальным переменным: устройствам и регионам можно считать равномерным"
   ]
  },
  {
   "cell_type": "markdown",
   "metadata": {
    "id": "nudRr_BQ0eM2"
   },
   "source": [
    "### 4. Проверка результатов A/B-теста\n"
   ]
  },
  {
   "cell_type": "markdown",
   "metadata": {
    "id": "JVve-YBB0eM2"
   },
   "source": [
    "#### 4.1. Получение результатов теста и подсчёт основной метрики\n"
   ]
  },
  {
   "cell_type": "code",
   "execution_count": null,
   "metadata": {
    "id": "EqRlwMtKPTir"
   },
   "outputs": [
    {
     "data": {
      "text/html": [
       "<div>\n",
       "<style scoped>\n",
       "    .dataframe tbody tr th:only-of-type {\n",
       "        vertical-align: middle;\n",
       "    }\n",
       "\n",
       "    .dataframe tbody tr th {\n",
       "        vertical-align: top;\n",
       "    }\n",
       "\n",
       "    .dataframe thead th {\n",
       "        text-align: right;\n",
       "    }\n",
       "</style>\n",
       "<table border=\"1\" class=\"dataframe\">\n",
       "  <thead>\n",
       "    <tr style=\"text-align: right;\">\n",
       "      <th></th>\n",
       "      <th>user_id</th>\n",
       "      <th>session_id</th>\n",
       "      <th>session_date</th>\n",
       "      <th>session_start_ts</th>\n",
       "      <th>install_date</th>\n",
       "      <th>session_number</th>\n",
       "      <th>registration_flag</th>\n",
       "      <th>page_counter</th>\n",
       "      <th>region</th>\n",
       "      <th>device</th>\n",
       "      <th>test_group</th>\n",
       "      <th>good_session</th>\n",
       "    </tr>\n",
       "  </thead>\n",
       "  <tbody>\n",
       "    <tr>\n",
       "      <th>0</th>\n",
       "      <td>6DAE3B3654DA738E</td>\n",
       "      <td>C69249E26E58F6E2</td>\n",
       "      <td>2025-10-26</td>\n",
       "      <td>2025-10-26 18:15:05</td>\n",
       "      <td>2025-10-16</td>\n",
       "      <td>3</td>\n",
       "      <td>0</td>\n",
       "      <td>3</td>\n",
       "      <td>MENA</td>\n",
       "      <td>Android</td>\n",
       "      <td>A</td>\n",
       "      <td>0</td>\n",
       "    </tr>\n",
       "    <tr>\n",
       "      <th>1</th>\n",
       "      <td>0A3FE5D1DD59110A</td>\n",
       "      <td>66D66D7C9F5181B7</td>\n",
       "      <td>2025-10-21</td>\n",
       "      <td>2025-10-21 17:04:53</td>\n",
       "      <td>2025-10-15</td>\n",
       "      <td>2</td>\n",
       "      <td>1</td>\n",
       "      <td>2</td>\n",
       "      <td>CIS</td>\n",
       "      <td>Android</td>\n",
       "      <td>B</td>\n",
       "      <td>0</td>\n",
       "    </tr>\n",
       "    <tr>\n",
       "      <th>2</th>\n",
       "      <td>2041F1D7AA740B88</td>\n",
       "      <td>50DE51D42215E74C</td>\n",
       "      <td>2025-10-23</td>\n",
       "      <td>2025-10-23 17:39:29</td>\n",
       "      <td>2025-10-19</td>\n",
       "      <td>3</td>\n",
       "      <td>0</td>\n",
       "      <td>2</td>\n",
       "      <td>MENA</td>\n",
       "      <td>Android</td>\n",
       "      <td>A</td>\n",
       "      <td>0</td>\n",
       "    </tr>\n",
       "    <tr>\n",
       "      <th>3</th>\n",
       "      <td>43D7585009168086</td>\n",
       "      <td>5763C0C353C22263</td>\n",
       "      <td>2025-10-24</td>\n",
       "      <td>2025-10-24 15:01:57</td>\n",
       "      <td>2025-10-18</td>\n",
       "      <td>4</td>\n",
       "      <td>0</td>\n",
       "      <td>1</td>\n",
       "      <td>CIS</td>\n",
       "      <td>iPhone</td>\n",
       "      <td>B</td>\n",
       "      <td>0</td>\n",
       "    </tr>\n",
       "    <tr>\n",
       "      <th>4</th>\n",
       "      <td>15AD68B14D62D88C</td>\n",
       "      <td>B1AD09F93C1053BC</td>\n",
       "      <td>2025-10-17</td>\n",
       "      <td>2025-10-17 17:34:39</td>\n",
       "      <td>2025-10-17</td>\n",
       "      <td>1</td>\n",
       "      <td>0</td>\n",
       "      <td>2</td>\n",
       "      <td>MENA</td>\n",
       "      <td>Android</td>\n",
       "      <td>B</td>\n",
       "      <td>0</td>\n",
       "    </tr>\n",
       "  </tbody>\n",
       "</table>\n",
       "</div>"
      ],
      "text/plain": [
       "            user_id        session_id session_date     session_start_ts  \\\n",
       "0  6DAE3B3654DA738E  C69249E26E58F6E2   2025-10-26  2025-10-26 18:15:05   \n",
       "1  0A3FE5D1DD59110A  66D66D7C9F5181B7   2025-10-21  2025-10-21 17:04:53   \n",
       "2  2041F1D7AA740B88  50DE51D42215E74C   2025-10-23  2025-10-23 17:39:29   \n",
       "3  43D7585009168086  5763C0C353C22263   2025-10-24  2025-10-24 15:01:57   \n",
       "4  15AD68B14D62D88C  B1AD09F93C1053BC   2025-10-17  2025-10-17 17:34:39   \n",
       "\n",
       "  install_date  session_number  registration_flag  page_counter region  \\\n",
       "0   2025-10-16               3                  0             3   MENA   \n",
       "1   2025-10-15               2                  1             2    CIS   \n",
       "2   2025-10-19               3                  0             2   MENA   \n",
       "3   2025-10-18               4                  0             1    CIS   \n",
       "4   2025-10-17               1                  0             2   MENA   \n",
       "\n",
       "    device test_group  good_session  \n",
       "0  Android          A             0  \n",
       "1  Android          B             0  \n",
       "2  Android          A             0  \n",
       "3   iPhone          B             0  \n",
       "4  Android          B             0  "
      ]
     },
     "execution_count": 16,
     "metadata": {},
     "output_type": "execute_result"
    }
   ],
   "source": [
    "# # Выгружаем и сохраняем в датафрейм данные тестирования\n",
    "sessions_test = pd.read_csv('https://code.s3.yandex.net/datasets/sessions_project_test.csv')\n",
    "\n",
    "\n",
    "# Ссоздаём дополнительный столбец good_session со значением 1, если за одну сессию было просмотрено 4 и более страниц и значение 0, если просмотрено меньше\n",
    "sessions_test['good_session'] = np.where(sessions_test['page_counter'] >= 4,  1, 0)\n",
    "sessions_test.head(5)"
   ]
  },
  {
   "cell_type": "markdown",
   "metadata": {
    "id": "aeYhrMYy0eM2"
   },
   "source": [
    "#### 4.2. Проверка корректности результатов теста\n",
    "\n",
    "\n",
    "- Рассчитаем количество уникальных сессий для каждого дня и обеих тестовых групп.\n",
    "\n",
    "- Проверим, что количество уникальных дневных сессий в двух выборках не различается или различия не статистически значимыми. Используем статистический тест, который позволит сделать вывод о равенстве средних двух выборок.\n"
   ]
  },
  {
   "cell_type": "markdown",
   "metadata": {},
   "source": [
    "Проверяем следующие гипотизы:  \n",
    "- H₀ (нулевая гипотеза) — количество уникальных дневных сессий не различается между тестовой и контрольной группами.\n",
    "- H₁ (альтернативная гипотеза) — количество уникальных дневных сессий различается между тестовой и контрольной группами."
   ]
  },
  {
   "cell_type": "code",
   "execution_count": 17,
   "metadata": {
    "id": "5NUlcltkTTSU"
   },
   "outputs": [
    {
     "name": "stdout",
     "output_type": "stream",
     "text": [
      "p-value теста Стьюдента =0.94\n",
      "H₀ (нулевая гипотеза) — количество уникальных дневных сессий не различается между тестовой и контрольной группами.\n"
     ]
    }
   ],
   "source": [
    "# Считаем количество сессий по дням для группы А\n",
    "session_test_A = sessions_test[sessions_test['test_group']=='A'].groupby('session_date')['session_id'].count()\n",
    "# Считаем количество сессий по дням для группы В\n",
    "session_test_B = sessions_test[sessions_test['test_group']=='B'].groupby('session_date')['session_id'].count()\n",
    "\n",
    "\n",
    "alpha = 0.05 ## на каком уровне значимости проверяем гипотезу о равенстве выборочных средних\n",
    "stat_ttest, p_value_ttest = ttest_ind(\n",
    "    session_test_A, \n",
    "    session_test_B, \n",
    "    alternative='two-sided' ) \n",
    "\n",
    "if p_value_ttest>alpha:\n",
    "    print(f'p-value теста Стьюдента ={round(p_value_ttest, 2)}')\n",
    "    print('H₀ (нулевая гипотеза) — количество уникальных дневных сессий не различается между тестовой и контрольной группами.')\n",
    "else:\n",
    "    print(f'p-value теста Стьюдента ={round(p_value_ttest, 2)}')\n",
    "    print('H₁ (альтернативная гипотеза) — количество уникальных дневных сессий различается между тестовой и контрольной группами.')\n"
   ]
  },
  {
   "cell_type": "markdown",
   "metadata": {
    "id": "7kwRxzg70eM3"
   },
   "source": [
    "#### 4.3. Сравнение доли успешных сессий\n"
   ]
  },
  {
   "cell_type": "code",
   "execution_count": 18,
   "metadata": {
    "id": "Uku-V1CpPRCz"
   },
   "outputs": [
    {
     "name": "stdout",
     "output_type": "stream",
     "text": [
      "Доля успешных сессий для группы A: 30.772335573449578%\n",
      "Доля успешных сессий для группы B: 31.828992745867524%\n",
      "Разница доли успешных скссий в группах А и В : 1.056657172417946%\n"
     ]
    }
   ],
   "source": [
    "# Считаем количество успешных сессий по дням для группы А\n",
    "good_session_test_A = sessions_test[sessions_test['test_group']=='A']['good_session'].sum()\n",
    "# Считаем количество всех сессий по дням для группы А\n",
    "all_session_test_A = sessions_test[sessions_test['test_group']=='A']['session_id'].count()\n",
    "# Определяем долю успешных сессий от всех сессий по дням для группы А\n",
    "share_good_session_A = 100*good_session_test_A / all_session_test_A\n",
    "print(f'Доля успешных сессий для группы A: {share_good_session_A}%')\n",
    "\n",
    "# Считаем количество успешных сессий по дням для группы B\n",
    "good_session_test_B = sessions_test[sessions_test['test_group']=='B']['good_session'].sum()\n",
    "# Считаем количество всех сессий по дням для группы B\n",
    "all_session_test_B = sessions_test[sessions_test['test_group']=='B']['session_id'].count()\n",
    "# Определяем долю успешных сессий от всех сессий по дням для группы B\n",
    "share_good_session_B = 100*good_session_test_B / all_session_test_B\n",
    "print(f'Доля успешных сессий для группы B: {share_good_session_B}%')\n",
    "\n",
    "# Разница доли успешных скссий в группах А и В\n",
    "diff = abs(share_good_session_A - share_good_session_B)\n",
    "print(f'Разница доли успешных скссий в группах А и В : {diff}%')\n"
   ]
  },
  {
   "cell_type": "markdown",
   "metadata": {},
   "source": [
    "<div \n",
    "\n",
    " \n",
    "Если доля успешных сессий в одной из групп выше, это может говорить о том, что изменения, протестированные в этой группе, положительно повлияли на пользовательский опыт. А значит, они могут быть внедрены в основную версию продукта."
   ]
  },
  {
   "cell_type": "markdown",
   "metadata": {
    "id": "9fMFuja10eM4"
   },
   "source": [
    "#### 4.4. Насколько статистически значимо изменение ключевой метрики\n",
    "\n",
    "Количество успешных сессий в тестовой выборке примерно на 1.1% выше, чем в контрольной, но делать выводы только на основе этого значения будет некорректно. Для принятия решения всегда необходимо отвечать на вопрос: является ли это изменение статистически значимым.\n",
    "\n",
    "- Используя статистический тест, рассчитаем, является ли изменение в метрике доли успешных сессий статистически значимым."
   ]
  },
  {
   "cell_type": "code",
   "execution_count": 19,
   "metadata": {
    "id": "gFvhRGwlPLS0"
   },
   "outputs": [
    {
     "name": "stdout",
     "output_type": "stream",
     "text": [
      "pvalue=0.9998425260011964\n",
      "pvalue=0.9998425260011964 > 0.05\n",
      "Нулевая гипотеза находит подтверждение!\n"
     ]
    }
   ],
   "source": [
    "alpha =  0.05 \n",
    "\n",
    "# Проведем Z-тест пропорций\n",
    "stat_ztest, p_value_ztest = proportions_ztest( \n",
    "    [good_session_test_A, good_session_test_B],\n",
    "    [all_session_test_A, all_session_test_B],\n",
    "    alternative='larger')\n",
    "\n",
    "print(f'pvalue={p_value_ztest}')\n",
    "\n",
    "if p_value_ztest > alpha:\n",
    "    print(f'pvalue={p_value_ztest} > {alpha}')\n",
    "    print('Нулевая гипотеза находит подтверждение!')\n",
    "else:\n",
    "    print(f'pvalue={p_value_ztest} < {alpha}')\n",
    "    print('Нулевая гипотеза не находит подтверждения!')"
   ]
  },
  {
   "cell_type": "markdown",
   "metadata": {
    "id": "GnJrkY9Q63zS"
   },
   "source": [
    "#### 4.5. Вывод по результатам A/B-эксперимента\n",
    "\n",
    "На основе проведённого анализа результатов теста сформулируйте и запишите свои выводы для команды разработки приложения. В выводе обязательно укажите:\n",
    "\n",
    "- Характеристики проведённого эксперимента, количество задействованных пользователей и длительность эксперимента.\n",
    "\n",
    "- Повлияло ли внедрение нового алгоритма рекомендаций на рост ключевой метрики и как.\n",
    "\n",
    "- Каким получилось значение p-value для оценки статистической значимости выявленного эффекта.\n",
    "\n",
    "- Стоит ли внедрять нововведение в приложение."
   ]
  },
  {
   "cell_type": "markdown",
   "metadata": {
    "id": "rri8KRIgPMrW"
   },
   "source": [
    "####    Выводы на основе проведённого анализа результатов теста:  \n",
    "- для проведёния эксперимента было задействованно 30579 пользователей. Длительность эксперимента составила 9 дней\n",
    "- внедрение нового алгоритма рекомендаций не повлияло на рост ключевой метрики  \n",
    "- значение p-value для оценки статистической значимости выявленного эффекта составило 0.0003  \n"
   ]
  },
  {
   "cell_type": "code",
   "execution_count": null,
   "metadata": {},
   "outputs": [],
   "source": []
  }
 ],
 "metadata": {
  "ExecuteTimeLog": [
   {
    "duration": 498,
    "start_time": "2025-07-02T05:10:08.109Z"
   },
   {
    "duration": 1119,
    "start_time": "2025-07-02T05:11:28.992Z"
   },
   {
    "duration": 10,
    "start_time": "2025-07-02T05:13:11.679Z"
   },
   {
    "duration": 5,
    "start_time": "2025-07-02T05:18:01.731Z"
   },
   {
    "duration": 5,
    "start_time": "2025-07-02T05:23:24.295Z"
   },
   {
    "duration": 33,
    "start_time": "2025-07-02T05:24:22.017Z"
   },
   {
    "duration": 1690,
    "start_time": "2025-07-02T05:25:02.950Z"
   },
   {
    "duration": 1608,
    "start_time": "2025-07-02T05:26:03.055Z"
   },
   {
    "duration": 3308,
    "start_time": "2025-07-02T05:29:29.856Z"
   },
   {
    "duration": 3139,
    "start_time": "2025-07-02T05:29:44.462Z"
   },
   {
    "duration": 3399,
    "start_time": "2025-07-02T05:46:22.508Z"
   },
   {
    "duration": 2060,
    "start_time": "2025-07-02T05:51:30.353Z"
   },
   {
    "duration": 2362,
    "start_time": "2025-07-02T05:52:47.365Z"
   },
   {
    "duration": 1990,
    "start_time": "2025-07-02T05:53:01.470Z"
   },
   {
    "duration": 25,
    "start_time": "2025-07-02T05:59:21.035Z"
   },
   {
    "duration": 378,
    "start_time": "2025-07-02T06:19:57.915Z"
   },
   {
    "duration": 413,
    "start_time": "2025-07-02T06:20:53.897Z"
   },
   {
    "duration": 405,
    "start_time": "2025-07-02T06:21:35.244Z"
   },
   {
    "duration": 13,
    "start_time": "2025-07-02T06:30:06.101Z"
   },
   {
    "duration": 1809,
    "start_time": "2025-07-02T06:30:30.888Z"
   },
   {
    "duration": 1736,
    "start_time": "2025-07-02T06:31:33.481Z"
   },
   {
    "duration": 1869,
    "start_time": "2025-07-02T06:32:12.575Z"
   },
   {
    "duration": 1808,
    "start_time": "2025-07-02T06:33:03.426Z"
   },
   {
    "duration": 4,
    "start_time": "2025-07-02T06:33:28.178Z"
   },
   {
    "duration": 6,
    "start_time": "2025-07-02T06:33:46.746Z"
   },
   {
    "duration": 1838,
    "start_time": "2025-07-02T06:38:33.176Z"
   },
   {
    "duration": 2047,
    "start_time": "2025-07-02T06:40:00.238Z"
   },
   {
    "duration": 2217,
    "start_time": "2025-07-02T06:43:26.951Z"
   },
   {
    "duration": 484,
    "start_time": "2025-07-02T06:44:17.426Z"
   },
   {
    "duration": 9,
    "start_time": "2025-07-02T06:45:16.786Z"
   },
   {
    "duration": 427,
    "start_time": "2025-07-02T06:46:13.769Z"
   },
   {
    "duration": 2393,
    "start_time": "2025-07-02T06:47:23.880Z"
   },
   {
    "duration": 2347,
    "start_time": "2025-07-02T06:48:00.315Z"
   },
   {
    "duration": 2356,
    "start_time": "2025-07-02T06:48:31.124Z"
   },
   {
    "duration": 2166,
    "start_time": "2025-07-02T06:48:59.700Z"
   },
   {
    "duration": 463,
    "start_time": "2025-07-02T07:02:43.798Z"
   },
   {
    "duration": 131,
    "start_time": "2025-07-02T07:03:08.700Z"
   },
   {
    "duration": 430,
    "start_time": "2025-07-02T07:03:14.820Z"
   },
   {
    "duration": 1674,
    "start_time": "2025-07-02T18:42:49.346Z"
   },
   {
    "duration": 418,
    "start_time": "2025-07-02T18:42:51.023Z"
   },
   {
    "duration": 0,
    "start_time": "2025-07-02T18:42:51.443Z"
   },
   {
    "duration": 0,
    "start_time": "2025-07-02T18:42:51.444Z"
   },
   {
    "duration": 379,
    "start_time": "2025-07-02T18:43:38.442Z"
   },
   {
    "duration": 1823,
    "start_time": "2025-07-02T18:46:19.155Z"
   },
   {
    "duration": 1687,
    "start_time": "2025-07-02T18:47:26.173Z"
   },
   {
    "duration": 1936,
    "start_time": "2025-07-02T18:50:37.471Z"
   },
   {
    "duration": 340,
    "start_time": "2025-07-02T18:51:38.206Z"
   },
   {
    "duration": 1498,
    "start_time": "2025-07-02T18:52:13.557Z"
   },
   {
    "duration": 1526,
    "start_time": "2025-07-02T18:52:24.606Z"
   },
   {
    "duration": 1554,
    "start_time": "2025-07-02T18:53:25.361Z"
   },
   {
    "duration": 3097,
    "start_time": "2025-07-02T18:54:32.107Z"
   },
   {
    "duration": 323,
    "start_time": "2025-07-02T18:56:14.669Z"
   },
   {
    "duration": 335,
    "start_time": "2025-07-02T18:56:48.238Z"
   },
   {
    "duration": 342,
    "start_time": "2025-07-02T18:57:10.130Z"
   },
   {
    "duration": 347,
    "start_time": "2025-07-02T18:57:51.725Z"
   },
   {
    "duration": 382,
    "start_time": "2025-07-02T18:58:37.195Z"
   },
   {
    "duration": 4,
    "start_time": "2025-07-02T19:01:08.674Z"
   },
   {
    "duration": 37,
    "start_time": "2025-07-02T19:01:37.390Z"
   },
   {
    "duration": 6,
    "start_time": "2025-07-02T19:04:18.019Z"
   },
   {
    "duration": 185,
    "start_time": "2025-07-02T19:04:35.064Z"
   },
   {
    "duration": 168,
    "start_time": "2025-07-02T19:04:49.017Z"
   },
   {
    "duration": 357,
    "start_time": "2025-07-02T19:20:27.579Z"
   },
   {
    "duration": 343,
    "start_time": "2025-07-02T19:21:34.701Z"
   },
   {
    "duration": 588,
    "start_time": "2025-07-02T19:22:19.283Z"
   },
   {
    "duration": 307,
    "start_time": "2025-07-02T19:23:13.565Z"
   },
   {
    "duration": 329,
    "start_time": "2025-07-02T19:23:30.565Z"
   },
   {
    "duration": 369,
    "start_time": "2025-07-02T19:24:33.645Z"
   },
   {
    "duration": 345,
    "start_time": "2025-07-02T19:24:54.581Z"
   },
   {
    "duration": 550,
    "start_time": "2025-07-02T19:25:29.238Z"
   },
   {
    "duration": 354,
    "start_time": "2025-07-02T19:29:09.193Z"
   },
   {
    "duration": 57,
    "start_time": "2025-07-02T19:41:09.362Z"
   },
   {
    "duration": 61,
    "start_time": "2025-07-02T19:41:25.749Z"
   },
   {
    "duration": 54,
    "start_time": "2025-07-02T19:42:09.251Z"
   },
   {
    "duration": 52,
    "start_time": "2025-07-02T19:42:28.145Z"
   },
   {
    "duration": 503,
    "start_time": "2025-07-02T20:04:43.728Z"
   },
   {
    "duration": 544,
    "start_time": "2025-07-02T20:05:22.664Z"
   },
   {
    "duration": 88,
    "start_time": "2025-07-02T20:11:43.266Z"
   },
   {
    "duration": 7,
    "start_time": "2025-07-02T20:13:25.153Z"
   },
   {
    "duration": 864,
    "start_time": "2025-07-02T20:13:37.428Z"
   },
   {
    "duration": 902,
    "start_time": "2025-07-02T20:15:56.677Z"
   },
   {
    "duration": 870,
    "start_time": "2025-07-02T20:16:37.013Z"
   },
   {
    "duration": 528,
    "start_time": "2025-07-02T20:17:14.295Z"
   },
   {
    "duration": 882,
    "start_time": "2025-07-02T20:17:30.733Z"
   },
   {
    "duration": 928,
    "start_time": "2025-07-02T20:22:46.674Z"
   },
   {
    "duration": 970,
    "start_time": "2025-07-02T20:22:58.479Z"
   },
   {
    "duration": 101,
    "start_time": "2025-07-02T20:27:35.583Z"
   },
   {
    "duration": 89,
    "start_time": "2025-07-02T20:27:55.971Z"
   },
   {
    "duration": 979,
    "start_time": "2025-07-02T20:28:01.869Z"
   },
   {
    "duration": 984,
    "start_time": "2025-07-02T20:30:07.000Z"
   },
   {
    "duration": 1005,
    "start_time": "2025-07-02T20:30:32.870Z"
   },
   {
    "duration": 1007,
    "start_time": "2025-07-02T20:30:48.207Z"
   },
   {
    "duration": 996,
    "start_time": "2025-07-02T20:32:11.937Z"
   },
   {
    "duration": 993,
    "start_time": "2025-07-02T20:32:34.561Z"
   },
   {
    "duration": 1558,
    "start_time": "2025-07-03T07:04:33.075Z"
   },
   {
    "duration": 675,
    "start_time": "2025-07-03T07:04:34.635Z"
   },
   {
    "duration": 1072,
    "start_time": "2025-07-03T07:04:35.312Z"
   },
   {
    "duration": 565,
    "start_time": "2025-07-03T07:04:36.386Z"
   },
   {
    "duration": 0,
    "start_time": "2025-07-03T07:04:36.953Z"
   },
   {
    "duration": 1087,
    "start_time": "2025-07-03T07:07:35.341Z"
   },
   {
    "duration": 1075,
    "start_time": "2025-07-03T07:07:54.966Z"
   },
   {
    "duration": 998,
    "start_time": "2025-07-03T07:09:12.191Z"
   },
   {
    "duration": 207,
    "start_time": "2025-07-03T07:15:00.220Z"
   },
   {
    "duration": 116,
    "start_time": "2025-07-03T07:15:48.295Z"
   },
   {
    "duration": 3776,
    "start_time": "2025-07-03T07:16:06.268Z"
   },
   {
    "duration": 1134,
    "start_time": "2025-07-03T07:19:11.499Z"
   },
   {
    "duration": 1299,
    "start_time": "2025-07-03T07:19:40.836Z"
   },
   {
    "duration": 1142,
    "start_time": "2025-07-03T07:21:41.262Z"
   },
   {
    "duration": 3102,
    "start_time": "2025-07-03T07:23:25.804Z"
   },
   {
    "duration": 3118,
    "start_time": "2025-07-03T07:23:43.980Z"
   },
   {
    "duration": 1144,
    "start_time": "2025-07-03T07:24:33.468Z"
   },
   {
    "duration": 1588,
    "start_time": "2025-07-03T08:01:46.384Z"
   },
   {
    "duration": 666,
    "start_time": "2025-07-03T08:01:47.974Z"
   },
   {
    "duration": 1353,
    "start_time": "2025-07-03T08:01:48.641Z"
   },
   {
    "duration": 600,
    "start_time": "2025-07-03T08:01:49.996Z"
   },
   {
    "duration": 0,
    "start_time": "2025-07-03T08:01:50.598Z"
   },
   {
    "duration": 1029,
    "start_time": "2025-07-03T08:05:23.155Z"
   },
   {
    "duration": 2973,
    "start_time": "2025-07-03T08:05:41.975Z"
   },
   {
    "duration": 994,
    "start_time": "2025-07-03T08:06:09.230Z"
   },
   {
    "duration": 1105,
    "start_time": "2025-07-03T08:06:36.268Z"
   },
   {
    "duration": 1123,
    "start_time": "2025-07-03T08:06:42.968Z"
   },
   {
    "duration": 1166,
    "start_time": "2025-07-03T08:07:23.268Z"
   },
   {
    "duration": 1159,
    "start_time": "2025-07-03T08:13:48.719Z"
   },
   {
    "duration": 1177,
    "start_time": "2025-07-03T08:14:02.553Z"
   },
   {
    "duration": 1252,
    "start_time": "2025-07-03T08:16:17.120Z"
   },
   {
    "duration": 1217,
    "start_time": "2025-07-03T08:18:52.984Z"
   },
   {
    "duration": 1254,
    "start_time": "2025-07-03T08:19:10.434Z"
   },
   {
    "duration": 1184,
    "start_time": "2025-07-03T08:20:07.673Z"
   },
   {
    "duration": 4,
    "start_time": "2025-07-03T08:25:55.829Z"
   },
   {
    "duration": 1147,
    "start_time": "2025-07-03T08:26:26.042Z"
   },
   {
    "duration": 1673,
    "start_time": "2025-07-03T08:30:07.322Z"
   },
   {
    "duration": 1719,
    "start_time": "2025-07-03T08:35:49.775Z"
   },
   {
    "duration": 1714,
    "start_time": "2025-07-03T08:36:30.061Z"
   },
   {
    "duration": 1649,
    "start_time": "2025-07-03T08:36:46.536Z"
   },
   {
    "duration": 1650,
    "start_time": "2025-07-03T08:40:11.029Z"
   },
   {
    "duration": 1654,
    "start_time": "2025-07-03T08:41:16.904Z"
   },
   {
    "duration": 155,
    "start_time": "2025-07-03T08:59:58.897Z"
   },
   {
    "duration": 1580,
    "start_time": "2025-07-03T09:00:08.964Z"
   },
   {
    "duration": 1188,
    "start_time": "2025-07-03T09:00:25.512Z"
   },
   {
    "duration": 1634,
    "start_time": "2025-07-03T09:01:21.188Z"
   },
   {
    "duration": 360,
    "start_time": "2025-07-03T09:05:31.591Z"
   },
   {
    "duration": 407,
    "start_time": "2025-07-03T09:05:49.541Z"
   },
   {
    "duration": 422,
    "start_time": "2025-07-03T09:06:48.094Z"
   },
   {
    "duration": 426,
    "start_time": "2025-07-03T09:07:02.097Z"
   },
   {
    "duration": 451,
    "start_time": "2025-07-03T09:08:49.540Z"
   },
   {
    "duration": 412,
    "start_time": "2025-07-03T09:09:27.105Z"
   },
   {
    "duration": 349,
    "start_time": "2025-07-03T09:09:36.807Z"
   },
   {
    "duration": 2359,
    "start_time": "2025-07-03T09:10:17.977Z"
   },
   {
    "duration": 342,
    "start_time": "2025-07-03T09:10:34.144Z"
   },
   {
    "duration": 354,
    "start_time": "2025-07-03T09:10:42.132Z"
   },
   {
    "duration": 344,
    "start_time": "2025-07-03T09:11:21.883Z"
   },
   {
    "duration": 357,
    "start_time": "2025-07-03T09:13:43.858Z"
   },
   {
    "duration": 337,
    "start_time": "2025-07-03T09:15:21.935Z"
   },
   {
    "duration": 378,
    "start_time": "2025-07-03T09:15:52.386Z"
   },
   {
    "duration": 341,
    "start_time": "2025-07-03T09:20:34.163Z"
   },
   {
    "duration": 341,
    "start_time": "2025-07-03T09:21:27.085Z"
   },
   {
    "duration": 348,
    "start_time": "2025-07-03T09:21:44.002Z"
   },
   {
    "duration": 390,
    "start_time": "2025-07-03T09:25:05.528Z"
   },
   {
    "duration": 373,
    "start_time": "2025-07-03T09:29:17.819Z"
   },
   {
    "duration": 5,
    "start_time": "2025-07-03T09:47:46.566Z"
   },
   {
    "duration": 1694,
    "start_time": "2025-07-03T09:48:14.417Z"
   },
   {
    "duration": 1661,
    "start_time": "2025-07-03T09:49:25.580Z"
   },
   {
    "duration": 1611,
    "start_time": "2025-07-03T09:50:40.701Z"
   },
   {
    "duration": 1571,
    "start_time": "2025-07-03T09:52:44.814Z"
   },
   {
    "duration": 1662,
    "start_time": "2025-07-03T09:53:58.582Z"
   },
   {
    "duration": 1377,
    "start_time": "2025-07-03T15:54:02.379Z"
   },
   {
    "duration": 357,
    "start_time": "2025-07-03T15:54:03.758Z"
   },
   {
    "duration": 1906,
    "start_time": "2025-07-03T15:54:04.117Z"
   },
   {
    "duration": 601,
    "start_time": "2025-07-03T15:54:06.025Z"
   },
   {
    "duration": 0,
    "start_time": "2025-07-03T15:54:06.628Z"
   },
   {
    "duration": 1449,
    "start_time": "2025-07-03T15:55:30.638Z"
   },
   {
    "duration": 1545,
    "start_time": "2025-07-03T15:55:43.048Z"
   },
   {
    "duration": 1413,
    "start_time": "2025-07-03T16:04:43.190Z"
   },
   {
    "duration": 1401,
    "start_time": "2025-07-03T16:06:48.119Z"
   },
   {
    "duration": 1420,
    "start_time": "2025-07-03T16:10:04.321Z"
   },
   {
    "duration": 1412,
    "start_time": "2025-07-03T16:10:28.688Z"
   },
   {
    "duration": 1570,
    "start_time": "2025-07-03T16:15:41.569Z"
   },
   {
    "duration": 1485,
    "start_time": "2025-07-03T16:16:37.683Z"
   },
   {
    "duration": 2004,
    "start_time": "2025-07-03T16:23:25.768Z"
   },
   {
    "duration": 2099,
    "start_time": "2025-07-03T16:23:56.466Z"
   },
   {
    "duration": 37,
    "start_time": "2025-07-03T16:31:51.709Z"
   },
   {
    "duration": 156,
    "start_time": "2025-07-03T16:35:11.402Z"
   },
   {
    "duration": 243,
    "start_time": "2025-07-03T16:36:47.612Z"
   },
   {
    "duration": 180,
    "start_time": "2025-07-03T16:40:01.989Z"
   },
   {
    "duration": 192,
    "start_time": "2025-07-03T16:41:37.061Z"
   },
   {
    "duration": 176,
    "start_time": "2025-07-03T16:42:07.669Z"
   },
   {
    "duration": 1641,
    "start_time": "2025-07-03T16:43:39.751Z"
   },
   {
    "duration": 1942,
    "start_time": "2025-07-03T16:44:40.703Z"
   },
   {
    "duration": 248,
    "start_time": "2025-07-03T16:45:09.616Z"
   },
   {
    "duration": 125,
    "start_time": "2025-07-03T17:59:30.793Z"
   },
   {
    "duration": 137,
    "start_time": "2025-07-03T18:00:27.737Z"
   },
   {
    "duration": 98,
    "start_time": "2025-07-03T18:01:08.005Z"
   },
   {
    "duration": 8,
    "start_time": "2025-07-03T18:02:27.428Z"
   },
   {
    "duration": 18,
    "start_time": "2025-07-03T18:02:49.918Z"
   },
   {
    "duration": 1409,
    "start_time": "2025-07-03T18:04:19.791Z"
   },
   {
    "duration": 373,
    "start_time": "2025-07-03T18:04:21.201Z"
   },
   {
    "duration": 2413,
    "start_time": "2025-07-03T18:04:21.576Z"
   },
   {
    "duration": 216,
    "start_time": "2025-07-03T18:04:23.991Z"
   },
   {
    "duration": 20,
    "start_time": "2025-07-03T18:04:24.209Z"
   },
   {
    "duration": 557,
    "start_time": "2025-07-03T18:04:24.231Z"
   },
   {
    "duration": 0,
    "start_time": "2025-07-03T18:04:24.789Z"
   },
   {
    "duration": 56,
    "start_time": "2025-07-03T18:16:29.463Z"
   },
   {
    "duration": 32,
    "start_time": "2025-07-03T18:17:25.607Z"
   },
   {
    "duration": 50,
    "start_time": "2025-07-03T18:17:43.174Z"
   },
   {
    "duration": 1700,
    "start_time": "2025-07-03T18:18:28.573Z"
   },
   {
    "duration": 68,
    "start_time": "2025-07-03T18:18:44.089Z"
   },
   {
    "duration": 108,
    "start_time": "2025-07-03T18:20:21.530Z"
   },
   {
    "duration": 29,
    "start_time": "2025-07-03T18:20:26.332Z"
   },
   {
    "duration": 10,
    "start_time": "2025-07-03T18:42:26.343Z"
   },
   {
    "duration": 9,
    "start_time": "2025-07-03T18:44:04.769Z"
   },
   {
    "duration": 41,
    "start_time": "2025-07-03T18:44:11.592Z"
   },
   {
    "duration": 94,
    "start_time": "2025-07-03T18:50:42.173Z"
   },
   {
    "duration": 104,
    "start_time": "2025-07-03T18:51:16.190Z"
   },
   {
    "duration": 96,
    "start_time": "2025-07-03T18:51:30.795Z"
   },
   {
    "duration": 73,
    "start_time": "2025-07-03T18:51:42.168Z"
   },
   {
    "duration": 97,
    "start_time": "2025-07-03T18:53:11.086Z"
   },
   {
    "duration": 114,
    "start_time": "2025-07-03T18:54:07.777Z"
   },
   {
    "duration": 100,
    "start_time": "2025-07-03T18:54:20.360Z"
   },
   {
    "duration": 77,
    "start_time": "2025-07-03T18:55:05.240Z"
   },
   {
    "duration": 116,
    "start_time": "2025-07-03T18:55:38.319Z"
   },
   {
    "duration": 101,
    "start_time": "2025-07-03T18:55:52.502Z"
   },
   {
    "duration": 74,
    "start_time": "2025-07-03T18:57:18.006Z"
   },
   {
    "duration": 76,
    "start_time": "2025-07-03T19:06:56.671Z"
   },
   {
    "duration": 2177,
    "start_time": "2025-07-03T19:08:05.433Z"
   },
   {
    "duration": 558,
    "start_time": "2025-07-03T19:10:22.817Z"
   },
   {
    "duration": 626,
    "start_time": "2025-07-03T19:11:02.861Z"
   },
   {
    "duration": 96,
    "start_time": "2025-07-03T19:13:57.484Z"
   },
   {
    "duration": 230,
    "start_time": "2025-07-03T19:14:15.356Z"
   },
   {
    "duration": 551,
    "start_time": "2025-07-03T19:14:45.164Z"
   },
   {
    "duration": 897,
    "start_time": "2025-07-03T19:16:12.043Z"
   },
   {
    "duration": 63,
    "start_time": "2025-07-03T19:24:35.771Z"
   },
   {
    "duration": 59,
    "start_time": "2025-07-03T19:24:38.722Z"
   },
   {
    "duration": 62,
    "start_time": "2025-07-03T19:24:43.011Z"
   },
   {
    "duration": 61,
    "start_time": "2025-07-03T19:24:56.011Z"
   },
   {
    "duration": 168,
    "start_time": "2025-07-03T19:27:08.826Z"
   },
   {
    "duration": 1187,
    "start_time": "2025-07-03T19:28:15.022Z"
   },
   {
    "duration": 215,
    "start_time": "2025-07-03T19:28:30.367Z"
   },
   {
    "duration": 223,
    "start_time": "2025-07-03T19:31:11.165Z"
   },
   {
    "duration": 274,
    "start_time": "2025-07-03T19:44:05.592Z"
   },
   {
    "duration": 237,
    "start_time": "2025-07-03T19:44:41.799Z"
   },
   {
    "duration": 217,
    "start_time": "2025-07-03T19:46:18.097Z"
   },
   {
    "duration": 336,
    "start_time": "2025-07-03T19:47:18.129Z"
   },
   {
    "duration": 247,
    "start_time": "2025-07-03T19:55:33.378Z"
   },
   {
    "duration": 257,
    "start_time": "2025-07-03T19:56:06.228Z"
   },
   {
    "duration": 450,
    "start_time": "2025-07-03T19:56:43.328Z"
   },
   {
    "duration": 476,
    "start_time": "2025-07-03T19:56:59.869Z"
   },
   {
    "duration": 392,
    "start_time": "2025-07-03T20:01:49.818Z"
   },
   {
    "duration": 203,
    "start_time": "2025-07-03T20:10:31.961Z"
   },
   {
    "duration": 1748,
    "start_time": "2025-07-04T07:34:55.183Z"
   },
   {
    "duration": 422,
    "start_time": "2025-07-04T07:34:56.933Z"
   },
   {
    "duration": 3030,
    "start_time": "2025-07-04T07:34:57.357Z"
   },
   {
    "duration": 259,
    "start_time": "2025-07-04T07:35:00.389Z"
   },
   {
    "duration": 326,
    "start_time": "2025-07-04T07:35:00.650Z"
   },
   {
    "duration": 665,
    "start_time": "2025-07-04T07:35:00.978Z"
   },
   {
    "duration": 631,
    "start_time": "2025-07-04T07:35:01.645Z"
   },
   {
    "duration": 0,
    "start_time": "2025-07-04T07:35:02.278Z"
   },
   {
    "duration": 249,
    "start_time": "2025-07-04T07:45:45.849Z"
   },
   {
    "duration": 16,
    "start_time": "2025-07-04T07:59:18.484Z"
   },
   {
    "duration": 16,
    "start_time": "2025-07-04T08:43:23.009Z"
   },
   {
    "duration": 173,
    "start_time": "2025-07-04T09:11:54.266Z"
   },
   {
    "duration": 35,
    "start_time": "2025-07-04T09:25:02.305Z"
   },
   {
    "duration": 24,
    "start_time": "2025-07-04T09:26:18.821Z"
   },
   {
    "duration": 82,
    "start_time": "2025-07-04T09:42:50.391Z"
   },
   {
    "duration": 46,
    "start_time": "2025-07-04T09:42:56.744Z"
   },
   {
    "duration": 35,
    "start_time": "2025-07-04T09:46:18.051Z"
   },
   {
    "duration": 28,
    "start_time": "2025-07-04T09:53:07.726Z"
   },
   {
    "duration": 32,
    "start_time": "2025-07-04T09:55:18.190Z"
   },
   {
    "duration": 29,
    "start_time": "2025-07-04T09:55:56.294Z"
   },
   {
    "duration": 30,
    "start_time": "2025-07-04T09:56:05.427Z"
   },
   {
    "duration": 30,
    "start_time": "2025-07-04T09:58:59.585Z"
   },
   {
    "duration": 42,
    "start_time": "2025-07-04T09:59:12.158Z"
   },
   {
    "duration": 51,
    "start_time": "2025-07-04T10:03:30.863Z"
   },
   {
    "duration": 9,
    "start_time": "2025-07-04T10:04:45.263Z"
   },
   {
    "duration": 8,
    "start_time": "2025-07-04T10:05:14.502Z"
   },
   {
    "duration": 9,
    "start_time": "2025-07-04T10:07:35.446Z"
   },
   {
    "duration": 17,
    "start_time": "2025-07-04T10:07:41.431Z"
   },
   {
    "duration": 9,
    "start_time": "2025-07-04T10:08:05.696Z"
   },
   {
    "duration": 9,
    "start_time": "2025-07-04T10:09:42.746Z"
   },
   {
    "duration": 9,
    "start_time": "2025-07-04T10:12:06.494Z"
   },
   {
    "duration": 9,
    "start_time": "2025-07-04T10:12:33.446Z"
   },
   {
    "duration": 12,
    "start_time": "2025-07-04T11:29:14.474Z"
   },
   {
    "duration": 60,
    "start_time": "2025-07-04T11:34:01.317Z"
   },
   {
    "duration": 51,
    "start_time": "2025-07-04T11:34:19.600Z"
   },
   {
    "duration": 42,
    "start_time": "2025-07-04T11:34:28.889Z"
   },
   {
    "duration": 42,
    "start_time": "2025-07-04T11:34:55.161Z"
   },
   {
    "duration": 32,
    "start_time": "2025-07-04T11:35:45.339Z"
   },
   {
    "duration": 28,
    "start_time": "2025-07-04T11:36:10.352Z"
   },
   {
    "duration": 89,
    "start_time": "2025-07-04T11:36:49.977Z"
   },
   {
    "duration": 29,
    "start_time": "2025-07-04T11:37:01.369Z"
   },
   {
    "duration": 28,
    "start_time": "2025-07-04T11:37:21.602Z"
   },
   {
    "duration": 8885,
    "start_time": "2025-07-04T11:41:00.645Z"
   },
   {
    "duration": 39,
    "start_time": "2025-07-04T11:45:06.617Z"
   },
   {
    "duration": 35,
    "start_time": "2025-07-04T11:45:25.657Z"
   },
   {
    "duration": 109,
    "start_time": "2025-07-04T11:46:44.823Z"
   },
   {
    "duration": 36,
    "start_time": "2025-07-04T11:47:05.231Z"
   },
   {
    "duration": 35,
    "start_time": "2025-07-04T11:47:18.048Z"
   },
   {
    "duration": 7,
    "start_time": "2025-07-04T11:48:28.108Z"
   },
   {
    "duration": 11,
    "start_time": "2025-07-04T11:48:39.618Z"
   },
   {
    "duration": 7,
    "start_time": "2025-07-04T11:49:09.311Z"
   },
   {
    "duration": 16,
    "start_time": "2025-07-04T11:49:24.404Z"
   },
   {
    "duration": 88,
    "start_time": "2025-07-04T11:56:10.533Z"
   },
   {
    "duration": 93,
    "start_time": "2025-07-04T11:56:26.557Z"
   },
   {
    "duration": 92,
    "start_time": "2025-07-04T11:57:31.707Z"
   },
   {
    "duration": 88,
    "start_time": "2025-07-04T11:58:02.404Z"
   },
   {
    "duration": 86,
    "start_time": "2025-07-04T12:40:05.361Z"
   },
   {
    "duration": 39,
    "start_time": "2025-07-04T12:40:15.250Z"
   },
   {
    "duration": 6,
    "start_time": "2025-07-04T12:41:08.673Z"
   },
   {
    "duration": 7,
    "start_time": "2025-07-04T12:41:23.210Z"
   },
   {
    "duration": 49,
    "start_time": "2025-07-04T12:41:57.793Z"
   },
   {
    "duration": 9,
    "start_time": "2025-07-04T12:46:59.342Z"
   },
   {
    "duration": 13,
    "start_time": "2025-07-04T12:47:45.049Z"
   },
   {
    "duration": 7,
    "start_time": "2025-07-04T12:49:28.327Z"
   },
   {
    "duration": 11,
    "start_time": "2025-07-04T12:52:26.096Z"
   },
   {
    "duration": 31,
    "start_time": "2025-07-04T12:58:10.325Z"
   },
   {
    "duration": 18,
    "start_time": "2025-07-04T13:01:38.563Z"
   },
   {
    "duration": 9,
    "start_time": "2025-07-04T13:09:38.506Z"
   },
   {
    "duration": 30,
    "start_time": "2025-07-04T13:09:51.237Z"
   },
   {
    "duration": 7,
    "start_time": "2025-07-04T13:09:57.934Z"
   },
   {
    "duration": 7,
    "start_time": "2025-07-04T13:39:19.119Z"
   },
   {
    "duration": 8,
    "start_time": "2025-07-04T13:39:38.286Z"
   },
   {
    "duration": 133,
    "start_time": "2025-07-04T13:40:09.301Z"
   },
   {
    "duration": 212,
    "start_time": "2025-07-04T13:40:19.607Z"
   },
   {
    "duration": 133,
    "start_time": "2025-07-04T13:41:07.144Z"
   },
   {
    "duration": 19,
    "start_time": "2025-07-04T13:43:49.972Z"
   },
   {
    "duration": 11,
    "start_time": "2025-07-04T13:43:54.611Z"
   },
   {
    "duration": 143,
    "start_time": "2025-07-04T13:45:37.955Z"
   },
   {
    "duration": 7,
    "start_time": "2025-07-04T13:45:49.667Z"
   },
   {
    "duration": 7,
    "start_time": "2025-07-04T13:46:01.131Z"
   },
   {
    "duration": 7,
    "start_time": "2025-07-04T13:47:12.420Z"
   },
   {
    "duration": 8,
    "start_time": "2025-07-04T13:47:39.308Z"
   },
   {
    "duration": 12,
    "start_time": "2025-07-04T13:48:08.113Z"
   },
   {
    "duration": 7,
    "start_time": "2025-07-04T13:48:34.148Z"
   },
   {
    "duration": 11,
    "start_time": "2025-07-04T13:48:49.852Z"
   },
   {
    "duration": 140,
    "start_time": "2025-07-04T13:51:41.862Z"
   },
   {
    "duration": 123,
    "start_time": "2025-07-04T13:52:41.808Z"
   },
   {
    "duration": 132,
    "start_time": "2025-07-04T13:53:26.640Z"
   },
   {
    "duration": 161,
    "start_time": "2025-07-04T14:01:52.372Z"
   },
   {
    "duration": 143,
    "start_time": "2025-07-04T14:02:16.917Z"
   },
   {
    "duration": 154,
    "start_time": "2025-07-04T14:03:53.663Z"
   },
   {
    "duration": 137,
    "start_time": "2025-07-04T14:04:51.215Z"
   },
   {
    "duration": 163,
    "start_time": "2025-07-04T14:05:02.663Z"
   },
   {
    "duration": 233,
    "start_time": "2025-07-04T14:05:49.239Z"
   },
   {
    "duration": 152,
    "start_time": "2025-07-04T14:07:46.378Z"
   },
   {
    "duration": 140,
    "start_time": "2025-07-04T14:09:13.660Z"
   },
   {
    "duration": 146,
    "start_time": "2025-07-04T14:09:38.795Z"
   },
   {
    "duration": 145,
    "start_time": "2025-07-04T14:09:48.323Z"
   },
   {
    "duration": 16,
    "start_time": "2025-07-04T14:18:18.566Z"
   },
   {
    "duration": 7,
    "start_time": "2025-07-04T14:21:15.035Z"
   },
   {
    "duration": 8,
    "start_time": "2025-07-04T14:22:23.627Z"
   },
   {
    "duration": 229,
    "start_time": "2025-07-04T14:24:33.812Z"
   },
   {
    "duration": 211,
    "start_time": "2025-07-04T14:25:25.589Z"
   },
   {
    "duration": 230,
    "start_time": "2025-07-04T14:28:14.938Z"
   },
   {
    "duration": 132,
    "start_time": "2025-07-04T14:31:10.042Z"
   },
   {
    "duration": 93,
    "start_time": "2025-07-04T14:33:22.779Z"
   },
   {
    "duration": 335,
    "start_time": "2025-07-04T14:33:36.145Z"
   },
   {
    "duration": 278,
    "start_time": "2025-07-04T14:36:04.988Z"
   },
   {
    "duration": 149,
    "start_time": "2025-07-04T14:37:45.908Z"
   },
   {
    "duration": 297,
    "start_time": "2025-07-04T14:38:01.717Z"
   },
   {
    "duration": 6,
    "start_time": "2025-07-04T14:52:26.216Z"
   },
   {
    "duration": 13,
    "start_time": "2025-07-04T14:53:57.010Z"
   },
   {
    "duration": 11,
    "start_time": "2025-07-04T14:54:35.407Z"
   },
   {
    "duration": 167,
    "start_time": "2025-07-04T14:54:56.383Z"
   },
   {
    "duration": 8,
    "start_time": "2025-07-04T14:55:26.873Z"
   },
   {
    "duration": 7,
    "start_time": "2025-07-04T14:55:32.455Z"
   },
   {
    "duration": 9,
    "start_time": "2025-07-04T14:55:44.078Z"
   },
   {
    "duration": 148,
    "start_time": "2025-07-04T14:57:07.033Z"
   },
   {
    "duration": 156,
    "start_time": "2025-07-04T14:57:33.770Z"
   },
   {
    "duration": 150,
    "start_time": "2025-07-04T15:14:09.702Z"
   },
   {
    "duration": 249,
    "start_time": "2025-07-04T15:15:50.006Z"
   },
   {
    "duration": 92,
    "start_time": "2025-07-04T15:16:14.101Z"
   },
   {
    "duration": 155,
    "start_time": "2025-07-04T15:16:25.350Z"
   },
   {
    "duration": 158,
    "start_time": "2025-07-04T15:16:48.488Z"
   },
   {
    "duration": 9,
    "start_time": "2025-07-04T15:19:55.088Z"
   },
   {
    "duration": 10,
    "start_time": "2025-07-04T15:20:25.400Z"
   },
   {
    "duration": 10,
    "start_time": "2025-07-04T15:26:41.460Z"
   },
   {
    "duration": 11,
    "start_time": "2025-07-04T15:27:16.254Z"
   },
   {
    "duration": 17,
    "start_time": "2025-07-04T15:27:33.612Z"
   },
   {
    "duration": 18,
    "start_time": "2025-07-04T15:30:39.477Z"
   },
   {
    "duration": 17,
    "start_time": "2025-07-04T15:31:33.592Z"
   },
   {
    "duration": 19,
    "start_time": "2025-07-04T15:46:38.742Z"
   },
   {
    "duration": 12,
    "start_time": "2025-07-04T15:47:20.793Z"
   },
   {
    "duration": 9,
    "start_time": "2025-07-04T15:47:42.091Z"
   },
   {
    "duration": 13,
    "start_time": "2025-07-04T15:47:57.468Z"
   },
   {
    "duration": 164,
    "start_time": "2025-07-04T15:48:39.131Z"
   },
   {
    "duration": 19,
    "start_time": "2025-07-04T15:52:12.350Z"
   },
   {
    "duration": 90,
    "start_time": "2025-07-04T15:53:10.522Z"
   },
   {
    "duration": 14,
    "start_time": "2025-07-04T15:53:23.021Z"
   },
   {
    "duration": 17,
    "start_time": "2025-07-04T15:54:20.413Z"
   },
   {
    "duration": 20,
    "start_time": "2025-07-04T15:55:27.263Z"
   },
   {
    "duration": 13,
    "start_time": "2025-07-04T15:58:04.530Z"
   },
   {
    "duration": 7,
    "start_time": "2025-07-04T15:58:29.002Z"
   },
   {
    "duration": 8,
    "start_time": "2025-07-04T15:59:49.610Z"
   },
   {
    "duration": 11,
    "start_time": "2025-07-04T16:00:28.482Z"
   },
   {
    "duration": 9,
    "start_time": "2025-07-04T16:00:41.224Z"
   },
   {
    "duration": 11,
    "start_time": "2025-07-04T16:00:53.027Z"
   },
   {
    "duration": 18,
    "start_time": "2025-07-04T16:01:10.461Z"
   },
   {
    "duration": 20,
    "start_time": "2025-07-04T16:03:11.056Z"
   },
   {
    "duration": 19,
    "start_time": "2025-07-04T16:09:40.170Z"
   },
   {
    "duration": 21,
    "start_time": "2025-07-04T16:11:13.507Z"
   },
   {
    "duration": 20,
    "start_time": "2025-07-04T16:13:08.164Z"
   },
   {
    "duration": 21,
    "start_time": "2025-07-04T16:16:11.111Z"
   },
   {
    "duration": 23,
    "start_time": "2025-07-04T16:20:48.609Z"
   },
   {
    "duration": 21,
    "start_time": "2025-07-04T16:21:21.506Z"
   },
   {
    "duration": 172,
    "start_time": "2025-07-04T16:21:51.073Z"
   },
   {
    "duration": 25,
    "start_time": "2025-07-04T16:23:03.741Z"
   },
   {
    "duration": 31,
    "start_time": "2025-07-04T16:23:34.699Z"
   },
   {
    "duration": 161,
    "start_time": "2025-07-04T16:23:59.588Z"
   },
   {
    "duration": 159,
    "start_time": "2025-07-04T16:24:42.284Z"
   },
   {
    "duration": 193,
    "start_time": "2025-07-04T16:25:11.869Z"
   },
   {
    "duration": 174,
    "start_time": "2025-07-04T16:25:20.564Z"
   },
   {
    "duration": 162,
    "start_time": "2025-07-04T16:25:52.172Z"
   },
   {
    "duration": 175,
    "start_time": "2025-07-04T16:34:18.626Z"
   },
   {
    "duration": 244,
    "start_time": "2025-07-04T16:37:12.243Z"
   },
   {
    "duration": 160,
    "start_time": "2025-07-04T16:37:26.507Z"
   },
   {
    "duration": 17,
    "start_time": "2025-07-04T16:52:46.429Z"
   },
   {
    "duration": 25,
    "start_time": "2025-07-04T16:54:06.773Z"
   },
   {
    "duration": 17,
    "start_time": "2025-07-04T16:54:40.182Z"
   },
   {
    "duration": 24,
    "start_time": "2025-07-04T16:56:51.752Z"
   },
   {
    "duration": 22,
    "start_time": "2025-07-04T16:57:40.730Z"
   },
   {
    "duration": 151,
    "start_time": "2025-07-04T16:58:24.505Z"
   },
   {
    "duration": 171,
    "start_time": "2025-07-04T16:58:45.281Z"
   },
   {
    "duration": 206,
    "start_time": "2025-07-04T17:06:06.421Z"
   },
   {
    "duration": 194,
    "start_time": "2025-07-04T17:06:42.420Z"
   },
   {
    "duration": 189,
    "start_time": "2025-07-04T17:12:07.720Z"
   },
   {
    "duration": 183,
    "start_time": "2025-07-04T17:15:04.010Z"
   },
   {
    "duration": 9,
    "start_time": "2025-07-04T17:17:06.660Z"
   },
   {
    "duration": 272,
    "start_time": "2025-07-04T17:25:14.337Z"
   },
   {
    "duration": 292,
    "start_time": "2025-07-04T18:18:30.307Z"
   },
   {
    "duration": 280,
    "start_time": "2025-07-04T18:22:41.257Z"
   },
   {
    "duration": 273,
    "start_time": "2025-07-04T18:23:04.150Z"
   },
   {
    "duration": 109,
    "start_time": "2025-07-04T18:28:08.924Z"
   },
   {
    "duration": 26,
    "start_time": "2025-07-04T18:28:59.987Z"
   },
   {
    "duration": 26,
    "start_time": "2025-07-04T18:29:52.154Z"
   },
   {
    "duration": 53,
    "start_time": "2025-07-04T18:42:47.239Z"
   },
   {
    "duration": 47,
    "start_time": "2025-07-04T18:55:23.675Z"
   },
   {
    "duration": 88,
    "start_time": "2025-07-04T19:19:46.643Z"
   },
   {
    "duration": 48,
    "start_time": "2025-07-04T19:19:57.979Z"
   },
   {
    "duration": 51,
    "start_time": "2025-07-04T19:48:06.302Z"
   },
   {
    "duration": 45,
    "start_time": "2025-07-04T19:48:22.710Z"
   },
   {
    "duration": 87,
    "start_time": "2025-07-04T19:54:50.698Z"
   },
   {
    "duration": 90,
    "start_time": "2025-07-04T19:56:34.419Z"
   },
   {
    "duration": 88,
    "start_time": "2025-07-04T19:56:45.611Z"
   },
   {
    "duration": 103,
    "start_time": "2025-07-04T20:00:07.141Z"
   },
   {
    "duration": 90,
    "start_time": "2025-07-04T20:00:18.496Z"
   },
   {
    "duration": 86,
    "start_time": "2025-07-04T20:02:05.623Z"
   },
   {
    "duration": 88,
    "start_time": "2025-07-04T20:05:47.072Z"
   },
   {
    "duration": 90,
    "start_time": "2025-07-04T20:06:12.919Z"
   },
   {
    "duration": 98,
    "start_time": "2025-07-04T20:07:17.906Z"
   },
   {
    "duration": 92,
    "start_time": "2025-07-04T20:07:44.721Z"
   },
   {
    "duration": 90,
    "start_time": "2025-07-04T20:08:38.954Z"
   },
   {
    "duration": 123,
    "start_time": "2025-07-04T20:10:15.771Z"
   },
   {
    "duration": 125,
    "start_time": "2025-07-04T20:11:11.213Z"
   },
   {
    "duration": 75,
    "start_time": "2025-07-04T20:14:01.029Z"
   },
   {
    "duration": 66,
    "start_time": "2025-07-04T20:14:27.852Z"
   },
   {
    "duration": 25,
    "start_time": "2025-07-04T20:21:18.297Z"
   },
   {
    "duration": 45,
    "start_time": "2025-07-04T20:24:43.483Z"
   },
   {
    "duration": 257,
    "start_time": "2025-07-04T20:25:42.581Z"
   },
   {
    "duration": 270,
    "start_time": "2025-07-04T20:25:55.950Z"
   },
   {
    "duration": 24,
    "start_time": "2025-07-04T20:40:41.176Z"
   },
   {
    "duration": 31,
    "start_time": "2025-07-04T20:43:29.697Z"
   },
   {
    "duration": 14,
    "start_time": "2025-07-04T20:44:31.763Z"
   },
   {
    "duration": 1513,
    "start_time": "2025-07-04T21:10:18.355Z"
   },
   {
    "duration": 398,
    "start_time": "2025-07-04T21:10:19.870Z"
   },
   {
    "duration": 3526,
    "start_time": "2025-07-04T21:10:20.269Z"
   },
   {
    "duration": 212,
    "start_time": "2025-07-04T21:10:23.798Z"
   },
   {
    "duration": 289,
    "start_time": "2025-07-04T21:10:24.012Z"
   },
   {
    "duration": 595,
    "start_time": "2025-07-04T21:10:24.303Z"
   },
   {
    "duration": 555,
    "start_time": "2025-07-04T21:10:24.899Z"
   },
   {
    "duration": 0,
    "start_time": "2025-07-04T21:10:25.456Z"
   },
   {
    "duration": 0,
    "start_time": "2025-07-04T21:10:25.457Z"
   },
   {
    "duration": 0,
    "start_time": "2025-07-04T21:10:25.458Z"
   },
   {
    "duration": 0,
    "start_time": "2025-07-04T21:10:25.459Z"
   },
   {
    "duration": 0,
    "start_time": "2025-07-04T21:10:25.461Z"
   },
   {
    "duration": 0,
    "start_time": "2025-07-04T21:10:25.462Z"
   },
   {
    "duration": 0,
    "start_time": "2025-07-04T21:10:25.463Z"
   },
   {
    "duration": 0,
    "start_time": "2025-07-04T21:10:25.465Z"
   },
   {
    "duration": 0,
    "start_time": "2025-07-04T21:10:25.466Z"
   },
   {
    "duration": 0,
    "start_time": "2025-07-04T21:10:25.467Z"
   },
   {
    "duration": 0,
    "start_time": "2025-07-04T21:10:25.468Z"
   },
   {
    "duration": 0,
    "start_time": "2025-07-04T21:10:25.469Z"
   },
   {
    "duration": 0,
    "start_time": "2025-07-04T21:10:25.470Z"
   },
   {
    "duration": 1550,
    "start_time": "2025-07-05T14:19:17.045Z"
   },
   {
    "duration": 400,
    "start_time": "2025-07-05T14:19:18.596Z"
   },
   {
    "duration": 2842,
    "start_time": "2025-07-05T14:19:18.998Z"
   },
   {
    "duration": 219,
    "start_time": "2025-07-05T14:19:21.842Z"
   },
   {
    "duration": 322,
    "start_time": "2025-07-05T14:19:22.063Z"
   },
   {
    "duration": 607,
    "start_time": "2025-07-05T14:19:22.387Z"
   },
   {
    "duration": 511,
    "start_time": "2025-07-05T14:19:22.996Z"
   },
   {
    "duration": 0,
    "start_time": "2025-07-05T14:19:23.509Z"
   },
   {
    "duration": 0,
    "start_time": "2025-07-05T14:19:23.510Z"
   },
   {
    "duration": 0,
    "start_time": "2025-07-05T14:19:23.512Z"
   },
   {
    "duration": 0,
    "start_time": "2025-07-05T14:19:23.513Z"
   },
   {
    "duration": 0,
    "start_time": "2025-07-05T14:19:23.515Z"
   },
   {
    "duration": 0,
    "start_time": "2025-07-05T14:19:23.516Z"
   },
   {
    "duration": 0,
    "start_time": "2025-07-05T14:19:23.517Z"
   },
   {
    "duration": 0,
    "start_time": "2025-07-05T14:19:23.518Z"
   },
   {
    "duration": 0,
    "start_time": "2025-07-05T14:19:23.519Z"
   },
   {
    "duration": 0,
    "start_time": "2025-07-05T14:19:23.521Z"
   },
   {
    "duration": 0,
    "start_time": "2025-07-05T14:19:23.522Z"
   },
   {
    "duration": 0,
    "start_time": "2025-07-05T14:19:23.523Z"
   },
   {
    "duration": 0,
    "start_time": "2025-07-05T14:19:23.524Z"
   },
   {
    "duration": 15,
    "start_time": "2025-07-05T14:20:21.427Z"
   },
   {
    "duration": 12,
    "start_time": "2025-07-05T14:26:25.217Z"
   },
   {
    "duration": 224,
    "start_time": "2025-07-05T14:45:03.372Z"
   },
   {
    "duration": 253,
    "start_time": "2025-07-05T14:48:21.642Z"
   },
   {
    "duration": 99,
    "start_time": "2025-07-05T17:54:37.302Z"
   },
   {
    "duration": 10,
    "start_time": "2025-07-05T18:09:16.643Z"
   },
   {
    "duration": 8604,
    "start_time": "2025-07-05T18:09:37.662Z"
   },
   {
    "duration": 1131,
    "start_time": "2025-07-05T18:09:46.268Z"
   },
   {
    "duration": 1116,
    "start_time": "2025-07-05T18:09:47.401Z"
   },
   {
    "duration": 230,
    "start_time": "2025-07-05T18:09:48.519Z"
   },
   {
    "duration": 2357,
    "start_time": "2025-07-05T18:09:48.751Z"
   },
   {
    "duration": 223,
    "start_time": "2025-07-05T18:09:51.109Z"
   },
   {
    "duration": 97,
    "start_time": "2025-07-05T18:09:51.334Z"
   },
   {
    "duration": 0,
    "start_time": "2025-07-05T18:09:51.433Z"
   },
   {
    "duration": 0,
    "start_time": "2025-07-05T18:09:51.434Z"
   },
   {
    "duration": 0,
    "start_time": "2025-07-05T18:09:51.435Z"
   },
   {
    "duration": 0,
    "start_time": "2025-07-05T18:09:51.436Z"
   },
   {
    "duration": 0,
    "start_time": "2025-07-05T18:09:51.437Z"
   },
   {
    "duration": 0,
    "start_time": "2025-07-05T18:09:51.438Z"
   },
   {
    "duration": 0,
    "start_time": "2025-07-05T18:09:51.439Z"
   },
   {
    "duration": 0,
    "start_time": "2025-07-05T18:09:51.440Z"
   },
   {
    "duration": 0,
    "start_time": "2025-07-05T18:09:51.441Z"
   },
   {
    "duration": 0,
    "start_time": "2025-07-05T18:09:51.443Z"
   },
   {
    "duration": 0,
    "start_time": "2025-07-05T18:09:51.444Z"
   },
   {
    "duration": 0,
    "start_time": "2025-07-05T18:09:51.445Z"
   },
   {
    "duration": 0,
    "start_time": "2025-07-05T18:09:51.446Z"
   },
   {
    "duration": 0,
    "start_time": "2025-07-05T18:09:51.447Z"
   },
   {
    "duration": 1055,
    "start_time": "2025-07-05T18:19:10.329Z"
   },
   {
    "duration": 623,
    "start_time": "2025-07-05T18:51:15.270Z"
   },
   {
    "duration": 133,
    "start_time": "2025-07-05T18:51:45.399Z"
   },
   {
    "duration": 26,
    "start_time": "2025-07-05T18:59:28.988Z"
   },
   {
    "duration": 162,
    "start_time": "2025-07-05T19:03:00.774Z"
   },
   {
    "duration": 37,
    "start_time": "2025-07-05T19:06:54.352Z"
   },
   {
    "duration": 29,
    "start_time": "2025-07-05T19:08:38.104Z"
   },
   {
    "duration": 28,
    "start_time": "2025-07-05T19:09:07.864Z"
   },
   {
    "duration": 38,
    "start_time": "2025-07-05T19:09:56.673Z"
   },
   {
    "duration": 129,
    "start_time": "2025-07-05T19:11:49.482Z"
   },
   {
    "duration": 128,
    "start_time": "2025-07-05T19:13:33.912Z"
   },
   {
    "duration": 8,
    "start_time": "2025-07-05T19:17:06.938Z"
   },
   {
    "duration": 60,
    "start_time": "2025-07-05T19:17:13.444Z"
   },
   {
    "duration": 175,
    "start_time": "2025-07-05T19:20:23.193Z"
   },
   {
    "duration": 13,
    "start_time": "2025-07-05T19:20:42.817Z"
   },
   {
    "duration": 326,
    "start_time": "2025-07-05T19:24:40.209Z"
   },
   {
    "duration": 251,
    "start_time": "2025-07-05T19:36:26.579Z"
   },
   {
    "duration": 48,
    "start_time": "2025-07-05T19:37:46.003Z"
   },
   {
    "duration": 70,
    "start_time": "2025-07-05T19:38:05.676Z"
   },
   {
    "duration": 43,
    "start_time": "2025-07-05T19:38:38.317Z"
   },
   {
    "duration": 18,
    "start_time": "2025-07-05T19:41:29.352Z"
   },
   {
    "duration": 98,
    "start_time": "2025-07-05T19:43:09.599Z"
   },
   {
    "duration": 71,
    "start_time": "2025-07-05T19:43:20.653Z"
   },
   {
    "duration": 34,
    "start_time": "2025-07-05T19:44:00.151Z"
   },
   {
    "duration": 48,
    "start_time": "2025-07-05T19:44:16.936Z"
   },
   {
    "duration": 24,
    "start_time": "2025-07-05T19:44:52.344Z"
   },
   {
    "duration": 2387,
    "start_time": "2025-07-05T19:47:35.530Z"
   },
   {
    "duration": 1068,
    "start_time": "2025-07-05T19:47:37.919Z"
   },
   {
    "duration": 1025,
    "start_time": "2025-07-05T19:47:38.989Z"
   },
   {
    "duration": 239,
    "start_time": "2025-07-05T19:47:40.017Z"
   },
   {
    "duration": 2342,
    "start_time": "2025-07-05T19:47:40.258Z"
   },
   {
    "duration": 212,
    "start_time": "2025-07-05T19:47:42.601Z"
   },
   {
    "duration": 610,
    "start_time": "2025-07-05T19:47:42.815Z"
   },
   {
    "duration": 15,
    "start_time": "2025-07-05T19:47:43.427Z"
   },
   {
    "duration": 221,
    "start_time": "2025-07-05T19:47:43.444Z"
   },
   {
    "duration": 28,
    "start_time": "2025-07-05T19:47:43.672Z"
   },
   {
    "duration": 142,
    "start_time": "2025-07-05T19:47:43.702Z"
   },
   {
    "duration": 8,
    "start_time": "2025-07-05T19:47:43.845Z"
   },
   {
    "duration": 89,
    "start_time": "2025-07-05T19:47:43.855Z"
   },
   {
    "duration": 172,
    "start_time": "2025-07-05T19:47:43.946Z"
   },
   {
    "duration": 353,
    "start_time": "2025-07-05T19:47:44.120Z"
   },
   {
    "duration": 257,
    "start_time": "2025-07-05T19:47:44.475Z"
   },
   {
    "duration": 61,
    "start_time": "2025-07-05T19:47:44.734Z"
   },
   {
    "duration": 76,
    "start_time": "2025-07-05T19:47:44.796Z"
   },
   {
    "duration": 43,
    "start_time": "2025-07-05T19:47:44.874Z"
   },
   {
    "duration": 2646,
    "start_time": "2025-07-06T09:44:54.689Z"
   },
   {
    "duration": 1404,
    "start_time": "2025-07-06T09:44:57.337Z"
   },
   {
    "duration": 2302,
    "start_time": "2025-07-06T09:44:58.743Z"
   },
   {
    "duration": 343,
    "start_time": "2025-07-06T09:45:01.048Z"
   },
   {
    "duration": 2823,
    "start_time": "2025-07-06T09:45:01.393Z"
   },
   {
    "duration": 234,
    "start_time": "2025-07-06T09:45:04.219Z"
   },
   {
    "duration": 680,
    "start_time": "2025-07-06T09:45:04.454Z"
   },
   {
    "duration": 18,
    "start_time": "2025-07-06T09:45:05.140Z"
   },
   {
    "duration": 252,
    "start_time": "2025-07-06T09:45:05.160Z"
   },
   {
    "duration": 29,
    "start_time": "2025-07-06T09:45:05.415Z"
   },
   {
    "duration": 505,
    "start_time": "2025-07-06T09:45:05.446Z"
   },
   {
    "duration": 38,
    "start_time": "2025-07-06T09:45:05.953Z"
   },
   {
    "duration": 127,
    "start_time": "2025-07-06T09:45:05.993Z"
   },
   {
    "duration": 212,
    "start_time": "2025-07-06T09:45:06.122Z"
   },
   {
    "duration": 576,
    "start_time": "2025-07-06T09:45:06.339Z"
   },
   {
    "duration": 373,
    "start_time": "2025-07-06T09:45:06.917Z"
   },
   {
    "duration": 61,
    "start_time": "2025-07-06T09:45:07.292Z"
   },
   {
    "duration": 89,
    "start_time": "2025-07-06T09:45:07.356Z"
   },
   {
    "duration": 258,
    "start_time": "2025-07-06T09:45:07.448Z"
   },
   {
    "duration": 86,
    "start_time": "2025-07-06T09:48:37.388Z"
   },
   {
    "duration": 356,
    "start_time": "2025-07-06T09:48:42.823Z"
   },
   {
    "duration": 208,
    "start_time": "2025-07-06T09:48:48.386Z"
   },
   {
    "duration": 8816,
    "start_time": "2025-07-06T11:34:38.612Z"
   },
   {
    "duration": 1442,
    "start_time": "2025-07-06T11:34:47.431Z"
   },
   {
    "duration": 1233,
    "start_time": "2025-07-06T11:34:48.876Z"
   },
   {
    "duration": 267,
    "start_time": "2025-07-06T11:34:50.111Z"
   },
   {
    "duration": 2630,
    "start_time": "2025-07-06T11:34:50.380Z"
   },
   {
    "duration": 235,
    "start_time": "2025-07-06T11:34:53.012Z"
   },
   {
    "duration": 707,
    "start_time": "2025-07-06T11:34:53.249Z"
   },
   {
    "duration": 16,
    "start_time": "2025-07-06T11:34:53.959Z"
   },
   {
    "duration": 344,
    "start_time": "2025-07-06T11:34:53.977Z"
   },
   {
    "duration": 64,
    "start_time": "2025-07-06T11:34:54.323Z"
   },
   {
    "duration": 133,
    "start_time": "2025-07-06T11:34:54.389Z"
   },
   {
    "duration": 15,
    "start_time": "2025-07-06T11:34:54.524Z"
   },
   {
    "duration": 68,
    "start_time": "2025-07-06T11:34:54.541Z"
   },
   {
    "duration": 291,
    "start_time": "2025-07-06T11:34:54.612Z"
   },
   {
    "duration": 296,
    "start_time": "2025-07-06T11:34:54.905Z"
   },
   {
    "duration": 321,
    "start_time": "2025-07-06T11:34:55.203Z"
   },
   {
    "duration": 50,
    "start_time": "2025-07-06T11:34:55.525Z"
   },
   {
    "duration": 83,
    "start_time": "2025-07-06T11:34:55.577Z"
   },
   {
    "duration": 77,
    "start_time": "2025-07-06T11:34:55.662Z"
   },
   {
    "duration": 9,
    "start_time": "2025-07-06T11:37:31.707Z"
   },
   {
    "duration": 53,
    "start_time": "2025-07-06T11:39:02.543Z"
   },
   {
    "duration": 52,
    "start_time": "2025-07-06T11:40:41.077Z"
   },
   {
    "duration": 89,
    "start_time": "2025-07-06T11:41:16.910Z"
   },
   {
    "duration": 75,
    "start_time": "2025-07-06T11:41:29.927Z"
   },
   {
    "duration": 55,
    "start_time": "2025-07-06T11:43:16.910Z"
   },
   {
    "duration": 13,
    "start_time": "2025-07-06T11:49:33.914Z"
   },
   {
    "duration": 10,
    "start_time": "2025-07-06T11:59:00.768Z"
   },
   {
    "duration": 10,
    "start_time": "2025-07-06T12:00:03.803Z"
   },
   {
    "duration": 107,
    "start_time": "2025-07-06T12:02:58.761Z"
   },
   {
    "duration": 13,
    "start_time": "2025-07-06T12:03:32.852Z"
   },
   {
    "duration": 14,
    "start_time": "2025-07-06T12:05:28.736Z"
   },
   {
    "duration": 12,
    "start_time": "2025-07-06T12:07:05.243Z"
   },
   {
    "duration": 12,
    "start_time": "2025-07-06T12:07:28.251Z"
   },
   {
    "duration": 6,
    "start_time": "2025-07-06T12:07:35.237Z"
   },
   {
    "duration": 10,
    "start_time": "2025-07-06T12:07:49.440Z"
   },
   {
    "duration": 9,
    "start_time": "2025-07-06T12:11:48.642Z"
   },
   {
    "duration": 15,
    "start_time": "2025-07-06T12:13:10.819Z"
   },
   {
    "duration": 9,
    "start_time": "2025-07-06T12:13:34.860Z"
   },
   {
    "duration": 14,
    "start_time": "2025-07-06T12:14:10.571Z"
   },
   {
    "duration": 19,
    "start_time": "2025-07-06T12:26:26.618Z"
   },
   {
    "duration": 4,
    "start_time": "2025-07-06T12:29:45.429Z"
   },
   {
    "duration": 11,
    "start_time": "2025-07-06T12:29:55.763Z"
   },
   {
    "duration": 11,
    "start_time": "2025-07-06T12:30:15.623Z"
   },
   {
    "duration": 9,
    "start_time": "2025-07-06T12:31:30.535Z"
   },
   {
    "duration": 10,
    "start_time": "2025-07-06T12:35:27.287Z"
   },
   {
    "duration": 12,
    "start_time": "2025-07-06T12:35:38.634Z"
   },
   {
    "duration": 86,
    "start_time": "2025-07-06T12:37:23.137Z"
   },
   {
    "duration": 15,
    "start_time": "2025-07-06T12:37:36.585Z"
   },
   {
    "duration": 27,
    "start_time": "2025-07-06T12:47:06.738Z"
   },
   {
    "duration": 15,
    "start_time": "2025-07-06T12:50:02.075Z"
   },
   {
    "duration": 25,
    "start_time": "2025-07-06T12:50:38.413Z"
   },
   {
    "duration": 20,
    "start_time": "2025-07-06T12:51:09.696Z"
   },
   {
    "duration": 23,
    "start_time": "2025-07-06T12:55:03.023Z"
   },
   {
    "duration": 13,
    "start_time": "2025-07-06T12:56:36.812Z"
   },
   {
    "duration": 16,
    "start_time": "2025-07-06T12:57:08.725Z"
   },
   {
    "duration": 86,
    "start_time": "2025-07-06T12:57:36.356Z"
   },
   {
    "duration": 17,
    "start_time": "2025-07-06T12:57:43.816Z"
   },
   {
    "duration": 1964,
    "start_time": "2025-07-06T12:58:36.967Z"
   },
   {
    "duration": 15,
    "start_time": "2025-07-06T12:59:33.229Z"
   },
   {
    "duration": 22,
    "start_time": "2025-07-06T13:00:38.247Z"
   },
   {
    "duration": 136,
    "start_time": "2025-07-06T13:03:05.594Z"
   },
   {
    "duration": 21,
    "start_time": "2025-07-06T13:05:10.766Z"
   },
   {
    "duration": 20,
    "start_time": "2025-07-06T13:08:48.495Z"
   },
   {
    "duration": 15,
    "start_time": "2025-07-06T13:09:17.333Z"
   },
   {
    "duration": 26,
    "start_time": "2025-07-06T13:10:56.355Z"
   },
   {
    "duration": 27,
    "start_time": "2025-07-06T13:11:12.448Z"
   },
   {
    "duration": 33,
    "start_time": "2025-07-06T13:19:37.658Z"
   },
   {
    "duration": 22,
    "start_time": "2025-07-06T13:20:17.492Z"
   },
   {
    "duration": 17,
    "start_time": "2025-07-06T13:20:33.659Z"
   },
   {
    "duration": 16,
    "start_time": "2025-07-06T13:21:29.942Z"
   },
   {
    "duration": 14,
    "start_time": "2025-07-06T13:21:52.187Z"
   },
   {
    "duration": 21,
    "start_time": "2025-07-06T13:25:34.771Z"
   },
   {
    "duration": 23,
    "start_time": "2025-07-06T13:48:49.331Z"
   },
   {
    "duration": 28,
    "start_time": "2025-07-06T13:49:59.340Z"
   },
   {
    "duration": 30,
    "start_time": "2025-07-06T13:51:34.961Z"
   },
   {
    "duration": 32,
    "start_time": "2025-07-06T13:55:16.579Z"
   },
   {
    "duration": 32,
    "start_time": "2025-07-06T13:55:55.416Z"
   },
   {
    "duration": 32,
    "start_time": "2025-07-06T13:56:29.091Z"
   },
   {
    "duration": 30,
    "start_time": "2025-07-06T13:56:36.351Z"
   },
   {
    "duration": 26,
    "start_time": "2025-07-06T13:56:53.750Z"
   },
   {
    "duration": 29,
    "start_time": "2025-07-06T14:08:42.790Z"
   },
   {
    "duration": 25,
    "start_time": "2025-07-06T14:15:03.153Z"
   },
   {
    "duration": 324,
    "start_time": "2025-07-06T14:15:24.506Z"
   },
   {
    "duration": 372,
    "start_time": "2025-07-06T14:15:57.337Z"
   },
   {
    "duration": 207,
    "start_time": "2025-07-06T14:16:33.638Z"
   },
   {
    "duration": 197,
    "start_time": "2025-07-06T14:16:58.077Z"
   },
   {
    "duration": 182,
    "start_time": "2025-07-06T14:17:38.204Z"
   },
   {
    "duration": 20,
    "start_time": "2025-07-06T14:21:03.668Z"
   },
   {
    "duration": 329,
    "start_time": "2025-07-06T14:23:42.972Z"
   },
   {
    "duration": 377,
    "start_time": "2025-07-06T14:24:03.276Z"
   },
   {
    "duration": 7,
    "start_time": "2025-07-06T14:25:03.143Z"
   },
   {
    "duration": 9,
    "start_time": "2025-07-06T14:25:24.360Z"
   },
   {
    "duration": 8,
    "start_time": "2025-07-06T14:25:35.374Z"
   },
   {
    "duration": 10,
    "start_time": "2025-07-06T14:25:55.474Z"
   },
   {
    "duration": 11,
    "start_time": "2025-07-06T14:26:04.367Z"
   },
   {
    "duration": 7,
    "start_time": "2025-07-06T14:26:14.630Z"
   },
   {
    "duration": 11,
    "start_time": "2025-07-06T14:26:24.424Z"
   },
   {
    "duration": 12,
    "start_time": "2025-07-06T14:27:22.301Z"
   },
   {
    "duration": 14,
    "start_time": "2025-07-06T14:27:28.511Z"
   },
   {
    "duration": 19,
    "start_time": "2025-07-06T14:27:49.223Z"
   },
   {
    "duration": 16,
    "start_time": "2025-07-06T14:28:10.961Z"
   },
   {
    "duration": 337,
    "start_time": "2025-07-06T14:35:12.029Z"
   },
   {
    "duration": 329,
    "start_time": "2025-07-06T14:36:04.719Z"
   },
   {
    "duration": 340,
    "start_time": "2025-07-06T14:47:49.950Z"
   },
   {
    "duration": 337,
    "start_time": "2025-07-06T14:48:14.208Z"
   },
   {
    "duration": 435,
    "start_time": "2025-07-06T14:48:27.952Z"
   },
   {
    "duration": 9,
    "start_time": "2025-07-06T14:49:16.433Z"
   },
   {
    "duration": 340,
    "start_time": "2025-07-06T14:50:16.649Z"
   },
   {
    "duration": 287,
    "start_time": "2025-07-06T14:50:41.238Z"
   },
   {
    "duration": 48,
    "start_time": "2025-07-06T15:01:54.144Z"
   },
   {
    "duration": 48,
    "start_time": "2025-07-06T15:14:45.296Z"
   },
   {
    "duration": 4,
    "start_time": "2025-07-06T15:15:25.508Z"
   },
   {
    "duration": 47,
    "start_time": "2025-07-06T15:15:39.275Z"
   },
   {
    "duration": 46,
    "start_time": "2025-07-06T15:16:03.275Z"
   },
   {
    "duration": 61,
    "start_time": "2025-07-06T15:17:22.123Z"
   },
   {
    "duration": 13,
    "start_time": "2025-07-06T15:31:14.308Z"
   },
   {
    "duration": 14,
    "start_time": "2025-07-06T15:32:48.003Z"
   },
   {
    "duration": 14,
    "start_time": "2025-07-06T15:32:53.317Z"
   },
   {
    "duration": 9,
    "start_time": "2025-07-06T15:35:03.462Z"
   },
   {
    "duration": 4,
    "start_time": "2025-07-06T15:37:18.029Z"
   },
   {
    "duration": 4,
    "start_time": "2025-07-06T15:38:45.037Z"
   },
   {
    "duration": 25,
    "start_time": "2025-07-06T15:40:05.963Z"
   },
   {
    "duration": 68,
    "start_time": "2025-07-06T15:40:33.865Z"
   },
   {
    "duration": 68,
    "start_time": "2025-07-06T15:40:56.429Z"
   },
   {
    "duration": 87,
    "start_time": "2025-07-06T15:41:08.222Z"
   },
   {
    "duration": 5,
    "start_time": "2025-07-06T15:41:18.414Z"
   },
   {
    "duration": 25,
    "start_time": "2025-07-06T15:42:20.987Z"
   },
   {
    "duration": 2713,
    "start_time": "2025-07-06T15:42:28.806Z"
   },
   {
    "duration": 1184,
    "start_time": "2025-07-06T15:42:31.522Z"
   },
   {
    "duration": 1249,
    "start_time": "2025-07-06T15:42:32.708Z"
   },
   {
    "duration": 289,
    "start_time": "2025-07-06T15:42:33.960Z"
   },
   {
    "duration": 2623,
    "start_time": "2025-07-06T15:42:34.252Z"
   },
   {
    "duration": 245,
    "start_time": "2025-07-06T15:42:36.877Z"
   },
   {
    "duration": 750,
    "start_time": "2025-07-06T15:42:37.124Z"
   },
   {
    "duration": 21,
    "start_time": "2025-07-06T15:42:37.877Z"
   },
   {
    "duration": 109,
    "start_time": "2025-07-06T15:42:37.900Z"
   },
   {
    "duration": 31,
    "start_time": "2025-07-06T15:42:38.013Z"
   },
   {
    "duration": 158,
    "start_time": "2025-07-06T15:42:38.046Z"
   },
   {
    "duration": 10,
    "start_time": "2025-07-06T15:42:38.207Z"
   },
   {
    "duration": 224,
    "start_time": "2025-07-06T15:42:38.219Z"
   },
   {
    "duration": 184,
    "start_time": "2025-07-06T15:42:38.445Z"
   },
   {
    "duration": 413,
    "start_time": "2025-07-06T15:42:38.631Z"
   },
   {
    "duration": 284,
    "start_time": "2025-07-06T15:42:39.046Z"
   },
   {
    "duration": 61,
    "start_time": "2025-07-06T15:42:39.332Z"
   },
   {
    "duration": 146,
    "start_time": "2025-07-06T15:42:39.395Z"
   },
   {
    "duration": 173,
    "start_time": "2025-07-06T15:42:39.543Z"
   },
   {
    "duration": 15,
    "start_time": "2025-07-06T15:45:29.437Z"
   },
   {
    "duration": 7,
    "start_time": "2025-07-06T15:46:10.509Z"
   },
   {
    "duration": 6,
    "start_time": "2025-07-06T15:47:26.028Z"
   },
   {
    "duration": 5,
    "start_time": "2025-07-06T15:48:32.680Z"
   },
   {
    "duration": 2491,
    "start_time": "2025-07-06T15:53:30.181Z"
   },
   {
    "duration": 1175,
    "start_time": "2025-07-06T15:53:32.675Z"
   },
   {
    "duration": 1123,
    "start_time": "2025-07-06T15:53:33.852Z"
   },
   {
    "duration": 258,
    "start_time": "2025-07-06T15:53:34.977Z"
   },
   {
    "duration": 2414,
    "start_time": "2025-07-06T15:53:35.239Z"
   },
   {
    "duration": 234,
    "start_time": "2025-07-06T15:53:37.656Z"
   },
   {
    "duration": 627,
    "start_time": "2025-07-06T15:53:37.892Z"
   },
   {
    "duration": 26,
    "start_time": "2025-07-06T15:53:38.521Z"
   },
   {
    "duration": 55,
    "start_time": "2025-07-06T15:53:38.549Z"
   },
   {
    "duration": 32,
    "start_time": "2025-07-06T15:53:38.607Z"
   },
   {
    "duration": 166,
    "start_time": "2025-07-06T15:53:38.640Z"
   },
   {
    "duration": 11,
    "start_time": "2025-07-06T15:53:38.808Z"
   },
   {
    "duration": 90,
    "start_time": "2025-07-06T15:53:38.821Z"
   },
   {
    "duration": 191,
    "start_time": "2025-07-06T15:53:38.912Z"
   },
   {
    "duration": 387,
    "start_time": "2025-07-06T15:53:39.105Z"
   },
   {
    "duration": 263,
    "start_time": "2025-07-06T15:53:39.494Z"
   },
   {
    "duration": 52,
    "start_time": "2025-07-06T15:53:39.759Z"
   },
   {
    "duration": 83,
    "start_time": "2025-07-06T15:53:39.812Z"
   },
   {
    "duration": 5,
    "start_time": "2025-07-06T15:53:39.897Z"
   },
   {
    "duration": 5,
    "start_time": "2025-07-06T15:55:49.796Z"
   },
   {
    "duration": 8949,
    "start_time": "2025-07-06T19:32:21.228Z"
   },
   {
    "duration": 1077,
    "start_time": "2025-07-06T19:32:30.180Z"
   },
   {
    "duration": 1001,
    "start_time": "2025-07-06T19:32:31.258Z"
   },
   {
    "duration": 209,
    "start_time": "2025-07-06T19:32:32.261Z"
   },
   {
    "duration": 2190,
    "start_time": "2025-07-06T19:32:32.472Z"
   },
   {
    "duration": 208,
    "start_time": "2025-07-06T19:32:34.664Z"
   },
   {
    "duration": 568,
    "start_time": "2025-07-06T19:32:34.874Z"
   },
   {
    "duration": 25,
    "start_time": "2025-07-06T19:32:35.443Z"
   },
   {
    "duration": 58,
    "start_time": "2025-07-06T19:32:35.471Z"
   },
   {
    "duration": 26,
    "start_time": "2025-07-06T19:32:35.532Z"
   },
   {
    "duration": 143,
    "start_time": "2025-07-06T19:32:35.560Z"
   },
   {
    "duration": 7,
    "start_time": "2025-07-06T19:32:35.705Z"
   },
   {
    "duration": 74,
    "start_time": "2025-07-06T19:32:35.713Z"
   },
   {
    "duration": 159,
    "start_time": "2025-07-06T19:32:35.789Z"
   },
   {
    "duration": 349,
    "start_time": "2025-07-06T19:32:35.950Z"
   },
   {
    "duration": 231,
    "start_time": "2025-07-06T19:32:36.301Z"
   },
   {
    "duration": 62,
    "start_time": "2025-07-06T19:32:36.533Z"
   },
   {
    "duration": 68,
    "start_time": "2025-07-06T19:32:36.596Z"
   },
   {
    "duration": 6,
    "start_time": "2025-07-06T19:32:36.666Z"
   },
   {
    "duration": 9201,
    "start_time": "2025-07-06T20:43:09.081Z"
   },
   {
    "duration": 1364,
    "start_time": "2025-07-06T20:43:18.283Z"
   },
   {
    "duration": 2104,
    "start_time": "2025-07-06T20:43:19.649Z"
   },
   {
    "duration": 261,
    "start_time": "2025-07-06T20:43:21.755Z"
   },
   {
    "duration": 2540,
    "start_time": "2025-07-06T20:43:22.018Z"
   },
   {
    "duration": 239,
    "start_time": "2025-07-06T20:43:24.559Z"
   },
   {
    "duration": 704,
    "start_time": "2025-07-06T20:43:24.800Z"
   },
   {
    "duration": 17,
    "start_time": "2025-07-06T20:43:25.508Z"
   },
   {
    "duration": 92,
    "start_time": "2025-07-06T20:43:25.527Z"
   },
   {
    "duration": 29,
    "start_time": "2025-07-06T20:43:25.621Z"
   },
   {
    "duration": 151,
    "start_time": "2025-07-06T20:43:25.652Z"
   },
   {
    "duration": 8,
    "start_time": "2025-07-06T20:43:25.805Z"
   },
   {
    "duration": 80,
    "start_time": "2025-07-06T20:43:25.815Z"
   },
   {
    "duration": 263,
    "start_time": "2025-07-06T20:43:25.897Z"
   },
   {
    "duration": 306,
    "start_time": "2025-07-06T20:43:26.163Z"
   },
   {
    "duration": 273,
    "start_time": "2025-07-06T20:43:26.472Z"
   },
   {
    "duration": 62,
    "start_time": "2025-07-06T20:43:26.747Z"
   },
   {
    "duration": 88,
    "start_time": "2025-07-06T20:43:26.811Z"
   },
   {
    "duration": 6,
    "start_time": "2025-07-06T20:43:26.902Z"
   }
  ],
  "colab": {
   "provenance": []
  },
  "kernelspec": {
   "display_name": "Python 3 (ipykernel)",
   "language": "python",
   "name": "python3"
  },
  "language_info": {
   "codemirror_mode": {
    "name": "ipython",
    "version": 3
   },
   "file_extension": ".py",
   "mimetype": "text/x-python",
   "name": "python",
   "nbconvert_exporter": "python",
   "pygments_lexer": "ipython3",
   "version": "3.9.12"
  },
  "toc": {
   "base_numbering": 1,
   "nav_menu": {},
   "number_sections": true,
   "sideBar": true,
   "skip_h1_title": true,
   "title_cell": "Table of Contents",
   "title_sidebar": "Contents",
   "toc_cell": false,
   "toc_position": {
    "height": "calc(100% - 180px)",
    "left": "10px",
    "top": "150px",
    "width": "305.404388px"
   },
   "toc_section_display": true,
   "toc_window_display": true
  }
 },
 "nbformat": 4,
 "nbformat_minor": 1
}
