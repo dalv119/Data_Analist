{
 "cells": [
  {
   "cell_type": "markdown",
   "id": "_E41Wr5fqnFT",
   "metadata": {
    "id": "_E41Wr5fqnFT"
   },
   "source": [
    "# Часть 1. Проверка гипотезы в Python и составление аналитической записки"
   ]
  },
  {
   "cell_type": "markdown",
   "id": "Z5_6nf-FrY7o",
   "metadata": {
    "id": "Z5_6nf-FrY7o"
   },
   "source": [
    "Данные предобработанны в SQL и теперь они готовы для проверки гипотезы в Python. Загрузим данные пользователей из Москвы и Санкт-Петербурга c суммой часов их активности из файла yandex_knigi_data.csv. \n",
    "\n",
    "Проверим наличие дубликатов в идентификаторах пользователей. Сравним размеры групп, их статистики и распределение.\n",
    "\n",
    "Проверим гипотезу: пользователи из Санкт-Петербурга проводят в среднем больше времени за чтением и прослушиванием книг в приложении, чем пользователи из Москвы:\n",
    "\n",
    "Нулевая гипотеза $H_0: \\mu_{\\text{СПб}} \\leq \\mu_{\\text{Москва}}$ <br> Среднее время активности пользователей в Санкт-Петербурге не больше, чем в Москве.\n",
    "\n",
    "Альтернативная гипотеза $H_1: \\mu_{\\text{СПб}} > \\mu_{\\text{Москва}}$ <br> Среднее время активности пользователей в Санкт-Петербурге больше, и это различие статистически значимо.\n"
   ]
  },
  {
   "cell_type": "markdown",
   "id": "e06910dd",
   "metadata": {
    "id": "e06910dd"
   },
   "source": [
    "- Автор: Владимир Добров\n",
    "- Дата: 12.07.2025"
   ]
  },
  {
   "cell_type": "markdown",
   "id": "4149134c",
   "metadata": {
    "id": "4149134c"
   },
   "source": [
    "## Цели и задачи проекта"
   ]
  },
  {
   "cell_type": "markdown",
   "id": "c53865b2",
   "metadata": {},
   "source": [
    "- Проверка гипотезы о том, что пользователи из Санкт-Петербурга проводят в среднем больше времени за чтением и прослушиванием книг в приложении, чем пользователи из Москвы. "
   ]
  },
  {
   "cell_type": "markdown",
   "id": "728986ea",
   "metadata": {
    "id": "728986ea"
   },
   "source": [
    "## Описание данных"
   ]
  },
  {
   "cell_type": "markdown",
   "id": "88261abe",
   "metadata": {},
   "source": [
    "Таблицы содержат данные о чтении и прослушивании контента в сервисе Яндекс Книги, которые включают информацию о пользователях, платформах, времени, длительности сессий и типах контента. Данные представлены за период с 1 сентября по 11 декабря 2024 года. \n",
    "\n",
    "Таблица bookmate.audition содержит данные об активности пользователей и состоит из следующих полей:  \n",
    "- audition_id — уникальный идентификатор сессии чтения или прослушивания;    \n",
    "- puid — идентификатор пользователя;  \n",
    "- usage_platform_ru — название платформы, с помощью которой пользователь слушал контент;  \n",
    "- msk_business_dt_str — дата события в формате строки (московское время);  \n",
    "- app_version — версия приложения, которая использовалась для чтения или прослушивания;  \n",
    "- adult_content_flg — был ли это контент для взрослых: True или False;\n",
    "- hours — длительность чтения или прослушивания в часах;\n",
    "- hours_sessions_long — продолжительность длинных сессий чтения или прослушивания в часах;\n",
    "- kids_content_flg — был ли это детский контент: True или False;\n",
    "- main_content_id — идентификатор основного контента;\n",
    "- usage_geo_id — идентификатор географического местоположения.  \n",
    "---\n",
    "Таблица bookmate.content содержит данные о контенте и состоит из следующих полей:  \n",
    "- main_content_id — идентификатор основного контента;\n",
    "- main_author_id — идентификатор основного автора контента;\n",
    "- main_content_type — тип контента;\n",
    "- main_content_name— название контента;\n",
    "- main_content_duration_hours — длительность контента в часах;\n",
    "- published_topic_title_list — список жанров контента.  \n",
    "---\n",
    "Таблица bookmate.author содержит данные об авторах контента и состоит из следующих полей:  \n",
    "- main_author_id — идентификатор основного автора контента;\n",
    "- main_author_name — имя основного автора контента.  \n",
    "---\n",
    "Таблица bookmate.geo содержит данные о местоположении и состоит из следующих полей:  \n",
    "- usage_geo_id — идентификатор географического положения;\n",
    "- usage_geo_id_name — город или регион географического положения;\n",
    "- usage_country_name — страна географического положения."
   ]
  },
  {
   "cell_type": "markdown",
   "id": "4fecaf95",
   "metadata": {
    "id": "4fecaf95"
   },
   "source": [
    "## Содержимое проекта\n",
    "\n",
    "---"
   ]
  },
  {
   "cell_type": "markdown",
   "id": "cbb440f3",
   "metadata": {},
   "source": [
    "1. Загрузка данных и знакомство с ними\n",
    "2. Проверка гипотезы в Python\n",
    "3. Аналитическая записка"
   ]
  },
  {
   "cell_type": "markdown",
   "id": "6f7d21d6",
   "metadata": {
    "id": "6f7d21d6"
   },
   "source": [
    "## 1. Загрузка данных и знакомство с ними\n"
   ]
  },
  {
   "cell_type": "code",
   "execution_count": 1,
   "id": "f68a7419",
   "metadata": {
    "id": "f68a7419"
   },
   "outputs": [],
   "source": [
    "# Импортируем библиотеки\n",
    "import pandas as pd\n",
    "\n",
    "import numpy as np\n",
    "\n",
    "from scipy.stats import ttest_ind\n",
    "\n",
    "from math import ceil\n",
    "from statsmodels.stats.power import NormalIndPower\n",
    "from statsmodels.stats.proportion import proportion_effectsize\n",
    "from statsmodels.stats.proportion import proportions_ztest\n",
    "\n",
    "# Импортируем библиотеки для визуализации данных\n",
    "import matplotlib.pyplot as plt\n",
    "# from matplotlib_venn import venn2\n"
   ]
  },
  {
   "cell_type": "markdown",
   "id": "826fd61f",
   "metadata": {},
   "source": [
    "- Загрузим данные пользователей из Москвы и Санкт-Петербурга c их активностью (суммой часов чтения и прослушивания)"
   ]
  },
  {
   "cell_type": "code",
   "execution_count": 2,
   "id": "3ee92202",
   "metadata": {},
   "outputs": [
    {
     "data": {
      "text/html": [
       "<div>\n",
       "<style scoped>\n",
       "    .dataframe tbody tr th:only-of-type {\n",
       "        vertical-align: middle;\n",
       "    }\n",
       "\n",
       "    .dataframe tbody tr th {\n",
       "        vertical-align: top;\n",
       "    }\n",
       "\n",
       "    .dataframe thead th {\n",
       "        text-align: right;\n",
       "    }\n",
       "</style>\n",
       "<table border=\"1\" class=\"dataframe\">\n",
       "  <thead>\n",
       "    <tr style=\"text-align: right;\">\n",
       "      <th></th>\n",
       "      <th>city</th>\n",
       "      <th>puid</th>\n",
       "      <th>hours</th>\n",
       "    </tr>\n",
       "  </thead>\n",
       "  <tbody>\n",
       "    <tr>\n",
       "      <th>0</th>\n",
       "      <td>Москва</td>\n",
       "      <td>9668</td>\n",
       "      <td>26.167776</td>\n",
       "    </tr>\n",
       "    <tr>\n",
       "      <th>1</th>\n",
       "      <td>Москва</td>\n",
       "      <td>16598</td>\n",
       "      <td>82.111217</td>\n",
       "    </tr>\n",
       "    <tr>\n",
       "      <th>2</th>\n",
       "      <td>Москва</td>\n",
       "      <td>80401</td>\n",
       "      <td>4.656906</td>\n",
       "    </tr>\n",
       "    <tr>\n",
       "      <th>3</th>\n",
       "      <td>Москва</td>\n",
       "      <td>140205</td>\n",
       "      <td>1.840556</td>\n",
       "    </tr>\n",
       "    <tr>\n",
       "      <th>4</th>\n",
       "      <td>Москва</td>\n",
       "      <td>248755</td>\n",
       "      <td>151.326434</td>\n",
       "    </tr>\n",
       "  </tbody>\n",
       "</table>\n",
       "</div>"
      ],
      "text/plain": [
       "     city    puid       hours\n",
       "0  Москва    9668   26.167776\n",
       "1  Москва   16598   82.111217\n",
       "2  Москва   80401    4.656906\n",
       "3  Москва  140205    1.840556\n",
       "4  Москва  248755  151.326434"
      ]
     },
     "metadata": {},
     "output_type": "display_data"
    },
    {
     "name": "stdout",
     "output_type": "stream",
     "text": [
      "Количество дубликатов: 244\n",
      "Причина - один пользователь бывает в Москве и Санкт-Петербурге\n",
      "                 city     puid      hours\n",
      "35             Москва  2637041  10.317371\n",
      "6247  Санкт-Петербург  2637041   3.883926\n",
      "\n",
      "Количество puid Москвы: 6234\n",
      "Количество puid Санкт-Петербург: 2550\n"
     ]
    }
   ],
   "source": [
    "# Выгружаем и сохраняем в датафрейм данные \n",
    "yandex_knigi_data = pd.read_csv('/datasets/yandex_knigi_data.csv')\n",
    "# Убираем столбец без названия\n",
    "yandex_knigi_data = yandex_knigi_data.drop(['Unnamed: 0'], axis=1)\n",
    "\n",
    "display(yandex_knigi_data.head(5))\n",
    "\n",
    "# Проверим наличие дубликатов puid\n",
    "dubl_puid = yandex_knigi_data['puid'].duplicated().sum()\n",
    "print(f'Количество дубликатов: {dubl_puid}')\n",
    "\n",
    "# Характер дубликата\n",
    "print('Причина - один пользователь бывает в Москве и Санкт-Петербурге')\n",
    "print(yandex_knigi_data[yandex_knigi_data['puid']==2637041])\n",
    "# knigi_data[knigi_data.duplicated('puid')].sort_values(by='puid')\n",
    "print()\n",
    "# Количество пользователей в группах по городаv\n",
    "mos_count = len(yandex_knigi_data[yandex_knigi_data['city']=='Москва'])\n",
    "print(f'Количество puid Москвы: {mos_count}')\n",
    "spb_count = len(yandex_knigi_data[yandex_knigi_data['city']=='Санкт-Петербург'])\n",
    "print(f'Количество puid Санкт-Петербург: {spb_count}')      "
   ]
  },
  {
   "cell_type": "code",
   "execution_count": 3,
   "id": "76402b9a",
   "metadata": {},
   "outputs": [
    {
     "name": "stdout",
     "output_type": "stream",
     "text": [
      "Количество дубликатов: 0\n"
     ]
    }
   ],
   "source": [
    "# Удаляем все дубликаты\n",
    "knigi_data = yandex_knigi_data.drop_duplicates(subset=['puid'], keep=False)\n",
    "dubl = knigi_data['puid'].duplicated().sum()\n",
    "print(f'Количество дубликатов: {dubl}')"
   ]
  },
  {
   "cell_type": "markdown",
   "id": "89251626",
   "metadata": {},
   "source": [
    "Выводы:\n",
    "- количество пользователей Москвы (6234) существенно больше количества пользователей Санкт-Петербурга (2550)\n",
    "- есть 244 пересечения групп. Один пользователь бывает в обоих городах. Для независимости выборок эти данные удалены  \n",
    "- Вывод:  \n",
    "Так как группы выборок Москва и Санкт-Петербург статистически существенно различаются, то применим t-тест Уэлча, который не требует равенства и однородности выборок и работает с неоднородными."
   ]
  },
  {
   "cell_type": "code",
   "execution_count": 4,
   "id": "67956690",
   "metadata": {
    "id": "67956690",
    "scrolled": true
   },
   "outputs": [
    {
     "name": "stdout",
     "output_type": "stream",
     "text": [
      "p-value теста Уэлча =0.66\n",
      "H₀ (нулевая гипотеза) — Средняя активность пользователей в часах в двух группах (Москва и Санкт-Петербург) не различается.\n"
     ]
    }
   ],
   "source": [
    "# Разделим данные датафрейма на две группы целевых метрик по городам\n",
    "mos_kniga = knigi_data[knigi_data['city']=='Москва']['hours']\n",
    "spb_kniga = knigi_data[knigi_data['city']=='Санкт-Петербург']['hours']\n",
    "\n",
    "# Определим уровень значимости \n",
    "alpha = 0.05 \n",
    "\n",
    "# Применяем тест Стьюдента\n",
    "stat_ttest, p_value_ttest = ttest_ind(\n",
    "    mos_kniga, \n",
    "    spb_kniga,\n",
    "    equal_var = False)\n",
    "#     alternative='less') # альтернативная гипотеза: средняя активность в Москве меньше чем в Санкт-Петербурге\n",
    "\n",
    "if p_value_ttest>alpha:\n",
    "    print(f'p-value теста Уэлча ={round(p_value_ttest, 2)}')\n",
    "    print('H₀ (нулевая гипотеза) — Средняя активность пользователей в часах в двух группах (Москва и Санкт-Петербург) не различается.')\n",
    "else:\n",
    "    print(f'p-value теста Уэлча ={round(p_value_ttest, 2)}')\n",
    "    print('H₁ (альтернативная гипотеза) — Средняя активность пользователей в Санкт-Петербурге больше, и это различие статистически значимо.')\n"
   ]
  },
  {
   "cell_type": "markdown",
   "id": "6953e84c",
   "metadata": {
    "id": "6953e84c"
   },
   "source": [
    "## 3. Аналитическая записка"
   ]
  },
  {
   "cell_type": "markdown",
   "id": "8c7d4893",
   "metadata": {},
   "source": [
    "- У жителей этих городов схожий образ жизни и бытовые привычки и это помогает логично объяснить результаты\n",
    "- Для проверки гипотезы о различии средней активности пользователей Москвы и Санкт-Петербурга был выбран t-test Уэлча  \n",
    "- в результате теста получено p-value = 0.66\n",
    "- Интерпретация: H₀ (нулевая гипотеза) подтверждена — Средняя активность пользователей в часах в двух группах (Москва и Санкт-Петербург) не различается\n",
    "- Причины такого результата: выборочные средние значение активности в Москве и Санкт-Петербурге статистически равны, p-value 0.66 > 0.05 уровня значимости"
   ]
  },
  {
   "cell_type": "markdown",
   "id": "hc1d6jVISegz",
   "metadata": {
    "id": "hc1d6jVISegz"
   },
   "source": [
    "----"
   ]
  },
  {
   "cell_type": "markdown",
   "id": "NqOUIYhbrIfC",
   "metadata": {
    "id": "NqOUIYhbrIfC"
   },
   "source": [
    "# Часть 2. Анализ результатов A/B-тестирования"
   ]
  },
  {
   "cell_type": "markdown",
   "id": "tDwMKFNGsClr",
   "metadata": {
    "id": "tDwMKFNGsClr"
   },
   "source": [
    "К нам обратились представители интернет-магазина BitMotion Kit, в котором продаются геймифицированные товары для тех, кто ведёт здоровый образ жизни. У него есть своя целевая аудитория, даже появились хиты продаж: эспандер со счётчиком и напоминанием, так и подстольный велотренажёр с Bluetooth.\n",
    "\n",
    "В будущем компания хочет расширить ассортимент товаров. Но перед этим нужно решить одну проблему. Интерфейс онлайн-магазина слишком сложен для пользователей — об этом говорят отзывы.\n",
    "\n",
    "Чтобы привлечь новых клиентов и увеличить число продаж, владельцы магазина разработали новую версию сайта и протестировали его на части пользователей. По задумке, это решение доказуемо повысит количество пользователей, которые совершат покупку.\n",
    "\n",
    "Задача — провести оценку результатов A/B-теста. В нашем распоряжении:\n",
    "\n",
    "* данные о действиях пользователей и распределении их на группы,\n",
    "\n",
    "* техническое задание.\n",
    "\n",
    "Необходимо оценить корректность проведения теста и проанализировать его результаты."
   ]
  },
  {
   "cell_type": "markdown",
   "id": "UNXAAyF5r9Rk",
   "metadata": {
    "id": "UNXAAyF5r9Rk"
   },
   "source": [
    "## 1. Цели исследования.\n",
    "\n"
   ]
  },
  {
   "cell_type": "markdown",
   "id": "kHx-51yES8bd",
   "metadata": {
    "id": "kHx-51yES8bd"
   },
   "source": [
    "Цель исследования - проверить гипотизу о том, что разработка новой версии сайта помогает привлечь новых клиентов и увеличить число продаж."
   ]
  },
  {
   "cell_type": "markdown",
   "id": "_CZryx2OsH-s",
   "metadata": {
    "id": "_CZryx2OsH-s"
   },
   "source": [
    "## 2. Загрузка данных, оценка их целостности.\n"
   ]
  },
  {
   "cell_type": "code",
   "execution_count": 5,
   "id": "DjFcJbeGsTIg",
   "metadata": {
    "id": "DjFcJbeGsTIg"
   },
   "outputs": [],
   "source": [
    "participants = pd.read_csv('https://code.s3.yandex.net/datasets/ab_test_participants.csv')\n",
    "events = pd.read_csv('https://code.s3.yandex.net/datasets/ab_test_events.zip',\n",
    "                     parse_dates=['event_dt'], low_memory=False)"
   ]
  },
  {
   "cell_type": "code",
   "execution_count": 6,
   "id": "1e6cee3c",
   "metadata": {},
   "outputs": [
    {
     "name": "stdout",
     "output_type": "stream",
     "text": [
      "-- participants\n",
      "<class 'pandas.core.frame.DataFrame'>\n",
      "RangeIndex: 14525 entries, 0 to 14524\n",
      "Data columns (total 4 columns):\n",
      " #   Column   Non-Null Count  Dtype \n",
      "---  ------   --------------  ----- \n",
      " 0   user_id  14525 non-null  object\n",
      " 1   group    14525 non-null  object\n",
      " 2   ab_test  14525 non-null  object\n",
      " 3   device   14525 non-null  object\n",
      "dtypes: object(4)\n",
      "memory usage: 454.0+ KB\n",
      "-- events\n",
      "<class 'pandas.core.frame.DataFrame'>\n",
      "RangeIndex: 787286 entries, 0 to 787285\n",
      "Data columns (total 4 columns):\n",
      " #   Column      Non-Null Count   Dtype         \n",
      "---  ------      --------------   -----         \n",
      " 0   user_id     787286 non-null  object        \n",
      " 1   event_dt    787286 non-null  datetime64[ns]\n",
      " 2   event_name  787286 non-null  object        \n",
      " 3   details     249022 non-null  object        \n",
      "dtypes: datetime64[ns](1), object(3)\n",
      "memory usage: 24.0+ MB\n"
     ]
    }
   ],
   "source": [
    "print('-- participants')\n",
    "participants.info()\n",
    "print('-- events')\n",
    "events.info()"
   ]
  },
  {
   "cell_type": "code",
   "execution_count": 7,
   "id": "ed7c495a",
   "metadata": {},
   "outputs": [
    {
     "data": {
      "text/html": [
       "<div>\n",
       "<style scoped>\n",
       "    .dataframe tbody tr th:only-of-type {\n",
       "        vertical-align: middle;\n",
       "    }\n",
       "\n",
       "    .dataframe tbody tr th {\n",
       "        vertical-align: top;\n",
       "    }\n",
       "\n",
       "    .dataframe thead th {\n",
       "        text-align: right;\n",
       "    }\n",
       "</style>\n",
       "<table border=\"1\" class=\"dataframe\">\n",
       "  <thead>\n",
       "    <tr style=\"text-align: right;\">\n",
       "      <th></th>\n",
       "      <th>user_id</th>\n",
       "      <th>group</th>\n",
       "      <th>ab_test</th>\n",
       "      <th>device</th>\n",
       "    </tr>\n",
       "  </thead>\n",
       "  <tbody>\n",
       "    <tr>\n",
       "      <th>0</th>\n",
       "      <td>0002CE61FF2C4011</td>\n",
       "      <td>B</td>\n",
       "      <td>interface_eu_test</td>\n",
       "      <td>Mac</td>\n",
       "    </tr>\n",
       "    <tr>\n",
       "      <th>1</th>\n",
       "      <td>001064FEAAB631A1</td>\n",
       "      <td>B</td>\n",
       "      <td>recommender_system_test</td>\n",
       "      <td>Android</td>\n",
       "    </tr>\n",
       "    <tr>\n",
       "      <th>2</th>\n",
       "      <td>001064FEAAB631A1</td>\n",
       "      <td>A</td>\n",
       "      <td>interface_eu_test</td>\n",
       "      <td>Android</td>\n",
       "    </tr>\n",
       "    <tr>\n",
       "      <th>3</th>\n",
       "      <td>0010A1C096941592</td>\n",
       "      <td>A</td>\n",
       "      <td>recommender_system_test</td>\n",
       "      <td>Android</td>\n",
       "    </tr>\n",
       "    <tr>\n",
       "      <th>4</th>\n",
       "      <td>001E72F50D1C48FA</td>\n",
       "      <td>A</td>\n",
       "      <td>interface_eu_test</td>\n",
       "      <td>Mac</td>\n",
       "    </tr>\n",
       "  </tbody>\n",
       "</table>\n",
       "</div>"
      ],
      "text/plain": [
       "            user_id group                  ab_test   device\n",
       "0  0002CE61FF2C4011     B        interface_eu_test      Mac\n",
       "1  001064FEAAB631A1     B  recommender_system_test  Android\n",
       "2  001064FEAAB631A1     A        interface_eu_test  Android\n",
       "3  0010A1C096941592     A  recommender_system_test  Android\n",
       "4  001E72F50D1C48FA     A        interface_eu_test      Mac"
      ]
     },
     "metadata": {},
     "output_type": "display_data"
    },
    {
     "data": {
      "text/html": [
       "<div>\n",
       "<style scoped>\n",
       "    .dataframe tbody tr th:only-of-type {\n",
       "        vertical-align: middle;\n",
       "    }\n",
       "\n",
       "    .dataframe tbody tr th {\n",
       "        vertical-align: top;\n",
       "    }\n",
       "\n",
       "    .dataframe thead th {\n",
       "        text-align: right;\n",
       "    }\n",
       "</style>\n",
       "<table border=\"1\" class=\"dataframe\">\n",
       "  <thead>\n",
       "    <tr style=\"text-align: right;\">\n",
       "      <th></th>\n",
       "      <th>user_id</th>\n",
       "      <th>event_dt</th>\n",
       "      <th>event_name</th>\n",
       "      <th>details</th>\n",
       "    </tr>\n",
       "  </thead>\n",
       "  <tbody>\n",
       "    <tr>\n",
       "      <th>0</th>\n",
       "      <td>GLOBAL</td>\n",
       "      <td>2020-12-01 00:00:00</td>\n",
       "      <td>End of Black Friday Ads Campaign</td>\n",
       "      <td>ZONE_CODE15</td>\n",
       "    </tr>\n",
       "    <tr>\n",
       "      <th>1</th>\n",
       "      <td>CCBE9E7E99F94A08</td>\n",
       "      <td>2020-12-01 00:00:11</td>\n",
       "      <td>registration</td>\n",
       "      <td>0.0</td>\n",
       "    </tr>\n",
       "    <tr>\n",
       "      <th>2</th>\n",
       "      <td>GLOBAL</td>\n",
       "      <td>2020-12-01 00:00:25</td>\n",
       "      <td>product_page</td>\n",
       "      <td>NaN</td>\n",
       "    </tr>\n",
       "    <tr>\n",
       "      <th>3</th>\n",
       "      <td>CCBE9E7E99F94A08</td>\n",
       "      <td>2020-12-01 00:00:33</td>\n",
       "      <td>login</td>\n",
       "      <td>NaN</td>\n",
       "    </tr>\n",
       "    <tr>\n",
       "      <th>4</th>\n",
       "      <td>CCBE9E7E99F94A08</td>\n",
       "      <td>2020-12-01 00:00:52</td>\n",
       "      <td>product_page</td>\n",
       "      <td>NaN</td>\n",
       "    </tr>\n",
       "  </tbody>\n",
       "</table>\n",
       "</div>"
      ],
      "text/plain": [
       "            user_id            event_dt                        event_name  \\\n",
       "0            GLOBAL 2020-12-01 00:00:00  End of Black Friday Ads Campaign   \n",
       "1  CCBE9E7E99F94A08 2020-12-01 00:00:11                      registration   \n",
       "2            GLOBAL 2020-12-01 00:00:25                      product_page   \n",
       "3  CCBE9E7E99F94A08 2020-12-01 00:00:33                             login   \n",
       "4  CCBE9E7E99F94A08 2020-12-01 00:00:52                      product_page   \n",
       "\n",
       "       details  \n",
       "0  ZONE_CODE15  \n",
       "1          0.0  \n",
       "2          NaN  \n",
       "3          NaN  \n",
       "4          NaN  "
      ]
     },
     "execution_count": 7,
     "metadata": {},
     "output_type": "execute_result"
    }
   ],
   "source": [
    "display(participants.head())\n",
    "events.head()"
   ]
  },
  {
   "cell_type": "code",
   "execution_count": 8,
   "id": "b98cb4b3",
   "metadata": {},
   "outputs": [
    {
     "name": "stdout",
     "output_type": "stream",
     "text": [
      "participants :\n",
      "user_id    0\n",
      "group      0\n",
      "ab_test    0\n",
      "device     0\n",
      "dtype: int64\n",
      "\n",
      "events :\n",
      "user_id            0\n",
      "event_dt           0\n",
      "event_name         0\n",
      "details       538264\n",
      "dtype: int64\n"
     ]
    }
   ],
   "source": [
    "# Найдём количество пропусков данных\n",
    "print(f'participants :\\n{participants.isna().sum()}\\n')\n",
    "print(f'events :\\n{events.isna().sum()}')"
   ]
  },
  {
   "cell_type": "code",
   "execution_count": 9,
   "id": "95ccafc6",
   "metadata": {},
   "outputs": [
    {
     "data": {
      "text/html": [
       "<div>\n",
       "<style scoped>\n",
       "    .dataframe tbody tr th:only-of-type {\n",
       "        vertical-align: middle;\n",
       "    }\n",
       "\n",
       "    .dataframe tbody tr th {\n",
       "        vertical-align: top;\n",
       "    }\n",
       "\n",
       "    .dataframe thead th {\n",
       "        text-align: right;\n",
       "    }\n",
       "</style>\n",
       "<table border=\"1\" class=\"dataframe\">\n",
       "  <thead>\n",
       "    <tr style=\"text-align: right;\">\n",
       "      <th></th>\n",
       "      <th></th>\n",
       "      <th>event_name</th>\n",
       "    </tr>\n",
       "    <tr>\n",
       "      <th>user_id</th>\n",
       "      <th>event_name</th>\n",
       "      <th></th>\n",
       "    </tr>\n",
       "  </thead>\n",
       "  <tbody>\n",
       "    <tr>\n",
       "      <th rowspan=\"6\" valign=\"top\">GLOBAL</th>\n",
       "      <th>End of Black Friday Ads Campaign</th>\n",
       "      <td>1</td>\n",
       "    </tr>\n",
       "    <tr>\n",
       "      <th>Start of CIS New Year Gift Lottery</th>\n",
       "      <td>1</td>\n",
       "    </tr>\n",
       "    <tr>\n",
       "      <th>Start of Christmas&amp;New Year Promo</th>\n",
       "      <td>1</td>\n",
       "    </tr>\n",
       "    <tr>\n",
       "      <th>product_cart</th>\n",
       "      <td>9806</td>\n",
       "    </tr>\n",
       "    <tr>\n",
       "      <th>product_page</th>\n",
       "      <td>33166</td>\n",
       "    </tr>\n",
       "    <tr>\n",
       "      <th>purchase</th>\n",
       "      <td>15520</td>\n",
       "    </tr>\n",
       "  </tbody>\n",
       "</table>\n",
       "</div>"
      ],
      "text/plain": [
       "                                            event_name\n",
       "user_id event_name                                    \n",
       "GLOBAL  End of Black Friday Ads Campaign             1\n",
       "        Start of CIS New Year Gift Lottery           1\n",
       "        Start of Christmas&New Year Promo            1\n",
       "        product_cart                              9806\n",
       "        product_page                             33166\n",
       "        purchase                                 15520"
      ]
     },
     "execution_count": 9,
     "metadata": {},
     "output_type": "execute_result"
    }
   ],
   "source": [
    "# Посмотрим на пользователей GLOBAL\n",
    "events.groupby(['user_id', 'event_name']).agg({'event_name': 'count'}).query('user_id == \"GLOBAL\"')"
   ]
  },
  {
   "cell_type": "markdown",
   "id": "c340f164",
   "metadata": {},
   "source": [
    "Выводы:  \n",
    "- пропуски в поле с доп.данными о событиях показыват активность пользователей не связанную с оплатой услуг. По этому не повлияют на результат.\n",
    "- user_id == 'GLOBAL' обозначают незарегистрированных пользователей"
   ]
  },
  {
   "cell_type": "markdown",
   "id": "CnzA-efasUrk",
   "metadata": {
    "id": "CnzA-efasUrk"
   },
   "source": [
    "## 3. По таблице `ab_test_participants` оцениим корректность проведения теста:\n",
    "\n",
    "   ### 3\\.1 Выделим пользователей, участвующих в тесте, и проверим:\n",
    "\n",
    "   - соответствие требованиям технического задания,\n",
    "\n",
    "   - равномерность распределения пользователей по группам теста,\n",
    "\n",
    "   - отсутствие пересечений с конкурирующим тестом (нет пользователей, участвующих одновременно в двух тестовых группах)."
   ]
  },
  {
   "cell_type": "code",
   "execution_count": 10,
   "id": "21467795",
   "metadata": {},
   "outputs": [
    {
     "data": {
      "image/png": "[encoded data removed]",
      "text/plain": [
       "<Figure size 648x288 with 1 Axes>"
      ]
     },
     "metadata": {
      "needs_background": "light"
     },
     "output_type": "display_data"
    },
    {
     "name": "stdout",
     "output_type": "stream",
     "text": [
      "group\n",
      "A    59.61\n",
      "B    46.89\n",
      "Name: user_id, dtype: float64\n"
     ]
    }
   ],
   "source": [
    "# Определим долю пользователей по группам А/В\n",
    "gr_test = round(participants.groupby('group')['user_id'].count() / participants['user_id'].nunique() * 100, 2)\n",
    "\n",
    "# Строим диаграмму распределения пользователей по группа А/В\n",
    "gr_test.plot(kind='bar',\n",
    "                  rot=0,\n",
    "                  color=['salmon', 'darkseagreen'],\n",
    "                  figsize=(9, 4))\n",
    "            \n",
    "# Настраиваем оформление графика\n",
    "plt.title(\"Распределение пользователей по группам \")\n",
    "plt.ylabel('Кол-во пользователей')\n",
    "plt.grid(axis='y')\n",
    "# Отображаем график\n",
    "plt.show() \n",
    "\n",
    "print(gr_test)"
   ]
  },
  {
   "cell_type": "markdown",
   "id": "6d5ac1ba",
   "metadata": {},
   "source": [
    "Вывод:\n",
    "- Доля пользователей группы А (59.61%) на 13% превышает количество пользователей группы В (46.89%), что может повлиять на результат исследования"
   ]
  },
  {
   "cell_type": "code",
   "execution_count": 11,
   "id": "aNa3zHrKslEN",
   "metadata": {
    "id": "aNa3zHrKslEN"
   },
   "outputs": [
    {
     "name": "stdout",
     "output_type": "stream",
     "text": [
      "Кол-во пользователей, которые встречаются одновременно в группах A и B: 446\n"
     ]
    }
   ],
   "source": [
    "# Пользователи группы А\n",
    "users_a = participants[participants['group']=='A']['user_id']\n",
    "# Пользователи группы В\n",
    "users_b = participants[participants['group']=='B']['user_id']\n",
    "\n",
    "# Рассчитаем количество пользователей, которые встречаются одновременно в группах A и B\n",
    "interselection = len(list(set(users_a) & set(users_b)))\n",
    "print(f'Кол-во пользователей, которые встречаются одновременно в группах A и B: {interselection}')"
   ]
  },
  {
   "cell_type": "markdown",
   "id": "b6f49a19",
   "metadata": {},
   "source": [
    "Выводы:\n",
    "- присутствуют пересечения с конкурирующим тестом (446) пользователей, участвующих одновременно в двух тестовых группах) \n",
    "- доля пересечения порядка 3% от общего количества не повлияет существенным образом на результат тестирования. Риск ошибочной интерпретации результатов изменений не высок.\n"
   ]
  },
  {
   "cell_type": "markdown",
   "id": "GjulgSrlsqUU",
   "metadata": {
    "id": "GjulgSrlsqUU"
   },
   "source": [
    "### 3\\.2 Проанализируем данные о пользовательской активности по таблице `ab_test_events`:\n",
    "\n",
    "- оставим только события, связанные с участвующими в изучаемом тесте пользователями"
   ]
  },
  {
   "cell_type": "code",
   "execution_count": 12,
   "id": "QMt0Ybo_swDK",
   "metadata": {
    "id": "QMt0Ybo_swDK"
   },
   "outputs": [
    {
     "data": {
      "text/html": [
       "<div>\n",
       "<style scoped>\n",
       "    .dataframe tbody tr th:only-of-type {\n",
       "        vertical-align: middle;\n",
       "    }\n",
       "\n",
       "    .dataframe tbody tr th {\n",
       "        vertical-align: top;\n",
       "    }\n",
       "\n",
       "    .dataframe thead th {\n",
       "        text-align: right;\n",
       "    }\n",
       "</style>\n",
       "<table border=\"1\" class=\"dataframe\">\n",
       "  <thead>\n",
       "    <tr style=\"text-align: right;\">\n",
       "      <th></th>\n",
       "      <th>user_id</th>\n",
       "      <th>group</th>\n",
       "      <th>ab_test</th>\n",
       "      <th>device</th>\n",
       "      <th>event_dt</th>\n",
       "      <th>event_name</th>\n",
       "      <th>details</th>\n",
       "    </tr>\n",
       "  </thead>\n",
       "  <tbody>\n",
       "    <tr>\n",
       "      <th>0</th>\n",
       "      <td>0002CE61FF2C4011</td>\n",
       "      <td>B</td>\n",
       "      <td>interface_eu_test</td>\n",
       "      <td>Mac</td>\n",
       "      <td>2020-12-07 04:37:31</td>\n",
       "      <td>registration</td>\n",
       "      <td>-2.38</td>\n",
       "    </tr>\n",
       "    <tr>\n",
       "      <th>1</th>\n",
       "      <td>0002CE61FF2C4011</td>\n",
       "      <td>B</td>\n",
       "      <td>interface_eu_test</td>\n",
       "      <td>Mac</td>\n",
       "      <td>2020-12-07 04:37:49</td>\n",
       "      <td>login</td>\n",
       "      <td>NaN</td>\n",
       "    </tr>\n",
       "    <tr>\n",
       "      <th>2</th>\n",
       "      <td>0002CE61FF2C4011</td>\n",
       "      <td>B</td>\n",
       "      <td>interface_eu_test</td>\n",
       "      <td>Mac</td>\n",
       "      <td>2020-12-07 04:37:57</td>\n",
       "      <td>login</td>\n",
       "      <td>NaN</td>\n",
       "    </tr>\n",
       "    <tr>\n",
       "      <th>3</th>\n",
       "      <td>0002CE61FF2C4011</td>\n",
       "      <td>B</td>\n",
       "      <td>interface_eu_test</td>\n",
       "      <td>Mac</td>\n",
       "      <td>2020-12-07 04:38:54</td>\n",
       "      <td>login</td>\n",
       "      <td>NaN</td>\n",
       "    </tr>\n",
       "    <tr>\n",
       "      <th>4</th>\n",
       "      <td>0002CE61FF2C4011</td>\n",
       "      <td>B</td>\n",
       "      <td>interface_eu_test</td>\n",
       "      <td>Mac</td>\n",
       "      <td>2020-12-08 22:15:35</td>\n",
       "      <td>login</td>\n",
       "      <td>NaN</td>\n",
       "    </tr>\n",
       "    <tr>\n",
       "      <th>...</th>\n",
       "      <td>...</td>\n",
       "      <td>...</td>\n",
       "      <td>...</td>\n",
       "      <td>...</td>\n",
       "      <td>...</td>\n",
       "      <td>...</td>\n",
       "      <td>...</td>\n",
       "    </tr>\n",
       "    <tr>\n",
       "      <th>104553</th>\n",
       "      <td>FFF28D02B1EACBE1</td>\n",
       "      <td>B</td>\n",
       "      <td>interface_eu_test</td>\n",
       "      <td>PC</td>\n",
       "      <td>2020-12-24 00:56:12</td>\n",
       "      <td>product_cart</td>\n",
       "      <td>NaN</td>\n",
       "    </tr>\n",
       "    <tr>\n",
       "      <th>104554</th>\n",
       "      <td>FFF28D02B1EACBE1</td>\n",
       "      <td>B</td>\n",
       "      <td>interface_eu_test</td>\n",
       "      <td>PC</td>\n",
       "      <td>2020-12-24 00:57:23</td>\n",
       "      <td>product_cart</td>\n",
       "      <td>NaN</td>\n",
       "    </tr>\n",
       "    <tr>\n",
       "      <th>104555</th>\n",
       "      <td>FFF58BC33966EB51</td>\n",
       "      <td>A</td>\n",
       "      <td>interface_eu_test</td>\n",
       "      <td>Android</td>\n",
       "      <td>2020-12-13 17:37:34</td>\n",
       "      <td>registration</td>\n",
       "      <td>-0.45</td>\n",
       "    </tr>\n",
       "    <tr>\n",
       "      <th>104556</th>\n",
       "      <td>FFF58BC33966EB51</td>\n",
       "      <td>A</td>\n",
       "      <td>interface_eu_test</td>\n",
       "      <td>Android</td>\n",
       "      <td>2020-12-13 17:56:02</td>\n",
       "      <td>login</td>\n",
       "      <td>NaN</td>\n",
       "    </tr>\n",
       "    <tr>\n",
       "      <th>104557</th>\n",
       "      <td>FFF58BC33966EB51</td>\n",
       "      <td>A</td>\n",
       "      <td>interface_eu_test</td>\n",
       "      <td>Android</td>\n",
       "      <td>2020-12-17 03:21:02</td>\n",
       "      <td>login</td>\n",
       "      <td>NaN</td>\n",
       "    </tr>\n",
       "  </tbody>\n",
       "</table>\n",
       "<p>104558 rows × 7 columns</p>\n",
       "</div>"
      ],
      "text/plain": [
       "                 user_id group            ab_test   device  \\\n",
       "0       0002CE61FF2C4011     B  interface_eu_test      Mac   \n",
       "1       0002CE61FF2C4011     B  interface_eu_test      Mac   \n",
       "2       0002CE61FF2C4011     B  interface_eu_test      Mac   \n",
       "3       0002CE61FF2C4011     B  interface_eu_test      Mac   \n",
       "4       0002CE61FF2C4011     B  interface_eu_test      Mac   \n",
       "...                  ...   ...                ...      ...   \n",
       "104553  FFF28D02B1EACBE1     B  interface_eu_test       PC   \n",
       "104554  FFF28D02B1EACBE1     B  interface_eu_test       PC   \n",
       "104555  FFF58BC33966EB51     A  interface_eu_test  Android   \n",
       "104556  FFF58BC33966EB51     A  interface_eu_test  Android   \n",
       "104557  FFF58BC33966EB51     A  interface_eu_test  Android   \n",
       "\n",
       "                  event_dt    event_name details  \n",
       "0      2020-12-07 04:37:31  registration   -2.38  \n",
       "1      2020-12-07 04:37:49         login     NaN  \n",
       "2      2020-12-07 04:37:57         login     NaN  \n",
       "3      2020-12-07 04:38:54         login     NaN  \n",
       "4      2020-12-08 22:15:35         login     NaN  \n",
       "...                    ...           ...     ...  \n",
       "104553 2020-12-24 00:56:12  product_cart     NaN  \n",
       "104554 2020-12-24 00:57:23  product_cart     NaN  \n",
       "104555 2020-12-13 17:37:34  registration   -0.45  \n",
       "104556 2020-12-13 17:56:02         login     NaN  \n",
       "104557 2020-12-17 03:21:02         login     NaN  \n",
       "\n",
       "[104558 rows x 7 columns]"
      ]
     },
     "execution_count": 12,
     "metadata": {},
     "output_type": "execute_result"
    }
   ],
   "source": [
    "# Определим только события, связанные с участвующими в изучаемом тесте пользователями\n",
    "events_test = participants.merge(events, on='user_id', how='left')\n",
    "events_test"
   ]
  },
  {
   "cell_type": "markdown",
   "id": "fBZ4DC2xswZJ",
   "metadata": {
    "id": "fBZ4DC2xswZJ"
   },
   "source": [
    "- определим горизонт анализа: рассчитаем время (лайфтайм) совершения события пользователем после регистрации и оставьте только те события, которые были выполнены в течение первых семи дней с момента регистрации;"
   ]
  },
  {
   "cell_type": "code",
   "execution_count": 13,
   "id": "sES4-dKts0Yb",
   "metadata": {
    "id": "sES4-dKts0Yb"
   },
   "outputs": [
    {
     "data": {
      "text/html": [
       "<div>\n",
       "<style scoped>\n",
       "    .dataframe tbody tr th:only-of-type {\n",
       "        vertical-align: middle;\n",
       "    }\n",
       "\n",
       "    .dataframe tbody tr th {\n",
       "        vertical-align: top;\n",
       "    }\n",
       "\n",
       "    .dataframe thead th {\n",
       "        text-align: right;\n",
       "    }\n",
       "</style>\n",
       "<table border=\"1\" class=\"dataframe\">\n",
       "  <thead>\n",
       "    <tr style=\"text-align: right;\">\n",
       "      <th></th>\n",
       "      <th>user_id</th>\n",
       "      <th>group</th>\n",
       "      <th>ab_test</th>\n",
       "      <th>device</th>\n",
       "      <th>event_dt</th>\n",
       "      <th>event_name</th>\n",
       "      <th>details</th>\n",
       "      <th>event_dt_reg</th>\n",
       "    </tr>\n",
       "  </thead>\n",
       "  <tbody>\n",
       "    <tr>\n",
       "      <th>0</th>\n",
       "      <td>0002CE61FF2C4011</td>\n",
       "      <td>B</td>\n",
       "      <td>interface_eu_test</td>\n",
       "      <td>Mac</td>\n",
       "      <td>2020-12-07 04:37:31</td>\n",
       "      <td>registration</td>\n",
       "      <td>-2.38</td>\n",
       "      <td>2020-12-07 04:37:31</td>\n",
       "    </tr>\n",
       "    <tr>\n",
       "      <th>1</th>\n",
       "      <td>0002CE61FF2C4011</td>\n",
       "      <td>B</td>\n",
       "      <td>interface_eu_test</td>\n",
       "      <td>Mac</td>\n",
       "      <td>2020-12-07 04:37:49</td>\n",
       "      <td>login</td>\n",
       "      <td>NaN</td>\n",
       "      <td>2020-12-07 04:37:31</td>\n",
       "    </tr>\n",
       "    <tr>\n",
       "      <th>2</th>\n",
       "      <td>0002CE61FF2C4011</td>\n",
       "      <td>B</td>\n",
       "      <td>interface_eu_test</td>\n",
       "      <td>Mac</td>\n",
       "      <td>2020-12-07 04:37:57</td>\n",
       "      <td>login</td>\n",
       "      <td>NaN</td>\n",
       "      <td>2020-12-07 04:37:31</td>\n",
       "    </tr>\n",
       "    <tr>\n",
       "      <th>3</th>\n",
       "      <td>0002CE61FF2C4011</td>\n",
       "      <td>B</td>\n",
       "      <td>interface_eu_test</td>\n",
       "      <td>Mac</td>\n",
       "      <td>2020-12-07 04:38:54</td>\n",
       "      <td>login</td>\n",
       "      <td>NaN</td>\n",
       "      <td>2020-12-07 04:37:31</td>\n",
       "    </tr>\n",
       "    <tr>\n",
       "      <th>4</th>\n",
       "      <td>0002CE61FF2C4011</td>\n",
       "      <td>B</td>\n",
       "      <td>interface_eu_test</td>\n",
       "      <td>Mac</td>\n",
       "      <td>2020-12-08 22:15:35</td>\n",
       "      <td>login</td>\n",
       "      <td>NaN</td>\n",
       "      <td>2020-12-07 04:37:31</td>\n",
       "    </tr>\n",
       "    <tr>\n",
       "      <th>...</th>\n",
       "      <td>...</td>\n",
       "      <td>...</td>\n",
       "      <td>...</td>\n",
       "      <td>...</td>\n",
       "      <td>...</td>\n",
       "      <td>...</td>\n",
       "      <td>...</td>\n",
       "      <td>...</td>\n",
       "    </tr>\n",
       "    <tr>\n",
       "      <th>116347</th>\n",
       "      <td>FFF28D02B1EACBE1</td>\n",
       "      <td>B</td>\n",
       "      <td>interface_eu_test</td>\n",
       "      <td>PC</td>\n",
       "      <td>2020-12-21 15:24:00</td>\n",
       "      <td>product_page</td>\n",
       "      <td>NaN</td>\n",
       "      <td>2020-12-16 08:23:56</td>\n",
       "    </tr>\n",
       "    <tr>\n",
       "      <th>116348</th>\n",
       "      <td>FFF28D02B1EACBE1</td>\n",
       "      <td>B</td>\n",
       "      <td>interface_eu_test</td>\n",
       "      <td>PC</td>\n",
       "      <td>2020-12-21 15:24:00</td>\n",
       "      <td>product_page</td>\n",
       "      <td>NaN</td>\n",
       "      <td>2020-12-16 08:23:56</td>\n",
       "    </tr>\n",
       "    <tr>\n",
       "      <th>116355</th>\n",
       "      <td>FFF58BC33966EB51</td>\n",
       "      <td>A</td>\n",
       "      <td>interface_eu_test</td>\n",
       "      <td>Android</td>\n",
       "      <td>2020-12-13 17:37:34</td>\n",
       "      <td>registration</td>\n",
       "      <td>-0.45</td>\n",
       "      <td>2020-12-13 17:37:34</td>\n",
       "    </tr>\n",
       "    <tr>\n",
       "      <th>116356</th>\n",
       "      <td>FFF58BC33966EB51</td>\n",
       "      <td>A</td>\n",
       "      <td>interface_eu_test</td>\n",
       "      <td>Android</td>\n",
       "      <td>2020-12-13 17:56:02</td>\n",
       "      <td>login</td>\n",
       "      <td>NaN</td>\n",
       "      <td>2020-12-13 17:37:34</td>\n",
       "    </tr>\n",
       "    <tr>\n",
       "      <th>116357</th>\n",
       "      <td>FFF58BC33966EB51</td>\n",
       "      <td>A</td>\n",
       "      <td>interface_eu_test</td>\n",
       "      <td>Android</td>\n",
       "      <td>2020-12-17 03:21:02</td>\n",
       "      <td>login</td>\n",
       "      <td>NaN</td>\n",
       "      <td>2020-12-13 17:37:34</td>\n",
       "    </tr>\n",
       "  </tbody>\n",
       "</table>\n",
       "<p>100986 rows × 8 columns</p>\n",
       "</div>"
      ],
      "text/plain": [
       "                 user_id group            ab_test   device  \\\n",
       "0       0002CE61FF2C4011     B  interface_eu_test      Mac   \n",
       "1       0002CE61FF2C4011     B  interface_eu_test      Mac   \n",
       "2       0002CE61FF2C4011     B  interface_eu_test      Mac   \n",
       "3       0002CE61FF2C4011     B  interface_eu_test      Mac   \n",
       "4       0002CE61FF2C4011     B  interface_eu_test      Mac   \n",
       "...                  ...   ...                ...      ...   \n",
       "116347  FFF28D02B1EACBE1     B  interface_eu_test       PC   \n",
       "116348  FFF28D02B1EACBE1     B  interface_eu_test       PC   \n",
       "116355  FFF58BC33966EB51     A  interface_eu_test  Android   \n",
       "116356  FFF58BC33966EB51     A  interface_eu_test  Android   \n",
       "116357  FFF58BC33966EB51     A  interface_eu_test  Android   \n",
       "\n",
       "                  event_dt    event_name details        event_dt_reg  \n",
       "0      2020-12-07 04:37:31  registration   -2.38 2020-12-07 04:37:31  \n",
       "1      2020-12-07 04:37:49         login     NaN 2020-12-07 04:37:31  \n",
       "2      2020-12-07 04:37:57         login     NaN 2020-12-07 04:37:31  \n",
       "3      2020-12-07 04:38:54         login     NaN 2020-12-07 04:37:31  \n",
       "4      2020-12-08 22:15:35         login     NaN 2020-12-07 04:37:31  \n",
       "...                    ...           ...     ...                 ...  \n",
       "116347 2020-12-21 15:24:00  product_page     NaN 2020-12-16 08:23:56  \n",
       "116348 2020-12-21 15:24:00  product_page     NaN 2020-12-16 08:23:56  \n",
       "116355 2020-12-13 17:37:34  registration   -0.45 2020-12-13 17:37:34  \n",
       "116356 2020-12-13 17:56:02         login     NaN 2020-12-13 17:37:34  \n",
       "116357 2020-12-17 03:21:02         login     NaN 2020-12-13 17:37:34  \n",
       "\n",
       "[100986 rows x 8 columns]"
      ]
     },
     "execution_count": 13,
     "metadata": {},
     "output_type": "execute_result"
    }
   ],
   "source": [
    "# Определим даты регистрации пользователей\n",
    "event_reg = events_test[events_test['event_name'] == 'registration'][['user_id', 'event_dt']].rename(columns={'event_dt': 'event_dt_reg'})\n",
    "event_reg\n",
    "# Свяжем с исходной таблицей и добавим колонку с датой регистрации \n",
    "event_0 = events_test.merge(event_reg, on='user_id', how='left')\n",
    "# Отфильтруем события первых семи дней с момента регистрации\n",
    "event_7 = event_0[(event_0['event_dt']-event_0['event_dt_reg']).dt.days < 7 ]\n",
    "event_7"
   ]
  },
  {
   "cell_type": "code",
   "execution_count": null,
   "id": "c886a0bc",
   "metadata": {},
   "outputs": [
    {
     "data": {
      "text/plain": [
       "Timedelta('6 days 23:59:46')"
      ]
     },
     "execution_count": 14,
     "metadata": {},
     "output_type": "execute_result"
    }
   ],
   "source": [
    "# Определим максимальное время прошедшее с момента решистрации до события\n",
    "(event_7.event_dt - event_7.event_dt_reg).max()"
   ]
  },
  {
   "cell_type": "markdown",
   "id": "7cf1df48",
   "metadata": {},
   "source": [
    "Оценим достаточность выборки для получения статистически значимых результатов A/B-теста. Заданные параметры:\n",
    "\n",
    "- базовый показатель конверсии — 30%,\n",
    "\n",
    "- мощность теста — 80%,\n",
    "\n",
    "- достоверность теста — 95%."
   ]
  },
  {
   "cell_type": "code",
   "execution_count": 15,
   "id": "7d97b466",
   "metadata": {},
   "outputs": [
    {
     "name": "stdout",
     "output_type": "stream",
     "text": [
      "Необходимый размер выборки для каждой группы: 3761\n"
     ]
    }
   ],
   "source": [
    "# Задаём параметры\n",
    "alpha = 0.05  # Уровень значимости\n",
    "power = 0.8  # Мощность теста\n",
    "p1 = 0.3 # Базовый уровень доли\n",
    "mde = 0.03 # Минимальный детектируемый эффект\n",
    "effect_size = proportion_effectsize(p1, p1 + mde)\n",
    "\n",
    "# Инициализируем класс NormalIndPower\n",
    "power_analysis = NormalIndPower()\n",
    "\n",
    "# Рассчитываем размер выборки\n",
    "sample_size = power_analysis.solve_power(\n",
    "    effect_size = effect_size,\n",
    "    power = power,\n",
    "    alpha = alpha,\n",
    "    ratio = 1 # Равномерное распределение выборок\n",
    ")\n",
    "\n",
    "print(f\"Необходимый размер выборки для каждой группы: {int(sample_size)}\")"
   ]
  },
  {
   "cell_type": "markdown",
   "id": "4c354de0",
   "metadata": {},
   "source": [
    "Вывод:\n",
    "- Размер выборки для анализа достаточен."
   ]
  },
  {
   "cell_type": "markdown",
   "id": "SadyUDgZs0t3",
   "metadata": {
    "id": "SadyUDgZs0t3"
   },
   "source": [
    "Рассмотрим изменении пользовательской активности в тестовой группе по сравнению с контрольной. Рассчитаем для каждой группы количество посетителей, сделавших покупку, и общее количество посетителей."
   ]
  },
  {
   "cell_type": "code",
   "execution_count": 16,
   "id": "7ph853Xks4sy",
   "metadata": {
    "id": "7ph853Xks4sy"
   },
   "outputs": [
    {
     "name": "stdout",
     "output_type": "stream",
     "text": [
      "Обще количество посетителей группы А: 5383\n",
      "Обще количество посетителей группы B: 5467\n",
      "Количество и доля посетителей группы A, сделавших покупку: 1480 ( 27.49% )\n",
      "Количество и доля посетителей группы B, сделавших покупку: 1600 ( 29.27% )\n",
      "Разница доли посетителей, сделавших покупку в группах А и В : 1.78%\n"
     ]
    }
   ],
   "source": [
    "# Отберем для анализа данные теста 'interface_eu_test'\n",
    "event_7_test = event_7[event_7['ab_test']=='interface_eu_test']\n",
    "\n",
    "group_A_all = event_7_test[event_7_test['group']=='A']['user_id'].nunique()\n",
    "print(f'Обще количество посетителей группы А: {group_A_all}')\n",
    "group_B_all = event_7_test[event_7_test['group']=='B']['user_id'].nunique()\n",
    "print(f'Обще количество посетителей группы B: {group_B_all}')\n",
    "\n",
    "# Считаем количество посетителей, сделавших покупку для группы А и В\n",
    "group_A_good = event_7_test[(event_7_test['group']=='A') & (event_7_test['event_name']=='purchase')]['user_id'].nunique()\n",
    "group_B_good = event_7_test[(event_7_test['group']=='B') & (event_7_test['event_name']=='purchase')]['user_id'].nunique()\n",
    "\n",
    "# Определяем долю посетителей, сделавших покупку всех посетителей для группы А и В\n",
    "share_group_A_good = round(100*group_A_good / group_A_all, 2)\n",
    "share_group_B_good = round(100*group_B_good / group_B_all, 2)\n",
    "\n",
    "print(f'Количество и доля посетителей группы A, сделавших покупку: {group_A_good} ( {share_group_A_good}% )')\n",
    "print(f'Количество и доля посетителей группы B, сделавших покупку: {group_B_good} ( {share_group_B_good}% )')\n",
    "\n",
    "# Разница доли посетителей, сделавших покупку в группах А и В\n",
    "diff = round(abs(share_group_A_good - share_group_B_good), 2)\n",
    "print(f'Разница доли посетителей, сделавших покупку в группах А и В : {diff}%')\n"
   ]
  },
  {
   "cell_type": "markdown",
   "id": "36c4b2ce",
   "metadata": {
    "id": "hHTHPkJYs8mE"
   },
   "source": [
    "  Вывод: \n",
    "  - доля покупок посетителями тестовой группы В ( 29.27% ) на 1.78% больше, чем в контрольной группе А ( 27.49% ). Ожидаемый прирост 3% не был достигнут"
   ]
  },
  {
   "cell_type": "markdown",
   "id": "IKZ1Oo3Ws919",
   "metadata": {
    "id": "IKZ1Oo3Ws919"
   },
   "source": [
    "## 4. Оценка результатов A/B-тестирования:"
   ]
  },
  {
   "cell_type": "markdown",
   "id": "dcUdBSmvtC-E",
   "metadata": {
    "id": "dcUdBSmvtC-E"
   },
   "source": [
    "- Проверим изменение конверсии подходящим статистическим тестом, учитывая все этапы проверки гипотез."
   ]
  },
  {
   "cell_type": "markdown",
   "id": "37d3897b",
   "metadata": {},
   "source": [
    "Проверим гипотезу:  \n",
    "- Нулевая гипотеза H₀: Средние значения в группах A и B равны  \n",
    "Среднее количество пользователей, сделавших покупку в группе В не больше, чем в группе А.  \n",
    "  \n",
    "- Альтернативная гипотеза H₁: Средние значения в группе B больше, чем в группе А\n",
    "Среднее количество пользователей, сделавших покупку в группе В больше, и это различие статистически значимо."
   ]
  },
  {
   "cell_type": "code",
   "execution_count": 17,
   "id": "605f935e",
   "metadata": {},
   "outputs": [
    {
     "name": "stdout",
     "output_type": "stream",
     "text": [
      "pvalue=0.02 < 0.05\n",
      "Нулевая гипотеза не находит подтверждения! Изменение доли посетителей совершивших покупку является статистически значимым\n"
     ]
    }
   ],
   "source": [
    "# Проведем Z-тест пропорций\n",
    "stat_ztest, p_value_ztest = proportions_ztest( \n",
    "    [group_A_good, group_B_good],\n",
    "    [group_A_all, group_B_all],\n",
    "    alternative='smaller')\n",
    "alpha =  0.05 \n",
    "\n",
    "if p_value_ztest > alpha:\n",
    "    print(f'pvalue={round(p_value_ztest, 2)} > {alpha}')\n",
    "    print('Нулевая гипотеза находит подтверждение! Изменение доли посетителей совершивших покупку не является статистически значимым')\n",
    "else:\n",
    "    print(f'pvalue={round(p_value_ztest, 2)} < {alpha}')\n",
    "    print('Нулевая гипотеза не находит подтверждения! Изменение доли посетителей совершивших покупку является статистически значимым')"
   ]
  },
  {
   "cell_type": "markdown",
   "id": "npoPPSKytKvR",
   "metadata": {
    "id": "npoPPSKytKvR"
   },
   "source": [
    "Выводы:\n",
    "- Для проведёния эксперимента было задействованно 10850 пользователей. \n",
    "- Значение p-value для оценки статистической значимости выявленного эффекта составило 0.02\n",
    "- Результат а/в тестирования показывает, что изменение доли посетителей совершивших покупку после перерехода на новый дизайн сайта является статистически значимым. "
   ]
  },
  {
   "cell_type": "code",
   "execution_count": null,
   "id": "4d8cf619",
   "metadata": {},
   "outputs": [],
   "source": []
  }
 ],
 "metadata": {
  "ExecuteTimeLog": [
   {
    "duration": 396,
    "start_time": "2025-07-13T14:57:10.502Z"
   },
   {
    "duration": 80,
    "start_time": "2025-07-13T14:57:13.235Z"
   },
   {
    "duration": 36,
    "start_time": "2025-07-13T14:57:52.449Z"
   },
   {
    "duration": 28,
    "start_time": "2025-07-13T15:21:16.446Z"
   },
   {
    "duration": 30,
    "start_time": "2025-07-13T15:21:36.663Z"
   },
   {
    "duration": 44,
    "start_time": "2025-07-13T15:21:48.177Z"
   },
   {
    "duration": 32,
    "start_time": "2025-07-13T15:22:11.008Z"
   },
   {
    "duration": 33,
    "start_time": "2025-07-13T15:23:03.241Z"
   },
   {
    "duration": 31,
    "start_time": "2025-07-13T15:23:13.608Z"
   },
   {
    "duration": 33,
    "start_time": "2025-07-13T15:24:28.947Z"
   },
   {
    "duration": 45,
    "start_time": "2025-07-13T15:25:26.123Z"
   },
   {
    "duration": 36,
    "start_time": "2025-07-13T15:26:12.883Z"
   },
   {
    "duration": 36,
    "start_time": "2025-07-13T15:26:52.123Z"
   },
   {
    "duration": 36,
    "start_time": "2025-07-13T15:33:36.034Z"
   },
   {
    "duration": 35,
    "start_time": "2025-07-13T15:34:13.007Z"
   },
   {
    "duration": 3,
    "start_time": "2025-07-13T15:35:40.490Z"
   },
   {
    "duration": 35,
    "start_time": "2025-07-13T15:35:55.562Z"
   },
   {
    "duration": 31,
    "start_time": "2025-07-13T15:36:07.209Z"
   },
   {
    "duration": 33,
    "start_time": "2025-07-13T15:36:24.144Z"
   },
   {
    "duration": 31,
    "start_time": "2025-07-13T15:37:18.241Z"
   },
   {
    "duration": 31,
    "start_time": "2025-07-13T15:37:30.649Z"
   },
   {
    "duration": 36,
    "start_time": "2025-07-13T15:38:03.818Z"
   },
   {
    "duration": 36,
    "start_time": "2025-07-13T15:38:14.386Z"
   },
   {
    "duration": 37,
    "start_time": "2025-07-13T15:38:25.689Z"
   },
   {
    "duration": 33,
    "start_time": "2025-07-13T15:39:15.923Z"
   },
   {
    "duration": 37,
    "start_time": "2025-07-13T15:41:50.949Z"
   },
   {
    "duration": 47,
    "start_time": "2025-07-13T15:44:34.870Z"
   },
   {
    "duration": 33,
    "start_time": "2025-07-13T15:46:18.624Z"
   },
   {
    "duration": 40,
    "start_time": "2025-07-13T15:46:25.929Z"
   },
   {
    "duration": 39,
    "start_time": "2025-07-13T15:47:14.633Z"
   },
   {
    "duration": 35,
    "start_time": "2025-07-13T15:47:50.104Z"
   },
   {
    "duration": 38,
    "start_time": "2025-07-13T15:48:27.929Z"
   },
   {
    "duration": 36,
    "start_time": "2025-07-13T15:49:00.067Z"
   },
   {
    "duration": 4,
    "start_time": "2025-07-14T15:02:10.676Z"
   },
   {
    "duration": 10,
    "start_time": "2025-07-14T15:02:10.682Z"
   },
   {
    "duration": 418,
    "start_time": "2025-07-14T15:02:10.693Z"
   },
   {
    "duration": 72,
    "start_time": "2025-07-14T15:02:11.113Z"
   },
   {
    "duration": 1684,
    "start_time": "2025-07-14T15:02:11.187Z"
   },
   {
    "duration": 15,
    "start_time": "2025-07-14T15:11:07.010Z"
   },
   {
    "duration": 11,
    "start_time": "2025-07-14T15:15:29.974Z"
   },
   {
    "duration": 88,
    "start_time": "2025-07-14T15:29:41.061Z"
   },
   {
    "duration": 522,
    "start_time": "2025-07-14T15:33:10.158Z"
   },
   {
    "duration": 19,
    "start_time": "2025-07-14T15:33:20.673Z"
   },
   {
    "duration": 84,
    "start_time": "2025-07-14T15:56:08.487Z"
   },
   {
    "duration": 56,
    "start_time": "2025-07-14T15:56:28.748Z"
   },
   {
    "duration": 54,
    "start_time": "2025-07-14T15:56:59.612Z"
   },
   {
    "duration": 38,
    "start_time": "2025-07-14T15:57:16.281Z"
   },
   {
    "duration": 51,
    "start_time": "2025-07-14T16:29:14.866Z"
   },
   {
    "duration": 39,
    "start_time": "2025-07-14T16:31:39.318Z"
   },
   {
    "duration": 39,
    "start_time": "2025-07-14T16:31:47.470Z"
   },
   {
    "duration": 91,
    "start_time": "2025-07-14T16:36:43.522Z"
   },
   {
    "duration": 41,
    "start_time": "2025-07-14T16:37:16.577Z"
   },
   {
    "duration": 37,
    "start_time": "2025-07-14T16:37:33.889Z"
   },
   {
    "duration": 36,
    "start_time": "2025-07-14T16:38:43.886Z"
   },
   {
    "duration": 46,
    "start_time": "2025-07-14T16:39:56.315Z"
   },
   {
    "duration": 52,
    "start_time": "2025-07-14T16:40:18.041Z"
   },
   {
    "duration": 66,
    "start_time": "2025-07-14T17:06:12.829Z"
   },
   {
    "duration": 37,
    "start_time": "2025-07-14T17:06:52.986Z"
   },
   {
    "duration": 75,
    "start_time": "2025-07-14T17:08:47.917Z"
   },
   {
    "duration": 38,
    "start_time": "2025-07-14T17:12:15.896Z"
   },
   {
    "duration": 10,
    "start_time": "2025-07-14T17:34:27.288Z"
   },
   {
    "duration": 11,
    "start_time": "2025-07-14T17:41:18.324Z"
   },
   {
    "duration": 1933,
    "start_time": "2025-07-14T18:06:51.700Z"
   },
   {
    "duration": 14,
    "start_time": "2025-07-14T18:07:47.539Z"
   },
   {
    "duration": 131,
    "start_time": "2025-07-14T18:08:07.924Z"
   },
   {
    "duration": 8,
    "start_time": "2025-07-14T18:08:56.974Z"
   },
   {
    "duration": 10,
    "start_time": "2025-07-14T18:09:20.316Z"
   },
   {
    "duration": 9,
    "start_time": "2025-07-14T18:09:34.326Z"
   },
   {
    "duration": 8,
    "start_time": "2025-07-14T18:13:10.600Z"
   },
   {
    "duration": 12,
    "start_time": "2025-07-14T18:13:34.754Z"
   },
   {
    "duration": 88,
    "start_time": "2025-07-14T18:13:54.640Z"
   },
   {
    "duration": 4,
    "start_time": "2025-07-14T18:14:01.199Z"
   },
   {
    "duration": 137,
    "start_time": "2025-07-14T18:14:05.457Z"
   },
   {
    "duration": 16,
    "start_time": "2025-07-14T18:16:38.882Z"
   },
   {
    "duration": 18,
    "start_time": "2025-07-14T18:16:55.507Z"
   },
   {
    "duration": 17,
    "start_time": "2025-07-14T18:17:15.771Z"
   },
   {
    "duration": 14,
    "start_time": "2025-07-14T18:18:10.051Z"
   },
   {
    "duration": 10,
    "start_time": "2025-07-14T18:18:25.442Z"
   },
   {
    "duration": 87,
    "start_time": "2025-07-14T18:18:47.956Z"
   },
   {
    "duration": 112,
    "start_time": "2025-07-14T18:18:53.491Z"
   },
   {
    "duration": 104,
    "start_time": "2025-07-14T18:19:01.141Z"
   },
   {
    "duration": 107,
    "start_time": "2025-07-14T18:19:13.585Z"
   },
   {
    "duration": 14,
    "start_time": "2025-07-14T18:19:20.349Z"
   },
   {
    "duration": 10,
    "start_time": "2025-07-14T18:19:54.427Z"
   },
   {
    "duration": 12,
    "start_time": "2025-07-14T18:20:06.996Z"
   },
   {
    "duration": 17,
    "start_time": "2025-07-14T18:20:35.948Z"
   },
   {
    "duration": 140,
    "start_time": "2025-07-14T18:21:29.661Z"
   },
   {
    "duration": 139,
    "start_time": "2025-07-14T18:22:13.213Z"
   },
   {
    "duration": 137,
    "start_time": "2025-07-14T18:22:31.293Z"
   },
   {
    "duration": 135,
    "start_time": "2025-07-14T18:22:43.006Z"
   },
   {
    "duration": 8,
    "start_time": "2025-07-14T18:33:50.334Z"
   },
   {
    "duration": 11,
    "start_time": "2025-07-14T18:34:01.294Z"
   },
   {
    "duration": 87,
    "start_time": "2025-07-14T18:35:16.605Z"
   },
   {
    "duration": 29,
    "start_time": "2025-07-14T18:35:46.351Z"
   },
   {
    "duration": 17,
    "start_time": "2025-07-14T18:36:46.198Z"
   },
   {
    "duration": 17,
    "start_time": "2025-07-14T18:36:58.072Z"
   },
   {
    "duration": 16,
    "start_time": "2025-07-14T18:37:14.703Z"
   },
   {
    "duration": 19,
    "start_time": "2025-07-14T18:46:17.022Z"
   },
   {
    "duration": 20,
    "start_time": "2025-07-14T18:47:55.686Z"
   },
   {
    "duration": 19,
    "start_time": "2025-07-14T18:48:24.096Z"
   },
   {
    "duration": 20,
    "start_time": "2025-07-14T18:48:46.326Z"
   },
   {
    "duration": 539,
    "start_time": "2025-07-14T18:54:48.187Z"
   },
   {
    "duration": 3,
    "start_time": "2025-07-14T18:55:37.189Z"
   },
   {
    "duration": 169,
    "start_time": "2025-07-14T18:55:47.661Z"
   },
   {
    "duration": 47,
    "start_time": "2025-07-14T18:56:35.981Z"
   },
   {
    "duration": 23,
    "start_time": "2025-07-14T18:56:46.806Z"
   },
   {
    "duration": 25,
    "start_time": "2025-07-14T19:27:30.706Z"
   },
   {
    "duration": 138,
    "start_time": "2025-07-14T19:34:11.279Z"
   },
   {
    "duration": 156,
    "start_time": "2025-07-14T19:34:40.717Z"
   },
   {
    "duration": 145,
    "start_time": "2025-07-14T19:39:01.591Z"
   },
   {
    "duration": 162,
    "start_time": "2025-07-14T19:39:35.092Z"
   },
   {
    "duration": 134,
    "start_time": "2025-07-14T19:47:19.377Z"
   },
   {
    "duration": 144,
    "start_time": "2025-07-14T19:48:19.974Z"
   },
   {
    "duration": 4,
    "start_time": "2025-07-15T09:23:28.949Z"
   },
   {
    "duration": 33,
    "start_time": "2025-07-15T09:23:28.955Z"
   },
   {
    "duration": 1397,
    "start_time": "2025-07-15T09:23:28.989Z"
   },
   {
    "duration": 58,
    "start_time": "2025-07-15T09:23:30.388Z"
   },
   {
    "duration": 33,
    "start_time": "2025-07-15T09:23:30.447Z"
   },
   {
    "duration": 1621,
    "start_time": "2025-07-15T09:23:30.483Z"
   },
   {
    "duration": 136,
    "start_time": "2025-07-15T09:23:32.106Z"
   },
   {
    "duration": 16,
    "start_time": "2025-07-15T09:23:32.244Z"
   },
   {
    "duration": 139,
    "start_time": "2025-07-15T09:23:32.261Z"
   },
   {
    "duration": 164,
    "start_time": "2025-07-15T09:23:32.402Z"
   },
   {
    "duration": 13,
    "start_time": "2025-07-15T09:23:32.568Z"
   },
   {
    "duration": 249,
    "start_time": "2025-07-15T09:38:35.380Z"
   },
   {
    "duration": 214,
    "start_time": "2025-07-15T09:39:56.583Z"
   },
   {
    "duration": 103,
    "start_time": "2025-07-15T09:41:42.147Z"
   },
   {
    "duration": 231,
    "start_time": "2025-07-15T09:45:28.189Z"
   },
   {
    "duration": 14,
    "start_time": "2025-07-15T09:47:23.909Z"
   },
   {
    "duration": 10,
    "start_time": "2025-07-15T09:48:34.712Z"
   },
   {
    "duration": 14,
    "start_time": "2025-07-15T09:48:53.663Z"
   },
   {
    "duration": 50,
    "start_time": "2025-07-15T10:12:10.408Z"
   },
   {
    "duration": 35,
    "start_time": "2025-07-15T10:13:48.683Z"
   },
   {
    "duration": 4,
    "start_time": "2025-07-15T10:22:28.954Z"
   },
   {
    "duration": 7,
    "start_time": "2025-07-15T10:22:28.961Z"
   },
   {
    "duration": 1067,
    "start_time": "2025-07-15T10:22:28.970Z"
   },
   {
    "duration": 125,
    "start_time": "2025-07-15T10:22:30.039Z"
   },
   {
    "duration": 146,
    "start_time": "2025-07-15T10:22:30.166Z"
   },
   {
    "duration": 2458,
    "start_time": "2025-07-15T10:22:30.315Z"
   },
   {
    "duration": 128,
    "start_time": "2025-07-15T10:22:32.775Z"
   },
   {
    "duration": 13,
    "start_time": "2025-07-15T10:22:32.905Z"
   },
   {
    "duration": 128,
    "start_time": "2025-07-15T10:22:32.919Z"
   },
   {
    "duration": 156,
    "start_time": "2025-07-15T10:22:33.050Z"
   },
   {
    "duration": 12,
    "start_time": "2025-07-15T10:22:33.208Z"
   },
   {
    "duration": 258,
    "start_time": "2025-07-15T10:22:33.222Z"
   },
   {
    "duration": 97,
    "start_time": "2025-07-15T10:33:14.036Z"
   },
   {
    "duration": 12,
    "start_time": "2025-07-15T10:33:35.296Z"
   },
   {
    "duration": 7,
    "start_time": "2025-07-15T10:35:34.836Z"
   },
   {
    "duration": 12,
    "start_time": "2025-07-15T10:36:00.234Z"
   },
   {
    "duration": 11,
    "start_time": "2025-07-15T10:37:48.001Z"
   },
   {
    "duration": 8,
    "start_time": "2025-07-15T10:37:55.787Z"
   },
   {
    "duration": 15,
    "start_time": "2025-07-15T10:38:17.636Z"
   },
   {
    "duration": 240,
    "start_time": "2025-07-15T10:38:35.225Z"
   },
   {
    "duration": 229,
    "start_time": "2025-07-15T10:39:42.950Z"
   },
   {
    "duration": 20,
    "start_time": "2025-07-15T10:58:46.722Z"
   },
   {
    "duration": 3,
    "start_time": "2025-07-15T13:22:45.304Z"
   },
   {
    "duration": 22,
    "start_time": "2025-07-15T13:22:45.309Z"
   },
   {
    "duration": 1424,
    "start_time": "2025-07-15T13:22:45.333Z"
   },
   {
    "duration": 57,
    "start_time": "2025-07-15T13:22:46.759Z"
   },
   {
    "duration": 10,
    "start_time": "2025-07-15T13:22:46.818Z"
   },
   {
    "duration": 1567,
    "start_time": "2025-07-15T13:22:46.830Z"
   },
   {
    "duration": 140,
    "start_time": "2025-07-15T13:22:48.398Z"
   },
   {
    "duration": 14,
    "start_time": "2025-07-15T13:22:48.540Z"
   },
   {
    "duration": 152,
    "start_time": "2025-07-15T13:22:48.555Z"
   },
   {
    "duration": 158,
    "start_time": "2025-07-15T13:22:48.709Z"
   },
   {
    "duration": 11,
    "start_time": "2025-07-15T13:22:48.869Z"
   },
   {
    "duration": 310,
    "start_time": "2025-07-15T13:22:48.890Z"
   },
   {
    "duration": 29,
    "start_time": "2025-07-15T13:22:49.202Z"
   },
   {
    "duration": 12,
    "start_time": "2025-07-15T13:24:38.021Z"
   },
   {
    "duration": 19,
    "start_time": "2025-07-15T13:24:48.653Z"
   },
   {
    "duration": 49,
    "start_time": "2025-07-15T13:26:28.525Z"
   },
   {
    "duration": 38,
    "start_time": "2025-07-15T13:32:10.097Z"
   },
   {
    "duration": 50,
    "start_time": "2025-07-15T13:32:21.271Z"
   },
   {
    "duration": 144,
    "start_time": "2025-07-15T13:37:01.055Z"
   },
   {
    "duration": 49,
    "start_time": "2025-07-15T13:37:24.433Z"
   },
   {
    "duration": 58,
    "start_time": "2025-07-15T13:37:42.163Z"
   },
   {
    "duration": 63,
    "start_time": "2025-07-15T14:33:22.610Z"
   },
   {
    "duration": 67,
    "start_time": "2025-07-15T14:35:20.257Z"
   },
   {
    "duration": 63,
    "start_time": "2025-07-15T14:36:25.285Z"
   },
   {
    "duration": 63,
    "start_time": "2025-07-15T14:36:34.120Z"
   },
   {
    "duration": 78,
    "start_time": "2025-07-15T14:36:43.413Z"
   },
   {
    "duration": 89,
    "start_time": "2025-07-15T14:37:10.567Z"
   },
   {
    "duration": 1298,
    "start_time": "2025-07-15T14:37:27.327Z"
   },
   {
    "duration": 79,
    "start_time": "2025-07-15T14:38:34.023Z"
   },
   {
    "duration": 65,
    "start_time": "2025-07-15T14:39:00.017Z"
   },
   {
    "duration": 67,
    "start_time": "2025-07-15T14:50:01.375Z"
   },
   {
    "duration": 1330,
    "start_time": "2025-07-15T14:50:17.039Z"
   },
   {
    "duration": 1334,
    "start_time": "2025-07-15T14:50:31.718Z"
   },
   {
    "duration": 88,
    "start_time": "2025-07-15T14:51:10.897Z"
   },
   {
    "duration": 119,
    "start_time": "2025-07-15T14:51:25.078Z"
   },
   {
    "duration": 76,
    "start_time": "2025-07-15T14:51:47.225Z"
   },
   {
    "duration": 1360,
    "start_time": "2025-07-15T14:56:05.177Z"
   },
   {
    "duration": 115,
    "start_time": "2025-07-15T14:56:38.410Z"
   },
   {
    "duration": 756,
    "start_time": "2025-07-15T14:57:00.653Z"
   },
   {
    "duration": 62,
    "start_time": "2025-07-15T14:57:22.892Z"
   },
   {
    "duration": 69,
    "start_time": "2025-07-15T14:57:34.605Z"
   },
   {
    "duration": 66,
    "start_time": "2025-07-15T14:57:43.659Z"
   },
   {
    "duration": 68,
    "start_time": "2025-07-15T14:57:59.211Z"
   },
   {
    "duration": 473,
    "start_time": "2025-07-15T15:00:39.470Z"
   },
   {
    "duration": 476,
    "start_time": "2025-07-15T15:01:04.405Z"
   },
   {
    "duration": 461,
    "start_time": "2025-07-15T15:01:27.106Z"
   },
   {
    "duration": 70,
    "start_time": "2025-07-15T15:01:45.206Z"
   },
   {
    "duration": 131,
    "start_time": "2025-07-15T15:03:45.312Z"
   },
   {
    "duration": 68,
    "start_time": "2025-07-15T15:03:53.472Z"
   },
   {
    "duration": 65,
    "start_time": "2025-07-15T15:06:03.115Z"
   },
   {
    "duration": 67,
    "start_time": "2025-07-15T15:06:25.626Z"
   },
   {
    "duration": 85,
    "start_time": "2025-07-15T15:07:30.552Z"
   },
   {
    "duration": 4,
    "start_time": "2025-07-15T15:13:12.540Z"
   },
   {
    "duration": 12,
    "start_time": "2025-07-15T15:13:12.546Z"
   },
   {
    "duration": 1128,
    "start_time": "2025-07-15T15:13:12.560Z"
   },
   {
    "duration": 103,
    "start_time": "2025-07-15T15:13:13.690Z"
   },
   {
    "duration": 8,
    "start_time": "2025-07-15T15:13:13.795Z"
   },
   {
    "duration": 1686,
    "start_time": "2025-07-15T15:13:13.805Z"
   },
   {
    "duration": 143,
    "start_time": "2025-07-15T15:13:15.493Z"
   },
   {
    "duration": 16,
    "start_time": "2025-07-15T15:13:15.637Z"
   },
   {
    "duration": 167,
    "start_time": "2025-07-15T15:13:15.655Z"
   },
   {
    "duration": 167,
    "start_time": "2025-07-15T15:13:15.823Z"
   },
   {
    "duration": 11,
    "start_time": "2025-07-15T15:13:15.992Z"
   },
   {
    "duration": 276,
    "start_time": "2025-07-15T15:13:16.005Z"
   },
   {
    "duration": 103,
    "start_time": "2025-07-15T15:13:16.289Z"
   },
   {
    "duration": 63,
    "start_time": "2025-07-15T15:20:33.594Z"
   },
   {
    "duration": 107,
    "start_time": "2025-07-15T15:34:56.557Z"
   },
   {
    "duration": 14,
    "start_time": "2025-07-15T15:35:37.732Z"
   },
   {
    "duration": 18,
    "start_time": "2025-07-15T15:48:09.134Z"
   },
   {
    "duration": 231,
    "start_time": "2025-07-15T15:48:28.644Z"
   },
   {
    "duration": 232,
    "start_time": "2025-07-15T15:48:48.564Z"
   },
   {
    "duration": 191,
    "start_time": "2025-07-15T15:52:18.017Z"
   },
   {
    "duration": 17,
    "start_time": "2025-07-15T15:52:57.241Z"
   },
   {
    "duration": 1633,
    "start_time": "2025-07-15T15:55:31.051Z"
   },
   {
    "duration": 82,
    "start_time": "2025-07-15T15:56:14.305Z"
   },
   {
    "duration": 17,
    "start_time": "2025-07-15T15:56:23.243Z"
   },
   {
    "duration": 26,
    "start_time": "2025-07-15T15:56:29.395Z"
   },
   {
    "duration": 32,
    "start_time": "2025-07-15T15:59:17.700Z"
   },
   {
    "duration": 20,
    "start_time": "2025-07-15T15:59:30.805Z"
   },
   {
    "duration": 34,
    "start_time": "2025-07-15T16:03:44.306Z"
   },
   {
    "duration": 45,
    "start_time": "2025-07-15T16:05:48.394Z"
   },
   {
    "duration": 6,
    "start_time": "2025-07-15T19:12:42.571Z"
   },
   {
    "duration": 22,
    "start_time": "2025-07-15T19:12:42.579Z"
   },
   {
    "duration": 1192,
    "start_time": "2025-07-15T19:12:42.603Z"
   },
   {
    "duration": 129,
    "start_time": "2025-07-15T19:12:43.797Z"
   },
   {
    "duration": 9,
    "start_time": "2025-07-15T19:12:43.928Z"
   },
   {
    "duration": 1625,
    "start_time": "2025-07-15T19:12:43.939Z"
   },
   {
    "duration": 133,
    "start_time": "2025-07-15T19:12:45.566Z"
   },
   {
    "duration": 14,
    "start_time": "2025-07-15T19:12:45.701Z"
   },
   {
    "duration": 122,
    "start_time": "2025-07-15T19:12:45.717Z"
   },
   {
    "duration": 143,
    "start_time": "2025-07-15T19:12:45.841Z"
   },
   {
    "duration": 9,
    "start_time": "2025-07-15T19:12:45.986Z"
   },
   {
    "duration": 277,
    "start_time": "2025-07-15T19:12:45.997Z"
   },
   {
    "duration": 76,
    "start_time": "2025-07-15T19:12:46.275Z"
   },
   {
    "duration": 12,
    "start_time": "2025-07-15T19:12:46.363Z"
   },
   {
    "duration": 64,
    "start_time": "2025-07-15T19:12:46.376Z"
   },
   {
    "duration": 61,
    "start_time": "2025-07-15T19:46:29.322Z"
   },
   {
    "duration": 62,
    "start_time": "2025-07-15T19:49:48.251Z"
   },
   {
    "duration": 60,
    "start_time": "2025-07-15T19:50:19.141Z"
   },
   {
    "duration": 62,
    "start_time": "2025-07-15T19:51:02.292Z"
   },
   {
    "duration": 61,
    "start_time": "2025-07-15T19:52:51.215Z"
   },
   {
    "duration": 74,
    "start_time": "2025-07-15T19:53:12.918Z"
   },
   {
    "duration": 61,
    "start_time": "2025-07-15T19:53:31.925Z"
   },
   {
    "duration": 59,
    "start_time": "2025-07-15T19:53:57.710Z"
   },
   {
    "duration": 60,
    "start_time": "2025-07-15T19:54:33.151Z"
   },
   {
    "duration": 58,
    "start_time": "2025-07-15T19:56:32.407Z"
   },
   {
    "duration": 5,
    "start_time": "2025-07-15T19:58:13.761Z"
   },
   {
    "duration": 4,
    "start_time": "2025-07-15T20:02:13.412Z"
   },
   {
    "duration": 4,
    "start_time": "2025-07-15T20:03:12.971Z"
   },
   {
    "duration": 5,
    "start_time": "2025-07-15T20:15:57.073Z"
   },
   {
    "duration": 5,
    "start_time": "2025-07-15T20:16:23.666Z"
   },
   {
    "duration": 5,
    "start_time": "2025-07-15T20:17:24.477Z"
   },
   {
    "duration": 111,
    "start_time": "2025-07-15T20:22:52.937Z"
   },
   {
    "duration": 14,
    "start_time": "2025-07-15T20:52:56.692Z"
   },
   {
    "duration": 5,
    "start_time": "2025-07-16T08:15:27.860Z"
   },
   {
    "duration": 4,
    "start_time": "2025-07-16T08:15:27.869Z"
   },
   {
    "duration": 1173,
    "start_time": "2025-07-16T08:15:27.876Z"
   },
   {
    "duration": 111,
    "start_time": "2025-07-16T08:15:29.051Z"
   },
   {
    "duration": 14,
    "start_time": "2025-07-16T08:15:29.163Z"
   },
   {
    "duration": 1623,
    "start_time": "2025-07-16T08:15:29.179Z"
   },
   {
    "duration": 143,
    "start_time": "2025-07-16T08:15:30.804Z"
   },
   {
    "duration": 18,
    "start_time": "2025-07-16T08:15:30.949Z"
   },
   {
    "duration": 140,
    "start_time": "2025-07-16T08:15:30.971Z"
   },
   {
    "duration": 165,
    "start_time": "2025-07-16T08:15:31.113Z"
   },
   {
    "duration": 11,
    "start_time": "2025-07-16T08:15:31.279Z"
   },
   {
    "duration": 290,
    "start_time": "2025-07-16T08:15:31.292Z"
   },
   {
    "duration": 122,
    "start_time": "2025-07-16T08:15:31.585Z"
   },
   {
    "duration": 7,
    "start_time": "2025-07-16T08:15:31.708Z"
   },
   {
    "duration": 28,
    "start_time": "2025-07-16T08:15:31.716Z"
   },
   {
    "duration": 88,
    "start_time": "2025-07-16T08:15:31.748Z"
   },
   {
    "duration": 31,
    "start_time": "2025-07-16T08:15:31.837Z"
   },
   {
    "duration": 52,
    "start_time": "2025-07-16T08:15:31.870Z"
   },
   {
    "duration": 8,
    "start_time": "2025-07-16T08:15:42.152Z"
   },
   {
    "duration": 7,
    "start_time": "2025-07-16T08:15:47.146Z"
   },
   {
    "duration": 1380,
    "start_time": "2025-07-16T19:42:03.627Z"
   },
   {
    "duration": 125,
    "start_time": "2025-07-16T19:42:05.010Z"
   },
   {
    "duration": 20,
    "start_time": "2025-07-16T19:42:05.136Z"
   },
   {
    "duration": 1670,
    "start_time": "2025-07-16T19:42:05.161Z"
   },
   {
    "duration": 166,
    "start_time": "2025-07-16T19:42:06.834Z"
   },
   {
    "duration": 92,
    "start_time": "2025-07-16T19:42:07.001Z"
   },
   {
    "duration": 128,
    "start_time": "2025-07-16T19:42:07.094Z"
   },
   {
    "duration": 174,
    "start_time": "2025-07-16T19:42:07.224Z"
   },
   {
    "duration": 10,
    "start_time": "2025-07-16T19:42:07.400Z"
   },
   {
    "duration": 327,
    "start_time": "2025-07-16T19:42:07.411Z"
   },
   {
    "duration": 98,
    "start_time": "2025-07-16T19:42:07.740Z"
   },
   {
    "duration": 17,
    "start_time": "2025-07-16T19:42:07.840Z"
   },
   {
    "duration": 19,
    "start_time": "2025-07-16T19:42:07.867Z"
   },
   {
    "duration": 94,
    "start_time": "2025-07-16T19:42:07.888Z"
   },
   {
    "duration": 17,
    "start_time": "2025-07-16T19:42:07.984Z"
   },
   {
    "duration": 107,
    "start_time": "2025-07-16T19:42:08.003Z"
   },
   {
    "duration": 19,
    "start_time": "2025-07-16T19:53:56.145Z"
   },
   {
    "duration": 13,
    "start_time": "2025-07-16T19:55:19.281Z"
   },
   {
    "duration": 143,
    "start_time": "2025-07-16T20:00:35.149Z"
   },
   {
    "duration": 10,
    "start_time": "2025-07-16T20:05:39.432Z"
   },
   {
    "duration": 37,
    "start_time": "2025-07-16T20:07:53.458Z"
   },
   {
    "duration": 1260,
    "start_time": "2025-07-16T20:08:02.848Z"
   },
   {
    "duration": 201,
    "start_time": "2025-07-16T20:08:04.110Z"
   },
   {
    "duration": 0,
    "start_time": "2025-07-16T20:08:04.313Z"
   },
   {
    "duration": 0,
    "start_time": "2025-07-16T20:08:04.314Z"
   },
   {
    "duration": 0,
    "start_time": "2025-07-16T20:08:04.315Z"
   },
   {
    "duration": 0,
    "start_time": "2025-07-16T20:08:04.317Z"
   },
   {
    "duration": 0,
    "start_time": "2025-07-16T20:08:04.318Z"
   },
   {
    "duration": 0,
    "start_time": "2025-07-16T20:08:04.319Z"
   },
   {
    "duration": 0,
    "start_time": "2025-07-16T20:08:04.320Z"
   },
   {
    "duration": 0,
    "start_time": "2025-07-16T20:08:04.322Z"
   },
   {
    "duration": 0,
    "start_time": "2025-07-16T20:08:04.323Z"
   },
   {
    "duration": 0,
    "start_time": "2025-07-16T20:08:04.324Z"
   },
   {
    "duration": 0,
    "start_time": "2025-07-16T20:08:04.357Z"
   },
   {
    "duration": 0,
    "start_time": "2025-07-16T20:08:04.359Z"
   },
   {
    "duration": 0,
    "start_time": "2025-07-16T20:08:04.360Z"
   },
   {
    "duration": 0,
    "start_time": "2025-07-16T20:08:04.362Z"
   },
   {
    "duration": 0,
    "start_time": "2025-07-16T20:08:04.363Z"
   },
   {
    "duration": 31,
    "start_time": "2025-07-16T20:09:31.181Z"
   },
   {
    "duration": 45,
    "start_time": "2025-07-16T20:09:47.282Z"
   },
   {
    "duration": 15,
    "start_time": "2025-07-16T20:09:54.689Z"
   },
   {
    "duration": 11,
    "start_time": "2025-07-16T20:11:07.747Z"
   },
   {
    "duration": 10,
    "start_time": "2025-07-16T20:12:33.910Z"
   },
   {
    "duration": 6,
    "start_time": "2025-07-16T20:12:47.975Z"
   },
   {
    "duration": 10,
    "start_time": "2025-07-16T20:13:23.237Z"
   },
   {
    "duration": 8,
    "start_time": "2025-07-16T20:14:45.472Z"
   },
   {
    "duration": 13,
    "start_time": "2025-07-16T20:24:00.470Z"
   },
   {
    "duration": 11,
    "start_time": "2025-07-16T20:50:54.673Z"
   },
   {
    "duration": 1869,
    "start_time": "2025-07-16T20:51:02.375Z"
   },
   {
    "duration": 166,
    "start_time": "2025-07-16T20:51:07.717Z"
   },
   {
    "duration": 14,
    "start_time": "2025-07-16T20:51:11.597Z"
   },
   {
    "duration": 151,
    "start_time": "2025-07-16T20:51:14.444Z"
   },
   {
    "duration": 10,
    "start_time": "2025-07-16T20:59:53.908Z"
   },
   {
    "duration": 131,
    "start_time": "2025-07-16T21:00:09.220Z"
   },
   {
    "duration": 133,
    "start_time": "2025-07-16T21:01:11.678Z"
   },
   {
    "duration": 129,
    "start_time": "2025-07-16T21:01:24.207Z"
   },
   {
    "duration": 137,
    "start_time": "2025-07-16T21:02:07.281Z"
   },
   {
    "duration": 136,
    "start_time": "2025-07-16T21:02:22.658Z"
   },
   {
    "duration": 76,
    "start_time": "2025-07-16T21:03:20.495Z"
   },
   {
    "duration": 777,
    "start_time": "2025-07-16T21:18:12.642Z"
   },
   {
    "duration": 96,
    "start_time": "2025-07-16T21:18:28.461Z"
   },
   {
    "duration": 100,
    "start_time": "2025-07-16T21:18:46.827Z"
   },
   {
    "duration": 148,
    "start_time": "2025-07-16T21:18:58.274Z"
   },
   {
    "duration": 727,
    "start_time": "2025-07-16T21:19:05.986Z"
   },
   {
    "duration": 722,
    "start_time": "2025-07-16T21:19:25.999Z"
   },
   {
    "duration": 736,
    "start_time": "2025-07-16T21:19:56.442Z"
   },
   {
    "duration": 968,
    "start_time": "2025-07-16T21:20:33.786Z"
   },
   {
    "duration": 809,
    "start_time": "2025-07-16T21:21:21.891Z"
   },
   {
    "duration": 848,
    "start_time": "2025-07-16T21:23:10.437Z"
   },
   {
    "duration": 175,
    "start_time": "2025-07-16T21:24:27.605Z"
   },
   {
    "duration": 12,
    "start_time": "2025-07-16T21:24:32.808Z"
   },
   {
    "duration": 250,
    "start_time": "2025-07-16T21:24:38.853Z"
   },
   {
    "duration": 80,
    "start_time": "2025-07-16T21:24:45.654Z"
   },
   {
    "duration": 72,
    "start_time": "2025-07-16T21:26:34.006Z"
   },
   {
    "duration": 76,
    "start_time": "2025-07-16T21:26:44.477Z"
   },
   {
    "duration": 94,
    "start_time": "2025-07-16T21:31:27.674Z"
   },
   {
    "duration": 6,
    "start_time": "2025-07-16T21:37:50.181Z"
   },
   {
    "duration": 88,
    "start_time": "2025-07-16T21:38:31.031Z"
   },
   {
    "duration": 8,
    "start_time": "2025-07-16T21:38:37.470Z"
   },
   {
    "duration": 93,
    "start_time": "2025-07-16T21:38:54.782Z"
   },
   {
    "duration": 82,
    "start_time": "2025-07-16T21:39:04.685Z"
   },
   {
    "duration": 20,
    "start_time": "2025-07-16T21:41:31.362Z"
   },
   {
    "duration": 75,
    "start_time": "2025-07-16T21:50:59.144Z"
   },
   {
    "duration": 63,
    "start_time": "2025-07-16T21:53:41.691Z"
   },
   {
    "duration": 63,
    "start_time": "2025-07-16T21:54:21.826Z"
   },
   {
    "duration": 20,
    "start_time": "2025-07-16T21:55:14.859Z"
   },
   {
    "duration": 11,
    "start_time": "2025-07-16T21:55:22.529Z"
   },
   {
    "duration": 11,
    "start_time": "2025-07-16T21:55:44.809Z"
   },
   {
    "duration": 12,
    "start_time": "2025-07-16T21:56:00.450Z"
   },
   {
    "duration": 25,
    "start_time": "2025-07-16T21:56:19.386Z"
   },
   {
    "duration": 80,
    "start_time": "2025-07-16T21:57:02.136Z"
   },
   {
    "duration": 65,
    "start_time": "2025-07-16T22:08:22.764Z"
   },
   {
    "duration": 18,
    "start_time": "2025-07-16T22:08:46.688Z"
   },
   {
    "duration": 5,
    "start_time": "2025-07-16T22:33:25.640Z"
   },
   {
    "duration": 6,
    "start_time": "2025-07-16T22:34:40.883Z"
   },
   {
    "duration": 1137,
    "start_time": "2025-07-16T22:45:46.766Z"
   },
   {
    "duration": 115,
    "start_time": "2025-07-16T22:45:47.905Z"
   },
   {
    "duration": 26,
    "start_time": "2025-07-16T22:45:48.022Z"
   },
   {
    "duration": 41,
    "start_time": "2025-07-16T22:45:48.050Z"
   },
   {
    "duration": 1731,
    "start_time": "2025-07-16T22:45:48.093Z"
   },
   {
    "duration": 138,
    "start_time": "2025-07-16T22:45:49.826Z"
   },
   {
    "duration": 16,
    "start_time": "2025-07-16T22:45:49.966Z"
   },
   {
    "duration": 189,
    "start_time": "2025-07-16T22:45:49.983Z"
   },
   {
    "duration": 755,
    "start_time": "2025-07-16T22:45:50.174Z"
   },
   {
    "duration": 156,
    "start_time": "2025-07-16T22:45:50.931Z"
   },
   {
    "duration": 11,
    "start_time": "2025-07-16T22:45:51.089Z"
   },
   {
    "duration": 374,
    "start_time": "2025-07-16T22:45:51.102Z"
   },
   {
    "duration": 101,
    "start_time": "2025-07-16T22:45:51.477Z"
   },
   {
    "duration": 5,
    "start_time": "2025-07-16T22:45:51.581Z"
   },
   {
    "duration": 120,
    "start_time": "2025-07-16T22:45:51.588Z"
   },
   {
    "duration": 80,
    "start_time": "2025-07-16T22:45:51.710Z"
   },
   {
    "duration": 5,
    "start_time": "2025-07-16T22:45:51.791Z"
   }
  ],
  "colab": {
   "provenance": [],
   "toc_visible": true
  },
  "kernelspec": {
   "display_name": "Python 3 (ipykernel)",
   "language": "python",
   "name": "python3"
  },
  "language_info": {
   "codemirror_mode": {
    "name": "ipython",
    "version": 3
   },
   "file_extension": ".py",
   "mimetype": "text/x-python",
   "name": "python",
   "nbconvert_exporter": "python",
   "pygments_lexer": "ipython3",
   "version": "3.9.12"
  },
  "toc": {
   "base_numbering": 1,
   "nav_menu": {},
   "number_sections": true,
   "sideBar": true,
   "skip_h1_title": true,
   "title_cell": "Table of Contents",
   "title_sidebar": "Contents",
   "toc_cell": false,
   "toc_position": {},
   "toc_section_display": true,
   "toc_window_display": false
  }
 },
 "nbformat": 4,
 "nbformat_minor": 5
}
