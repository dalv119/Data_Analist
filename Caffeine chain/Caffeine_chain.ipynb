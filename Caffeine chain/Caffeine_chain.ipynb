{
 "cells": [
  {
   "cell_type": "markdown",
   "id": "e06910dd",
   "metadata": {
    "id": "e06910dd"
   },
   "source": [
    "# Изучение рынка заведений общественного питания Москвы\n",
    "\n",
    "- Автор: Владимир Добров\n",
    "- Дата: 2025-04-26"
   ]
  },
  {
   "cell_type": "markdown",
   "id": "4149134c",
   "metadata": {
    "id": "4149134c"
   },
   "source": [
    "### Цели и задачи проекта\n",
    "\n",
    "\n",
    "Для инвестфонда Shut Up and Take My Money провести исследовательский анализ рынка Москвы по выбору подходящего места на предмет открытия заведения общественного питания. Тип заведения пока не определён: кафе, ресторан или бар. Расположение, меню и цены пока тоже обсуждаются."
   ]
  },
  {
   "cell_type": "markdown",
   "id": "728986ea",
   "metadata": {
    "id": "728986ea"
   },
   "source": [
    "### Описание данных\n",
    "\n",
    "\n",
    "Для анализа использованы данные датасета с заведениями общественного питания Москвы, составленного на основе данных сервисов Яндекс Карты и Яндекс Бизнес на лето 2022 года. Информация, размещённая в сервисе Яндекс Бизнес, могла быть добавлена пользователями или найдена в общедоступных источниках. \n",
    "\n",
    "Данные состоят из двух датасетов:\n",
    "\n",
    "Файл `/datasets/rest_info.csv` содержит информацию о заведениях общественного питания:  \n",
    "\n",
    "- `name` — название заведения;\n",
    "- `address` — адрес заведения;\n",
    "- `district` — административный район, в котором находится заведение, например Центральный административный округ;\n",
    "- `category` — категория заведения, например «кафе», «пиццерия» или «кофейня»;\n",
    "- `hours` — информация о днях и часах работы;\n",
    "- `rating` — рейтинг заведения по оценкам пользователей в Яндекс Картах (высшая оценка — 5.0);\n",
    "- `chain` — число, выраженное 0 или 1, которое показывает, является ли заведение сетевым (для маленьких сетей могут встречаться ошибки):\n",
    "    - `0` — заведение не является сетевым;\n",
    "    - `1` — заведение является сетевым.\n",
    "- `seats` — количество посадочных мест.\n",
    "\n",
    "Файл `/datasets/rest_price.csv` содержит информацию о среднем чеке в заведениях общественного питания:\n",
    "\n",
    "- `price` — категория цен в заведении, например «средние», «ниже среднего», «выше среднего» и так далее;\n",
    "- `avg_bill` — строка, которая хранит среднюю стоимость заказа в виде диапазона, например:\n",
    "    - «Средний счёт: 1000–1500 ₽»;\n",
    "    - «Цена чашки капучино: 130–220 ₽»;\n",
    "    - «Цена бокала пива: 400–600 ₽».\n",
    "      и так далее;\n",
    "- `middle_avg_bill` — число с оценкой среднего чека, которое указано только для значений из столбца avg_bill, начинающихся с подстроки «Средний счёт»:\n",
    "    - Если в строке указан ценовой диапазон из двух значений, в столбец войдёт медиана этих двух значений.\n",
    "    - Если в строке указано одно число — цена без диапазона, то в столбец войдёт это число.\n",
    "    - Если значения нет или оно не начинается с подстроки «Средний счёт», то в столбец ничего не войдёт.\n",
    "- `middle_coffee_cup` — число с оценкой одной чашки капучино, которое указано только для значений из столбца avg_bill, начинающихся с подстроки «Цена одной чашки капучино»:\n",
    "    - Если в строке указан ценовой диапазон из двух значений, в столбец войдёт медиана этих двух значений.\n",
    "    - Если в строке указано одно число — цена без диапазона, то в столбец войдёт это число.\n",
    "    - Если значения нет или оно не начинается с подстроки «Цена одной чашки капучино», то в столбец ничего не войдёт."
   ]
  },
  {
   "cell_type": "markdown",
   "id": "4fecaf95",
   "metadata": {
    "id": "4fecaf95"
   },
   "source": [
    "### Содержимое проекта\n",
    "\n",
    "\n",
    "1. Загрузка данных и знакомство с ними.  \n",
    "2. Предобработка данных.  \n",
    "3. Исследовательский анализ данных.\n",
    "4. Итоговые выводы.\n",
    "\n",
    "---"
   ]
  },
  {
   "cell_type": "markdown",
   "id": "6f7d21d6",
   "metadata": {
    "id": "6f7d21d6"
   },
   "source": [
    "## 1. Загрузка данных и знакомство с ними\n",
    "\n"
   ]
  },
  {
   "cell_type": "code",
   "execution_count": null,
   "id": "ff87039b",
   "metadata": {},
   "outputs": [
    {
     "name": "stdout",
     "output_type": "stream",
     "text": [
      "Collecting phik\n",
      "  Downloading phik-0.12.4-cp39-cp39-manylinux_2_17_x86_64.manylinux2014_x86_64.whl (686 kB)\n",
      "\u001b[K     |████████████████████████████████| 686 kB 1.2 MB/s eta 0:00:01\n",
      "\u001b[?25hRequirement already satisfied: pandas>=0.25.1 in /opt/conda/lib/python3.9/site-packages (from phik) (1.2.4)\n",
      "Requirement already satisfied: numpy>=1.18.0 in /opt/conda/lib/python3.9/site-packages (from phik) (1.21.1)\n",
      "Requirement already satisfied: scipy>=1.5.2 in /opt/conda/lib/python3.9/site-packages (from phik) (1.9.1)\n",
      "Requirement already satisfied: matplotlib>=2.2.3 in /opt/conda/lib/python3.9/site-packages (from phik) (3.3.4)\n",
      "Requirement already satisfied: joblib>=0.14.1 in /opt/conda/lib/python3.9/site-packages (from phik) (1.1.0)\n",
      "Requirement already satisfied: pillow>=6.2.0 in /opt/conda/lib/python3.9/site-packages (from matplotlib>=2.2.3->phik) (8.4.0)\n",
      "Requirement already satisfied: kiwisolver>=1.0.1 in /opt/conda/lib/python3.9/site-packages (from matplotlib>=2.2.3->phik) (1.4.4)\n",
      "Requirement already satisfied: python-dateutil>=2.1 in /opt/conda/lib/python3.9/site-packages (from matplotlib>=2.2.3->phik) (2.8.1)\n",
      "Requirement already satisfied: cycler>=0.10 in /opt/conda/lib/python3.9/site-packages (from matplotlib>=2.2.3->phik) (0.11.0)\n",
      "Requirement already satisfied: pyparsing!=2.0.4,!=2.1.2,!=2.1.6,>=2.0.3 in /opt/conda/lib/python3.9/site-packages (from matplotlib>=2.2.3->phik) (2.4.7)\n",
      "Requirement already satisfied: pytz>=2017.3 in /opt/conda/lib/python3.9/site-packages (from pandas>=0.25.1->phik) (2021.1)\n",
      "Requirement already satisfied: six>=1.5 in /opt/conda/lib/python3.9/site-packages (from python-dateutil>=2.1->matplotlib>=2.2.3->phik) (1.16.0)\n",
      "Installing collected packages: phik\n",
      "Successfully installed phik-0.12.4\n"
     ]
    }
   ],
   "source": [
    "# загружаем библиотеку phik\n",
    "!pip install phik"
   ]
  },
  {
   "cell_type": "markdown",
   "id": "18b5dfff",
   "metadata": {
    "id": "18b5dfff"
   },
   "source": [
    "- Познакомимся с данными и изучим общую информацию о них."
   ]
  },
  {
   "cell_type": "code",
   "execution_count": null,
   "id": "f68a7419",
   "metadata": {
    "id": "f68a7419"
   },
   "outputs": [],
   "source": [
    "# Импортируем библиотеки\n",
    "import pandas as pd\n",
    "\n",
    "# Загружаем библиотеки для визуализации данных\n",
    "import matplotlib.pyplot as plt\n",
    "import seaborn as sns\n",
    "\n",
    "\n",
    "# Загружаем библиотеку для расчёта коэффициента корреляции phi_k\n",
    "from phik import phik_matrix"
   ]
  },
  {
   "cell_type": "markdown",
   "id": "357cdc4e",
   "metadata": {},
   "source": [
    "- Загружаем данные о заведениях общественного питания Москвы. "
   ]
  },
  {
   "cell_type": "code",
   "execution_count": null,
   "id": "dd415c80",
   "metadata": {
    "id": "dd415c80"
   },
   "outputs": [],
   "source": [
    "# Выгружаем данные в переменные rests_df и prices_df\n",
    "rest_df = pd.read_csv('https://code.s3.yandex.net/datasets/rest_info.csv')\n",
    "price_df = pd.read_csv('https://code.s3.yandex.net/datasets/rest_price.csv')"
   ]
  },
  {
   "cell_type": "markdown",
   "id": "878ccb3f",
   "metadata": {
    "id": "3158ad37"
   },
   "source": [
    "-------\n",
    "Познакомимся с данными датасета **`rest_info.csv`** — выведем первые строки методом `head()`, а информацию о датафрейме методом `info()`:"
   ]
  },
  {
   "cell_type": "code",
   "execution_count": null,
   "id": "f56134d0",
   "metadata": {},
   "outputs": [
    {
     "data": {
      "text/html": [
       "<div>\n",
       "<style scoped>\n",
       "    .dataframe tbody tr th:only-of-type {\n",
       "        vertical-align: middle;\n",
       "    }\n",
       "\n",
       "    .dataframe tbody tr th {\n",
       "        vertical-align: top;\n",
       "    }\n",
       "\n",
       "    .dataframe thead th {\n",
       "        text-align: right;\n",
       "    }\n",
       "</style>\n",
       "<table border=\"1\" class=\"dataframe\">\n",
       "  <thead>\n",
       "    <tr style=\"text-align: right;\">\n",
       "      <th></th>\n",
       "      <th>id</th>\n",
       "      <th>name</th>\n",
       "      <th>category</th>\n",
       "      <th>address</th>\n",
       "      <th>district</th>\n",
       "      <th>hours</th>\n",
       "      <th>rating</th>\n",
       "      <th>chain</th>\n",
       "      <th>seats</th>\n",
       "    </tr>\n",
       "  </thead>\n",
       "  <tbody>\n",
       "    <tr>\n",
       "      <th>0</th>\n",
       "      <td>0c3e3439a8c64ea5bf6ecd6ca6ae19f0</td>\n",
       "      <td>WoWфли</td>\n",
       "      <td>кафе</td>\n",
       "      <td>Москва, улица Дыбенко, 7/1</td>\n",
       "      <td>Северный административный округ</td>\n",
       "      <td>ежедневно, 10:00–22:00</td>\n",
       "      <td>5.0</td>\n",
       "      <td>0</td>\n",
       "      <td>NaN</td>\n",
       "    </tr>\n",
       "    <tr>\n",
       "      <th>1</th>\n",
       "      <td>045780ada3474c57a2112e505d74b633</td>\n",
       "      <td>Четыре комнаты</td>\n",
       "      <td>ресторан</td>\n",
       "      <td>Москва, улица Дыбенко, 36, корп. 1</td>\n",
       "      <td>Северный административный округ</td>\n",
       "      <td>ежедневно, 10:00–22:00</td>\n",
       "      <td>4.5</td>\n",
       "      <td>0</td>\n",
       "      <td>4.0</td>\n",
       "    </tr>\n",
       "    <tr>\n",
       "      <th>2</th>\n",
       "      <td>1070b6b59144425896c65889347fcff6</td>\n",
       "      <td>Хазри</td>\n",
       "      <td>кафе</td>\n",
       "      <td>Москва, Клязьминская улица, 15</td>\n",
       "      <td>Северный административный округ</td>\n",
       "      <td>пн-чт 11:00–02:00; пт,сб 11:00–05:00; вс 11:00...</td>\n",
       "      <td>4.6</td>\n",
       "      <td>0</td>\n",
       "      <td>45.0</td>\n",
       "    </tr>\n",
       "    <tr>\n",
       "      <th>3</th>\n",
       "      <td>03ac7cd772104f65b58b349dc59f03ee</td>\n",
       "      <td>Dormouse Coffee Shop</td>\n",
       "      <td>кофейня</td>\n",
       "      <td>Москва, улица Маршала Федоренко, 12</td>\n",
       "      <td>Северный административный округ</td>\n",
       "      <td>ежедневно, 09:00–22:00</td>\n",
       "      <td>5.0</td>\n",
       "      <td>0</td>\n",
       "      <td>NaN</td>\n",
       "    </tr>\n",
       "    <tr>\n",
       "      <th>4</th>\n",
       "      <td>a163aada139c4c7f87b0b1c0b466a50f</td>\n",
       "      <td>Иль Марко</td>\n",
       "      <td>пиццерия</td>\n",
       "      <td>Москва, Правобережная улица, 1Б</td>\n",
       "      <td>Северный административный округ</td>\n",
       "      <td>ежедневно, 10:00–22:00</td>\n",
       "      <td>5.0</td>\n",
       "      <td>1</td>\n",
       "      <td>148.0</td>\n",
       "    </tr>\n",
       "  </tbody>\n",
       "</table>\n",
       "</div>"
      ],
      "text/plain": [
       "                                 id                  name  category  \\\n",
       "0  0c3e3439a8c64ea5bf6ecd6ca6ae19f0                WoWфли      кафе   \n",
       "1  045780ada3474c57a2112e505d74b633        Четыре комнаты  ресторан   \n",
       "2  1070b6b59144425896c65889347fcff6                 Хазри      кафе   \n",
       "3  03ac7cd772104f65b58b349dc59f03ee  Dormouse Coffee Shop   кофейня   \n",
       "4  a163aada139c4c7f87b0b1c0b466a50f             Иль Марко  пиццерия   \n",
       "\n",
       "                               address                         district  \\\n",
       "0           Москва, улица Дыбенко, 7/1  Северный административный округ   \n",
       "1   Москва, улица Дыбенко, 36, корп. 1  Северный административный округ   \n",
       "2       Москва, Клязьминская улица, 15  Северный административный округ   \n",
       "3  Москва, улица Маршала Федоренко, 12  Северный административный округ   \n",
       "4      Москва, Правобережная улица, 1Б  Северный административный округ   \n",
       "\n",
       "                                               hours  rating  chain  seats  \n",
       "0                             ежедневно, 10:00–22:00     5.0      0    NaN  \n",
       "1                             ежедневно, 10:00–22:00     4.5      0    4.0  \n",
       "2  пн-чт 11:00–02:00; пт,сб 11:00–05:00; вс 11:00...     4.6      0   45.0  \n",
       "3                             ежедневно, 09:00–22:00     5.0      0    NaN  \n",
       "4                             ежедневно, 10:00–22:00     5.0      1  148.0  "
      ]
     },
     "execution_count": 4,
     "metadata": {},
     "output_type": "execute_result"
    }
   ],
   "source": [
    "# Выводим первые строки датафрейма на экран\n",
    "rest_df.head()"
   ]
  },
  {
   "cell_type": "code",
   "execution_count": null,
   "id": "76b711b0",
   "metadata": {},
   "outputs": [
    {
     "name": "stdout",
     "output_type": "stream",
     "text": [
      "<class 'pandas.core.frame.DataFrame'>\n",
      "RangeIndex: 8406 entries, 0 to 8405\n",
      "Data columns (total 9 columns):\n",
      " #   Column    Non-Null Count  Dtype  \n",
      "---  ------    --------------  -----  \n",
      " 0   id        8406 non-null   object \n",
      " 1   name      8406 non-null   object \n",
      " 2   category  8406 non-null   object \n",
      " 3   address   8406 non-null   object \n",
      " 4   district  8406 non-null   object \n",
      " 5   hours     7870 non-null   object \n",
      " 6   rating    8406 non-null   float64\n",
      " 7   chain     8406 non-null   int64  \n",
      " 8   seats     4795 non-null   float64\n",
      "dtypes: float64(2), int64(1), object(6)\n",
      "memory usage: 591.2+ KB\n"
     ]
    }
   ],
   "source": [
    "# Выводим информацию о датафрейме\n",
    "rest_df.info()"
   ]
  },
  {
   "cell_type": "markdown",
   "id": "d183734b",
   "metadata": {},
   "source": [
    "---\n",
    "\n",
    "### Промежуточный вывод о `rest_info.csv`"
   ]
  },
  {
   "cell_type": "markdown",
   "id": "3d343596",
   "metadata": {},
   "source": [
    "Датасет `rest_info.csv` содержит 9 столбцов и 8406 строк, в которых представлена информация о заведениях общественного питания.\n",
    "\n",
    "После первичного анализа данных можно сделать следующие выводы:\n",
    "- Названия столбцов одноого вида (snake case).\n",
    "- Данные столбцов `id`, `name`, `category`, `address`, `district`, `hours` содержат строковую информацию в типах данных `object`.\n",
    "- Данные столбцов `rating`, `chain`, `seats` содержат числовые значения и хранятся в типах данных `int64` или `float64`.\n",
    "- Значения в столбце `chain` показывает наличие у клиента того или иного признака и содержит значения 1 или 0 — размерность этих данных можно оптимизировать. \n",
    "- Значения в столбце `seats` лучше перевести в тип `int64`, так как они представлены целыми числами. \n",
    "- Пропуски содержатся только в столбце `hours` и `seats` Однако следует проверить и другие столбцы: в них могут встречаться значения-индикаторы, которые будут говорить об отсутствии данных.\n",
    "- Судя по первому знакомству с данными, значения в столбцах соответствуют своему описанию.\n"
   ]
  },
  {
   "cell_type": "markdown",
   "id": "b47f440d",
   "metadata": {},
   "source": [
    "---\n",
    "Познакомимся с данными датасета **`prices_info.csv`** — выведем первые строки методом `head()`, а информацию о датафрейме методом `info()`:"
   ]
  },
  {
   "cell_type": "code",
   "execution_count": null,
   "id": "8f590477",
   "metadata": {},
   "outputs": [
    {
     "data": {
      "text/html": [
       "<div>\n",
       "<style scoped>\n",
       "    .dataframe tbody tr th:only-of-type {\n",
       "        vertical-align: middle;\n",
       "    }\n",
       "\n",
       "    .dataframe tbody tr th {\n",
       "        vertical-align: top;\n",
       "    }\n",
       "\n",
       "    .dataframe thead th {\n",
       "        text-align: right;\n",
       "    }\n",
       "</style>\n",
       "<table border=\"1\" class=\"dataframe\">\n",
       "  <thead>\n",
       "    <tr style=\"text-align: right;\">\n",
       "      <th></th>\n",
       "      <th>id</th>\n",
       "      <th>price</th>\n",
       "      <th>avg_bill</th>\n",
       "      <th>middle_avg_bill</th>\n",
       "      <th>middle_coffee_cup</th>\n",
       "    </tr>\n",
       "  </thead>\n",
       "  <tbody>\n",
       "    <tr>\n",
       "      <th>0</th>\n",
       "      <td>045780ada3474c57a2112e505d74b633</td>\n",
       "      <td>выше среднего</td>\n",
       "      <td>Средний счёт:1500–1600 ₽</td>\n",
       "      <td>1550.0</td>\n",
       "      <td>NaN</td>\n",
       "    </tr>\n",
       "    <tr>\n",
       "      <th>1</th>\n",
       "      <td>1070b6b59144425896c65889347fcff6</td>\n",
       "      <td>средние</td>\n",
       "      <td>Средний счёт:от 1000 ₽</td>\n",
       "      <td>1000.0</td>\n",
       "      <td>NaN</td>\n",
       "    </tr>\n",
       "    <tr>\n",
       "      <th>2</th>\n",
       "      <td>03ac7cd772104f65b58b349dc59f03ee</td>\n",
       "      <td>NaN</td>\n",
       "      <td>Цена чашки капучино:155–185 ₽</td>\n",
       "      <td>NaN</td>\n",
       "      <td>170.0</td>\n",
       "    </tr>\n",
       "    <tr>\n",
       "      <th>3</th>\n",
       "      <td>a163aada139c4c7f87b0b1c0b466a50f</td>\n",
       "      <td>средние</td>\n",
       "      <td>Средний счёт:400–600 ₽</td>\n",
       "      <td>500.0</td>\n",
       "      <td>NaN</td>\n",
       "    </tr>\n",
       "    <tr>\n",
       "      <th>4</th>\n",
       "      <td>8a343546b24e4a499ad96eb7d0797a8a</td>\n",
       "      <td>средние</td>\n",
       "      <td>NaN</td>\n",
       "      <td>NaN</td>\n",
       "      <td>NaN</td>\n",
       "    </tr>\n",
       "  </tbody>\n",
       "</table>\n",
       "</div>"
      ],
      "text/plain": [
       "                                 id          price  \\\n",
       "0  045780ada3474c57a2112e505d74b633  выше среднего   \n",
       "1  1070b6b59144425896c65889347fcff6        средние   \n",
       "2  03ac7cd772104f65b58b349dc59f03ee            NaN   \n",
       "3  a163aada139c4c7f87b0b1c0b466a50f        средние   \n",
       "4  8a343546b24e4a499ad96eb7d0797a8a        средние   \n",
       "\n",
       "                        avg_bill  middle_avg_bill  middle_coffee_cup  \n",
       "0       Средний счёт:1500–1600 ₽           1550.0                NaN  \n",
       "1         Средний счёт:от 1000 ₽           1000.0                NaN  \n",
       "2  Цена чашки капучино:155–185 ₽              NaN              170.0  \n",
       "3         Средний счёт:400–600 ₽            500.0                NaN  \n",
       "4                            NaN              NaN                NaN  "
      ]
     },
     "execution_count": 6,
     "metadata": {},
     "output_type": "execute_result"
    }
   ],
   "source": [
    "# Выводим первые строки датафрейма на экран\n",
    "price_df.head()"
   ]
  },
  {
   "cell_type": "code",
   "execution_count": null,
   "id": "29f8f56a",
   "metadata": {},
   "outputs": [
    {
     "name": "stdout",
     "output_type": "stream",
     "text": [
      "<class 'pandas.core.frame.DataFrame'>\n",
      "RangeIndex: 4058 entries, 0 to 4057\n",
      "Data columns (total 5 columns):\n",
      " #   Column             Non-Null Count  Dtype  \n",
      "---  ------             --------------  -----  \n",
      " 0   id                 4058 non-null   object \n",
      " 1   price              3315 non-null   object \n",
      " 2   avg_bill           3816 non-null   object \n",
      " 3   middle_avg_bill    3149 non-null   float64\n",
      " 4   middle_coffee_cup  535 non-null    float64\n",
      "dtypes: float64(2), object(3)\n",
      "memory usage: 158.6+ KB\n"
     ]
    }
   ],
   "source": [
    "# Выводим информацию о датафрейме\n",
    "price_df.info()"
   ]
  },
  {
   "cell_type": "markdown",
   "id": "2c614a62",
   "metadata": {
    "id": "2c614a62"
   },
   "source": [
    "---\n",
    "\n",
    "### Промежуточный вывод о `price_info.csv`\n",
    "\n",
    "Сделайте промежуточный вывод о полученных данных: данные какого объёма вам предоставили, соответствуют ли данные описанию, встречаются ли в них пропуски, используются ли верные типы данных. Отметьте другие особенности данных, которые вы обнаружите на этой стадии и на которые стоит обратить внимание при предобработке."
   ]
  },
  {
   "cell_type": "markdown",
   "id": "eafb9064",
   "metadata": {
    "id": "3593b7d5"
   },
   "source": [
    "Датасет `price_info.csv` содержит 5 столбцов и 4058 строк, в которых представлена информация о среднем чеке в заведениях общественного питания.\n",
    "\n",
    "После первичного анализа данных можно сделать следующие выводы:\n",
    "- Названия столбцов одного вида (snake case).\n",
    "- Данные столбцов `id`, `price`, `avg_bill`, содержат строковую информацию в типах данных `object`. Следует учесть, что данные столбца `avg_bill` содержит как строковую, так и цифпрвую информацию учавствующую в расчетах `avg_bill`.\n",
    "- Данные столбцов `'middle_avg_bill`, `middle_coffee_cup` содержат числовые значения и хранятся в типах данных `float64`.  \n",
    "- Пропуски содержатся во всех столбцах, кроме  `id` .\n",
    "- Судя по первому знакомству с данными, значения в столбцах соответствуют своему описанию."
   ]
  },
  {
   "cell_type": "markdown",
   "id": "8a8d1491",
   "metadata": {
    "id": "8a8d1491"
   },
   "source": [
    "### Подготовка единого датафрейма\n",
    "\n",
    "- Объединим данные двух датасетов в один, с которыми и продолжим работу."
   ]
  },
  {
   "cell_type": "code",
   "execution_count": null,
   "id": "3408e303",
   "metadata": {
    "id": "3408e303"
   },
   "outputs": [],
   "source": [
    "# Соединяем данные в единый датафрейм df\n",
    "df = rest_df.merge(price_df, on='id', how='left')"
   ]
  },
  {
   "cell_type": "code",
   "execution_count": null,
   "id": "5695950b",
   "metadata": {
    "id": "5695950b"
   },
   "outputs": [
    {
     "name": "stdout",
     "output_type": "stream",
     "text": [
      "<class 'pandas.core.frame.DataFrame'>\n",
      "Int64Index: 8406 entries, 0 to 8405\n",
      "Data columns (total 13 columns):\n",
      " #   Column             Non-Null Count  Dtype  \n",
      "---  ------             --------------  -----  \n",
      " 0   id                 8406 non-null   object \n",
      " 1   name               8406 non-null   object \n",
      " 2   category           8406 non-null   object \n",
      " 3   address            8406 non-null   object \n",
      " 4   district           8406 non-null   object \n",
      " 5   hours              7870 non-null   object \n",
      " 6   rating             8406 non-null   float64\n",
      " 7   chain              8406 non-null   int64  \n",
      " 8   seats              4795 non-null   float64\n",
      " 9   price              3315 non-null   object \n",
      " 10  avg_bill           3816 non-null   object \n",
      " 11  middle_avg_bill    3149 non-null   float64\n",
      " 12  middle_coffee_cup  535 non-null    float64\n",
      "dtypes: float64(4), int64(1), object(8)\n",
      "memory usage: 919.4+ KB\n"
     ]
    }
   ],
   "source": [
    "# Выводим информацию о датафрейме\n",
    "df.info()"
   ]
  },
  {
   "cell_type": "markdown",
   "id": "956e82e2",
   "metadata": {
    "id": "956e82e2"
   },
   "source": [
    "## 2. Предобработка данных\n",
    "\n"
   ]
  },
  {
   "cell_type": "code",
   "execution_count": null,
   "id": "620d2f08",
   "metadata": {
    "id": "620d2f08"
   },
   "outputs": [
    {
     "name": "stdout",
     "output_type": "stream",
     "text": [
      "<class 'pandas.core.frame.DataFrame'>\n",
      "Int64Index: 8406 entries, 0 to 8405\n",
      "Data columns (total 13 columns):\n",
      " #   Column             Non-Null Count  Dtype  \n",
      "---  ------             --------------  -----  \n",
      " 0   id                 8406 non-null   object \n",
      " 1   name               8406 non-null   object \n",
      " 2   category           8406 non-null   object \n",
      " 3   address            8406 non-null   object \n",
      " 4   district           8406 non-null   object \n",
      " 5   hours              7870 non-null   object \n",
      " 6   rating             8406 non-null   float64\n",
      " 7   chain              8406 non-null   int8   \n",
      " 8   seats              4795 non-null   Int16  \n",
      " 9   price              3315 non-null   object \n",
      " 10  avg_bill           3816 non-null   object \n",
      " 11  middle_avg_bill    3149 non-null   float64\n",
      " 12  middle_coffee_cup  535 non-null    float64\n",
      "dtypes: Int16(1), float64(3), int8(1), object(8)\n",
      "memory usage: 820.9+ KB\n",
      "None\n"
     ]
    }
   ],
   "source": [
    "# Оптимизируем типы данных \n",
    "df['chain'] = pd.to_numeric(df['chain'], downcast='integer', errors='coerce')\n",
    "df['seats'] = df['seats'].astype(pd.Int16Dtype())\n",
    "    \n",
    "# Проверяем результат\n",
    "print(df.info())"
   ]
  },
  {
   "cell_type": "markdown",
   "id": "4b7ee469",
   "metadata": {
    "id": "4b7ee469"
   },
   "source": [
    "- Изучим пропущенные значения в данных"
   ]
  },
  {
   "cell_type": "code",
   "execution_count": null,
   "id": "3d8840ca",
   "metadata": {
    "id": "3d8840ca"
   },
   "outputs": [
    {
     "data": {
      "text/plain": [
       "id                      0\n",
       "name                    0\n",
       "category                0\n",
       "address                 0\n",
       "district                0\n",
       "hours                 536\n",
       "rating                  0\n",
       "chain                   0\n",
       "seats                3611\n",
       "price                5091\n",
       "avg_bill             4590\n",
       "middle_avg_bill      5257\n",
       "middle_coffee_cup    7871\n",
       "dtype: int64"
      ]
     },
     "execution_count": 11,
     "metadata": {},
     "output_type": "execute_result"
    }
   ],
   "source": [
    "# Посчитаем абсолютное количество пропусков в каждом столбце\n",
    "df.isna().sum()"
   ]
  },
  {
   "cell_type": "code",
   "execution_count": null,
   "id": "2ea145ca",
   "metadata": {
    "id": "2ea145ca"
   },
   "outputs": [
    {
     "data": {
      "text/plain": [
       "id                    0.0\n",
       "name                  0.0\n",
       "category              0.0\n",
       "address               0.0\n",
       "district              0.0\n",
       "hours                 6.0\n",
       "rating                0.0\n",
       "chain                 0.0\n",
       "seats                43.0\n",
       "price                61.0\n",
       "avg_bill             55.0\n",
       "middle_avg_bill      63.0\n",
       "middle_coffee_cup    94.0\n",
       "dtype: float64"
      ]
     },
     "execution_count": 12,
     "metadata": {},
     "output_type": "execute_result"
    }
   ],
   "source": [
    "# Подсчитываем процент строк с пропусками\n",
    "df.isna().mean().round(2) * 100"
   ]
  },
  {
   "cell_type": "markdown",
   "id": "5be97cfb",
   "metadata": {
    "id": "d9e7c358"
   },
   "source": [
    "- В столбце `hours` обнаружено 6%. Количество пропусков незначительно, а информацию можно заменить на наиболее часто встречающеесе значение о днях и часах работы.\n",
    "\n",
    "- В столбце `seats` обнаружено 43% пропусков. Количество пропусков достаточно большое, чтобы их просто удалить.\n",
    "Возможная причина - пользователь при заполнении формы не добавил эту информацию, так как данное поле не являлось обязательным к заполнению.\n",
    "- В столбце `price` обнаружено 61% пропусков. Возможная причина - отсутствие информации о «Среднем счёте» в поле avg_bill, на основе которой определяется категория цены\n",
    "- В столбце `avg_bill` обнаружено 55% пропусков. Причина - информация могла быть не добавлена пользователями или не была найдена в общедоступных источниках. Оставляем как есть, так как информация из данного поля не учавствует в расчетах.\n",
    "- В столбцах `middle_avg_bill`  и `middle_coffee_cup` обнаружено 63% и 94% пропусков. Причина пропусков - «Средний счёт» и «Цена одной чашки капучино» на указана в поле `avg_bill`\n"
   ]
  },
  {
   "cell_type": "markdown",
   "id": "c4d5f04d",
   "metadata": {
    "id": "c4d5f04d"
   },
   "source": [
    "Проверим данные на явные и неявные дубликаты.   \n",
    "Для оптимизации проверки нормализуем данные в текстовых столбцахс названием и адресом заведения."
   ]
  },
  {
   "cell_type": "code",
   "execution_count": null,
   "id": "b52bae9a",
   "metadata": {
    "id": "b52bae9a"
   },
   "outputs": [
    {
     "name": "stdout",
     "output_type": "stream",
     "text": [
      "\n",
      "Нормализованные данные: name\n",
      "['#кешбэккафе' '+39 pizzeria mozzarella bar' '1 этаж' ... 'ё-ланч'\n",
      " 'ёж и устрица' 'ёрш']\n",
      "\n",
      "Нормализованные данные: address\n",
      "['москва, 1-й автозаводский проезд, 5'\n",
      " 'москва, 1-й балтийский переулок, 3/25'\n",
      " 'москва, 1-й варшавский проезд, 1ас9' ...\n",
      " 'москва, яузский бульвар, 11, стр. 1' 'москва, яузский бульвар, 14/8'\n",
      " 'москва, № 7']\n"
     ]
    }
   ],
   "source": [
    "# Определяем колонки для нормализации данных\n",
    "str_column =[ 'name', 'address']\n",
    "\n",
    "for col in str_column:\n",
    "    # Сортируем значения исходных данных\n",
    "    sorted_col = df[col].sort_values()\n",
    "\n",
    "    # Приводим данные в колонке к нижнему регистру\n",
    "    df[col] = sorted_col.str.lower()\n",
    "    print()\n",
    "    \n",
    "    # Проверим результат - вывадим уникальные значения нормализованных данных\n",
    "    uniq_value = df[col].sort_values().unique()\n",
    "    print(f'Нормализованные данные: {col}')\n",
    "    print (uniq_value)"
   ]
  },
  {
   "cell_type": "code",
   "execution_count": null,
   "id": "0769b681",
   "metadata": {
    "id": "0769b681"
   },
   "outputs": [
    {
     "name": "stdout",
     "output_type": "stream",
     "text": [
      "Количество явных дубликатов: 0\n"
     ]
    }
   ],
   "source": [
    "# Проверяем полные дубликаты в датафрейме df\n",
    "count_duplicates = df.duplicated().sum()\n",
    "\n",
    "print(f'Количество явных дубликатов: {count_duplicates}')"
   ]
  },
  {
   "cell_type": "code",
   "execution_count": null,
   "id": "95b15cd0",
   "metadata": {
    "id": "95b15cd0"
   },
   "outputs": [
    {
     "name": "stdout",
     "output_type": "stream",
     "text": [
      "Количество неявных дубликатов: 0\n"
     ]
    }
   ],
   "source": [
    "# Проверяем неявные дубликаты в датафрейме df\n",
    "id_duplicates = df.duplicated(subset='id').sum()\n",
    "\n",
    "print(f'Количество неявных дубликатов: {id_duplicates}')"
   ]
  },
  {
   "cell_type": "markdown",
   "id": "4c0563f2",
   "metadata": {
    "id": "4c0563f2"
   },
   "source": [
    "- Для дальнейшего анализа создаём столбец `is_24_7` с обозначением того, что заведение работает ежедневно и круглосуточно, то есть 24/7:\n",
    "  - логическое значение `True` — если заведение работает ежедневно и круглосуточно;\n",
    "  - логическое значение `False` — в противоположном случае."
   ]
  },
  {
   "cell_type": "code",
   "execution_count": null,
   "id": "d8a8a963",
   "metadata": {
    "id": "d8a8a963"
   },
   "outputs": [
    {
     "name": "stdout",
     "output_type": "stream",
     "text": [
      "                                                  hours  is_24_7\n",
      "0                                ежедневно, 10:00–22:00    False\n",
      "1                                ежедневно, 10:00–22:00    False\n",
      "2     пн-чт 11:00–02:00; пт,сб 11:00–05:00; вс 11:00...    False\n",
      "3                                ежедневно, 09:00–22:00    False\n",
      "4                                ежедневно, 10:00–22:00    False\n",
      "...                                                 ...      ...\n",
      "8401                             ежедневно, 09:00–02:00    False\n",
      "8402                             ежедневно, 08:00–22:00    False\n",
      "8403                           ежедневно, круглосуточно     True\n",
      "8404                           ежедневно, круглосуточно     True\n",
      "8405                           ежедневно, круглосуточно     True\n",
      "\n",
      "[8406 rows x 2 columns]\n"
     ]
    }
   ],
   "source": [
    "# создаём столбец `is_24_7` с обозначением того, что заведение работает ежедневно и круглосуточно, то есть 24/7\n",
    "for i in df['hours']:\n",
    "    df['is_24_7'] = df['hours']=='ежедневно, круглосуточно'\n",
    "\n",
    "# Проверим результат\n",
    "print(df[['hours', 'is_24_7']])"
   ]
  },
  {
   "cell_type": "markdown",
   "id": "562f30ab",
   "metadata": {
    "id": "562f30ab"
   },
   "source": [
    "---\n",
    "\n",
    "### Промежуточный вывод\n"
   ]
  },
  {
   "cell_type": "markdown",
   "id": "55144126",
   "metadata": {
    "id": "4e587ce1"
   },
   "source": [
    "В результате предобработки данных были выполнены следующие действия:\n",
    "\n",
    "- Названия столбцов соответствуют стилю snake case;\n",
    "- Изучены пропуски в данных. Учитывая  то, что полученные данные могли быть добавлены пользователями и размещёны в сервисе Яндекс Бизнес,  а так же найдены в общедоступных источниках, их оставили как есть.  \n",
    "    - В столбце hours обнаружено 6%. Количество пропусков незначительно, а информацию можно заменить на наиболее часто встречающеесе значение о днях и часах работы.\n",
    "    - В столбце seats обнаружено 43% пропусков. Количество пропусков достаточно большое, чтобы их просто удалить. Возможная причина - пользователь при заполнении формы не добавил эту информацию, так как данное поле не являлось обязательным к заполнению.\n",
    "    - В столбце price обнаружено 61% пропусков. Возможная причина - отсутствие информации о «Среднем счёте» в поле avg_bill, на основе которой определяется категория цены\n",
    "    - В столбце avg_bill обнаружено 55% пропусков. Причина - информация могла быть не добавлена пользователями или не была найдена в общедоступных источниках. Оставляем как есть, так как информация из данного поля не учавствует в расчетах.    \n",
    "    - В столбцах middle_avg_bill и middle_coffee_cup обнаружено 63% и 94% пропусков. Причина пропусков - «Средний счёт» и «Цена одной чашки капучино» на указана в поле avg_bill  \n",
    "    \n",
    "  \n",
    "    \n",
    "- Данные проверили на явные и неявные дубликаты — в данных их нет.\n"
   ]
  },
  {
   "cell_type": "markdown",
   "id": "6953e84c",
   "metadata": {
    "id": "6953e84c"
   },
   "source": [
    "## 3. Исследовательский анализ данных\n"
   ]
  },
  {
   "cell_type": "markdown",
   "id": "8555d840",
   "metadata": {
    "id": "8555d840"
   },
   "source": [
    "---\n",
    "\n",
    "### Задача 1\n",
    "\n"
   ]
  },
  {
   "cell_type": "markdown",
   "id": "e08403a5",
   "metadata": {},
   "source": [
    "Исследуем распределение количества заведений по каждой категории "
   ]
  },
  {
   "cell_type": "code",
   "execution_count": null,
   "id": "ef2bffe9",
   "metadata": {
    "id": "ef2bffe9"
   },
   "outputs": [
    {
     "name": "stdout",
     "output_type": "stream",
     "text": [
      "          category  count     %\n",
      "0             кафе   2378  28.0\n",
      "1         ресторан   2043  24.0\n",
      "2          кофейня   1413  17.0\n",
      "3          бар,паб    765   9.0\n",
      "4         пиццерия    633   8.0\n",
      "5  быстрое питание    603   7.0\n",
      "6         столовая    315   4.0\n",
      "7         булочная    256   3.0\n"
     ]
    }
   ],
   "source": [
    "# Посчитаем  количество объектов общественного питания по каждой категории\n",
    "name_by_cat = df.groupby('category')['name'].count().rename('count').sort_values(ascending=False).reset_index()\n",
    "\n",
    "# Посчитаем долю количество объектов общественного питания по каждой категории\n",
    "name_by_cat['%'] = round(name_by_cat['count'] / name_by_cat['count'].sum() * 100)\n",
    "\n",
    "print(name_by_cat)"
   ]
  },
  {
   "cell_type": "code",
   "execution_count": null,
   "id": "71ab5e91",
   "metadata": {
    "id": "71ab5e91"
   },
   "outputs": [
    {
     "data": {
      "image/png": "[encoded data removed]",
      "text/plain": [
       "<Figure size 864x216 with 1 Axes>"
      ]
     },
     "metadata": {
      "needs_background": "light"
     },
     "output_type": "display_data"
    }
   ],
   "source": [
    "# Строим столбчатую диаграмму\n",
    "name_by_cat.plot(x = 'category',\n",
    "                 y = 'count',\n",
    "                 figsize=(12, 3),\n",
    "               kind='bar', # Тип графика - столбчатая диаграмма\n",
    "               rot=0, # Градус вращения подписи по оси Х\n",
    "               legend=False, # Выключаем легенду\n",
    "               title=f'Распределение количества заведений в зависимости от категории'\n",
    ")\n",
    "\n",
    "# Настраиваем оформление графика\n",
    "plt.xlabel('Категория заведения')\n",
    "plt.ylabel('Количество заведений')\n",
    "\n",
    "# Добавляем сетку графика\n",
    "plt.grid(axis='y')\n",
    "\n",
    "# Выводим график\n",
    "plt.show()"
   ]
  },
  {
   "cell_type": "markdown",
   "id": "3cd2a001",
   "metadata": {
    "id": "63360b97"
   },
   "source": [
    "- Из графика видно, что наибольше количество заведений относятся к категории Кафе 27% , вторую рестораны 24% и третью позицию с результатом 17% занимают Кофейня."
   ]
  },
  {
   "cell_type": "markdown",
   "id": "6821e1d0",
   "metadata": {
    "id": "6821e1d0"
   },
   "source": [
    "---\n",
    "\n",
    "### Задача 2\n",
    "\n"
   ]
  },
  {
   "cell_type": "markdown",
   "id": "875848eb",
   "metadata": {},
   "source": [
    "Исследуем распределение количества заведений по административным районам Москвы"
   ]
  },
  {
   "cell_type": "code",
   "execution_count": null,
   "id": "e62f31be",
   "metadata": {
    "id": "e62f31be"
   },
   "outputs": [
    {
     "name": "stdout",
     "output_type": "stream",
     "text": [
      "Количество  заведений по административным районам Москвы: \n"
     ]
    },
    {
     "data": {
      "text/html": [
       "<div>\n",
       "<style scoped>\n",
       "    .dataframe tbody tr th:only-of-type {\n",
       "        vertical-align: middle;\n",
       "    }\n",
       "\n",
       "    .dataframe tbody tr th {\n",
       "        vertical-align: top;\n",
       "    }\n",
       "\n",
       "    .dataframe thead th {\n",
       "        text-align: right;\n",
       "    }\n",
       "</style>\n",
       "<table border=\"1\" class=\"dataframe\">\n",
       "  <thead>\n",
       "    <tr style=\"text-align: right;\">\n",
       "      <th></th>\n",
       "      <th>district</th>\n",
       "      <th>count</th>\n",
       "      <th>%</th>\n",
       "    </tr>\n",
       "  </thead>\n",
       "  <tbody>\n",
       "    <tr>\n",
       "      <th>0</th>\n",
       "      <td>Центральный административный округ</td>\n",
       "      <td>2242</td>\n",
       "      <td>27.0</td>\n",
       "    </tr>\n",
       "    <tr>\n",
       "      <th>1</th>\n",
       "      <td>Северный административный округ</td>\n",
       "      <td>900</td>\n",
       "      <td>11.0</td>\n",
       "    </tr>\n",
       "    <tr>\n",
       "      <th>2</th>\n",
       "      <td>Южный административный округ</td>\n",
       "      <td>892</td>\n",
       "      <td>11.0</td>\n",
       "    </tr>\n",
       "    <tr>\n",
       "      <th>3</th>\n",
       "      <td>Северо-Восточный административный округ</td>\n",
       "      <td>891</td>\n",
       "      <td>11.0</td>\n",
       "    </tr>\n",
       "    <tr>\n",
       "      <th>4</th>\n",
       "      <td>Западный административный округ</td>\n",
       "      <td>851</td>\n",
       "      <td>10.0</td>\n",
       "    </tr>\n",
       "    <tr>\n",
       "      <th>5</th>\n",
       "      <td>Восточный административный округ</td>\n",
       "      <td>798</td>\n",
       "      <td>9.0</td>\n",
       "    </tr>\n",
       "    <tr>\n",
       "      <th>6</th>\n",
       "      <td>Юго-Восточный административный округ</td>\n",
       "      <td>714</td>\n",
       "      <td>8.0</td>\n",
       "    </tr>\n",
       "    <tr>\n",
       "      <th>7</th>\n",
       "      <td>Юго-Западный административный округ</td>\n",
       "      <td>709</td>\n",
       "      <td>8.0</td>\n",
       "    </tr>\n",
       "    <tr>\n",
       "      <th>8</th>\n",
       "      <td>Северо-Западный административный округ</td>\n",
       "      <td>409</td>\n",
       "      <td>5.0</td>\n",
       "    </tr>\n",
       "  </tbody>\n",
       "</table>\n",
       "</div>"
      ],
      "text/plain": [
       "                                  district  count     %\n",
       "0       Центральный административный округ   2242  27.0\n",
       "1          Северный административный округ    900  11.0\n",
       "2             Южный административный округ    892  11.0\n",
       "3  Северо-Восточный административный округ    891  11.0\n",
       "4          Западный административный округ    851  10.0\n",
       "5         Восточный административный округ    798   9.0\n",
       "6     Юго-Восточный административный округ    714   8.0\n",
       "7      Юго-Западный административный округ    709   8.0\n",
       "8   Северо-Западный административный округ    409   5.0"
      ]
     },
     "execution_count": 19,
     "metadata": {},
     "output_type": "execute_result"
    }
   ],
   "source": [
    "# Посчитаем количества заведений по административным районам Москвы\n",
    "name_by_area = df.groupby('district')['name'].count().rename('count').sort_values(ascending=False).reset_index()\n",
    "\n",
    "# Посчитаем долю количества заведений по административным районам Москвы\n",
    "name_by_area['%'] = round(name_by_area['count'] / name_by_area['count'].sum() * 100)\n",
    "\n",
    "print(f'Количество  заведений по административным районам Москвы: ')\n",
    "name_by_area"
   ]
  },
  {
   "cell_type": "code",
   "execution_count": null,
   "id": "0a290cd1",
   "metadata": {
    "id": "0a290cd1"
   },
   "outputs": [
    {
     "data": {
      "text/plain": [
       "<Figure size 648x288 with 0 Axes>"
      ]
     },
     "metadata": {},
     "output_type": "display_data"
    },
    {
     "data": {
      "image/png": "[encoded data removed]",
      "text/plain": [
       "<Figure size 432x288 with 1 Axes>"
      ]
     },
     "metadata": {
      "needs_background": "light"
     },
     "output_type": "display_data"
    }
   ],
   "source": [
    "# Создаём контейнер графика matplotlib и задаём его размер\n",
    "plt.figure(figsize=(9, 4))\n",
    "\n",
    "# Строим столбчатую диаграмму\n",
    "name_by_area.sort_values('count').plot(x = 'district',\n",
    "                                       y = 'count',\n",
    "                                       kind = 'barh', # Тип графика - столбчатая диаграмма\n",
    "                                       rot = 0, # Градус вращения подписи по оси Х\n",
    "                                       legend = False, # Выключаем легенду\n",
    "                                       title = f'Распределение количества заведений по административным районам Москвы'\n",
    "                            )\n",
    "\n",
    "# Настраиваем оформление графика\n",
    "plt.xlabel('Количество заведений')\n",
    "plt.ylabel('Административный район Москвы') \n",
    "\n",
    "# Добавляем сетку графика\n",
    "plt.grid(axis='x')\n",
    "\n",
    "# Выводим график\n",
    "plt.show()"
   ]
  },
  {
   "cell_type": "markdown",
   "id": "72134626",
   "metadata": {},
   "source": [
    "- Больше всего заведений 27% расположено в ЦАО г.Москвы "
   ]
  },
  {
   "cell_type": "markdown",
   "id": "35c6fd00",
   "metadata": {},
   "source": [
    "Исследуем распределение количества заведений по каждой категории в Центральном административном округе Москвы."
   ]
  },
  {
   "cell_type": "code",
   "execution_count": null,
   "id": "41f1654a",
   "metadata": {
    "id": "41f1654a"
   },
   "outputs": [
    {
     "name": "stdout",
     "output_type": "stream",
     "text": [
      "Распределение заведений в Центральном административном округе Москвы: \n"
     ]
    },
    {
     "data": {
      "text/html": [
       "<div>\n",
       "<style scoped>\n",
       "    .dataframe tbody tr th:only-of-type {\n",
       "        vertical-align: middle;\n",
       "    }\n",
       "\n",
       "    .dataframe tbody tr th {\n",
       "        vertical-align: top;\n",
       "    }\n",
       "\n",
       "    .dataframe thead th {\n",
       "        text-align: right;\n",
       "    }\n",
       "</style>\n",
       "<table border=\"1\" class=\"dataframe\">\n",
       "  <thead>\n",
       "    <tr style=\"text-align: right;\">\n",
       "      <th></th>\n",
       "      <th>category</th>\n",
       "      <th>count</th>\n",
       "      <th>%</th>\n",
       "    </tr>\n",
       "  </thead>\n",
       "  <tbody>\n",
       "    <tr>\n",
       "      <th>0</th>\n",
       "      <td>ресторан</td>\n",
       "      <td>670</td>\n",
       "      <td>30.0</td>\n",
       "    </tr>\n",
       "    <tr>\n",
       "      <th>1</th>\n",
       "      <td>кафе</td>\n",
       "      <td>464</td>\n",
       "      <td>21.0</td>\n",
       "    </tr>\n",
       "    <tr>\n",
       "      <th>2</th>\n",
       "      <td>кофейня</td>\n",
       "      <td>428</td>\n",
       "      <td>19.0</td>\n",
       "    </tr>\n",
       "    <tr>\n",
       "      <th>3</th>\n",
       "      <td>бар,паб</td>\n",
       "      <td>364</td>\n",
       "      <td>16.0</td>\n",
       "    </tr>\n",
       "    <tr>\n",
       "      <th>4</th>\n",
       "      <td>пиццерия</td>\n",
       "      <td>113</td>\n",
       "      <td>5.0</td>\n",
       "    </tr>\n",
       "    <tr>\n",
       "      <th>5</th>\n",
       "      <td>быстрое питание</td>\n",
       "      <td>87</td>\n",
       "      <td>4.0</td>\n",
       "    </tr>\n",
       "    <tr>\n",
       "      <th>6</th>\n",
       "      <td>столовая</td>\n",
       "      <td>66</td>\n",
       "      <td>3.0</td>\n",
       "    </tr>\n",
       "    <tr>\n",
       "      <th>7</th>\n",
       "      <td>булочная</td>\n",
       "      <td>50</td>\n",
       "      <td>2.0</td>\n",
       "    </tr>\n",
       "  </tbody>\n",
       "</table>\n",
       "</div>"
      ],
      "text/plain": [
       "          category  count     %\n",
       "0         ресторан    670  30.0\n",
       "1             кафе    464  21.0\n",
       "2          кофейня    428  19.0\n",
       "3          бар,паб    364  16.0\n",
       "4         пиццерия    113   5.0\n",
       "5  быстрое питание     87   4.0\n",
       "6         столовая     66   3.0\n",
       "7         булочная     50   2.0"
      ]
     },
     "execution_count": 21,
     "metadata": {},
     "output_type": "execute_result"
    }
   ],
   "source": [
    "# посчитаем количество заведений по категориям по центральному административному округу\n",
    "cao_by_cat = df[df['district'] == 'Центральный административный округ']\n",
    "\n",
    "# Группируем и сортируем по убыванию\n",
    "cao_by_cat = cao_by_cat.groupby('category')['name'].count().rename('count').sort_values(ascending=False).reset_index()\n",
    "\n",
    "# Посчитаем долю количества заведений в ЦАО Москвы\n",
    "cao_by_cat['%'] = round(cao_by_cat['count'] / cao_by_cat['count'].sum() * 100)\n",
    "\n",
    "print('Распределение заведений в Центральном административном округе Москвы: ')\n",
    "cao_by_cat"
   ]
  },
  {
   "cell_type": "code",
   "execution_count": null,
   "id": "9167dd54",
   "metadata": {},
   "outputs": [
    {
     "data": {
      "image/png": "[encoded data removed]",
      "text/plain": [
       "<Figure size 864x288 with 1 Axes>"
      ]
     },
     "metadata": {
      "needs_background": "light"
     },
     "output_type": "display_data"
    }
   ],
   "source": [
    "# Строим столбчатую диаграмму \n",
    "cao_by_cat.plot(x = 'category',\n",
    "                y = 'count',\n",
    "                figsize = (12, 4),\n",
    "                kind = 'bar', # Тип графика - столбчатая диаграмма\n",
    "               rot = 0, # Градус вращения подписи по оси Х\n",
    "               legend = False, # Выключаем легенду\n",
    "               title = f'Распределение заведений каждой категории в Центральном административном округе Москвы'\n",
    ")\n",
    "\n",
    "# Настраиваем оформление графика\n",
    "plt.xlabel('Категория заведения')\n",
    "plt.ylabel('Количество заведений')\n",
    "\n",
    "# Добавляем сетку графика\n",
    "plt.grid(axis = 'y')\n",
    "\n",
    "# Выводим график\n",
    "plt.show()"
   ]
  },
  {
   "cell_type": "markdown",
   "id": "e217d5c4",
   "metadata": {},
   "source": [
    "- В ЦАО г.Москвы больше всего заведений категории ресторан 30%, кафе 21%, кофейня 19%"
   ]
  },
  {
   "cell_type": "markdown",
   "id": "7c824f58",
   "metadata": {
    "id": "7c824f58"
   },
   "source": [
    "---\n",
    "\n",
    "### Задача 3\n",
    "\n"
   ]
  },
  {
   "cell_type": "markdown",
   "id": "a9256939",
   "metadata": {},
   "source": [
    "Изучим соотношение сетевых и несетевых заведений в целом по всем данным"
   ]
  },
  {
   "cell_type": "code",
   "execution_count": null,
   "id": "ef442d1a",
   "metadata": {
    "id": "ef442d1a"
   },
   "outputs": [
    {
     "name": "stdout",
     "output_type": "stream",
     "text": [
      "0    5201\n",
      "1    3205\n",
      "Name: chain, dtype: int64\n"
     ]
    },
    {
     "data": {
      "image/png": "[encoded data removed]",
      "text/plain": [
       "<Figure size 864x288 with 1 Axes>"
      ]
     },
     "metadata": {},
     "output_type": "display_data"
    }
   ],
   "source": [
    "# Построим график столбчатой диаграммы \n",
    "name_by_chain = df['chain'].value_counts()\n",
    "name_by_chain.plot(  kind='pie',\n",
    "                     title=f'Соотношение сетевых и несетевых заведений в разрезе категорий',\n",
    "                     legend=True,\n",
    "                     ylabel='Количество заведений',\n",
    "                     xlabel='Признак сети \\n (1=сеть \\n 0= не сеть)',\n",
    "                     rot=0,\n",
    "                     autopct=\"%.2f\",\n",
    "                     figsize=(12, 4))\n",
    "plt.grid(axis = 'y')\n",
    "# Выводим график\n",
    "print(name_by_chain)\n",
    "plt.show()"
   ]
  },
  {
   "cell_type": "markdown",
   "id": "8243ca77",
   "metadata": {},
   "source": [
    "- График показывает, что доля сетевых заведений составляет 38% от общего количества"
   ]
  },
  {
   "cell_type": "markdown",
   "id": "341d2ebd",
   "metadata": {},
   "source": [
    "Изучим соотношение сетевых и несетевых заведений в разрезе категорий заведения. "
   ]
  },
  {
   "cell_type": "code",
   "execution_count": null,
   "id": "aa2d20fc",
   "metadata": {},
   "outputs": [
    {
     "data": {
      "text/html": [
       "<div>\n",
       "<style scoped>\n",
       "    .dataframe tbody tr th:only-of-type {\n",
       "        vertical-align: middle;\n",
       "    }\n",
       "\n",
       "    .dataframe tbody tr th {\n",
       "        vertical-align: top;\n",
       "    }\n",
       "\n",
       "    .dataframe thead th {\n",
       "        text-align: right;\n",
       "    }\n",
       "</style>\n",
       "<table border=\"1\" class=\"dataframe\">\n",
       "  <thead>\n",
       "    <tr style=\"text-align: right;\">\n",
       "      <th>chain</th>\n",
       "      <th>category</th>\n",
       "      <th>0</th>\n",
       "      <th>1</th>\n",
       "      <th>Share_chain</th>\n",
       "    </tr>\n",
       "  </thead>\n",
       "  <tbody>\n",
       "    <tr>\n",
       "      <th>1</th>\n",
       "      <td>булочная</td>\n",
       "      <td>99</td>\n",
       "      <td>157</td>\n",
       "      <td>0.61</td>\n",
       "    </tr>\n",
       "    <tr>\n",
       "      <th>5</th>\n",
       "      <td>пиццерия</td>\n",
       "      <td>303</td>\n",
       "      <td>330</td>\n",
       "      <td>0.52</td>\n",
       "    </tr>\n",
       "    <tr>\n",
       "      <th>4</th>\n",
       "      <td>кофейня</td>\n",
       "      <td>693</td>\n",
       "      <td>720</td>\n",
       "      <td>0.51</td>\n",
       "    </tr>\n",
       "    <tr>\n",
       "      <th>2</th>\n",
       "      <td>быстрое питание</td>\n",
       "      <td>371</td>\n",
       "      <td>232</td>\n",
       "      <td>0.38</td>\n",
       "    </tr>\n",
       "    <tr>\n",
       "      <th>6</th>\n",
       "      <td>ресторан</td>\n",
       "      <td>1313</td>\n",
       "      <td>730</td>\n",
       "      <td>0.36</td>\n",
       "    </tr>\n",
       "    <tr>\n",
       "      <th>3</th>\n",
       "      <td>кафе</td>\n",
       "      <td>1599</td>\n",
       "      <td>779</td>\n",
       "      <td>0.33</td>\n",
       "    </tr>\n",
       "    <tr>\n",
       "      <th>7</th>\n",
       "      <td>столовая</td>\n",
       "      <td>227</td>\n",
       "      <td>88</td>\n",
       "      <td>0.28</td>\n",
       "    </tr>\n",
       "    <tr>\n",
       "      <th>0</th>\n",
       "      <td>бар,паб</td>\n",
       "      <td>596</td>\n",
       "      <td>169</td>\n",
       "      <td>0.22</td>\n",
       "    </tr>\n",
       "  </tbody>\n",
       "</table>\n",
       "</div>"
      ],
      "text/plain": [
       "chain         category     0    1  Share_chain\n",
       "1             булочная    99  157         0.61\n",
       "5             пиццерия   303  330         0.52\n",
       "4              кофейня   693  720         0.51\n",
       "2      быстрое питание   371  232         0.38\n",
       "6             ресторан  1313  730         0.36\n",
       "3                 кафе  1599  779         0.33\n",
       "7             столовая   227   88         0.28\n",
       "0              бар,паб   596  169         0.22"
      ]
     },
     "execution_count": 24,
     "metadata": {},
     "output_type": "execute_result"
    }
   ],
   "source": [
    "# Количество заведений по категориям\n",
    "category_by_chain = df.groupby('category')['chain'].value_counts().unstack(fill_value=0).reset_index()\n",
    "# Доля сетевых в каждой категории\n",
    "category_by_chain['Share_chain'] = round(category_by_chain[1] / (category_by_chain[0] + category_by_chain[1]), 2)\n",
    "# Сортируем по доле сетевых заведений\n",
    "category_by_chain = category_by_chain.sort_values(by='Share_chain', ascending=False)\n",
    "\n",
    "category_by_chain"
   ]
  },
  {
   "cell_type": "code",
   "execution_count": null,
   "id": "0de29fa2",
   "metadata": {
    "id": "0de29fa2"
   },
   "outputs": [
    {
     "data": {
      "image/png": "[encoded data removed]",
      "text/plain": [
       "<Figure size 864x288 with 1 Axes>"
      ]
     },
     "metadata": {
      "needs_background": "light"
     },
     "output_type": "display_data"
    }
   ],
   "source": [
    "# Построим график столбчатой диаграммы\n",
    "category_by_chain.plot(  kind='bar',\n",
    "                         x='category',\n",
    "                         y='Share_chain',\n",
    "                         title=f'Доля сетевых заведений в разрезе категорий',\n",
    "                         legend=True,\n",
    "                         ylabel='Доля сетей в категории',\n",
    "                         xlabel='Категории',\n",
    "                         rot=0,\n",
    "                         figsize=(12, 4))\n",
    "plt.grid(axis = 'y')\n",
    "\n",
    "# Выводим график\n",
    "plt.show()"
   ]
  },
  {
   "cell_type": "markdown",
   "id": "f37d9faf",
   "metadata": {
    "id": "a139bd72"
   },
   "source": [
    "- Более половины Булочных, Пиццерий и Кофеин чаще всего являются сетевыми"
   ]
  },
  {
   "cell_type": "markdown",
   "id": "5913c3e3",
   "metadata": {
    "id": "5913c3e3"
   },
   "source": [
    "---\n",
    "\n",
    "### Задача 4\n",
    "\n"
   ]
  },
  {
   "cell_type": "markdown",
   "id": "2feb26cc",
   "metadata": {},
   "source": [
    "Исследуем количество посадочных мест в заведениях."
   ]
  },
  {
   "cell_type": "code",
   "execution_count": null,
   "id": "1050581c",
   "metadata": {},
   "outputs": [
    {
     "name": "stdout",
     "output_type": "stream",
     "text": [
      "Статистические показатели столбца seats:\n"
     ]
    },
    {
     "data": {
      "text/plain": [
       "count    4795.000000\n",
       "mean      108.421689\n",
       "std       122.833396\n",
       "min         0.000000\n",
       "25%        40.000000\n",
       "50%        75.000000\n",
       "75%       140.000000\n",
       "max      1288.000000\n",
       "Name: seats, dtype: float64"
      ]
     },
     "execution_count": 26,
     "metadata": {},
     "output_type": "execute_result"
    }
   ],
   "source": [
    "# Изучаем статистические показатели столбца score\n",
    "print('Статистические показатели столбца seats:')\n",
    "df['seats'].describe()"
   ]
  },
  {
   "cell_type": "code",
   "execution_count": null,
   "id": "062b55d8",
   "metadata": {
    "id": "062b55d8"
   },
   "outputs": [
    {
     "data": {
      "image/png": "[encoded data removed]",
      "text/plain": [
       "<Figure size 720x216 with 1 Axes>"
      ]
     },
     "metadata": {
      "needs_background": "light"
     },
     "output_type": "display_data"
    }
   ],
   "source": [
    "# Создаём контейнер графика matplotlib и задаём его размер\n",
    "plt.figure(figsize=(10, 3))\n",
    "\n",
    "# Строим диаграмму размаха значений в столбце score\n",
    "df.boxplot(column='seats', vert=False)\n",
    "\n",
    "# Добавляем заголовок и метки оси\n",
    "plt.title('Распределение посадочных мест в заведениях')\n",
    "plt.xlabel('Посадочные места')\n",
    "\n",
    "# Выводим график\n",
    "plt.show()"
   ]
  },
  {
   "cell_type": "code",
   "execution_count": null,
   "id": "4bb5ab8d",
   "metadata": {},
   "outputs": [
    {
     "name": "stdout",
     "output_type": "stream",
     "text": [
      "Медиана посадочных мест по категориям заведения\n"
     ]
    },
    {
     "data": {
      "text/plain": [
       "category\n",
       "ресторан           86.0\n",
       "бар,паб            82.5\n",
       "кофейня            80.0\n",
       "столовая           75.5\n",
       "быстрое питание    65.0\n",
       "кафе               60.0\n",
       "пиццерия           55.0\n",
       "булочная           50.0\n",
       "Name: seats, dtype: Float64"
      ]
     },
     "execution_count": 28,
     "metadata": {},
     "output_type": "execute_result"
    }
   ],
   "source": [
    "# Определим медиану кол-ва постадочных мест по категориям\n",
    "category_by_chain = df.groupby('category')['seats'].median().sort_values(ascending=False)\n",
    "\n",
    "print('Медиана посадочных мест по категориям заведения')\n",
    "category_by_chain"
   ]
  },
  {
   "cell_type": "markdown",
   "id": "9e4869e4",
   "metadata": {},
   "source": [
    "- Распределение данных характеризуется широким разбросом и «хвостом» в правой части гистограммы. Такие высокие значения можно отнести к выбросам. Возможно это крупные сетевые фудкорты расчитанные на большой поток посетителей "
   ]
  },
  {
   "cell_type": "code",
   "execution_count": null,
   "id": "ceadf25b",
   "metadata": {
    "id": "ceadf25b"
   },
   "outputs": [
    {
     "data": {
      "image/png": "[encoded data removed]",
      "text/plain": [
       "<Figure size 864x288 with 1 Axes>"
      ]
     },
     "metadata": {
      "needs_background": "light"
     },
     "output_type": "display_data"
    }
   ],
   "source": [
    "# Построим график столбчатой диаграммы\n",
    "category_by_chain.plot(  kind='bar',\n",
    "                         title=f'Медиана количества посадочных мест заведений в разрезе категорий',\n",
    "                         legend=True,\n",
    "                         ylabel='Медиана кол-ва посадочных мест',\n",
    "                         xlabel='Категории',\n",
    "                         rot=0,\n",
    "                         figsize=(12, 4))\n",
    "plt.grid(axis = 'y')\n",
    "\n",
    "# Выводим график\n",
    "plt.show()"
   ]
  },
  {
   "cell_type": "markdown",
   "id": "329717e2",
   "metadata": {},
   "source": [
    "- Наибольшее значение медианы количества посадочных мест 86 в Ресторанах. В Барах,пабах 82. В Кафейнях 91"
   ]
  },
  {
   "cell_type": "markdown",
   "id": "8ed065ea",
   "metadata": {
    "id": "8ed065ea"
   },
   "source": [
    "---\n",
    "\n",
    "### Задача 5\n",
    "\n",
    "Исследуйте рейтинг заведений. Визуализируйте распределение средних рейтингов по категориям заведений. Сильно ли различаются усреднённые рейтинги для разных типов общепита?"
   ]
  },
  {
   "cell_type": "markdown",
   "id": "d25acccb",
   "metadata": {},
   "source": [
    "Исследуем рейтинг заведений. "
   ]
  },
  {
   "cell_type": "code",
   "execution_count": null,
   "id": "cc5206f8",
   "metadata": {
    "id": "cc5206f8"
   },
   "outputs": [
    {
     "name": "stdout",
     "output_type": "stream",
     "text": [
      "Cредних рейтингов по категориям заведений:\n"
     ]
    },
    {
     "data": {
      "text/plain": [
       "category\n",
       "бар,паб            4.387712\n",
       "пиццерия           4.301264\n",
       "ресторан           4.290357\n",
       "кофейня            4.277282\n",
       "булочная           4.268359\n",
       "столовая           4.211429\n",
       "кафе               4.123886\n",
       "быстрое питание    4.050249\n",
       "Name: rating, dtype: float64"
      ]
     },
     "execution_count": 30,
     "metadata": {},
     "output_type": "execute_result"
    }
   ],
   "source": [
    "# Определим распределение средних рейтингов по категориям заведений.\n",
    "category_by_chain = df.groupby('category')['rating'].mean().sort_values(ascending=False)\n",
    "\n",
    "print('Cредних рейтингов по категориям заведений:')\n",
    "category_by_chain"
   ]
  },
  {
   "cell_type": "code",
   "execution_count": null,
   "id": "3e0ec5d7",
   "metadata": {
    "id": "3e0ec5d7"
   },
   "outputs": [
    {
     "data": {
      "image/png": "[encoded data removed]",
      "text/plain": [
       "<Figure size 864x288 with 1 Axes>"
      ]
     },
     "metadata": {
      "needs_background": "light"
     },
     "output_type": "display_data"
    }
   ],
   "source": [
    "# Построим график столбчатой диаграммы\n",
    "category_by_chain.plot(kind='bar',\n",
    "                       ylim = (4, 5),\n",
    "                       title=f'Средний рейтинг заведений в разрезе категорий',\n",
    "                       ylabel='Средний рейтинг заведений',\n",
    "                       xlabel='Категории',\n",
    "                       rot=0,\n",
    "                       figsize=(12, 4))\n",
    "plt.grid(axis = 'y')\n",
    "\n",
    "# Выводим график\n",
    "plt.show()"
   ]
  },
  {
   "cell_type": "markdown",
   "id": "6dbfae81",
   "metadata": {
    "id": "766c86cb"
   },
   "source": [
    "- Различие средних рейтингов по различным категориям заведений несущественно и находится в диапазоне 4.05 для быстрого питания до 4.38 для бар,паб"
   ]
  },
  {
   "cell_type": "markdown",
   "id": "dd9702d9",
   "metadata": {
    "id": "dd9702d9"
   },
   "source": [
    "---\n",
    "\n",
    "### Задача 6\n",
    "\n"
   ]
  },
  {
   "cell_type": "markdown",
   "id": "dd94fb7f",
   "metadata": {},
   "source": [
    "Изучим корреляцию рейтингов заведений"
   ]
  },
  {
   "cell_type": "code",
   "execution_count": null,
   "id": "15400eb9",
   "metadata": {
    "id": "15400eb9"
   },
   "outputs": [
    {
     "name": "stdout",
     "output_type": "stream",
     "text": [
      "interval columns not set, guessing: ['rating', 'chain', 'seats']\n",
      "Корреляционная матрица с коэффициентом phi_k для переменной rating\n"
     ]
    },
    {
     "data": {
      "text/html": [
       "<div>\n",
       "<style scoped>\n",
       "    .dataframe tbody tr th:only-of-type {\n",
       "        vertical-align: middle;\n",
       "    }\n",
       "\n",
       "    .dataframe tbody tr th {\n",
       "        vertical-align: top;\n",
       "    }\n",
       "\n",
       "    .dataframe thead th {\n",
       "        text-align: right;\n",
       "    }\n",
       "</style>\n",
       "<table border=\"1\" class=\"dataframe\">\n",
       "  <thead>\n",
       "    <tr style=\"text-align: right;\">\n",
       "      <th></th>\n",
       "      <th>rating</th>\n",
       "    </tr>\n",
       "  </thead>\n",
       "  <tbody>\n",
       "    <tr>\n",
       "      <th>price</th>\n",
       "      <td>0.220295</td>\n",
       "    </tr>\n",
       "    <tr>\n",
       "      <th>district</th>\n",
       "      <td>0.200691</td>\n",
       "    </tr>\n",
       "    <tr>\n",
       "      <th>category</th>\n",
       "      <td>0.190003</td>\n",
       "    </tr>\n",
       "    <tr>\n",
       "      <th>is_24_7</th>\n",
       "      <td>0.150173</td>\n",
       "    </tr>\n",
       "    <tr>\n",
       "      <th>chain</th>\n",
       "      <td>0.108092</td>\n",
       "    </tr>\n",
       "    <tr>\n",
       "      <th>seats</th>\n",
       "      <td>0.000000</td>\n",
       "    </tr>\n",
       "  </tbody>\n",
       "</table>\n",
       "</div>"
      ],
      "text/plain": [
       "            rating\n",
       "price     0.220295\n",
       "district  0.200691\n",
       "category  0.190003\n",
       "is_24_7   0.150173\n",
       "chain     0.108092\n",
       "seats     0.000000"
      ]
     },
     "execution_count": 32,
     "metadata": {},
     "output_type": "execute_result"
    }
   ],
   "source": [
    "# Вычисляем корреляционную матрицу с использованием phi_k\n",
    "correlation_matrix = df[['category', 'district', 'rating', 'chain', 'seats', 'price', 'is_24_7']].phik_matrix()\n",
    "\n",
    "# Сортируем по убыванию значения матрицы для переменной rating\n",
    "correlation_matrix = correlation_matrix.loc[correlation_matrix.index != 'rating'][['rating']]\\\n",
    "                    .sort_values(by='rating', ascending=False)\n",
    "\n",
    "# Выводим результат\n",
    "print('Корреляционная матрица с коэффициентом phi_k для переменной rating')\n",
    "correlation_matrix"
   ]
  },
  {
   "cell_type": "code",
   "execution_count": null,
   "id": "48318d70",
   "metadata": {},
   "outputs": [
    {
     "data": {
      "image/png": "[encoded data removed]",
      "text/plain": [
       "<Figure size 144x432 with 1 Axes>"
      ]
     },
     "metadata": {
      "needs_background": "light"
     },
     "output_type": "display_data"
    }
   ],
   "source": [
    "# Строим тепловую карту\n",
    "plt.figure(figsize=(2, 6))\n",
    "\n",
    "# Сохраняем матрицу корреляции признака churn с другими признаками клиента\n",
    "data_heatmap = correlation_matrix\n",
    "sns.heatmap(data_heatmap,\n",
    "            annot=True, # Отображаем численные значения в ячейках карты\n",
    "            fmt='.2f', # Форматируем значения корреляции: два знака после точки\n",
    "            cmap='coolwarm', # Устанавливаем цветовую гамму от красного (макс. значение) к синему\n",
    "            linewidths=0.5, # Форматируем линию между ячейками карты\n",
    "            cbar=False # Отключаем цветовую шкалу\n",
    "           )\n",
    "\n",
    "# Добавляем заголовок и подпись по оси Х\n",
    "plt.title('Тепловая карта коэффициента phi_k \\n для данных rating')\n",
    "plt.xlabel('Рейтинг заведения')\n",
    "plt.yticks(rotation=0) \n",
    "\n",
    "# Выводим график\n",
    "plt.show()"
   ]
  },
  {
   "cell_type": "markdown",
   "id": "a1ae0354",
   "metadata": {},
   "source": [
    "- самая сильная корреляция рейтинга наблюдается с ценовой категорией заведения"
   ]
  },
  {
   "cell_type": "code",
   "execution_count": null,
   "id": "1a65a84d",
   "metadata": {
    "id": "1a65a84d"
   },
   "outputs": [
    {
     "data": {
      "image/png": "[encoded data removed]",
      "text/plain": [
       "<Figure size 648x288 with 1 Axes>"
      ]
     },
     "metadata": {
      "needs_background": "light"
     },
     "output_type": "display_data"
    }
   ],
   "source": [
    "# Строим график столбчатой диаграммы\n",
    "grouped = df.groupby('price')['rating'].mean().sort_values()\n",
    "grouped.plot(kind='bar',\n",
    "               title=f'Распределение рейтинга заведения в зависимости от ценовой категории',\n",
    "               legend=True,\n",
    "               ylabel='Рейтинг заведения',\n",
    "               xlabel='Ценовая категория',\n",
    "               rot=0,\n",
    "               ylim=(4, 5),\n",
    "               figsize=(9, 4))\n",
    "\n",
    "# Рассчитываем среднее значение по рейтингу заведения\n",
    "mean_rating = df['rating'].mean()\n",
    "\n",
    "# Наносим на график линию с средним значением рейтинга заведения\n",
    "plt.axhline(mean_rating, # Данные, по которым строится линия\n",
    "            color='red', # Цвет линии\n",
    "            linestyle='--', # Стиль линии\n",
    "            linewidth=1, # Ширина линии\n",
    "            label=f'Среднее значение по всем данным {round(mean_rating,2)}')\n",
    "\n",
    "plt.grid(axis='x')\n",
    "plt.grid()\n",
    "plt.legend()\n",
    "\n",
    "# Выводим график\n",
    "plt.show()"
   ]
  },
  {
   "cell_type": "markdown",
   "id": "d2d369f6",
   "metadata": {},
   "source": [
    "- Из графика видно, что чем выше ценовая категория заведения тем выше рейтинг"
   ]
  },
  {
   "cell_type": "markdown",
   "id": "370de703",
   "metadata": {
    "id": "370de703"
   },
   "source": [
    "---\n",
    "\n",
    "### Задача 7\n",
    "\n"
   ]
  },
  {
   "cell_type": "markdown",
   "id": "c13a60a6",
   "metadata": {},
   "source": [
    "Найдём топ-15 популярных по кол-ву заведений сетей в Москве и для них посчитаем значения среднего рейтинга."
   ]
  },
  {
   "cell_type": "code",
   "execution_count": null,
   "id": "5d828a9a",
   "metadata": {
    "id": "5d828a9a"
   },
   "outputs": [
    {
     "name": "stdout",
     "output_type": "stream",
     "text": [
      "Топ-15 популярных сетей по количеству заведений в Москве:\n"
     ]
    },
    {
     "data": {
      "text/html": [
       "<div>\n",
       "<style scoped>\n",
       "    .dataframe tbody tr th:only-of-type {\n",
       "        vertical-align: middle;\n",
       "    }\n",
       "\n",
       "    .dataframe tbody tr th {\n",
       "        vertical-align: top;\n",
       "    }\n",
       "\n",
       "    .dataframe thead th {\n",
       "        text-align: right;\n",
       "    }\n",
       "</style>\n",
       "<table border=\"1\" class=\"dataframe\">\n",
       "  <thead>\n",
       "    <tr style=\"text-align: right;\">\n",
       "      <th></th>\n",
       "      <th>name</th>\n",
       "      <th>category</th>\n",
       "      <th>count_name</th>\n",
       "      <th>avg_rating</th>\n",
       "      <th>%</th>\n",
       "    </tr>\n",
       "  </thead>\n",
       "  <tbody>\n",
       "    <tr>\n",
       "      <th>0</th>\n",
       "      <td>шоколадница</td>\n",
       "      <td>кофейня</td>\n",
       "      <td>119</td>\n",
       "      <td>4.178151</td>\n",
       "      <td>15.0</td>\n",
       "    </tr>\n",
       "    <tr>\n",
       "      <th>1</th>\n",
       "      <td>домино'с пицца</td>\n",
       "      <td>пиццерия</td>\n",
       "      <td>76</td>\n",
       "      <td>4.169737</td>\n",
       "      <td>10.0</td>\n",
       "    </tr>\n",
       "    <tr>\n",
       "      <th>2</th>\n",
       "      <td>додо пицца</td>\n",
       "      <td>пиццерия</td>\n",
       "      <td>74</td>\n",
       "      <td>4.286486</td>\n",
       "      <td>10.0</td>\n",
       "    </tr>\n",
       "    <tr>\n",
       "      <th>3</th>\n",
       "      <td>one price coffee</td>\n",
       "      <td>кофейня</td>\n",
       "      <td>71</td>\n",
       "      <td>4.064789</td>\n",
       "      <td>9.0</td>\n",
       "    </tr>\n",
       "    <tr>\n",
       "      <th>4</th>\n",
       "      <td>яндекс лавка</td>\n",
       "      <td>ресторан</td>\n",
       "      <td>69</td>\n",
       "      <td>3.872464</td>\n",
       "      <td>9.0</td>\n",
       "    </tr>\n",
       "    <tr>\n",
       "      <th>5</th>\n",
       "      <td>cofix</td>\n",
       "      <td>кофейня</td>\n",
       "      <td>65</td>\n",
       "      <td>4.075385</td>\n",
       "      <td>8.0</td>\n",
       "    </tr>\n",
       "    <tr>\n",
       "      <th>6</th>\n",
       "      <td>prime</td>\n",
       "      <td>ресторан</td>\n",
       "      <td>49</td>\n",
       "      <td>4.114286</td>\n",
       "      <td>6.0</td>\n",
       "    </tr>\n",
       "    <tr>\n",
       "      <th>7</th>\n",
       "      <td>кофепорт</td>\n",
       "      <td>кофейня</td>\n",
       "      <td>42</td>\n",
       "      <td>4.147619</td>\n",
       "      <td>5.0</td>\n",
       "    </tr>\n",
       "    <tr>\n",
       "      <th>8</th>\n",
       "      <td>кулинарная лавка братьев караваевых</td>\n",
       "      <td>кафе</td>\n",
       "      <td>39</td>\n",
       "      <td>4.394872</td>\n",
       "      <td>5.0</td>\n",
       "    </tr>\n",
       "    <tr>\n",
       "      <th>9</th>\n",
       "      <td>теремок</td>\n",
       "      <td>ресторан</td>\n",
       "      <td>36</td>\n",
       "      <td>4.105556</td>\n",
       "      <td>5.0</td>\n",
       "    </tr>\n",
       "    <tr>\n",
       "      <th>10</th>\n",
       "      <td>cofefest</td>\n",
       "      <td>кофейня</td>\n",
       "      <td>31</td>\n",
       "      <td>3.977419</td>\n",
       "      <td>4.0</td>\n",
       "    </tr>\n",
       "    <tr>\n",
       "      <th>11</th>\n",
       "      <td>чайхана</td>\n",
       "      <td>кафе</td>\n",
       "      <td>26</td>\n",
       "      <td>3.946154</td>\n",
       "      <td>3.0</td>\n",
       "    </tr>\n",
       "    <tr>\n",
       "      <th>12</th>\n",
       "      <td>буханка</td>\n",
       "      <td>булочная</td>\n",
       "      <td>25</td>\n",
       "      <td>4.416000</td>\n",
       "      <td>3.0</td>\n",
       "    </tr>\n",
       "    <tr>\n",
       "      <th>13</th>\n",
       "      <td>drive café</td>\n",
       "      <td>кафе</td>\n",
       "      <td>24</td>\n",
       "      <td>4.025000</td>\n",
       "      <td>3.0</td>\n",
       "    </tr>\n",
       "    <tr>\n",
       "      <th>14</th>\n",
       "      <td>кофемания</td>\n",
       "      <td>кофейня</td>\n",
       "      <td>22</td>\n",
       "      <td>4.463636</td>\n",
       "      <td>3.0</td>\n",
       "    </tr>\n",
       "  </tbody>\n",
       "</table>\n",
       "</div>"
      ],
      "text/plain": [
       "                                   name  category  count_name  avg_rating  \\\n",
       "0                           шоколадница   кофейня         119    4.178151   \n",
       "1                        домино'с пицца  пиццерия          76    4.169737   \n",
       "2                            додо пицца  пиццерия          74    4.286486   \n",
       "3                      one price coffee   кофейня          71    4.064789   \n",
       "4                          яндекс лавка  ресторан          69    3.872464   \n",
       "5                                 cofix   кофейня          65    4.075385   \n",
       "6                                 prime  ресторан          49    4.114286   \n",
       "7                              кофепорт   кофейня          42    4.147619   \n",
       "8   кулинарная лавка братьев караваевых      кафе          39    4.394872   \n",
       "9                               теремок  ресторан          36    4.105556   \n",
       "10                             cofefest   кофейня          31    3.977419   \n",
       "11                              чайхана      кафе          26    3.946154   \n",
       "12                              буханка  булочная          25    4.416000   \n",
       "13                           drive café      кафе          24    4.025000   \n",
       "14                            кофемания   кофейня          22    4.463636   \n",
       "\n",
       "       %  \n",
       "0   15.0  \n",
       "1   10.0  \n",
       "2   10.0  \n",
       "3    9.0  \n",
       "4    9.0  \n",
       "5    8.0  \n",
       "6    6.0  \n",
       "7    5.0  \n",
       "8    5.0  \n",
       "9    5.0  \n",
       "10   4.0  \n",
       "11   3.0  \n",
       "12   3.0  \n",
       "13   3.0  \n",
       "14   3.0  "
      ]
     },
     "execution_count": 35,
     "metadata": {},
     "output_type": "execute_result"
    }
   ],
   "source": [
    "# Сгруппируем данные и посчитаем среднее значение рейтинга для топ-15 популярных по количеству заведений сетей\n",
    "gr_chain = df[df['chain']==1].groupby(['name', 'category'])['rating'].agg(['count', 'mean'])\\\n",
    "                             .rename(columns={'count': 'count_name', 'mean': 'avg_rating'})\\\n",
    "                             .sort_values(by='count_name', ascending=False)\\\n",
    "                             .reset_index()\\\n",
    "                             .head(15)\n",
    "\n",
    "# Посчитаем долю количества заведений в ЦАО Москвы\n",
    "gr_chain['%'] = round(gr_chain['count_name'] / gr_chain['count_name'].sum() * 100)\n",
    "\n",
    "print('Топ-15 популярных сетей по количеству заведений в Москве:')\n",
    "gr_chain"
   ]
  },
  {
   "cell_type": "code",
   "execution_count": null,
   "id": "0fa65c64",
   "metadata": {},
   "outputs": [
    {
     "data": {
      "image/png": "[encoded data removed]",
      "text/plain": [
       "<Figure size 504x504 with 1 Axes>"
      ]
     },
     "metadata": {
      "needs_background": "light"
     },
     "output_type": "display_data"
    }
   ],
   "source": [
    "# Строим график столбчатой диаграммы\n",
    "grouped = gr_chain.sort_values(by='count_name')\n",
    "\n",
    "grouped.plot(x='name',\n",
    "             y='count_name',\n",
    "             kind='barh',\n",
    "               title=f'Топ-15 популярных сетей по количеству заведений в Москве',\n",
    "               ylabel='Количество заведений в сети',\n",
    "               xlabel='Название сети',\n",
    "               rot=0,\n",
    "               figsize=(7, 7))\n",
    "\n",
    "plt.grid(axis='x')\n",
    "plt.grid()\n",
    "plt.legend()\n",
    "\n",
    "# Выводим график\n",
    "plt.show()"
   ]
  },
  {
   "cell_type": "markdown",
   "id": "60c1366b",
   "metadata": {},
   "source": [
    "- самые популярные по количеству ТОП-15 заведений в Москве являются Шоколадница 15%, Додо пицца и Домино'с пицца с долей по 10% каждая. Они относятся к категории Кофейня и Пиццерия"
   ]
  },
  {
   "cell_type": "code",
   "execution_count": null,
   "id": "d013c598",
   "metadata": {
    "id": "d013c598"
   },
   "outputs": [
    {
     "data": {
      "image/png": "[encoded data removed]",
      "text/plain": [
       "<Figure size 648x360 with 1 Axes>"
      ]
     },
     "metadata": {
      "needs_background": "light"
     },
     "output_type": "display_data"
    }
   ],
   "source": [
    "# Строим график столбчатой диаграммы\n",
    "grouped = gr_chain.sort_values(by='avg_rating')\n",
    "\n",
    "grouped.plot(x='name',\n",
    "             y='avg_rating',\n",
    "             kind='barh',\n",
    "               title=f'Рейтинг ТОП-15 заведений ',\n",
    "               legend=True,\n",
    "               ylabel='Рейтинг заведения',\n",
    "               xlabel='Ценовая категория',\n",
    "               rot=0,\n",
    "               xlim=(3.8, 4.6),\n",
    "               figsize=(9, 5))\n",
    "\n",
    "# Рассчитываем среднее значение по рейтингу заведения\n",
    "mean_rating = gr_chain['avg_rating'].mean()\n",
    "\n",
    "# Наносим на график линию с средним значением рейтинга заведения\n",
    "plt.axvline(mean_rating, # Данные, по которым строится линия\n",
    "            color='red', # Цвет линии\n",
    "            linestyle='--', # Стиль линии\n",
    "            linewidth=1, # Ширина линии\n",
    "            label=f'Средний рейтинг {round(mean_rating,2)}')\n",
    "\n",
    "plt.grid(axis='x')\n",
    "plt.grid()\n",
    "plt.legend()\n",
    "\n",
    "# Выводим график\n",
    "plt.show()"
   ]
  },
  {
   "cell_type": "markdown",
   "id": "5bad681e",
   "metadata": {
    "id": "774348d5"
   },
   "source": [
    "- из графика видно, что из тройки лидеров ТОП-15 сетей по кол-ву заведений Шоколадница, Домино'с пицца и Додо пица имеет рейтинг выше среднего"
   ]
  },
  {
   "cell_type": "markdown",
   "id": "85a90a94",
   "metadata": {
    "id": "85a90a94"
   },
   "source": [
    "---\n",
    "\n",
    "### Задача 8\n",
    "\n"
   ]
  },
  {
   "cell_type": "markdown",
   "id": "71632fa1",
   "metadata": {},
   "source": [
    "Изучим вариацию среднего чека заведения (столбец middle_avg_bill) в зависимости от района Москвы"
   ]
  },
  {
   "cell_type": "code",
   "execution_count": null,
   "id": "fa8c9fff",
   "metadata": {},
   "outputs": [
    {
     "name": "stdout",
     "output_type": "stream",
     "text": [
      "Cредний чек заведения в зависимости от района Москвы:\n"
     ]
    },
    {
     "data": {
      "text/html": [
       "<div>\n",
       "<style scoped>\n",
       "    .dataframe tbody tr th:only-of-type {\n",
       "        vertical-align: middle;\n",
       "    }\n",
       "\n",
       "    .dataframe tbody tr th {\n",
       "        vertical-align: top;\n",
       "    }\n",
       "\n",
       "    .dataframe thead th {\n",
       "        text-align: right;\n",
       "    }\n",
       "</style>\n",
       "<table border=\"1\" class=\"dataframe\">\n",
       "  <thead>\n",
       "    <tr style=\"text-align: right;\">\n",
       "      <th></th>\n",
       "      <th>mean</th>\n",
       "      <th>median</th>\n",
       "    </tr>\n",
       "    <tr>\n",
       "      <th>district</th>\n",
       "      <th></th>\n",
       "      <th></th>\n",
       "    </tr>\n",
       "  </thead>\n",
       "  <tbody>\n",
       "    <tr>\n",
       "      <th>Юго-Восточный административный округ</th>\n",
       "      <td>654.0</td>\n",
       "      <td>450.0</td>\n",
       "    </tr>\n",
       "    <tr>\n",
       "      <th>Северо-Восточный административный округ</th>\n",
       "      <td>717.0</td>\n",
       "      <td>500.0</td>\n",
       "    </tr>\n",
       "    <tr>\n",
       "      <th>Юго-Западный административный округ</th>\n",
       "      <td>793.0</td>\n",
       "      <td>600.0</td>\n",
       "    </tr>\n",
       "    <tr>\n",
       "      <th>Восточный административный округ</th>\n",
       "      <td>821.0</td>\n",
       "      <td>575.0</td>\n",
       "    </tr>\n",
       "    <tr>\n",
       "      <th>Северо-Западный административный округ</th>\n",
       "      <td>822.0</td>\n",
       "      <td>700.0</td>\n",
       "    </tr>\n",
       "    <tr>\n",
       "      <th>Южный административный округ</th>\n",
       "      <td>834.0</td>\n",
       "      <td>500.0</td>\n",
       "    </tr>\n",
       "    <tr>\n",
       "      <th>Северный административный округ</th>\n",
       "      <td>928.0</td>\n",
       "      <td>650.0</td>\n",
       "    </tr>\n",
       "    <tr>\n",
       "      <th>Западный административный округ</th>\n",
       "      <td>1053.0</td>\n",
       "      <td>1000.0</td>\n",
       "    </tr>\n",
       "    <tr>\n",
       "      <th>Центральный административный округ</th>\n",
       "      <td>1191.0</td>\n",
       "      <td>1000.0</td>\n",
       "    </tr>\n",
       "  </tbody>\n",
       "</table>\n",
       "</div>"
      ],
      "text/plain": [
       "                                           mean  median\n",
       "district                                               \n",
       "Юго-Восточный административный округ      654.0   450.0\n",
       "Северо-Восточный административный округ   717.0   500.0\n",
       "Юго-Западный административный округ       793.0   600.0\n",
       "Восточный административный округ          821.0   575.0\n",
       "Северо-Западный административный округ    822.0   700.0\n",
       "Южный административный округ              834.0   500.0\n",
       "Северный административный округ           928.0   650.0\n",
       "Западный административный округ          1053.0  1000.0\n",
       "Центральный административный округ       1191.0  1000.0"
      ]
     },
     "execution_count": 38,
     "metadata": {},
     "output_type": "execute_result"
    }
   ],
   "source": [
    "gr_dist_by_bill = df.groupby('district')['middle_avg_bill'].agg(['mean', 'median']).sort_values(by='mean')\n",
    "\n",
    "print('Cредний чек заведения в зависимости от района Москвы:')\n",
    "round(gr_dist_by_bill)"
   ]
  },
  {
   "cell_type": "code",
   "execution_count": null,
   "id": "5fb4ffc6",
   "metadata": {
    "id": "5fb4ffc6"
   },
   "outputs": [
    {
     "data": {
      "image/png": "[encoded data removed]",
      "text/plain": [
       "<Figure size 504x504 with 1 Axes>"
      ]
     },
     "metadata": {
      "needs_background": "light"
     },
     "output_type": "display_data"
    },
    {
     "data": {
      "image/png": "[encoded data removed]",
      "text/plain": [
       "<Figure size 504x504 with 1 Axes>"
      ]
     },
     "metadata": {
      "needs_background": "light"
     },
     "output_type": "display_data"
    }
   ],
   "source": [
    "# Строим график столбчатой диаграммы средней цены\n",
    "gr_dist_by_bill.plot(  y='mean',\n",
    "                       kind='barh',\n",
    "                       title=f'Зависимость средненго чека от района Москвы',\n",
    "                       ylabel='Средний чек',\n",
    "                       xlabel='Район Москвы',\n",
    "                       rot=0,\n",
    "                       figsize=(7, 7))\n",
    "\n",
    "# Рассчитываем среднее значение по среднему чеку\n",
    "mean_bill = df['middle_avg_bill'].mean()\n",
    "\n",
    "# Наносим на график линию с средним значением чека\n",
    "plt.axvline(mean_bill, # Данные, по которым строится линия\n",
    "            color='red', # Цвет линии\n",
    "            linestyle='--', # Стиль линии\n",
    "            linewidth=1, # Ширина линии\n",
    "            label=f'Средний чек {round(mean_bill,2)}')\n",
    "\n",
    "\n",
    "plt.grid(axis='x')\n",
    "plt.grid()\n",
    "plt.legend()\n",
    "\n",
    "# Выводим график\n",
    "plt.show()\n",
    "\n",
    "# Построим график средней и медианнной цены\n",
    "gr_dist_by_bill.plot(\n",
    "                 kind='barh',\n",
    "                 title=f'Среднений чек по районам Москвы',\n",
    "                 ylabel='Средний чек',\n",
    "#                  xlabel='Категория заведения',\n",
    "                 rot=0,\n",
    "                 figsize=(7, 7))\n",
    "plt.grid(axis='x')\n",
    "# Выводим график\n",
    "plt.show()"
   ]
  },
  {
   "cell_type": "markdown",
   "id": "1159172d",
   "metadata": {},
   "source": [
    "- Самый высокий средний чек в Центральном и Западном АО Москвы. Для Восточных и Южных АО средний чек на 25-30% ниже"
   ]
  },
  {
   "cell_type": "markdown",
   "id": "3477b498",
   "metadata": {},
   "source": [
    "---\n",
    "Проанализируем цены в Центральном административном округе"
   ]
  },
  {
   "cell_type": "code",
   "execution_count": null,
   "id": "b98066c1",
   "metadata": {
    "id": "b98066c1"
   },
   "outputs": [
    {
     "name": "stdout",
     "output_type": "stream",
     "text": [
      "Среднй чек в Центральном административном округе по категориям заведений:\n"
     ]
    },
    {
     "data": {
      "text/html": [
       "<div>\n",
       "<style scoped>\n",
       "    .dataframe tbody tr th:only-of-type {\n",
       "        vertical-align: middle;\n",
       "    }\n",
       "\n",
       "    .dataframe tbody tr th {\n",
       "        vertical-align: top;\n",
       "    }\n",
       "\n",
       "    .dataframe thead th {\n",
       "        text-align: right;\n",
       "    }\n",
       "</style>\n",
       "<table border=\"1\" class=\"dataframe\">\n",
       "  <thead>\n",
       "    <tr style=\"text-align: right;\">\n",
       "      <th></th>\n",
       "      <th>mean</th>\n",
       "      <th>median</th>\n",
       "    </tr>\n",
       "    <tr>\n",
       "      <th>category</th>\n",
       "      <th></th>\n",
       "      <th></th>\n",
       "    </tr>\n",
       "  </thead>\n",
       "  <tbody>\n",
       "    <tr>\n",
       "      <th>столовая</th>\n",
       "      <td>320.0</td>\n",
       "      <td>300.0</td>\n",
       "    </tr>\n",
       "    <tr>\n",
       "      <th>быстрое питание</th>\n",
       "      <td>532.0</td>\n",
       "      <td>450.0</td>\n",
       "    </tr>\n",
       "    <tr>\n",
       "      <th>кафе</th>\n",
       "      <td>765.0</td>\n",
       "      <td>700.0</td>\n",
       "    </tr>\n",
       "    <tr>\n",
       "      <th>кофейня</th>\n",
       "      <td>795.0</td>\n",
       "      <td>500.0</td>\n",
       "    </tr>\n",
       "    <tr>\n",
       "      <th>пиццерия</th>\n",
       "      <td>1105.0</td>\n",
       "      <td>1000.0</td>\n",
       "    </tr>\n",
       "    <tr>\n",
       "      <th>булочная</th>\n",
       "      <td>1238.0</td>\n",
       "      <td>962.0</td>\n",
       "    </tr>\n",
       "    <tr>\n",
       "      <th>бар,паб</th>\n",
       "      <td>1480.0</td>\n",
       "      <td>1250.0</td>\n",
       "    </tr>\n",
       "    <tr>\n",
       "      <th>ресторан</th>\n",
       "      <td>1561.0</td>\n",
       "      <td>1250.0</td>\n",
       "    </tr>\n",
       "  </tbody>\n",
       "</table>\n",
       "</div>"
      ],
      "text/plain": [
       "                   mean  median\n",
       "category                       \n",
       "столовая          320.0   300.0\n",
       "быстрое питание   532.0   450.0\n",
       "кафе              765.0   700.0\n",
       "кофейня           795.0   500.0\n",
       "пиццерия         1105.0  1000.0\n",
       "булочная         1238.0   962.0\n",
       "бар,паб          1480.0  1250.0\n",
       "ресторан         1561.0  1250.0"
      ]
     },
     "execution_count": 40,
     "metadata": {},
     "output_type": "execute_result"
    }
   ],
   "source": [
    "# Расчитаем средний чек в Центральном административном округе по категориям заведений\n",
    "cao_by_bill = df[df['district'] == 'Центральный административный округ']\n",
    "cao_by_bill = cao_by_bill.groupby('category')['middle_avg_bill'].agg(['mean', 'median']).sort_values(by='mean')#ascending=False)\n",
    "\n",
    "print('Среднй чек в Центральном административном округе по категориям заведений:')\n",
    "round(cao_by_bill)"
   ]
  },
  {
   "cell_type": "code",
   "execution_count": null,
   "id": "9b5e00a5",
   "metadata": {
    "id": "9b5e00a5"
   },
   "outputs": [
    {
     "data": {
      "image/png": "[encoded data removed]",
      "text/plain": [
       "<Figure size 504x504 with 1 Axes>"
      ]
     },
     "metadata": {
      "needs_background": "light"
     },
     "output_type": "display_data"
    },
    {
     "data": {
      "image/png": "[encoded data removed]",
      "text/plain": [
       "<Figure size 504x504 with 1 Axes>"
      ]
     },
     "metadata": {
      "needs_background": "light"
     },
     "output_type": "display_data"
    }
   ],
   "source": [
    "# Построим график с средней ценой чека\n",
    "cao_by_bill.plot(y='mean',\n",
    "                 kind='barh',\n",
    "                 title=f'Среднений чек в ЦАО Москвы',\n",
    "                 ylabel='Средний чек',\n",
    "                 xlabel='Категория заведения',\n",
    "                 rot=0,\n",
    "                 figsize=(7, 7))\n",
    "\n",
    "# Рассчитываем среднее значение по среднему чеку\n",
    "mean_bill = df[df['district'] == 'Центральный административный округ']['middle_avg_bill'].mean()\n",
    "\n",
    "# Наносим на график линию с средним значением чека\n",
    "plt.axvline(mean_bill, # Данные, по которым строится линия\n",
    "            color='red', # Цвет линии\n",
    "            linestyle='--', # Стиль линии\n",
    "            linewidth=1, # Ширина линии\n",
    "            label=f'Средний чек {round(mean_bill,2)}')\n",
    "\n",
    "\n",
    "plt.grid(axis='x')\n",
    "plt.grid()\n",
    "plt.legend()\n",
    "\n",
    "# Выводим график\n",
    "plt.show()\n",
    "\n",
    "# Построим график со средней и медианной ценой чека\n",
    "cao_by_bill.plot(\n",
    "                 kind='barh',\n",
    "                 title=f'Среднений чек в ЦАО Москвы',\n",
    "                 ylabel='Средний чек',\n",
    "                 xlabel='Категория заведения',\n",
    "                 rot=0,\n",
    "                 figsize=(7, 7))\n",
    "plt.grid(axis='x')\n",
    "# Выводим график\n",
    "plt.show()"
   ]
  },
  {
   "cell_type": "code",
   "execution_count": null,
   "id": "51757242",
   "metadata": {},
   "outputs": [
    {
     "data": {
      "image/png": "[encoded data removed]",
      "text/plain": [
       "<Figure size 504x504 with 1 Axes>"
      ]
     },
     "metadata": {
      "needs_background": "light"
     },
     "output_type": "display_data"
    }
   ],
   "source": [
    "cao_by_bill.plot(\n",
    "                 kind='barh',\n",
    "                 title=f'Среднений чек в ЦАО Москвы',\n",
    "                 ylabel='Средний чек',\n",
    "                 xlabel='Категория заведения',\n",
    "                 rot=0,\n",
    "                 figsize=(7, 7))\n",
    "\n",
    "# Рассчитываем среднее значение по среднему чеку\n",
    "mean_bill = df[df['district'] == 'Центральный административный округ']['middle_avg_bill'].mean()\n",
    "\n",
    "# Наносим на график линию с средним значением чека\n",
    "plt.axvline(mean_bill, # Данные, по которым строится линия\n",
    "            color='red', # Цвет линии\n",
    "            linestyle='--', # Стиль линии\n",
    "            linewidth=1, # Ширина линии\n",
    "            label=f'Средний чек {round(mean_bill,2)}')\n",
    "\n",
    "\n",
    "plt.grid(axis='x')\n",
    "plt.grid()\n",
    "plt.legend()\n",
    "\n",
    "# Выводим график\n",
    "plt.show()"
   ]
  },
  {
   "cell_type": "markdown",
   "id": "c150bd4f",
   "metadata": {
    "id": "c150bd4f"
   },
   "source": [
    "- Для ЦАО самый высокий средний чек у Ресторанов, затем идут Бары,пабы и булочные, средний чек которых выше среднего по всему ЦАО\n"
   ]
  },
  {
   "cell_type": "markdown",
   "id": "f2c54e9a",
   "metadata": {
    "id": "f2c54e9a"
   },
   "source": [
    "---\n",
    "\n",
    "### Промежуточный вывод\n",
    "\n",
    "Обобщите полученные результаты, выделив, по вашему мнению, самые важные."
   ]
  },
  {
   "cell_type": "markdown",
   "id": "973052b2",
   "metadata": {
    "id": "c8869609"
   },
   "source": [
    "Анализ взаимосвязи данных показал, что:\n",
    "\n",
    "- Наибольше количество заведений относятся к категории Кафе 27% , вторую рестораны 24% и третью позицию с результатом 17% занимают Кофейня.\n",
    "- Больше всего заведений 27% расположено в ЦАО г.Москвы\n",
    "- В ЦАО г.Москвы больше всего заведений категории ресторан 30%, кафе 21%, кофейня 19%\n",
    "- Доля сетевых заведений составляет 38% от общего количества заведений\n",
    "- Более половины Булочных, Пиццерий и Кофеин чаще всего являются сетевыми\n",
    "- Наибольшее значение медианы количества посадочных мест 86 в Ресторанах. В Барах,пабах 82. В Кафейнях 91 \n",
    "- Различие средних рейтингов по различным категориям заведений несущественно и находится в диапазоне 4.05 для быстрого питания до 4.38 для бар,паб\n",
    "- Самая сильная корреляция рейтинга заведений наблюдается с ценовой категорией заведения. Чем выше ценовая категория заведения тем выше рейтинг \n",
    "- Самые популярные по количеству ТОП-15 заведений в Москве являются Шоколадница 15%, Додо пицца и Домино'с пицца с долей по 10% каждая. Они относятся к категории Кофейня и Пиццерия\n",
    "- Из тройки лидеров ТОП-15 сетей по кол-ву заведений Шоколадница, Домино'с пицца и Додо пица имеет рейтинг выше среднего\n",
    "- Самый высокий средний чек в Центральном и Западном АО Москвы. Для Восточных и Южных АО средний чек на 25-30% ниже\n",
    "- Для ЦАО самый высокий средний чек у Ресторанов, затем идут Бары,пабы и булочные средний чек которых выше среднего по всему ЦАО"
   ]
  },
  {
   "cell_type": "markdown",
   "id": "480f3422",
   "metadata": {
    "id": "480f3422"
   },
   "source": [
    "## 4. Итоговый вывод и рекомендации\n",
    "\n"
   ]
  },
  {
   "cell_type": "markdown",
   "id": "dc0d9367",
   "metadata": {},
   "source": [
    "**Общий обзор проделанной работы.**  \n",
    "В ходе исследования были проанализированы данные с заведениями общественного питания Москвы, составленного на основе данных сервисов Яндекс Карты и Яндекс Бизнес на лето 2022 года.  \n",
    "**Ответы на исследовательские вопросы**    \n",
    "Большенство заведений находится в ЦАО, где чек выше среднего. Количество сетевых заведений менее половины 38%.Среднее количество посадочных мест 60-80. Больше всего в Москве кафе, а среди сетей преобладают рестораны.  \n",
    "**Рекомендации на основе анализа данных**  \n",
    "В качестве рекомендаций стоит обратить внимание на кофетерии и пицерии в ЦАО количество конкурентов не так высоко, а средний чек и проходимость выше среднего."
   ]
  }
 ],
 "metadata": {
  "ExecuteTimeLog": [
   {
    "duration": 1508,
    "start_time": "2025-04-26T01:40:11.249Z"
   },
   {
    "duration": 86,
    "start_time": "2025-04-26T01:43:21.223Z"
   },
   {
    "duration": 162,
    "start_time": "2025-04-26T01:43:53.475Z"
   },
   {
    "duration": 1235,
    "start_time": "2025-04-26T01:44:52.158Z"
   },
   {
    "duration": 3707,
    "start_time": "2025-04-26T01:45:02.573Z"
   },
   {
    "duration": 71,
    "start_time": "2025-04-26T01:45:13.217Z"
   },
   {
    "duration": 153,
    "start_time": "2025-04-26T01:47:26.414Z"
   },
   {
    "duration": 19,
    "start_time": "2025-04-26T01:49:14.878Z"
   },
   {
    "duration": 16,
    "start_time": "2025-04-26T01:50:11.827Z"
   },
   {
    "duration": 21,
    "start_time": "2025-04-26T01:53:45.431Z"
   },
   {
    "duration": 15,
    "start_time": "2025-04-26T01:53:47.713Z"
   },
   {
    "duration": 11,
    "start_time": "2025-04-26T01:55:39.669Z"
   },
   {
    "duration": 12,
    "start_time": "2025-04-26T01:55:48.898Z"
   },
   {
    "duration": 149,
    "start_time": "2025-04-26T01:58:05.561Z"
   },
   {
    "duration": 14,
    "start_time": "2025-04-26T01:58:08.821Z"
   },
   {
    "duration": 14,
    "start_time": "2025-04-26T01:58:15.582Z"
   },
   {
    "duration": 10,
    "start_time": "2025-04-26T01:58:22.141Z"
   },
   {
    "duration": 13,
    "start_time": "2025-04-26T01:58:23.995Z"
   },
   {
    "duration": 194,
    "start_time": "2025-04-26T02:12:52.923Z"
   },
   {
    "duration": 12,
    "start_time": "2025-04-26T02:13:02.713Z"
   },
   {
    "duration": 14,
    "start_time": "2025-04-26T02:13:07.502Z"
   },
   {
    "duration": 5,
    "start_time": "2025-04-26T02:13:12.861Z"
   },
   {
    "duration": 21,
    "start_time": "2025-04-26T02:13:45.433Z"
   },
   {
    "duration": 9,
    "start_time": "2025-04-26T02:14:01.650Z"
   },
   {
    "duration": 9,
    "start_time": "2025-04-26T02:14:08.334Z"
   },
   {
    "duration": 4,
    "start_time": "2025-04-26T02:14:28.271Z"
   },
   {
    "duration": 4,
    "start_time": "2025-04-26T02:21:36.427Z"
   },
   {
    "duration": 3,
    "start_time": "2025-04-26T06:34:38.913Z"
   },
   {
    "duration": 7,
    "start_time": "2025-04-26T06:34:38.918Z"
   },
   {
    "duration": 17,
    "start_time": "2025-04-26T06:34:38.926Z"
   },
   {
    "duration": 1500,
    "start_time": "2025-04-26T06:34:38.945Z"
   },
   {
    "duration": 0,
    "start_time": "2025-04-26T06:34:40.447Z"
   },
   {
    "duration": 0,
    "start_time": "2025-04-26T06:34:40.448Z"
   },
   {
    "duration": 0,
    "start_time": "2025-04-26T06:34:40.449Z"
   },
   {
    "duration": 0,
    "start_time": "2025-04-26T06:34:40.450Z"
   },
   {
    "duration": 0,
    "start_time": "2025-04-26T06:34:40.452Z"
   },
   {
    "duration": 0,
    "start_time": "2025-04-26T06:34:40.453Z"
   },
   {
    "duration": 3596,
    "start_time": "2025-04-26T06:35:36.362Z"
   },
   {
    "duration": 214,
    "start_time": "2025-04-26T06:35:49.951Z"
   },
   {
    "duration": 19,
    "start_time": "2025-04-26T06:35:52.703Z"
   },
   {
    "duration": 16,
    "start_time": "2025-04-26T06:35:54.235Z"
   },
   {
    "duration": 17,
    "start_time": "2025-04-26T06:35:58.108Z"
   },
   {
    "duration": 8,
    "start_time": "2025-04-26T06:35:59.911Z"
   },
   {
    "duration": 10,
    "start_time": "2025-04-26T06:36:04.895Z"
   },
   {
    "duration": 12,
    "start_time": "2025-04-26T06:36:09.080Z"
   },
   {
    "duration": 4,
    "start_time": "2025-04-26T06:36:36.227Z"
   },
   {
    "duration": 3,
    "start_time": "2025-04-26T07:48:14.704Z"
   },
   {
    "duration": 12,
    "start_time": "2025-04-26T07:50:36.851Z"
   },
   {
    "duration": 13,
    "start_time": "2025-04-26T07:51:06.887Z"
   },
   {
    "duration": 3,
    "start_time": "2025-04-26T15:27:49.271Z"
   },
   {
    "duration": 74,
    "start_time": "2025-04-26T15:27:49.276Z"
   },
   {
    "duration": 58,
    "start_time": "2025-04-26T15:27:49.351Z"
   },
   {
    "duration": 3534,
    "start_time": "2025-04-26T15:27:49.411Z"
   },
   {
    "duration": 1523,
    "start_time": "2025-04-26T15:27:52.949Z"
   },
   {
    "duration": 242,
    "start_time": "2025-04-26T15:27:54.474Z"
   },
   {
    "duration": 22,
    "start_time": "2025-04-26T15:27:54.718Z"
   },
   {
    "duration": 38,
    "start_time": "2025-04-26T15:27:54.742Z"
   },
   {
    "duration": 11,
    "start_time": "2025-04-26T15:27:54.781Z"
   },
   {
    "duration": 109,
    "start_time": "2025-04-26T15:27:54.794Z"
   },
   {
    "duration": 12,
    "start_time": "2025-04-26T15:27:54.905Z"
   },
   {
    "duration": 13,
    "start_time": "2025-04-26T15:27:54.918Z"
   },
   {
    "duration": 6,
    "start_time": "2025-04-26T15:30:46.619Z"
   },
   {
    "duration": 5,
    "start_time": "2025-04-26T15:31:29.976Z"
   },
   {
    "duration": 9,
    "start_time": "2025-04-26T15:33:08.987Z"
   },
   {
    "duration": 7,
    "start_time": "2025-04-26T15:33:52.633Z"
   },
   {
    "duration": 14,
    "start_time": "2025-04-26T15:34:11.499Z"
   },
   {
    "duration": 6,
    "start_time": "2025-04-26T15:34:35.120Z"
   },
   {
    "duration": 110,
    "start_time": "2025-04-26T15:35:02.533Z"
   },
   {
    "duration": 6,
    "start_time": "2025-04-26T15:35:38.405Z"
   },
   {
    "duration": 9,
    "start_time": "2025-04-26T15:36:10.694Z"
   },
   {
    "duration": 6,
    "start_time": "2025-04-26T15:36:49.773Z"
   },
   {
    "duration": 9,
    "start_time": "2025-04-26T15:40:06.470Z"
   },
   {
    "duration": 18,
    "start_time": "2025-04-26T15:40:55.460Z"
   },
   {
    "duration": 12,
    "start_time": "2025-04-26T15:44:21.340Z"
   },
   {
    "duration": 5,
    "start_time": "2025-04-26T15:44:35.209Z"
   },
   {
    "duration": 4,
    "start_time": "2025-04-27T17:20:22.171Z"
   },
   {
    "duration": 172,
    "start_time": "2025-04-27T17:20:22.177Z"
   },
   {
    "duration": 5,
    "start_time": "2025-04-27T17:20:22.350Z"
   },
   {
    "duration": 3717,
    "start_time": "2025-04-27T17:20:22.356Z"
   },
   {
    "duration": 1554,
    "start_time": "2025-04-27T17:20:26.076Z"
   },
   {
    "duration": 192,
    "start_time": "2025-04-27T17:20:27.632Z"
   },
   {
    "duration": 18,
    "start_time": "2025-04-27T17:20:27.826Z"
   },
   {
    "duration": 16,
    "start_time": "2025-04-27T17:20:27.846Z"
   },
   {
    "duration": 11,
    "start_time": "2025-04-27T17:20:27.864Z"
   },
   {
    "duration": 13,
    "start_time": "2025-04-27T17:20:27.877Z"
   },
   {
    "duration": 12,
    "start_time": "2025-04-27T17:20:27.892Z"
   },
   {
    "duration": 117,
    "start_time": "2025-04-27T17:20:27.906Z"
   },
   {
    "duration": 128,
    "start_time": "2025-04-27T17:20:28.025Z"
   },
   {
    "duration": 0,
    "start_time": "2025-04-27T17:20:28.156Z"
   },
   {
    "duration": 0,
    "start_time": "2025-04-27T17:20:28.158Z"
   },
   {
    "duration": 0,
    "start_time": "2025-04-27T17:20:28.161Z"
   },
   {
    "duration": 11,
    "start_time": "2025-04-27T17:22:15.078Z"
   },
   {
    "duration": 4,
    "start_time": "2025-04-27T17:25:51.714Z"
   },
   {
    "duration": 6,
    "start_time": "2025-04-27T17:26:10.582Z"
   },
   {
    "duration": 5,
    "start_time": "2025-04-27T17:26:37.277Z"
   },
   {
    "duration": 7,
    "start_time": "2025-04-27T17:27:22.895Z"
   },
   {
    "duration": 5,
    "start_time": "2025-04-27T17:27:31.372Z"
   },
   {
    "duration": 9,
    "start_time": "2025-04-27T17:28:59.284Z"
   },
   {
    "duration": 23,
    "start_time": "2025-04-27T17:29:34.866Z"
   },
   {
    "duration": 6,
    "start_time": "2025-04-27T17:41:31.075Z"
   },
   {
    "duration": 16,
    "start_time": "2025-04-27T17:42:14.478Z"
   },
   {
    "duration": 16,
    "start_time": "2025-04-27T17:44:06.910Z"
   },
   {
    "duration": 20,
    "start_time": "2025-04-27T17:45:10.894Z"
   },
   {
    "duration": 20,
    "start_time": "2025-04-27T17:47:55.358Z"
   },
   {
    "duration": 20,
    "start_time": "2025-04-27T17:50:01.239Z"
   },
   {
    "duration": 15,
    "start_time": "2025-04-27T17:51:03.581Z"
   },
   {
    "duration": 4,
    "start_time": "2025-04-27T17:51:36.329Z"
   },
   {
    "duration": 269,
    "start_time": "2025-04-27T17:51:36.336Z"
   },
   {
    "duration": 23,
    "start_time": "2025-04-27T17:51:36.607Z"
   },
   {
    "duration": 2719,
    "start_time": "2025-04-27T17:51:36.632Z"
   },
   {
    "duration": 1308,
    "start_time": "2025-04-27T17:51:39.353Z"
   },
   {
    "duration": 201,
    "start_time": "2025-04-27T17:51:40.663Z"
   },
   {
    "duration": 17,
    "start_time": "2025-04-27T17:51:40.866Z"
   },
   {
    "duration": 14,
    "start_time": "2025-04-27T17:51:40.885Z"
   },
   {
    "duration": 10,
    "start_time": "2025-04-27T17:51:40.901Z"
   },
   {
    "duration": 28,
    "start_time": "2025-04-27T17:51:40.913Z"
   },
   {
    "duration": 23,
    "start_time": "2025-04-27T17:51:40.943Z"
   },
   {
    "duration": 19,
    "start_time": "2025-04-27T17:51:40.968Z"
   },
   {
    "duration": 12,
    "start_time": "2025-04-27T17:51:40.989Z"
   },
   {
    "duration": 58,
    "start_time": "2025-04-27T17:51:41.005Z"
   },
   {
    "duration": 132,
    "start_time": "2025-04-27T17:51:41.066Z"
   },
   {
    "duration": 0,
    "start_time": "2025-04-27T17:51:41.199Z"
   },
   {
    "duration": 0,
    "start_time": "2025-04-27T17:51:41.201Z"
   },
   {
    "duration": 17,
    "start_time": "2025-04-27T17:54:09.574Z"
   },
   {
    "duration": 17,
    "start_time": "2025-04-27T17:54:30.787Z"
   },
   {
    "duration": 135,
    "start_time": "2025-04-27T18:07:43.848Z"
   },
   {
    "duration": 18,
    "start_time": "2025-04-27T18:08:17.847Z"
   },
   {
    "duration": 7,
    "start_time": "2025-04-27T18:08:54.298Z"
   },
   {
    "duration": 20,
    "start_time": "2025-04-27T18:38:08.866Z"
   },
   {
    "duration": 21,
    "start_time": "2025-04-27T18:44:58.541Z"
   },
   {
    "duration": 21,
    "start_time": "2025-04-27T18:45:20.918Z"
   },
   {
    "duration": 20,
    "start_time": "2025-04-27T18:46:05.655Z"
   },
   {
    "duration": 20,
    "start_time": "2025-04-27T18:48:06.393Z"
   },
   {
    "duration": 21,
    "start_time": "2025-04-27T18:48:36.466Z"
   },
   {
    "duration": 9,
    "start_time": "2025-04-27T18:55:33.368Z"
   },
   {
    "duration": 34,
    "start_time": "2025-04-27T18:55:36.732Z"
   },
   {
    "duration": 14,
    "start_time": "2025-04-27T18:58:57.014Z"
   },
   {
    "duration": 10,
    "start_time": "2025-04-27T18:59:39.784Z"
   },
   {
    "duration": 18,
    "start_time": "2025-04-27T19:04:24.676Z"
   },
   {
    "duration": 7,
    "start_time": "2025-04-27T19:05:07.838Z"
   },
   {
    "duration": 7,
    "start_time": "2025-04-27T19:08:57.876Z"
   },
   {
    "duration": 17,
    "start_time": "2025-04-27T19:26:20.963Z"
   },
   {
    "duration": 23,
    "start_time": "2025-04-27T19:40:03.892Z"
   },
   {
    "duration": 23,
    "start_time": "2025-04-27T19:41:31.907Z"
   },
   {
    "duration": 17,
    "start_time": "2025-04-27T19:54:29.030Z"
   },
   {
    "duration": 22,
    "start_time": "2025-04-27T19:54:56.667Z"
   },
   {
    "duration": 24,
    "start_time": "2025-04-27T19:59:56.088Z"
   },
   {
    "duration": 23,
    "start_time": "2025-04-27T20:06:09.899Z"
   },
   {
    "duration": 21,
    "start_time": "2025-04-27T20:13:57.129Z"
   },
   {
    "duration": 17,
    "start_time": "2025-04-27T20:14:49.921Z"
   },
   {
    "duration": 21,
    "start_time": "2025-04-27T20:16:49.115Z"
   },
   {
    "duration": 4,
    "start_time": "2025-04-29T02:30:07.080Z"
   },
   {
    "duration": 44,
    "start_time": "2025-04-29T02:30:07.086Z"
   },
   {
    "duration": 11,
    "start_time": "2025-04-29T02:30:07.133Z"
   },
   {
    "duration": 3674,
    "start_time": "2025-04-29T02:30:07.145Z"
   },
   {
    "duration": 1492,
    "start_time": "2025-04-29T02:30:10.821Z"
   },
   {
    "duration": 316,
    "start_time": "2025-04-29T02:30:12.315Z"
   },
   {
    "duration": 17,
    "start_time": "2025-04-29T02:30:12.634Z"
   },
   {
    "duration": 16,
    "start_time": "2025-04-29T02:30:12.653Z"
   },
   {
    "duration": 15,
    "start_time": "2025-04-29T02:30:12.670Z"
   },
   {
    "duration": 26,
    "start_time": "2025-04-29T02:30:12.687Z"
   },
   {
    "duration": 12,
    "start_time": "2025-04-29T02:30:12.715Z"
   },
   {
    "duration": 27,
    "start_time": "2025-04-29T02:30:12.729Z"
   },
   {
    "duration": 8,
    "start_time": "2025-04-29T02:30:12.758Z"
   },
   {
    "duration": 6,
    "start_time": "2025-04-29T02:30:12.769Z"
   },
   {
    "duration": 51,
    "start_time": "2025-04-29T02:30:12.777Z"
   },
   {
    "duration": 8,
    "start_time": "2025-04-29T02:30:12.830Z"
   },
   {
    "duration": 11,
    "start_time": "2025-04-29T02:30:12.839Z"
   },
   {
    "duration": 21,
    "start_time": "2025-04-29T02:30:12.851Z"
   },
   {
    "duration": 33,
    "start_time": "2025-04-29T02:32:24.638Z"
   },
   {
    "duration": 35,
    "start_time": "2025-04-29T02:41:04.529Z"
   },
   {
    "duration": 33,
    "start_time": "2025-04-29T02:44:28.099Z"
   },
   {
    "duration": 28,
    "start_time": "2025-04-29T02:50:02.545Z"
   },
   {
    "duration": 130,
    "start_time": "2025-04-29T02:51:02.361Z"
   },
   {
    "duration": 72,
    "start_time": "2025-04-29T02:51:52.831Z"
   },
   {
    "duration": 26,
    "start_time": "2025-04-29T02:52:06.789Z"
   },
   {
    "duration": 24,
    "start_time": "2025-04-29T02:55:25.033Z"
   },
   {
    "duration": 23,
    "start_time": "2025-04-29T02:56:15.608Z"
   },
   {
    "duration": 21,
    "start_time": "2025-04-29T02:58:13.740Z"
   },
   {
    "duration": 26,
    "start_time": "2025-04-29T02:58:35.181Z"
   },
   {
    "duration": 22,
    "start_time": "2025-04-29T02:59:02.470Z"
   },
   {
    "duration": 22,
    "start_time": "2025-04-29T02:59:13.403Z"
   },
   {
    "duration": 22,
    "start_time": "2025-04-29T02:59:47.028Z"
   },
   {
    "duration": 22,
    "start_time": "2025-04-29T03:00:47.888Z"
   },
   {
    "duration": 36,
    "start_time": "2025-04-29T03:02:05.640Z"
   },
   {
    "duration": 38,
    "start_time": "2025-04-29T03:03:15.235Z"
   },
   {
    "duration": 31,
    "start_time": "2025-04-29T03:03:56.726Z"
   },
   {
    "duration": 39,
    "start_time": "2025-04-29T03:04:14.233Z"
   },
   {
    "duration": 33,
    "start_time": "2025-04-29T03:06:26.723Z"
   },
   {
    "duration": 27,
    "start_time": "2025-04-29T03:06:46.631Z"
   },
   {
    "duration": 50,
    "start_time": "2025-04-29T03:06:58.940Z"
   },
   {
    "duration": 61,
    "start_time": "2025-04-29T03:18:48.261Z"
   },
   {
    "duration": 54,
    "start_time": "2025-04-29T03:20:18.590Z"
   },
   {
    "duration": 53,
    "start_time": "2025-04-29T03:20:50.328Z"
   },
   {
    "duration": 83,
    "start_time": "2025-04-29T03:22:01.988Z"
   },
   {
    "duration": 53,
    "start_time": "2025-04-29T03:22:15.912Z"
   },
   {
    "duration": 50,
    "start_time": "2025-04-29T03:22:49.121Z"
   },
   {
    "duration": 83,
    "start_time": "2025-04-29T03:24:29.474Z"
   },
   {
    "duration": 23,
    "start_time": "2025-04-29T03:24:42.863Z"
   },
   {
    "duration": 13,
    "start_time": "2025-04-29T03:27:37.364Z"
   },
   {
    "duration": 14,
    "start_time": "2025-04-29T03:29:06.803Z"
   },
   {
    "duration": 6,
    "start_time": "2025-04-29T03:29:13.778Z"
   },
   {
    "duration": 34,
    "start_time": "2025-04-29T03:30:38.274Z"
   },
   {
    "duration": 8,
    "start_time": "2025-04-29T03:32:35.155Z"
   },
   {
    "duration": 9,
    "start_time": "2025-04-29T03:33:59.654Z"
   },
   {
    "duration": 4,
    "start_time": "2025-04-29T12:10:36.004Z"
   },
   {
    "duration": 6,
    "start_time": "2025-04-29T12:10:36.009Z"
   },
   {
    "duration": 6,
    "start_time": "2025-04-29T12:10:36.017Z"
   },
   {
    "duration": 3136,
    "start_time": "2025-04-29T12:10:36.025Z"
   },
   {
    "duration": 1334,
    "start_time": "2025-04-29T12:10:39.164Z"
   },
   {
    "duration": 145,
    "start_time": "2025-04-29T12:10:40.500Z"
   },
   {
    "duration": 16,
    "start_time": "2025-04-29T12:10:40.647Z"
   },
   {
    "duration": 24,
    "start_time": "2025-04-29T12:10:40.665Z"
   },
   {
    "duration": 10,
    "start_time": "2025-04-29T12:10:40.691Z"
   },
   {
    "duration": 10,
    "start_time": "2025-04-29T12:10:40.702Z"
   },
   {
    "duration": 31,
    "start_time": "2025-04-29T12:10:40.713Z"
   },
   {
    "duration": 13,
    "start_time": "2025-04-29T12:10:40.745Z"
   },
   {
    "duration": 6,
    "start_time": "2025-04-29T12:10:40.760Z"
   },
   {
    "duration": 5,
    "start_time": "2025-04-29T12:10:40.770Z"
   },
   {
    "duration": 22,
    "start_time": "2025-04-29T12:10:40.776Z"
   },
   {
    "duration": 9,
    "start_time": "2025-04-29T12:10:40.836Z"
   },
   {
    "duration": 17,
    "start_time": "2025-04-29T12:10:40.846Z"
   },
   {
    "duration": 32,
    "start_time": "2025-04-29T12:10:40.865Z"
   },
   {
    "duration": 106,
    "start_time": "2025-04-29T12:10:40.899Z"
   },
   {
    "duration": 6,
    "start_time": "2025-04-29T12:10:41.007Z"
   },
   {
    "duration": 9,
    "start_time": "2025-04-29T12:10:41.014Z"
   },
   {
    "duration": 105,
    "start_time": "2025-04-29T12:18:50.676Z"
   },
   {
    "duration": 21,
    "start_time": "2025-04-29T12:20:11.173Z"
   },
   {
    "duration": 21,
    "start_time": "2025-04-29T12:21:15.094Z"
   },
   {
    "duration": 30,
    "start_time": "2025-04-29T12:23:51.813Z"
   },
   {
    "duration": 28,
    "start_time": "2025-04-29T12:27:50.549Z"
   },
   {
    "duration": 36,
    "start_time": "2025-04-29T12:28:54.207Z"
   },
   {
    "duration": 28,
    "start_time": "2025-04-29T12:35:41.944Z"
   },
   {
    "duration": 90,
    "start_time": "2025-04-29T12:50:25.977Z"
   },
   {
    "duration": 9,
    "start_time": "2025-04-29T12:50:38.948Z"
   },
   {
    "duration": 192,
    "start_time": "2025-04-29T12:51:21.563Z"
   },
   {
    "duration": 205,
    "start_time": "2025-04-29T12:52:25.300Z"
   },
   {
    "duration": 174,
    "start_time": "2025-04-29T12:53:12.288Z"
   },
   {
    "duration": 1026,
    "start_time": "2025-04-29T13:04:17.347Z"
   },
   {
    "duration": 81,
    "start_time": "2025-04-29T13:08:36.971Z"
   },
   {
    "duration": 1648,
    "start_time": "2025-04-29T13:08:51.004Z"
   },
   {
    "duration": 12,
    "start_time": "2025-04-29T13:21:58.106Z"
   },
   {
    "duration": 35,
    "start_time": "2025-04-29T13:23:30.634Z"
   },
   {
    "duration": 17,
    "start_time": "2025-04-29T13:38:26.504Z"
   },
   {
    "duration": 6,
    "start_time": "2025-04-29T13:38:29.877Z"
   },
   {
    "duration": 12,
    "start_time": "2025-04-29T13:42:04.817Z"
   },
   {
    "duration": 6,
    "start_time": "2025-04-29T13:42:06.125Z"
   },
   {
    "duration": 15,
    "start_time": "2025-04-29T14:03:20.341Z"
   },
   {
    "duration": 21,
    "start_time": "2025-04-29T14:03:37.943Z"
   },
   {
    "duration": 1598,
    "start_time": "2025-04-29T15:02:54.287Z"
   },
   {
    "duration": 3,
    "start_time": "2025-04-29T15:03:06.706Z"
   },
   {
    "duration": 8,
    "start_time": "2025-04-29T15:03:06.712Z"
   },
   {
    "duration": 6,
    "start_time": "2025-04-29T15:03:06.722Z"
   },
   {
    "duration": 2369,
    "start_time": "2025-04-29T15:03:06.729Z"
   },
   {
    "duration": 1145,
    "start_time": "2025-04-29T15:03:09.099Z"
   },
   {
    "duration": 237,
    "start_time": "2025-04-29T15:03:10.247Z"
   },
   {
    "duration": 15,
    "start_time": "2025-04-29T15:03:10.486Z"
   },
   {
    "duration": 20,
    "start_time": "2025-04-29T15:03:10.503Z"
   },
   {
    "duration": 10,
    "start_time": "2025-04-29T15:03:10.524Z"
   },
   {
    "duration": 13,
    "start_time": "2025-04-29T15:03:10.535Z"
   },
   {
    "duration": 11,
    "start_time": "2025-04-29T15:03:10.549Z"
   },
   {
    "duration": 15,
    "start_time": "2025-04-29T15:03:10.561Z"
   },
   {
    "duration": 6,
    "start_time": "2025-04-29T15:03:10.577Z"
   },
   {
    "duration": 8,
    "start_time": "2025-04-29T15:03:10.585Z"
   },
   {
    "duration": 52,
    "start_time": "2025-04-29T15:03:10.595Z"
   },
   {
    "duration": 7,
    "start_time": "2025-04-29T15:03:10.649Z"
   },
   {
    "duration": 23,
    "start_time": "2025-04-29T15:03:10.658Z"
   },
   {
    "duration": 35,
    "start_time": "2025-04-29T15:03:10.683Z"
   },
   {
    "duration": 32,
    "start_time": "2025-04-29T15:03:10.720Z"
   },
   {
    "duration": 11,
    "start_time": "2025-04-29T15:03:10.753Z"
   },
   {
    "duration": 5,
    "start_time": "2025-04-29T15:03:10.765Z"
   },
   {
    "duration": 1606,
    "start_time": "2025-04-29T15:03:10.772Z"
   },
   {
    "duration": 83,
    "start_time": "2025-04-29T15:14:44.347Z"
   },
   {
    "duration": 7,
    "start_time": "2025-04-29T15:15:36.796Z"
   },
   {
    "duration": 7,
    "start_time": "2025-04-29T15:16:22.934Z"
   },
   {
    "duration": 103,
    "start_time": "2025-04-29T15:17:10.357Z"
   },
   {
    "duration": 8,
    "start_time": "2025-04-29T15:18:30.662Z"
   },
   {
    "duration": 12,
    "start_time": "2025-04-29T15:24:31.573Z"
   },
   {
    "duration": 6,
    "start_time": "2025-04-29T15:24:53.506Z"
   },
   {
    "duration": 160,
    "start_time": "2025-04-29T15:24:55.745Z"
   },
   {
    "duration": 155,
    "start_time": "2025-04-29T15:25:31.263Z"
   },
   {
    "duration": 148,
    "start_time": "2025-04-29T15:25:49.974Z"
   },
   {
    "duration": 161,
    "start_time": "2025-04-29T15:31:01.784Z"
   },
   {
    "duration": 142,
    "start_time": "2025-04-29T15:31:29.025Z"
   },
   {
    "duration": 144,
    "start_time": "2025-04-29T15:34:03.163Z"
   },
   {
    "duration": 7,
    "start_time": "2025-04-29T15:40:25.112Z"
   },
   {
    "duration": 88,
    "start_time": "2025-04-29T15:41:40.649Z"
   },
   {
    "duration": 8,
    "start_time": "2025-04-29T15:42:02.652Z"
   },
   {
    "duration": 8,
    "start_time": "2025-04-29T15:42:32.412Z"
   },
   {
    "duration": 6,
    "start_time": "2025-04-29T15:44:03.979Z"
   },
   {
    "duration": 7,
    "start_time": "2025-04-29T15:44:41.663Z"
   },
   {
    "duration": 197,
    "start_time": "2025-04-29T15:45:24.826Z"
   },
   {
    "duration": 1420,
    "start_time": "2025-04-29T15:51:00.412Z"
   },
   {
    "duration": 4,
    "start_time": "2025-04-29T15:51:42.038Z"
   },
   {
    "duration": 1325,
    "start_time": "2025-04-29T15:52:19.977Z"
   },
   {
    "duration": 1345,
    "start_time": "2025-04-29T15:52:53.272Z"
   },
   {
    "duration": 1603,
    "start_time": "2025-04-29T15:59:08.241Z"
   },
   {
    "duration": 76,
    "start_time": "2025-04-29T16:00:06.225Z"
   },
   {
    "duration": 1363,
    "start_time": "2025-04-29T16:00:55.362Z"
   },
   {
    "duration": 292,
    "start_time": "2025-04-29T16:01:49.180Z"
   },
   {
    "duration": 209,
    "start_time": "2025-04-29T16:02:21.177Z"
   },
   {
    "duration": 213,
    "start_time": "2025-04-29T16:02:42.629Z"
   },
   {
    "duration": 230,
    "start_time": "2025-04-29T16:03:04.317Z"
   },
   {
    "duration": 231,
    "start_time": "2025-04-29T16:03:16.441Z"
   },
   {
    "duration": 4,
    "start_time": "2025-04-30T03:49:56.700Z"
   },
   {
    "duration": 13,
    "start_time": "2025-04-30T03:49:56.706Z"
   },
   {
    "duration": 14,
    "start_time": "2025-04-30T03:49:56.720Z"
   },
   {
    "duration": 3610,
    "start_time": "2025-04-30T03:49:56.736Z"
   },
   {
    "duration": 1476,
    "start_time": "2025-04-30T03:50:00.349Z"
   },
   {
    "duration": 256,
    "start_time": "2025-04-30T03:50:01.827Z"
   },
   {
    "duration": 18,
    "start_time": "2025-04-30T03:50:02.085Z"
   },
   {
    "duration": 66,
    "start_time": "2025-04-30T03:50:02.105Z"
   },
   {
    "duration": 70,
    "start_time": "2025-04-30T03:50:02.173Z"
   },
   {
    "duration": 67,
    "start_time": "2025-04-30T03:50:02.244Z"
   },
   {
    "duration": 102,
    "start_time": "2025-04-30T03:50:02.313Z"
   },
   {
    "duration": 81,
    "start_time": "2025-04-30T03:50:02.417Z"
   },
   {
    "duration": 42,
    "start_time": "2025-04-30T03:50:02.500Z"
   },
   {
    "duration": 25,
    "start_time": "2025-04-30T03:50:02.545Z"
   },
   {
    "duration": 136,
    "start_time": "2025-04-30T03:50:02.572Z"
   },
   {
    "duration": 42,
    "start_time": "2025-04-30T03:50:02.710Z"
   },
   {
    "duration": 39,
    "start_time": "2025-04-30T03:50:02.754Z"
   },
   {
    "duration": 40,
    "start_time": "2025-04-30T03:50:02.795Z"
   },
   {
    "duration": 31,
    "start_time": "2025-04-30T03:50:02.837Z"
   },
   {
    "duration": 86,
    "start_time": "2025-04-30T03:50:02.870Z"
   },
   {
    "duration": 15,
    "start_time": "2025-04-30T03:50:02.958Z"
   },
   {
    "duration": 1836,
    "start_time": "2025-04-30T03:50:02.974Z"
   },
   {
    "duration": 6,
    "start_time": "2025-04-30T03:50:04.812Z"
   },
   {
    "duration": 234,
    "start_time": "2025-04-30T03:50:04.819Z"
   },
   {
    "duration": 6,
    "start_time": "2025-04-30T03:50:05.055Z"
   },
   {
    "duration": 272,
    "start_time": "2025-04-30T03:50:05.063Z"
   },
   {
    "duration": 1510,
    "start_time": "2025-04-30T03:50:05.337Z"
   },
   {
    "duration": 228,
    "start_time": "2025-04-30T03:59:02.936Z"
   },
   {
    "duration": 6,
    "start_time": "2025-04-30T03:59:21.563Z"
   },
   {
    "duration": 254,
    "start_time": "2025-04-30T04:00:05.109Z"
   },
   {
    "duration": 233,
    "start_time": "2025-04-30T04:00:51.726Z"
   },
   {
    "duration": 7,
    "start_time": "2025-04-30T04:01:56.229Z"
   },
   {
    "duration": 3,
    "start_time": "2025-04-30T04:03:09.066Z"
   },
   {
    "duration": 9,
    "start_time": "2025-04-30T04:03:27.003Z"
   },
   {
    "duration": 14,
    "start_time": "2025-04-30T04:05:53.001Z"
   },
   {
    "duration": 1488,
    "start_time": "2025-04-30T04:06:11.290Z"
   },
   {
    "duration": 15,
    "start_time": "2025-04-30T04:06:46.563Z"
   },
   {
    "duration": 9,
    "start_time": "2025-04-30T04:08:47.054Z"
   },
   {
    "duration": 8,
    "start_time": "2025-04-30T04:09:54.466Z"
   },
   {
    "duration": 4,
    "start_time": "2025-04-30T08:52:46.262Z"
   },
   {
    "duration": 36,
    "start_time": "2025-04-30T08:52:46.270Z"
   },
   {
    "duration": 6,
    "start_time": "2025-04-30T08:52:46.308Z"
   },
   {
    "duration": 3602,
    "start_time": "2025-04-30T08:52:46.316Z"
   },
   {
    "duration": 1491,
    "start_time": "2025-04-30T08:52:49.920Z"
   },
   {
    "duration": 165,
    "start_time": "2025-04-30T08:52:51.413Z"
   },
   {
    "duration": 16,
    "start_time": "2025-04-30T08:52:51.579Z"
   },
   {
    "duration": 23,
    "start_time": "2025-04-30T08:52:51.597Z"
   },
   {
    "duration": 24,
    "start_time": "2025-04-30T08:52:51.622Z"
   },
   {
    "duration": 24,
    "start_time": "2025-04-30T08:52:51.648Z"
   },
   {
    "duration": 10,
    "start_time": "2025-04-30T08:52:51.674Z"
   },
   {
    "duration": 28,
    "start_time": "2025-04-30T08:52:51.686Z"
   },
   {
    "duration": 26,
    "start_time": "2025-04-30T08:52:51.716Z"
   },
   {
    "duration": 10,
    "start_time": "2025-04-30T08:52:51.744Z"
   },
   {
    "duration": 43,
    "start_time": "2025-04-30T08:52:51.756Z"
   },
   {
    "duration": 8,
    "start_time": "2025-04-30T08:52:51.801Z"
   },
   {
    "duration": 12,
    "start_time": "2025-04-30T08:52:51.810Z"
   },
   {
    "duration": 22,
    "start_time": "2025-04-30T08:52:51.824Z"
   },
   {
    "duration": 30,
    "start_time": "2025-04-30T08:52:51.847Z"
   },
   {
    "duration": 35,
    "start_time": "2025-04-30T08:52:51.878Z"
   },
   {
    "duration": 6,
    "start_time": "2025-04-30T08:52:51.915Z"
   },
   {
    "duration": 1696,
    "start_time": "2025-04-30T08:52:51.922Z"
   },
   {
    "duration": 6,
    "start_time": "2025-04-30T08:52:53.620Z"
   },
   {
    "duration": 200,
    "start_time": "2025-04-30T08:52:53.627Z"
   },
   {
    "duration": 7,
    "start_time": "2025-04-30T08:52:53.829Z"
   },
   {
    "duration": 239,
    "start_time": "2025-04-30T08:52:53.838Z"
   },
   {
    "duration": 8,
    "start_time": "2025-04-30T08:52:54.079Z"
   },
   {
    "duration": 7,
    "start_time": "2025-04-30T08:54:02.678Z"
   },
   {
    "duration": 235,
    "start_time": "2025-04-30T08:54:05.771Z"
   },
   {
    "duration": 226,
    "start_time": "2025-04-30T08:54:33.255Z"
   },
   {
    "duration": 221,
    "start_time": "2025-04-30T08:55:58.731Z"
   },
   {
    "duration": 219,
    "start_time": "2025-04-30T08:56:31.238Z"
   },
   {
    "duration": 247,
    "start_time": "2025-04-30T09:02:50.920Z"
   },
   {
    "duration": 313,
    "start_time": "2025-04-30T09:03:02.982Z"
   },
   {
    "duration": 258,
    "start_time": "2025-04-30T09:06:08.046Z"
   },
   {
    "duration": 119,
    "start_time": "2025-04-30T09:09:51.497Z"
   },
   {
    "duration": 172,
    "start_time": "2025-04-30T09:10:23.770Z"
   },
   {
    "duration": 167,
    "start_time": "2025-04-30T09:11:35.562Z"
   },
   {
    "duration": 167,
    "start_time": "2025-04-30T09:11:59.459Z"
   },
   {
    "duration": 191,
    "start_time": "2025-04-30T09:12:15.900Z"
   },
   {
    "duration": 211,
    "start_time": "2025-04-30T09:12:36.202Z"
   },
   {
    "duration": 8,
    "start_time": "2025-04-30T09:21:21.355Z"
   },
   {
    "duration": 8,
    "start_time": "2025-04-30T09:21:36.153Z"
   },
   {
    "duration": 12,
    "start_time": "2025-04-30T09:25:48.327Z"
   },
   {
    "duration": 11,
    "start_time": "2025-04-30T09:26:06.636Z"
   },
   {
    "duration": 10,
    "start_time": "2025-04-30T09:26:40.191Z"
   },
   {
    "duration": 3,
    "start_time": "2025-04-30T18:36:52.003Z"
   },
   {
    "duration": 29,
    "start_time": "2025-04-30T18:36:52.008Z"
   },
   {
    "duration": 22,
    "start_time": "2025-04-30T18:36:52.039Z"
   },
   {
    "duration": 4145,
    "start_time": "2025-04-30T18:36:52.063Z"
   },
   {
    "duration": 1507,
    "start_time": "2025-04-30T18:36:56.211Z"
   },
   {
    "duration": 282,
    "start_time": "2025-04-30T18:36:57.719Z"
   },
   {
    "duration": 16,
    "start_time": "2025-04-30T18:36:58.003Z"
   },
   {
    "duration": 16,
    "start_time": "2025-04-30T18:36:58.021Z"
   },
   {
    "duration": 9,
    "start_time": "2025-04-30T18:36:58.039Z"
   },
   {
    "duration": 11,
    "start_time": "2025-04-30T18:36:58.049Z"
   },
   {
    "duration": 40,
    "start_time": "2025-04-30T18:36:58.062Z"
   },
   {
    "duration": 14,
    "start_time": "2025-04-30T18:36:58.104Z"
   },
   {
    "duration": 5,
    "start_time": "2025-04-30T18:36:58.120Z"
   },
   {
    "duration": 5,
    "start_time": "2025-04-30T18:36:58.128Z"
   },
   {
    "duration": 20,
    "start_time": "2025-04-30T18:36:58.135Z"
   },
   {
    "duration": 8,
    "start_time": "2025-04-30T18:36:58.157Z"
   },
   {
    "duration": 126,
    "start_time": "2025-04-30T18:36:58.167Z"
   },
   {
    "duration": 25,
    "start_time": "2025-04-30T18:36:58.295Z"
   },
   {
    "duration": 30,
    "start_time": "2025-04-30T18:36:58.322Z"
   },
   {
    "duration": 12,
    "start_time": "2025-04-30T18:36:58.354Z"
   },
   {
    "duration": 5,
    "start_time": "2025-04-30T18:36:58.368Z"
   },
   {
    "duration": 1849,
    "start_time": "2025-04-30T18:36:58.374Z"
   },
   {
    "duration": 6,
    "start_time": "2025-04-30T18:37:00.225Z"
   },
   {
    "duration": 273,
    "start_time": "2025-04-30T18:37:00.233Z"
   },
   {
    "duration": 7,
    "start_time": "2025-04-30T18:37:00.507Z"
   },
   {
    "duration": 246,
    "start_time": "2025-04-30T18:37:00.516Z"
   },
   {
    "duration": 10,
    "start_time": "2025-04-30T18:37:00.764Z"
   },
   {
    "duration": 208,
    "start_time": "2025-04-30T18:37:00.776Z"
   },
   {
    "duration": 7,
    "start_time": "2025-04-30T18:41:37.883Z"
   },
   {
    "duration": 166,
    "start_time": "2025-04-30T18:41:43.482Z"
   },
   {
    "duration": 74,
    "start_time": "2025-04-30T18:43:29.216Z"
   },
   {
    "duration": 77,
    "start_time": "2025-04-30T18:43:37.977Z"
   },
   {
    "duration": 9,
    "start_time": "2025-04-30T18:43:46.715Z"
   },
   {
    "duration": 9,
    "start_time": "2025-04-30T18:46:24.634Z"
   },
   {
    "duration": 211,
    "start_time": "2025-04-30T18:58:13.147Z"
   },
   {
    "duration": 227,
    "start_time": "2025-04-30T18:58:36.598Z"
   },
   {
    "duration": 307,
    "start_time": "2025-04-30T18:59:06.668Z"
   },
   {
    "duration": 114,
    "start_time": "2025-04-30T19:32:18.214Z"
   },
   {
    "duration": 148,
    "start_time": "2025-04-30T19:32:39.013Z"
   },
   {
    "duration": 11,
    "start_time": "2025-04-30T19:37:41.304Z"
   },
   {
    "duration": 13,
    "start_time": "2025-04-30T19:40:22.138Z"
   },
   {
    "duration": 147,
    "start_time": "2025-04-30T19:43:46.780Z"
   },
   {
    "duration": 10,
    "start_time": "2025-04-30T19:44:03.385Z"
   },
   {
    "duration": 164,
    "start_time": "2025-04-30T19:44:19.889Z"
   },
   {
    "duration": 3,
    "start_time": "2025-05-01T03:41:13.265Z"
   },
   {
    "duration": 4,
    "start_time": "2025-05-01T03:41:13.271Z"
   },
   {
    "duration": 7,
    "start_time": "2025-05-01T03:41:13.276Z"
   },
   {
    "duration": 3442,
    "start_time": "2025-05-01T03:41:13.284Z"
   },
   {
    "duration": 1318,
    "start_time": "2025-05-01T03:41:16.728Z"
   },
   {
    "duration": 435,
    "start_time": "2025-05-01T03:41:18.048Z"
   },
   {
    "duration": 14,
    "start_time": "2025-05-01T03:41:18.485Z"
   },
   {
    "duration": 13,
    "start_time": "2025-05-01T03:41:18.501Z"
   },
   {
    "duration": 9,
    "start_time": "2025-05-01T03:41:18.515Z"
   },
   {
    "duration": 10,
    "start_time": "2025-05-01T03:41:18.525Z"
   },
   {
    "duration": 31,
    "start_time": "2025-05-01T03:41:18.537Z"
   },
   {
    "duration": 12,
    "start_time": "2025-05-01T03:41:18.569Z"
   },
   {
    "duration": 7,
    "start_time": "2025-05-01T03:41:18.583Z"
   },
   {
    "duration": 5,
    "start_time": "2025-05-01T03:41:18.592Z"
   },
   {
    "duration": 19,
    "start_time": "2025-05-01T03:41:18.599Z"
   },
   {
    "duration": 6,
    "start_time": "2025-05-01T03:41:18.619Z"
   },
   {
    "duration": 39,
    "start_time": "2025-05-01T03:41:18.627Z"
   },
   {
    "duration": 21,
    "start_time": "2025-05-01T03:41:18.667Z"
   },
   {
    "duration": 27,
    "start_time": "2025-05-01T03:41:18.689Z"
   },
   {
    "duration": 12,
    "start_time": "2025-05-01T03:41:18.718Z"
   },
   {
    "duration": 5,
    "start_time": "2025-05-01T03:41:18.763Z"
   },
   {
    "duration": 1526,
    "start_time": "2025-05-01T03:41:18.770Z"
   },
   {
    "duration": 6,
    "start_time": "2025-05-01T03:41:20.297Z"
   },
   {
    "duration": 167,
    "start_time": "2025-05-01T03:41:20.304Z"
   },
   {
    "duration": 8,
    "start_time": "2025-05-01T03:41:20.473Z"
   },
   {
    "duration": 201,
    "start_time": "2025-05-01T03:41:20.483Z"
   },
   {
    "duration": 10,
    "start_time": "2025-05-01T03:41:20.686Z"
   },
   {
    "duration": 181,
    "start_time": "2025-05-01T03:41:20.697Z"
   },
   {
    "duration": 144,
    "start_time": "2025-05-01T03:41:20.880Z"
   },
   {
    "duration": 186,
    "start_time": "2025-05-01T03:41:21.027Z"
   },
   {
    "duration": 3,
    "start_time": "2025-05-01T03:48:20.789Z"
   },
   {
    "duration": 17,
    "start_time": "2025-05-01T03:48:20.794Z"
   },
   {
    "duration": 33,
    "start_time": "2025-05-01T03:48:20.813Z"
   },
   {
    "duration": 2260,
    "start_time": "2025-05-01T03:48:20.847Z"
   },
   {
    "duration": 1199,
    "start_time": "2025-05-01T03:48:23.110Z"
   },
   {
    "duration": 350,
    "start_time": "2025-05-01T03:48:24.310Z"
   },
   {
    "duration": 14,
    "start_time": "2025-05-01T03:48:24.661Z"
   },
   {
    "duration": 12,
    "start_time": "2025-05-01T03:48:24.676Z"
   },
   {
    "duration": 9,
    "start_time": "2025-05-01T03:48:24.689Z"
   },
   {
    "duration": 13,
    "start_time": "2025-05-01T03:48:24.699Z"
   },
   {
    "duration": 20,
    "start_time": "2025-05-01T03:48:24.713Z"
   },
   {
    "duration": 30,
    "start_time": "2025-05-01T03:48:24.734Z"
   },
   {
    "duration": 6,
    "start_time": "2025-05-01T03:48:24.765Z"
   },
   {
    "duration": 5,
    "start_time": "2025-05-01T03:48:24.773Z"
   },
   {
    "duration": 18,
    "start_time": "2025-05-01T03:48:24.779Z"
   },
   {
    "duration": 6,
    "start_time": "2025-05-01T03:48:24.798Z"
   },
   {
    "duration": 8,
    "start_time": "2025-05-01T03:48:24.805Z"
   },
   {
    "duration": 52,
    "start_time": "2025-05-01T03:48:24.814Z"
   },
   {
    "duration": 24,
    "start_time": "2025-05-01T03:48:24.868Z"
   },
   {
    "duration": 10,
    "start_time": "2025-05-01T03:48:24.893Z"
   },
   {
    "duration": 4,
    "start_time": "2025-05-01T03:48:24.904Z"
   },
   {
    "duration": 1615,
    "start_time": "2025-05-01T03:48:24.910Z"
   },
   {
    "duration": 6,
    "start_time": "2025-05-01T03:48:26.527Z"
   },
   {
    "duration": 170,
    "start_time": "2025-05-01T03:48:26.534Z"
   },
   {
    "duration": 7,
    "start_time": "2025-05-01T03:48:26.706Z"
   },
   {
    "duration": 198,
    "start_time": "2025-05-01T03:48:26.715Z"
   },
   {
    "duration": 9,
    "start_time": "2025-05-01T03:48:26.914Z"
   },
   {
    "duration": 178,
    "start_time": "2025-05-01T03:48:26.925Z"
   },
   {
    "duration": 8,
    "start_time": "2025-05-01T03:48:27.104Z"
   },
   {
    "duration": 201,
    "start_time": "2025-05-01T03:48:27.113Z"
   },
   {
    "duration": 13,
    "start_time": "2025-05-01T03:49:04.069Z"
   },
   {
    "duration": 138,
    "start_time": "2025-05-01T03:52:08.926Z"
   },
   {
    "duration": 150,
    "start_time": "2025-05-01T03:52:09.065Z"
   },
   {
    "duration": 1501,
    "start_time": "2025-05-01T03:52:19.999Z"
   },
   {
    "duration": 6,
    "start_time": "2025-05-01T03:52:26.642Z"
   },
   {
    "duration": 147,
    "start_time": "2025-05-01T03:52:30.218Z"
   },
   {
    "duration": 9,
    "start_time": "2025-05-01T03:52:44.227Z"
   },
   {
    "duration": 188,
    "start_time": "2025-05-01T03:52:49.879Z"
   },
   {
    "duration": 10,
    "start_time": "2025-05-01T03:52:53.149Z"
   },
   {
    "duration": 162,
    "start_time": "2025-05-01T03:52:56.542Z"
   },
   {
    "duration": 128,
    "start_time": "2025-05-01T03:52:59.710Z"
   },
   {
    "duration": 203,
    "start_time": "2025-05-01T03:53:01.992Z"
   },
   {
    "duration": 190,
    "start_time": "2025-05-01T03:58:42.731Z"
   },
   {
    "duration": 102,
    "start_time": "2025-05-01T03:59:31.314Z"
   },
   {
    "duration": 116,
    "start_time": "2025-05-01T03:59:49.298Z"
   },
   {
    "duration": 7,
    "start_time": "2025-05-01T04:07:13.412Z"
   },
   {
    "duration": 10,
    "start_time": "2025-05-01T04:10:24.708Z"
   },
   {
    "duration": 9,
    "start_time": "2025-05-01T04:10:36.791Z"
   },
   {
    "duration": 10,
    "start_time": "2025-05-01T04:10:52.381Z"
   },
   {
    "duration": 10,
    "start_time": "2025-05-01T04:12:46.472Z"
   },
   {
    "duration": 10,
    "start_time": "2025-05-01T04:12:59.635Z"
   },
   {
    "duration": 10,
    "start_time": "2025-05-01T04:13:08.607Z"
   },
   {
    "duration": 11,
    "start_time": "2025-05-01T04:13:23.149Z"
   },
   {
    "duration": 4,
    "start_time": "2025-05-01T04:13:28.718Z"
   },
   {
    "duration": 11,
    "start_time": "2025-05-01T04:19:34.869Z"
   },
   {
    "duration": 7,
    "start_time": "2025-05-01T04:20:37.185Z"
   },
   {
    "duration": 169,
    "start_time": "2025-05-01T04:23:27.370Z"
   },
   {
    "duration": 1489,
    "start_time": "2025-05-01T04:31:11.045Z"
   },
   {
    "duration": 113,
    "start_time": "2025-05-01T04:31:34.315Z"
   },
   {
    "duration": 9334,
    "start_time": "2025-05-01T04:32:11.157Z"
   },
   {
    "duration": 9555,
    "start_time": "2025-05-01T04:33:07.714Z"
   },
   {
    "duration": 6,
    "start_time": "2025-05-01T04:35:36.592Z"
   },
   {
    "duration": 6,
    "start_time": "2025-05-01T04:36:18.121Z"
   },
   {
    "duration": 8,
    "start_time": "2025-05-01T04:36:43.561Z"
   },
   {
    "duration": 12,
    "start_time": "2025-05-01T04:38:09.374Z"
   },
   {
    "duration": 10,
    "start_time": "2025-05-01T04:38:31.621Z"
   },
   {
    "duration": 47361,
    "start_time": "2025-05-01T04:39:55.880Z"
   },
   {
    "duration": 22,
    "start_time": "2025-05-01T04:41:38.342Z"
   },
   {
    "duration": 23,
    "start_time": "2025-05-01T04:42:01.114Z"
   },
   {
    "duration": 35,
    "start_time": "2025-05-01T04:42:31.068Z"
   },
   {
    "duration": 35,
    "start_time": "2025-05-01T04:45:02.944Z"
   },
   {
    "duration": 829,
    "start_time": "2025-05-01T04:46:03.559Z"
   },
   {
    "duration": 1161,
    "start_time": "2025-05-01T04:50:28.992Z"
   },
   {
    "duration": 1085,
    "start_time": "2025-05-01T04:50:57.514Z"
   },
   {
    "duration": 1553,
    "start_time": "2025-05-01T04:51:37.551Z"
   },
   {
    "duration": 6,
    "start_time": "2025-05-01T04:51:49.254Z"
   },
   {
    "duration": 32,
    "start_time": "2025-05-01T04:52:06.549Z"
   },
   {
    "duration": 35,
    "start_time": "2025-05-01T04:57:43.670Z"
   },
   {
    "duration": 10,
    "start_time": "2025-05-01T04:58:21.595Z"
   },
   {
    "duration": 1615,
    "start_time": "2025-05-01T05:00:12.384Z"
   },
   {
    "duration": 1557,
    "start_time": "2025-05-01T05:00:30.142Z"
   },
   {
    "duration": 1552,
    "start_time": "2025-05-01T05:00:43.124Z"
   },
   {
    "duration": 10,
    "start_time": "2025-05-01T05:01:38.605Z"
   },
   {
    "duration": 1504,
    "start_time": "2025-05-01T05:01:49.342Z"
   },
   {
    "duration": 3,
    "start_time": "2025-05-01T05:02:42.716Z"
   },
   {
    "duration": 22,
    "start_time": "2025-05-01T05:02:49.049Z"
   },
   {
    "duration": 10,
    "start_time": "2025-05-01T05:04:08.803Z"
   },
   {
    "duration": 27,
    "start_time": "2025-05-01T05:04:41.197Z"
   },
   {
    "duration": 1661,
    "start_time": "2025-05-01T05:05:44.246Z"
   },
   {
    "duration": 12,
    "start_time": "2025-05-01T05:06:10.186Z"
   },
   {
    "duration": 28,
    "start_time": "2025-05-01T05:06:59.450Z"
   },
   {
    "duration": 2,
    "start_time": "2025-05-01T05:07:18.618Z"
   },
   {
    "duration": 6,
    "start_time": "2025-05-01T05:18:58.495Z"
   },
   {
    "duration": 154,
    "start_time": "2025-05-01T05:19:50.892Z"
   },
   {
    "duration": 9,
    "start_time": "2025-05-01T05:20:29.283Z"
   },
   {
    "duration": 6,
    "start_time": "2025-05-01T05:20:42.379Z"
   },
   {
    "duration": 7,
    "start_time": "2025-05-01T05:21:46.526Z"
   },
   {
    "duration": 135,
    "start_time": "2025-05-01T05:22:28.094Z"
   },
   {
    "duration": 10,
    "start_time": "2025-05-01T05:23:00.313Z"
   },
   {
    "duration": 9,
    "start_time": "2025-05-01T05:23:15.940Z"
   },
   {
    "duration": 10,
    "start_time": "2025-05-01T05:23:29.589Z"
   },
   {
    "duration": 10,
    "start_time": "2025-05-01T05:24:01.489Z"
   },
   {
    "duration": 138,
    "start_time": "2025-05-01T05:24:07.356Z"
   },
   {
    "duration": 4,
    "start_time": "2025-05-01T08:23:03.596Z"
   },
   {
    "duration": 9,
    "start_time": "2025-05-01T08:23:03.604Z"
   },
   {
    "duration": 9,
    "start_time": "2025-05-01T08:23:03.614Z"
   },
   {
    "duration": 3385,
    "start_time": "2025-05-01T08:23:03.625Z"
   },
   {
    "duration": 1331,
    "start_time": "2025-05-01T08:23:07.012Z"
   },
   {
    "duration": 243,
    "start_time": "2025-05-01T08:23:08.345Z"
   },
   {
    "duration": 14,
    "start_time": "2025-05-01T08:23:08.590Z"
   },
   {
    "duration": 64,
    "start_time": "2025-05-01T08:23:08.606Z"
   },
   {
    "duration": 79,
    "start_time": "2025-05-01T08:23:08.672Z"
   },
   {
    "duration": 9,
    "start_time": "2025-05-01T08:23:08.753Z"
   },
   {
    "duration": 8,
    "start_time": "2025-05-01T08:23:08.764Z"
   },
   {
    "duration": 11,
    "start_time": "2025-05-01T08:23:08.774Z"
   },
   {
    "duration": 5,
    "start_time": "2025-05-01T08:23:08.786Z"
   },
   {
    "duration": 5,
    "start_time": "2025-05-01T08:23:08.793Z"
   },
   {
    "duration": 18,
    "start_time": "2025-05-01T08:23:08.800Z"
   },
   {
    "duration": 7,
    "start_time": "2025-05-01T08:23:08.819Z"
   },
   {
    "duration": 9,
    "start_time": "2025-05-01T08:23:08.861Z"
   },
   {
    "duration": 21,
    "start_time": "2025-05-01T08:23:08.871Z"
   },
   {
    "duration": 25,
    "start_time": "2025-05-01T08:23:08.893Z"
   },
   {
    "duration": 10,
    "start_time": "2025-05-01T08:23:08.920Z"
   },
   {
    "duration": 31,
    "start_time": "2025-05-01T08:23:08.932Z"
   },
   {
    "duration": 1501,
    "start_time": "2025-05-01T08:23:08.964Z"
   },
   {
    "duration": 5,
    "start_time": "2025-05-01T08:23:10.467Z"
   },
   {
    "duration": 171,
    "start_time": "2025-05-01T08:23:10.473Z"
   },
   {
    "duration": 17,
    "start_time": "2025-05-01T08:23:10.646Z"
   },
   {
    "duration": 253,
    "start_time": "2025-05-01T08:23:10.665Z"
   },
   {
    "duration": 10,
    "start_time": "2025-05-01T08:23:10.920Z"
   },
   {
    "duration": 182,
    "start_time": "2025-05-01T08:23:10.932Z"
   },
   {
    "duration": 133,
    "start_time": "2025-05-01T08:23:11.115Z"
   },
   {
    "duration": 190,
    "start_time": "2025-05-01T08:23:11.249Z"
   },
   {
    "duration": 110,
    "start_time": "2025-05-01T08:23:11.441Z"
   },
   {
    "duration": 172,
    "start_time": "2025-05-01T08:23:11.553Z"
   },
   {
    "duration": 2,
    "start_time": "2025-05-01T08:23:11.727Z"
   },
   {
    "duration": 11,
    "start_time": "2025-05-01T08:23:11.730Z"
   },
   {
    "duration": 224,
    "start_time": "2025-05-01T08:23:11.742Z"
   },
   {
    "duration": 141,
    "start_time": "2025-05-01T08:24:30.831Z"
   },
   {
    "duration": 153,
    "start_time": "2025-05-01T08:24:42.034Z"
   },
   {
    "duration": 151,
    "start_time": "2025-05-01T08:24:55.354Z"
   },
   {
    "duration": 149,
    "start_time": "2025-05-01T08:25:16.419Z"
   },
   {
    "duration": 159,
    "start_time": "2025-05-01T08:25:30.034Z"
   },
   {
    "duration": 96,
    "start_time": "2025-05-01T08:31:05.670Z"
   },
   {
    "duration": 4,
    "start_time": "2025-05-01T08:31:18.608Z"
   },
   {
    "duration": 9,
    "start_time": "2025-05-01T08:41:50.108Z"
   },
   {
    "duration": 22,
    "start_time": "2025-05-01T08:41:50.119Z"
   },
   {
    "duration": 4,
    "start_time": "2025-05-01T08:41:50.142Z"
   },
   {
    "duration": 2232,
    "start_time": "2025-05-01T08:41:50.148Z"
   },
   {
    "duration": 1155,
    "start_time": "2025-05-01T08:41:52.383Z"
   },
   {
    "duration": 207,
    "start_time": "2025-05-01T08:41:53.539Z"
   },
   {
    "duration": 14,
    "start_time": "2025-05-01T08:41:53.747Z"
   },
   {
    "duration": 11,
    "start_time": "2025-05-01T08:41:53.763Z"
   },
   {
    "duration": 16,
    "start_time": "2025-05-01T08:41:53.776Z"
   },
   {
    "duration": 13,
    "start_time": "2025-05-01T08:41:53.794Z"
   },
   {
    "duration": 15,
    "start_time": "2025-05-01T08:41:53.809Z"
   },
   {
    "duration": 14,
    "start_time": "2025-05-01T08:41:53.825Z"
   },
   {
    "duration": 22,
    "start_time": "2025-05-01T08:41:53.841Z"
   },
   {
    "duration": 5,
    "start_time": "2025-05-01T08:41:53.867Z"
   },
   {
    "duration": 18,
    "start_time": "2025-05-01T08:41:53.873Z"
   },
   {
    "duration": 6,
    "start_time": "2025-05-01T08:41:53.893Z"
   },
   {
    "duration": 8,
    "start_time": "2025-05-01T08:41:53.900Z"
   },
   {
    "duration": 53,
    "start_time": "2025-05-01T08:41:53.910Z"
   },
   {
    "duration": 25,
    "start_time": "2025-05-01T08:41:53.964Z"
   },
   {
    "duration": 10,
    "start_time": "2025-05-01T08:41:53.990Z"
   },
   {
    "duration": 4,
    "start_time": "2025-05-01T08:41:54.001Z"
   },
   {
    "duration": 1547,
    "start_time": "2025-05-01T08:41:54.007Z"
   },
   {
    "duration": 10,
    "start_time": "2025-05-01T08:41:55.555Z"
   },
   {
    "duration": 171,
    "start_time": "2025-05-01T08:41:55.566Z"
   },
   {
    "duration": 7,
    "start_time": "2025-05-01T08:41:55.739Z"
   },
   {
    "duration": 198,
    "start_time": "2025-05-01T08:41:55.747Z"
   },
   {
    "duration": 17,
    "start_time": "2025-05-01T08:41:55.946Z"
   },
   {
    "duration": 165,
    "start_time": "2025-05-01T08:41:55.964Z"
   },
   {
    "duration": 140,
    "start_time": "2025-05-01T08:41:56.130Z"
   },
   {
    "duration": 181,
    "start_time": "2025-05-01T08:41:56.271Z"
   },
   {
    "duration": 106,
    "start_time": "2025-05-01T08:41:56.461Z"
   },
   {
    "duration": 171,
    "start_time": "2025-05-01T08:41:56.569Z"
   },
   {
    "duration": 2,
    "start_time": "2025-05-01T08:41:56.742Z"
   },
   {
    "duration": 39,
    "start_time": "2025-05-01T08:41:56.745Z"
   },
   {
    "duration": 235,
    "start_time": "2025-05-01T08:41:56.785Z"
   },
   {
    "duration": 151,
    "start_time": "2025-05-01T08:41:57.021Z"
   },
   {
    "duration": 3,
    "start_time": "2025-05-01T08:41:57.174Z"
   },
   {
    "duration": 110,
    "start_time": "2025-05-01T08:51:31.950Z"
   },
   {
    "duration": 146,
    "start_time": "2025-05-01T08:51:41.086Z"
   },
   {
    "duration": 152,
    "start_time": "2025-05-01T08:52:34.999Z"
   },
   {
    "duration": 231,
    "start_time": "2025-05-01T08:54:03.833Z"
   },
   {
    "duration": 172,
    "start_time": "2025-05-01T08:54:47.676Z"
   },
   {
    "duration": 240,
    "start_time": "2025-05-01T08:55:13.564Z"
   },
   {
    "duration": 206,
    "start_time": "2025-05-01T08:57:23.688Z"
   },
   {
    "duration": 228,
    "start_time": "2025-05-01T08:58:45.539Z"
   },
   {
    "duration": 244,
    "start_time": "2025-05-01T09:04:03.540Z"
   },
   {
    "duration": 214,
    "start_time": "2025-05-01T09:04:12.078Z"
   },
   {
    "duration": 219,
    "start_time": "2025-05-01T09:04:26.365Z"
   },
   {
    "duration": 5,
    "start_time": "2025-05-01T09:10:48.650Z"
   },
   {
    "duration": 16,
    "start_time": "2025-05-01T09:15:25.128Z"
   },
   {
    "duration": 16,
    "start_time": "2025-05-01T09:15:45.692Z"
   },
   {
    "duration": 282,
    "start_time": "2025-05-01T09:16:07.711Z"
   },
   {
    "duration": 4,
    "start_time": "2025-05-01T11:26:50.443Z"
   },
   {
    "duration": 24,
    "start_time": "2025-05-01T11:26:50.449Z"
   },
   {
    "duration": 18,
    "start_time": "2025-05-01T11:26:50.475Z"
   },
   {
    "duration": 3644,
    "start_time": "2025-05-01T11:26:50.495Z"
   },
   {
    "duration": 1480,
    "start_time": "2025-05-01T11:26:54.141Z"
   },
   {
    "duration": 194,
    "start_time": "2025-05-01T11:26:55.623Z"
   },
   {
    "duration": 17,
    "start_time": "2025-05-01T11:26:55.819Z"
   },
   {
    "duration": 15,
    "start_time": "2025-05-01T11:26:55.838Z"
   },
   {
    "duration": 12,
    "start_time": "2025-05-01T11:26:55.855Z"
   },
   {
    "duration": 17,
    "start_time": "2025-05-01T11:26:55.870Z"
   },
   {
    "duration": 26,
    "start_time": "2025-05-01T11:26:55.888Z"
   },
   {
    "duration": 20,
    "start_time": "2025-05-01T11:26:55.916Z"
   },
   {
    "duration": 8,
    "start_time": "2025-05-01T11:26:55.938Z"
   },
   {
    "duration": 6,
    "start_time": "2025-05-01T11:26:55.947Z"
   },
   {
    "duration": 25,
    "start_time": "2025-05-01T11:26:55.955Z"
   },
   {
    "duration": 9,
    "start_time": "2025-05-01T11:26:56.006Z"
   },
   {
    "duration": 12,
    "start_time": "2025-05-01T11:26:56.017Z"
   },
   {
    "duration": 35,
    "start_time": "2025-05-01T11:26:56.031Z"
   },
   {
    "duration": 78,
    "start_time": "2025-05-01T11:26:56.068Z"
   },
   {
    "duration": 14,
    "start_time": "2025-05-01T11:26:56.148Z"
   },
   {
    "duration": 7,
    "start_time": "2025-05-01T11:26:56.164Z"
   },
   {
    "duration": 1824,
    "start_time": "2025-05-01T11:26:56.173Z"
   },
   {
    "duration": 8,
    "start_time": "2025-05-01T11:26:58.004Z"
   },
   {
    "duration": 213,
    "start_time": "2025-05-01T11:26:58.014Z"
   },
   {
    "duration": 10,
    "start_time": "2025-05-01T11:26:58.229Z"
   },
   {
    "duration": 250,
    "start_time": "2025-05-01T11:26:58.241Z"
   },
   {
    "duration": 22,
    "start_time": "2025-05-01T11:26:58.493Z"
   },
   {
    "duration": 281,
    "start_time": "2025-05-01T11:26:58.519Z"
   },
   {
    "duration": 155,
    "start_time": "2025-05-01T11:26:58.802Z"
   },
   {
    "duration": 239,
    "start_time": "2025-05-01T11:26:58.960Z"
   },
   {
    "duration": 138,
    "start_time": "2025-05-01T11:26:59.205Z"
   },
   {
    "duration": 222,
    "start_time": "2025-05-01T11:26:59.345Z"
   },
   {
    "duration": 3,
    "start_time": "2025-05-01T11:26:59.569Z"
   },
   {
    "duration": 89,
    "start_time": "2025-05-01T11:26:59.573Z"
   },
   {
    "duration": 252,
    "start_time": "2025-05-01T11:26:59.664Z"
   },
   {
    "duration": 193,
    "start_time": "2025-05-01T11:26:59.917Z"
   },
   {
    "duration": 282,
    "start_time": "2025-05-01T11:27:00.112Z"
   },
   {
    "duration": 5,
    "start_time": "2025-05-01T11:27:00.405Z"
   },
   {
    "duration": 125,
    "start_time": "2025-05-01T11:27:00.413Z"
   },
   {
    "duration": 293,
    "start_time": "2025-05-01T11:27:00.541Z"
   },
   {
    "duration": 310,
    "start_time": "2025-05-01T11:30:00.425Z"
   },
   {
    "duration": 6,
    "start_time": "2025-05-01T11:30:22.603Z"
   },
   {
    "duration": 298,
    "start_time": "2025-05-01T11:30:24.515Z"
   },
   {
    "duration": 371,
    "start_time": "2025-05-01T11:30:34.977Z"
   },
   {
    "duration": 305,
    "start_time": "2025-05-01T11:30:46.377Z"
   },
   {
    "duration": 310,
    "start_time": "2025-05-01T11:30:50.352Z"
   },
   {
    "duration": 344,
    "start_time": "2025-05-01T11:32:16.555Z"
   },
   {
    "duration": 447,
    "start_time": "2025-05-01T11:33:43.641Z"
   },
   {
    "duration": 3,
    "start_time": "2025-05-03T16:47:39.636Z"
   },
   {
    "duration": 12,
    "start_time": "2025-05-03T16:47:39.641Z"
   },
   {
    "duration": 10,
    "start_time": "2025-05-03T16:47:39.655Z"
   },
   {
    "duration": 3694,
    "start_time": "2025-05-03T16:47:39.667Z"
   },
   {
    "duration": 1494,
    "start_time": "2025-05-03T16:47:43.365Z"
   },
   {
    "duration": 185,
    "start_time": "2025-05-03T16:47:44.861Z"
   },
   {
    "duration": 17,
    "start_time": "2025-05-03T16:47:45.049Z"
   },
   {
    "duration": 34,
    "start_time": "2025-05-03T16:47:45.068Z"
   },
   {
    "duration": 78,
    "start_time": "2025-05-03T16:47:45.104Z"
   },
   {
    "duration": 25,
    "start_time": "2025-05-03T16:47:45.184Z"
   },
   {
    "duration": 45,
    "start_time": "2025-05-03T16:47:45.211Z"
   },
   {
    "duration": 66,
    "start_time": "2025-05-03T16:47:45.258Z"
   },
   {
    "duration": 7,
    "start_time": "2025-05-03T16:47:45.325Z"
   },
   {
    "duration": 22,
    "start_time": "2025-05-03T16:47:45.335Z"
   },
   {
    "duration": 36,
    "start_time": "2025-05-03T16:47:45.359Z"
   },
   {
    "duration": 7,
    "start_time": "2025-05-03T16:47:45.397Z"
   },
   {
    "duration": 15,
    "start_time": "2025-05-03T16:47:45.406Z"
   },
   {
    "duration": 37,
    "start_time": "2025-05-03T16:47:45.423Z"
   },
   {
    "duration": 46,
    "start_time": "2025-05-03T16:47:45.462Z"
   },
   {
    "duration": 18,
    "start_time": "2025-05-03T16:47:45.510Z"
   },
   {
    "duration": 6,
    "start_time": "2025-05-03T16:47:45.530Z"
   },
   {
    "duration": 1787,
    "start_time": "2025-05-03T16:47:45.538Z"
   },
   {
    "duration": 7,
    "start_time": "2025-05-03T16:47:47.327Z"
   },
   {
    "duration": 213,
    "start_time": "2025-05-03T16:47:47.336Z"
   },
   {
    "duration": 17,
    "start_time": "2025-05-03T16:47:47.551Z"
   },
   {
    "duration": 254,
    "start_time": "2025-05-03T16:47:47.572Z"
   },
   {
    "duration": 10,
    "start_time": "2025-05-03T16:47:47.828Z"
   },
   {
    "duration": 243,
    "start_time": "2025-05-03T16:47:47.840Z"
   },
   {
    "duration": 162,
    "start_time": "2025-05-03T16:47:48.085Z"
   },
   {
    "duration": 264,
    "start_time": "2025-05-03T16:47:48.249Z"
   },
   {
    "duration": 140,
    "start_time": "2025-05-03T16:47:48.515Z"
   },
   {
    "duration": 209,
    "start_time": "2025-05-03T16:47:48.657Z"
   },
   {
    "duration": 2,
    "start_time": "2025-05-03T16:47:48.868Z"
   },
   {
    "duration": 18,
    "start_time": "2025-05-03T16:47:48.872Z"
   },
   {
    "duration": 268,
    "start_time": "2025-05-03T16:47:48.905Z"
   },
   {
    "duration": 193,
    "start_time": "2025-05-03T16:47:49.175Z"
   },
   {
    "duration": 322,
    "start_time": "2025-05-03T16:47:49.369Z"
   },
   {
    "duration": 13,
    "start_time": "2025-05-03T16:47:49.693Z"
   },
   {
    "duration": 290,
    "start_time": "2025-05-03T16:47:49.708Z"
   },
   {
    "duration": 78,
    "start_time": "2025-05-03T16:47:50.004Z"
   },
   {
    "duration": 0,
    "start_time": "2025-05-03T16:47:50.084Z"
   },
   {
    "duration": 0,
    "start_time": "2025-05-03T16:47:50.085Z"
   },
   {
    "duration": 100,
    "start_time": "2025-05-03T17:25:09.522Z"
   },
   {
    "duration": 74,
    "start_time": "2025-05-03T17:28:24.906Z"
   },
   {
    "duration": 243,
    "start_time": "2025-05-03T17:28:38.840Z"
   },
   {
    "duration": 284,
    "start_time": "2025-05-03T17:30:15.290Z"
   },
   {
    "duration": 283,
    "start_time": "2025-05-03T17:30:33.521Z"
   },
   {
    "duration": 295,
    "start_time": "2025-05-03T17:37:01.291Z"
   },
   {
    "duration": 260,
    "start_time": "2025-05-03T17:37:12.444Z"
   },
   {
    "duration": 260,
    "start_time": "2025-05-03T17:37:28.326Z"
   },
   {
    "duration": 10,
    "start_time": "2025-05-03T17:50:46.940Z"
   },
   {
    "duration": 106,
    "start_time": "2025-05-03T17:52:15.614Z"
   },
   {
    "duration": 127,
    "start_time": "2025-05-03T17:52:29.573Z"
   },
   {
    "duration": 7,
    "start_time": "2025-05-03T17:52:36.534Z"
   },
   {
    "duration": 10,
    "start_time": "2025-05-03T17:53:08.455Z"
   },
   {
    "duration": 25,
    "start_time": "2025-05-03T17:53:19.669Z"
   },
   {
    "duration": 11,
    "start_time": "2025-05-03T17:53:26.642Z"
   },
   {
    "duration": 124,
    "start_time": "2025-05-03T17:54:38.616Z"
   },
   {
    "duration": 14,
    "start_time": "2025-05-03T17:54:58.978Z"
   },
   {
    "duration": 11,
    "start_time": "2025-05-03T17:55:20.731Z"
   },
   {
    "duration": 9,
    "start_time": "2025-05-03T17:57:53.761Z"
   },
   {
    "duration": 16,
    "start_time": "2025-05-03T18:01:24.102Z"
   },
   {
    "duration": 14,
    "start_time": "2025-05-03T18:03:29.920Z"
   },
   {
    "duration": 16,
    "start_time": "2025-05-03T18:04:54.797Z"
   },
   {
    "duration": 278,
    "start_time": "2025-05-03T18:10:39.814Z"
   },
   {
    "duration": 255,
    "start_time": "2025-05-03T18:10:54.226Z"
   },
   {
    "duration": 361,
    "start_time": "2025-05-03T18:11:14.013Z"
   },
   {
    "duration": 85,
    "start_time": "2025-05-03T18:14:35.415Z"
   },
   {
    "duration": 16,
    "start_time": "2025-05-03T18:14:43.855Z"
   },
   {
    "duration": 15,
    "start_time": "2025-05-03T18:16:06.400Z"
   },
   {
    "duration": 17,
    "start_time": "2025-05-03T18:17:26.968Z"
   },
   {
    "duration": 18,
    "start_time": "2025-05-03T18:18:37.796Z"
   },
   {
    "duration": 30,
    "start_time": "2025-05-03T18:30:17.950Z"
   },
   {
    "duration": 10,
    "start_time": "2025-05-03T18:32:29.511Z"
   },
   {
    "duration": 15,
    "start_time": "2025-05-03T18:40:01.997Z"
   },
   {
    "duration": 15,
    "start_time": "2025-05-03T18:49:40.664Z"
   },
   {
    "duration": 14,
    "start_time": "2025-05-03T18:54:43.790Z"
   },
   {
    "duration": 20,
    "start_time": "2025-05-03T19:14:00.566Z"
   },
   {
    "duration": 18,
    "start_time": "2025-05-03T19:14:24.092Z"
   },
   {
    "duration": 19,
    "start_time": "2025-05-03T19:14:46.210Z"
   },
   {
    "duration": 17,
    "start_time": "2025-05-03T19:15:41.174Z"
   },
   {
    "duration": 80,
    "start_time": "2025-05-03T19:16:27.671Z"
   },
   {
    "duration": 72,
    "start_time": "2025-05-03T19:16:53.002Z"
   },
   {
    "duration": 17,
    "start_time": "2025-05-03T19:17:33.180Z"
   },
   {
    "duration": 17,
    "start_time": "2025-05-03T19:17:59.462Z"
   },
   {
    "duration": 18,
    "start_time": "2025-05-03T19:18:29.614Z"
   },
   {
    "duration": 78,
    "start_time": "2025-05-03T19:19:30.784Z"
   },
   {
    "duration": 18,
    "start_time": "2025-05-03T19:19:37.662Z"
   },
   {
    "duration": 76,
    "start_time": "2025-05-03T19:20:43.930Z"
   },
   {
    "duration": 19,
    "start_time": "2025-05-03T19:21:42.620Z"
   },
   {
    "duration": 17,
    "start_time": "2025-05-03T19:22:58.755Z"
   },
   {
    "duration": 99,
    "start_time": "2025-05-03T19:23:18.559Z"
   },
   {
    "duration": 72,
    "start_time": "2025-05-03T19:23:38.363Z"
   },
   {
    "duration": 79,
    "start_time": "2025-05-03T19:23:46.711Z"
   },
   {
    "duration": 74,
    "start_time": "2025-05-03T19:23:54.183Z"
   },
   {
    "duration": 92,
    "start_time": "2025-05-03T19:24:26.747Z"
   },
   {
    "duration": 19,
    "start_time": "2025-05-03T19:24:34.674Z"
   },
   {
    "duration": 18,
    "start_time": "2025-05-03T19:25:06.051Z"
   },
   {
    "duration": 2,
    "start_time": "2025-05-03T19:30:18.358Z"
   },
   {
    "duration": 292,
    "start_time": "2025-05-03T19:31:40.169Z"
   },
   {
    "duration": 1672,
    "start_time": "2025-05-03T19:32:30.334Z"
   },
   {
    "duration": 1570,
    "start_time": "2025-05-03T19:34:43.595Z"
   },
   {
    "duration": 21,
    "start_time": "2025-05-03T19:34:57.288Z"
   },
   {
    "duration": 10,
    "start_time": "2025-05-03T19:36:15.403Z"
   },
   {
    "duration": 4,
    "start_time": "2025-05-03T19:36:44.916Z"
   },
   {
    "duration": 10,
    "start_time": "2025-05-03T19:37:08.338Z"
   },
   {
    "duration": 20,
    "start_time": "2025-05-03T19:40:13.405Z"
   },
   {
    "duration": 10,
    "start_time": "2025-05-03T19:40:23.318Z"
   },
   {
    "duration": 1603,
    "start_time": "2025-05-03T19:40:31.374Z"
   },
   {
    "duration": 1597,
    "start_time": "2025-05-03T19:41:45.982Z"
   },
   {
    "duration": 1658,
    "start_time": "2025-05-03T19:42:53.018Z"
   },
   {
    "duration": 256,
    "start_time": "2025-05-03T19:43:23.673Z"
   },
   {
    "duration": 240,
    "start_time": "2025-05-03T19:48:55.584Z"
   },
   {
    "duration": 240,
    "start_time": "2025-05-03T19:49:11.937Z"
   },
   {
    "duration": 10,
    "start_time": "2025-05-03T19:49:44.560Z"
   },
   {
    "duration": 20,
    "start_time": "2025-05-03T19:51:36.358Z"
   },
   {
    "duration": 9,
    "start_time": "2025-05-03T19:51:51.516Z"
   },
   {
    "duration": 3,
    "start_time": "2025-05-03T19:51:58.201Z"
   },
   {
    "duration": 9,
    "start_time": "2025-05-03T19:52:08.877Z"
   },
   {
    "duration": 220,
    "start_time": "2025-05-03T20:05:48.638Z"
   },
   {
    "duration": 20,
    "start_time": "2025-05-03T20:06:20.629Z"
   },
   {
    "duration": 18,
    "start_time": "2025-05-03T20:06:39.598Z"
   },
   {
    "duration": 89,
    "start_time": "2025-05-03T20:28:49.947Z"
   },
   {
    "duration": 18,
    "start_time": "2025-05-03T20:29:21.554Z"
   },
   {
    "duration": 20,
    "start_time": "2025-05-03T20:30:20.126Z"
   },
   {
    "duration": 261,
    "start_time": "2025-05-03T20:40:01.636Z"
   },
   {
    "duration": 90,
    "start_time": "2025-05-03T20:42:16.261Z"
   },
   {
    "duration": 9,
    "start_time": "2025-05-03T20:42:22.549Z"
   },
   {
    "duration": 20,
    "start_time": "2025-05-03T20:45:48.017Z"
   },
   {
    "duration": 17,
    "start_time": "2025-05-03T20:46:18.086Z"
   },
   {
    "duration": 10,
    "start_time": "2025-05-03T20:47:18.023Z"
   },
   {
    "duration": 10,
    "start_time": "2025-05-03T20:47:35.359Z"
   },
   {
    "duration": 19,
    "start_time": "2025-05-03T20:47:43.413Z"
   },
   {
    "duration": 9,
    "start_time": "2025-05-03T20:48:08.664Z"
   },
   {
    "duration": 9,
    "start_time": "2025-05-03T20:48:31.951Z"
   },
   {
    "duration": 9,
    "start_time": "2025-05-03T20:48:50.313Z"
   },
   {
    "duration": 5,
    "start_time": "2025-05-03T20:49:11.489Z"
   },
   {
    "duration": 10,
    "start_time": "2025-05-03T20:50:20.129Z"
   },
   {
    "duration": 11,
    "start_time": "2025-05-03T20:50:53.662Z"
   },
   {
    "duration": 8,
    "start_time": "2025-05-03T20:51:11.824Z"
   },
   {
    "duration": 87,
    "start_time": "2025-05-03T20:56:43.906Z"
   },
   {
    "duration": 11,
    "start_time": "2025-05-03T20:57:54.169Z"
   },
   {
    "duration": 10,
    "start_time": "2025-05-03T20:58:31.197Z"
   },
   {
    "duration": 9,
    "start_time": "2025-05-03T20:58:54.781Z"
   },
   {
    "duration": 119,
    "start_time": "2025-05-03T20:59:32.017Z"
   },
   {
    "duration": 1464,
    "start_time": "2025-05-03T20:59:58.120Z"
   },
   {
    "duration": 10,
    "start_time": "2025-05-03T21:04:07.592Z"
   },
   {
    "duration": 244,
    "start_time": "2025-05-03T21:05:26.348Z"
   },
   {
    "duration": 110,
    "start_time": "2025-05-03T21:05:41.755Z"
   },
   {
    "duration": 236,
    "start_time": "2025-05-03T21:05:51.476Z"
   },
   {
    "duration": 14,
    "start_time": "2025-05-03T21:06:32.387Z"
   },
   {
    "duration": 17,
    "start_time": "2025-05-03T21:07:22.795Z"
   },
   {
    "duration": 233,
    "start_time": "2025-05-03T21:07:54.201Z"
   },
   {
    "duration": 12,
    "start_time": "2025-05-03T21:08:44.135Z"
   },
   {
    "duration": 11,
    "start_time": "2025-05-03T21:08:52.657Z"
   },
   {
    "duration": 235,
    "start_time": "2025-05-03T21:09:25.558Z"
   },
   {
    "duration": 227,
    "start_time": "2025-05-03T21:09:44.027Z"
   },
   {
    "duration": 240,
    "start_time": "2025-05-03T21:09:57.338Z"
   },
   {
    "duration": 234,
    "start_time": "2025-05-03T21:10:09.940Z"
   },
   {
    "duration": 243,
    "start_time": "2025-05-03T21:10:29.704Z"
   },
   {
    "duration": 238,
    "start_time": "2025-05-03T21:10:40.583Z"
   },
   {
    "duration": 1793,
    "start_time": "2025-05-03T21:11:33.206Z"
   },
   {
    "duration": 348,
    "start_time": "2025-05-03T21:12:42.632Z"
   },
   {
    "duration": 352,
    "start_time": "2025-05-03T21:13:02.561Z"
   },
   {
    "duration": 381,
    "start_time": "2025-05-03T21:13:20.561Z"
   },
   {
    "duration": 349,
    "start_time": "2025-05-03T21:13:33.719Z"
   },
   {
    "duration": 398,
    "start_time": "2025-05-03T21:13:58.969Z"
   },
   {
    "duration": 390,
    "start_time": "2025-05-03T21:14:16.466Z"
   },
   {
    "duration": 394,
    "start_time": "2025-05-03T21:15:26.457Z"
   },
   {
    "duration": 377,
    "start_time": "2025-05-03T21:17:34.555Z"
   },
   {
    "duration": 369,
    "start_time": "2025-05-03T21:17:53.952Z"
   },
   {
    "duration": 249,
    "start_time": "2025-05-03T21:21:48.558Z"
   },
   {
    "duration": 248,
    "start_time": "2025-05-03T21:22:00.892Z"
   },
   {
    "duration": 245,
    "start_time": "2025-05-03T21:24:23.801Z"
   },
   {
    "duration": 351,
    "start_time": "2025-05-03T21:24:54.469Z"
   },
   {
    "duration": 248,
    "start_time": "2025-05-03T21:26:58.839Z"
   },
   {
    "duration": 254,
    "start_time": "2025-05-03T21:27:34.362Z"
   },
   {
    "duration": 263,
    "start_time": "2025-05-03T21:27:45.321Z"
   },
   {
    "duration": 244,
    "start_time": "2025-05-03T21:27:59.795Z"
   },
   {
    "duration": 248,
    "start_time": "2025-05-03T21:28:11.105Z"
   },
   {
    "duration": 247,
    "start_time": "2025-05-03T21:28:34.801Z"
   },
   {
    "duration": 21,
    "start_time": "2025-05-03T21:29:20.940Z"
   },
   {
    "duration": 245,
    "start_time": "2025-05-03T21:29:24.970Z"
   },
   {
    "duration": 21,
    "start_time": "2025-05-03T21:30:16.650Z"
   },
   {
    "duration": 349,
    "start_time": "2025-05-03T21:34:01.517Z"
   },
   {
    "duration": 3,
    "start_time": "2025-05-03T21:36:56.760Z"
   },
   {
    "duration": 3,
    "start_time": "2025-05-04T04:32:42.882Z"
   },
   {
    "duration": 15,
    "start_time": "2025-05-04T04:32:42.887Z"
   },
   {
    "duration": 6,
    "start_time": "2025-05-04T04:32:42.903Z"
   },
   {
    "duration": 3195,
    "start_time": "2025-05-04T04:32:42.911Z"
   },
   {
    "duration": 1305,
    "start_time": "2025-05-04T04:32:46.108Z"
   },
   {
    "duration": 307,
    "start_time": "2025-05-04T04:32:47.414Z"
   },
   {
    "duration": 17,
    "start_time": "2025-05-04T04:32:47.722Z"
   },
   {
    "duration": 14,
    "start_time": "2025-05-04T04:32:47.740Z"
   },
   {
    "duration": 9,
    "start_time": "2025-05-04T04:32:47.756Z"
   },
   {
    "duration": 11,
    "start_time": "2025-05-04T04:32:47.767Z"
   },
   {
    "duration": 11,
    "start_time": "2025-05-04T04:32:47.779Z"
   },
   {
    "duration": 13,
    "start_time": "2025-05-04T04:32:47.791Z"
   },
   {
    "duration": 11,
    "start_time": "2025-05-04T04:32:47.805Z"
   },
   {
    "duration": 14,
    "start_time": "2025-05-04T04:32:47.819Z"
   },
   {
    "duration": 43,
    "start_time": "2025-05-04T04:32:47.835Z"
   },
   {
    "duration": 7,
    "start_time": "2025-05-04T04:32:47.879Z"
   },
   {
    "duration": 9,
    "start_time": "2025-05-04T04:32:47.888Z"
   },
   {
    "duration": 21,
    "start_time": "2025-05-04T04:32:47.898Z"
   },
   {
    "duration": 74,
    "start_time": "2025-05-04T04:32:47.921Z"
   },
   {
    "duration": 11,
    "start_time": "2025-05-04T04:32:47.997Z"
   },
   {
    "duration": 6,
    "start_time": "2025-05-04T04:32:48.009Z"
   },
   {
    "duration": 1606,
    "start_time": "2025-05-04T04:32:48.016Z"
   },
   {
    "duration": 6,
    "start_time": "2025-05-04T04:32:49.624Z"
   },
   {
    "duration": 175,
    "start_time": "2025-05-04T04:32:49.632Z"
   },
   {
    "duration": 9,
    "start_time": "2025-05-04T04:32:49.808Z"
   },
   {
    "duration": 216,
    "start_time": "2025-05-04T04:32:49.818Z"
   },
   {
    "duration": 9,
    "start_time": "2025-05-04T04:32:50.036Z"
   },
   {
    "duration": 186,
    "start_time": "2025-05-04T04:32:50.047Z"
   },
   {
    "duration": 133,
    "start_time": "2025-05-04T04:32:50.235Z"
   },
   {
    "duration": 204,
    "start_time": "2025-05-04T04:32:50.370Z"
   },
   {
    "duration": 121,
    "start_time": "2025-05-04T04:32:50.576Z"
   },
   {
    "duration": 181,
    "start_time": "2025-05-04T04:32:50.698Z"
   },
   {
    "duration": 2,
    "start_time": "2025-05-04T04:32:50.881Z"
   },
   {
    "duration": 19,
    "start_time": "2025-05-04T04:32:50.885Z"
   },
   {
    "duration": 219,
    "start_time": "2025-05-04T04:32:50.906Z"
   },
   {
    "duration": 164,
    "start_time": "2025-05-04T04:32:51.126Z"
   },
   {
    "duration": 243,
    "start_time": "2025-05-04T04:32:51.292Z"
   },
   {
    "duration": 4,
    "start_time": "2025-05-04T04:32:51.536Z"
   },
   {
    "duration": 271,
    "start_time": "2025-05-04T04:32:51.541Z"
   },
   {
    "duration": 18,
    "start_time": "2025-05-04T04:32:51.814Z"
   },
   {
    "duration": 231,
    "start_time": "2025-05-04T04:32:51.835Z"
   },
   {
    "duration": 333,
    "start_time": "2025-05-04T04:32:52.068Z"
   },
   {
    "duration": 3,
    "start_time": "2025-05-04T04:32:52.403Z"
   },
   {
    "duration": 210,
    "start_time": "2025-05-04T05:54:40.180Z"
   },
   {
    "duration": 101,
    "start_time": "2025-05-04T06:03:13.228Z"
   },
   {
    "duration": 9,
    "start_time": "2025-05-04T06:03:42.270Z"
   },
   {
    "duration": 8,
    "start_time": "2025-05-04T06:04:06.791Z"
   },
   {
    "duration": 9,
    "start_time": "2025-05-04T06:04:29.286Z"
   },
   {
    "duration": 8,
    "start_time": "2025-05-04T06:04:36.722Z"
   },
   {
    "duration": 8,
    "start_time": "2025-05-04T06:04:47.329Z"
   },
   {
    "duration": 178,
    "start_time": "2025-05-04T06:05:21.349Z"
   },
   {
    "duration": 9,
    "start_time": "2025-05-04T06:06:03.871Z"
   },
   {
    "duration": 169,
    "start_time": "2025-05-04T06:06:13.646Z"
   },
   {
    "duration": 222,
    "start_time": "2025-05-04T06:06:31.472Z"
   },
   {
    "duration": 4,
    "start_time": "2025-05-04T06:08:14.395Z"
   },
   {
    "duration": 7,
    "start_time": "2025-05-04T06:08:25.076Z"
   },
   {
    "duration": 7,
    "start_time": "2025-05-04T06:08:38.359Z"
   },
   {
    "duration": 200,
    "start_time": "2025-05-04T06:08:48.906Z"
   },
   {
    "duration": 11,
    "start_time": "2025-05-04T06:09:14.464Z"
   },
   {
    "duration": 11,
    "start_time": "2025-05-04T06:09:20.314Z"
   },
   {
    "duration": 9,
    "start_time": "2025-05-04T06:09:44.808Z"
   },
   {
    "duration": 166,
    "start_time": "2025-05-04T06:10:02.691Z"
   },
   {
    "duration": 1804,
    "start_time": "2025-05-04T06:13:21.741Z"
   },
   {
    "duration": 1775,
    "start_time": "2025-05-04T06:14:18.542Z"
   },
   {
    "duration": 11,
    "start_time": "2025-05-04T06:15:15.250Z"
   },
   {
    "duration": 4,
    "start_time": "2025-05-04T06:15:40.629Z"
   },
   {
    "duration": 311,
    "start_time": "2025-05-04T06:18:37.789Z"
   },
   {
    "duration": 159,
    "start_time": "2025-05-04T06:19:59.269Z"
   },
   {
    "duration": 176,
    "start_time": "2025-05-04T06:20:08.016Z"
   },
   {
    "duration": 159,
    "start_time": "2025-05-04T06:21:47.391Z"
   },
   {
    "duration": 178,
    "start_time": "2025-05-04T06:23:14.226Z"
   },
   {
    "duration": 3,
    "start_time": "2025-05-04T08:46:28.878Z"
   },
   {
    "duration": 8,
    "start_time": "2025-05-04T08:46:28.883Z"
   },
   {
    "duration": 12,
    "start_time": "2025-05-04T08:46:28.892Z"
   },
   {
    "duration": 3614,
    "start_time": "2025-05-04T08:46:28.905Z"
   },
   {
    "duration": 1512,
    "start_time": "2025-05-04T08:46:32.522Z"
   },
   {
    "duration": 148,
    "start_time": "2025-05-04T08:46:34.039Z"
   },
   {
    "duration": 15,
    "start_time": "2025-05-04T08:46:34.189Z"
   },
   {
    "duration": 46,
    "start_time": "2025-05-04T08:46:34.206Z"
   },
   {
    "duration": 62,
    "start_time": "2025-05-04T08:46:34.254Z"
   },
   {
    "duration": 36,
    "start_time": "2025-05-04T08:46:34.317Z"
   },
   {
    "duration": 19,
    "start_time": "2025-05-04T08:46:34.359Z"
   },
   {
    "duration": 23,
    "start_time": "2025-05-04T08:46:34.380Z"
   },
   {
    "duration": 26,
    "start_time": "2025-05-04T08:46:34.407Z"
   },
   {
    "duration": 18,
    "start_time": "2025-05-04T08:46:34.435Z"
   },
   {
    "duration": 52,
    "start_time": "2025-05-04T08:46:34.455Z"
   },
   {
    "duration": 22,
    "start_time": "2025-05-04T08:46:34.509Z"
   },
   {
    "duration": 42,
    "start_time": "2025-05-04T08:46:34.533Z"
   },
   {
    "duration": 48,
    "start_time": "2025-05-04T08:46:34.577Z"
   },
   {
    "duration": 35,
    "start_time": "2025-05-04T08:46:34.627Z"
   },
   {
    "duration": 26,
    "start_time": "2025-05-04T08:46:34.664Z"
   },
   {
    "duration": 26,
    "start_time": "2025-05-04T08:46:34.692Z"
   },
   {
    "duration": 1755,
    "start_time": "2025-05-04T08:46:34.720Z"
   },
   {
    "duration": 8,
    "start_time": "2025-05-04T08:46:36.477Z"
   },
   {
    "duration": 220,
    "start_time": "2025-05-04T08:46:36.486Z"
   },
   {
    "duration": 9,
    "start_time": "2025-05-04T08:46:36.707Z"
   },
   {
    "duration": 251,
    "start_time": "2025-05-04T08:46:36.717Z"
   },
   {
    "duration": 9,
    "start_time": "2025-05-04T08:46:36.970Z"
   },
   {
    "duration": 191,
    "start_time": "2025-05-04T08:46:36.980Z"
   },
   {
    "duration": 147,
    "start_time": "2025-05-04T08:46:37.173Z"
   },
   {
    "duration": 229,
    "start_time": "2025-05-04T08:46:37.321Z"
   },
   {
    "duration": 150,
    "start_time": "2025-05-04T08:46:37.552Z"
   },
   {
    "duration": 189,
    "start_time": "2025-05-04T08:46:37.704Z"
   },
   {
    "duration": 2,
    "start_time": "2025-05-04T08:46:37.895Z"
   },
   {
    "duration": 43,
    "start_time": "2025-05-04T08:46:37.899Z"
   },
   {
    "duration": 261,
    "start_time": "2025-05-04T08:46:37.944Z"
   },
   {
    "duration": 174,
    "start_time": "2025-05-04T08:46:38.207Z"
   },
   {
    "duration": 238,
    "start_time": "2025-05-04T08:46:38.383Z"
   },
   {
    "duration": 17,
    "start_time": "2025-05-04T08:46:38.623Z"
   },
   {
    "duration": 271,
    "start_time": "2025-05-04T08:46:38.642Z"
   },
   {
    "duration": 33,
    "start_time": "2025-05-04T08:46:38.917Z"
   },
   {
    "duration": 249,
    "start_time": "2025-05-04T08:46:38.952Z"
   },
   {
    "duration": 389,
    "start_time": "2025-05-04T08:46:39.203Z"
   },
   {
    "duration": 7,
    "start_time": "2025-05-04T08:46:39.594Z"
   },
   {
    "duration": 7,
    "start_time": "2025-05-04T08:46:39.602Z"
   },
   {
    "duration": 374,
    "start_time": "2025-05-04T08:46:39.611Z"
   },
   {
    "duration": 124,
    "start_time": "2025-05-04T08:46:39.987Z"
   },
   {
    "duration": 0,
    "start_time": "2025-05-04T08:46:40.113Z"
   },
   {
    "duration": 10,
    "start_time": "2025-05-04T08:50:00.518Z"
   },
   {
    "duration": 186,
    "start_time": "2025-05-04T08:50:09.661Z"
   },
   {
    "duration": 5,
    "start_time": "2025-05-04T08:51:30.435Z"
   },
   {
    "duration": 376,
    "start_time": "2025-05-04T08:53:08.625Z"
   },
   {
    "duration": 190,
    "start_time": "2025-05-04T08:54:56.743Z"
   },
   {
    "duration": 181,
    "start_time": "2025-05-04T08:57:16.343Z"
   },
   {
    "duration": 9,
    "start_time": "2025-05-04T08:57:21.634Z"
   },
   {
    "duration": 172,
    "start_time": "2025-05-04T08:57:24.391Z"
   },
   {
    "duration": 8,
    "start_time": "2025-05-04T08:57:50.500Z"
   },
   {
    "duration": 5,
    "start_time": "2025-05-04T08:58:52.520Z"
   },
   {
    "duration": 263,
    "start_time": "2025-05-04T08:59:08.988Z"
   },
   {
    "duration": 183,
    "start_time": "2025-05-04T09:00:23.842Z"
   },
   {
    "duration": 178,
    "start_time": "2025-05-04T09:01:06.582Z"
   },
   {
    "duration": 339,
    "start_time": "2025-05-04T09:05:21.346Z"
   },
   {
    "duration": 303,
    "start_time": "2025-05-04T09:06:57.057Z"
   },
   {
    "duration": 305,
    "start_time": "2025-05-04T09:08:24.272Z"
   },
   {
    "duration": 2,
    "start_time": "2025-05-04T09:14:16.875Z"
   },
   {
    "duration": 4303,
    "start_time": "2025-05-04T16:41:01.653Z"
   },
   {
    "duration": 1793,
    "start_time": "2025-05-04T16:41:05.959Z"
   },
   {
    "duration": 196,
    "start_time": "2025-05-04T16:41:07.754Z"
   },
   {
    "duration": 17,
    "start_time": "2025-05-04T16:41:07.951Z"
   },
   {
    "duration": 15,
    "start_time": "2025-05-04T16:41:07.971Z"
   },
   {
    "duration": 52,
    "start_time": "2025-05-04T16:41:07.988Z"
   },
   {
    "duration": 17,
    "start_time": "2025-05-04T16:41:08.042Z"
   },
   {
    "duration": 47,
    "start_time": "2025-05-04T16:41:08.062Z"
   },
   {
    "duration": 28,
    "start_time": "2025-05-04T16:41:08.117Z"
   },
   {
    "duration": 6,
    "start_time": "2025-05-04T16:41:08.147Z"
   },
   {
    "duration": 25,
    "start_time": "2025-05-04T16:41:08.155Z"
   },
   {
    "duration": 64,
    "start_time": "2025-05-04T16:41:08.182Z"
   },
   {
    "duration": 33,
    "start_time": "2025-05-04T16:41:08.249Z"
   },
   {
    "duration": 4,
    "start_time": "2025-05-04T16:41:08.287Z"
   },
   {
    "duration": 62,
    "start_time": "2025-05-04T16:41:08.294Z"
   },
   {
    "duration": 16,
    "start_time": "2025-05-04T16:41:08.358Z"
   },
   {
    "duration": 6,
    "start_time": "2025-05-04T16:41:08.376Z"
   },
   {
    "duration": 2185,
    "start_time": "2025-05-04T16:41:08.384Z"
   },
   {
    "duration": 8,
    "start_time": "2025-05-04T16:41:10.571Z"
   },
   {
    "duration": 248,
    "start_time": "2025-05-04T16:41:10.581Z"
   },
   {
    "duration": 13,
    "start_time": "2025-05-04T16:41:10.832Z"
   },
   {
    "duration": 305,
    "start_time": "2025-05-04T16:41:10.847Z"
   },
   {
    "duration": 13,
    "start_time": "2025-05-04T16:41:11.154Z"
   },
   {
    "duration": 272,
    "start_time": "2025-05-04T16:41:11.169Z"
   },
   {
    "duration": 191,
    "start_time": "2025-05-04T16:41:11.444Z"
   },
   {
    "duration": 260,
    "start_time": "2025-05-04T16:41:11.639Z"
   },
   {
    "duration": 162,
    "start_time": "2025-05-04T16:41:11.909Z"
   },
   {
    "duration": 363,
    "start_time": "2025-05-04T16:41:12.074Z"
   },
   {
    "duration": 2,
    "start_time": "2025-05-04T16:41:12.440Z"
   },
   {
    "duration": 11,
    "start_time": "2025-05-04T16:41:12.444Z"
   },
   {
    "duration": 225,
    "start_time": "2025-05-04T16:41:12.457Z"
   },
   {
    "duration": 232,
    "start_time": "2025-05-04T16:41:12.684Z"
   },
   {
    "duration": 291,
    "start_time": "2025-05-04T16:41:12.918Z"
   },
   {
    "duration": 16,
    "start_time": "2025-05-04T16:41:13.216Z"
   },
   {
    "duration": 364,
    "start_time": "2025-05-04T16:41:13.235Z"
   },
   {
    "duration": 28,
    "start_time": "2025-05-04T16:41:13.605Z"
   },
   {
    "duration": 330,
    "start_time": "2025-05-04T16:41:13.635Z"
   },
   {
    "duration": 434,
    "start_time": "2025-05-04T16:41:13.967Z"
   },
   {
    "duration": 12,
    "start_time": "2025-05-04T16:41:14.403Z"
   },
   {
    "duration": 428,
    "start_time": "2025-05-04T16:41:14.416Z"
   },
   {
    "duration": 11,
    "start_time": "2025-05-04T16:41:14.848Z"
   },
   {
    "duration": 407,
    "start_time": "2025-05-04T16:41:14.861Z"
   },
   {
    "duration": 7,
    "start_time": "2025-05-04T16:41:39.370Z"
   },
   {
    "duration": 21,
    "start_time": "2025-05-04T16:41:46.938Z"
   },
   {
    "duration": 32,
    "start_time": "2025-05-04T16:44:23.293Z"
   },
   {
    "duration": 20,
    "start_time": "2025-05-04T16:48:57.337Z"
   },
   {
    "duration": 1171,
    "start_time": "2025-05-04T16:53:19.537Z"
   },
   {
    "duration": 390,
    "start_time": "2025-05-04T16:53:40.412Z"
   },
   {
    "duration": 24,
    "start_time": "2025-05-04T16:53:53.818Z"
   },
   {
    "duration": 21,
    "start_time": "2025-05-04T16:57:12.121Z"
   },
   {
    "duration": 26,
    "start_time": "2025-05-04T16:58:38.560Z"
   },
   {
    "duration": 22,
    "start_time": "2025-05-04T17:00:26.477Z"
   },
   {
    "duration": 6,
    "start_time": "2025-05-04T17:00:51.157Z"
   },
   {
    "duration": 32,
    "start_time": "2025-05-04T17:01:53.221Z"
   },
   {
    "duration": 18,
    "start_time": "2025-05-04T17:02:02.474Z"
   },
   {
    "duration": 32,
    "start_time": "2025-05-04T17:02:36.784Z"
   },
   {
    "duration": 25,
    "start_time": "2025-05-04T17:03:12.089Z"
   },
   {
    "duration": 24,
    "start_time": "2025-05-04T17:03:47.560Z"
   },
   {
    "duration": 23,
    "start_time": "2025-05-04T17:05:48.948Z"
   },
   {
    "duration": 28,
    "start_time": "2025-05-04T17:07:48.213Z"
   },
   {
    "duration": 16,
    "start_time": "2025-05-04T17:08:05.618Z"
   },
   {
    "duration": 40,
    "start_time": "2025-05-04T17:12:37.262Z"
   },
   {
    "duration": 30,
    "start_time": "2025-05-04T17:13:55.734Z"
   },
   {
    "duration": 23,
    "start_time": "2025-05-04T17:14:48.424Z"
   },
   {
    "duration": 3658,
    "start_time": "2025-05-05T04:16:14.483Z"
   },
   {
    "duration": 1436,
    "start_time": "2025-05-05T04:16:18.144Z"
   },
   {
    "duration": 211,
    "start_time": "2025-05-05T04:16:19.582Z"
   },
   {
    "duration": 16,
    "start_time": "2025-05-05T04:16:19.795Z"
   },
   {
    "duration": 15,
    "start_time": "2025-05-05T04:16:19.813Z"
   },
   {
    "duration": 26,
    "start_time": "2025-05-05T04:16:19.829Z"
   },
   {
    "duration": 20,
    "start_time": "2025-05-05T04:16:19.856Z"
   },
   {
    "duration": 12,
    "start_time": "2025-05-05T04:16:19.877Z"
   },
   {
    "duration": 21,
    "start_time": "2025-05-05T04:16:19.891Z"
   },
   {
    "duration": 18,
    "start_time": "2025-05-05T04:16:19.914Z"
   },
   {
    "duration": 10,
    "start_time": "2025-05-05T04:16:19.933Z"
   },
   {
    "duration": 12,
    "start_time": "2025-05-05T04:16:19.944Z"
   },
   {
    "duration": 56,
    "start_time": "2025-05-05T04:16:19.957Z"
   },
   {
    "duration": 33,
    "start_time": "2025-05-05T04:16:20.016Z"
   },
   {
    "duration": 32,
    "start_time": "2025-05-05T04:16:20.050Z"
   },
   {
    "duration": 1743,
    "start_time": "2025-05-05T04:16:20.083Z"
   },
   {
    "duration": 6,
    "start_time": "2025-05-05T04:16:21.828Z"
   },
   {
    "duration": 196,
    "start_time": "2025-05-05T04:16:21.836Z"
   },
   {
    "duration": 8,
    "start_time": "2025-05-05T04:16:22.034Z"
   },
   {
    "duration": 233,
    "start_time": "2025-05-05T04:16:22.043Z"
   },
   {
    "duration": 11,
    "start_time": "2025-05-05T04:16:22.277Z"
   },
   {
    "duration": 204,
    "start_time": "2025-05-05T04:16:22.289Z"
   },
   {
    "duration": 156,
    "start_time": "2025-05-05T04:16:22.495Z"
   },
   {
    "duration": 215,
    "start_time": "2025-05-05T04:16:22.653Z"
   },
   {
    "duration": 137,
    "start_time": "2025-05-05T04:16:22.870Z"
   },
   {
    "duration": 200,
    "start_time": "2025-05-05T04:16:23.008Z"
   },
   {
    "duration": 2,
    "start_time": "2025-05-05T04:16:23.210Z"
   },
   {
    "duration": 14,
    "start_time": "2025-05-05T04:16:23.215Z"
   },
   {
    "duration": 266,
    "start_time": "2025-05-05T04:16:23.231Z"
   },
   {
    "duration": 181,
    "start_time": "2025-05-05T04:16:23.499Z"
   },
   {
    "duration": 314,
    "start_time": "2025-05-05T04:16:23.682Z"
   },
   {
    "duration": 4,
    "start_time": "2025-05-05T04:16:24.006Z"
   },
   {
    "duration": 268,
    "start_time": "2025-05-05T04:16:24.012Z"
   },
   {
    "duration": 32,
    "start_time": "2025-05-05T04:16:24.282Z"
   },
   {
    "duration": 253,
    "start_time": "2025-05-05T04:16:24.316Z"
   },
   {
    "duration": 403,
    "start_time": "2025-05-05T04:16:24.571Z"
   },
   {
    "duration": 9,
    "start_time": "2025-05-05T04:16:24.977Z"
   },
   {
    "duration": 397,
    "start_time": "2025-05-05T04:16:24.988Z"
   },
   {
    "duration": 9,
    "start_time": "2025-05-05T04:16:25.386Z"
   },
   {
    "duration": 319,
    "start_time": "2025-05-05T04:16:25.405Z"
   },
   {
    "duration": 3970,
    "start_time": "2025-05-05T08:08:28.627Z"
   },
   {
    "duration": 1523,
    "start_time": "2025-05-05T08:08:32.599Z"
   },
   {
    "duration": 221,
    "start_time": "2025-05-05T08:08:34.124Z"
   },
   {
    "duration": 16,
    "start_time": "2025-05-05T08:08:34.347Z"
   },
   {
    "duration": 14,
    "start_time": "2025-05-05T08:08:34.366Z"
   },
   {
    "duration": 10,
    "start_time": "2025-05-05T08:08:34.382Z"
   },
   {
    "duration": 44,
    "start_time": "2025-05-05T08:08:34.397Z"
   },
   {
    "duration": 120,
    "start_time": "2025-05-05T08:08:34.444Z"
   },
   {
    "duration": 30,
    "start_time": "2025-05-05T08:08:34.567Z"
   },
   {
    "duration": 26,
    "start_time": "2025-05-05T08:08:34.600Z"
   },
   {
    "duration": 155,
    "start_time": "2025-05-05T08:08:34.629Z"
   },
   {
    "duration": 51,
    "start_time": "2025-05-05T08:08:34.787Z"
   },
   {
    "duration": 70,
    "start_time": "2025-05-05T08:08:34.840Z"
   },
   {
    "duration": 13,
    "start_time": "2025-05-05T08:08:34.914Z"
   },
   {
    "duration": 18,
    "start_time": "2025-05-05T08:08:34.929Z"
   },
   {
    "duration": 1817,
    "start_time": "2025-05-05T08:08:34.949Z"
   },
   {
    "duration": 12,
    "start_time": "2025-05-05T08:08:36.768Z"
   },
   {
    "duration": 313,
    "start_time": "2025-05-05T08:08:36.782Z"
   },
   {
    "duration": 9,
    "start_time": "2025-05-05T08:08:37.097Z"
   },
   {
    "duration": 253,
    "start_time": "2025-05-05T08:08:37.108Z"
   },
   {
    "duration": 11,
    "start_time": "2025-05-05T08:08:37.363Z"
   },
   {
    "duration": 226,
    "start_time": "2025-05-05T08:08:37.376Z"
   },
   {
    "duration": 180,
    "start_time": "2025-05-05T08:08:37.605Z"
   },
   {
    "duration": 233,
    "start_time": "2025-05-05T08:08:37.787Z"
   },
   {
    "duration": 139,
    "start_time": "2025-05-05T08:08:38.022Z"
   },
   {
    "duration": 208,
    "start_time": "2025-05-05T08:08:38.163Z"
   },
   {
    "duration": 3,
    "start_time": "2025-05-05T08:08:38.373Z"
   },
   {
    "duration": 26,
    "start_time": "2025-05-05T08:08:38.377Z"
   },
   {
    "duration": 403,
    "start_time": "2025-05-05T08:08:38.405Z"
   },
   {
    "duration": 196,
    "start_time": "2025-05-05T08:08:38.810Z"
   },
   {
    "duration": 320,
    "start_time": "2025-05-05T08:08:39.008Z"
   },
   {
    "duration": 4,
    "start_time": "2025-05-05T08:08:39.330Z"
   },
   {
    "duration": 310,
    "start_time": "2025-05-05T08:08:39.335Z"
   },
   {
    "duration": 28,
    "start_time": "2025-05-05T08:08:39.647Z"
   },
   {
    "duration": 274,
    "start_time": "2025-05-05T08:08:39.678Z"
   },
   {
    "duration": 379,
    "start_time": "2025-05-05T08:08:39.954Z"
   },
   {
    "duration": 10,
    "start_time": "2025-05-05T08:08:40.335Z"
   },
   {
    "duration": 382,
    "start_time": "2025-05-05T08:08:40.361Z"
   },
   {
    "duration": 20,
    "start_time": "2025-05-05T08:08:40.745Z"
   },
   {
    "duration": 431,
    "start_time": "2025-05-05T08:08:40.766Z"
   },
   {
    "duration": 8,
    "start_time": "2025-05-05T08:20:24.098Z"
   },
   {
    "duration": 10,
    "start_time": "2025-05-05T08:21:14.561Z"
   },
   {
    "duration": 11,
    "start_time": "2025-05-05T08:46:30.603Z"
   },
   {
    "duration": 9,
    "start_time": "2025-05-05T08:46:42.090Z"
   },
   {
    "duration": 11,
    "start_time": "2025-05-05T08:47:10.164Z"
   },
   {
    "duration": 10,
    "start_time": "2025-05-05T08:48:42.114Z"
   },
   {
    "duration": 9,
    "start_time": "2025-05-05T08:49:36.566Z"
   },
   {
    "duration": 9,
    "start_time": "2025-05-05T08:50:04.311Z"
   },
   {
    "duration": 142,
    "start_time": "2025-05-05T08:50:58.126Z"
   },
   {
    "duration": 79,
    "start_time": "2025-05-05T08:51:32.226Z"
   },
   {
    "duration": 10,
    "start_time": "2025-05-05T08:51:49.297Z"
   },
   {
    "duration": 13,
    "start_time": "2025-05-05T08:52:17.091Z"
   },
   {
    "duration": 127,
    "start_time": "2025-05-05T09:36:11.119Z"
   },
   {
    "duration": 9,
    "start_time": "2025-05-05T09:37:18.506Z"
   },
   {
    "duration": 19,
    "start_time": "2025-05-05T09:40:33.057Z"
   },
   {
    "duration": 9,
    "start_time": "2025-05-05T09:49:57.823Z"
   },
   {
    "duration": 76,
    "start_time": "2025-05-05T09:52:58.661Z"
   },
   {
    "duration": 10,
    "start_time": "2025-05-05T09:53:09.446Z"
   },
   {
    "duration": 74,
    "start_time": "2025-05-05T09:54:43.698Z"
   },
   {
    "duration": 13,
    "start_time": "2025-05-05T10:01:21.112Z"
   },
   {
    "duration": 11,
    "start_time": "2025-05-05T10:05:08.132Z"
   },
   {
    "duration": 15,
    "start_time": "2025-05-05T10:05:46.724Z"
   },
   {
    "duration": 20,
    "start_time": "2025-05-05T10:08:24.982Z"
   },
   {
    "duration": 14,
    "start_time": "2025-05-05T10:08:44.537Z"
   },
   {
    "duration": 12,
    "start_time": "2025-05-05T10:09:03.563Z"
   },
   {
    "duration": 1525,
    "start_time": "2025-05-05T10:09:39.313Z"
   },
   {
    "duration": 13,
    "start_time": "2025-05-05T10:09:47.832Z"
   },
   {
    "duration": 11,
    "start_time": "2025-05-05T10:10:12.684Z"
   },
   {
    "duration": 213,
    "start_time": "2025-05-05T10:14:59.750Z"
   },
   {
    "duration": 235,
    "start_time": "2025-05-05T10:16:53.858Z"
   },
   {
    "duration": 16,
    "start_time": "2025-05-05T10:18:14.236Z"
   },
   {
    "duration": 226,
    "start_time": "2025-05-05T10:18:43.298Z"
   },
   {
    "duration": 17,
    "start_time": "2025-05-05T10:19:07.176Z"
   },
   {
    "duration": 324,
    "start_time": "2025-05-05T10:19:10.327Z"
   },
   {
    "duration": 16,
    "start_time": "2025-05-05T10:23:48.029Z"
   },
   {
    "duration": 227,
    "start_time": "2025-05-05T10:24:04.212Z"
   },
   {
    "duration": 20,
    "start_time": "2025-05-05T10:24:17.289Z"
   },
   {
    "duration": 227,
    "start_time": "2025-05-05T10:25:18.898Z"
   },
   {
    "duration": 237,
    "start_time": "2025-05-05T10:25:32.075Z"
   },
   {
    "duration": 236,
    "start_time": "2025-05-05T10:26:17.525Z"
   },
   {
    "duration": 17,
    "start_time": "2025-05-05T10:27:37.019Z"
   },
   {
    "duration": 16,
    "start_time": "2025-05-05T10:28:13.151Z"
   },
   {
    "duration": 221,
    "start_time": "2025-05-05T10:28:40.498Z"
   },
   {
    "duration": 17,
    "start_time": "2025-05-05T10:29:32.036Z"
   },
   {
    "duration": 221,
    "start_time": "2025-05-05T10:29:34.386Z"
   },
   {
    "duration": 18,
    "start_time": "2025-05-05T10:32:56.698Z"
   },
   {
    "duration": 16,
    "start_time": "2025-05-05T10:33:50.590Z"
   },
   {
    "duration": 18,
    "start_time": "2025-05-05T10:34:02.836Z"
   },
   {
    "duration": 17,
    "start_time": "2025-05-05T10:34:22.907Z"
   },
   {
    "duration": 16,
    "start_time": "2025-05-05T10:34:44.260Z"
   },
   {
    "duration": 197,
    "start_time": "2025-05-05T10:35:01.951Z"
   },
   {
    "duration": 190,
    "start_time": "2025-05-05T10:36:10.802Z"
   },
   {
    "duration": 222,
    "start_time": "2025-05-05T10:36:27.338Z"
   },
   {
    "duration": 336,
    "start_time": "2025-05-05T10:36:37.359Z"
   },
   {
    "duration": 201,
    "start_time": "2025-05-05T10:37:20.847Z"
   },
   {
    "duration": 226,
    "start_time": "2025-05-05T10:37:55.634Z"
   },
   {
    "duration": 228,
    "start_time": "2025-05-05T10:38:16.626Z"
   },
   {
    "duration": 154,
    "start_time": "2025-05-05T10:46:55.087Z"
   },
   {
    "duration": 164,
    "start_time": "2025-05-05T10:52:03.830Z"
   },
   {
    "duration": 166,
    "start_time": "2025-05-05T10:53:16.528Z"
   },
   {
    "duration": 155,
    "start_time": "2025-05-05T10:53:38.915Z"
   },
   {
    "duration": 240,
    "start_time": "2025-05-05T10:58:31.543Z"
   },
   {
    "duration": 231,
    "start_time": "2025-05-05T11:00:27.217Z"
   },
   {
    "duration": 162,
    "start_time": "2025-05-05T11:01:40.437Z"
   },
   {
    "duration": 11,
    "start_time": "2025-05-05T11:02:31.943Z"
   },
   {
    "duration": 16,
    "start_time": "2025-05-05T11:05:26.391Z"
   },
   {
    "duration": 18,
    "start_time": "2025-05-05T11:06:58.392Z"
   },
   {
    "duration": 18,
    "start_time": "2025-05-05T11:07:22.064Z"
   },
   {
    "duration": 12,
    "start_time": "2025-05-05T11:07:36.819Z"
   },
   {
    "duration": 18,
    "start_time": "2025-05-05T11:08:17.918Z"
   },
   {
    "duration": 275,
    "start_time": "2025-05-05T11:08:37.170Z"
   },
   {
    "duration": 3515,
    "start_time": "2025-05-05T13:05:34.508Z"
   },
   {
    "duration": 1467,
    "start_time": "2025-05-05T13:05:38.025Z"
   },
   {
    "duration": 196,
    "start_time": "2025-05-05T13:05:39.494Z"
   },
   {
    "duration": 16,
    "start_time": "2025-05-05T13:05:39.693Z"
   },
   {
    "duration": 38,
    "start_time": "2025-05-05T13:05:39.711Z"
   },
   {
    "duration": 11,
    "start_time": "2025-05-05T13:05:39.752Z"
   },
   {
    "duration": 14,
    "start_time": "2025-05-05T13:05:39.764Z"
   },
   {
    "duration": 34,
    "start_time": "2025-05-05T13:05:39.780Z"
   },
   {
    "duration": 17,
    "start_time": "2025-05-05T13:05:39.816Z"
   },
   {
    "duration": 17,
    "start_time": "2025-05-05T13:05:39.837Z"
   },
   {
    "duration": 9,
    "start_time": "2025-05-05T13:05:39.856Z"
   },
   {
    "duration": 21,
    "start_time": "2025-05-05T13:05:39.866Z"
   },
   {
    "duration": 42,
    "start_time": "2025-05-05T13:05:39.889Z"
   },
   {
    "duration": 12,
    "start_time": "2025-05-05T13:05:39.933Z"
   },
   {
    "duration": 31,
    "start_time": "2025-05-05T13:05:39.946Z"
   },
   {
    "duration": 1672,
    "start_time": "2025-05-05T13:05:39.978Z"
   },
   {
    "duration": 6,
    "start_time": "2025-05-05T13:05:41.652Z"
   },
   {
    "duration": 225,
    "start_time": "2025-05-05T13:05:41.676Z"
   },
   {
    "duration": 15,
    "start_time": "2025-05-05T13:05:41.903Z"
   },
   {
    "duration": 268,
    "start_time": "2025-05-05T13:05:41.919Z"
   },
   {
    "duration": 19,
    "start_time": "2025-05-05T13:05:42.190Z"
   },
   {
    "duration": 209,
    "start_time": "2025-05-05T13:05:42.211Z"
   },
   {
    "duration": 174,
    "start_time": "2025-05-05T13:05:42.422Z"
   },
   {
    "duration": 12,
    "start_time": "2025-05-05T13:05:42.598Z"
   },
   {
    "duration": 237,
    "start_time": "2025-05-05T13:05:42.613Z"
   },
   {
    "duration": 132,
    "start_time": "2025-05-05T13:05:42.852Z"
   },
   {
    "duration": 204,
    "start_time": "2025-05-05T13:05:42.986Z"
   },
   {
    "duration": 2,
    "start_time": "2025-05-05T13:05:43.195Z"
   },
   {
    "duration": 79,
    "start_time": "2025-05-05T13:05:43.198Z"
   },
   {
    "duration": 322,
    "start_time": "2025-05-05T13:05:43.279Z"
   },
   {
    "duration": 188,
    "start_time": "2025-05-05T13:05:43.603Z"
   },
   {
    "duration": 272,
    "start_time": "2025-05-05T13:05:43.793Z"
   },
   {
    "duration": 10,
    "start_time": "2025-05-05T13:05:44.067Z"
   },
   {
    "duration": 281,
    "start_time": "2025-05-05T13:05:44.079Z"
   },
   {
    "duration": 30,
    "start_time": "2025-05-05T13:05:44.361Z"
   },
   {
    "duration": 275,
    "start_time": "2025-05-05T13:05:44.393Z"
   },
   {
    "duration": 376,
    "start_time": "2025-05-05T13:05:44.670Z"
   },
   {
    "duration": 8,
    "start_time": "2025-05-05T13:05:45.048Z"
   },
   {
    "duration": 386,
    "start_time": "2025-05-05T13:05:45.058Z"
   },
   {
    "duration": 11,
    "start_time": "2025-05-05T13:05:45.445Z"
   },
   {
    "duration": 467,
    "start_time": "2025-05-05T13:05:45.457Z"
   },
   {
    "duration": 8,
    "start_time": "2025-05-05T13:08:17.744Z"
   },
   {
    "duration": 122,
    "start_time": "2025-05-05T13:08:49.887Z"
   },
   {
    "duration": 8,
    "start_time": "2025-05-05T13:09:19.641Z"
   },
   {
    "duration": 8,
    "start_time": "2025-05-05T13:09:35.422Z"
   },
   {
    "duration": 15,
    "start_time": "2025-05-05T13:09:53.049Z"
   },
   {
    "duration": 13,
    "start_time": "2025-05-05T13:10:12.312Z"
   },
   {
    "duration": 9,
    "start_time": "2025-05-05T13:10:17.054Z"
   },
   {
    "duration": 11,
    "start_time": "2025-05-05T13:12:01.095Z"
   },
   {
    "duration": 194,
    "start_time": "2025-05-05T13:13:00.206Z"
   },
   {
    "duration": 27,
    "start_time": "2025-05-05T13:24:38.883Z"
   },
   {
    "duration": 18,
    "start_time": "2025-05-05T13:25:38.458Z"
   },
   {
    "duration": 20,
    "start_time": "2025-05-05T13:26:31.689Z"
   },
   {
    "duration": 30,
    "start_time": "2025-05-05T13:26:53.445Z"
   },
   {
    "duration": 14,
    "start_time": "2025-05-05T13:27:56.947Z"
   },
   {
    "duration": 12,
    "start_time": "2025-05-05T13:28:18.090Z"
   },
   {
    "duration": 13,
    "start_time": "2025-05-05T13:30:43.578Z"
   },
   {
    "duration": 33,
    "start_time": "2025-05-05T13:32:46.014Z"
   },
   {
    "duration": 34,
    "start_time": "2025-05-05T13:35:29.492Z"
   },
   {
    "duration": 173,
    "start_time": "2025-05-05T13:36:42.834Z"
   },
   {
    "duration": 13,
    "start_time": "2025-05-05T13:53:13.944Z"
   },
   {
    "duration": 11,
    "start_time": "2025-05-05T13:53:34.282Z"
   },
   {
    "duration": 91,
    "start_time": "2025-05-05T14:00:04.702Z"
   },
   {
    "duration": 33,
    "start_time": "2025-05-05T14:00:10.429Z"
   },
   {
    "duration": 18,
    "start_time": "2025-05-05T14:03:08.235Z"
   },
   {
    "duration": 18,
    "start_time": "2025-05-05T14:04:07.139Z"
   },
   {
    "duration": 18,
    "start_time": "2025-05-05T14:04:22.695Z"
   },
   {
    "duration": 2667,
    "start_time": "2025-05-05T14:04:32.886Z"
   },
   {
    "duration": 1373,
    "start_time": "2025-05-05T14:04:35.555Z"
   },
   {
    "duration": 232,
    "start_time": "2025-05-05T14:04:36.930Z"
   },
   {
    "duration": 18,
    "start_time": "2025-05-05T14:04:37.164Z"
   },
   {
    "duration": 110,
    "start_time": "2025-05-05T14:04:37.183Z"
   },
   {
    "duration": 111,
    "start_time": "2025-05-05T14:04:37.295Z"
   },
   {
    "duration": 29,
    "start_time": "2025-05-05T14:04:37.408Z"
   },
   {
    "duration": 37,
    "start_time": "2025-05-05T14:04:37.438Z"
   },
   {
    "duration": 109,
    "start_time": "2025-05-05T14:04:37.476Z"
   },
   {
    "duration": 163,
    "start_time": "2025-05-05T14:04:37.588Z"
   },
   {
    "duration": 0,
    "start_time": "2025-05-05T14:04:37.754Z"
   },
   {
    "duration": 0,
    "start_time": "2025-05-05T14:04:37.756Z"
   },
   {
    "duration": 0,
    "start_time": "2025-05-05T14:04:37.758Z"
   },
   {
    "duration": 0,
    "start_time": "2025-05-05T14:04:37.759Z"
   },
   {
    "duration": 0,
    "start_time": "2025-05-05T14:04:37.760Z"
   },
   {
    "duration": 0,
    "start_time": "2025-05-05T14:04:37.777Z"
   },
   {
    "duration": 0,
    "start_time": "2025-05-05T14:04:37.778Z"
   },
   {
    "duration": 0,
    "start_time": "2025-05-05T14:04:37.780Z"
   },
   {
    "duration": 0,
    "start_time": "2025-05-05T14:04:37.781Z"
   },
   {
    "duration": 0,
    "start_time": "2025-05-05T14:04:37.782Z"
   },
   {
    "duration": 1,
    "start_time": "2025-05-05T14:04:37.783Z"
   },
   {
    "duration": 0,
    "start_time": "2025-05-05T14:04:37.785Z"
   },
   {
    "duration": 0,
    "start_time": "2025-05-05T14:04:37.786Z"
   },
   {
    "duration": 1,
    "start_time": "2025-05-05T14:04:37.787Z"
   },
   {
    "duration": 0,
    "start_time": "2025-05-05T14:04:37.789Z"
   },
   {
    "duration": 0,
    "start_time": "2025-05-05T14:04:37.790Z"
   },
   {
    "duration": 0,
    "start_time": "2025-05-05T14:04:37.792Z"
   },
   {
    "duration": 0,
    "start_time": "2025-05-05T14:04:37.793Z"
   },
   {
    "duration": 0,
    "start_time": "2025-05-05T14:04:37.794Z"
   },
   {
    "duration": 0,
    "start_time": "2025-05-05T14:04:37.795Z"
   },
   {
    "duration": 0,
    "start_time": "2025-05-05T14:04:37.796Z"
   },
   {
    "duration": 0,
    "start_time": "2025-05-05T14:04:37.797Z"
   },
   {
    "duration": 0,
    "start_time": "2025-05-05T14:04:37.798Z"
   },
   {
    "duration": 0,
    "start_time": "2025-05-05T14:04:37.799Z"
   },
   {
    "duration": 0,
    "start_time": "2025-05-05T14:04:37.800Z"
   },
   {
    "duration": 0,
    "start_time": "2025-05-05T14:04:37.801Z"
   },
   {
    "duration": 0,
    "start_time": "2025-05-05T14:04:37.802Z"
   },
   {
    "duration": 0,
    "start_time": "2025-05-05T14:04:37.803Z"
   },
   {
    "duration": 0,
    "start_time": "2025-05-05T14:04:37.805Z"
   },
   {
    "duration": 0,
    "start_time": "2025-05-05T14:04:37.806Z"
   },
   {
    "duration": 0,
    "start_time": "2025-05-05T14:04:37.807Z"
   },
   {
    "duration": 0,
    "start_time": "2025-05-05T14:04:37.808Z"
   },
   {
    "duration": 0,
    "start_time": "2025-05-05T14:04:37.809Z"
   },
   {
    "duration": 45,
    "start_time": "2025-05-05T14:05:26.003Z"
   },
   {
    "duration": 23,
    "start_time": "2025-05-05T14:09:04.174Z"
   },
   {
    "duration": 13,
    "start_time": "2025-05-05T14:09:13.512Z"
   },
   {
    "duration": 20,
    "start_time": "2025-05-05T14:10:41.036Z"
   },
   {
    "duration": 2610,
    "start_time": "2025-05-05T14:13:36.803Z"
   },
   {
    "duration": 1248,
    "start_time": "2025-05-05T14:13:39.416Z"
   },
   {
    "duration": 155,
    "start_time": "2025-05-05T14:13:40.666Z"
   },
   {
    "duration": 16,
    "start_time": "2025-05-05T14:13:40.824Z"
   },
   {
    "duration": 19,
    "start_time": "2025-05-05T14:13:40.842Z"
   },
   {
    "duration": 11,
    "start_time": "2025-05-05T14:13:40.863Z"
   },
   {
    "duration": 29,
    "start_time": "2025-05-05T14:13:40.876Z"
   },
   {
    "duration": 35,
    "start_time": "2025-05-05T14:13:40.907Z"
   },
   {
    "duration": 25,
    "start_time": "2025-05-05T14:13:40.943Z"
   },
   {
    "duration": 17,
    "start_time": "2025-05-05T14:13:40.971Z"
   },
   {
    "duration": 25,
    "start_time": "2025-05-05T14:13:40.989Z"
   },
   {
    "duration": 9,
    "start_time": "2025-05-05T14:13:41.016Z"
   },
   {
    "duration": 16,
    "start_time": "2025-05-05T14:13:41.027Z"
   },
   {
    "duration": 55,
    "start_time": "2025-05-05T14:13:41.045Z"
   },
   {
    "duration": 13,
    "start_time": "2025-05-05T14:13:41.102Z"
   },
   {
    "duration": 6,
    "start_time": "2025-05-05T14:13:41.116Z"
   },
   {
    "duration": 1775,
    "start_time": "2025-05-05T14:13:41.123Z"
   },
   {
    "duration": 7,
    "start_time": "2025-05-05T14:13:42.899Z"
   },
   {
    "duration": 207,
    "start_time": "2025-05-05T14:13:42.907Z"
   },
   {
    "duration": 16,
    "start_time": "2025-05-05T14:13:43.115Z"
   },
   {
    "duration": 249,
    "start_time": "2025-05-05T14:13:43.133Z"
   },
   {
    "duration": 16,
    "start_time": "2025-05-05T14:13:43.384Z"
   },
   {
    "duration": 207,
    "start_time": "2025-05-05T14:13:43.402Z"
   },
   {
    "duration": 169,
    "start_time": "2025-05-05T14:13:43.611Z"
   },
   {
    "duration": 11,
    "start_time": "2025-05-05T14:13:43.781Z"
   },
   {
    "duration": 282,
    "start_time": "2025-05-05T14:13:43.793Z"
   },
   {
    "duration": 237,
    "start_time": "2025-05-05T14:13:44.077Z"
   },
   {
    "duration": 0,
    "start_time": "2025-05-05T14:13:44.316Z"
   },
   {
    "duration": 0,
    "start_time": "2025-05-05T14:13:44.318Z"
   },
   {
    "duration": 0,
    "start_time": "2025-05-05T14:13:44.319Z"
   },
   {
    "duration": 0,
    "start_time": "2025-05-05T14:13:44.320Z"
   },
   {
    "duration": 0,
    "start_time": "2025-05-05T14:13:44.321Z"
   },
   {
    "duration": 0,
    "start_time": "2025-05-05T14:13:44.322Z"
   },
   {
    "duration": 0,
    "start_time": "2025-05-05T14:13:44.323Z"
   },
   {
    "duration": 0,
    "start_time": "2025-05-05T14:13:44.324Z"
   },
   {
    "duration": 0,
    "start_time": "2025-05-05T14:13:44.325Z"
   },
   {
    "duration": 0,
    "start_time": "2025-05-05T14:13:44.326Z"
   },
   {
    "duration": 0,
    "start_time": "2025-05-05T14:13:44.327Z"
   },
   {
    "duration": 0,
    "start_time": "2025-05-05T14:13:44.328Z"
   },
   {
    "duration": 0,
    "start_time": "2025-05-05T14:13:44.329Z"
   },
   {
    "duration": 0,
    "start_time": "2025-05-05T14:13:44.330Z"
   },
   {
    "duration": 0,
    "start_time": "2025-05-05T14:13:44.332Z"
   },
   {
    "duration": 0,
    "start_time": "2025-05-05T14:13:44.333Z"
   },
   {
    "duration": 5,
    "start_time": "2025-05-05T14:14:49.686Z"
   },
   {
    "duration": 6,
    "start_time": "2025-05-05T14:15:06.607Z"
   },
   {
    "duration": 2737,
    "start_time": "2025-05-05T14:15:29.621Z"
   },
   {
    "duration": 1335,
    "start_time": "2025-05-05T14:15:32.361Z"
   },
   {
    "duration": 209,
    "start_time": "2025-05-05T14:15:33.698Z"
   },
   {
    "duration": 19,
    "start_time": "2025-05-05T14:15:33.909Z"
   },
   {
    "duration": 43,
    "start_time": "2025-05-05T14:15:33.932Z"
   },
   {
    "duration": 31,
    "start_time": "2025-05-05T14:15:33.978Z"
   },
   {
    "duration": 56,
    "start_time": "2025-05-05T14:15:34.011Z"
   },
   {
    "duration": 76,
    "start_time": "2025-05-05T14:15:34.069Z"
   },
   {
    "duration": 31,
    "start_time": "2025-05-05T14:15:34.147Z"
   },
   {
    "duration": 19,
    "start_time": "2025-05-05T14:15:34.180Z"
   },
   {
    "duration": 84,
    "start_time": "2025-05-05T14:15:34.201Z"
   },
   {
    "duration": 54,
    "start_time": "2025-05-05T14:15:34.288Z"
   },
   {
    "duration": 50,
    "start_time": "2025-05-05T14:15:34.345Z"
   },
   {
    "duration": 37,
    "start_time": "2025-05-05T14:15:34.400Z"
   },
   {
    "duration": 66,
    "start_time": "2025-05-05T14:15:34.439Z"
   },
   {
    "duration": 56,
    "start_time": "2025-05-05T14:15:34.506Z"
   },
   {
    "duration": 23,
    "start_time": "2025-05-05T14:15:34.564Z"
   },
   {
    "duration": 1837,
    "start_time": "2025-05-05T14:15:34.589Z"
   },
   {
    "duration": 7,
    "start_time": "2025-05-05T14:15:36.428Z"
   },
   {
    "duration": 215,
    "start_time": "2025-05-05T14:15:36.436Z"
   },
   {
    "duration": 29,
    "start_time": "2025-05-05T14:15:36.653Z"
   },
   {
    "duration": 260,
    "start_time": "2025-05-05T14:15:36.684Z"
   },
   {
    "duration": 17,
    "start_time": "2025-05-05T14:15:36.946Z"
   },
   {
    "duration": 206,
    "start_time": "2025-05-05T14:15:36.977Z"
   },
   {
    "duration": 171,
    "start_time": "2025-05-05T14:15:37.185Z"
   },
   {
    "duration": 19,
    "start_time": "2025-05-05T14:15:37.358Z"
   },
   {
    "duration": 247,
    "start_time": "2025-05-05T14:15:37.379Z"
   },
   {
    "duration": 136,
    "start_time": "2025-05-05T14:15:37.628Z"
   },
   {
    "duration": 17,
    "start_time": "2025-05-05T14:15:37.766Z"
   },
   {
    "duration": 85,
    "start_time": "2025-05-05T14:15:37.784Z"
   },
   {
    "duration": 195,
    "start_time": "2025-05-05T14:15:37.871Z"
   },
   {
    "duration": 9,
    "start_time": "2025-05-05T14:15:38.077Z"
   },
   {
    "duration": 310,
    "start_time": "2025-05-05T14:15:38.088Z"
   },
   {
    "duration": 191,
    "start_time": "2025-05-05T14:15:38.400Z"
   },
   {
    "duration": 241,
    "start_time": "2025-05-05T14:15:38.593Z"
   },
   {
    "duration": 5,
    "start_time": "2025-05-05T14:15:38.836Z"
   },
   {
    "duration": 334,
    "start_time": "2025-05-05T14:15:38.842Z"
   },
   {
    "duration": 21,
    "start_time": "2025-05-05T14:15:39.178Z"
   },
   {
    "duration": 275,
    "start_time": "2025-05-05T14:15:39.201Z"
   },
   {
    "duration": 379,
    "start_time": "2025-05-05T14:15:39.478Z"
   },
   {
    "duration": 16,
    "start_time": "2025-05-05T14:15:39.861Z"
   },
   {
    "duration": 377,
    "start_time": "2025-05-05T14:15:39.879Z"
   },
   {
    "duration": 19,
    "start_time": "2025-05-05T14:15:40.258Z"
   },
   {
    "duration": 345,
    "start_time": "2025-05-05T14:15:40.279Z"
   },
   {
    "duration": 6,
    "start_time": "2025-05-05T14:16:22.354Z"
   },
   {
    "duration": 6,
    "start_time": "2025-05-05T14:19:21.220Z"
   },
   {
    "duration": 19,
    "start_time": "2025-05-05T14:19:42.842Z"
   },
   {
    "duration": 2627,
    "start_time": "2025-05-05T14:19:59.450Z"
   },
   {
    "duration": 1382,
    "start_time": "2025-05-05T14:20:02.080Z"
   },
   {
    "duration": 157,
    "start_time": "2025-05-05T14:20:03.464Z"
   },
   {
    "duration": 59,
    "start_time": "2025-05-05T14:20:03.623Z"
   },
   {
    "duration": 25,
    "start_time": "2025-05-05T14:20:03.683Z"
   },
   {
    "duration": 20,
    "start_time": "2025-05-05T14:20:03.709Z"
   },
   {
    "duration": 185,
    "start_time": "2025-05-05T14:20:03.731Z"
   },
   {
    "duration": 53,
    "start_time": "2025-05-05T14:20:03.917Z"
   },
   {
    "duration": 14,
    "start_time": "2025-05-05T14:20:03.972Z"
   },
   {
    "duration": 25,
    "start_time": "2025-05-05T14:20:03.989Z"
   },
   {
    "duration": 7,
    "start_time": "2025-05-05T14:20:04.016Z"
   },
   {
    "duration": 44,
    "start_time": "2025-05-05T14:20:04.024Z"
   },
   {
    "duration": 26,
    "start_time": "2025-05-05T14:20:04.070Z"
   },
   {
    "duration": 206,
    "start_time": "2025-05-05T14:20:04.098Z"
   },
   {
    "duration": 34,
    "start_time": "2025-05-05T14:20:04.306Z"
   },
   {
    "duration": 58,
    "start_time": "2025-05-05T14:20:04.343Z"
   },
   {
    "duration": 11,
    "start_time": "2025-05-05T14:20:04.403Z"
   },
   {
    "duration": 1893,
    "start_time": "2025-05-05T14:20:04.416Z"
   },
   {
    "duration": 7,
    "start_time": "2025-05-05T14:20:06.310Z"
   },
   {
    "duration": 242,
    "start_time": "2025-05-05T14:20:06.318Z"
   },
   {
    "duration": 27,
    "start_time": "2025-05-05T14:20:06.563Z"
   },
   {
    "duration": 259,
    "start_time": "2025-05-05T14:20:06.593Z"
   },
   {
    "duration": 31,
    "start_time": "2025-05-05T14:20:06.854Z"
   },
   {
    "duration": 209,
    "start_time": "2025-05-05T14:20:06.887Z"
   },
   {
    "duration": 178,
    "start_time": "2025-05-05T14:20:07.098Z"
   },
   {
    "duration": 10,
    "start_time": "2025-05-05T14:20:07.278Z"
   },
   {
    "duration": 306,
    "start_time": "2025-05-05T14:20:07.290Z"
   },
   {
    "duration": 139,
    "start_time": "2025-05-05T14:20:07.599Z"
   },
   {
    "duration": 10,
    "start_time": "2025-05-05T14:20:07.741Z"
   },
   {
    "duration": 153,
    "start_time": "2025-05-05T14:20:07.753Z"
   },
   {
    "duration": 203,
    "start_time": "2025-05-05T14:20:07.909Z"
   },
   {
    "duration": 10,
    "start_time": "2025-05-05T14:20:08.115Z"
   },
   {
    "duration": 343,
    "start_time": "2025-05-05T14:20:08.126Z"
   },
   {
    "duration": 198,
    "start_time": "2025-05-05T14:20:08.472Z"
   },
   {
    "duration": 245,
    "start_time": "2025-05-05T14:20:08.676Z"
   },
   {
    "duration": 4,
    "start_time": "2025-05-05T14:20:08.923Z"
   },
   {
    "duration": 321,
    "start_time": "2025-05-05T14:20:08.929Z"
   },
   {
    "duration": 33,
    "start_time": "2025-05-05T14:20:09.252Z"
   },
   {
    "duration": 317,
    "start_time": "2025-05-05T14:20:09.287Z"
   },
   {
    "duration": 360,
    "start_time": "2025-05-05T14:20:09.606Z"
   },
   {
    "duration": 13,
    "start_time": "2025-05-05T14:20:09.968Z"
   },
   {
    "duration": 358,
    "start_time": "2025-05-05T14:20:09.983Z"
   },
   {
    "duration": 13,
    "start_time": "2025-05-05T14:20:10.343Z"
   },
   {
    "duration": 340,
    "start_time": "2025-05-05T14:20:10.358Z"
   },
   {
    "duration": 2756,
    "start_time": "2025-05-05T14:30:50.184Z"
   },
   {
    "duration": 1245,
    "start_time": "2025-05-05T14:30:52.943Z"
   },
   {
    "duration": 233,
    "start_time": "2025-05-05T14:30:54.190Z"
   },
   {
    "duration": 16,
    "start_time": "2025-05-05T14:30:54.425Z"
   },
   {
    "duration": 44,
    "start_time": "2025-05-05T14:30:54.444Z"
   },
   {
    "duration": 11,
    "start_time": "2025-05-05T14:30:54.490Z"
   },
   {
    "duration": 26,
    "start_time": "2025-05-05T14:30:54.502Z"
   },
   {
    "duration": 11,
    "start_time": "2025-05-05T14:30:54.530Z"
   },
   {
    "duration": 85,
    "start_time": "2025-05-05T14:30:54.543Z"
   },
   {
    "duration": 36,
    "start_time": "2025-05-05T14:30:54.629Z"
   },
   {
    "duration": 6,
    "start_time": "2025-05-05T14:30:54.667Z"
   },
   {
    "duration": 31,
    "start_time": "2025-05-05T14:30:54.675Z"
   },
   {
    "duration": 33,
    "start_time": "2025-05-05T14:30:54.708Z"
   },
   {
    "duration": 27,
    "start_time": "2025-05-05T14:30:54.746Z"
   },
   {
    "duration": 40,
    "start_time": "2025-05-05T14:30:54.775Z"
   },
   {
    "duration": 14,
    "start_time": "2025-05-05T14:30:54.816Z"
   },
   {
    "duration": 6,
    "start_time": "2025-05-05T14:30:54.832Z"
   },
   {
    "duration": 1910,
    "start_time": "2025-05-05T14:30:54.840Z"
   },
   {
    "duration": 6,
    "start_time": "2025-05-05T14:30:56.752Z"
   },
   {
    "duration": 227,
    "start_time": "2025-05-05T14:30:56.760Z"
   },
   {
    "duration": 17,
    "start_time": "2025-05-05T14:30:56.990Z"
   },
   {
    "duration": 274,
    "start_time": "2025-05-05T14:30:57.009Z"
   },
   {
    "duration": 22,
    "start_time": "2025-05-05T14:30:57.286Z"
   },
   {
    "duration": 280,
    "start_time": "2025-05-05T14:30:57.310Z"
   },
   {
    "duration": 175,
    "start_time": "2025-05-05T14:30:57.592Z"
   },
   {
    "duration": 21,
    "start_time": "2025-05-05T14:30:57.769Z"
   },
   {
    "duration": 342,
    "start_time": "2025-05-05T14:30:57.794Z"
   },
   {
    "duration": 132,
    "start_time": "2025-05-05T14:30:58.138Z"
   },
   {
    "duration": 18,
    "start_time": "2025-05-05T14:30:58.272Z"
   },
   {
    "duration": 160,
    "start_time": "2025-05-05T14:30:58.293Z"
   },
   {
    "duration": 211,
    "start_time": "2025-05-05T14:30:58.455Z"
   },
   {
    "duration": 23,
    "start_time": "2025-05-05T14:30:58.668Z"
   },
   {
    "duration": 281,
    "start_time": "2025-05-05T14:30:58.693Z"
   },
   {
    "duration": 173,
    "start_time": "2025-05-05T14:30:58.977Z"
   },
   {
    "duration": 285,
    "start_time": "2025-05-05T14:30:59.152Z"
   },
   {
    "duration": 5,
    "start_time": "2025-05-05T14:30:59.439Z"
   },
   {
    "duration": 355,
    "start_time": "2025-05-05T14:30:59.446Z"
   },
   {
    "duration": 21,
    "start_time": "2025-05-05T14:30:59.804Z"
   },
   {
    "duration": 362,
    "start_time": "2025-05-05T14:30:59.827Z"
   },
   {
    "duration": 377,
    "start_time": "2025-05-05T14:31:00.190Z"
   },
   {
    "duration": 20,
    "start_time": "2025-05-05T14:31:00.573Z"
   },
   {
    "duration": 467,
    "start_time": "2025-05-05T14:31:00.595Z"
   },
   {
    "duration": 23,
    "start_time": "2025-05-05T14:31:01.063Z"
   },
   {
    "duration": 443,
    "start_time": "2025-05-05T14:31:01.088Z"
   },
   {
    "duration": 2689,
    "start_time": "2025-05-05T14:31:40.165Z"
   },
   {
    "duration": 1323,
    "start_time": "2025-05-05T14:31:42.857Z"
   },
   {
    "duration": 223,
    "start_time": "2025-05-05T14:31:44.182Z"
   },
   {
    "duration": 16,
    "start_time": "2025-05-05T14:31:44.406Z"
   },
   {
    "duration": 23,
    "start_time": "2025-05-05T14:31:44.424Z"
   },
   {
    "duration": 10,
    "start_time": "2025-05-05T14:31:44.449Z"
   },
   {
    "duration": 28,
    "start_time": "2025-05-05T14:31:44.460Z"
   },
   {
    "duration": 14,
    "start_time": "2025-05-05T14:31:44.490Z"
   },
   {
    "duration": 54,
    "start_time": "2025-05-05T14:31:44.506Z"
   },
   {
    "duration": 69,
    "start_time": "2025-05-05T14:31:44.561Z"
   },
   {
    "duration": 6,
    "start_time": "2025-05-05T14:31:44.632Z"
   },
   {
    "duration": 33,
    "start_time": "2025-05-05T14:31:44.640Z"
   },
   {
    "duration": 37,
    "start_time": "2025-05-05T14:31:44.675Z"
   },
   {
    "duration": 11,
    "start_time": "2025-05-05T14:31:44.716Z"
   },
   {
    "duration": 31,
    "start_time": "2025-05-05T14:31:44.729Z"
   },
   {
    "duration": 12,
    "start_time": "2025-05-05T14:31:44.762Z"
   },
   {
    "duration": 9,
    "start_time": "2025-05-05T14:31:44.784Z"
   },
   {
    "duration": 1871,
    "start_time": "2025-05-05T14:31:44.795Z"
   },
   {
    "duration": 16,
    "start_time": "2025-05-05T14:31:46.676Z"
   },
   {
    "duration": 196,
    "start_time": "2025-05-05T14:31:46.695Z"
   },
   {
    "duration": 16,
    "start_time": "2025-05-05T14:31:46.893Z"
   },
   {
    "duration": 251,
    "start_time": "2025-05-05T14:31:46.911Z"
   },
   {
    "duration": 36,
    "start_time": "2025-05-05T14:31:47.164Z"
   },
   {
    "duration": 211,
    "start_time": "2025-05-05T14:31:47.201Z"
   },
   {
    "duration": 179,
    "start_time": "2025-05-05T14:31:47.413Z"
   },
   {
    "duration": 11,
    "start_time": "2025-05-05T14:31:47.596Z"
   },
   {
    "duration": 300,
    "start_time": "2025-05-05T14:31:47.609Z"
   },
   {
    "duration": 139,
    "start_time": "2025-05-05T14:31:47.911Z"
   },
   {
    "duration": 10,
    "start_time": "2025-05-05T14:31:48.052Z"
   },
   {
    "duration": 36,
    "start_time": "2025-05-05T14:31:48.063Z"
   },
   {
    "duration": 199,
    "start_time": "2025-05-05T14:31:48.101Z"
   },
   {
    "duration": 8,
    "start_time": "2025-05-05T14:31:48.302Z"
   },
   {
    "duration": 313,
    "start_time": "2025-05-05T14:31:48.312Z"
   },
   {
    "duration": 203,
    "start_time": "2025-05-05T14:31:48.627Z"
   },
   {
    "duration": 223,
    "start_time": "2025-05-05T14:31:48.831Z"
   },
   {
    "duration": 11,
    "start_time": "2025-05-05T14:31:49.077Z"
   },
   {
    "duration": 277,
    "start_time": "2025-05-05T14:31:49.090Z"
   },
   {
    "duration": 26,
    "start_time": "2025-05-05T14:31:49.380Z"
   },
   {
    "duration": 257,
    "start_time": "2025-05-05T14:31:49.408Z"
   },
   {
    "duration": 402,
    "start_time": "2025-05-05T14:31:49.667Z"
   },
   {
    "duration": 14,
    "start_time": "2025-05-05T14:31:50.073Z"
   },
   {
    "duration": 369,
    "start_time": "2025-05-05T14:31:50.091Z"
   },
   {
    "duration": 25,
    "start_time": "2025-05-05T14:31:50.462Z"
   },
   {
    "duration": 354,
    "start_time": "2025-05-05T14:31:50.489Z"
   },
   {
    "duration": 316,
    "start_time": "2025-05-05T14:50:21.871Z"
   },
   {
    "duration": 305,
    "start_time": "2025-05-05T14:50:35.777Z"
   },
   {
    "duration": 267,
    "start_time": "2025-05-05T14:55:14.020Z"
   },
   {
    "duration": 253,
    "start_time": "2025-05-05T15:06:59.915Z"
   },
   {
    "duration": 5,
    "start_time": "2025-05-05T15:08:20.667Z"
   },
   {
    "duration": 113,
    "start_time": "2025-05-05T15:08:36.341Z"
   },
   {
    "duration": 344,
    "start_time": "2025-05-05T15:08:52.655Z"
   },
   {
    "duration": 258,
    "start_time": "2025-05-05T15:09:20.660Z"
   },
   {
    "duration": 368,
    "start_time": "2025-05-05T15:10:03.613Z"
   },
   {
    "duration": 359,
    "start_time": "2025-05-05T15:14:17.913Z"
   },
   {
    "duration": 344,
    "start_time": "2025-05-05T15:17:23.098Z"
   },
   {
    "duration": 8,
    "start_time": "2025-05-05T15:25:39.166Z"
   },
   {
    "duration": 82,
    "start_time": "2025-05-05T15:33:27.996Z"
   },
   {
    "duration": 12,
    "start_time": "2025-05-05T15:35:04.700Z"
   },
   {
    "duration": 11,
    "start_time": "2025-05-05T15:35:38.092Z"
   },
   {
    "duration": 12,
    "start_time": "2025-05-05T15:36:24.607Z"
   },
   {
    "duration": 12,
    "start_time": "2025-05-05T16:08:08.756Z"
   },
   {
    "duration": 161,
    "start_time": "2025-05-05T16:09:23.356Z"
   },
   {
    "duration": 171,
    "start_time": "2025-05-05T16:09:58.183Z"
   },
   {
    "duration": 160,
    "start_time": "2025-05-05T16:10:13.987Z"
   },
   {
    "duration": 24,
    "start_time": "2025-05-05T16:18:28.249Z"
   },
   {
    "duration": 259,
    "start_time": "2025-05-05T16:18:51.168Z"
   },
   {
    "duration": 2416,
    "start_time": "2025-05-05T19:08:49.131Z"
   },
   {
    "duration": 1437,
    "start_time": "2025-05-05T19:08:51.550Z"
   },
   {
    "duration": 187,
    "start_time": "2025-05-05T19:08:52.988Z"
   },
   {
    "duration": 15,
    "start_time": "2025-05-05T19:08:53.177Z"
   },
   {
    "duration": 14,
    "start_time": "2025-05-05T19:08:53.193Z"
   },
   {
    "duration": 10,
    "start_time": "2025-05-05T19:08:53.208Z"
   },
   {
    "duration": 9,
    "start_time": "2025-05-05T19:08:53.219Z"
   },
   {
    "duration": 9,
    "start_time": "2025-05-05T19:08:53.230Z"
   },
   {
    "duration": 12,
    "start_time": "2025-05-05T19:08:53.241Z"
   },
   {
    "duration": 18,
    "start_time": "2025-05-05T19:08:53.256Z"
   },
   {
    "duration": 10,
    "start_time": "2025-05-05T19:08:53.276Z"
   },
   {
    "duration": 13,
    "start_time": "2025-05-05T19:08:53.287Z"
   },
   {
    "duration": 56,
    "start_time": "2025-05-05T19:08:53.302Z"
   },
   {
    "duration": 11,
    "start_time": "2025-05-05T19:08:53.359Z"
   },
   {
    "duration": 5,
    "start_time": "2025-05-05T19:08:53.372Z"
   },
   {
    "duration": 1624,
    "start_time": "2025-05-05T19:08:53.379Z"
   },
   {
    "duration": 9,
    "start_time": "2025-05-05T19:08:55.005Z"
   },
   {
    "duration": 179,
    "start_time": "2025-05-05T19:08:55.016Z"
   },
   {
    "duration": 13,
    "start_time": "2025-05-05T19:08:55.197Z"
   },
   {
    "duration": 226,
    "start_time": "2025-05-05T19:08:55.211Z"
   },
   {
    "duration": 15,
    "start_time": "2025-05-05T19:08:55.439Z"
   },
   {
    "duration": 193,
    "start_time": "2025-05-05T19:08:55.456Z"
   },
   {
    "duration": 156,
    "start_time": "2025-05-05T19:08:55.651Z"
   },
   {
    "duration": 9,
    "start_time": "2025-05-05T19:08:55.809Z"
   },
   {
    "duration": 235,
    "start_time": "2025-05-05T19:08:55.820Z"
   },
   {
    "duration": 10,
    "start_time": "2025-05-05T19:08:56.056Z"
   },
   {
    "duration": 128,
    "start_time": "2025-05-05T19:08:56.068Z"
   },
   {
    "duration": 7,
    "start_time": "2025-05-05T19:08:56.199Z"
   },
   {
    "duration": 192,
    "start_time": "2025-05-05T19:08:56.208Z"
   },
   {
    "duration": 8,
    "start_time": "2025-05-05T19:08:56.401Z"
   },
   {
    "duration": 272,
    "start_time": "2025-05-05T19:08:56.411Z"
   },
   {
    "duration": 174,
    "start_time": "2025-05-05T19:08:56.685Z"
   },
   {
    "duration": 228,
    "start_time": "2025-05-05T19:08:56.860Z"
   },
   {
    "duration": 330,
    "start_time": "2025-05-05T19:08:57.090Z"
   },
   {
    "duration": 30,
    "start_time": "2025-05-05T19:08:57.422Z"
   },
   {
    "duration": 238,
    "start_time": "2025-05-05T19:08:57.453Z"
   },
   {
    "duration": 387,
    "start_time": "2025-05-05T19:08:57.692Z"
   },
   {
    "duration": 8,
    "start_time": "2025-05-05T19:08:58.081Z"
   },
   {
    "duration": 402,
    "start_time": "2025-05-05T19:08:58.090Z"
   },
   {
    "duration": 9,
    "start_time": "2025-05-05T19:08:58.495Z"
   },
   {
    "duration": 329,
    "start_time": "2025-05-05T19:08:58.506Z"
   },
   {
    "duration": 5,
    "start_time": "2025-05-05T19:11:01.041Z"
   },
   {
    "duration": 4067,
    "start_time": "2025-05-06T06:17:58.695Z"
   },
   {
    "duration": 1668,
    "start_time": "2025-05-06T06:18:02.765Z"
   },
   {
    "duration": 258,
    "start_time": "2025-05-06T06:18:04.436Z"
   },
   {
    "duration": 27,
    "start_time": "2025-05-06T06:18:04.696Z"
   },
   {
    "duration": 30,
    "start_time": "2025-05-06T06:18:04.726Z"
   },
   {
    "duration": 16,
    "start_time": "2025-05-06T06:18:04.757Z"
   },
   {
    "duration": 42,
    "start_time": "2025-05-06T06:18:04.775Z"
   },
   {
    "duration": 66,
    "start_time": "2025-05-06T06:18:04.825Z"
   },
   {
    "duration": 175,
    "start_time": "2025-05-06T06:18:04.894Z"
   },
   {
    "duration": 83,
    "start_time": "2025-05-06T06:18:05.072Z"
   },
   {
    "duration": 42,
    "start_time": "2025-05-06T06:18:05.157Z"
   },
   {
    "duration": 85,
    "start_time": "2025-05-06T06:18:05.201Z"
   },
   {
    "duration": 99,
    "start_time": "2025-05-06T06:18:05.288Z"
   },
   {
    "duration": 24,
    "start_time": "2025-05-06T06:18:05.389Z"
   },
   {
    "duration": 132,
    "start_time": "2025-05-06T06:18:05.414Z"
   },
   {
    "duration": 7242,
    "start_time": "2025-05-06T06:18:05.548Z"
   },
   {
    "duration": 44,
    "start_time": "2025-05-06T06:18:12.792Z"
   },
   {
    "duration": 224,
    "start_time": "2025-05-06T06:18:12.845Z"
   },
   {
    "duration": 16,
    "start_time": "2025-05-06T06:18:13.070Z"
   },
   {
    "duration": 286,
    "start_time": "2025-05-06T06:18:13.087Z"
   },
   {
    "duration": 17,
    "start_time": "2025-05-06T06:18:13.374Z"
   },
   {
    "duration": 258,
    "start_time": "2025-05-06T06:18:13.392Z"
   },
   {
    "duration": 202,
    "start_time": "2025-05-06T06:18:13.652Z"
   },
   {
    "duration": 11,
    "start_time": "2025-05-06T06:18:13.855Z"
   },
   {
    "duration": 332,
    "start_time": "2025-05-06T06:18:13.868Z"
   },
   {
    "duration": 21,
    "start_time": "2025-05-06T06:18:14.202Z"
   },
   {
    "duration": 162,
    "start_time": "2025-05-06T06:18:14.225Z"
   },
   {
    "duration": 25,
    "start_time": "2025-05-06T06:18:14.391Z"
   },
   {
    "duration": 264,
    "start_time": "2025-05-06T06:18:14.418Z"
   },
   {
    "duration": 8,
    "start_time": "2025-05-06T06:18:14.684Z"
   },
   {
    "duration": 338,
    "start_time": "2025-05-06T06:18:14.694Z"
   },
   {
    "duration": 264,
    "start_time": "2025-05-06T06:18:15.035Z"
   },
   {
    "duration": 302,
    "start_time": "2025-05-06T06:18:15.300Z"
   },
   {
    "duration": 355,
    "start_time": "2025-05-06T06:18:15.603Z"
   },
   {
    "duration": 24,
    "start_time": "2025-05-06T06:18:15.960Z"
   },
   {
    "duration": 336,
    "start_time": "2025-05-06T06:18:15.985Z"
   },
   {
    "duration": 380,
    "start_time": "2025-05-06T06:18:16.324Z"
   },
   {
    "duration": 17,
    "start_time": "2025-05-06T06:18:16.711Z"
   },
   {
    "duration": 392,
    "start_time": "2025-05-06T06:18:16.733Z"
   },
   {
    "duration": 17,
    "start_time": "2025-05-06T06:18:17.127Z"
   },
   {
    "duration": 424,
    "start_time": "2025-05-06T06:18:17.145Z"
   },
   {
    "duration": 20,
    "start_time": "2025-05-06T06:28:27.679Z"
   },
   {
    "duration": 6878,
    "start_time": "2025-05-06T06:28:44.783Z"
   },
   {
    "duration": 13,
    "start_time": "2025-05-06T06:29:06.022Z"
   },
   {
    "duration": 149,
    "start_time": "2025-05-06T06:37:56.331Z"
   },
   {
    "duration": 247,
    "start_time": "2025-05-06T06:48:47.023Z"
   },
   {
    "duration": 149,
    "start_time": "2025-05-06T06:49:21.375Z"
   },
   {
    "duration": 158,
    "start_time": "2025-05-06T06:50:30.214Z"
   },
   {
    "duration": 246,
    "start_time": "2025-05-06T06:52:34.901Z"
   },
   {
    "duration": 148,
    "start_time": "2025-05-06T06:53:42.290Z"
   },
   {
    "duration": 156,
    "start_time": "2025-05-06T06:54:48.000Z"
   },
   {
    "duration": 147,
    "start_time": "2025-05-06T06:55:10.174Z"
   },
   {
    "duration": 157,
    "start_time": "2025-05-06T06:58:52.024Z"
   },
   {
    "duration": 147,
    "start_time": "2025-05-06T06:59:28.224Z"
   },
   {
    "duration": 80,
    "start_time": "2025-05-06T07:03:22.828Z"
   },
   {
    "duration": 1131,
    "start_time": "2025-05-06T07:19:06.753Z"
   },
   {
    "duration": 22,
    "start_time": "2025-05-06T07:19:30.914Z"
   },
   {
    "duration": 15,
    "start_time": "2025-05-06T07:19:49.151Z"
   },
   {
    "duration": 18,
    "start_time": "2025-05-06T07:20:43.828Z"
   },
   {
    "duration": 1626,
    "start_time": "2025-05-06T07:21:35.117Z"
   },
   {
    "duration": 13,
    "start_time": "2025-05-06T07:22:07.028Z"
   },
   {
    "duration": 1477,
    "start_time": "2025-05-06T07:23:02.991Z"
   },
   {
    "duration": 1451,
    "start_time": "2025-05-06T07:24:10.803Z"
   },
   {
    "duration": 15,
    "start_time": "2025-05-06T07:24:31.278Z"
   },
   {
    "duration": 15,
    "start_time": "2025-05-06T07:25:12.271Z"
   },
   {
    "duration": 232,
    "start_time": "2025-05-06T07:26:56.401Z"
   },
   {
    "duration": 15,
    "start_time": "2025-05-06T07:27:34.842Z"
   },
   {
    "duration": 24,
    "start_time": "2025-05-06T07:28:33.398Z"
   },
   {
    "duration": 16,
    "start_time": "2025-05-06T07:29:19.026Z"
   },
   {
    "duration": 16,
    "start_time": "2025-05-06T07:29:32.338Z"
   },
   {
    "duration": 26,
    "start_time": "2025-05-06T07:30:14.003Z"
   },
   {
    "duration": 15,
    "start_time": "2025-05-06T07:31:57.475Z"
   },
   {
    "duration": 229,
    "start_time": "2025-05-06T07:32:02.604Z"
   },
   {
    "duration": 15,
    "start_time": "2025-05-06T07:35:16.267Z"
   },
   {
    "duration": 182,
    "start_time": "2025-05-06T07:35:33.465Z"
   },
   {
    "duration": 185,
    "start_time": "2025-05-06T07:36:49.067Z"
   },
   {
    "duration": 9,
    "start_time": "2025-05-06T07:40:19.050Z"
   },
   {
    "duration": 9,
    "start_time": "2025-05-06T07:41:27.580Z"
   },
   {
    "duration": 10,
    "start_time": "2025-05-06T07:42:15.716Z"
   },
   {
    "duration": 179,
    "start_time": "2025-05-06T07:43:16.528Z"
   },
   {
    "duration": 180,
    "start_time": "2025-05-06T07:43:25.843Z"
   },
   {
    "duration": 86,
    "start_time": "2025-05-06T07:48:30.654Z"
   },
   {
    "duration": 289,
    "start_time": "2025-05-06T07:51:16.817Z"
   },
   {
    "duration": 363,
    "start_time": "2025-05-06T07:55:35.330Z"
   },
   {
    "duration": 385,
    "start_time": "2025-05-06T07:56:39.068Z"
   },
   {
    "duration": 253,
    "start_time": "2025-05-06T08:00:52.381Z"
   },
   {
    "duration": 355,
    "start_time": "2025-05-06T08:01:41.609Z"
   },
   {
    "duration": 25,
    "start_time": "2025-05-06T08:02:16.808Z"
   },
   {
    "duration": 25,
    "start_time": "2025-05-06T08:03:03.571Z"
   },
   {
    "duration": 395,
    "start_time": "2025-05-06T08:05:39.557Z"
   },
   {
    "duration": 16,
    "start_time": "2025-05-06T08:25:50.547Z"
   },
   {
    "duration": 16,
    "start_time": "2025-05-06T08:26:41.236Z"
   },
   {
    "duration": 368,
    "start_time": "2025-05-06T08:27:20.161Z"
   },
   {
    "duration": 78,
    "start_time": "2025-05-06T08:27:46.837Z"
   },
   {
    "duration": 336,
    "start_time": "2025-05-06T08:27:58.160Z"
   },
   {
    "duration": 1379,
    "start_time": "2025-05-06T08:28:37.085Z"
   },
   {
    "duration": 1424,
    "start_time": "2025-05-06T08:29:17.723Z"
   },
   {
    "duration": 1649,
    "start_time": "2025-05-06T08:29:48.673Z"
   },
   {
    "duration": 350,
    "start_time": "2025-05-06T08:30:45.424Z"
   },
   {
    "duration": 362,
    "start_time": "2025-05-06T08:31:19.872Z"
   },
   {
    "duration": 515,
    "start_time": "2025-05-06T08:33:32.324Z"
   },
   {
    "duration": 618,
    "start_time": "2025-05-06T08:35:20.014Z"
   },
   {
    "duration": 542,
    "start_time": "2025-05-06T08:35:51.412Z"
   },
   {
    "duration": 492,
    "start_time": "2025-05-06T08:36:16.237Z"
   },
   {
    "duration": 550,
    "start_time": "2025-05-06T08:36:55.709Z"
   },
   {
    "duration": 498,
    "start_time": "2025-05-06T08:37:38.138Z"
   },
   {
    "duration": 77,
    "start_time": "2025-05-06T08:38:35.013Z"
   },
   {
    "duration": 113,
    "start_time": "2025-05-06T08:38:56.725Z"
   },
   {
    "duration": 660,
    "start_time": "2025-05-06T08:41:39.175Z"
   },
   {
    "duration": 525,
    "start_time": "2025-05-06T08:42:10.013Z"
   },
   {
    "duration": 569,
    "start_time": "2025-05-06T08:43:28.773Z"
   },
   {
    "duration": 317,
    "start_time": "2025-05-06T08:43:54.447Z"
   },
   {
    "duration": 532,
    "start_time": "2025-05-06T08:44:06.715Z"
   },
   {
    "duration": 505,
    "start_time": "2025-05-06T08:45:48.441Z"
   },
   {
    "duration": 628,
    "start_time": "2025-05-06T08:49:03.038Z"
   },
   {
    "duration": 14,
    "start_time": "2025-05-06T08:50:39.789Z"
   },
   {
    "duration": 582,
    "start_time": "2025-05-06T08:51:37.287Z"
   },
   {
    "duration": 521,
    "start_time": "2025-05-06T08:55:25.511Z"
   },
   {
    "duration": 174,
    "start_time": "2025-05-06T09:35:53.153Z"
   },
   {
    "duration": 3844,
    "start_time": "2025-05-06T13:23:20.127Z"
   },
   {
    "duration": 2002,
    "start_time": "2025-05-06T13:23:23.974Z"
   },
   {
    "duration": 184,
    "start_time": "2025-05-06T13:23:25.977Z"
   },
   {
    "duration": 17,
    "start_time": "2025-05-06T13:23:26.163Z"
   },
   {
    "duration": 17,
    "start_time": "2025-05-06T13:23:26.181Z"
   },
   {
    "duration": 18,
    "start_time": "2025-05-06T13:23:26.199Z"
   },
   {
    "duration": 17,
    "start_time": "2025-05-06T13:23:26.219Z"
   },
   {
    "duration": 11,
    "start_time": "2025-05-06T13:23:26.238Z"
   },
   {
    "duration": 14,
    "start_time": "2025-05-06T13:23:26.251Z"
   },
   {
    "duration": 16,
    "start_time": "2025-05-06T13:23:26.268Z"
   },
   {
    "duration": 10,
    "start_time": "2025-05-06T13:23:26.285Z"
   },
   {
    "duration": 45,
    "start_time": "2025-05-06T13:23:26.296Z"
   },
   {
    "duration": 50,
    "start_time": "2025-05-06T13:23:26.343Z"
   },
   {
    "duration": 17,
    "start_time": "2025-05-06T13:23:26.395Z"
   },
   {
    "duration": 30,
    "start_time": "2025-05-06T13:23:26.413Z"
   },
   {
    "duration": 5350,
    "start_time": "2025-05-06T13:23:26.445Z"
   },
   {
    "duration": 10,
    "start_time": "2025-05-06T13:23:31.797Z"
   },
   {
    "duration": 204,
    "start_time": "2025-05-06T13:23:31.808Z"
   },
   {
    "duration": 16,
    "start_time": "2025-05-06T13:23:32.013Z"
   },
   {
    "duration": 213,
    "start_time": "2025-05-06T13:23:32.039Z"
   },
   {
    "duration": 17,
    "start_time": "2025-05-06T13:23:32.254Z"
   },
   {
    "duration": 199,
    "start_time": "2025-05-06T13:23:32.272Z"
   },
   {
    "duration": 160,
    "start_time": "2025-05-06T13:23:32.472Z"
   },
   {
    "duration": 16,
    "start_time": "2025-05-06T13:23:32.639Z"
   },
   {
    "duration": 244,
    "start_time": "2025-05-06T13:23:32.657Z"
   },
   {
    "duration": 12,
    "start_time": "2025-05-06T13:23:32.903Z"
   },
   {
    "duration": 148,
    "start_time": "2025-05-06T13:23:32.916Z"
   },
   {
    "duration": 8,
    "start_time": "2025-05-06T13:23:33.068Z"
   },
   {
    "duration": 229,
    "start_time": "2025-05-06T13:23:33.078Z"
   },
   {
    "duration": 9,
    "start_time": "2025-05-06T13:23:33.309Z"
   },
   {
    "duration": 278,
    "start_time": "2025-05-06T13:23:33.319Z"
   },
   {
    "duration": 206,
    "start_time": "2025-05-06T13:23:33.599Z"
   },
   {
    "duration": 233,
    "start_time": "2025-05-06T13:23:33.806Z"
   },
   {
    "duration": 278,
    "start_time": "2025-05-06T13:23:34.041Z"
   },
   {
    "duration": 35,
    "start_time": "2025-05-06T13:23:34.321Z"
   },
   {
    "duration": 238,
    "start_time": "2025-05-06T13:23:34.358Z"
   },
   {
    "duration": 393,
    "start_time": "2025-05-06T13:23:34.598Z"
   },
   {
    "duration": 15,
    "start_time": "2025-05-06T13:23:34.993Z"
   },
   {
    "duration": 469,
    "start_time": "2025-05-06T13:23:35.010Z"
   },
   {
    "duration": 0,
    "start_time": "2025-05-06T13:23:35.481Z"
   },
   {
    "duration": 0,
    "start_time": "2025-05-06T13:23:35.482Z"
   },
   {
    "duration": 0,
    "start_time": "2025-05-06T13:23:35.483Z"
   },
   {
    "duration": 3152,
    "start_time": "2025-05-06T13:33:21.209Z"
   },
   {
    "duration": 1385,
    "start_time": "2025-05-06T13:33:24.364Z"
   },
   {
    "duration": 429,
    "start_time": "2025-05-06T13:33:25.751Z"
   },
   {
    "duration": 14,
    "start_time": "2025-05-06T13:33:26.181Z"
   },
   {
    "duration": 17,
    "start_time": "2025-05-06T13:33:26.198Z"
   },
   {
    "duration": 16,
    "start_time": "2025-05-06T13:33:26.218Z"
   },
   {
    "duration": 41,
    "start_time": "2025-05-06T13:33:26.238Z"
   },
   {
    "duration": 22,
    "start_time": "2025-05-06T13:33:26.281Z"
   },
   {
    "duration": 13,
    "start_time": "2025-05-06T13:33:26.305Z"
   },
   {
    "duration": 52,
    "start_time": "2025-05-06T13:33:26.320Z"
   },
   {
    "duration": 9,
    "start_time": "2025-05-06T13:33:26.374Z"
   },
   {
    "duration": 12,
    "start_time": "2025-05-06T13:33:26.385Z"
   },
   {
    "duration": 46,
    "start_time": "2025-05-06T13:33:26.398Z"
   },
   {
    "duration": 19,
    "start_time": "2025-05-06T13:33:26.471Z"
   },
   {
    "duration": 6,
    "start_time": "2025-05-06T13:33:26.492Z"
   },
   {
    "duration": 5136,
    "start_time": "2025-05-06T13:33:26.500Z"
   },
   {
    "duration": 12,
    "start_time": "2025-05-06T13:33:31.638Z"
   },
   {
    "duration": 176,
    "start_time": "2025-05-06T13:33:31.653Z"
   },
   {
    "duration": 14,
    "start_time": "2025-05-06T13:33:31.831Z"
   },
   {
    "duration": 203,
    "start_time": "2025-05-06T13:33:31.847Z"
   },
   {
    "duration": 23,
    "start_time": "2025-05-06T13:33:32.052Z"
   },
   {
    "duration": 203,
    "start_time": "2025-05-06T13:33:32.077Z"
   },
   {
    "duration": 138,
    "start_time": "2025-05-06T13:33:32.282Z"
   },
   {
    "duration": 15,
    "start_time": "2025-05-06T13:33:32.422Z"
   },
   {
    "duration": 182,
    "start_time": "2025-05-06T13:33:32.439Z"
   },
   {
    "duration": 14,
    "start_time": "2025-05-06T13:33:32.623Z"
   },
   {
    "duration": 134,
    "start_time": "2025-05-06T13:33:32.639Z"
   },
   {
    "duration": 10,
    "start_time": "2025-05-06T13:33:32.776Z"
   },
   {
    "duration": 191,
    "start_time": "2025-05-06T13:33:32.787Z"
   },
   {
    "duration": 9,
    "start_time": "2025-05-06T13:33:32.980Z"
   },
   {
    "duration": 237,
    "start_time": "2025-05-06T13:33:32.991Z"
   },
   {
    "duration": 194,
    "start_time": "2025-05-06T13:33:33.230Z"
   },
   {
    "duration": 258,
    "start_time": "2025-05-06T13:33:33.426Z"
   },
   {
    "duration": 255,
    "start_time": "2025-05-06T13:33:33.685Z"
   },
   {
    "duration": 33,
    "start_time": "2025-05-06T13:33:33.942Z"
   },
   {
    "duration": 217,
    "start_time": "2025-05-06T13:33:33.977Z"
   },
   {
    "duration": 308,
    "start_time": "2025-05-06T13:33:34.196Z"
   },
   {
    "duration": 13,
    "start_time": "2025-05-06T13:33:34.506Z"
   },
   {
    "duration": 488,
    "start_time": "2025-05-06T13:33:34.521Z"
   },
   {
    "duration": 0,
    "start_time": "2025-05-06T13:33:35.010Z"
   },
   {
    "duration": 0,
    "start_time": "2025-05-06T13:33:35.012Z"
   },
   {
    "duration": 0,
    "start_time": "2025-05-06T13:33:35.013Z"
   },
   {
    "duration": 375,
    "start_time": "2025-05-06T13:34:10.630Z"
   },
   {
    "duration": 554,
    "start_time": "2025-05-06T13:35:50.707Z"
   },
   {
    "duration": 219,
    "start_time": "2025-05-06T13:37:00.165Z"
   },
   {
    "duration": 17,
    "start_time": "2025-05-06T13:37:28.395Z"
   },
   {
    "duration": 474,
    "start_time": "2025-05-06T13:37:30.896Z"
   },
   {
    "duration": 440,
    "start_time": "2025-05-06T13:37:33.780Z"
   },
   {
    "duration": 2464,
    "start_time": "2025-05-06T13:37:48.214Z"
   },
   {
    "duration": 1243,
    "start_time": "2025-05-06T13:37:50.681Z"
   },
   {
    "duration": 172,
    "start_time": "2025-05-06T13:37:51.925Z"
   },
   {
    "duration": 17,
    "start_time": "2025-05-06T13:37:52.099Z"
   },
   {
    "duration": 16,
    "start_time": "2025-05-06T13:37:52.118Z"
   },
   {
    "duration": 24,
    "start_time": "2025-05-06T13:37:52.136Z"
   },
   {
    "duration": 17,
    "start_time": "2025-05-06T13:37:52.162Z"
   },
   {
    "duration": 15,
    "start_time": "2025-05-06T13:37:52.180Z"
   },
   {
    "duration": 15,
    "start_time": "2025-05-06T13:37:52.197Z"
   },
   {
    "duration": 18,
    "start_time": "2025-05-06T13:37:52.213Z"
   },
   {
    "duration": 39,
    "start_time": "2025-05-06T13:37:52.232Z"
   },
   {
    "duration": 12,
    "start_time": "2025-05-06T13:37:52.273Z"
   },
   {
    "duration": 51,
    "start_time": "2025-05-06T13:37:52.287Z"
   },
   {
    "duration": 44,
    "start_time": "2025-05-06T13:37:52.342Z"
   },
   {
    "duration": 15,
    "start_time": "2025-05-06T13:37:52.387Z"
   },
   {
    "duration": 5568,
    "start_time": "2025-05-06T13:37:52.403Z"
   },
   {
    "duration": 10,
    "start_time": "2025-05-06T13:37:57.972Z"
   },
   {
    "duration": 175,
    "start_time": "2025-05-06T13:37:57.983Z"
   },
   {
    "duration": 21,
    "start_time": "2025-05-06T13:37:58.160Z"
   },
   {
    "duration": 200,
    "start_time": "2025-05-06T13:37:58.183Z"
   },
   {
    "duration": 16,
    "start_time": "2025-05-06T13:37:58.385Z"
   },
   {
    "duration": 192,
    "start_time": "2025-05-06T13:37:58.403Z"
   },
   {
    "duration": 150,
    "start_time": "2025-05-06T13:37:58.597Z"
   },
   {
    "duration": 22,
    "start_time": "2025-05-06T13:37:58.749Z"
   },
   {
    "duration": 230,
    "start_time": "2025-05-06T13:37:58.773Z"
   },
   {
    "duration": 14,
    "start_time": "2025-05-06T13:37:59.005Z"
   },
   {
    "duration": 136,
    "start_time": "2025-05-06T13:37:59.021Z"
   },
   {
    "duration": 18,
    "start_time": "2025-05-06T13:37:59.159Z"
   },
   {
    "duration": 190,
    "start_time": "2025-05-06T13:37:59.179Z"
   },
   {
    "duration": 8,
    "start_time": "2025-05-06T13:37:59.371Z"
   },
   {
    "duration": 250,
    "start_time": "2025-05-06T13:37:59.381Z"
   },
   {
    "duration": 185,
    "start_time": "2025-05-06T13:37:59.633Z"
   },
   {
    "duration": 203,
    "start_time": "2025-05-06T13:37:59.820Z"
   },
   {
    "duration": 308,
    "start_time": "2025-05-06T13:38:00.025Z"
   },
   {
    "duration": 38,
    "start_time": "2025-05-06T13:38:00.334Z"
   },
   {
    "duration": 293,
    "start_time": "2025-05-06T13:38:00.373Z"
   },
   {
    "duration": 346,
    "start_time": "2025-05-06T13:38:00.667Z"
   },
   {
    "duration": 16,
    "start_time": "2025-05-06T13:38:01.015Z"
   },
   {
    "duration": 624,
    "start_time": "2025-05-06T13:38:01.033Z"
   },
   {
    "duration": 36,
    "start_time": "2025-05-06T13:38:01.658Z"
   },
   {
    "duration": 511,
    "start_time": "2025-05-06T13:38:01.699Z"
   },
   {
    "duration": 361,
    "start_time": "2025-05-06T13:38:02.212Z"
   },
   {
    "duration": 6724,
    "start_time": "2025-05-07T05:18:54.561Z"
   },
   {
    "duration": 2226,
    "start_time": "2025-05-07T05:19:01.288Z"
   },
   {
    "duration": 562,
    "start_time": "2025-05-07T05:19:03.516Z"
   },
   {
    "duration": 15,
    "start_time": "2025-05-07T05:19:04.081Z"
   },
   {
    "duration": 76,
    "start_time": "2025-05-07T05:19:04.098Z"
   },
   {
    "duration": 30,
    "start_time": "2025-05-07T05:19:04.175Z"
   },
   {
    "duration": 64,
    "start_time": "2025-05-07T05:19:04.206Z"
   },
   {
    "duration": 13,
    "start_time": "2025-05-07T05:19:04.272Z"
   },
   {
    "duration": 76,
    "start_time": "2025-05-07T05:19:04.287Z"
   },
   {
    "duration": 37,
    "start_time": "2025-05-07T05:19:04.365Z"
   },
   {
    "duration": 63,
    "start_time": "2025-05-07T05:19:04.404Z"
   },
   {
    "duration": 34,
    "start_time": "2025-05-07T05:19:04.468Z"
   },
   {
    "duration": 99,
    "start_time": "2025-05-07T05:19:04.504Z"
   },
   {
    "duration": 65,
    "start_time": "2025-05-07T05:19:04.605Z"
   },
   {
    "duration": 6,
    "start_time": "2025-05-07T05:19:04.672Z"
   },
   {
    "duration": 10327,
    "start_time": "2025-05-07T05:19:04.680Z"
   },
   {
    "duration": 64,
    "start_time": "2025-05-07T05:19:15.008Z"
   },
   {
    "duration": 415,
    "start_time": "2025-05-07T05:19:15.074Z"
   },
   {
    "duration": 14,
    "start_time": "2025-05-07T05:19:15.492Z"
   },
   {
    "duration": 600,
    "start_time": "2025-05-07T05:19:15.562Z"
   },
   {
    "duration": 17,
    "start_time": "2025-05-07T05:19:16.164Z"
   },
   {
    "duration": 336,
    "start_time": "2025-05-07T05:19:16.182Z"
   },
   {
    "duration": 163,
    "start_time": "2025-05-07T05:19:16.520Z"
   },
   {
    "duration": 15,
    "start_time": "2025-05-07T05:19:16.685Z"
   },
   {
    "duration": 367,
    "start_time": "2025-05-07T05:19:16.702Z"
   },
   {
    "duration": 12,
    "start_time": "2025-05-07T05:19:17.070Z"
   },
   {
    "duration": 309,
    "start_time": "2025-05-07T05:19:17.083Z"
   },
   {
    "duration": 70,
    "start_time": "2025-05-07T05:19:17.398Z"
   },
   {
    "duration": 332,
    "start_time": "2025-05-07T05:19:17.470Z"
   },
   {
    "duration": 8,
    "start_time": "2025-05-07T05:19:17.804Z"
   },
   {
    "duration": 469,
    "start_time": "2025-05-07T05:19:17.813Z"
   },
   {
    "duration": 403,
    "start_time": "2025-05-07T05:19:18.284Z"
   },
   {
    "duration": 289,
    "start_time": "2025-05-07T05:19:18.688Z"
   },
   {
    "duration": 410,
    "start_time": "2025-05-07T05:19:18.979Z"
   },
   {
    "duration": 81,
    "start_time": "2025-05-07T05:19:19.391Z"
   },
   {
    "duration": 434,
    "start_time": "2025-05-07T05:19:19.473Z"
   },
   {
    "duration": 617,
    "start_time": "2025-05-07T05:19:19.962Z"
   },
   {
    "duration": 13,
    "start_time": "2025-05-07T05:19:20.581Z"
   },
   {
    "duration": 1076,
    "start_time": "2025-05-07T05:19:20.596Z"
   },
   {
    "duration": 15,
    "start_time": "2025-05-07T05:19:21.674Z"
   },
   {
    "duration": 589,
    "start_time": "2025-05-07T05:19:21.690Z"
   },
   {
    "duration": 322,
    "start_time": "2025-05-07T05:19:22.281Z"
   }
  ],
  "colab": {
   "provenance": []
  },
  "kernelspec": {
   "display_name": "Python 3 (ipykernel)",
   "language": "python",
   "name": "python3"
  },
  "language_info": {
   "codemirror_mode": {
    "name": "ipython",
    "version": 3
   },
   "file_extension": ".py",
   "mimetype": "text/x-python",
   "name": "python",
   "nbconvert_exporter": "python",
   "pygments_lexer": "ipython3",
   "version": "3.9.12"
  },
  "toc": {
   "base_numbering": 1,
   "nav_menu": {},
   "number_sections": true,
   "sideBar": true,
   "skip_h1_title": true,
   "title_cell": "Table of Contents",
   "title_sidebar": "Contents",
   "toc_cell": false,
   "toc_position": {},
   "toc_section_display": true,
   "toc_window_display": false
  }
 },
 "nbformat": 4,
 "nbformat_minor": 5
}
