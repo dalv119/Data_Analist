{
 "cells": [
  {
   "cell_type": "markdown",
   "metadata": {
    "id": "4mJbK1knrJgz"
   },
   "source": [
    "# Исследование стартапов\n",
    "\n",
    "- Автор: Владимир Добров\n",
    "- Дата: 2025-05-07"
   ]
  },
  {
   "cell_type": "markdown",
   "metadata": {
    "id": "P6j0r3worJg0"
   },
   "source": [
    "## Введение"
   ]
  },
  {
   "cell_type": "markdown",
   "metadata": {
    "id": "8lQtbsIUyFG6"
   },
   "source": [
    "Финансовая компания, которая предоставляет льготные займы стартапам, хочет войти на инвестиционный рынок с прицелом на покупку, развитие и последующую перепродажу перспективных стартапов. Для разработки модели бизнеса нужна информация. Чтобы выработать общее понимание, какие данные могут быть полезны, провести исследование на исторических данных.\n",
    "Необходимо подготовить датасет и проверить, что данные в нём соответствуют здравому смыслу, а также ответить на вопросы заказчика как о предобработке, так и о значении данных для бизнеса."
   ]
  },
  {
   "cell_type": "markdown",
   "metadata": {
    "id": "xqr6uttCrJg0"
   },
   "source": [
    "\n",
    "## Шаг 1. Знакомство с данными: загрузка и первичная предобработка\n",
    "\n",
    "Названия файлов:\n",
    "* acquisition.csv\n",
    "* company_and_rounds.csv\n",
    "* people.csv\n",
    "* education.csv\n",
    "* degrees.csv\n",
    "\n",
    "Опциональные датасеты:\n",
    "* fund.csv\n",
    "* investment.csv\n",
    "\n",
    "\n",
    "### Описание данных  \n",
    "\n",
    "#### Таблица `acquisition`\n",
    "Содержит информацию о покупках одними компаниями других компаний:  \n",
    "- id — идентификатор покупки.\n",
    "- acquiring_company_id — идентификатор покупающей компании.\n",
    "- acquired_company_id — идентификатор покупаемой компании.\n",
    "- term_code — варианты расчёта.\n",
    "- price_amount — сумма сделки.\n",
    "- acquired_at — дата сделки.  \n",
    "\n",
    "#### Таблица `company_and_rounds`  \n",
    "Содержит информацию о компаниях и раундах финансирования:\n",
    "- company ID — идентификатор компании.\n",
    "- name — название компании.\n",
    "- category code — категория области деятельности компании.\n",
    "- status — статус компании.\n",
    "- founded at — дата инвестирования.\n",
    "- closed at — дата закрытия компании.\n",
    "- domain — официальный сайт компании.\n",
    "- network username — ник компании в сети.\n",
    "- country code — код страны компании.\n",
    "- investment rounds — число инвестиционных раундов.\n",
    "- funding rounds — число раундов финансирования.\n",
    "- funding total — сумма финансирования.\n",
    "- milestones — вехи финансирования.\n",
    "- funding round id — идентификатор этапа финансирования.\n",
    "- company id — идентификатор компании.\n",
    "- funded at — дата финансирования.\n",
    "- funding round type — тип финансирования.\n",
    "- raised amount — сумма финансирования.\n",
    "- pre money valuation — предварительная денежная оценка.\n",
    "- participants — число участников.\n",
    "- is first round — является ли раунд первым.\n",
    "- is last round — является раунд последним.  \n",
    "\n",
    "#### Таблица `education`  \n",
    "Содержит информацию об образовании сотрудника:\n",
    "- id — идентификатор записи об образовании.\n",
    "- person_id — идентификатор работника.\n",
    "- instituition — название учебного заведения.\n",
    "- graduated_at — дата получения образования.  \n",
    "\n",
    "#### Таблица `people`  \n",
    "Содержит информацию о сотрудниках:\n",
    "- id — идентификатор сотрудника.\n",
    "- first_name — имя сотрудника.\n",
    "- last_name — фамилия сотрудника.\n",
    "- company_id — идентификатор компании.\n",
    "- network_username — ник в социальных сетях.  \n",
    "\n",
    "#### Таблица `degrees`  \n",
    "Содержит информацию о типе образования сотрудника:\n",
    "- id — идентификатор записи.\n",
    "- object_id — идентификатор сотрудника.\n",
    "- degree_type — тип образования.\n",
    "- subject — специальность.  \n",
    "\n",
    "Дополнительные таблицы:  \n",
    "\n",
    "- fund.csv\n",
    "- investment.csv  \n",
    "\n",
    "#### Таблица` fund`  \n",
    "Содержит информацию о фондах:\n",
    "- id — идентификатор фонда.\n",
    "- name — название фонда.\n",
    "- category_code — категория области деятельности компании.\n",
    "- founded_at — дата создания фонда.\n",
    "- domain — сайт фонда.\n",
    "- network_username — ник фонда в сети.\n",
    "- country_code — код страны фонда.\n",
    "- investment_rounds — число инвестиционных раундов.\n",
    "- invested_companies — число профинансированных компаний.\n",
    "- milestones — вехи финансирования.  \n",
    "\n",
    "#### Таблица `investment`  \n",
    "Содержит информацию о раундах инвестирования:\n",
    "- id — идентификатор этапа инвестирования.\n",
    "- funding_round_id — идентификатор раунда инвестирования.\n",
    "- company_id — индентификатор компании.\n",
    "- funding_round_type — тип финансирования.\n",
    "- fund_id — идентификатор фонда.\n",
    "\n",
    "\n",
    "\n",
    "### 1.1. Вывод общей информации, исправление названия столбцов\n"
   ]
  },
  {
   "cell_type": "code",
   "execution_count": null,
   "metadata": {
    "colab": {
     "base_uri": "https://localhost:8080/"
    },
    "id": "W_W4jRazrJg0",
    "outputId": "d2409aad-233f-4bb4-ec71-7da96594f9df"
   },
   "outputs": [],
   "source": [
    "# Импортируем библиотеки\n",
    "import pandas as pd\n",
    "\n",
    "# Загружаем библиотеки для визуализации данных\n",
    "import matplotlib.pyplot as plt\n",
    "import seaborn as sns"
   ]
  },
  {
   "cell_type": "markdown",
   "metadata": {},
   "source": [
    "Загрузим все данные по проекту"
   ]
  },
  {
   "cell_type": "code",
   "execution_count": 2,
   "metadata": {
    "id": "2Tm4Pk__Felf"
   },
   "outputs": [],
   "source": [
    "# Выгружаем данные в переменные rests_df и prices_df\n",
    "PATH = \"https://code.s3.yandex.net/datasets/\"\n",
    "acquis_df = pd.read_csv(PATH + 'acquisition.csv')\n",
    "company_df = pd.read_csv(PATH + 'company_and_rounds.csv')\n",
    "people_df = pd.read_csv(PATH + 'people.csv')\n",
    "education_df = pd.read_csv(PATH + 'education.csv')\n",
    "degrees_df = pd.read_csv(PATH + 'degrees.csv')\n",
    "fund = pd.read_csv(PATH + 'fund.csv')\n",
    "investment = pd.read_csv(PATH + 'investment.csv')"
   ]
  },
  {
   "cell_type": "markdown",
   "metadata": {},
   "source": [
    "Проверим названия столбцов."
   ]
  },
  {
   "cell_type": "code",
   "execution_count": 3,
   "metadata": {
    "id": "oNqJ2qpRFebv"
   },
   "outputs": [
    {
     "name": "stdout",
     "output_type": "stream",
     "text": [
      "acquis_df\n",
      "['id', 'acquiring_company_id', 'acquired_company_id', 'term_code', 'price_amount', 'acquired_at'] \n",
      "\n",
      "company_df\n",
      "['company  ID', 'name', 'category  code', 'status', 'founded  at', 'closed  at', 'domain', 'network  username', 'country  code', 'investment  rounds', 'funding  rounds', 'funding  total', 'milestones', 'funding  round  id', 'company  id', 'funded  at', 'funding  round  type', 'raised  amount', 'pre  money  valuation', 'participants', 'is  first  round', 'is  last  round'] \n",
      "\n",
      "people_df\n",
      "['id', 'first_name', 'last_name', 'company_id', 'network_username'] \n",
      "\n",
      "education_df\n",
      "['id', 'person_id', 'instituition', 'graduated_at'] \n",
      "\n",
      "degrees_df\n",
      "['id', 'object_id', 'degree_type', 'subject'] \n",
      "\n"
     ]
    }
   ],
   "source": [
    "# Определяем список таблиц\n",
    "dfs =['acquis_df', 'company_df', 'people_df', 'education_df', 'degrees_df']\n",
    "\n",
    "# Выводим названия столбцов таблиц\n",
    "for df in dfs:\n",
    "    print(df)\n",
    "    print(f'{list(locals()[df])} \\n')"
   ]
  },
  {
   "cell_type": "code",
   "execution_count": 4,
   "metadata": {},
   "outputs": [
    {
     "data": {
      "text/plain": [
       "Index(['company_id', 'name', 'category_code', 'status', 'founded_at',\n",
       "       'closed_at', 'domain', 'network_username', 'country_code',\n",
       "       'investment_rounds', 'funding_rounds', 'funding_total', 'milestones',\n",
       "       'funding_round_id', 'companyid', 'funded_at', 'funding_round_type',\n",
       "       'raised_amount', 'pre_money_valuation', 'participants',\n",
       "       'is_first_round', 'is_last_round'],\n",
       "      dtype='object')"
      ]
     },
     "execution_count": 4,
     "metadata": {},
     "output_type": "execute_result"
    }
   ],
   "source": [
    "# Приводим названия столбцов к виду snake_case\n",
    "company_df.columns = company_df.columns.str.replace('  ', '_')\n",
    "\n",
    "\n",
    "# Изменим повторяющиеся название колонки `company_id` на `companyid`\n",
    "company_df = company_df.rename(columns={'company_id': 'companyid'})\n",
    "\n",
    "# Приводим названия колонок к нижнему регистру\n",
    "company_df.columns = company_df.columns.str.lower()\n",
    "\n",
    "# Проверим результат\n",
    "company_df.columns"
   ]
  },
  {
   "cell_type": "code",
   "execution_count": 5,
   "metadata": {},
   "outputs": [
    {
     "name": "stdout",
     "output_type": "stream",
     "text": [
      "acquis_df\n",
      "\n",
      "<class 'pandas.core.frame.DataFrame'>\n",
      "RangeIndex: 9407 entries, 0 to 9406\n",
      "Data columns (total 6 columns):\n",
      " #   Column                Non-Null Count  Dtype \n",
      "---  ------                --------------  ----- \n",
      " 0   id                    9407 non-null   int64 \n",
      " 1   acquiring_company_id  9407 non-null   int64 \n",
      " 2   acquired_company_id   9407 non-null   int64 \n",
      " 3   term_code             1831 non-null   object\n",
      " 4   price_amount          9407 non-null   int64 \n",
      " 5   acquired_at           9378 non-null   object\n",
      "dtypes: int64(4), object(2)\n",
      "memory usage: 441.1+ KB\n"
     ]
    },
    {
     "data": {
      "text/html": [
       "<div>\n",
       "<style scoped>\n",
       "    .dataframe tbody tr th:only-of-type {\n",
       "        vertical-align: middle;\n",
       "    }\n",
       "\n",
       "    .dataframe tbody tr th {\n",
       "        vertical-align: top;\n",
       "    }\n",
       "\n",
       "    .dataframe thead th {\n",
       "        text-align: right;\n",
       "    }\n",
       "</style>\n",
       "<table border=\"1\" class=\"dataframe\">\n",
       "  <thead>\n",
       "    <tr style=\"text-align: right;\">\n",
       "      <th></th>\n",
       "      <th>id</th>\n",
       "      <th>acquiring_company_id</th>\n",
       "      <th>acquired_company_id</th>\n",
       "      <th>term_code</th>\n",
       "      <th>price_amount</th>\n",
       "      <th>acquired_at</th>\n",
       "    </tr>\n",
       "  </thead>\n",
       "  <tbody>\n",
       "    <tr>\n",
       "      <th>0</th>\n",
       "      <td>1</td>\n",
       "      <td>11</td>\n",
       "      <td>10</td>\n",
       "      <td>NaN</td>\n",
       "      <td>20000000</td>\n",
       "      <td>2007-05-30</td>\n",
       "    </tr>\n",
       "    <tr>\n",
       "      <th>1</th>\n",
       "      <td>7</td>\n",
       "      <td>59</td>\n",
       "      <td>72</td>\n",
       "      <td>cash</td>\n",
       "      <td>60000000</td>\n",
       "      <td>2007-07-01</td>\n",
       "    </tr>\n",
       "    <tr>\n",
       "      <th>2</th>\n",
       "      <td>8</td>\n",
       "      <td>24</td>\n",
       "      <td>132</td>\n",
       "      <td>cash</td>\n",
       "      <td>280000000</td>\n",
       "      <td>2007-05-01</td>\n",
       "    </tr>\n",
       "    <tr>\n",
       "      <th>3</th>\n",
       "      <td>9</td>\n",
       "      <td>59</td>\n",
       "      <td>155</td>\n",
       "      <td>cash</td>\n",
       "      <td>100000000</td>\n",
       "      <td>2007-06-01</td>\n",
       "    </tr>\n",
       "    <tr>\n",
       "      <th>4</th>\n",
       "      <td>10</td>\n",
       "      <td>212</td>\n",
       "      <td>215</td>\n",
       "      <td>cash</td>\n",
       "      <td>25000000</td>\n",
       "      <td>2007-07-01</td>\n",
       "    </tr>\n",
       "    <tr>\n",
       "      <th>5</th>\n",
       "      <td>11</td>\n",
       "      <td>227</td>\n",
       "      <td>228</td>\n",
       "      <td>NaN</td>\n",
       "      <td>7140000</td>\n",
       "      <td>2003-08-05</td>\n",
       "    </tr>\n",
       "    <tr>\n",
       "      <th>6</th>\n",
       "      <td>12</td>\n",
       "      <td>5</td>\n",
       "      <td>230</td>\n",
       "      <td>cash</td>\n",
       "      <td>0</td>\n",
       "      <td>2007-07-01</td>\n",
       "    </tr>\n",
       "    <tr>\n",
       "      <th>7</th>\n",
       "      <td>14</td>\n",
       "      <td>318</td>\n",
       "      <td>314</td>\n",
       "      <td>cash</td>\n",
       "      <td>0</td>\n",
       "      <td>2006-10-01</td>\n",
       "    </tr>\n",
       "    <tr>\n",
       "      <th>8</th>\n",
       "      <td>15</td>\n",
       "      <td>20</td>\n",
       "      <td>333</td>\n",
       "      <td>stock</td>\n",
       "      <td>1500000000</td>\n",
       "      <td>2002-07-08</td>\n",
       "    </tr>\n",
       "    <tr>\n",
       "      <th>9</th>\n",
       "      <td>16</td>\n",
       "      <td>342</td>\n",
       "      <td>341</td>\n",
       "      <td>cash</td>\n",
       "      <td>350000000</td>\n",
       "      <td>2007-08-01</td>\n",
       "    </tr>\n",
       "  </tbody>\n",
       "</table>\n",
       "</div>"
      ],
      "text/plain": [
       "   id  acquiring_company_id  acquired_company_id term_code  price_amount  \\\n",
       "0   1                    11                   10       NaN      20000000   \n",
       "1   7                    59                   72      cash      60000000   \n",
       "2   8                    24                  132      cash     280000000   \n",
       "3   9                    59                  155      cash     100000000   \n",
       "4  10                   212                  215      cash      25000000   \n",
       "5  11                   227                  228       NaN       7140000   \n",
       "6  12                     5                  230      cash             0   \n",
       "7  14                   318                  314      cash             0   \n",
       "8  15                    20                  333     stock    1500000000   \n",
       "9  16                   342                  341      cash     350000000   \n",
       "\n",
       "  acquired_at  \n",
       "0  2007-05-30  \n",
       "1  2007-07-01  \n",
       "2  2007-05-01  \n",
       "3  2007-06-01  \n",
       "4  2007-07-01  \n",
       "5  2003-08-05  \n",
       "6  2007-07-01  \n",
       "7  2006-10-01  \n",
       "8  2002-07-08  \n",
       "9  2007-08-01  "
      ]
     },
     "metadata": {},
     "output_type": "display_data"
    },
    {
     "name": "stdout",
     "output_type": "stream",
     "text": [
      "company_df\n",
      "\n",
      "<class 'pandas.core.frame.DataFrame'>\n",
      "RangeIndex: 217774 entries, 0 to 217773\n",
      "Data columns (total 22 columns):\n",
      " #   Column               Non-Null Count   Dtype  \n",
      "---  ------               --------------   -----  \n",
      " 0   company_id           217472 non-null  float64\n",
      " 1   name                 217472 non-null  object \n",
      " 2   category_code        143886 non-null  object \n",
      " 3   status               217472 non-null  object \n",
      " 4   founded_at           109956 non-null  object \n",
      " 5   closed_at            3449 non-null    object \n",
      " 6   domain               147159 non-null  object \n",
      " 7   network_username     95534 non-null   object \n",
      " 8   country_code         108607 non-null  object \n",
      " 9   investment_rounds    217472 non-null  float64\n",
      " 10  funding_rounds       217472 non-null  float64\n",
      " 11  funding_total        217472 non-null  float64\n",
      " 12  milestones           217472 non-null  float64\n",
      " 13  funding_round_id     52928 non-null   float64\n",
      " 14  companyid            52928 non-null   float64\n",
      " 15  funded_at            52680 non-null   object \n",
      " 16  funding_round_type   52928 non-null   object \n",
      " 17  raised_amount        52928 non-null   float64\n",
      " 18  pre_money_valuation  52928 non-null   float64\n",
      " 19  participants         52928 non-null   float64\n",
      " 20  is_first_round       52928 non-null   float64\n",
      " 21  is_last_round        52928 non-null   float64\n",
      "dtypes: float64(12), object(10)\n",
      "memory usage: 36.6+ MB\n"
     ]
    },
    {
     "data": {
      "text/html": [
       "<div>\n",
       "<style scoped>\n",
       "    .dataframe tbody tr th:only-of-type {\n",
       "        vertical-align: middle;\n",
       "    }\n",
       "\n",
       "    .dataframe tbody tr th {\n",
       "        vertical-align: top;\n",
       "    }\n",
       "\n",
       "    .dataframe thead th {\n",
       "        text-align: right;\n",
       "    }\n",
       "</style>\n",
       "<table border=\"1\" class=\"dataframe\">\n",
       "  <thead>\n",
       "    <tr style=\"text-align: right;\">\n",
       "      <th></th>\n",
       "      <th>company_id</th>\n",
       "      <th>name</th>\n",
       "      <th>category_code</th>\n",
       "      <th>status</th>\n",
       "      <th>founded_at</th>\n",
       "      <th>closed_at</th>\n",
       "      <th>domain</th>\n",
       "      <th>network_username</th>\n",
       "      <th>country_code</th>\n",
       "      <th>investment_rounds</th>\n",
       "      <th>...</th>\n",
       "      <th>milestones</th>\n",
       "      <th>funding_round_id</th>\n",
       "      <th>companyid</th>\n",
       "      <th>funded_at</th>\n",
       "      <th>funding_round_type</th>\n",
       "      <th>raised_amount</th>\n",
       "      <th>pre_money_valuation</th>\n",
       "      <th>participants</th>\n",
       "      <th>is_first_round</th>\n",
       "      <th>is_last_round</th>\n",
       "    </tr>\n",
       "  </thead>\n",
       "  <tbody>\n",
       "    <tr>\n",
       "      <th>0</th>\n",
       "      <td>1.0</td>\n",
       "      <td>Wetpaint</td>\n",
       "      <td>web</td>\n",
       "      <td>operating</td>\n",
       "      <td>2005-10-17</td>\n",
       "      <td>NaN</td>\n",
       "      <td>wetpaint-inc.com</td>\n",
       "      <td>BachelrWetpaint</td>\n",
       "      <td>USA</td>\n",
       "      <td>0.0</td>\n",
       "      <td>...</td>\n",
       "      <td>5.0</td>\n",
       "      <td>888.0</td>\n",
       "      <td>1.0</td>\n",
       "      <td>2005-10-01</td>\n",
       "      <td>series-a</td>\n",
       "      <td>5250000.0</td>\n",
       "      <td>0.0</td>\n",
       "      <td>2.0</td>\n",
       "      <td>0.0</td>\n",
       "      <td>1.0</td>\n",
       "    </tr>\n",
       "    <tr>\n",
       "      <th>1</th>\n",
       "      <td>1.0</td>\n",
       "      <td>Wetpaint</td>\n",
       "      <td>web</td>\n",
       "      <td>operating</td>\n",
       "      <td>2005-10-17</td>\n",
       "      <td>NaN</td>\n",
       "      <td>wetpaint-inc.com</td>\n",
       "      <td>BachelrWetpaint</td>\n",
       "      <td>USA</td>\n",
       "      <td>0.0</td>\n",
       "      <td>...</td>\n",
       "      <td>5.0</td>\n",
       "      <td>889.0</td>\n",
       "      <td>1.0</td>\n",
       "      <td>2007-01-01</td>\n",
       "      <td>series-b</td>\n",
       "      <td>9500000.0</td>\n",
       "      <td>0.0</td>\n",
       "      <td>3.0</td>\n",
       "      <td>0.0</td>\n",
       "      <td>0.0</td>\n",
       "    </tr>\n",
       "    <tr>\n",
       "      <th>2</th>\n",
       "      <td>1.0</td>\n",
       "      <td>Wetpaint</td>\n",
       "      <td>web</td>\n",
       "      <td>operating</td>\n",
       "      <td>2005-10-17</td>\n",
       "      <td>NaN</td>\n",
       "      <td>wetpaint-inc.com</td>\n",
       "      <td>BachelrWetpaint</td>\n",
       "      <td>USA</td>\n",
       "      <td>0.0</td>\n",
       "      <td>...</td>\n",
       "      <td>5.0</td>\n",
       "      <td>2312.0</td>\n",
       "      <td>1.0</td>\n",
       "      <td>2008-05-19</td>\n",
       "      <td>series-c+</td>\n",
       "      <td>25000000.0</td>\n",
       "      <td>0.0</td>\n",
       "      <td>4.0</td>\n",
       "      <td>1.0</td>\n",
       "      <td>0.0</td>\n",
       "    </tr>\n",
       "    <tr>\n",
       "      <th>3</th>\n",
       "      <td>10.0</td>\n",
       "      <td>Flektor</td>\n",
       "      <td>games_video</td>\n",
       "      <td>acquired</td>\n",
       "      <td>NaN</td>\n",
       "      <td>NaN</td>\n",
       "      <td>flektor.com</td>\n",
       "      <td>NaN</td>\n",
       "      <td>USA</td>\n",
       "      <td>0.0</td>\n",
       "      <td>...</td>\n",
       "      <td>0.0</td>\n",
       "      <td>NaN</td>\n",
       "      <td>NaN</td>\n",
       "      <td>NaN</td>\n",
       "      <td>NaN</td>\n",
       "      <td>NaN</td>\n",
       "      <td>NaN</td>\n",
       "      <td>NaN</td>\n",
       "      <td>NaN</td>\n",
       "      <td>NaN</td>\n",
       "    </tr>\n",
       "    <tr>\n",
       "      <th>4</th>\n",
       "      <td>100.0</td>\n",
       "      <td>There</td>\n",
       "      <td>games_video</td>\n",
       "      <td>acquired</td>\n",
       "      <td>NaN</td>\n",
       "      <td>NaN</td>\n",
       "      <td>there.com</td>\n",
       "      <td>NaN</td>\n",
       "      <td>USA</td>\n",
       "      <td>0.0</td>\n",
       "      <td>...</td>\n",
       "      <td>4.0</td>\n",
       "      <td>NaN</td>\n",
       "      <td>NaN</td>\n",
       "      <td>NaN</td>\n",
       "      <td>NaN</td>\n",
       "      <td>NaN</td>\n",
       "      <td>NaN</td>\n",
       "      <td>NaN</td>\n",
       "      <td>NaN</td>\n",
       "      <td>NaN</td>\n",
       "    </tr>\n",
       "    <tr>\n",
       "      <th>5</th>\n",
       "      <td>10000.0</td>\n",
       "      <td>MYWEBBO</td>\n",
       "      <td>network_hosting</td>\n",
       "      <td>operating</td>\n",
       "      <td>2008-07-26</td>\n",
       "      <td>NaN</td>\n",
       "      <td>mywebbo.com</td>\n",
       "      <td>NaN</td>\n",
       "      <td>NaN</td>\n",
       "      <td>0.0</td>\n",
       "      <td>...</td>\n",
       "      <td>0.0</td>\n",
       "      <td>NaN</td>\n",
       "      <td>NaN</td>\n",
       "      <td>NaN</td>\n",
       "      <td>NaN</td>\n",
       "      <td>NaN</td>\n",
       "      <td>NaN</td>\n",
       "      <td>NaN</td>\n",
       "      <td>NaN</td>\n",
       "      <td>NaN</td>\n",
       "    </tr>\n",
       "    <tr>\n",
       "      <th>6</th>\n",
       "      <td>10001.0</td>\n",
       "      <td>THE Movie Streamer</td>\n",
       "      <td>games_video</td>\n",
       "      <td>operating</td>\n",
       "      <td>2008-07-26</td>\n",
       "      <td>NaN</td>\n",
       "      <td>themoviestreamer.com</td>\n",
       "      <td>NaN</td>\n",
       "      <td>NaN</td>\n",
       "      <td>0.0</td>\n",
       "      <td>...</td>\n",
       "      <td>0.0</td>\n",
       "      <td>NaN</td>\n",
       "      <td>NaN</td>\n",
       "      <td>NaN</td>\n",
       "      <td>NaN</td>\n",
       "      <td>NaN</td>\n",
       "      <td>NaN</td>\n",
       "      <td>NaN</td>\n",
       "      <td>NaN</td>\n",
       "      <td>NaN</td>\n",
       "    </tr>\n",
       "    <tr>\n",
       "      <th>7</th>\n",
       "      <td>10002.0</td>\n",
       "      <td>Synergie Media</td>\n",
       "      <td>advertising</td>\n",
       "      <td>operating</td>\n",
       "      <td>2007-06-27</td>\n",
       "      <td>NaN</td>\n",
       "      <td>synergie-media.com</td>\n",
       "      <td>NaN</td>\n",
       "      <td>MAR</td>\n",
       "      <td>0.0</td>\n",
       "      <td>...</td>\n",
       "      <td>0.0</td>\n",
       "      <td>NaN</td>\n",
       "      <td>NaN</td>\n",
       "      <td>NaN</td>\n",
       "      <td>NaN</td>\n",
       "      <td>NaN</td>\n",
       "      <td>NaN</td>\n",
       "      <td>NaN</td>\n",
       "      <td>NaN</td>\n",
       "      <td>NaN</td>\n",
       "    </tr>\n",
       "    <tr>\n",
       "      <th>8</th>\n",
       "      <td>10003.0</td>\n",
       "      <td>Green Basti Ecosystems</td>\n",
       "      <td>cleantech</td>\n",
       "      <td>operating</td>\n",
       "      <td>2008-08-20</td>\n",
       "      <td>NaN</td>\n",
       "      <td>NaN</td>\n",
       "      <td>NaN</td>\n",
       "      <td>IND</td>\n",
       "      <td>0.0</td>\n",
       "      <td>...</td>\n",
       "      <td>0.0</td>\n",
       "      <td>NaN</td>\n",
       "      <td>NaN</td>\n",
       "      <td>NaN</td>\n",
       "      <td>NaN</td>\n",
       "      <td>NaN</td>\n",
       "      <td>NaN</td>\n",
       "      <td>NaN</td>\n",
       "      <td>NaN</td>\n",
       "      <td>NaN</td>\n",
       "    </tr>\n",
       "    <tr>\n",
       "      <th>9</th>\n",
       "      <td>100042.0</td>\n",
       "      <td>HostNine</td>\n",
       "      <td>NaN</td>\n",
       "      <td>operating</td>\n",
       "      <td>NaN</td>\n",
       "      <td>NaN</td>\n",
       "      <td>hostnine.com</td>\n",
       "      <td>Hostnine</td>\n",
       "      <td>NaN</td>\n",
       "      <td>0.0</td>\n",
       "      <td>...</td>\n",
       "      <td>1.0</td>\n",
       "      <td>NaN</td>\n",
       "      <td>NaN</td>\n",
       "      <td>NaN</td>\n",
       "      <td>NaN</td>\n",
       "      <td>NaN</td>\n",
       "      <td>NaN</td>\n",
       "      <td>NaN</td>\n",
       "      <td>NaN</td>\n",
       "      <td>NaN</td>\n",
       "    </tr>\n",
       "  </tbody>\n",
       "</table>\n",
       "<p>10 rows × 22 columns</p>\n",
       "</div>"
      ],
      "text/plain": [
       "   company_id                    name    category_code     status  founded_at  \\\n",
       "0         1.0                Wetpaint              web  operating  2005-10-17   \n",
       "1         1.0                Wetpaint              web  operating  2005-10-17   \n",
       "2         1.0                Wetpaint              web  operating  2005-10-17   \n",
       "3        10.0                 Flektor      games_video   acquired         NaN   \n",
       "4       100.0                   There      games_video   acquired         NaN   \n",
       "5     10000.0                 MYWEBBO  network_hosting  operating  2008-07-26   \n",
       "6     10001.0      THE Movie Streamer      games_video  operating  2008-07-26   \n",
       "7     10002.0          Synergie Media      advertising  operating  2007-06-27   \n",
       "8     10003.0  Green Basti Ecosystems        cleantech  operating  2008-08-20   \n",
       "9    100042.0                HostNine              NaN  operating         NaN   \n",
       "\n",
       "  closed_at                domain network_username country_code  \\\n",
       "0       NaN      wetpaint-inc.com  BachelrWetpaint          USA   \n",
       "1       NaN      wetpaint-inc.com  BachelrWetpaint          USA   \n",
       "2       NaN      wetpaint-inc.com  BachelrWetpaint          USA   \n",
       "3       NaN           flektor.com              NaN          USA   \n",
       "4       NaN             there.com              NaN          USA   \n",
       "5       NaN           mywebbo.com              NaN          NaN   \n",
       "6       NaN  themoviestreamer.com              NaN          NaN   \n",
       "7       NaN    synergie-media.com              NaN          MAR   \n",
       "8       NaN                   NaN              NaN          IND   \n",
       "9       NaN          hostnine.com         Hostnine          NaN   \n",
       "\n",
       "   investment_rounds  ...  milestones  funding_round_id  companyid  \\\n",
       "0                0.0  ...         5.0             888.0        1.0   \n",
       "1                0.0  ...         5.0             889.0        1.0   \n",
       "2                0.0  ...         5.0            2312.0        1.0   \n",
       "3                0.0  ...         0.0               NaN        NaN   \n",
       "4                0.0  ...         4.0               NaN        NaN   \n",
       "5                0.0  ...         0.0               NaN        NaN   \n",
       "6                0.0  ...         0.0               NaN        NaN   \n",
       "7                0.0  ...         0.0               NaN        NaN   \n",
       "8                0.0  ...         0.0               NaN        NaN   \n",
       "9                0.0  ...         1.0               NaN        NaN   \n",
       "\n",
       "    funded_at  funding_round_type raised_amount pre_money_valuation  \\\n",
       "0  2005-10-01            series-a     5250000.0                 0.0   \n",
       "1  2007-01-01            series-b     9500000.0                 0.0   \n",
       "2  2008-05-19           series-c+    25000000.0                 0.0   \n",
       "3         NaN                 NaN           NaN                 NaN   \n",
       "4         NaN                 NaN           NaN                 NaN   \n",
       "5         NaN                 NaN           NaN                 NaN   \n",
       "6         NaN                 NaN           NaN                 NaN   \n",
       "7         NaN                 NaN           NaN                 NaN   \n",
       "8         NaN                 NaN           NaN                 NaN   \n",
       "9         NaN                 NaN           NaN                 NaN   \n",
       "\n",
       "   participants  is_first_round  is_last_round  \n",
       "0           2.0             0.0            1.0  \n",
       "1           3.0             0.0            0.0  \n",
       "2           4.0             1.0            0.0  \n",
       "3           NaN             NaN            NaN  \n",
       "4           NaN             NaN            NaN  \n",
       "5           NaN             NaN            NaN  \n",
       "6           NaN             NaN            NaN  \n",
       "7           NaN             NaN            NaN  \n",
       "8           NaN             NaN            NaN  \n",
       "9           NaN             NaN            NaN  \n",
       "\n",
       "[10 rows x 22 columns]"
      ]
     },
     "metadata": {},
     "output_type": "display_data"
    },
    {
     "name": "stdout",
     "output_type": "stream",
     "text": [
      "people_df\n",
      "\n",
      "<class 'pandas.core.frame.DataFrame'>\n",
      "RangeIndex: 226709 entries, 0 to 226708\n",
      "Data columns (total 5 columns):\n",
      " #   Column            Non-Null Count   Dtype  \n",
      "---  ------            --------------   -----  \n",
      " 0   id                226709 non-null  int64  \n",
      " 1   first_name        226704 non-null  object \n",
      " 2   last_name         226708 non-null  object \n",
      " 3   company_id        34615 non-null   float64\n",
      " 4   network_username  38867 non-null   object \n",
      "dtypes: float64(1), int64(1), object(3)\n",
      "memory usage: 8.6+ MB\n"
     ]
    },
    {
     "data": {
      "text/html": [
       "<div>\n",
       "<style scoped>\n",
       "    .dataframe tbody tr th:only-of-type {\n",
       "        vertical-align: middle;\n",
       "    }\n",
       "\n",
       "    .dataframe tbody tr th {\n",
       "        vertical-align: top;\n",
       "    }\n",
       "\n",
       "    .dataframe thead th {\n",
       "        text-align: right;\n",
       "    }\n",
       "</style>\n",
       "<table border=\"1\" class=\"dataframe\">\n",
       "  <thead>\n",
       "    <tr style=\"text-align: right;\">\n",
       "      <th></th>\n",
       "      <th>id</th>\n",
       "      <th>first_name</th>\n",
       "      <th>last_name</th>\n",
       "      <th>company_id</th>\n",
       "      <th>network_username</th>\n",
       "    </tr>\n",
       "  </thead>\n",
       "  <tbody>\n",
       "    <tr>\n",
       "      <th>0</th>\n",
       "      <td>10</td>\n",
       "      <td>Mark</td>\n",
       "      <td>Zuckerberg</td>\n",
       "      <td>5.0</td>\n",
       "      <td>NaN</td>\n",
       "    </tr>\n",
       "    <tr>\n",
       "      <th>1</th>\n",
       "      <td>100</td>\n",
       "      <td>Peter</td>\n",
       "      <td>Lester</td>\n",
       "      <td>27.0</td>\n",
       "      <td>NaN</td>\n",
       "    </tr>\n",
       "    <tr>\n",
       "      <th>2</th>\n",
       "      <td>1000</td>\n",
       "      <td>Dr. Steven</td>\n",
       "      <td>E. Saunders</td>\n",
       "      <td>292.0</td>\n",
       "      <td>NaN</td>\n",
       "    </tr>\n",
       "    <tr>\n",
       "      <th>3</th>\n",
       "      <td>10000</td>\n",
       "      <td>Neil</td>\n",
       "      <td>Capel</td>\n",
       "      <td>2526.0</td>\n",
       "      <td>NaN</td>\n",
       "    </tr>\n",
       "    <tr>\n",
       "      <th>4</th>\n",
       "      <td>100000</td>\n",
       "      <td>Sue</td>\n",
       "      <td>Pilsch</td>\n",
       "      <td>NaN</td>\n",
       "      <td>NaN</td>\n",
       "    </tr>\n",
       "    <tr>\n",
       "      <th>5</th>\n",
       "      <td>100002</td>\n",
       "      <td>Keith</td>\n",
       "      <td>Kurzendoerfer</td>\n",
       "      <td>NaN</td>\n",
       "      <td>NaN</td>\n",
       "    </tr>\n",
       "    <tr>\n",
       "      <th>6</th>\n",
       "      <td>100006</td>\n",
       "      <td>Courtney</td>\n",
       "      <td>Homer</td>\n",
       "      <td>81558.0</td>\n",
       "      <td>jobsbostontech</td>\n",
       "    </tr>\n",
       "    <tr>\n",
       "      <th>7</th>\n",
       "      <td>100009</td>\n",
       "      <td>Eddy</td>\n",
       "      <td>Badrina</td>\n",
       "      <td>NaN</td>\n",
       "      <td>NaN</td>\n",
       "    </tr>\n",
       "    <tr>\n",
       "      <th>8</th>\n",
       "      <td>100010</td>\n",
       "      <td>Michael</td>\n",
       "      <td>Dadashyan</td>\n",
       "      <td>NaN</td>\n",
       "      <td>fbroulette</td>\n",
       "    </tr>\n",
       "    <tr>\n",
       "      <th>9</th>\n",
       "      <td>100011</td>\n",
       "      <td>Jeff</td>\n",
       "      <td>Grell</td>\n",
       "      <td>NaN</td>\n",
       "      <td>NaN</td>\n",
       "    </tr>\n",
       "  </tbody>\n",
       "</table>\n",
       "</div>"
      ],
      "text/plain": [
       "       id  first_name      last_name  company_id network_username\n",
       "0      10        Mark     Zuckerberg         5.0              NaN\n",
       "1     100       Peter         Lester        27.0              NaN\n",
       "2    1000  Dr. Steven    E. Saunders       292.0              NaN\n",
       "3   10000        Neil          Capel      2526.0              NaN\n",
       "4  100000         Sue         Pilsch         NaN              NaN\n",
       "5  100002       Keith  Kurzendoerfer         NaN              NaN\n",
       "6  100006    Courtney          Homer     81558.0   jobsbostontech\n",
       "7  100009        Eddy        Badrina         NaN              NaN\n",
       "8  100010     Michael      Dadashyan         NaN       fbroulette\n",
       "9  100011        Jeff          Grell         NaN              NaN"
      ]
     },
     "metadata": {},
     "output_type": "display_data"
    },
    {
     "name": "stdout",
     "output_type": "stream",
     "text": [
      "education_df\n",
      "\n",
      "<class 'pandas.core.frame.DataFrame'>\n",
      "RangeIndex: 109610 entries, 0 to 109609\n",
      "Data columns (total 4 columns):\n",
      " #   Column        Non-Null Count   Dtype \n",
      "---  ------        --------------   ----- \n",
      " 0   id            109610 non-null  int64 \n",
      " 1   person_id     109610 non-null  int64 \n",
      " 2   instituition  109555 non-null  object\n",
      " 3   graduated_at  58054 non-null   object\n",
      "dtypes: int64(2), object(2)\n",
      "memory usage: 3.3+ MB\n"
     ]
    },
    {
     "data": {
      "text/html": [
       "<div>\n",
       "<style scoped>\n",
       "    .dataframe tbody tr th:only-of-type {\n",
       "        vertical-align: middle;\n",
       "    }\n",
       "\n",
       "    .dataframe tbody tr th {\n",
       "        vertical-align: top;\n",
       "    }\n",
       "\n",
       "    .dataframe thead th {\n",
       "        text-align: right;\n",
       "    }\n",
       "</style>\n",
       "<table border=\"1\" class=\"dataframe\">\n",
       "  <thead>\n",
       "    <tr style=\"text-align: right;\">\n",
       "      <th></th>\n",
       "      <th>id</th>\n",
       "      <th>person_id</th>\n",
       "      <th>instituition</th>\n",
       "      <th>graduated_at</th>\n",
       "    </tr>\n",
       "  </thead>\n",
       "  <tbody>\n",
       "    <tr>\n",
       "      <th>0</th>\n",
       "      <td>1</td>\n",
       "      <td>6117</td>\n",
       "      <td>NaN</td>\n",
       "      <td>NaN</td>\n",
       "    </tr>\n",
       "    <tr>\n",
       "      <th>1</th>\n",
       "      <td>2</td>\n",
       "      <td>6136</td>\n",
       "      <td>Washington University, St. Louis</td>\n",
       "      <td>1990-01-01</td>\n",
       "    </tr>\n",
       "    <tr>\n",
       "      <th>2</th>\n",
       "      <td>3</td>\n",
       "      <td>6136</td>\n",
       "      <td>Boston University</td>\n",
       "      <td>1992-01-01</td>\n",
       "    </tr>\n",
       "    <tr>\n",
       "      <th>3</th>\n",
       "      <td>4</td>\n",
       "      <td>6005</td>\n",
       "      <td>University of Greenwich</td>\n",
       "      <td>2006-01-01</td>\n",
       "    </tr>\n",
       "    <tr>\n",
       "      <th>4</th>\n",
       "      <td>5</td>\n",
       "      <td>5832</td>\n",
       "      <td>Rice University</td>\n",
       "      <td>NaN</td>\n",
       "    </tr>\n",
       "    <tr>\n",
       "      <th>5</th>\n",
       "      <td>6</td>\n",
       "      <td>1017</td>\n",
       "      <td>Northeastern University</td>\n",
       "      <td>1988-01-01</td>\n",
       "    </tr>\n",
       "    <tr>\n",
       "      <th>6</th>\n",
       "      <td>7</td>\n",
       "      <td>6176</td>\n",
       "      <td>Rochester Institute of Technology</td>\n",
       "      <td>2002-01-01</td>\n",
       "    </tr>\n",
       "    <tr>\n",
       "      <th>7</th>\n",
       "      <td>8</td>\n",
       "      <td>5412</td>\n",
       "      <td>University of Cambridge</td>\n",
       "      <td>2002-01-01</td>\n",
       "    </tr>\n",
       "    <tr>\n",
       "      <th>8</th>\n",
       "      <td>9</td>\n",
       "      <td>1243</td>\n",
       "      <td>University of Oregon</td>\n",
       "      <td>1997-01-01</td>\n",
       "    </tr>\n",
       "    <tr>\n",
       "      <th>9</th>\n",
       "      <td>10</td>\n",
       "      <td>6265</td>\n",
       "      <td>University of Pennsylvania</td>\n",
       "      <td>1989-01-01</td>\n",
       "    </tr>\n",
       "  </tbody>\n",
       "</table>\n",
       "</div>"
      ],
      "text/plain": [
       "   id  person_id                       instituition graduated_at\n",
       "0   1       6117                                NaN          NaN\n",
       "1   2       6136   Washington University, St. Louis   1990-01-01\n",
       "2   3       6136                  Boston University   1992-01-01\n",
       "3   4       6005            University of Greenwich   2006-01-01\n",
       "4   5       5832                    Rice University          NaN\n",
       "5   6       1017            Northeastern University   1988-01-01\n",
       "6   7       6176  Rochester Institute of Technology   2002-01-01\n",
       "7   8       5412            University of Cambridge   2002-01-01\n",
       "8   9       1243               University of Oregon   1997-01-01\n",
       "9  10       6265         University of Pennsylvania   1989-01-01"
      ]
     },
     "metadata": {},
     "output_type": "display_data"
    },
    {
     "name": "stdout",
     "output_type": "stream",
     "text": [
      "degrees_df\n",
      "\n",
      "<class 'pandas.core.frame.DataFrame'>\n",
      "RangeIndex: 109610 entries, 0 to 109609\n",
      "Data columns (total 4 columns):\n",
      " #   Column       Non-Null Count   Dtype \n",
      "---  ------       --------------   ----- \n",
      " 0   id           109610 non-null  int64 \n",
      " 1   object_id    109610 non-null  object\n",
      " 2   degree_type  98392 non-null   object\n",
      " 3   subject      81298 non-null   object\n",
      "dtypes: int64(1), object(3)\n",
      "memory usage: 3.3+ MB\n"
     ]
    },
    {
     "data": {
      "text/html": [
       "<div>\n",
       "<style scoped>\n",
       "    .dataframe tbody tr th:only-of-type {\n",
       "        vertical-align: middle;\n",
       "    }\n",
       "\n",
       "    .dataframe tbody tr th {\n",
       "        vertical-align: top;\n",
       "    }\n",
       "\n",
       "    .dataframe thead th {\n",
       "        text-align: right;\n",
       "    }\n",
       "</style>\n",
       "<table border=\"1\" class=\"dataframe\">\n",
       "  <thead>\n",
       "    <tr style=\"text-align: right;\">\n",
       "      <th></th>\n",
       "      <th>id</th>\n",
       "      <th>object_id</th>\n",
       "      <th>degree_type</th>\n",
       "      <th>subject</th>\n",
       "    </tr>\n",
       "  </thead>\n",
       "  <tbody>\n",
       "    <tr>\n",
       "      <th>0</th>\n",
       "      <td>1</td>\n",
       "      <td>p:6117</td>\n",
       "      <td>MBA</td>\n",
       "      <td>NaN</td>\n",
       "    </tr>\n",
       "    <tr>\n",
       "      <th>1</th>\n",
       "      <td>2</td>\n",
       "      <td>p:6136</td>\n",
       "      <td>BA</td>\n",
       "      <td>English, French</td>\n",
       "    </tr>\n",
       "    <tr>\n",
       "      <th>2</th>\n",
       "      <td>3</td>\n",
       "      <td>p:6136</td>\n",
       "      <td>MS</td>\n",
       "      <td>Mass Communication</td>\n",
       "    </tr>\n",
       "    <tr>\n",
       "      <th>3</th>\n",
       "      <td>4</td>\n",
       "      <td>p:6005</td>\n",
       "      <td>MS</td>\n",
       "      <td>Internet Technology</td>\n",
       "    </tr>\n",
       "    <tr>\n",
       "      <th>4</th>\n",
       "      <td>5</td>\n",
       "      <td>p:5832</td>\n",
       "      <td>BCS</td>\n",
       "      <td>Computer Science, Psychology</td>\n",
       "    </tr>\n",
       "    <tr>\n",
       "      <th>5</th>\n",
       "      <td>6</td>\n",
       "      <td>p:1017</td>\n",
       "      <td>BS</td>\n",
       "      <td>Computer Science</td>\n",
       "    </tr>\n",
       "    <tr>\n",
       "      <th>6</th>\n",
       "      <td>7</td>\n",
       "      <td>p:6176</td>\n",
       "      <td>BS</td>\n",
       "      <td>Computer Science</td>\n",
       "    </tr>\n",
       "    <tr>\n",
       "      <th>7</th>\n",
       "      <td>8</td>\n",
       "      <td>p:5412</td>\n",
       "      <td>MS</td>\n",
       "      <td>Politics</td>\n",
       "    </tr>\n",
       "    <tr>\n",
       "      <th>8</th>\n",
       "      <td>9</td>\n",
       "      <td>p:1243</td>\n",
       "      <td>BA</td>\n",
       "      <td>International Business &amp; Marketing</td>\n",
       "    </tr>\n",
       "    <tr>\n",
       "      <th>9</th>\n",
       "      <td>10</td>\n",
       "      <td>p:6265</td>\n",
       "      <td>BS</td>\n",
       "      <td>Economics</td>\n",
       "    </tr>\n",
       "  </tbody>\n",
       "</table>\n",
       "</div>"
      ],
      "text/plain": [
       "   id object_id degree_type                             subject\n",
       "0   1    p:6117         MBA                                 NaN\n",
       "1   2    p:6136          BA                     English, French\n",
       "2   3    p:6136          MS                  Mass Communication\n",
       "3   4    p:6005          MS                 Internet Technology\n",
       "4   5    p:5832         BCS        Computer Science, Psychology\n",
       "5   6    p:1017          BS                    Computer Science\n",
       "6   7    p:6176          BS                    Computer Science\n",
       "7   8    p:5412          MS                            Politics\n",
       "8   9    p:1243          BA  International Business & Marketing\n",
       "9  10    p:6265          BS                           Economics"
      ]
     },
     "metadata": {},
     "output_type": "display_data"
    }
   ],
   "source": [
    "# Выводим информацию о датафрейме и первые строки датафрейма на экран\n",
    "for df in dfs:\n",
    "    print(df)\n",
    "    print()\n",
    "    df = locals()[df] \n",
    "    df.info()\n",
    "    display(df.head(10))"
   ]
  },
  {
   "cell_type": "code",
   "execution_count": 6,
   "metadata": {},
   "outputs": [
    {
     "name": "stdout",
     "output_type": "stream",
     "text": [
      "Collecting matplotlib-venn\n",
      "  Downloading matplotlib-venn-1.1.2.tar.gz (40 kB)\n",
      "\u001b[K     |████████████████████████████████| 40 kB 2.5 MB/s eta 0:00:011\n",
      "\u001b[?25h  Installing build dependencies ... \u001b[?25ldone\n",
      "\u001b[?25h  Getting requirements to build wheel ... \u001b[?25ldone\n",
      "\u001b[?25h    Preparing wheel metadata ... \u001b[?25ldone\n",
      "\u001b[?25hRequirement already satisfied: matplotlib in /opt/conda/lib/python3.9/site-packages (from matplotlib-venn) (3.3.4)\n",
      "Requirement already satisfied: numpy in /opt/conda/lib/python3.9/site-packages (from matplotlib-venn) (1.21.1)\n",
      "Requirement already satisfied: scipy in /opt/conda/lib/python3.9/site-packages (from matplotlib-venn) (1.9.1)\n",
      "Requirement already satisfied: python-dateutil>=2.1 in /opt/conda/lib/python3.9/site-packages (from matplotlib->matplotlib-venn) (2.8.1)\n",
      "Requirement already satisfied: pyparsing!=2.0.4,!=2.1.2,!=2.1.6,>=2.0.3 in /opt/conda/lib/python3.9/site-packages (from matplotlib->matplotlib-venn) (2.4.7)\n",
      "Requirement already satisfied: kiwisolver>=1.0.1 in /opt/conda/lib/python3.9/site-packages (from matplotlib->matplotlib-venn) (1.4.4)\n",
      "Requirement already satisfied: pillow>=6.2.0 in /opt/conda/lib/python3.9/site-packages (from matplotlib->matplotlib-venn) (8.4.0)\n",
      "Requirement already satisfied: cycler>=0.10 in /opt/conda/lib/python3.9/site-packages (from matplotlib->matplotlib-venn) (0.11.0)\n",
      "Requirement already satisfied: six>=1.5 in /opt/conda/lib/python3.9/site-packages (from python-dateutil>=2.1->matplotlib->matplotlib-venn) (1.16.0)\n",
      "Building wheels for collected packages: matplotlib-venn\n",
      "  Building wheel for matplotlib-venn (PEP 517) ... \u001b[?25ldone\n",
      "\u001b[?25h  Created wheel for matplotlib-venn: filename=matplotlib_venn-1.1.2-py3-none-any.whl size=45389 sha256=e744958cc8073a520d30e1138bc1457ae8229e3095789b01f4053875731a8cc5\n",
      "  Stored in directory: /home/jovyan/.cache/pip/wheels/86/29/d8/0f3c5a37c967a34fb40aaabd414f92104d2ad5fb149c0114a1\n",
      "Successfully built matplotlib-venn\n",
      "Installing collected packages: matplotlib-venn\n",
      "Successfully installed matplotlib-venn-1.1.2\n"
     ]
    }
   ],
   "source": [
    "!pip install matplotlib-venn"
   ]
  },
  {
   "cell_type": "code",
   "execution_count": 7,
   "metadata": {},
   "outputs": [
    {
     "data": {
      "image/png": "[encoded data removed]",
      "text/plain": [
       "<Figure size 432x288 with 1 Axes>"
      ]
     },
     "metadata": {},
     "output_type": "display_data"
    }
   ],
   "source": [
    "import matplotlib.pyplot as plt\n",
    "from matplotlib_venn import venn2\n",
    "\n",
    "first_id = set(company_df['company_id'].dropna().unique())\n",
    "second_id = set(company_df['companyid'].dropna().unique())\n",
    "\n",
    "# Строим диаграмму Венна\n",
    "venn2([first_id, second_id], set_labels=('company_id', 'companyid'))\n",
    "\n",
    "# Отображаем график\n",
    "plt.title(\"Пересечение \")\n",
    "plt.show() "
   ]
  },
  {
   "cell_type": "markdown",
   "metadata": {},
   "source": [
    "- В датасетах обнаружены поля содержащие дату c тип данных 'object' которые были изменены на 'datetime'\n",
    "- два поля в датасете при приведении имен колонок к виду snack_case имеют одинаковое название 'company_df'. Было изменено название одного из полей на 'companyid'. Также видно, что поле 'company_id' не имеет пропусков в отличае от 'companyid' с 76% пропусков "
   ]
  },
  {
   "cell_type": "markdown",
   "metadata": {
    "id": "mg2gEwh0rJg0"
   },
   "source": [
    "### 1.2. Смена типов и анализ пропусков\n"
   ]
  },
  {
   "cell_type": "markdown",
   "metadata": {},
   "source": [
    "Обработаем типы данных в столбцах, которые хранят значения даты и времени"
   ]
  },
  {
   "cell_type": "code",
   "execution_count": 8,
   "metadata": {},
   "outputs": [
    {
     "name": "stdout",
     "output_type": "stream",
     "text": [
      "<class 'pandas.core.frame.DataFrame'>\n",
      "RangeIndex: 9407 entries, 0 to 9406\n",
      "Data columns (total 6 columns):\n",
      " #   Column                Non-Null Count  Dtype         \n",
      "---  ------                --------------  -----         \n",
      " 0   id                    9407 non-null   int64         \n",
      " 1   acquiring_company_id  9407 non-null   int64         \n",
      " 2   acquired_company_id   9407 non-null   int64         \n",
      " 3   term_code             1831 non-null   object        \n",
      " 4   price_amount          9407 non-null   int64         \n",
      " 5   acquired_at           9378 non-null   datetime64[ns]\n",
      "dtypes: datetime64[ns](1), int64(4), object(1)\n",
      "memory usage: 441.1+ KB\n"
     ]
    }
   ],
   "source": [
    "# Приводим данные с датой и временем к типу datetime64[ns]\n",
    "acquis_df['acquired_at'] = acquis_df['acquired_at'].astype('datetime64[ns]')\n",
    "\n",
    "# Проверим результат\n",
    "acquis_df.info()\n",
    "# acquis_df['acquired_at'].dtype"
   ]
  },
  {
   "cell_type": "code",
   "execution_count": 9,
   "metadata": {
    "id": "FsL0A8RBrJg1",
    "vscode": {
     "languageId": "plaintext"
    }
   },
   "outputs": [
    {
     "name": "stdout",
     "output_type": "stream",
     "text": [
      "<class 'pandas.core.frame.DataFrame'>\n",
      "RangeIndex: 217774 entries, 0 to 217773\n",
      "Data columns (total 22 columns):\n",
      " #   Column               Non-Null Count   Dtype         \n",
      "---  ------               --------------   -----         \n",
      " 0   company_id           217472 non-null  float64       \n",
      " 1   name                 217472 non-null  object        \n",
      " 2   category_code        143886 non-null  object        \n",
      " 3   status               217472 non-null  object        \n",
      " 4   founded_at           109956 non-null  datetime64[ns]\n",
      " 5   closed_at            3449 non-null    datetime64[ns]\n",
      " 6   domain               147159 non-null  object        \n",
      " 7   network_username     95534 non-null   object        \n",
      " 8   country_code         108607 non-null  object        \n",
      " 9   investment_rounds    217472 non-null  float64       \n",
      " 10  funding_rounds       217472 non-null  float64       \n",
      " 11  funding_total        217472 non-null  float64       \n",
      " 12  milestones           217472 non-null  float64       \n",
      " 13  funding_round_id     52928 non-null   float64       \n",
      " 14  companyid            52928 non-null   float64       \n",
      " 15  funded_at            52680 non-null   datetime64[ns]\n",
      " 16  funding_round_type   52928 non-null   object        \n",
      " 17  raised_amount        52928 non-null   float64       \n",
      " 18  pre_money_valuation  52928 non-null   float64       \n",
      " 19  participants         52928 non-null   float64       \n",
      " 20  is_first_round       52928 non-null   float64       \n",
      " 21  is_last_round        52928 non-null   float64       \n",
      "dtypes: datetime64[ns](3), float64(12), object(7)\n",
      "memory usage: 36.6+ MB\n"
     ]
    }
   ],
   "source": [
    "# Приводим данные с датой и временем к типу datetime64[ns]\n",
    "column_date = ['founded_at', 'closed_at', 'funded_at']\n",
    "for column in column_date:\n",
    "    company_df[column] = company_df[column].astype('datetime64[ns]') \n",
    "\n",
    "# Проверим результат\n",
    "company_df.info()"
   ]
  },
  {
   "cell_type": "code",
   "execution_count": 10,
   "metadata": {},
   "outputs": [
    {
     "data": {
      "text/plain": [
       "\"Датасет 'acquis_df':\""
      ]
     },
     "metadata": {},
     "output_type": "display_data"
    },
    {
     "data": {
      "text/html": [
       "<div>\n",
       "<style scoped>\n",
       "    .dataframe tbody tr th:only-of-type {\n",
       "        vertical-align: middle;\n",
       "    }\n",
       "\n",
       "    .dataframe tbody tr th {\n",
       "        vertical-align: top;\n",
       "    }\n",
       "\n",
       "    .dataframe thead th {\n",
       "        text-align: right;\n",
       "    }\n",
       "</style>\n",
       "<table border=\"1\" class=\"dataframe\">\n",
       "  <thead>\n",
       "    <tr style=\"text-align: right;\">\n",
       "      <th></th>\n",
       "      <th>id</th>\n",
       "      <th>acquiring_company_id</th>\n",
       "      <th>acquired_company_id</th>\n",
       "      <th>term_code</th>\n",
       "      <th>price_amount</th>\n",
       "      <th>acquired_at</th>\n",
       "    </tr>\n",
       "  </thead>\n",
       "  <tbody>\n",
       "    <tr>\n",
       "      <th>0</th>\n",
       "      <td>1</td>\n",
       "      <td>11</td>\n",
       "      <td>10</td>\n",
       "      <td>NaN</td>\n",
       "      <td>20000000</td>\n",
       "      <td>2007-05-30</td>\n",
       "    </tr>\n",
       "    <tr>\n",
       "      <th>1</th>\n",
       "      <td>7</td>\n",
       "      <td>59</td>\n",
       "      <td>72</td>\n",
       "      <td>cash</td>\n",
       "      <td>60000000</td>\n",
       "      <td>2007-07-01</td>\n",
       "    </tr>\n",
       "    <tr>\n",
       "      <th>2</th>\n",
       "      <td>8</td>\n",
       "      <td>24</td>\n",
       "      <td>132</td>\n",
       "      <td>cash</td>\n",
       "      <td>280000000</td>\n",
       "      <td>2007-05-01</td>\n",
       "    </tr>\n",
       "    <tr>\n",
       "      <th>3</th>\n",
       "      <td>9</td>\n",
       "      <td>59</td>\n",
       "      <td>155</td>\n",
       "      <td>cash</td>\n",
       "      <td>100000000</td>\n",
       "      <td>2007-06-01</td>\n",
       "    </tr>\n",
       "    <tr>\n",
       "      <th>4</th>\n",
       "      <td>10</td>\n",
       "      <td>212</td>\n",
       "      <td>215</td>\n",
       "      <td>cash</td>\n",
       "      <td>25000000</td>\n",
       "      <td>2007-07-01</td>\n",
       "    </tr>\n",
       "    <tr>\n",
       "      <th>...</th>\n",
       "      <td>...</td>\n",
       "      <td>...</td>\n",
       "      <td>...</td>\n",
       "      <td>...</td>\n",
       "      <td>...</td>\n",
       "      <td>...</td>\n",
       "    </tr>\n",
       "    <tr>\n",
       "      <th>9402</th>\n",
       "      <td>10525</td>\n",
       "      <td>267859</td>\n",
       "      <td>285995</td>\n",
       "      <td>stock</td>\n",
       "      <td>222000000</td>\n",
       "      <td>2013-12-11</td>\n",
       "    </tr>\n",
       "    <tr>\n",
       "      <th>9403</th>\n",
       "      <td>10526</td>\n",
       "      <td>285493</td>\n",
       "      <td>286006</td>\n",
       "      <td>NaN</td>\n",
       "      <td>0</td>\n",
       "      <td>2013-12-09</td>\n",
       "    </tr>\n",
       "    <tr>\n",
       "      <th>9404</th>\n",
       "      <td>10527</td>\n",
       "      <td>223792</td>\n",
       "      <td>220208</td>\n",
       "      <td>NaN</td>\n",
       "      <td>26000000000</td>\n",
       "      <td>2007-07-03</td>\n",
       "    </tr>\n",
       "    <tr>\n",
       "      <th>9405</th>\n",
       "      <td>10528</td>\n",
       "      <td>227620</td>\n",
       "      <td>286176</td>\n",
       "      <td>cash</td>\n",
       "      <td>52400000</td>\n",
       "      <td>2013-12-12</td>\n",
       "    </tr>\n",
       "    <tr>\n",
       "      <th>9406</th>\n",
       "      <td>10529</td>\n",
       "      <td>53</td>\n",
       "      <td>92846</td>\n",
       "      <td>NaN</td>\n",
       "      <td>42600000</td>\n",
       "      <td>2013-12-12</td>\n",
       "    </tr>\n",
       "  </tbody>\n",
       "</table>\n",
       "<p>9407 rows × 6 columns</p>\n",
       "</div>"
      ],
      "text/plain": [
       "         id  acquiring_company_id  acquired_company_id term_code  \\\n",
       "0         1                    11                   10       NaN   \n",
       "1         7                    59                   72      cash   \n",
       "2         8                    24                  132      cash   \n",
       "3         9                    59                  155      cash   \n",
       "4        10                   212                  215      cash   \n",
       "...     ...                   ...                  ...       ...   \n",
       "9402  10525                267859               285995     stock   \n",
       "9403  10526                285493               286006       NaN   \n",
       "9404  10527                223792               220208       NaN   \n",
       "9405  10528                227620               286176      cash   \n",
       "9406  10529                    53                92846       NaN   \n",
       "\n",
       "      price_amount acquired_at  \n",
       "0         20000000  2007-05-30  \n",
       "1         60000000  2007-07-01  \n",
       "2        280000000  2007-05-01  \n",
       "3        100000000  2007-06-01  \n",
       "4         25000000  2007-07-01  \n",
       "...            ...         ...  \n",
       "9402     222000000  2013-12-11  \n",
       "9403             0  2013-12-09  \n",
       "9404   26000000000  2007-07-03  \n",
       "9405      52400000  2013-12-12  \n",
       "9406      42600000  2013-12-12  \n",
       "\n",
       "[9407 rows x 6 columns]"
      ]
     },
     "metadata": {},
     "output_type": "display_data"
    },
    {
     "data": {
      "text/plain": [
       "\"Датасет 'company_df':\""
      ]
     },
     "metadata": {},
     "output_type": "display_data"
    },
    {
     "data": {
      "text/html": [
       "<div>\n",
       "<style scoped>\n",
       "    .dataframe tbody tr th:only-of-type {\n",
       "        vertical-align: middle;\n",
       "    }\n",
       "\n",
       "    .dataframe tbody tr th {\n",
       "        vertical-align: top;\n",
       "    }\n",
       "\n",
       "    .dataframe thead th {\n",
       "        text-align: right;\n",
       "    }\n",
       "</style>\n",
       "<table border=\"1\" class=\"dataframe\">\n",
       "  <thead>\n",
       "    <tr style=\"text-align: right;\">\n",
       "      <th></th>\n",
       "      <th>company_id</th>\n",
       "      <th>name</th>\n",
       "      <th>category_code</th>\n",
       "      <th>status</th>\n",
       "      <th>founded_at</th>\n",
       "      <th>closed_at</th>\n",
       "      <th>domain</th>\n",
       "      <th>network_username</th>\n",
       "      <th>country_code</th>\n",
       "      <th>investment_rounds</th>\n",
       "      <th>...</th>\n",
       "      <th>milestones</th>\n",
       "      <th>funding_round_id</th>\n",
       "      <th>companyid</th>\n",
       "      <th>funded_at</th>\n",
       "      <th>funding_round_type</th>\n",
       "      <th>raised_amount</th>\n",
       "      <th>pre_money_valuation</th>\n",
       "      <th>participants</th>\n",
       "      <th>is_first_round</th>\n",
       "      <th>is_last_round</th>\n",
       "    </tr>\n",
       "  </thead>\n",
       "  <tbody>\n",
       "    <tr>\n",
       "      <th>0</th>\n",
       "      <td>1.0</td>\n",
       "      <td>Wetpaint</td>\n",
       "      <td>web</td>\n",
       "      <td>operating</td>\n",
       "      <td>2005-10-17</td>\n",
       "      <td>NaT</td>\n",
       "      <td>wetpaint-inc.com</td>\n",
       "      <td>BachelrWetpaint</td>\n",
       "      <td>USA</td>\n",
       "      <td>0.0</td>\n",
       "      <td>...</td>\n",
       "      <td>5.0</td>\n",
       "      <td>888.0</td>\n",
       "      <td>1.0</td>\n",
       "      <td>2005-10-01</td>\n",
       "      <td>series-a</td>\n",
       "      <td>5250000.0</td>\n",
       "      <td>0.0</td>\n",
       "      <td>2.0</td>\n",
       "      <td>0.0</td>\n",
       "      <td>1.0</td>\n",
       "    </tr>\n",
       "    <tr>\n",
       "      <th>1</th>\n",
       "      <td>1.0</td>\n",
       "      <td>Wetpaint</td>\n",
       "      <td>web</td>\n",
       "      <td>operating</td>\n",
       "      <td>2005-10-17</td>\n",
       "      <td>NaT</td>\n",
       "      <td>wetpaint-inc.com</td>\n",
       "      <td>BachelrWetpaint</td>\n",
       "      <td>USA</td>\n",
       "      <td>0.0</td>\n",
       "      <td>...</td>\n",
       "      <td>5.0</td>\n",
       "      <td>889.0</td>\n",
       "      <td>1.0</td>\n",
       "      <td>2007-01-01</td>\n",
       "      <td>series-b</td>\n",
       "      <td>9500000.0</td>\n",
       "      <td>0.0</td>\n",
       "      <td>3.0</td>\n",
       "      <td>0.0</td>\n",
       "      <td>0.0</td>\n",
       "    </tr>\n",
       "    <tr>\n",
       "      <th>2</th>\n",
       "      <td>1.0</td>\n",
       "      <td>Wetpaint</td>\n",
       "      <td>web</td>\n",
       "      <td>operating</td>\n",
       "      <td>2005-10-17</td>\n",
       "      <td>NaT</td>\n",
       "      <td>wetpaint-inc.com</td>\n",
       "      <td>BachelrWetpaint</td>\n",
       "      <td>USA</td>\n",
       "      <td>0.0</td>\n",
       "      <td>...</td>\n",
       "      <td>5.0</td>\n",
       "      <td>2312.0</td>\n",
       "      <td>1.0</td>\n",
       "      <td>2008-05-19</td>\n",
       "      <td>series-c+</td>\n",
       "      <td>25000000.0</td>\n",
       "      <td>0.0</td>\n",
       "      <td>4.0</td>\n",
       "      <td>1.0</td>\n",
       "      <td>0.0</td>\n",
       "    </tr>\n",
       "    <tr>\n",
       "      <th>3</th>\n",
       "      <td>10.0</td>\n",
       "      <td>Flektor</td>\n",
       "      <td>games_video</td>\n",
       "      <td>acquired</td>\n",
       "      <td>NaT</td>\n",
       "      <td>NaT</td>\n",
       "      <td>flektor.com</td>\n",
       "      <td>NaN</td>\n",
       "      <td>USA</td>\n",
       "      <td>0.0</td>\n",
       "      <td>...</td>\n",
       "      <td>0.0</td>\n",
       "      <td>NaN</td>\n",
       "      <td>NaN</td>\n",
       "      <td>NaT</td>\n",
       "      <td>NaN</td>\n",
       "      <td>NaN</td>\n",
       "      <td>NaN</td>\n",
       "      <td>NaN</td>\n",
       "      <td>NaN</td>\n",
       "      <td>NaN</td>\n",
       "    </tr>\n",
       "    <tr>\n",
       "      <th>4</th>\n",
       "      <td>100.0</td>\n",
       "      <td>There</td>\n",
       "      <td>games_video</td>\n",
       "      <td>acquired</td>\n",
       "      <td>NaT</td>\n",
       "      <td>NaT</td>\n",
       "      <td>there.com</td>\n",
       "      <td>NaN</td>\n",
       "      <td>USA</td>\n",
       "      <td>0.0</td>\n",
       "      <td>...</td>\n",
       "      <td>4.0</td>\n",
       "      <td>NaN</td>\n",
       "      <td>NaN</td>\n",
       "      <td>NaT</td>\n",
       "      <td>NaN</td>\n",
       "      <td>NaN</td>\n",
       "      <td>NaN</td>\n",
       "      <td>NaN</td>\n",
       "      <td>NaN</td>\n",
       "      <td>NaN</td>\n",
       "    </tr>\n",
       "    <tr>\n",
       "      <th>...</th>\n",
       "      <td>...</td>\n",
       "      <td>...</td>\n",
       "      <td>...</td>\n",
       "      <td>...</td>\n",
       "      <td>...</td>\n",
       "      <td>...</td>\n",
       "      <td>...</td>\n",
       "      <td>...</td>\n",
       "      <td>...</td>\n",
       "      <td>...</td>\n",
       "      <td>...</td>\n",
       "      <td>...</td>\n",
       "      <td>...</td>\n",
       "      <td>...</td>\n",
       "      <td>...</td>\n",
       "      <td>...</td>\n",
       "      <td>...</td>\n",
       "      <td>...</td>\n",
       "      <td>...</td>\n",
       "      <td>...</td>\n",
       "      <td>...</td>\n",
       "    </tr>\n",
       "    <tr>\n",
       "      <th>217769</th>\n",
       "      <td>NaN</td>\n",
       "      <td>NaN</td>\n",
       "      <td>NaN</td>\n",
       "      <td>NaN</td>\n",
       "      <td>NaT</td>\n",
       "      <td>NaT</td>\n",
       "      <td>NaN</td>\n",
       "      <td>NaN</td>\n",
       "      <td>NaN</td>\n",
       "      <td>NaN</td>\n",
       "      <td>...</td>\n",
       "      <td>NaN</td>\n",
       "      <td>56454.0</td>\n",
       "      <td>282847.0</td>\n",
       "      <td>2011-01-31</td>\n",
       "      <td>other</td>\n",
       "      <td>5500000.0</td>\n",
       "      <td>0.0</td>\n",
       "      <td>0.0</td>\n",
       "      <td>1.0</td>\n",
       "      <td>1.0</td>\n",
       "    </tr>\n",
       "    <tr>\n",
       "      <th>217770</th>\n",
       "      <td>NaN</td>\n",
       "      <td>NaN</td>\n",
       "      <td>NaN</td>\n",
       "      <td>NaN</td>\n",
       "      <td>NaT</td>\n",
       "      <td>NaT</td>\n",
       "      <td>NaN</td>\n",
       "      <td>NaN</td>\n",
       "      <td>NaN</td>\n",
       "      <td>NaN</td>\n",
       "      <td>...</td>\n",
       "      <td>NaN</td>\n",
       "      <td>56542.0</td>\n",
       "      <td>55477.0</td>\n",
       "      <td>2011-01-13</td>\n",
       "      <td>venture</td>\n",
       "      <td>10633300.0</td>\n",
       "      <td>0.0</td>\n",
       "      <td>0.0</td>\n",
       "      <td>0.0</td>\n",
       "      <td>1.0</td>\n",
       "    </tr>\n",
       "    <tr>\n",
       "      <th>217771</th>\n",
       "      <td>NaN</td>\n",
       "      <td>NaN</td>\n",
       "      <td>NaN</td>\n",
       "      <td>NaN</td>\n",
       "      <td>NaT</td>\n",
       "      <td>NaT</td>\n",
       "      <td>NaN</td>\n",
       "      <td>NaN</td>\n",
       "      <td>NaN</td>\n",
       "      <td>NaN</td>\n",
       "      <td>...</td>\n",
       "      <td>NaN</td>\n",
       "      <td>56543.0</td>\n",
       "      <td>55477.0</td>\n",
       "      <td>2012-05-31</td>\n",
       "      <td>venture</td>\n",
       "      <td>2125720.0</td>\n",
       "      <td>0.0</td>\n",
       "      <td>0.0</td>\n",
       "      <td>1.0</td>\n",
       "      <td>0.0</td>\n",
       "    </tr>\n",
       "    <tr>\n",
       "      <th>217772</th>\n",
       "      <td>NaN</td>\n",
       "      <td>NaN</td>\n",
       "      <td>NaN</td>\n",
       "      <td>NaN</td>\n",
       "      <td>NaT</td>\n",
       "      <td>NaT</td>\n",
       "      <td>NaN</td>\n",
       "      <td>NaN</td>\n",
       "      <td>NaN</td>\n",
       "      <td>NaN</td>\n",
       "      <td>...</td>\n",
       "      <td>NaN</td>\n",
       "      <td>56928.0</td>\n",
       "      <td>283492.0</td>\n",
       "      <td>2013-12-03</td>\n",
       "      <td>venture</td>\n",
       "      <td>3602480.0</td>\n",
       "      <td>0.0</td>\n",
       "      <td>5.0</td>\n",
       "      <td>1.0</td>\n",
       "      <td>1.0</td>\n",
       "    </tr>\n",
       "    <tr>\n",
       "      <th>217773</th>\n",
       "      <td>NaN</td>\n",
       "      <td>NaN</td>\n",
       "      <td>NaN</td>\n",
       "      <td>NaN</td>\n",
       "      <td>NaT</td>\n",
       "      <td>NaT</td>\n",
       "      <td>NaN</td>\n",
       "      <td>NaN</td>\n",
       "      <td>NaN</td>\n",
       "      <td>NaN</td>\n",
       "      <td>...</td>\n",
       "      <td>NaN</td>\n",
       "      <td>57063.0</td>\n",
       "      <td>284191.0</td>\n",
       "      <td>2013-12-04</td>\n",
       "      <td>venture</td>\n",
       "      <td>7000000.0</td>\n",
       "      <td>0.0</td>\n",
       "      <td>4.0</td>\n",
       "      <td>1.0</td>\n",
       "      <td>1.0</td>\n",
       "    </tr>\n",
       "  </tbody>\n",
       "</table>\n",
       "<p>217774 rows × 22 columns</p>\n",
       "</div>"
      ],
      "text/plain": [
       "        company_id      name category_code     status founded_at closed_at  \\\n",
       "0              1.0  Wetpaint           web  operating 2005-10-17       NaT   \n",
       "1              1.0  Wetpaint           web  operating 2005-10-17       NaT   \n",
       "2              1.0  Wetpaint           web  operating 2005-10-17       NaT   \n",
       "3             10.0   Flektor   games_video   acquired        NaT       NaT   \n",
       "4            100.0     There   games_video   acquired        NaT       NaT   \n",
       "...            ...       ...           ...        ...        ...       ...   \n",
       "217769         NaN       NaN           NaN        NaN        NaT       NaT   \n",
       "217770         NaN       NaN           NaN        NaN        NaT       NaT   \n",
       "217771         NaN       NaN           NaN        NaN        NaT       NaT   \n",
       "217772         NaN       NaN           NaN        NaN        NaT       NaT   \n",
       "217773         NaN       NaN           NaN        NaN        NaT       NaT   \n",
       "\n",
       "                  domain network_username country_code  investment_rounds  \\\n",
       "0       wetpaint-inc.com  BachelrWetpaint          USA                0.0   \n",
       "1       wetpaint-inc.com  BachelrWetpaint          USA                0.0   \n",
       "2       wetpaint-inc.com  BachelrWetpaint          USA                0.0   \n",
       "3            flektor.com              NaN          USA                0.0   \n",
       "4              there.com              NaN          USA                0.0   \n",
       "...                  ...              ...          ...                ...   \n",
       "217769               NaN              NaN          NaN                NaN   \n",
       "217770               NaN              NaN          NaN                NaN   \n",
       "217771               NaN              NaN          NaN                NaN   \n",
       "217772               NaN              NaN          NaN                NaN   \n",
       "217773               NaN              NaN          NaN                NaN   \n",
       "\n",
       "        ...  milestones  funding_round_id  companyid  funded_at  \\\n",
       "0       ...         5.0             888.0        1.0 2005-10-01   \n",
       "1       ...         5.0             889.0        1.0 2007-01-01   \n",
       "2       ...         5.0            2312.0        1.0 2008-05-19   \n",
       "3       ...         0.0               NaN        NaN        NaT   \n",
       "4       ...         4.0               NaN        NaN        NaT   \n",
       "...     ...         ...               ...        ...        ...   \n",
       "217769  ...         NaN           56454.0   282847.0 2011-01-31   \n",
       "217770  ...         NaN           56542.0    55477.0 2011-01-13   \n",
       "217771  ...         NaN           56543.0    55477.0 2012-05-31   \n",
       "217772  ...         NaN           56928.0   283492.0 2013-12-03   \n",
       "217773  ...         NaN           57063.0   284191.0 2013-12-04   \n",
       "\n",
       "        funding_round_type raised_amount pre_money_valuation  participants  \\\n",
       "0                 series-a     5250000.0                 0.0           2.0   \n",
       "1                 series-b     9500000.0                 0.0           3.0   \n",
       "2                series-c+    25000000.0                 0.0           4.0   \n",
       "3                      NaN           NaN                 NaN           NaN   \n",
       "4                      NaN           NaN                 NaN           NaN   \n",
       "...                    ...           ...                 ...           ...   \n",
       "217769               other     5500000.0                 0.0           0.0   \n",
       "217770             venture    10633300.0                 0.0           0.0   \n",
       "217771             venture     2125720.0                 0.0           0.0   \n",
       "217772             venture     3602480.0                 0.0           5.0   \n",
       "217773             venture     7000000.0                 0.0           4.0   \n",
       "\n",
       "        is_first_round  is_last_round  \n",
       "0                  0.0            1.0  \n",
       "1                  0.0            0.0  \n",
       "2                  1.0            0.0  \n",
       "3                  NaN            NaN  \n",
       "4                  NaN            NaN  \n",
       "...                ...            ...  \n",
       "217769             1.0            1.0  \n",
       "217770             0.0            1.0  \n",
       "217771             1.0            0.0  \n",
       "217772             1.0            1.0  \n",
       "217773             1.0            1.0  \n",
       "\n",
       "[217774 rows x 22 columns]"
      ]
     },
     "metadata": {},
     "output_type": "display_data"
    },
    {
     "data": {
      "text/plain": [
       "\"Датасет 'people_df':\""
      ]
     },
     "metadata": {},
     "output_type": "display_data"
    },
    {
     "data": {
      "text/html": [
       "<div>\n",
       "<style scoped>\n",
       "    .dataframe tbody tr th:only-of-type {\n",
       "        vertical-align: middle;\n",
       "    }\n",
       "\n",
       "    .dataframe tbody tr th {\n",
       "        vertical-align: top;\n",
       "    }\n",
       "\n",
       "    .dataframe thead th {\n",
       "        text-align: right;\n",
       "    }\n",
       "</style>\n",
       "<table border=\"1\" class=\"dataframe\">\n",
       "  <thead>\n",
       "    <tr style=\"text-align: right;\">\n",
       "      <th></th>\n",
       "      <th>id</th>\n",
       "      <th>first_name</th>\n",
       "      <th>last_name</th>\n",
       "      <th>company_id</th>\n",
       "      <th>network_username</th>\n",
       "    </tr>\n",
       "  </thead>\n",
       "  <tbody>\n",
       "    <tr>\n",
       "      <th>0</th>\n",
       "      <td>10</td>\n",
       "      <td>Mark</td>\n",
       "      <td>Zuckerberg</td>\n",
       "      <td>5.0</td>\n",
       "      <td>NaN</td>\n",
       "    </tr>\n",
       "    <tr>\n",
       "      <th>1</th>\n",
       "      <td>100</td>\n",
       "      <td>Peter</td>\n",
       "      <td>Lester</td>\n",
       "      <td>27.0</td>\n",
       "      <td>NaN</td>\n",
       "    </tr>\n",
       "    <tr>\n",
       "      <th>2</th>\n",
       "      <td>1000</td>\n",
       "      <td>Dr. Steven</td>\n",
       "      <td>E. Saunders</td>\n",
       "      <td>292.0</td>\n",
       "      <td>NaN</td>\n",
       "    </tr>\n",
       "    <tr>\n",
       "      <th>3</th>\n",
       "      <td>10000</td>\n",
       "      <td>Neil</td>\n",
       "      <td>Capel</td>\n",
       "      <td>2526.0</td>\n",
       "      <td>NaN</td>\n",
       "    </tr>\n",
       "    <tr>\n",
       "      <th>4</th>\n",
       "      <td>100000</td>\n",
       "      <td>Sue</td>\n",
       "      <td>Pilsch</td>\n",
       "      <td>NaN</td>\n",
       "      <td>NaN</td>\n",
       "    </tr>\n",
       "    <tr>\n",
       "      <th>...</th>\n",
       "      <td>...</td>\n",
       "      <td>...</td>\n",
       "      <td>...</td>\n",
       "      <td>...</td>\n",
       "      <td>...</td>\n",
       "    </tr>\n",
       "    <tr>\n",
       "      <th>226704</th>\n",
       "      <td>99999</td>\n",
       "      <td>Ramon</td>\n",
       "      <td>Peypoch</td>\n",
       "      <td>NaN</td>\n",
       "      <td>NaN</td>\n",
       "    </tr>\n",
       "    <tr>\n",
       "      <th>226705</th>\n",
       "      <td>174088</td>\n",
       "      <td>Dr. Ray</td>\n",
       "      <td>Woods</td>\n",
       "      <td>188200.0</td>\n",
       "      <td>network</td>\n",
       "    </tr>\n",
       "    <tr>\n",
       "      <th>226706</th>\n",
       "      <td>118386</td>\n",
       "      <td>Ricardo</td>\n",
       "      <td>Durand</td>\n",
       "      <td>143419.0</td>\n",
       "      <td>itechsocialnet</td>\n",
       "    </tr>\n",
       "    <tr>\n",
       "      <th>226707</th>\n",
       "      <td>175827</td>\n",
       "      <td>mahesh</td>\n",
       "      <td>kumar</td>\n",
       "      <td>NaN</td>\n",
       "      <td>socialnethubs</td>\n",
       "    </tr>\n",
       "    <tr>\n",
       "      <th>226708</th>\n",
       "      <td>178190</td>\n",
       "      <td>Alex</td>\n",
       "      <td>Smith</td>\n",
       "      <td>NaN</td>\n",
       "      <td>esocialnetlike</td>\n",
       "    </tr>\n",
       "  </tbody>\n",
       "</table>\n",
       "<p>226709 rows × 5 columns</p>\n",
       "</div>"
      ],
      "text/plain": [
       "            id  first_name    last_name  company_id network_username\n",
       "0           10        Mark   Zuckerberg         5.0              NaN\n",
       "1          100       Peter       Lester        27.0              NaN\n",
       "2         1000  Dr. Steven  E. Saunders       292.0              NaN\n",
       "3        10000        Neil        Capel      2526.0              NaN\n",
       "4       100000         Sue       Pilsch         NaN              NaN\n",
       "...        ...         ...          ...         ...              ...\n",
       "226704   99999       Ramon      Peypoch         NaN              NaN\n",
       "226705  174088     Dr. Ray        Woods    188200.0          network\n",
       "226706  118386     Ricardo       Durand    143419.0   itechsocialnet\n",
       "226707  175827      mahesh        kumar         NaN    socialnethubs\n",
       "226708  178190        Alex        Smith         NaN   esocialnetlike\n",
       "\n",
       "[226709 rows x 5 columns]"
      ]
     },
     "metadata": {},
     "output_type": "display_data"
    },
    {
     "data": {
      "text/plain": [
       "\"Датасет 'education_df':\""
      ]
     },
     "metadata": {},
     "output_type": "display_data"
    },
    {
     "data": {
      "text/html": [
       "<div>\n",
       "<style scoped>\n",
       "    .dataframe tbody tr th:only-of-type {\n",
       "        vertical-align: middle;\n",
       "    }\n",
       "\n",
       "    .dataframe tbody tr th {\n",
       "        vertical-align: top;\n",
       "    }\n",
       "\n",
       "    .dataframe thead th {\n",
       "        text-align: right;\n",
       "    }\n",
       "</style>\n",
       "<table border=\"1\" class=\"dataframe\">\n",
       "  <thead>\n",
       "    <tr style=\"text-align: right;\">\n",
       "      <th></th>\n",
       "      <th>id</th>\n",
       "      <th>person_id</th>\n",
       "      <th>instituition</th>\n",
       "      <th>graduated_at</th>\n",
       "    </tr>\n",
       "  </thead>\n",
       "  <tbody>\n",
       "    <tr>\n",
       "      <th>0</th>\n",
       "      <td>1</td>\n",
       "      <td>6117</td>\n",
       "      <td>NaN</td>\n",
       "      <td>NaT</td>\n",
       "    </tr>\n",
       "    <tr>\n",
       "      <th>1</th>\n",
       "      <td>2</td>\n",
       "      <td>6136</td>\n",
       "      <td>Washington University, St. Louis</td>\n",
       "      <td>1990-01-01</td>\n",
       "    </tr>\n",
       "    <tr>\n",
       "      <th>2</th>\n",
       "      <td>3</td>\n",
       "      <td>6136</td>\n",
       "      <td>Boston University</td>\n",
       "      <td>1992-01-01</td>\n",
       "    </tr>\n",
       "    <tr>\n",
       "      <th>3</th>\n",
       "      <td>4</td>\n",
       "      <td>6005</td>\n",
       "      <td>University of Greenwich</td>\n",
       "      <td>2006-01-01</td>\n",
       "    </tr>\n",
       "    <tr>\n",
       "      <th>4</th>\n",
       "      <td>5</td>\n",
       "      <td>5832</td>\n",
       "      <td>Rice University</td>\n",
       "      <td>NaT</td>\n",
       "    </tr>\n",
       "    <tr>\n",
       "      <th>...</th>\n",
       "      <td>...</td>\n",
       "      <td>...</td>\n",
       "      <td>...</td>\n",
       "      <td>...</td>\n",
       "    </tr>\n",
       "    <tr>\n",
       "      <th>109605</th>\n",
       "      <td>109606</td>\n",
       "      <td>268589</td>\n",
       "      <td>American Institute of Certtified Public Accoun...</td>\n",
       "      <td>NaT</td>\n",
       "    </tr>\n",
       "    <tr>\n",
       "      <th>109606</th>\n",
       "      <td>109607</td>\n",
       "      <td>268527</td>\n",
       "      <td>South China University of Technology</td>\n",
       "      <td>NaT</td>\n",
       "    </tr>\n",
       "    <tr>\n",
       "      <th>109607</th>\n",
       "      <td>109608</td>\n",
       "      <td>268527</td>\n",
       "      <td>Clarkson University</td>\n",
       "      <td>NaT</td>\n",
       "    </tr>\n",
       "    <tr>\n",
       "      <th>109608</th>\n",
       "      <td>109609</td>\n",
       "      <td>268528</td>\n",
       "      <td>Colorado State University</td>\n",
       "      <td>NaT</td>\n",
       "    </tr>\n",
       "    <tr>\n",
       "      <th>109609</th>\n",
       "      <td>109610</td>\n",
       "      <td>268528</td>\n",
       "      <td>University of San Diego School of Law</td>\n",
       "      <td>NaT</td>\n",
       "    </tr>\n",
       "  </tbody>\n",
       "</table>\n",
       "<p>109610 rows × 4 columns</p>\n",
       "</div>"
      ],
      "text/plain": [
       "            id  person_id                                       instituition  \\\n",
       "0            1       6117                                                NaN   \n",
       "1            2       6136                   Washington University, St. Louis   \n",
       "2            3       6136                                  Boston University   \n",
       "3            4       6005                            University of Greenwich   \n",
       "4            5       5832                                    Rice University   \n",
       "...        ...        ...                                                ...   \n",
       "109605  109606     268589  American Institute of Certtified Public Accoun...   \n",
       "109606  109607     268527               South China University of Technology   \n",
       "109607  109608     268527                                Clarkson University   \n",
       "109608  109609     268528                          Colorado State University   \n",
       "109609  109610     268528              University of San Diego School of Law   \n",
       "\n",
       "       graduated_at  \n",
       "0               NaT  \n",
       "1        1990-01-01  \n",
       "2        1992-01-01  \n",
       "3        2006-01-01  \n",
       "4               NaT  \n",
       "...             ...  \n",
       "109605          NaT  \n",
       "109606          NaT  \n",
       "109607          NaT  \n",
       "109608          NaT  \n",
       "109609          NaT  \n",
       "\n",
       "[109610 rows x 4 columns]"
      ]
     },
     "metadata": {},
     "output_type": "display_data"
    },
    {
     "data": {
      "text/plain": [
       "\"Датасет 'degrees_df':\""
      ]
     },
     "metadata": {},
     "output_type": "display_data"
    },
    {
     "data": {
      "text/html": [
       "<div>\n",
       "<style scoped>\n",
       "    .dataframe tbody tr th:only-of-type {\n",
       "        vertical-align: middle;\n",
       "    }\n",
       "\n",
       "    .dataframe tbody tr th {\n",
       "        vertical-align: top;\n",
       "    }\n",
       "\n",
       "    .dataframe thead th {\n",
       "        text-align: right;\n",
       "    }\n",
       "</style>\n",
       "<table border=\"1\" class=\"dataframe\">\n",
       "  <thead>\n",
       "    <tr style=\"text-align: right;\">\n",
       "      <th></th>\n",
       "      <th>id</th>\n",
       "      <th>object_id</th>\n",
       "      <th>degree_type</th>\n",
       "      <th>subject</th>\n",
       "    </tr>\n",
       "  </thead>\n",
       "  <tbody>\n",
       "    <tr>\n",
       "      <th>0</th>\n",
       "      <td>1</td>\n",
       "      <td>p:6117</td>\n",
       "      <td>MBA</td>\n",
       "      <td>NaN</td>\n",
       "    </tr>\n",
       "    <tr>\n",
       "      <th>1</th>\n",
       "      <td>2</td>\n",
       "      <td>p:6136</td>\n",
       "      <td>BA</td>\n",
       "      <td>English, French</td>\n",
       "    </tr>\n",
       "    <tr>\n",
       "      <th>2</th>\n",
       "      <td>3</td>\n",
       "      <td>p:6136</td>\n",
       "      <td>MS</td>\n",
       "      <td>Mass Communication</td>\n",
       "    </tr>\n",
       "    <tr>\n",
       "      <th>3</th>\n",
       "      <td>4</td>\n",
       "      <td>p:6005</td>\n",
       "      <td>MS</td>\n",
       "      <td>Internet Technology</td>\n",
       "    </tr>\n",
       "    <tr>\n",
       "      <th>4</th>\n",
       "      <td>5</td>\n",
       "      <td>p:5832</td>\n",
       "      <td>BCS</td>\n",
       "      <td>Computer Science, Psychology</td>\n",
       "    </tr>\n",
       "    <tr>\n",
       "      <th>...</th>\n",
       "      <td>...</td>\n",
       "      <td>...</td>\n",
       "      <td>...</td>\n",
       "      <td>...</td>\n",
       "    </tr>\n",
       "    <tr>\n",
       "      <th>109605</th>\n",
       "      <td>109606</td>\n",
       "      <td>p:268589</td>\n",
       "      <td>CPA</td>\n",
       "      <td>NaN</td>\n",
       "    </tr>\n",
       "    <tr>\n",
       "      <th>109606</th>\n",
       "      <td>109607</td>\n",
       "      <td>p:268527</td>\n",
       "      <td>MS &amp; BS</td>\n",
       "      <td>Engineering</td>\n",
       "    </tr>\n",
       "    <tr>\n",
       "      <th>109607</th>\n",
       "      <td>109608</td>\n",
       "      <td>p:268527</td>\n",
       "      <td>PhD</td>\n",
       "      <td>Engineering</td>\n",
       "    </tr>\n",
       "    <tr>\n",
       "      <th>109608</th>\n",
       "      <td>109609</td>\n",
       "      <td>p:268528</td>\n",
       "      <td>B.S.</td>\n",
       "      <td>Electrical Engineering</td>\n",
       "    </tr>\n",
       "    <tr>\n",
       "      <th>109609</th>\n",
       "      <td>109610</td>\n",
       "      <td>p:268528</td>\n",
       "      <td>J.D.</td>\n",
       "      <td>NaN</td>\n",
       "    </tr>\n",
       "  </tbody>\n",
       "</table>\n",
       "<p>109610 rows × 4 columns</p>\n",
       "</div>"
      ],
      "text/plain": [
       "            id object_id degree_type                       subject\n",
       "0            1    p:6117         MBA                           NaN\n",
       "1            2    p:6136          BA               English, French\n",
       "2            3    p:6136          MS            Mass Communication\n",
       "3            4    p:6005          MS           Internet Technology\n",
       "4            5    p:5832         BCS  Computer Science, Psychology\n",
       "...        ...       ...         ...                           ...\n",
       "109605  109606  p:268589         CPA                           NaN\n",
       "109606  109607  p:268527     MS & BS                   Engineering\n",
       "109607  109608  p:268527         PhD                   Engineering\n",
       "109608  109609  p:268528        B.S.        Electrical Engineering\n",
       "109609  109610  p:268528        J.D.                           NaN\n",
       "\n",
       "[109610 rows x 4 columns]"
      ]
     },
     "metadata": {},
     "output_type": "display_data"
    }
   ],
   "source": [
    "# Функция для обработки столбца, преобразует столбцы с '_at' в datetime\n",
    "def process_to_datetime(column):\n",
    "     if '_at' in column.name:  # Проверяем, содержит ли название столбца '_at'\n",
    "        return pd.to_datetime(column)  # Преобразуем в datetime\n",
    "     return column  # Возвращаем столбец без изменений\n",
    "\n",
    "# Основная функция для обработки датасетов\n",
    "def process_datasets(dataset_dict, column_processor):\n",
    "    \"\"\"\n",
    "    Функция, которая проходит по каждому датасету в словаре и каждому столбцу,\n",
    "    применяя к ним функцию column_processor.\n",
    "    \"\"\"\n",
    "    for dataset_name, dataset in dataset_dict.items():  # Проходим по каждому датасету в словаре\n",
    "        for column_name in dataset.columns:  # Проходим по каждому столбцу\n",
    "            dataset[column_name] = column_processor(dataset[column_name])  # Применяем функцию\n",
    "    return dataset_dict\n",
    "  \n",
    "# Словарь датасетов\n",
    "dataset_dict = {\n",
    "    'acquis_df': acquis_df,\n",
    "    'company_df': company_df,\n",
    "    'people_df': people_df,\n",
    "    'education_df': education_df,\n",
    "    'degrees_df': degrees_df\n",
    "}\n",
    "\n",
    "# Обрабатываем датасеты\n",
    "processed_datasets = process_datasets(dataset_dict, process_to_datetime)\n",
    "\n",
    "# Выводим результат\n",
    "for dataset_name, dataset in processed_datasets.items():\n",
    "    display(f\"Датасет '{dataset_name}':\")\n",
    "    display(dataset)"
   ]
  },
  {
   "cell_type": "markdown",
   "metadata": {},
   "source": [
    "Оценим полноту данных"
   ]
  },
  {
   "cell_type": "code",
   "execution_count": 11,
   "metadata": {
    "id": "46VskrGyFeJ-"
   },
   "outputs": [
    {
     "name": "stdout",
     "output_type": "stream",
     "text": [
      "acquis_df\n",
      "\n",
      "    Доля пропусков %:\n",
      "id                       0.0\n",
      "acquiring_company_id     0.0\n",
      "acquired_company_id      0.0\n",
      "term_code               81.0\n",
      "price_amount             0.0\n",
      "acquired_at              0.0\n",
      "dtype: float64\n",
      "\n",
      "company_df\n",
      "\n",
      "    Доля пропусков %:\n",
      "company_id              0.0\n",
      "name                    0.0\n",
      "category_code          34.0\n",
      "status                  0.0\n",
      "founded_at             50.0\n",
      "closed_at              98.0\n",
      "domain                 32.0\n",
      "network_username       56.0\n",
      "country_code           50.0\n",
      "investment_rounds       0.0\n",
      "funding_rounds          0.0\n",
      "funding_total           0.0\n",
      "milestones              0.0\n",
      "funding_round_id       76.0\n",
      "companyid              76.0\n",
      "funded_at              76.0\n",
      "funding_round_type     76.0\n",
      "raised_amount          76.0\n",
      "pre_money_valuation    76.0\n",
      "participants           76.0\n",
      "is_first_round         76.0\n",
      "is_last_round          76.0\n",
      "dtype: float64\n",
      "\n",
      "people_df\n",
      "\n",
      "    Доля пропусков %:\n",
      "id                   0.0\n",
      "first_name           0.0\n",
      "last_name            0.0\n",
      "company_id          85.0\n",
      "network_username    83.0\n",
      "dtype: float64\n",
      "\n",
      "education_df\n",
      "\n",
      "    Доля пропусков %:\n",
      "id               0.0\n",
      "person_id        0.0\n",
      "instituition     0.0\n",
      "graduated_at    47.0\n",
      "dtype: float64\n",
      "\n",
      "degrees_df\n",
      "\n",
      "    Доля пропусков %:\n",
      "id              0.0\n",
      "object_id       0.0\n",
      "degree_type    10.0\n",
      "subject        26.0\n",
      "dtype: float64\n",
      "\n"
     ]
    }
   ],
   "source": [
    "# Посчитаем абсолютное количество процент строк с пропусками в каждом столбце\n",
    "for df in dfs:  \n",
    "    print(df)\n",
    "    print()\n",
    "    print(f'    Доля пропусков %:')\n",
    "    print(round(locals()[df].isna().mean() * 100))\n",
    "    print()"
   ]
  },
  {
   "cell_type": "code",
   "execution_count": 12,
   "metadata": {},
   "outputs": [
    {
     "name": "stdout",
     "output_type": "stream",
     "text": [
      "Collecting missingno\n",
      "  Downloading missingno-0.5.2-py3-none-any.whl (8.7 kB)\n",
      "Requirement already satisfied: numpy in /opt/conda/lib/python3.9/site-packages (from missingno) (1.21.1)\n",
      "Requirement already satisfied: seaborn in /opt/conda/lib/python3.9/site-packages (from missingno) (0.11.1)\n",
      "Requirement already satisfied: matplotlib in /opt/conda/lib/python3.9/site-packages (from missingno) (3.3.4)\n",
      "Requirement already satisfied: scipy in /opt/conda/lib/python3.9/site-packages (from missingno) (1.9.1)\n",
      "Requirement already satisfied: pyparsing!=2.0.4,!=2.1.2,!=2.1.6,>=2.0.3 in /opt/conda/lib/python3.9/site-packages (from matplotlib->missingno) (2.4.7)\n",
      "Requirement already satisfied: kiwisolver>=1.0.1 in /opt/conda/lib/python3.9/site-packages (from matplotlib->missingno) (1.4.4)\n",
      "Requirement already satisfied: cycler>=0.10 in /opt/conda/lib/python3.9/site-packages (from matplotlib->missingno) (0.11.0)\n",
      "Requirement already satisfied: pillow>=6.2.0 in /opt/conda/lib/python3.9/site-packages (from matplotlib->missingno) (8.4.0)\n",
      "Requirement already satisfied: python-dateutil>=2.1 in /opt/conda/lib/python3.9/site-packages (from matplotlib->missingno) (2.8.1)\n",
      "Requirement already satisfied: six>=1.5 in /opt/conda/lib/python3.9/site-packages (from python-dateutil>=2.1->matplotlib->missingno) (1.16.0)\n",
      "Requirement already satisfied: pandas>=0.23 in /opt/conda/lib/python3.9/site-packages (from seaborn->missingno) (1.2.4)\n",
      "Requirement already satisfied: pytz>=2017.3 in /opt/conda/lib/python3.9/site-packages (from pandas>=0.23->seaborn->missingno) (2021.1)\n",
      "Installing collected packages: missingno\n",
      "Successfully installed missingno-0.5.2\n"
     ]
    }
   ],
   "source": [
    "!pip install missingno"
   ]
  },
  {
   "cell_type": "code",
   "execution_count": 13,
   "metadata": {},
   "outputs": [
    {
     "data": {
      "text/plain": [
       "<AxesSubplot:>"
      ]
     },
     "execution_count": 13,
     "metadata": {},
     "output_type": "execute_result"
    },
    {
     "data": {
      "image/png": "[encoded data removed]",
      "text/plain": [
       "<Figure size 1440x864 with 2 Axes>"
      ]
     },
     "metadata": {
      "needs_background": "light"
     },
     "output_type": "display_data"
    },
    {
     "data": {
      "image/png": "[encoded data removed]",
      "text/plain": [
       "<Figure size 1440x864 with 2 Axes>"
      ]
     },
     "metadata": {
      "needs_background": "light"
     },
     "output_type": "display_data"
    }
   ],
   "source": [
    "import missingno as msno\n",
    "\n",
    "msno.heatmap(company_df)\n",
    "msno.heatmap(people_df)"
   ]
  },
  {
   "cell_type": "markdown",
   "metadata": {},
   "source": [
    "Первичноый анализ полноты данных показывает, что данные невысокого качества — присутствует существенное количество свыще 50% пропущенных значений по части информациию. 76% пропущенных данных о фининсаровании и более 80% пропусков в данных связывающих информацию о сотрудниках с компаниями (company_id). Данных для корректного анализа не достаточно."
   ]
  },
  {
   "cell_type": "markdown",
   "metadata": {
    "id": "u60cHsn6rJg1"
   },
   "source": [
    "## Шаг 2. Предобработка данных, предварительное исследование"
   ]
  },
  {
   "cell_type": "markdown",
   "metadata": {
    "id": "g2bHIIjcrJg1"
   },
   "source": [
    "\n",
    "### 2.1. Раунды финансирования по годам\n",
    "\n"
   ]
  },
  {
   "cell_type": "markdown",
   "metadata": {},
   "source": [
    " Составим сводную таблицу по годам, в которой на основании столбца `raised_amount` для каждого года указан:  \n",
    "    - типичный размер средств, выделяемый в рамках одного раунда;  \n",
    "    - общее количество раундов финансирования за этот год."
   ]
  },
  {
   "cell_type": "code",
   "execution_count": 14,
   "metadata": {
    "id": "Cf5IjfOQrJg1",
    "vscode": {
     "languageId": "plaintext"
    }
   },
   "outputs": [
    {
     "data": {
      "text/html": [
       "<div>\n",
       "<style scoped>\n",
       "    .dataframe tbody tr th:only-of-type {\n",
       "        vertical-align: middle;\n",
       "    }\n",
       "\n",
       "    .dataframe tbody tr th {\n",
       "        vertical-align: top;\n",
       "    }\n",
       "\n",
       "    .dataframe thead tr th {\n",
       "        text-align: left;\n",
       "    }\n",
       "\n",
       "    .dataframe thead tr:last-of-type th {\n",
       "        text-align: right;\n",
       "    }\n",
       "</style>\n",
       "<table border=\"1\" class=\"dataframe\">\n",
       "  <thead>\n",
       "    <tr>\n",
       "      <th></th>\n",
       "      <th>count</th>\n",
       "      <th>median</th>\n",
       "    </tr>\n",
       "    <tr>\n",
       "      <th></th>\n",
       "      <th>raised_amount</th>\n",
       "      <th>raised_amount</th>\n",
       "    </tr>\n",
       "    <tr>\n",
       "      <th>year</th>\n",
       "      <th></th>\n",
       "      <th></th>\n",
       "    </tr>\n",
       "  </thead>\n",
       "  <tbody>\n",
       "    <tr>\n",
       "      <th>1999</th>\n",
       "      <td>76</td>\n",
       "      <td>2000000.0</td>\n",
       "    </tr>\n",
       "    <tr>\n",
       "      <th>2000</th>\n",
       "      <td>125</td>\n",
       "      <td>4200000.0</td>\n",
       "    </tr>\n",
       "    <tr>\n",
       "      <th>2001</th>\n",
       "      <td>96</td>\n",
       "      <td>3000000.0</td>\n",
       "    </tr>\n",
       "    <tr>\n",
       "      <th>2002</th>\n",
       "      <td>116</td>\n",
       "      <td>4200000.0</td>\n",
       "    </tr>\n",
       "    <tr>\n",
       "      <th>2003</th>\n",
       "      <td>159</td>\n",
       "      <td>3000000.0</td>\n",
       "    </tr>\n",
       "    <tr>\n",
       "      <th>2004</th>\n",
       "      <td>291</td>\n",
       "      <td>5000000.0</td>\n",
       "    </tr>\n",
       "    <tr>\n",
       "      <th>2005</th>\n",
       "      <td>1633</td>\n",
       "      <td>5500000.0</td>\n",
       "    </tr>\n",
       "    <tr>\n",
       "      <th>2006</th>\n",
       "      <td>2436</td>\n",
       "      <td>5000000.0</td>\n",
       "    </tr>\n",
       "    <tr>\n",
       "      <th>2007</th>\n",
       "      <td>3279</td>\n",
       "      <td>3973320.0</td>\n",
       "    </tr>\n",
       "    <tr>\n",
       "      <th>2008</th>\n",
       "      <td>3774</td>\n",
       "      <td>3110000.0</td>\n",
       "    </tr>\n",
       "    <tr>\n",
       "      <th>2009</th>\n",
       "      <td>4151</td>\n",
       "      <td>2000000.0</td>\n",
       "    </tr>\n",
       "    <tr>\n",
       "      <th>2010</th>\n",
       "      <td>6221</td>\n",
       "      <td>1602500.0</td>\n",
       "    </tr>\n",
       "    <tr>\n",
       "      <th>2011</th>\n",
       "      <td>9204</td>\n",
       "      <td>1200000.0</td>\n",
       "    </tr>\n",
       "    <tr>\n",
       "      <th>2012</th>\n",
       "      <td>9970</td>\n",
       "      <td>1000000.0</td>\n",
       "    </tr>\n",
       "    <tr>\n",
       "      <th>2013</th>\n",
       "      <td>11072</td>\n",
       "      <td>1200000.0</td>\n",
       "    </tr>\n",
       "  </tbody>\n",
       "</table>\n",
       "</div>"
      ],
      "text/plain": [
       "             count        median\n",
       "     raised_amount raised_amount\n",
       "year                            \n",
       "1999            76     2000000.0\n",
       "2000           125     4200000.0\n",
       "2001            96     3000000.0\n",
       "2002           116     4200000.0\n",
       "2003           159     3000000.0\n",
       "2004           291     5000000.0\n",
       "2005          1633     5500000.0\n",
       "2006          2436     5000000.0\n",
       "2007          3279     3973320.0\n",
       "2008          3774     3110000.0\n",
       "2009          4151     2000000.0\n",
       "2010          6221     1602500.0\n",
       "2011          9204     1200000.0\n",
       "2012          9970     1000000.0\n",
       "2013         11072     1200000.0"
      ]
     },
     "execution_count": 14,
     "metadata": {},
     "output_type": "execute_result"
    }
   ],
   "source": [
    "# Добавим столбец с указанием года\n",
    "company_df['year'] = company_df['funded_at'].dt.year.astype(pd.Int16Dtype())\n",
    "\n",
    "table = pd.pivot_table(company_df, \n",
    "               values=['raised_amount'],\n",
    "               index=['year'],\n",
    "               aggfunc=['count', 'median'])\n",
    "\n",
    "# Оставим в таблице информацию только для тех лет, для которых есть информация о более чем 50 раундах финансирования\n",
    "table = table.query('year > 1998')\n",
    "table"
   ]
  },
  {
   "cell_type": "markdown",
   "metadata": {},
   "source": [
    "Построим график, отражающий динамику типичного размера средств, которые стартапы получали в рамках одного раунда финансирования"
   ]
  },
  {
   "cell_type": "code",
   "execution_count": 15,
   "metadata": {},
   "outputs": [
    {
     "data": {
      "image/png": "[encoded data removed]",
      "text/plain": [
       "<Figure size 1080x360 with 1 Axes>"
      ]
     },
     "metadata": {
      "needs_background": "light"
     },
     "output_type": "display_data"
    }
   ],
   "source": [
    "# Строим столбчатую диаграмму\n",
    "table.plot(\n",
    "           y = ('median', 'raised_amount'),\n",
    "           figsize=(15, 5),\n",
    "           kind='bar', \n",
    "           rot=0, \n",
    "           legend=True, \n",
    "           title=f'Динамика типичного размера средств, которые стартапы получали в рамках одного раунда финансирования.'\n",
    ")\n",
    "\n",
    "# Настраиваем оформление графика\n",
    "plt.xlabel('Год финансирования')\n",
    "plt.ylabel('Типичный размер средств в рамках одного раунда')\n",
    "\n",
    "# Добавляем сетку графика\n",
    "plt.grid(axis='y')\n",
    "\n",
    "# Выводим график\n",
    "plt.show()"
   ]
  },
  {
   "cell_type": "markdown",
   "metadata": {},
   "source": [
    "На основе полученных данных можно сделать следующие выводы:\n",
    "- В 2005 году типичный размер собранных в рамках одного раунда средств был максимален\n",
    "- В 2013 году наблюдается тенденуия к высокому значение количеству раундов с выделениеме в рамках каждого раунда незначительных средств\n",
    "- Можно так охарактеризовать тенденции:  Очень много стало мелких стартапов, которые активно финансируется,  вот поэтому с одной стороны рост раундов, и рост суммарных инвестиций, а с другой стороны снижение   raised_amount. Это две стороны одной монеты"
   ]
  },
  {
   "cell_type": "markdown",
   "metadata": {
    "id": "45if1en1rJg2"
   },
   "source": [
    "\n",
    "### 2.2. Люди и их образование\n",
    "\n",
    "Заказчик хочет понять, зависит ли полнота сведений о сотрудниках (например, об их образовании) от размера компаний.\n",
    "\n",
    "- Оценим, насколько информация об образовании сотрудников полна. Разделим все компании на несколько групп по количеству сотрудников и оцените среднюю долю сотрудников без информации об образовании в каждой из групп."
   ]
  },
  {
   "cell_type": "code",
   "execution_count": null,
   "metadata": {
    "id": "psPO7C4MrJg2"
   },
   "outputs": [
    {
     "name": "stdout",
     "output_type": "stream",
     "text": [
      "Cредняя доля сотрудников без информации об образовании\n"
     ]
    },
    {
     "data": {
      "text/html": [
       "<div>\n",
       "<style scoped>\n",
       "    .dataframe tbody tr th:only-of-type {\n",
       "        vertical-align: middle;\n",
       "    }\n",
       "\n",
       "    .dataframe tbody tr th {\n",
       "        vertical-align: top;\n",
       "    }\n",
       "\n",
       "    .dataframe thead th {\n",
       "        text-align: right;\n",
       "    }\n",
       "</style>\n",
       "<table border=\"1\" class=\"dataframe\">\n",
       "  <thead>\n",
       "    <tr style=\"text-align: right;\">\n",
       "      <th></th>\n",
       "      <th>staf_group</th>\n",
       "      <th>count_person_id</th>\n",
       "      <th>count_id</th>\n",
       "      <th>share_no_edication</th>\n",
       "    </tr>\n",
       "  </thead>\n",
       "  <tbody>\n",
       "    <tr>\n",
       "      <th>0</th>\n",
       "      <td>1</td>\n",
       "      <td>9736</td>\n",
       "      <td>18117</td>\n",
       "      <td>0.46</td>\n",
       "    </tr>\n",
       "    <tr>\n",
       "      <th>1</th>\n",
       "      <td>2</td>\n",
       "      <td>2893</td>\n",
       "      <td>5418</td>\n",
       "      <td>0.47</td>\n",
       "    </tr>\n",
       "    <tr>\n",
       "      <th>2</th>\n",
       "      <td>3</td>\n",
       "      <td>1418</td>\n",
       "      <td>2763</td>\n",
       "      <td>0.49</td>\n",
       "    </tr>\n",
       "    <tr>\n",
       "      <th>3</th>\n",
       "      <td>4-5</td>\n",
       "      <td>1495</td>\n",
       "      <td>2985</td>\n",
       "      <td>0.50</td>\n",
       "    </tr>\n",
       "    <tr>\n",
       "      <th>4</th>\n",
       "      <td>6-10</td>\n",
       "      <td>1242</td>\n",
       "      <td>2664</td>\n",
       "      <td>0.53</td>\n",
       "    </tr>\n",
       "    <tr>\n",
       "      <th>5</th>\n",
       "      <td>11-25</td>\n",
       "      <td>775</td>\n",
       "      <td>1425</td>\n",
       "      <td>0.46</td>\n",
       "    </tr>\n",
       "    <tr>\n",
       "      <th>6</th>\n",
       "      <td>26+</td>\n",
       "      <td>905</td>\n",
       "      <td>1243</td>\n",
       "      <td>0.27</td>\n",
       "    </tr>\n",
       "  </tbody>\n",
       "</table>\n",
       "</div>"
      ],
      "text/plain": [
       "  staf_group  count_person_id  count_id  share_no_edication\n",
       "0          1             9736     18117                0.46\n",
       "1          2             2893      5418                0.47\n",
       "2          3             1418      2763                0.49\n",
       "3        4-5             1495      2985                0.50\n",
       "4       6-10             1242      2664                0.53\n",
       "5      11-25              775      1425                0.46\n",
       "6        26+              905      1243                0.27"
      ]
     },
     "metadata": {},
     "output_type": "display_data"
    }
   ],
   "source": [
    "#Группитуем таблицу education_df по идентификатору работника\n",
    "education_df_gr = education_df.groupby(['person_id'])['instituition'].count().reset_index()\n",
    "\n",
    "# Объединяем таблицы people_df и education_df_gr\n",
    "df_merge = people_df.merge(education_df_gr, left_on='id', right_on='person_id', how='left')\n",
    "\n",
    "# Группируем полученную таблицу по идентификатору компании\n",
    "df_merge_gr = df_merge.groupby(['company_id']).agg(count_person_id=('person_id','count'), count_id=('id', 'count'))\\\n",
    "                                              .sort_values(by='count_id').reset_index()\n",
    "\n",
    "# Разделим все компании на несколько групп по количеству сотрудников добавив поле 'staf_group'\n",
    "bins   = [0, 1, 2, 3, 5, 10, 25, float('inf')]\n",
    "labels = ['1', '2', '3', '4-5', '6-10', '11-25', '26+']\n",
    "df_merge_gr['staf_group'] = pd.cut(df_merge_gr['count_id'], bins=bins, labels=labels)\n",
    "\n",
    "# Сгруппируем полученную таблицу по полю 'staf_group' \n",
    "df_merge_gr = df_merge_gr.groupby('staf_group').agg({'count_person_id': 'sum', 'count_id': 'sum'}).round().reset_index()\n",
    "\n",
    "# Определим среднюю долю сотрудников без информации об образовании в каждой из групп\n",
    "df_merge_gr['share_no_edication'] = round(1 - df_merge_gr['count_person_id']/df_merge_gr['count_id'], 2)\n",
    "\n",
    "print(f'Cредняя доля сотрудников без информации об образовании')\n",
    "display(df_merge_gr)"
   ]
  },
  {
   "cell_type": "code",
   "execution_count": 41,
   "metadata": {},
   "outputs": [
    {
     "data": {
      "image/png": "[encoded data removed]",
      "text/plain": [
       "<Figure size 648x288 with 1 Axes>"
      ]
     },
     "metadata": {
      "needs_background": "light"
     },
     "output_type": "display_data"
    }
   ],
   "source": [
    "df_merge_gr.plot(  x = 'staf_group',\n",
    "                   y = 'count_id',\n",
    "                   figsize=(9, 4),\n",
    "                   kind='bar', \n",
    "                   rot=0, \n",
    "                   legend=True, \n",
    "                   title=f'Распределение кол-ва компаний от кол-ва сотрудников',\n",
    "                   xlabel='Кол-во сотрудников',\n",
    "                   ylabel='Кол-во компаний'\n",
    ")\n",
    "\n",
    "# Добавляем сетку графика\n",
    "plt.grid(axis='y')\n",
    "\n",
    "# Выводим график\n",
    "plt.show()"
   ]
  },
  {
   "cell_type": "code",
   "execution_count": 17,
   "metadata": {},
   "outputs": [
    {
     "data": {
      "image/png": "[encoded data removed]",
      "text/plain": [
       "<Figure size 648x288 with 1 Axes>"
      ]
     },
     "metadata": {
      "needs_background": "light"
     },
     "output_type": "display_data"
    }
   ],
   "source": [
    "# Строим столбчатую диаграмму\n",
    "df_merge_gr.plot(  x = 'staf_group',\n",
    "                   y = 'share_no_edication',\n",
    "                   figsize=(9, 4),\n",
    "                   kind='bar', \n",
    "                   rot=0, \n",
    "                   legend=True, \n",
    "                   title=f'Cредняя доля сотрудников без информации об образовании'\n",
    ")\n",
    "\n",
    "# Настраиваем оформление графика\n",
    "plt.xlabel('Кол-во сотрудников')\n",
    "plt.ylabel('Cредняя доля сотрудников \\n без информации об образовании')\n",
    "\n",
    "# Добавляем сетку графика\n",
    "plt.grid(axis='y')\n",
    "\n",
    "# Выводим график\n",
    "plt.show()"
   ]
  },
  {
   "cell_type": "markdown",
   "metadata": {},
   "source": [
    "\n",
    "- Нет необходимости присоеденять таблицу 'degrees.csv' к объединенному датасету, т.к. информацию о наличии образовании уже получена из 'edication_df'"
   ]
  },
  {
   "cell_type": "code",
   "execution_count": 18,
   "metadata": {},
   "outputs": [
    {
     "data": {
      "text/html": [
       "<div>\n",
       "<style scoped>\n",
       "    .dataframe tbody tr th:only-of-type {\n",
       "        vertical-align: middle;\n",
       "    }\n",
       "\n",
       "    .dataframe tbody tr th {\n",
       "        vertical-align: top;\n",
       "    }\n",
       "\n",
       "    .dataframe thead th {\n",
       "        text-align: right;\n",
       "    }\n",
       "</style>\n",
       "<table border=\"1\" class=\"dataframe\">\n",
       "  <thead>\n",
       "    <tr style=\"text-align: right;\">\n",
       "      <th></th>\n",
       "      <th>id</th>\n",
       "      <th>first_name</th>\n",
       "      <th>last_name</th>\n",
       "      <th>company_id</th>\n",
       "      <th>network_username</th>\n",
       "      <th>person_id</th>\n",
       "      <th>instituition</th>\n",
       "      <th>object_id</th>\n",
       "      <th>no_edication</th>\n",
       "      <th>subject</th>\n",
       "    </tr>\n",
       "  </thead>\n",
       "  <tbody>\n",
       "    <tr>\n",
       "      <th>0</th>\n",
       "      <td>10</td>\n",
       "      <td>Mark</td>\n",
       "      <td>Zuckerberg</td>\n",
       "      <td>5.0</td>\n",
       "      <td>NaN</td>\n",
       "      <td>10.0</td>\n",
       "      <td>1.0</td>\n",
       "      <td>10.0</td>\n",
       "      <td>True</td>\n",
       "      <td>1.0</td>\n",
       "    </tr>\n",
       "    <tr>\n",
       "      <th>1</th>\n",
       "      <td>100</td>\n",
       "      <td>Peter</td>\n",
       "      <td>Lester</td>\n",
       "      <td>27.0</td>\n",
       "      <td>NaN</td>\n",
       "      <td>NaN</td>\n",
       "      <td>NaN</td>\n",
       "      <td>NaN</td>\n",
       "      <td>NaN</td>\n",
       "      <td>NaN</td>\n",
       "    </tr>\n",
       "    <tr>\n",
       "      <th>2</th>\n",
       "      <td>1000</td>\n",
       "      <td>Dr. Steven</td>\n",
       "      <td>E. Saunders</td>\n",
       "      <td>292.0</td>\n",
       "      <td>NaN</td>\n",
       "      <td>NaN</td>\n",
       "      <td>NaN</td>\n",
       "      <td>NaN</td>\n",
       "      <td>NaN</td>\n",
       "      <td>NaN</td>\n",
       "    </tr>\n",
       "    <tr>\n",
       "      <th>3</th>\n",
       "      <td>10000</td>\n",
       "      <td>Neil</td>\n",
       "      <td>Capel</td>\n",
       "      <td>2526.0</td>\n",
       "      <td>NaN</td>\n",
       "      <td>NaN</td>\n",
       "      <td>NaN</td>\n",
       "      <td>NaN</td>\n",
       "      <td>NaN</td>\n",
       "      <td>NaN</td>\n",
       "    </tr>\n",
       "    <tr>\n",
       "      <th>4</th>\n",
       "      <td>100000</td>\n",
       "      <td>Sue</td>\n",
       "      <td>Pilsch</td>\n",
       "      <td>NaN</td>\n",
       "      <td>NaN</td>\n",
       "      <td>NaN</td>\n",
       "      <td>NaN</td>\n",
       "      <td>NaN</td>\n",
       "      <td>NaN</td>\n",
       "      <td>NaN</td>\n",
       "    </tr>\n",
       "    <tr>\n",
       "      <th>...</th>\n",
       "      <td>...</td>\n",
       "      <td>...</td>\n",
       "      <td>...</td>\n",
       "      <td>...</td>\n",
       "      <td>...</td>\n",
       "      <td>...</td>\n",
       "      <td>...</td>\n",
       "      <td>...</td>\n",
       "      <td>...</td>\n",
       "      <td>...</td>\n",
       "    </tr>\n",
       "    <tr>\n",
       "      <th>236135</th>\n",
       "      <td>99999</td>\n",
       "      <td>Ramon</td>\n",
       "      <td>Peypoch</td>\n",
       "      <td>NaN</td>\n",
       "      <td>NaN</td>\n",
       "      <td>NaN</td>\n",
       "      <td>NaN</td>\n",
       "      <td>NaN</td>\n",
       "      <td>NaN</td>\n",
       "      <td>NaN</td>\n",
       "    </tr>\n",
       "    <tr>\n",
       "      <th>236136</th>\n",
       "      <td>174088</td>\n",
       "      <td>Dr. Ray</td>\n",
       "      <td>Woods</td>\n",
       "      <td>188200.0</td>\n",
       "      <td>network</td>\n",
       "      <td>174088.0</td>\n",
       "      <td>1.0</td>\n",
       "      <td>174088.0</td>\n",
       "      <td>False</td>\n",
       "      <td>1.0</td>\n",
       "    </tr>\n",
       "    <tr>\n",
       "      <th>236137</th>\n",
       "      <td>118386</td>\n",
       "      <td>Ricardo</td>\n",
       "      <td>Durand</td>\n",
       "      <td>143419.0</td>\n",
       "      <td>itechsocialnet</td>\n",
       "      <td>118386.0</td>\n",
       "      <td>1.0</td>\n",
       "      <td>118386.0</td>\n",
       "      <td>False</td>\n",
       "      <td>1.0</td>\n",
       "    </tr>\n",
       "    <tr>\n",
       "      <th>236138</th>\n",
       "      <td>175827</td>\n",
       "      <td>mahesh</td>\n",
       "      <td>kumar</td>\n",
       "      <td>NaN</td>\n",
       "      <td>socialnethubs</td>\n",
       "      <td>NaN</td>\n",
       "      <td>NaN</td>\n",
       "      <td>NaN</td>\n",
       "      <td>NaN</td>\n",
       "      <td>NaN</td>\n",
       "    </tr>\n",
       "    <tr>\n",
       "      <th>236139</th>\n",
       "      <td>178190</td>\n",
       "      <td>Alex</td>\n",
       "      <td>Smith</td>\n",
       "      <td>NaN</td>\n",
       "      <td>esocialnetlike</td>\n",
       "      <td>NaN</td>\n",
       "      <td>NaN</td>\n",
       "      <td>NaN</td>\n",
       "      <td>NaN</td>\n",
       "      <td>NaN</td>\n",
       "    </tr>\n",
       "  </tbody>\n",
       "</table>\n",
       "<p>236140 rows × 10 columns</p>\n",
       "</div>"
      ],
      "text/plain": [
       "            id  first_name    last_name  company_id network_username  \\\n",
       "0           10        Mark   Zuckerberg         5.0              NaN   \n",
       "1          100       Peter       Lester        27.0              NaN   \n",
       "2         1000  Dr. Steven  E. Saunders       292.0              NaN   \n",
       "3        10000        Neil        Capel      2526.0              NaN   \n",
       "4       100000         Sue       Pilsch         NaN              NaN   \n",
       "...        ...         ...          ...         ...              ...   \n",
       "236135   99999       Ramon      Peypoch         NaN              NaN   \n",
       "236136  174088     Dr. Ray        Woods    188200.0          network   \n",
       "236137  118386     Ricardo       Durand    143419.0   itechsocialnet   \n",
       "236138  175827      mahesh        kumar         NaN    socialnethubs   \n",
       "236139  178190        Alex        Smith         NaN   esocialnetlike   \n",
       "\n",
       "        person_id  instituition  object_id no_edication  subject  \n",
       "0            10.0           1.0       10.0         True      1.0  \n",
       "1             NaN           NaN        NaN          NaN      NaN  \n",
       "2             NaN           NaN        NaN          NaN      NaN  \n",
       "3             NaN           NaN        NaN          NaN      NaN  \n",
       "4             NaN           NaN        NaN          NaN      NaN  \n",
       "...           ...           ...        ...          ...      ...  \n",
       "236135        NaN           NaN        NaN          NaN      NaN  \n",
       "236136   174088.0           1.0   174088.0        False      1.0  \n",
       "236137   118386.0           1.0   118386.0        False      1.0  \n",
       "236138        NaN           NaN        NaN          NaN      NaN  \n",
       "236139        NaN           NaN        NaN          NaN      NaN  \n",
       "\n",
       "[236140 rows x 10 columns]"
      ]
     },
     "execution_count": 18,
     "metadata": {},
     "output_type": "execute_result"
    }
   ],
   "source": [
    "# Убираем символы 'р:' из поля 'object_id' и меняем тип с object на integer\n",
    "degrees_df['object_id'] = degrees_df['object_id'].str.strip('p:').astype('int64')\n",
    "\n",
    "# Добавляем поле 'no_edication' принимающе значение True в случае отсутствия данных об образовании в колонках 'degree_type' и 'subject'\n",
    "degrees_df['no_edication'] = degrees_df['degree_type'].isna() | degrees_df['subject'].isna()\n",
    "\n",
    "# Группируем по 'object_id'\n",
    "degrees_df_gr = degrees_df.groupby(['object_id', 'no_edication'])['subject'].count().sort_values().reset_index()\n",
    "\n",
    "# Присоеденяем gr_degrees к people_df\n",
    "df_merge_degrees = df_merge.merge(degrees_df_gr, left_on='id', right_on='object_id', how='left')\n",
    "df_merge_degrees"
   ]
  },
  {
   "cell_type": "markdown",
   "metadata": {
    "id": "Lz7qjM32xglW"
   },
   "source": [
    "### 2.3. Объединять или не объединять — вот в чём вопрос\n",
    "\n"
   ]
  },
  {
   "cell_type": "markdown",
   "metadata": {},
   "source": [
    "Рассмотрим качество и количество данных поля `network_username` присутствующих в датасетах `company_df` и `people_df`"
   ]
  },
  {
   "cell_type": "code",
   "execution_count": 19,
   "metadata": {
    "id": "RxOS5rwmFcNW"
   },
   "outputs": [
    {
     "name": "stdout",
     "output_type": "stream",
     "text": [
      "    company_df\n"
     ]
    },
    {
     "data": {
      "text/plain": [
       "0         BachelrWetpaint\n",
       "1         BachelrWetpaint\n",
       "2         BachelrWetpaint\n",
       "3                     NaN\n",
       "4                     NaN\n",
       "               ...       \n",
       "217769                NaN\n",
       "217770                NaN\n",
       "217771                NaN\n",
       "217772                NaN\n",
       "217773                NaN\n",
       "Name: network_username, Length: 217774, dtype: object"
      ]
     },
     "metadata": {},
     "output_type": "display_data"
    },
    {
     "name": "stdout",
     "output_type": "stream",
     "text": [
      "Кол-во пропусков данныз:\n"
     ]
    },
    {
     "data": {
      "text/plain": [
       "122240"
      ]
     },
     "metadata": {},
     "output_type": "display_data"
    },
    {
     "name": "stdout",
     "output_type": "stream",
     "text": [
      "Кол-во уникальных значений:\n"
     ]
    },
    {
     "data": {
      "text/plain": [
       "79571"
      ]
     },
     "metadata": {},
     "output_type": "display_data"
    },
    {
     "name": "stdout",
     "output_type": "stream",
     "text": [
      "Кол-во дублирующихся значений:\n"
     ]
    },
    {
     "data": {
      "text/plain": [
       "138202"
      ]
     },
     "execution_count": 19,
     "metadata": {},
     "output_type": "execute_result"
    }
   ],
   "source": [
    "print('    company_df')\n",
    "display(company_df['network_username'])\n",
    "print('Кол-во пропусков данныз:')\n",
    "display(company_df['network_username'].isna().sum())\n",
    "print('Кол-во уникальных значений:')\n",
    "display(company_df['network_username'].nunique())\n",
    "print('Кол-во дублирующихся значений:')\n",
    "company_df['network_username'].duplicated().sum()"
   ]
  },
  {
   "cell_type": "code",
   "execution_count": 20,
   "metadata": {
    "id": "zyI3rt0rxg1O"
   },
   "outputs": [
    {
     "name": "stdout",
     "output_type": "stream",
     "text": [
      "    people_df\n"
     ]
    },
    {
     "data": {
      "text/plain": [
       "0                    NaN\n",
       "1                    NaN\n",
       "2                    NaN\n",
       "3                    NaN\n",
       "4                    NaN\n",
       "               ...      \n",
       "226704               NaN\n",
       "226705           network\n",
       "226706    itechsocialnet\n",
       "226707     socialnethubs\n",
       "226708    esocialnetlike\n",
       "Name: network_username, Length: 226709, dtype: object"
      ]
     },
     "metadata": {},
     "output_type": "display_data"
    },
    {
     "name": "stdout",
     "output_type": "stream",
     "text": [
      "Кол-во пропусков данныз:\n"
     ]
    },
    {
     "data": {
      "text/plain": [
       "187842"
      ]
     },
     "metadata": {},
     "output_type": "display_data"
    },
    {
     "name": "stdout",
     "output_type": "stream",
     "text": [
      "Кол-во уникальных значений:\n"
     ]
    },
    {
     "data": {
      "text/plain": [
       "38421"
      ]
     },
     "metadata": {},
     "output_type": "display_data"
    },
    {
     "name": "stdout",
     "output_type": "stream",
     "text": [
      "Кол-во дублирующихся значений:\n"
     ]
    },
    {
     "data": {
      "text/plain": [
       "188287"
      ]
     },
     "execution_count": 20,
     "metadata": {},
     "output_type": "execute_result"
    }
   ],
   "source": [
    "print('    people_df')\n",
    "display(people_df['network_username'])\n",
    "print('Кол-во пропусков данныз:')\n",
    "display(people_df['network_username'].isna().sum())\n",
    "print('Кол-во уникальных значений:')\n",
    "display(people_df['network_username'].nunique())\n",
    "print('Кол-во дублирующихся значений:')\n",
    "people_df['network_username'].duplicated().sum()"
   ]
  },
  {
   "cell_type": "code",
   "execution_count": 21,
   "metadata": {},
   "outputs": [
    {
     "data": {
      "image/png": "[encoded data removed]",
      "text/plain": [
       "<Figure size 432x288 with 1 Axes>"
      ]
     },
     "metadata": {},
     "output_type": "display_data"
    }
   ],
   "source": [
    "user_nic_1 = set(company_df['network_username'].dropna().unique())\n",
    "user_nic_2 = set(people_df['network_username'].dropna().unique())\n",
    "\n",
    "# Строим диаграмму Венна\n",
    "venn2([user_nic_1, user_nic_2], set_labels=('Company user nic', 'People user nic'))\n",
    "\n",
    "# Отображаем график\n",
    "plt.title(\"Пересечение network_username 'company_df' и 'people_df'\")\n",
    "plt.show()  \n",
    "\n"
   ]
  },
  {
   "cell_type": "markdown",
   "metadata": {
    "id": "_7gjdrGOFcB2"
   },
   "source": [
    "- Данные о `network_username` в представленных датасетах часто дублируются. Присутствует значительное количество пропусков 56% в `company_df` и 83% в `people_df`. Данные можно использовать для объединения после группировки по данному полю и приведения к нижнему регистру."
   ]
  },
  {
   "cell_type": "markdown",
   "metadata": {
    "id": "EHcODomVrJg1"
   },
   "source": [
    "\n",
    "### 2.4. Проблемный датасет и причина возникновения пропусков\n",
    "\n"
   ]
  },
  {
   "cell_type": "markdown",
   "metadata": {},
   "source": [
    "Проанализируем значения и структуру датасета"
   ]
  },
  {
   "cell_type": "code",
   "execution_count": 22,
   "metadata": {
    "id": "oSk7xqu_FbaN"
   },
   "outputs": [
    {
     "name": "stdout",
     "output_type": "stream",
     "text": [
      "company_df:\n"
     ]
    },
    {
     "data": {
      "text/html": [
       "<div>\n",
       "<style scoped>\n",
       "    .dataframe tbody tr th:only-of-type {\n",
       "        vertical-align: middle;\n",
       "    }\n",
       "\n",
       "    .dataframe tbody tr th {\n",
       "        vertical-align: top;\n",
       "    }\n",
       "\n",
       "    .dataframe thead th {\n",
       "        text-align: right;\n",
       "    }\n",
       "</style>\n",
       "<table border=\"1\" class=\"dataframe\">\n",
       "  <thead>\n",
       "    <tr style=\"text-align: right;\">\n",
       "      <th></th>\n",
       "      <th>company_id</th>\n",
       "      <th>name</th>\n",
       "      <th>category_code</th>\n",
       "      <th>status</th>\n",
       "      <th>founded_at</th>\n",
       "      <th>closed_at</th>\n",
       "      <th>domain</th>\n",
       "      <th>network_username</th>\n",
       "      <th>country_code</th>\n",
       "      <th>investment_rounds</th>\n",
       "      <th>funding_rounds</th>\n",
       "      <th>funding_total</th>\n",
       "      <th>milestones</th>\n",
       "      <th>funding_round_id</th>\n",
       "      <th>companyid</th>\n",
       "      <th>funded_at</th>\n",
       "      <th>funding_round_type</th>\n",
       "      <th>raised_amount</th>\n",
       "      <th>pre_money_valuation</th>\n",
       "      <th>participants</th>\n",
       "      <th>is_first_round</th>\n",
       "      <th>is_last_round</th>\n",
       "      <th>year</th>\n",
       "    </tr>\n",
       "  </thead>\n",
       "  <tbody>\n",
       "    <tr>\n",
       "      <th>0</th>\n",
       "      <td>1.0</td>\n",
       "      <td>Wetpaint</td>\n",
       "      <td>web</td>\n",
       "      <td>operating</td>\n",
       "      <td>2005-10-17</td>\n",
       "      <td>NaT</td>\n",
       "      <td>wetpaint-inc.com</td>\n",
       "      <td>BachelrWetpaint</td>\n",
       "      <td>USA</td>\n",
       "      <td>0.0</td>\n",
       "      <td>3.0</td>\n",
       "      <td>39750000.0</td>\n",
       "      <td>5.0</td>\n",
       "      <td>888.0</td>\n",
       "      <td>1.0</td>\n",
       "      <td>2005-10-01</td>\n",
       "      <td>series-a</td>\n",
       "      <td>5250000.0</td>\n",
       "      <td>0.0</td>\n",
       "      <td>2.0</td>\n",
       "      <td>0.0</td>\n",
       "      <td>1.0</td>\n",
       "      <td>2005</td>\n",
       "    </tr>\n",
       "    <tr>\n",
       "      <th>1</th>\n",
       "      <td>1.0</td>\n",
       "      <td>Wetpaint</td>\n",
       "      <td>web</td>\n",
       "      <td>operating</td>\n",
       "      <td>2005-10-17</td>\n",
       "      <td>NaT</td>\n",
       "      <td>wetpaint-inc.com</td>\n",
       "      <td>BachelrWetpaint</td>\n",
       "      <td>USA</td>\n",
       "      <td>0.0</td>\n",
       "      <td>3.0</td>\n",
       "      <td>39750000.0</td>\n",
       "      <td>5.0</td>\n",
       "      <td>889.0</td>\n",
       "      <td>1.0</td>\n",
       "      <td>2007-01-01</td>\n",
       "      <td>series-b</td>\n",
       "      <td>9500000.0</td>\n",
       "      <td>0.0</td>\n",
       "      <td>3.0</td>\n",
       "      <td>0.0</td>\n",
       "      <td>0.0</td>\n",
       "      <td>2007</td>\n",
       "    </tr>\n",
       "    <tr>\n",
       "      <th>2</th>\n",
       "      <td>1.0</td>\n",
       "      <td>Wetpaint</td>\n",
       "      <td>web</td>\n",
       "      <td>operating</td>\n",
       "      <td>2005-10-17</td>\n",
       "      <td>NaT</td>\n",
       "      <td>wetpaint-inc.com</td>\n",
       "      <td>BachelrWetpaint</td>\n",
       "      <td>USA</td>\n",
       "      <td>0.0</td>\n",
       "      <td>3.0</td>\n",
       "      <td>39750000.0</td>\n",
       "      <td>5.0</td>\n",
       "      <td>2312.0</td>\n",
       "      <td>1.0</td>\n",
       "      <td>2008-05-19</td>\n",
       "      <td>series-c+</td>\n",
       "      <td>25000000.0</td>\n",
       "      <td>0.0</td>\n",
       "      <td>4.0</td>\n",
       "      <td>1.0</td>\n",
       "      <td>0.0</td>\n",
       "      <td>2008</td>\n",
       "    </tr>\n",
       "    <tr>\n",
       "      <th>3</th>\n",
       "      <td>10.0</td>\n",
       "      <td>Flektor</td>\n",
       "      <td>games_video</td>\n",
       "      <td>acquired</td>\n",
       "      <td>NaT</td>\n",
       "      <td>NaT</td>\n",
       "      <td>flektor.com</td>\n",
       "      <td>NaN</td>\n",
       "      <td>USA</td>\n",
       "      <td>0.0</td>\n",
       "      <td>0.0</td>\n",
       "      <td>0.0</td>\n",
       "      <td>0.0</td>\n",
       "      <td>NaN</td>\n",
       "      <td>NaN</td>\n",
       "      <td>NaT</td>\n",
       "      <td>NaN</td>\n",
       "      <td>NaN</td>\n",
       "      <td>NaN</td>\n",
       "      <td>NaN</td>\n",
       "      <td>NaN</td>\n",
       "      <td>NaN</td>\n",
       "      <td>&lt;NA&gt;</td>\n",
       "    </tr>\n",
       "    <tr>\n",
       "      <th>4</th>\n",
       "      <td>100.0</td>\n",
       "      <td>There</td>\n",
       "      <td>games_video</td>\n",
       "      <td>acquired</td>\n",
       "      <td>NaT</td>\n",
       "      <td>NaT</td>\n",
       "      <td>there.com</td>\n",
       "      <td>NaN</td>\n",
       "      <td>USA</td>\n",
       "      <td>0.0</td>\n",
       "      <td>0.0</td>\n",
       "      <td>0.0</td>\n",
       "      <td>4.0</td>\n",
       "      <td>NaN</td>\n",
       "      <td>NaN</td>\n",
       "      <td>NaT</td>\n",
       "      <td>NaN</td>\n",
       "      <td>NaN</td>\n",
       "      <td>NaN</td>\n",
       "      <td>NaN</td>\n",
       "      <td>NaN</td>\n",
       "      <td>NaN</td>\n",
       "      <td>&lt;NA&gt;</td>\n",
       "    </tr>\n",
       "    <tr>\n",
       "      <th>...</th>\n",
       "      <td>...</td>\n",
       "      <td>...</td>\n",
       "      <td>...</td>\n",
       "      <td>...</td>\n",
       "      <td>...</td>\n",
       "      <td>...</td>\n",
       "      <td>...</td>\n",
       "      <td>...</td>\n",
       "      <td>...</td>\n",
       "      <td>...</td>\n",
       "      <td>...</td>\n",
       "      <td>...</td>\n",
       "      <td>...</td>\n",
       "      <td>...</td>\n",
       "      <td>...</td>\n",
       "      <td>...</td>\n",
       "      <td>...</td>\n",
       "      <td>...</td>\n",
       "      <td>...</td>\n",
       "      <td>...</td>\n",
       "      <td>...</td>\n",
       "      <td>...</td>\n",
       "      <td>...</td>\n",
       "    </tr>\n",
       "    <tr>\n",
       "      <th>217769</th>\n",
       "      <td>NaN</td>\n",
       "      <td>NaN</td>\n",
       "      <td>NaN</td>\n",
       "      <td>NaN</td>\n",
       "      <td>NaT</td>\n",
       "      <td>NaT</td>\n",
       "      <td>NaN</td>\n",
       "      <td>NaN</td>\n",
       "      <td>NaN</td>\n",
       "      <td>NaN</td>\n",
       "      <td>NaN</td>\n",
       "      <td>NaN</td>\n",
       "      <td>NaN</td>\n",
       "      <td>56454.0</td>\n",
       "      <td>282847.0</td>\n",
       "      <td>2011-01-31</td>\n",
       "      <td>other</td>\n",
       "      <td>5500000.0</td>\n",
       "      <td>0.0</td>\n",
       "      <td>0.0</td>\n",
       "      <td>1.0</td>\n",
       "      <td>1.0</td>\n",
       "      <td>2011</td>\n",
       "    </tr>\n",
       "    <tr>\n",
       "      <th>217770</th>\n",
       "      <td>NaN</td>\n",
       "      <td>NaN</td>\n",
       "      <td>NaN</td>\n",
       "      <td>NaN</td>\n",
       "      <td>NaT</td>\n",
       "      <td>NaT</td>\n",
       "      <td>NaN</td>\n",
       "      <td>NaN</td>\n",
       "      <td>NaN</td>\n",
       "      <td>NaN</td>\n",
       "      <td>NaN</td>\n",
       "      <td>NaN</td>\n",
       "      <td>NaN</td>\n",
       "      <td>56542.0</td>\n",
       "      <td>55477.0</td>\n",
       "      <td>2011-01-13</td>\n",
       "      <td>venture</td>\n",
       "      <td>10633300.0</td>\n",
       "      <td>0.0</td>\n",
       "      <td>0.0</td>\n",
       "      <td>0.0</td>\n",
       "      <td>1.0</td>\n",
       "      <td>2011</td>\n",
       "    </tr>\n",
       "    <tr>\n",
       "      <th>217771</th>\n",
       "      <td>NaN</td>\n",
       "      <td>NaN</td>\n",
       "      <td>NaN</td>\n",
       "      <td>NaN</td>\n",
       "      <td>NaT</td>\n",
       "      <td>NaT</td>\n",
       "      <td>NaN</td>\n",
       "      <td>NaN</td>\n",
       "      <td>NaN</td>\n",
       "      <td>NaN</td>\n",
       "      <td>NaN</td>\n",
       "      <td>NaN</td>\n",
       "      <td>NaN</td>\n",
       "      <td>56543.0</td>\n",
       "      <td>55477.0</td>\n",
       "      <td>2012-05-31</td>\n",
       "      <td>venture</td>\n",
       "      <td>2125720.0</td>\n",
       "      <td>0.0</td>\n",
       "      <td>0.0</td>\n",
       "      <td>1.0</td>\n",
       "      <td>0.0</td>\n",
       "      <td>2012</td>\n",
       "    </tr>\n",
       "    <tr>\n",
       "      <th>217772</th>\n",
       "      <td>NaN</td>\n",
       "      <td>NaN</td>\n",
       "      <td>NaN</td>\n",
       "      <td>NaN</td>\n",
       "      <td>NaT</td>\n",
       "      <td>NaT</td>\n",
       "      <td>NaN</td>\n",
       "      <td>NaN</td>\n",
       "      <td>NaN</td>\n",
       "      <td>NaN</td>\n",
       "      <td>NaN</td>\n",
       "      <td>NaN</td>\n",
       "      <td>NaN</td>\n",
       "      <td>56928.0</td>\n",
       "      <td>283492.0</td>\n",
       "      <td>2013-12-03</td>\n",
       "      <td>venture</td>\n",
       "      <td>3602480.0</td>\n",
       "      <td>0.0</td>\n",
       "      <td>5.0</td>\n",
       "      <td>1.0</td>\n",
       "      <td>1.0</td>\n",
       "      <td>2013</td>\n",
       "    </tr>\n",
       "    <tr>\n",
       "      <th>217773</th>\n",
       "      <td>NaN</td>\n",
       "      <td>NaN</td>\n",
       "      <td>NaN</td>\n",
       "      <td>NaN</td>\n",
       "      <td>NaT</td>\n",
       "      <td>NaT</td>\n",
       "      <td>NaN</td>\n",
       "      <td>NaN</td>\n",
       "      <td>NaN</td>\n",
       "      <td>NaN</td>\n",
       "      <td>NaN</td>\n",
       "      <td>NaN</td>\n",
       "      <td>NaN</td>\n",
       "      <td>57063.0</td>\n",
       "      <td>284191.0</td>\n",
       "      <td>2013-12-04</td>\n",
       "      <td>venture</td>\n",
       "      <td>7000000.0</td>\n",
       "      <td>0.0</td>\n",
       "      <td>4.0</td>\n",
       "      <td>1.0</td>\n",
       "      <td>1.0</td>\n",
       "      <td>2013</td>\n",
       "    </tr>\n",
       "  </tbody>\n",
       "</table>\n",
       "<p>217774 rows × 23 columns</p>\n",
       "</div>"
      ],
      "text/plain": [
       "        company_id      name category_code     status founded_at closed_at  \\\n",
       "0              1.0  Wetpaint           web  operating 2005-10-17       NaT   \n",
       "1              1.0  Wetpaint           web  operating 2005-10-17       NaT   \n",
       "2              1.0  Wetpaint           web  operating 2005-10-17       NaT   \n",
       "3             10.0   Flektor   games_video   acquired        NaT       NaT   \n",
       "4            100.0     There   games_video   acquired        NaT       NaT   \n",
       "...            ...       ...           ...        ...        ...       ...   \n",
       "217769         NaN       NaN           NaN        NaN        NaT       NaT   \n",
       "217770         NaN       NaN           NaN        NaN        NaT       NaT   \n",
       "217771         NaN       NaN           NaN        NaN        NaT       NaT   \n",
       "217772         NaN       NaN           NaN        NaN        NaT       NaT   \n",
       "217773         NaN       NaN           NaN        NaN        NaT       NaT   \n",
       "\n",
       "                  domain network_username country_code  investment_rounds  \\\n",
       "0       wetpaint-inc.com  BachelrWetpaint          USA                0.0   \n",
       "1       wetpaint-inc.com  BachelrWetpaint          USA                0.0   \n",
       "2       wetpaint-inc.com  BachelrWetpaint          USA                0.0   \n",
       "3            flektor.com              NaN          USA                0.0   \n",
       "4              there.com              NaN          USA                0.0   \n",
       "...                  ...              ...          ...                ...   \n",
       "217769               NaN              NaN          NaN                NaN   \n",
       "217770               NaN              NaN          NaN                NaN   \n",
       "217771               NaN              NaN          NaN                NaN   \n",
       "217772               NaN              NaN          NaN                NaN   \n",
       "217773               NaN              NaN          NaN                NaN   \n",
       "\n",
       "        funding_rounds  funding_total  milestones  funding_round_id  \\\n",
       "0                  3.0     39750000.0         5.0             888.0   \n",
       "1                  3.0     39750000.0         5.0             889.0   \n",
       "2                  3.0     39750000.0         5.0            2312.0   \n",
       "3                  0.0            0.0         0.0               NaN   \n",
       "4                  0.0            0.0         4.0               NaN   \n",
       "...                ...            ...         ...               ...   \n",
       "217769             NaN            NaN         NaN           56454.0   \n",
       "217770             NaN            NaN         NaN           56542.0   \n",
       "217771             NaN            NaN         NaN           56543.0   \n",
       "217772             NaN            NaN         NaN           56928.0   \n",
       "217773             NaN            NaN         NaN           57063.0   \n",
       "\n",
       "        companyid  funded_at funding_round_type  raised_amount  \\\n",
       "0             1.0 2005-10-01           series-a      5250000.0   \n",
       "1             1.0 2007-01-01           series-b      9500000.0   \n",
       "2             1.0 2008-05-19          series-c+     25000000.0   \n",
       "3             NaN        NaT                NaN            NaN   \n",
       "4             NaN        NaT                NaN            NaN   \n",
       "...           ...        ...                ...            ...   \n",
       "217769   282847.0 2011-01-31              other      5500000.0   \n",
       "217770    55477.0 2011-01-13            venture     10633300.0   \n",
       "217771    55477.0 2012-05-31            venture      2125720.0   \n",
       "217772   283492.0 2013-12-03            venture      3602480.0   \n",
       "217773   284191.0 2013-12-04            venture      7000000.0   \n",
       "\n",
       "        pre_money_valuation  participants  is_first_round  is_last_round  year  \n",
       "0                       0.0           2.0             0.0            1.0  2005  \n",
       "1                       0.0           3.0             0.0            0.0  2007  \n",
       "2                       0.0           4.0             1.0            0.0  2008  \n",
       "3                       NaN           NaN             NaN            NaN  <NA>  \n",
       "4                       NaN           NaN             NaN            NaN  <NA>  \n",
       "...                     ...           ...             ...            ...   ...  \n",
       "217769                  0.0           0.0             1.0            1.0  2011  \n",
       "217770                  0.0           0.0             0.0            1.0  2011  \n",
       "217771                  0.0           0.0             1.0            0.0  2012  \n",
       "217772                  0.0           5.0             1.0            1.0  2013  \n",
       "217773                  0.0           4.0             1.0            1.0  2013  \n",
       "\n",
       "[217774 rows x 23 columns]"
      ]
     },
     "metadata": {},
     "output_type": "display_data"
    },
    {
     "name": "stdout",
     "output_type": "stream",
     "text": [
      "Кол-во пропусков данных %:\n",
      "company_id              0.0\n",
      "name                    0.0\n",
      "category_code          34.0\n",
      "status                  0.0\n",
      "founded_at             50.0\n",
      "closed_at              98.0\n",
      "domain                 32.0\n",
      "network_username       56.0\n",
      "country_code           50.0\n",
      "investment_rounds       0.0\n",
      "funding_rounds          0.0\n",
      "funding_total           0.0\n",
      "milestones              0.0\n",
      "funding_round_id       76.0\n",
      "companyid              76.0\n",
      "funded_at              76.0\n",
      "funding_round_type     76.0\n",
      "raised_amount          76.0\n",
      "pre_money_valuation    76.0\n",
      "participants           76.0\n",
      "is_first_round         76.0\n",
      "is_last_round          76.0\n",
      "year                   76.0\n",
      "dtype: float64\n"
     ]
    }
   ],
   "source": [
    "# Отобразим все колонки датасета\n",
    "print('company_df:')\n",
    "\n",
    "pd.options.display.max_columns = None\n",
    "display(company_df)\n",
    "\n",
    "# Изучим пропуски в данных\n",
    "print('Кол-во пропусков данных %:')\n",
    "print(round(company_df.isna().mean()*100))\n"
   ]
  },
  {
   "cell_type": "markdown",
   "metadata": {},
   "source": [
    "Подготовим данные так, чтобы удобно было отобрать компании по параметрам и рассчитать показатели из расчёта на одну компанию без промежуточных агрегаций"
   ]
  },
  {
   "cell_type": "code",
   "execution_count": 23,
   "metadata": {
    "id": "9BY9lTUcFbJ-"
   },
   "outputs": [
    {
     "data": {
      "text/html": [
       "<div>\n",
       "<style scoped>\n",
       "    .dataframe tbody tr th:only-of-type {\n",
       "        vertical-align: middle;\n",
       "    }\n",
       "\n",
       "    .dataframe tbody tr th {\n",
       "        vertical-align: top;\n",
       "    }\n",
       "\n",
       "    .dataframe thead th {\n",
       "        text-align: right;\n",
       "    }\n",
       "</style>\n",
       "<table border=\"1\" class=\"dataframe\">\n",
       "  <thead>\n",
       "    <tr style=\"text-align: right;\">\n",
       "      <th></th>\n",
       "      <th>company_id</th>\n",
       "      <th>name</th>\n",
       "      <th>category_code</th>\n",
       "      <th>status</th>\n",
       "      <th>domain</th>\n",
       "      <th>network_username</th>\n",
       "      <th>country_code</th>\n",
       "      <th>investment_rounds</th>\n",
       "      <th>funding_rounds</th>\n",
       "      <th>funding_total</th>\n",
       "      <th>milestones</th>\n",
       "      <th>companyid</th>\n",
       "      <th>max_funded_at</th>\n",
       "      <th>max_founded_at</th>\n",
       "      <th>max_closed_at</th>\n",
       "      <th>sum_raised_amount</th>\n",
       "      <th>sum_pre_money_valuation</th>\n",
       "      <th>max_participants</th>\n",
       "      <th>max_is_first_round</th>\n",
       "      <th>max_is_last_round</th>\n",
       "      <th>max_year</th>\n",
       "    </tr>\n",
       "  </thead>\n",
       "  <tbody>\n",
       "    <tr>\n",
       "      <th>0</th>\n",
       "      <td>1.0</td>\n",
       "      <td>Wetpaint</td>\n",
       "      <td>web</td>\n",
       "      <td>operating</td>\n",
       "      <td>wetpaint-inc.com</td>\n",
       "      <td>BachelrWetpaint</td>\n",
       "      <td>USA</td>\n",
       "      <td>0.0</td>\n",
       "      <td>3.0</td>\n",
       "      <td>3.975000e+07</td>\n",
       "      <td>5.0</td>\n",
       "      <td>1.0</td>\n",
       "      <td>2008-05-19</td>\n",
       "      <td>2005-10-17</td>\n",
       "      <td>NaT</td>\n",
       "      <td>3.975000e+07</td>\n",
       "      <td>0.000000e+00</td>\n",
       "      <td>4.0</td>\n",
       "      <td>1.0</td>\n",
       "      <td>1.0</td>\n",
       "      <td>2008</td>\n",
       "    </tr>\n",
       "    <tr>\n",
       "      <th>1</th>\n",
       "      <td>4.0</td>\n",
       "      <td>Digg</td>\n",
       "      <td>news</td>\n",
       "      <td>acquired</td>\n",
       "      <td>digg.com</td>\n",
       "      <td>digg</td>\n",
       "      <td>USA</td>\n",
       "      <td>0.0</td>\n",
       "      <td>4.0</td>\n",
       "      <td>4.500000e+07</td>\n",
       "      <td>8.0</td>\n",
       "      <td>4.0</td>\n",
       "      <td>2011-07-12</td>\n",
       "      <td>2004-10-11</td>\n",
       "      <td>NaT</td>\n",
       "      <td>4.500000e+07</td>\n",
       "      <td>0.000000e+00</td>\n",
       "      <td>8.0</td>\n",
       "      <td>1.0</td>\n",
       "      <td>1.0</td>\n",
       "      <td>2011</td>\n",
       "    </tr>\n",
       "    <tr>\n",
       "      <th>2</th>\n",
       "      <td>5.0</td>\n",
       "      <td>Socialnet</td>\n",
       "      <td>social</td>\n",
       "      <td>ipo</td>\n",
       "      <td>socialnet.com</td>\n",
       "      <td>socialnet</td>\n",
       "      <td>USA</td>\n",
       "      <td>3.0</td>\n",
       "      <td>11.0</td>\n",
       "      <td>2.425700e+09</td>\n",
       "      <td>5.0</td>\n",
       "      <td>5.0</td>\n",
       "      <td>2011-01-21</td>\n",
       "      <td>2004-02-01</td>\n",
       "      <td>NaT</td>\n",
       "      <td>2.425700e+09</td>\n",
       "      <td>1.564000e+10</td>\n",
       "      <td>4.0</td>\n",
       "      <td>1.0</td>\n",
       "      <td>1.0</td>\n",
       "      <td>2011</td>\n",
       "    </tr>\n",
       "    <tr>\n",
       "      <th>3</th>\n",
       "      <td>7.0</td>\n",
       "      <td>Omnidrive</td>\n",
       "      <td>network_hosting</td>\n",
       "      <td>closed</td>\n",
       "      <td>omnidrive.com</td>\n",
       "      <td>Nomadesk</td>\n",
       "      <td>ISR</td>\n",
       "      <td>0.0</td>\n",
       "      <td>1.0</td>\n",
       "      <td>8.000000e+05</td>\n",
       "      <td>4.0</td>\n",
       "      <td>7.0</td>\n",
       "      <td>2006-12-01</td>\n",
       "      <td>2005-11-01</td>\n",
       "      <td>2008-09-15</td>\n",
       "      <td>8.000000e+05</td>\n",
       "      <td>0.000000e+00</td>\n",
       "      <td>4.0</td>\n",
       "      <td>1.0</td>\n",
       "      <td>1.0</td>\n",
       "      <td>2006</td>\n",
       "    </tr>\n",
       "    <tr>\n",
       "      <th>4</th>\n",
       "      <td>9.0</td>\n",
       "      <td>Geni</td>\n",
       "      <td>web</td>\n",
       "      <td>acquired</td>\n",
       "      <td>geni.com</td>\n",
       "      <td>geni</td>\n",
       "      <td>USA</td>\n",
       "      <td>0.0</td>\n",
       "      <td>3.0</td>\n",
       "      <td>1.650000e+07</td>\n",
       "      <td>4.0</td>\n",
       "      <td>9.0</td>\n",
       "      <td>2009-01-19</td>\n",
       "      <td>2006-06-01</td>\n",
       "      <td>NaT</td>\n",
       "      <td>1.650000e+07</td>\n",
       "      <td>1.085000e+08</td>\n",
       "      <td>2.0</td>\n",
       "      <td>1.0</td>\n",
       "      <td>1.0</td>\n",
       "      <td>2009</td>\n",
       "    </tr>\n",
       "    <tr>\n",
       "      <th>...</th>\n",
       "      <td>...</td>\n",
       "      <td>...</td>\n",
       "      <td>...</td>\n",
       "      <td>...</td>\n",
       "      <td>...</td>\n",
       "      <td>...</td>\n",
       "      <td>...</td>\n",
       "      <td>...</td>\n",
       "      <td>...</td>\n",
       "      <td>...</td>\n",
       "      <td>...</td>\n",
       "      <td>...</td>\n",
       "      <td>...</td>\n",
       "      <td>...</td>\n",
       "      <td>...</td>\n",
       "      <td>...</td>\n",
       "      <td>...</td>\n",
       "      <td>...</td>\n",
       "      <td>...</td>\n",
       "      <td>...</td>\n",
       "      <td>...</td>\n",
       "    </tr>\n",
       "    <tr>\n",
       "      <th>31702</th>\n",
       "      <td>286183.0</td>\n",
       "      <td>Wedding Spot</td>\n",
       "      <td>web</td>\n",
       "      <td>operating</td>\n",
       "      <td>wedding-spot.com</td>\n",
       "      <td>weddingspot</td>\n",
       "      <td>USA</td>\n",
       "      <td>0.0</td>\n",
       "      <td>1.0</td>\n",
       "      <td>2.250000e+05</td>\n",
       "      <td>0.0</td>\n",
       "      <td>286183.0</td>\n",
       "      <td>2013-12-12</td>\n",
       "      <td>2013-05-01</td>\n",
       "      <td>NaT</td>\n",
       "      <td>2.250000e+05</td>\n",
       "      <td>0.000000e+00</td>\n",
       "      <td>3.0</td>\n",
       "      <td>1.0</td>\n",
       "      <td>1.0</td>\n",
       "      <td>2013</td>\n",
       "    </tr>\n",
       "    <tr>\n",
       "      <th>31703</th>\n",
       "      <td>286184.0</td>\n",
       "      <td>Seldar Pharma</td>\n",
       "      <td>biotech</td>\n",
       "      <td>operating</td>\n",
       "      <td>-1</td>\n",
       "      <td>-1</td>\n",
       "      <td>USA</td>\n",
       "      <td>0.0</td>\n",
       "      <td>1.0</td>\n",
       "      <td>1.299900e+07</td>\n",
       "      <td>0.0</td>\n",
       "      <td>286184.0</td>\n",
       "      <td>2013-12-11</td>\n",
       "      <td>NaT</td>\n",
       "      <td>NaT</td>\n",
       "      <td>1.299900e+07</td>\n",
       "      <td>0.000000e+00</td>\n",
       "      <td>0.0</td>\n",
       "      <td>1.0</td>\n",
       "      <td>1.0</td>\n",
       "      <td>2013</td>\n",
       "    </tr>\n",
       "    <tr>\n",
       "      <th>31704</th>\n",
       "      <td>286186.0</td>\n",
       "      <td>Micromidas</td>\n",
       "      <td>cleantech</td>\n",
       "      <td>operating</td>\n",
       "      <td>micromidas.com</td>\n",
       "      <td>-1</td>\n",
       "      <td>USA</td>\n",
       "      <td>0.0</td>\n",
       "      <td>1.0</td>\n",
       "      <td>2.156060e+06</td>\n",
       "      <td>0.0</td>\n",
       "      <td>286186.0</td>\n",
       "      <td>2010-04-07</td>\n",
       "      <td>NaT</td>\n",
       "      <td>NaT</td>\n",
       "      <td>2.156060e+06</td>\n",
       "      <td>0.000000e+00</td>\n",
       "      <td>0.0</td>\n",
       "      <td>1.0</td>\n",
       "      <td>1.0</td>\n",
       "      <td>2010</td>\n",
       "    </tr>\n",
       "    <tr>\n",
       "      <th>31705</th>\n",
       "      <td>286200.0</td>\n",
       "      <td>STWA</td>\n",
       "      <td>other</td>\n",
       "      <td>operating</td>\n",
       "      <td>stwa.com</td>\n",
       "      <td>-1</td>\n",
       "      <td>USA</td>\n",
       "      <td>0.0</td>\n",
       "      <td>1.0</td>\n",
       "      <td>1.588120e+06</td>\n",
       "      <td>0.0</td>\n",
       "      <td>286200.0</td>\n",
       "      <td>2010-02-05</td>\n",
       "      <td>1998-01-01</td>\n",
       "      <td>NaT</td>\n",
       "      <td>1.588120e+06</td>\n",
       "      <td>0.000000e+00</td>\n",
       "      <td>0.0</td>\n",
       "      <td>1.0</td>\n",
       "      <td>1.0</td>\n",
       "      <td>2010</td>\n",
       "    </tr>\n",
       "    <tr>\n",
       "      <th>31706</th>\n",
       "      <td>286215.0</td>\n",
       "      <td>The Betty Mills Company</td>\n",
       "      <td>ecommerce</td>\n",
       "      <td>operating</td>\n",
       "      <td>bettymills.com</td>\n",
       "      <td>-1</td>\n",
       "      <td>USA</td>\n",
       "      <td>0.0</td>\n",
       "      <td>1.0</td>\n",
       "      <td>2.712500e+05</td>\n",
       "      <td>0.0</td>\n",
       "      <td>286215.0</td>\n",
       "      <td>2010-04-07</td>\n",
       "      <td>NaT</td>\n",
       "      <td>NaT</td>\n",
       "      <td>2.712500e+05</td>\n",
       "      <td>0.000000e+00</td>\n",
       "      <td>0.0</td>\n",
       "      <td>1.0</td>\n",
       "      <td>1.0</td>\n",
       "      <td>2010</td>\n",
       "    </tr>\n",
       "  </tbody>\n",
       "</table>\n",
       "<p>31707 rows × 21 columns</p>\n",
       "</div>"
      ],
      "text/plain": [
       "       company_id                     name    category_code     status  \\\n",
       "0             1.0                 Wetpaint              web  operating   \n",
       "1             4.0                     Digg             news   acquired   \n",
       "2             5.0                Socialnet           social        ipo   \n",
       "3             7.0                Omnidrive  network_hosting     closed   \n",
       "4             9.0                     Geni              web   acquired   \n",
       "...           ...                      ...              ...        ...   \n",
       "31702    286183.0             Wedding Spot              web  operating   \n",
       "31703    286184.0            Seldar Pharma          biotech  operating   \n",
       "31704    286186.0               Micromidas        cleantech  operating   \n",
       "31705    286200.0                     STWA            other  operating   \n",
       "31706    286215.0  The Betty Mills Company        ecommerce  operating   \n",
       "\n",
       "                 domain network_username country_code  investment_rounds  \\\n",
       "0      wetpaint-inc.com  BachelrWetpaint          USA                0.0   \n",
       "1              digg.com             digg          USA                0.0   \n",
       "2         socialnet.com        socialnet          USA                3.0   \n",
       "3         omnidrive.com         Nomadesk          ISR                0.0   \n",
       "4              geni.com             geni          USA                0.0   \n",
       "...                 ...              ...          ...                ...   \n",
       "31702  wedding-spot.com      weddingspot          USA                0.0   \n",
       "31703                -1               -1          USA                0.0   \n",
       "31704    micromidas.com               -1          USA                0.0   \n",
       "31705          stwa.com               -1          USA                0.0   \n",
       "31706    bettymills.com               -1          USA                0.0   \n",
       "\n",
       "       funding_rounds  funding_total  milestones  companyid max_funded_at  \\\n",
       "0                 3.0   3.975000e+07         5.0        1.0    2008-05-19   \n",
       "1                 4.0   4.500000e+07         8.0        4.0    2011-07-12   \n",
       "2                11.0   2.425700e+09         5.0        5.0    2011-01-21   \n",
       "3                 1.0   8.000000e+05         4.0        7.0    2006-12-01   \n",
       "4                 3.0   1.650000e+07         4.0        9.0    2009-01-19   \n",
       "...               ...            ...         ...        ...           ...   \n",
       "31702             1.0   2.250000e+05         0.0   286183.0    2013-12-12   \n",
       "31703             1.0   1.299900e+07         0.0   286184.0    2013-12-11   \n",
       "31704             1.0   2.156060e+06         0.0   286186.0    2010-04-07   \n",
       "31705             1.0   1.588120e+06         0.0   286200.0    2010-02-05   \n",
       "31706             1.0   2.712500e+05         0.0   286215.0    2010-04-07   \n",
       "\n",
       "      max_founded_at max_closed_at  sum_raised_amount  \\\n",
       "0         2005-10-17           NaT       3.975000e+07   \n",
       "1         2004-10-11           NaT       4.500000e+07   \n",
       "2         2004-02-01           NaT       2.425700e+09   \n",
       "3         2005-11-01    2008-09-15       8.000000e+05   \n",
       "4         2006-06-01           NaT       1.650000e+07   \n",
       "...              ...           ...                ...   \n",
       "31702     2013-05-01           NaT       2.250000e+05   \n",
       "31703            NaT           NaT       1.299900e+07   \n",
       "31704            NaT           NaT       2.156060e+06   \n",
       "31705     1998-01-01           NaT       1.588120e+06   \n",
       "31706            NaT           NaT       2.712500e+05   \n",
       "\n",
       "       sum_pre_money_valuation  max_participants  max_is_first_round  \\\n",
       "0                 0.000000e+00               4.0                 1.0   \n",
       "1                 0.000000e+00               8.0                 1.0   \n",
       "2                 1.564000e+10               4.0                 1.0   \n",
       "3                 0.000000e+00               4.0                 1.0   \n",
       "4                 1.085000e+08               2.0                 1.0   \n",
       "...                        ...               ...                 ...   \n",
       "31702             0.000000e+00               3.0                 1.0   \n",
       "31703             0.000000e+00               0.0                 1.0   \n",
       "31704             0.000000e+00               0.0                 1.0   \n",
       "31705             0.000000e+00               0.0                 1.0   \n",
       "31706             0.000000e+00               0.0                 1.0   \n",
       "\n",
       "       max_is_last_round  max_year  \n",
       "0                    1.0      2008  \n",
       "1                    1.0      2011  \n",
       "2                    1.0      2011  \n",
       "3                    1.0      2006  \n",
       "4                    1.0      2009  \n",
       "...                  ...       ...  \n",
       "31702                1.0      2013  \n",
       "31703                1.0      2013  \n",
       "31704                1.0      2010  \n",
       "31705                1.0      2010  \n",
       "31706                1.0      2010  \n",
       "\n",
       "[31707 rows x 21 columns]"
      ]
     },
     "execution_count": 23,
     "metadata": {},
     "output_type": "execute_result"
    }
   ],
   "source": [
    "# Определяем список колонок для группировки значений\n",
    "gr_column = ['company_id', 'name', 'category_code', 'status', 'domain', 'network_username', 'country_code',\n",
    "             'investment_rounds', 'funding_rounds', 'funding_total', 'milestones', 'companyid'] \n",
    "# Список колонок для заполнения пропущенных значений\n",
    "fillna_column = ['country_code', 'category_code', 'domain', 'network_username', 'company_id'] \n",
    "\n",
    "# Заполняем пропущенные значения \n",
    "gr_company_df = company_df\n",
    "for column in fillna_column:\n",
    "    gr_company_df[column] = gr_company_df[column].fillna(-1)\n",
    "\n",
    "# Группируем таблицу по компаниям\n",
    "gr_company_df = company_df.groupby(gr_column).agg(max_funded_at=('funded_at','max'),\n",
    "                                                  max_founded_at=('founded_at', 'max'),\n",
    "                                                  max_closed_at=('closed_at', 'max'),\n",
    "                                                  sum_raised_amount=('raised_amount', 'sum'),\n",
    "                                                  sum_pre_money_valuation=('pre_money_valuation', 'sum'),\n",
    "                                                  max_participants=('participants', 'max'),\n",
    "                                                  max_is_first_round=('is_first_round', 'max'),\n",
    "                                                  max_is_last_round=('is_last_round', 'max'),\n",
    "                                                  max_year=('year', 'max')\n",
    "                                                  )\\\n",
    "                                              .reset_index()\n",
    "\n",
    "gr_company_df"
   ]
  },
  {
   "cell_type": "code",
   "execution_count": 24,
   "metadata": {},
   "outputs": [
    {
     "name": "stdout",
     "output_type": "stream",
     "text": [
      "Кол-во уникальных компаний в исходном датасете:\n"
     ]
    },
    {
     "data": {
      "text/plain": [
       "196554"
      ]
     },
     "metadata": {},
     "output_type": "display_data"
    },
    {
     "name": "stdout",
     "output_type": "stream",
     "text": [
      "Кол-во уникальных компаний в сгруппированном датасете\n"
     ]
    },
    {
     "data": {
      "text/plain": [
       "31707"
      ]
     },
     "execution_count": 24,
     "metadata": {},
     "output_type": "execute_result"
    }
   ],
   "source": [
    "# Проверяем кол-во уникальных компаний в исходном и сгруппированном датасете\n",
    "\n",
    "print('Кол-во уникальных компаний в исходном датасете:')\n",
    "display(company_df['company_id'].nunique())\n",
    "print('Кол-во уникальных компаний в сгруппированном датасете')\n",
    "gr_company_df['company_id'].count()"
   ]
  },
  {
   "cell_type": "markdown",
   "metadata": {},
   "source": [
    "-----\n",
    "- Разделим датасет `company_df` на два датасета `fund_df`, `investment_df` и удалим полные дубликаты"
   ]
  },
  {
   "cell_type": "code",
   "execution_count": 25,
   "metadata": {},
   "outputs": [
    {
     "name": "stdout",
     "output_type": "stream",
     "text": [
      "Кол-во дубликатов в fund_df:\n",
      "- в исходном датасете\n",
      "21220\n",
      "- после удаления дублей\n",
      "0\n",
      "\n",
      "Кол-во дубликатов в investment_df: \n",
      "- в исходном датасете\n",
      "164845\n",
      "- после удаления дублей\n",
      "0\n"
     ]
    }
   ],
   "source": [
    "# Разделим датасет company_df на две таблицы\n",
    "fund_df = company_df[['company_id', 'name', 'category_code', 'status', 'founded_at',\n",
    "       'closed_at', 'domain', 'network_username', 'country_code',\n",
    "       'investment_rounds', 'funding_rounds', 'funding_total', 'milestones']]\n",
    "\n",
    "print('Кол-во дубликатов в fund_df:\\n- в исходном датасете')\n",
    "print(fund_df.duplicated().sum())\n",
    "\n",
    "# Удалим полные дубликаты\n",
    "fund_df = fund_df.drop_duplicates()\n",
    "\n",
    "print('- после удаления дублей')\n",
    "print(fund_df.duplicated().sum())\n",
    "\n",
    "\n",
    "investment_df = company_df[['funding_round_id', 'companyid', 'funded_at', 'funding_round_type',\n",
    "       'raised_amount', 'pre_money_valuation', 'participants',\n",
    "       'is_first_round', 'is_last_round', 'year']]\n",
    "\n",
    "print('\\nКол-во дубликатов в investment_df: \\n- в исходном датасете')\n",
    "print(investment_df.duplicated().sum())\n",
    "\n",
    "# Удалим полные дубликаты\n",
    "investment_df = investment_df.drop_duplicates()\n",
    "\n",
    "print('- после удаления дублей')\n",
    "print(investment_df.duplicated().sum())\n"
   ]
  },
  {
   "cell_type": "markdown",
   "metadata": {
    "id": "bmVYhphNrJg2"
   },
   "source": [
    "\n",
    "## Шаг 3. Исследовательский анализ объединённых таблиц\n",
    "\n"
   ]
  },
  {
   "cell_type": "markdown",
   "metadata": {
    "id": "3Di6tCT3rJg2"
   },
   "source": [
    "\n",
    "### 3.1. Объединение данных\n",
    "\n"
   ]
  },
  {
   "cell_type": "code",
   "execution_count": 26,
   "metadata": {
    "id": "kuV1b5MXFg3_"
   },
   "outputs": [
    {
     "data": {
      "text/html": [
       "<div>\n",
       "<style scoped>\n",
       "    .dataframe tbody tr th:only-of-type {\n",
       "        vertical-align: middle;\n",
       "    }\n",
       "\n",
       "    .dataframe tbody tr th {\n",
       "        vertical-align: top;\n",
       "    }\n",
       "\n",
       "    .dataframe thead th {\n",
       "        text-align: right;\n",
       "    }\n",
       "</style>\n",
       "<table border=\"1\" class=\"dataframe\">\n",
       "  <thead>\n",
       "    <tr style=\"text-align: right;\">\n",
       "      <th></th>\n",
       "      <th>company_id</th>\n",
       "      <th>name</th>\n",
       "      <th>category_code</th>\n",
       "      <th>status</th>\n",
       "      <th>founded_at</th>\n",
       "      <th>closed_at</th>\n",
       "      <th>investment_rounds</th>\n",
       "      <th>funding_rounds</th>\n",
       "      <th>funding_total</th>\n",
       "    </tr>\n",
       "  </thead>\n",
       "  <tbody>\n",
       "    <tr>\n",
       "      <th>0</th>\n",
       "      <td>1.0</td>\n",
       "      <td>Wetpaint</td>\n",
       "      <td>web</td>\n",
       "      <td>operating</td>\n",
       "      <td>2005-10-17</td>\n",
       "      <td>NaT</td>\n",
       "      <td>0.0</td>\n",
       "      <td>3.0</td>\n",
       "      <td>39750000.0</td>\n",
       "    </tr>\n",
       "    <tr>\n",
       "      <th>3</th>\n",
       "      <td>10.0</td>\n",
       "      <td>Flektor</td>\n",
       "      <td>games_video</td>\n",
       "      <td>acquired</td>\n",
       "      <td>NaT</td>\n",
       "      <td>NaT</td>\n",
       "      <td>0.0</td>\n",
       "      <td>0.0</td>\n",
       "      <td>0.0</td>\n",
       "    </tr>\n",
       "    <tr>\n",
       "      <th>4</th>\n",
       "      <td>100.0</td>\n",
       "      <td>There</td>\n",
       "      <td>games_video</td>\n",
       "      <td>acquired</td>\n",
       "      <td>NaT</td>\n",
       "      <td>NaT</td>\n",
       "      <td>0.0</td>\n",
       "      <td>0.0</td>\n",
       "      <td>0.0</td>\n",
       "    </tr>\n",
       "    <tr>\n",
       "      <th>15</th>\n",
       "      <td>1001.0</td>\n",
       "      <td>FriendFeed</td>\n",
       "      <td>web</td>\n",
       "      <td>acquired</td>\n",
       "      <td>2007-10-01</td>\n",
       "      <td>NaT</td>\n",
       "      <td>0.0</td>\n",
       "      <td>1.0</td>\n",
       "      <td>5000000.0</td>\n",
       "    </tr>\n",
       "    <tr>\n",
       "      <th>20</th>\n",
       "      <td>10014.0</td>\n",
       "      <td>Mobclix</td>\n",
       "      <td>mobile</td>\n",
       "      <td>acquired</td>\n",
       "      <td>2008-03-01</td>\n",
       "      <td>NaT</td>\n",
       "      <td>0.0</td>\n",
       "      <td>1.0</td>\n",
       "      <td>0.0</td>\n",
       "    </tr>\n",
       "    <tr>\n",
       "      <th>...</th>\n",
       "      <td>...</td>\n",
       "      <td>...</td>\n",
       "      <td>...</td>\n",
       "      <td>...</td>\n",
       "      <td>...</td>\n",
       "      <td>...</td>\n",
       "      <td>...</td>\n",
       "      <td>...</td>\n",
       "      <td>...</td>\n",
       "    </tr>\n",
       "    <tr>\n",
       "      <th>217458</th>\n",
       "      <td>1344.0</td>\n",
       "      <td>Vobile</td>\n",
       "      <td>web</td>\n",
       "      <td>operating</td>\n",
       "      <td>2005-01-01</td>\n",
       "      <td>NaT</td>\n",
       "      <td>0.0</td>\n",
       "      <td>1.0</td>\n",
       "      <td>10000000.0</td>\n",
       "    </tr>\n",
       "    <tr>\n",
       "      <th>217459</th>\n",
       "      <td>142181.0</td>\n",
       "      <td>Stop Being Watched</td>\n",
       "      <td>software</td>\n",
       "      <td>operating</td>\n",
       "      <td>2010-06-10</td>\n",
       "      <td>NaT</td>\n",
       "      <td>0.0</td>\n",
       "      <td>1.0</td>\n",
       "      <td>500000.0</td>\n",
       "    </tr>\n",
       "    <tr>\n",
       "      <th>217463</th>\n",
       "      <td>3429.0</td>\n",
       "      <td>Zend Technologies</td>\n",
       "      <td>software</td>\n",
       "      <td>operating</td>\n",
       "      <td>1999-01-01</td>\n",
       "      <td>NaT</td>\n",
       "      <td>0.0</td>\n",
       "      <td>4.0</td>\n",
       "      <td>44000000.0</td>\n",
       "    </tr>\n",
       "    <tr>\n",
       "      <th>217467</th>\n",
       "      <td>7748.0</td>\n",
       "      <td>Flowgram</td>\n",
       "      <td>web</td>\n",
       "      <td>closed</td>\n",
       "      <td>2007-06-01</td>\n",
       "      <td>2008-06-11</td>\n",
       "      <td>0.0</td>\n",
       "      <td>1.0</td>\n",
       "      <td>1300000.0</td>\n",
       "    </tr>\n",
       "    <tr>\n",
       "      <th>217469</th>\n",
       "      <td>43233.0</td>\n",
       "      <td>Photonet</td>\n",
       "      <td>photo_video</td>\n",
       "      <td>acquired</td>\n",
       "      <td>2010-03-01</td>\n",
       "      <td>NaT</td>\n",
       "      <td>0.0</td>\n",
       "      <td>3.0</td>\n",
       "      <td>57500000.0</td>\n",
       "    </tr>\n",
       "  </tbody>\n",
       "</table>\n",
       "<p>40747 rows × 9 columns</p>\n",
       "</div>"
      ],
      "text/plain": [
       "        company_id                name category_code     status founded_at  \\\n",
       "0              1.0            Wetpaint           web  operating 2005-10-17   \n",
       "3             10.0             Flektor   games_video   acquired        NaT   \n",
       "4            100.0               There   games_video   acquired        NaT   \n",
       "15          1001.0          FriendFeed           web   acquired 2007-10-01   \n",
       "20         10014.0             Mobclix        mobile   acquired 2008-03-01   \n",
       "...            ...                 ...           ...        ...        ...   \n",
       "217458      1344.0              Vobile           web  operating 2005-01-01   \n",
       "217459    142181.0  Stop Being Watched      software  operating 2010-06-10   \n",
       "217463      3429.0   Zend Technologies      software  operating 1999-01-01   \n",
       "217467      7748.0            Flowgram           web     closed 2007-06-01   \n",
       "217469     43233.0            Photonet   photo_video   acquired 2010-03-01   \n",
       "\n",
       "        closed_at  investment_rounds  funding_rounds  funding_total  \n",
       "0             NaT                0.0             3.0     39750000.0  \n",
       "3             NaT                0.0             0.0            0.0  \n",
       "4             NaT                0.0             0.0            0.0  \n",
       "15            NaT                0.0             1.0      5000000.0  \n",
       "20            NaT                0.0             1.0            0.0  \n",
       "...           ...                ...             ...            ...  \n",
       "217458        NaT                0.0             1.0     10000000.0  \n",
       "217459        NaT                0.0             1.0       500000.0  \n",
       "217463        NaT                0.0             4.0     44000000.0  \n",
       "217467 2008-06-11                0.0             1.0      1300000.0  \n",
       "217469        NaT                0.0             3.0     57500000.0  \n",
       "\n",
       "[40747 rows x 9 columns]"
      ]
     },
     "execution_count": 26,
     "metadata": {},
     "output_type": "execute_result"
    }
   ],
   "source": [
    "# df = fund_df.merge(investment_df, left_on='company_id', right_on='companyid')\n",
    "df = fund_df[(fund_df['funding_rounds'] > 0) | (fund_df['investment_rounds'] > 0) | (fund_df['status'] == 'acquired')]\n",
    "# merge_df.columns#.duplicated().sum()\n",
    "\n",
    "# Оставим необходимые для анализа столбцы\n",
    "df = df[['company_id', 'name', 'category_code', 'status', 'founded_at', 'closed_at',\n",
    "                     'investment_rounds', 'funding_rounds', 'funding_total']]\n",
    "       \n",
    "df"
   ]
  },
  {
   "cell_type": "markdown",
   "metadata": {
    "id": "DFHINkV3rJg2"
   },
   "source": [
    "\n",
    "### 3.2. Анализ выбросов\n",
    "\n"
   ]
  },
  {
   "cell_type": "code",
   "execution_count": 27,
   "metadata": {
    "id": "8jm75fKXrJg2",
    "vscode": {
     "languageId": "plaintext"
    }
   },
   "outputs": [
    {
     "name": "stdout",
     "output_type": "stream",
     "text": [
      "Статистические показатели столбца funding_total:\n"
     ]
    },
    {
     "data": {
      "text/plain": [
       "count         40747\n",
       "mean       10135609\n",
       "std        56464359\n",
       "min               0\n",
       "25%               0\n",
       "50%          600000\n",
       "75%         5650650\n",
       "max      5700000000\n",
       "Name: funding_total, dtype: int64"
      ]
     },
     "execution_count": 27,
     "metadata": {},
     "output_type": "execute_result"
    }
   ],
   "source": [
    "# Изучаем статистические показатели столбца funding_total\n",
    "print('Статистические показатели столбца funding_total:')\n",
    "# pd.set_option('display.float_format','{:,}'.format)\n",
    "df['funding_total'].describe().astype('int')"
   ]
  },
  {
   "cell_type": "code",
   "execution_count": 28,
   "metadata": {},
   "outputs": [
    {
     "data": {
      "image/png": "[encoded data removed]",
      "text/plain": [
       "<Figure size 864x144 with 1 Axes>"
      ]
     },
     "metadata": {
      "needs_background": "light"
     },
     "output_type": "display_data"
    },
    {
     "data": {
      "image/png": "[encoded data removed]",
      "text/plain": [
       "<Figure size 864x144 with 1 Axes>"
      ]
     },
     "metadata": {
      "needs_background": "light"
     },
     "output_type": "display_data"
    }
   ],
   "source": [
    "# Для визуализации уберём экстемальные выбросы 1% слева и справа\n",
    "Q1 = df['funding_total'].quantile(0.01)\n",
    "Q3 = df['funding_total'].quantile(0.99)\n",
    "\n",
    "# Строим диаграмму размаха значений в столбце funding_total\n",
    "df_quantile = df[(df['funding_total'] > Q1) & (df['funding_total'] < Q3)]\n",
    "df_quantile.boxplot(column=\"funding_total\",\n",
    "                    figsize=(12, 2),\n",
    "                    vert=False)\n",
    "\n",
    "# Добавляем заголовок и метки оси\n",
    "plt.title('Распределение значений суммы финансирования компании')\n",
    "plt.xlabel('Сумма финансирования компании') \n",
    "\n",
    "# Выводим график\n",
    "plt.show()\n",
    "\n",
    "df_quantile.boxplot(column=\"funding_total\",\n",
    "                    figsize=(12, 2),\n",
    "                    showfliers=False,\n",
    "                    vert=False)\n",
    "plt.title('Распределение значений суммы финансирования компании БЕЗ учета выбросов')\n",
    "plt.xlabel('Сумма финансирования компании') \n",
    "plt.show()"
   ]
  },
  {
   "cell_type": "markdown",
   "metadata": {},
   "source": [
    "\n",
    "- Распределение данных характеризуется широким разбросом и длинным «хвостом» в правой части гистограммы. Такие высокие значения можно отнести к выбросам\n",
    "- Из графика видно, типичный размер общего финансирования для одной компании от 30000 до 420000 "
   ]
  },
  {
   "cell_type": "code",
   "execution_count": 29,
   "metadata": {},
   "outputs": [
    {
     "data": {
      "image/png": "[encoded data removed]",
      "text/plain": [
       "<Figure size 720x432 with 1 Axes>"
      ]
     },
     "metadata": {
      "needs_background": "light"
     },
     "output_type": "display_data"
    },
    {
     "data": {
      "image/png": "[encoded data removed]",
      "text/plain": [
       "<Figure size 720x432 with 1 Axes>"
      ]
     },
     "metadata": {
      "needs_background": "light"
     },
     "output_type": "display_data"
    }
   ],
   "source": [
    "# Строим гистограмму \n",
    "df_quantile['funding_total'].plot(\n",
    "                kind='hist', # гистограмма\n",
    "                bins=100, # количество корзин\n",
    "                figsize=(10, 6),\n",
    "                alpha=0.75,\n",
    "                edgecolor='black')\n",
    "\n",
    "\n",
    "# Настраиваем оформление графика\n",
    "plt.title('Распределение значений суммы финансирования компании')\n",
    "plt.xlabel('Сумма финансирования компании')\n",
    "plt.ylabel('Частота')\n",
    "# Добавляем сетку графика\n",
    "plt.grid()\n",
    "\n",
    "# Выводим график\n",
    "plt.show()\n",
    "\n",
    "# Строим гистограмму с логарифмической шкалой\n",
    "plt.figure(figsize=(10, 6))\n",
    "plt.hist(company_df['funding_total'], bins=50, color='skyblue', edgecolor='black', log=True)\n",
    "plt.xscale('log')  # Логарифмическая шкала по оси X\n",
    "plt.xlabel('Общее финансирование (логарифмическая шкала)')\n",
    "plt.ylabel('Количество компаний')\n",
    "plt.title('Распределение общего финансирования (логарифмическая шкала)')\n",
    "plt.show()\n"
   ]
  },
  {
   "cell_type": "markdown",
   "metadata": {
    "id": "JqkRAQrIrJg2"
   },
   "source": [
    "\n",
    "### 3.3. Куплены забесплатно?\n",
    "\n"
   ]
  },
  {
   "cell_type": "markdown",
   "metadata": {},
   "source": [
    "Рассмотрим компании, которые были проданы за ноль или за один доллар, и при этом известно, что у них был ненулевой общий объём финансирования"
   ]
  },
  {
   "cell_type": "code",
   "execution_count": 30,
   "metadata": {
    "id": "wJHXCBwwrJg2",
    "vscode": {
     "languageId": "plaintext"
    }
   },
   "outputs": [
    {
     "name": "stdout",
     "output_type": "stream",
     "text": [
      "Статистические показатели столбца funding_total:\n"
     ]
    },
    {
     "name": "stderr",
     "output_type": "stream",
     "text": [
      "/tmp/ipykernel_48/1525952809.py:2: UserWarning: Boolean Series key will be reindexed to match DataFrame index.\n",
      "  df_0 = df_0[(df['funding_total']==0) & (df['status']=='acquired') & (df_0['price_amount'] < 2)].reset_index()\n"
     ]
    },
    {
     "data": {
      "text/plain": [
       "count          240\n",
       "mean       3851155\n",
       "std       13669286\n",
       "min              0\n",
       "25%              0\n",
       "50%              0\n",
       "75%              0\n",
       "max      158187000\n",
       "Name: funding_total, dtype: int64"
      ]
     },
     "execution_count": 30,
     "metadata": {},
     "output_type": "execute_result"
    }
   ],
   "source": [
    "df_0 = df.merge(acquis_df, left_on='company_id', right_on='acquired_company_id', how='left')\n",
    "df_0 = df_0[(df['funding_total']==0) & (df['status']=='acquired') & (df_0['price_amount'] < 2)].reset_index()\n",
    "\n",
    "# Изучаем статистические показатели столбца funding_total\n",
    "print('Статистические показатели столбца funding_total:')\n",
    "df_0['funding_total'].describe().astype('int')"
   ]
  },
  {
   "cell_type": "code",
   "execution_count": 31,
   "metadata": {},
   "outputs": [
    {
     "data": {
      "text/html": [
       "<div>\n",
       "<style scoped>\n",
       "    .dataframe tbody tr th:only-of-type {\n",
       "        vertical-align: middle;\n",
       "    }\n",
       "\n",
       "    .dataframe tbody tr th {\n",
       "        vertical-align: top;\n",
       "    }\n",
       "\n",
       "    .dataframe thead th {\n",
       "        text-align: right;\n",
       "    }\n",
       "</style>\n",
       "<table border=\"1\" class=\"dataframe\">\n",
       "  <thead>\n",
       "    <tr style=\"text-align: right;\">\n",
       "      <th></th>\n",
       "      <th>index</th>\n",
       "      <th>company_id</th>\n",
       "      <th>name</th>\n",
       "      <th>category_code</th>\n",
       "      <th>status</th>\n",
       "      <th>founded_at</th>\n",
       "      <th>closed_at</th>\n",
       "      <th>investment_rounds</th>\n",
       "      <th>funding_rounds</th>\n",
       "      <th>funding_total</th>\n",
       "      <th>id</th>\n",
       "      <th>acquiring_company_id</th>\n",
       "      <th>acquired_company_id</th>\n",
       "      <th>term_code</th>\n",
       "      <th>price_amount</th>\n",
       "      <th>acquired_at</th>\n",
       "    </tr>\n",
       "  </thead>\n",
       "  <tbody>\n",
       "    <tr>\n",
       "      <th>218</th>\n",
       "      <td>37613</td>\n",
       "      <td>7299.0</td>\n",
       "      <td>Photobucket</td>\n",
       "      <td>web</td>\n",
       "      <td>acquired</td>\n",
       "      <td>2003-06-01</td>\n",
       "      <td>NaT</td>\n",
       "      <td>1.0</td>\n",
       "      <td>7.0</td>\n",
       "      <td>33672700.0</td>\n",
       "      <td>2713.0</td>\n",
       "      <td>7299.0</td>\n",
       "      <td>7299.0</td>\n",
       "      <td>NaN</td>\n",
       "      <td>0.0</td>\n",
       "      <td>2009-12-16</td>\n",
       "    </tr>\n",
       "    <tr>\n",
       "      <th>219</th>\n",
       "      <td>37614</td>\n",
       "      <td>7299.0</td>\n",
       "      <td>Photobucket</td>\n",
       "      <td>web</td>\n",
       "      <td>acquired</td>\n",
       "      <td>2003-06-01</td>\n",
       "      <td>NaT</td>\n",
       "      <td>1.0</td>\n",
       "      <td>7.0</td>\n",
       "      <td>33672700.0</td>\n",
       "      <td>8404.0</td>\n",
       "      <td>11.0</td>\n",
       "      <td>7299.0</td>\n",
       "      <td>NaN</td>\n",
       "      <td>0.0</td>\n",
       "      <td>2007-05-30</td>\n",
       "    </tr>\n",
       "  </tbody>\n",
       "</table>\n",
       "</div>"
      ],
      "text/plain": [
       "     index  company_id         name category_code    status founded_at  \\\n",
       "218  37613      7299.0  Photobucket           web  acquired 2003-06-01   \n",
       "219  37614      7299.0  Photobucket           web  acquired 2003-06-01   \n",
       "\n",
       "    closed_at  investment_rounds  funding_rounds  funding_total      id  \\\n",
       "218       NaT                1.0             7.0     33672700.0  2713.0   \n",
       "219       NaT                1.0             7.0     33672700.0  8404.0   \n",
       "\n",
       "     acquiring_company_id  acquired_company_id term_code  price_amount  \\\n",
       "218                7299.0               7299.0       NaN           0.0   \n",
       "219                  11.0               7299.0       NaN           0.0   \n",
       "\n",
       "    acquired_at  \n",
       "218  2009-12-16  \n",
       "219  2007-05-30  "
      ]
     },
     "execution_count": 31,
     "metadata": {},
     "output_type": "execute_result"
    }
   ],
   "source": [
    "# Проверим дубли\n",
    "# df_0[df_0.acquired_company_id.duplicated()==True].sort_values(by='acquired_company_id')\n",
    "df_0[df_0.acquired_company_id == 7299]"
   ]
  },
  {
   "cell_type": "code",
   "execution_count": 32,
   "metadata": {},
   "outputs": [
    {
     "data": {
      "image/png": "[encoded data removed]",
      "text/plain": [
       "<Figure size 720x360 with 1 Axes>"
      ]
     },
     "metadata": {
      "needs_background": "light"
     },
     "output_type": "display_data"
    }
   ],
   "source": [
    "# Построим график столбчатой диаграммы\n",
    "grouped = df_0.groupby('category_code').agg(count=('company_id', 'count')).sort_values(by='count',ascending=False).head(10).reset_index()#\n",
    "\n",
    "grouped.plot(kind='barh',\n",
    "             x='category_code',\n",
    "             title=f'Распределение в зависимости категория области деятельности компании',\n",
    "             legend=True,\n",
    "             ylabel='Количество компаний',\n",
    "             xlabel='Категория области деятельности компании',\n",
    "             rot=0,\n",
    "             figsize=(10, 5))\n",
    "plt.grid()\n",
    "\n",
    "# Выводим график\n",
    "plt.show()"
   ]
  },
  {
   "cell_type": "markdown",
   "metadata": {},
   "source": [
    "Рассчитаем верхнюю и нижнюю границу выбросов для столбца funding_total"
   ]
  },
  {
   "cell_type": "code",
   "execution_count": 33,
   "metadata": {
    "id": "9IDTHfYQFhuX"
   },
   "outputs": [
    {
     "name": "stdout",
     "output_type": "stream",
     "text": [
      "Нижняя граница выбросов: 0\n",
      "Верхняя граница выбросов: 14126625.0\n"
     ]
    }
   ],
   "source": [
    "# Вычисляем квартили Q1, Q3 и межквартильный диапазон IQR\n",
    "Q1 = df['funding_total'].quantile(0.25)\n",
    "Q3 = df['funding_total'].quantile(0.75)\n",
    "IQR = Q3 - Q1\n",
    "\n",
    "# Определяем границы выбросов\n",
    "low_outlier_end = max(0, Q1 - 1.5 * IQR) # установил нижнюю границу выбросов равную 0\n",
    "up_outlier_end = Q3 + 1.5 * IQR\n",
    "\n",
    "print(f'Нижняя граница выбросов: {low_outlier_end}')\n",
    "print(f'Верхняя граница выбросов: {up_outlier_end}')"
   ]
  },
  {
   "cell_type": "markdown",
   "metadata": {
    "id": "mEiWpROjrJg2"
   },
   "source": [
    "\n",
    "### 3.4. Цены стартапов по категориям\n",
    "\n"
   ]
  },
  {
   "cell_type": "code",
   "execution_count": 34,
   "metadata": {},
   "outputs": [
    {
     "data": {
      "text/html": [
       "<div>\n",
       "<style scoped>\n",
       "    .dataframe tbody tr th:only-of-type {\n",
       "        vertical-align: middle;\n",
       "    }\n",
       "\n",
       "    .dataframe tbody tr th {\n",
       "        vertical-align: top;\n",
       "    }\n",
       "\n",
       "    .dataframe thead th {\n",
       "        text-align: right;\n",
       "    }\n",
       "</style>\n",
       "<table border=\"1\" class=\"dataframe\">\n",
       "  <thead>\n",
       "    <tr style=\"text-align: right;\">\n",
       "      <th></th>\n",
       "      <th>category_code</th>\n",
       "      <th>count_company</th>\n",
       "      <th>median_price</th>\n",
       "      <th>min_price</th>\n",
       "      <th>max_price</th>\n",
       "      <th>spread</th>\n",
       "    </tr>\n",
       "  </thead>\n",
       "  <tbody>\n",
       "    <tr>\n",
       "      <th>0</th>\n",
       "      <td>-1</td>\n",
       "      <td>371</td>\n",
       "      <td>3800000.0</td>\n",
       "      <td>1.0</td>\n",
       "      <td>117000000.0</td>\n",
       "      <td>116999999.0</td>\n",
       "    </tr>\n",
       "    <tr>\n",
       "      <th>32</th>\n",
       "      <td>software</td>\n",
       "      <td>276</td>\n",
       "      <td>25000000.0</td>\n",
       "      <td>1858.0</td>\n",
       "      <td>112000000.0</td>\n",
       "      <td>111998142.0</td>\n",
       "    </tr>\n",
       "    <tr>\n",
       "      <th>35</th>\n",
       "      <td>web</td>\n",
       "      <td>168</td>\n",
       "      <td>20000000.0</td>\n",
       "      <td>5000.0</td>\n",
       "      <td>117500000.0</td>\n",
       "      <td>117495000.0</td>\n",
       "    </tr>\n",
       "    <tr>\n",
       "      <th>4</th>\n",
       "      <td>biotech</td>\n",
       "      <td>112</td>\n",
       "      <td>27950000.0</td>\n",
       "      <td>109000.0</td>\n",
       "      <td>115000000.0</td>\n",
       "      <td>114891000.0</td>\n",
       "    </tr>\n",
       "    <tr>\n",
       "      <th>20</th>\n",
       "      <td>mobile</td>\n",
       "      <td>79</td>\n",
       "      <td>26200000.0</td>\n",
       "      <td>5000.0</td>\n",
       "      <td>105000000.0</td>\n",
       "      <td>104995000.0</td>\n",
       "    </tr>\n",
       "    <tr>\n",
       "      <th>9</th>\n",
       "      <td>enterprise</td>\n",
       "      <td>69</td>\n",
       "      <td>22500000.0</td>\n",
       "      <td>20000.0</td>\n",
       "      <td>115000000.0</td>\n",
       "      <td>114980000.0</td>\n",
       "    </tr>\n",
       "    <tr>\n",
       "      <th>12</th>\n",
       "      <td>games_video</td>\n",
       "      <td>56</td>\n",
       "      <td>26300000.0</td>\n",
       "      <td>60.0</td>\n",
       "      <td>112000000.0</td>\n",
       "      <td>111999940.0</td>\n",
       "    </tr>\n",
       "    <tr>\n",
       "      <th>1</th>\n",
       "      <td>advertising</td>\n",
       "      <td>54</td>\n",
       "      <td>26350000.0</td>\n",
       "      <td>10000.0</td>\n",
       "      <td>105300000.0</td>\n",
       "      <td>105290000.0</td>\n",
       "    </tr>\n",
       "    <tr>\n",
       "      <th>24</th>\n",
       "      <td>other</td>\n",
       "      <td>46</td>\n",
       "      <td>21850000.0</td>\n",
       "      <td>1.0</td>\n",
       "      <td>105000000.0</td>\n",
       "      <td>104999999.0</td>\n",
       "    </tr>\n",
       "    <tr>\n",
       "      <th>13</th>\n",
       "      <td>hardware</td>\n",
       "      <td>44</td>\n",
       "      <td>20000000.0</td>\n",
       "      <td>49.0</td>\n",
       "      <td>100000000.0</td>\n",
       "      <td>99999951.0</td>\n",
       "    </tr>\n",
       "    <tr>\n",
       "      <th>26</th>\n",
       "      <td>public_relations</td>\n",
       "      <td>40</td>\n",
       "      <td>17750000.0</td>\n",
       "      <td>25000.0</td>\n",
       "      <td>116000000.0</td>\n",
       "      <td>115975000.0</td>\n",
       "    </tr>\n",
       "    <tr>\n",
       "      <th>30</th>\n",
       "      <td>semiconductor</td>\n",
       "      <td>38</td>\n",
       "      <td>30200000.0</td>\n",
       "      <td>1500000.0</td>\n",
       "      <td>105410000.0</td>\n",
       "      <td>103910000.0</td>\n",
       "    </tr>\n",
       "    <tr>\n",
       "      <th>22</th>\n",
       "      <td>network_hosting</td>\n",
       "      <td>34</td>\n",
       "      <td>26150000.0</td>\n",
       "      <td>10000.0</td>\n",
       "      <td>115000000.0</td>\n",
       "      <td>114990000.0</td>\n",
       "    </tr>\n",
       "    <tr>\n",
       "      <th>7</th>\n",
       "      <td>ecommerce</td>\n",
       "      <td>24</td>\n",
       "      <td>12650000.0</td>\n",
       "      <td>11.0</td>\n",
       "      <td>110000000.0</td>\n",
       "      <td>109999989.0</td>\n",
       "    </tr>\n",
       "    <tr>\n",
       "      <th>6</th>\n",
       "      <td>consulting</td>\n",
       "      <td>23</td>\n",
       "      <td>21500000.0</td>\n",
       "      <td>400000.0</td>\n",
       "      <td>95000000.0</td>\n",
       "      <td>94600000.0</td>\n",
       "    </tr>\n",
       "    <tr>\n",
       "      <th>5</th>\n",
       "      <td>cleantech</td>\n",
       "      <td>14</td>\n",
       "      <td>51190000.0</td>\n",
       "      <td>450000.0</td>\n",
       "      <td>110000000.0</td>\n",
       "      <td>109550000.0</td>\n",
       "    </tr>\n",
       "    <tr>\n",
       "      <th>29</th>\n",
       "      <td>security</td>\n",
       "      <td>13</td>\n",
       "      <td>36000000.0</td>\n",
       "      <td>1850000.0</td>\n",
       "      <td>95000000.0</td>\n",
       "      <td>93150000.0</td>\n",
       "    </tr>\n",
       "    <tr>\n",
       "      <th>28</th>\n",
       "      <td>search</td>\n",
       "      <td>13</td>\n",
       "      <td>10000000.0</td>\n",
       "      <td>50000.0</td>\n",
       "      <td>115000000.0</td>\n",
       "      <td>114950000.0</td>\n",
       "    </tr>\n",
       "  </tbody>\n",
       "</table>\n",
       "</div>"
      ],
      "text/plain": [
       "       category_code  count_company  median_price  min_price    max_price  \\\n",
       "0                 -1            371     3800000.0        1.0  117000000.0   \n",
       "32          software            276    25000000.0     1858.0  112000000.0   \n",
       "35               web            168    20000000.0     5000.0  117500000.0   \n",
       "4            biotech            112    27950000.0   109000.0  115000000.0   \n",
       "20            mobile             79    26200000.0     5000.0  105000000.0   \n",
       "9         enterprise             69    22500000.0    20000.0  115000000.0   \n",
       "12       games_video             56    26300000.0       60.0  112000000.0   \n",
       "1        advertising             54    26350000.0    10000.0  105300000.0   \n",
       "24             other             46    21850000.0        1.0  105000000.0   \n",
       "13          hardware             44    20000000.0       49.0  100000000.0   \n",
       "26  public_relations             40    17750000.0    25000.0  116000000.0   \n",
       "30     semiconductor             38    30200000.0  1500000.0  105410000.0   \n",
       "22   network_hosting             34    26150000.0    10000.0  115000000.0   \n",
       "7          ecommerce             24    12650000.0       11.0  110000000.0   \n",
       "6         consulting             23    21500000.0   400000.0   95000000.0   \n",
       "5          cleantech             14    51190000.0   450000.0  110000000.0   \n",
       "29          security             13    36000000.0  1850000.0   95000000.0   \n",
       "28            search             13    10000000.0    50000.0  115000000.0   \n",
       "\n",
       "         spread  \n",
       "0   116999999.0  \n",
       "32  111998142.0  \n",
       "35  117495000.0  \n",
       "4   114891000.0  \n",
       "20  104995000.0  \n",
       "9   114980000.0  \n",
       "12  111999940.0  \n",
       "1   105290000.0  \n",
       "24  104999999.0  \n",
       "13   99999951.0  \n",
       "26  115975000.0  \n",
       "30  103910000.0  \n",
       "22  114990000.0  \n",
       "7   109999989.0  \n",
       "6    94600000.0  \n",
       "5   109550000.0  \n",
       "29   93150000.0  \n",
       "28  114950000.0  "
      ]
     },
     "metadata": {},
     "output_type": "display_data"
    },
    {
     "data": {
      "image/png": "[encoded data removed]",
      "text/plain": [
       "<Figure size 864x288 with 1 Axes>"
      ]
     },
     "metadata": {
      "needs_background": "light"
     },
     "output_type": "display_data"
    }
   ],
   "source": [
    "# Построим график столбчатой диаграммы\n",
    "startap_df = df.merge(acquis_df, left_on='company_id', right_on='acquired_company_id', how='left')\n",
    "\n",
    "# Для визуализации уберём экстемальные выбросы - 10% справа и price_amount = 0\n",
    "Q3 = startap_df['price_amount'].quantile(0.9)\n",
    "df_quantile = startap_df[(startap_df['price_amount'] < Q3) & (startap_df['price_amount'] > 0)]\n",
    "\n",
    "# Группируем для расчёта 'median', 'min', 'max'\n",
    "df_quantile_gr = df_quantile.groupby('category_code').agg(count_company = ('company_id', 'count'),\n",
    "                                                          median_price = ('price_amount', 'median'),\n",
    "                                                          min_price = ('price_amount', 'min'),\n",
    "                                                          max_price = ('price_amount', 'max'))\\\n",
    "                                                      .reset_index().sort_values(by='count_company', ascending=False)                          \n",
    "\n",
    "# Добавим колонку с Разбросом цен\n",
    "df_quantile_gr['spread'] = df_quantile_gr['max_price'] - df_quantile_gr['min_price']\n",
    "\n",
    "# Отбираем категории с кол-вом компаний более 10\n",
    "df_quantile_gr = df_quantile_gr[df_quantile_gr.count_company >= 10]\n",
    "display(df_quantile_gr)\n",
    "\n",
    "# Строим график разброса scatter\n",
    "df_quantile_gr.plot.scatter(x='median_price', \n",
    "                            y='spread', \n",
    "                            s='count_company',\n",
    "                            figsize=(12, 4))\n",
    "# Выводим график\n",
    "plt.show()"
   ]
  },
  {
   "cell_type": "markdown",
   "metadata": {},
   "source": [
    "При рассмотрении ТОП-10 категорий стартапов наиболее привлекательными являются mobile, health, social и biotech"
   ]
  },
  {
   "cell_type": "code",
   "execution_count": 35,
   "metadata": {},
   "outputs": [
    {
     "data": {
      "text/plain": [
       "0.0"
      ]
     },
     "execution_count": 35,
     "metadata": {},
     "output_type": "execute_result"
    }
   ],
   "source": [
    "# Проверим дубли\n",
    "# df_0[df_0.acquired_company_id.duplicated()==True].sort_values(by='acquired_company_id')\n",
    "# df_0[df_0.price_amount]\n",
    "acquis_df.price_amount.median()\n",
    "# acquis_df.info()"
   ]
  },
  {
   "cell_type": "markdown",
   "metadata": {
    "id": "ADOfyVY_rJg3"
   },
   "source": [
    "\n",
    "### 3.5. Сколько раундов продержится стартап перед покупкой\n",
    "\n"
   ]
  },
  {
   "cell_type": "code",
   "execution_count": 36,
   "metadata": {
    "id": "hgXMPC4WrJg3",
    "vscode": {
     "languageId": "plaintext"
    }
   },
   "outputs": [
    {
     "data": {
      "text/html": [
       "<div>\n",
       "<style scoped>\n",
       "    .dataframe tbody tr th:only-of-type {\n",
       "        vertical-align: middle;\n",
       "    }\n",
       "\n",
       "    .dataframe tbody tr th {\n",
       "        vertical-align: top;\n",
       "    }\n",
       "\n",
       "    .dataframe thead th {\n",
       "        text-align: right;\n",
       "    }\n",
       "</style>\n",
       "<table border=\"1\" class=\"dataframe\">\n",
       "  <thead>\n",
       "    <tr style=\"text-align: right;\">\n",
       "      <th></th>\n",
       "      <th>status</th>\n",
       "      <th>funding_rounds</th>\n",
       "    </tr>\n",
       "  </thead>\n",
       "  <tbody>\n",
       "    <tr>\n",
       "      <th>0</th>\n",
       "      <td>acquired</td>\n",
       "      <td>0.5</td>\n",
       "    </tr>\n",
       "    <tr>\n",
       "      <th>1</th>\n",
       "      <td>closed</td>\n",
       "      <td>1.4</td>\n",
       "    </tr>\n",
       "    <tr>\n",
       "      <th>2</th>\n",
       "      <td>operating</td>\n",
       "      <td>1.5</td>\n",
       "    </tr>\n",
       "    <tr>\n",
       "      <th>3</th>\n",
       "      <td>ipo</td>\n",
       "      <td>1.9</td>\n",
       "    </tr>\n",
       "  </tbody>\n",
       "</table>\n",
       "</div>"
      ],
      "text/plain": [
       "      status  funding_rounds\n",
       "0   acquired             0.5\n",
       "1     closed             1.4\n",
       "2  operating             1.5\n",
       "3        ipo             1.9"
      ]
     },
     "metadata": {},
     "output_type": "display_data"
    },
    {
     "data": {
      "image/png": "[encoded data removed]",
      "text/plain": [
       "<Figure size 864x288 with 1 Axes>"
      ]
     },
     "metadata": {
      "needs_background": "light"
     },
     "output_type": "display_data"
    }
   ],
   "source": [
    "rounds_df = df.groupby('status')['funding_rounds'].mean().sort_values().round(1).reset_index()\n",
    "display(rounds_df)\n",
    "\n",
    "rounds_df.plot( kind='barh',\n",
    "              title=f'Среднее кол-во раундов в зависимости от статуса стартапа',\n",
    "              legend=True,\n",
    "              ylabel='Сумма финансирования',\n",
    "              xlabel='Статус стартапа',\n",
    "              rot=0,\n",
    "              figsize=(12, 4))\n",
    "plt.grid()\n",
    "\n",
    "# Выводим график\n",
    "plt.show()"
   ]
  },
  {
   "cell_type": "markdown",
   "metadata": {
    "id": "pV3e7kw5Fj1Y"
   },
   "source": [
    "В среднем до 2 раундов финансирования проходило для стартапов в зависимости от группы. Самое большое значение 2 характерно для ipo (первичного публичного размещения акций)"
   ]
  },
  {
   "cell_type": "code",
   "execution_count": 39,
   "metadata": {},
   "outputs": [
    {
     "data": {
      "text/html": [
       "<div>\n",
       "<style scoped>\n",
       "    .dataframe tbody tr th:only-of-type {\n",
       "        vertical-align: middle;\n",
       "    }\n",
       "\n",
       "    .dataframe tbody tr th {\n",
       "        vertical-align: top;\n",
       "    }\n",
       "\n",
       "    .dataframe thead th {\n",
       "        text-align: right;\n",
       "    }\n",
       "</style>\n",
       "<table border=\"1\" class=\"dataframe\">\n",
       "  <thead>\n",
       "    <tr style=\"text-align: right;\">\n",
       "      <th></th>\n",
       "      <th>company_id</th>\n",
       "      <th>name</th>\n",
       "      <th>category_code</th>\n",
       "      <th>status</th>\n",
       "      <th>founded_at</th>\n",
       "      <th>closed_at</th>\n",
       "      <th>domain</th>\n",
       "      <th>network_username</th>\n",
       "      <th>country_code</th>\n",
       "      <th>investment_rounds</th>\n",
       "      <th>funding_rounds</th>\n",
       "      <th>funding_total</th>\n",
       "      <th>milestones</th>\n",
       "    </tr>\n",
       "  </thead>\n",
       "  <tbody>\n",
       "    <tr>\n",
       "      <th>0</th>\n",
       "      <td>1.0</td>\n",
       "      <td>Wetpaint</td>\n",
       "      <td>web</td>\n",
       "      <td>operating</td>\n",
       "      <td>2005-10-17</td>\n",
       "      <td>NaT</td>\n",
       "      <td>wetpaint-inc.com</td>\n",
       "      <td>BachelrWetpaint</td>\n",
       "      <td>USA</td>\n",
       "      <td>0.0</td>\n",
       "      <td>3.0</td>\n",
       "      <td>39750000.0</td>\n",
       "      <td>5.0</td>\n",
       "    </tr>\n",
       "    <tr>\n",
       "      <th>3</th>\n",
       "      <td>10.0</td>\n",
       "      <td>Flektor</td>\n",
       "      <td>games_video</td>\n",
       "      <td>acquired</td>\n",
       "      <td>NaT</td>\n",
       "      <td>NaT</td>\n",
       "      <td>flektor.com</td>\n",
       "      <td>-1</td>\n",
       "      <td>USA</td>\n",
       "      <td>0.0</td>\n",
       "      <td>0.0</td>\n",
       "      <td>0.0</td>\n",
       "      <td>0.0</td>\n",
       "    </tr>\n",
       "    <tr>\n",
       "      <th>4</th>\n",
       "      <td>100.0</td>\n",
       "      <td>There</td>\n",
       "      <td>games_video</td>\n",
       "      <td>acquired</td>\n",
       "      <td>NaT</td>\n",
       "      <td>NaT</td>\n",
       "      <td>there.com</td>\n",
       "      <td>-1</td>\n",
       "      <td>USA</td>\n",
       "      <td>0.0</td>\n",
       "      <td>0.0</td>\n",
       "      <td>0.0</td>\n",
       "      <td>4.0</td>\n",
       "    </tr>\n",
       "    <tr>\n",
       "      <th>5</th>\n",
       "      <td>10000.0</td>\n",
       "      <td>MYWEBBO</td>\n",
       "      <td>network_hosting</td>\n",
       "      <td>operating</td>\n",
       "      <td>2008-07-26</td>\n",
       "      <td>NaT</td>\n",
       "      <td>mywebbo.com</td>\n",
       "      <td>-1</td>\n",
       "      <td>-1</td>\n",
       "      <td>0.0</td>\n",
       "      <td>0.0</td>\n",
       "      <td>0.0</td>\n",
       "      <td>0.0</td>\n",
       "    </tr>\n",
       "    <tr>\n",
       "      <th>6</th>\n",
       "      <td>10001.0</td>\n",
       "      <td>THE Movie Streamer</td>\n",
       "      <td>games_video</td>\n",
       "      <td>operating</td>\n",
       "      <td>2008-07-26</td>\n",
       "      <td>NaT</td>\n",
       "      <td>themoviestreamer.com</td>\n",
       "      <td>-1</td>\n",
       "      <td>-1</td>\n",
       "      <td>0.0</td>\n",
       "      <td>0.0</td>\n",
       "      <td>0.0</td>\n",
       "      <td>0.0</td>\n",
       "    </tr>\n",
       "    <tr>\n",
       "      <th>...</th>\n",
       "      <td>...</td>\n",
       "      <td>...</td>\n",
       "      <td>...</td>\n",
       "      <td>...</td>\n",
       "      <td>...</td>\n",
       "      <td>...</td>\n",
       "      <td>...</td>\n",
       "      <td>...</td>\n",
       "      <td>...</td>\n",
       "      <td>...</td>\n",
       "      <td>...</td>\n",
       "      <td>...</td>\n",
       "      <td>...</td>\n",
       "    </tr>\n",
       "    <tr>\n",
       "      <th>217463</th>\n",
       "      <td>3429.0</td>\n",
       "      <td>Zend Technologies</td>\n",
       "      <td>software</td>\n",
       "      <td>operating</td>\n",
       "      <td>1999-01-01</td>\n",
       "      <td>NaT</td>\n",
       "      <td>zend.com</td>\n",
       "      <td>networkzend</td>\n",
       "      <td>USA</td>\n",
       "      <td>0.0</td>\n",
       "      <td>4.0</td>\n",
       "      <td>44000000.0</td>\n",
       "      <td>6.0</td>\n",
       "    </tr>\n",
       "    <tr>\n",
       "      <th>217467</th>\n",
       "      <td>7748.0</td>\n",
       "      <td>Flowgram</td>\n",
       "      <td>web</td>\n",
       "      <td>closed</td>\n",
       "      <td>2007-06-01</td>\n",
       "      <td>2008-06-11</td>\n",
       "      <td>flowgram.com</td>\n",
       "      <td>network</td>\n",
       "      <td>USA</td>\n",
       "      <td>0.0</td>\n",
       "      <td>1.0</td>\n",
       "      <td>1300000.0</td>\n",
       "      <td>3.0</td>\n",
       "    </tr>\n",
       "    <tr>\n",
       "      <th>217468</th>\n",
       "      <td>174536.0</td>\n",
       "      <td>Pphotonet</td>\n",
       "      <td>games_video</td>\n",
       "      <td>operating</td>\n",
       "      <td>2012-05-01</td>\n",
       "      <td>NaT</td>\n",
       "      <td>pPhotonet.co</td>\n",
       "      <td>pPhotonet</td>\n",
       "      <td>-1</td>\n",
       "      <td>0.0</td>\n",
       "      <td>0.0</td>\n",
       "      <td>0.0</td>\n",
       "      <td>0.0</td>\n",
       "    </tr>\n",
       "    <tr>\n",
       "      <th>217469</th>\n",
       "      <td>43233.0</td>\n",
       "      <td>Photonet</td>\n",
       "      <td>photo_video</td>\n",
       "      <td>acquired</td>\n",
       "      <td>2010-03-01</td>\n",
       "      <td>NaT</td>\n",
       "      <td>Photonet.com</td>\n",
       "      <td>Photonet</td>\n",
       "      <td>USA</td>\n",
       "      <td>0.0</td>\n",
       "      <td>3.0</td>\n",
       "      <td>57500000.0</td>\n",
       "      <td>3.0</td>\n",
       "    </tr>\n",
       "    <tr>\n",
       "      <th>217472</th>\n",
       "      <td>-1.0</td>\n",
       "      <td>NaN</td>\n",
       "      <td>-1</td>\n",
       "      <td>NaN</td>\n",
       "      <td>NaT</td>\n",
       "      <td>NaT</td>\n",
       "      <td>-1</td>\n",
       "      <td>-1</td>\n",
       "      <td>-1</td>\n",
       "      <td>NaN</td>\n",
       "      <td>NaN</td>\n",
       "      <td>NaN</td>\n",
       "      <td>NaN</td>\n",
       "    </tr>\n",
       "  </tbody>\n",
       "</table>\n",
       "<p>196554 rows × 13 columns</p>\n",
       "</div>"
      ],
      "text/plain": [
       "        company_id                name    category_code     status founded_at  \\\n",
       "0              1.0            Wetpaint              web  operating 2005-10-17   \n",
       "3             10.0             Flektor      games_video   acquired        NaT   \n",
       "4            100.0               There      games_video   acquired        NaT   \n",
       "5          10000.0             MYWEBBO  network_hosting  operating 2008-07-26   \n",
       "6          10001.0  THE Movie Streamer      games_video  operating 2008-07-26   \n",
       "...            ...                 ...              ...        ...        ...   \n",
       "217463      3429.0   Zend Technologies         software  operating 1999-01-01   \n",
       "217467      7748.0            Flowgram              web     closed 2007-06-01   \n",
       "217468    174536.0           Pphotonet      games_video  operating 2012-05-01   \n",
       "217469     43233.0            Photonet      photo_video   acquired 2010-03-01   \n",
       "217472        -1.0                 NaN               -1        NaN        NaT   \n",
       "\n",
       "        closed_at                domain network_username country_code  \\\n",
       "0             NaT      wetpaint-inc.com  BachelrWetpaint          USA   \n",
       "3             NaT           flektor.com               -1          USA   \n",
       "4             NaT             there.com               -1          USA   \n",
       "5             NaT           mywebbo.com               -1           -1   \n",
       "6             NaT  themoviestreamer.com               -1           -1   \n",
       "...           ...                   ...              ...          ...   \n",
       "217463        NaT              zend.com      networkzend          USA   \n",
       "217467 2008-06-11          flowgram.com          network          USA   \n",
       "217468        NaT          pPhotonet.co        pPhotonet           -1   \n",
       "217469        NaT          Photonet.com         Photonet          USA   \n",
       "217472        NaT                    -1               -1           -1   \n",
       "\n",
       "        investment_rounds  funding_rounds  funding_total  milestones  \n",
       "0                     0.0             3.0     39750000.0         5.0  \n",
       "3                     0.0             0.0            0.0         0.0  \n",
       "4                     0.0             0.0            0.0         4.0  \n",
       "5                     0.0             0.0            0.0         0.0  \n",
       "6                     0.0             0.0            0.0         0.0  \n",
       "...                   ...             ...            ...         ...  \n",
       "217463                0.0             4.0     44000000.0         6.0  \n",
       "217467                0.0             1.0      1300000.0         3.0  \n",
       "217468                0.0             0.0            0.0         0.0  \n",
       "217469                0.0             3.0     57500000.0         3.0  \n",
       "217472                NaN             NaN            NaN         NaN  \n",
       "\n",
       "[196554 rows x 13 columns]"
      ]
     },
     "execution_count": 39,
     "metadata": {},
     "output_type": "execute_result"
    }
   ],
   "source": [
    "fund_df"
   ]
  },
  {
   "cell_type": "code",
   "execution_count": 40,
   "metadata": {},
   "outputs": [
    {
     "name": "stdout",
     "output_type": "stream",
     "text": [
      "0 15\n",
      "range(0, 16, 2)\n"
     ]
    },
    {
     "data": {
      "image/png": "[encoded data removed]",
      "text/plain": [
       "<Figure size 720x288 with 1 Axes>"
      ]
     },
     "metadata": {
      "needs_background": "light"
     },
     "output_type": "display_data"
    }
   ],
   "source": [
    "# Строим гистограмму распределения значений возраста\n",
    "# Создаём фигуру графика\n",
    "plt.figure(figsize=(10, 4))\n",
    "\n",
    "# Находим минимальное и максимальное значения\n",
    "min_value = df['funding_rounds'].astype('int').min()\n",
    "max_value = df['funding_rounds'].astype('int').max()\n",
    "print(min_value, max_value)\n",
    "print(range(min_value, max_value+1, 2))\n",
    "# Строим гистограммы для каждого значения churn\n",
    "for i in df['status'].unique():\n",
    "    # Фильтруем данные по значению столбца status\n",
    "    df.loc[df['status'] == i, 'funding_rounds'].plot(\n",
    "        kind='hist',\n",
    "        density=True,\n",
    "        bins=20, #range(min_value, max_value+1),\n",
    "        alpha=0.5,\n",
    "        edgecolor='w',\n",
    "        label=f'{i}',\n",
    "        legend=True\n",
    "    )\n",
    "\n",
    "# Настраиваем внешний вид графика и выводим его на экран\n",
    "plt.title(f'Сравнение распределение раундов финансирования в зависимости от статуса')\n",
    "plt.xlabel('Раунды финансирования funding_rounds ')\n",
    "plt.ylabel('Плотность вероятности')\n",
    "plt.legend(title='Значение status')\n",
    "\n",
    "plt.show()"
   ]
  },
  {
   "cell_type": "markdown",
   "metadata": {
    "id": "VAFEZ2HBrJg3"
   },
   "source": [
    "\n",
    "## Шаг 4. Итоговый вывод и рекомендации\n",
    "\n"
   ]
  },
  {
   "cell_type": "markdown",
   "metadata": {},
   "source": [
    "Общий обзор проделанной работы.\n",
    "В ходе исследования были проанализированы данные о инвестировании и финансировании стартапов. \n",
    "- Первичноый анализ полноты данных показывает, что данные невысокого качества — присутствует существенное количество свыще 50% пропущенных значений по части информациию. 76% пропущенных данных о фининсаровании и более 80% пропусков в данных связывающих информацию о сотрудниках с компаниями (company_id). Данных для корректного анализа не достаточно.\n",
    "- датасет company_and_rounds.csv которы содержит избыточную информацию с больши количеством дублей был разделён на две таблицы, что уменьшает повышает размер облегчает работу и исключает дополнительные группировки\n",
    "На основе полученных данных можно сделать следующие выводы:\n",
    "- В 2005 году типичный размер собранных в рамках одного раунда средств был максимален\n",
    "- В 2013 году наблюдается тенденуия к высокому значение количеству раундов с выделениеме в рамках каждого раунда незначительных средств\n",
    "- Большое количество мелких стартапов, которые активно финансируется, что приводит к росту раундов, и росту суммарных инвестиций\n",
    "- Распределение данных по сумме финансирования стартапов характеризуется широким разбросом и длинным «хвостом» в правой части гистограммы. Такие высокие значения можно отнести к выбросам \n",
    "- При рассмотрении ТОП-10 категорий стартапов наиболее привлекательными являются mobile, health, social и biotech\n",
    "- В среднем до 2 раундов финансирования проходило для стартапов в зависимости от группы. Самое большое значение 2 характерно для ipo\n",
    "Данные неполны, поэтому необходимо аккуратно относиться к получаемым в процессе исследования значениям показателей и выводам.\n",
    "\n",
    "\n",
    "\n",
    "\n",
    "\n"
   ]
  },
  {
   "cell_type": "code",
   "execution_count": null,
   "metadata": {},
   "outputs": [],
   "source": []
  }
 ],
 "metadata": {
  "ExecuteTimeLog": [
   {
    "duration": 1371,
    "start_time": "2025-05-07T06:56:40.859Z"
   },
   {
    "duration": 2089,
    "start_time": "2025-05-07T06:56:42.790Z"
   },
   {
    "duration": 4,
    "start_time": "2025-05-07T06:56:44.881Z"
   },
   {
    "duration": 7,
    "start_time": "2025-05-07T06:57:24.179Z"
   },
   {
    "duration": 4,
    "start_time": "2025-05-07T07:01:45.215Z"
   },
   {
    "duration": 99,
    "start_time": "2025-05-07T07:02:14.992Z"
   },
   {
    "duration": 83,
    "start_time": "2025-05-07T07:02:55.952Z"
   },
   {
    "duration": 102,
    "start_time": "2025-05-07T07:03:26.616Z"
   },
   {
    "duration": 4,
    "start_time": "2025-05-07T07:03:54.901Z"
   },
   {
    "duration": 112,
    "start_time": "2025-05-07T07:07:31.565Z"
   },
   {
    "duration": 3,
    "start_time": "2025-05-07T07:08:28.067Z"
   },
   {
    "duration": 98,
    "start_time": "2025-05-07T07:10:45.602Z"
   },
   {
    "duration": 10,
    "start_time": "2025-05-07T07:23:57.166Z"
   },
   {
    "duration": 10,
    "start_time": "2025-05-07T07:24:48.807Z"
   },
   {
    "duration": 4,
    "start_time": "2025-05-07T07:28:59.468Z"
   },
   {
    "duration": 3,
    "start_time": "2025-05-08T16:08:01.913Z"
   },
   {
    "duration": 1457,
    "start_time": "2025-05-08T16:08:01.919Z"
   },
   {
    "duration": 2187,
    "start_time": "2025-05-08T16:08:03.378Z"
   },
   {
    "duration": 4,
    "start_time": "2025-05-08T16:08:05.567Z"
   },
   {
    "duration": 74,
    "start_time": "2025-05-08T16:16:56.709Z"
   },
   {
    "duration": 73,
    "start_time": "2025-05-08T16:17:56.958Z"
   },
   {
    "duration": 3,
    "start_time": "2025-05-08T16:25:06.637Z"
   },
   {
    "duration": 1213,
    "start_time": "2025-05-08T16:25:06.642Z"
   },
   {
    "duration": 1770,
    "start_time": "2025-05-08T16:25:07.856Z"
   },
   {
    "duration": 4,
    "start_time": "2025-05-08T16:25:09.627Z"
   },
   {
    "duration": 0,
    "start_time": "2025-05-08T16:25:09.636Z"
   },
   {
    "duration": 70,
    "start_time": "2025-05-08T16:27:40.910Z"
   },
   {
    "duration": 101,
    "start_time": "2025-05-08T16:35:28.364Z"
   },
   {
    "duration": 10,
    "start_time": "2025-05-08T16:36:23.638Z"
   },
   {
    "duration": 9,
    "start_time": "2025-05-08T16:36:33.836Z"
   },
   {
    "duration": 10,
    "start_time": "2025-05-08T16:37:00.886Z"
   },
   {
    "duration": 10,
    "start_time": "2025-05-08T16:37:16.517Z"
   },
   {
    "duration": 10,
    "start_time": "2025-05-08T16:40:13.583Z"
   },
   {
    "duration": 6,
    "start_time": "2025-05-08T16:40:55.782Z"
   },
   {
    "duration": 4,
    "start_time": "2025-05-08T16:41:17.512Z"
   },
   {
    "duration": 4,
    "start_time": "2025-05-08T16:41:51.657Z"
   },
   {
    "duration": 5,
    "start_time": "2025-05-08T16:43:44.209Z"
   },
   {
    "duration": 5,
    "start_time": "2025-05-08T16:44:43.553Z"
   },
   {
    "duration": 5,
    "start_time": "2025-05-08T16:46:44.890Z"
   },
   {
    "duration": 75,
    "start_time": "2025-05-08T16:47:11.196Z"
   },
   {
    "duration": 83,
    "start_time": "2025-05-08T16:47:26.340Z"
   },
   {
    "duration": 5,
    "start_time": "2025-05-08T16:47:39.060Z"
   },
   {
    "duration": 5,
    "start_time": "2025-05-08T16:48:35.149Z"
   },
   {
    "duration": 8,
    "start_time": "2025-05-08T16:57:20.650Z"
   },
   {
    "duration": 7,
    "start_time": "2025-05-08T16:57:40.489Z"
   },
   {
    "duration": 5,
    "start_time": "2025-05-08T16:58:12.105Z"
   },
   {
    "duration": 5,
    "start_time": "2025-05-08T16:58:16.145Z"
   },
   {
    "duration": 204,
    "start_time": "2025-05-08T17:01:39.430Z"
   },
   {
    "duration": 205,
    "start_time": "2025-05-08T17:03:10.877Z"
   },
   {
    "duration": 198,
    "start_time": "2025-05-08T17:04:04.142Z"
   },
   {
    "duration": 196,
    "start_time": "2025-05-08T17:06:43.361Z"
   },
   {
    "duration": 6,
    "start_time": "2025-05-08T17:09:49.633Z"
   },
   {
    "duration": 11,
    "start_time": "2025-05-08T17:10:03.565Z"
   },
   {
    "duration": 20,
    "start_time": "2025-05-08T17:10:59.209Z"
   },
   {
    "duration": 18,
    "start_time": "2025-05-08T17:11:20.139Z"
   },
   {
    "duration": 250,
    "start_time": "2025-05-08T17:11:32.701Z"
   },
   {
    "duration": 232,
    "start_time": "2025-05-08T17:13:09.085Z"
   },
   {
    "duration": 21,
    "start_time": "2025-05-08T17:24:45.605Z"
   },
   {
    "duration": 20,
    "start_time": "2025-05-08T17:25:16.947Z"
   },
   {
    "duration": 20,
    "start_time": "2025-05-08T17:27:08.389Z"
   },
   {
    "duration": 20,
    "start_time": "2025-05-08T17:27:25.230Z"
   },
   {
    "duration": 23,
    "start_time": "2025-05-08T17:29:09.008Z"
   },
   {
    "duration": 20,
    "start_time": "2025-05-08T17:29:35.113Z"
   },
   {
    "duration": 22,
    "start_time": "2025-05-08T17:30:06.712Z"
   },
   {
    "duration": 20,
    "start_time": "2025-05-08T17:30:29.761Z"
   },
   {
    "duration": 23,
    "start_time": "2025-05-08T17:31:05.902Z"
   },
   {
    "duration": 19,
    "start_time": "2025-05-08T17:31:34.696Z"
   },
   {
    "duration": 22,
    "start_time": "2025-05-08T17:35:48.147Z"
   },
   {
    "duration": 26,
    "start_time": "2025-05-08T17:37:23.628Z"
   },
   {
    "duration": 31,
    "start_time": "2025-05-08T17:39:40.649Z"
   },
   {
    "duration": 30,
    "start_time": "2025-05-08T17:40:18.431Z"
   },
   {
    "duration": 28,
    "start_time": "2025-05-08T17:40:43.198Z"
   },
   {
    "duration": 24,
    "start_time": "2025-05-08T17:41:26.958Z"
   },
   {
    "duration": 20,
    "start_time": "2025-05-08T17:44:33.001Z"
   },
   {
    "duration": 22,
    "start_time": "2025-05-08T17:45:11.601Z"
   },
   {
    "duration": 21,
    "start_time": "2025-05-08T17:45:40.705Z"
   },
   {
    "duration": 26,
    "start_time": "2025-05-08T17:46:24.427Z"
   },
   {
    "duration": 6,
    "start_time": "2025-05-08T17:47:53.266Z"
   },
   {
    "duration": 5,
    "start_time": "2025-05-08T17:48:18.788Z"
   },
   {
    "duration": 6,
    "start_time": "2025-05-08T17:48:42.316Z"
   },
   {
    "duration": 4,
    "start_time": "2025-05-08T17:49:14.261Z"
   },
   {
    "duration": 1208,
    "start_time": "2025-05-08T17:49:14.266Z"
   },
   {
    "duration": 1763,
    "start_time": "2025-05-08T17:49:15.476Z"
   },
   {
    "duration": 5,
    "start_time": "2025-05-08T17:49:17.241Z"
   },
   {
    "duration": 8,
    "start_time": "2025-05-08T17:49:17.248Z"
   },
   {
    "duration": 259,
    "start_time": "2025-05-08T17:49:17.257Z"
   },
   {
    "duration": 35,
    "start_time": "2025-05-08T17:49:17.517Z"
   },
   {
    "duration": 4,
    "start_time": "2025-05-08T17:49:44.395Z"
   },
   {
    "duration": 1262,
    "start_time": "2025-05-08T17:49:44.402Z"
   },
   {
    "duration": 1631,
    "start_time": "2025-05-08T17:49:45.665Z"
   },
   {
    "duration": 5,
    "start_time": "2025-05-08T17:49:47.298Z"
   },
   {
    "duration": 14,
    "start_time": "2025-05-08T17:49:47.305Z"
   },
   {
    "duration": 261,
    "start_time": "2025-05-08T17:49:47.320Z"
   },
   {
    "duration": 22,
    "start_time": "2025-05-08T17:49:47.583Z"
   },
   {
    "duration": 21,
    "start_time": "2025-05-08T17:51:17.538Z"
   },
   {
    "duration": 21,
    "start_time": "2025-05-08T17:52:55.371Z"
   },
   {
    "duration": 19,
    "start_time": "2025-05-08T17:53:48.635Z"
   },
   {
    "duration": 17,
    "start_time": "2025-05-08T18:36:30.813Z"
   },
   {
    "duration": 84,
    "start_time": "2025-05-08T18:38:04.057Z"
   },
   {
    "duration": 241,
    "start_time": "2025-05-08T18:38:41.523Z"
   },
   {
    "duration": 238,
    "start_time": "2025-05-08T18:39:29.678Z"
   },
   {
    "duration": 111,
    "start_time": "2025-05-08T18:54:11.087Z"
   },
   {
    "duration": 14,
    "start_time": "2025-05-08T18:57:27.207Z"
   },
   {
    "duration": 12,
    "start_time": "2025-05-08T18:59:57.176Z"
   },
   {
    "duration": 13,
    "start_time": "2025-05-08T19:00:30.457Z"
   },
   {
    "duration": 8,
    "start_time": "2025-05-08T19:01:28.354Z"
   },
   {
    "duration": 75,
    "start_time": "2025-05-08T19:02:57.387Z"
   },
   {
    "duration": 142,
    "start_time": "2025-05-08T19:03:34.006Z"
   },
   {
    "duration": 263,
    "start_time": "2025-05-08T19:04:43.986Z"
   },
   {
    "duration": 18,
    "start_time": "2025-05-08T19:06:30.359Z"
   },
   {
    "duration": 18,
    "start_time": "2025-05-08T19:06:41.701Z"
   },
   {
    "duration": 171,
    "start_time": "2025-05-08T19:07:16.414Z"
   },
   {
    "duration": 163,
    "start_time": "2025-05-08T19:08:12.341Z"
   },
   {
    "duration": 93,
    "start_time": "2025-05-08T19:09:48.746Z"
   },
   {
    "duration": 165,
    "start_time": "2025-05-08T19:39:10.965Z"
   },
   {
    "duration": 16,
    "start_time": "2025-05-08T19:39:24.282Z"
   },
   {
    "duration": 241,
    "start_time": "2025-05-08T19:40:14.405Z"
   },
   {
    "duration": 110,
    "start_time": "2025-05-08T19:40:52.099Z"
   },
   {
    "duration": 100,
    "start_time": "2025-05-08T19:41:34.973Z"
   },
   {
    "duration": 124,
    "start_time": "2025-05-08T19:42:01.077Z"
   },
   {
    "duration": 168,
    "start_time": "2025-05-08T19:43:57.349Z"
   },
   {
    "duration": 166,
    "start_time": "2025-05-08T19:44:33.815Z"
   },
   {
    "duration": 171,
    "start_time": "2025-05-08T19:45:23.976Z"
   },
   {
    "duration": 6,
    "start_time": "2025-05-08T19:46:19.032Z"
   },
   {
    "duration": 83,
    "start_time": "2025-05-08T19:54:09.894Z"
   },
   {
    "duration": 149,
    "start_time": "2025-05-08T19:54:19.920Z"
   },
   {
    "duration": 146,
    "start_time": "2025-05-08T19:55:57.389Z"
   },
   {
    "duration": 152,
    "start_time": "2025-05-08T19:56:32.269Z"
   },
   {
    "duration": 151,
    "start_time": "2025-05-08T19:57:16.497Z"
   },
   {
    "duration": 174,
    "start_time": "2025-05-08T19:58:14.317Z"
   },
   {
    "duration": 133,
    "start_time": "2025-05-08T19:59:01.247Z"
   },
   {
    "duration": 155,
    "start_time": "2025-05-08T19:59:37.854Z"
   },
   {
    "duration": 150,
    "start_time": "2025-05-08T20:00:28.783Z"
   },
   {
    "duration": 157,
    "start_time": "2025-05-08T20:00:55.256Z"
   },
   {
    "duration": 166,
    "start_time": "2025-05-08T20:01:01.064Z"
   },
   {
    "duration": 158,
    "start_time": "2025-05-08T20:01:22.209Z"
   },
   {
    "duration": 288,
    "start_time": "2025-05-08T20:02:50.274Z"
   },
   {
    "duration": 294,
    "start_time": "2025-05-08T20:03:22.723Z"
   },
   {
    "duration": 293,
    "start_time": "2025-05-08T20:04:50.130Z"
   },
   {
    "duration": 291,
    "start_time": "2025-05-08T20:05:06.578Z"
   },
   {
    "duration": 241,
    "start_time": "2025-05-08T20:10:36.414Z"
   },
   {
    "duration": 3,
    "start_time": "2025-05-09T01:42:31.821Z"
   },
   {
    "duration": 1428,
    "start_time": "2025-05-09T01:42:31.825Z"
   },
   {
    "duration": 2382,
    "start_time": "2025-05-09T01:42:33.255Z"
   },
   {
    "duration": 5,
    "start_time": "2025-05-09T01:42:35.639Z"
   },
   {
    "duration": 22,
    "start_time": "2025-05-09T01:42:35.646Z"
   },
   {
    "duration": 287,
    "start_time": "2025-05-09T01:42:35.670Z"
   },
   {
    "duration": 16,
    "start_time": "2025-05-09T01:42:35.959Z"
   },
   {
    "duration": 324,
    "start_time": "2025-05-09T01:42:35.977Z"
   },
   {
    "duration": 155,
    "start_time": "2025-05-09T01:42:36.304Z"
   },
   {
    "duration": 74,
    "start_time": "2025-05-09T01:49:16.644Z"
   },
   {
    "duration": 78,
    "start_time": "2025-05-09T01:49:54.661Z"
   },
   {
    "duration": 83,
    "start_time": "2025-05-09T01:50:16.715Z"
   },
   {
    "duration": 109,
    "start_time": "2025-05-09T01:50:36.709Z"
   },
   {
    "duration": 75,
    "start_time": "2025-05-09T01:50:50.917Z"
   },
   {
    "duration": 23,
    "start_time": "2025-05-09T01:51:06.806Z"
   },
   {
    "duration": 159,
    "start_time": "2025-05-09T01:51:49.647Z"
   },
   {
    "duration": 1349,
    "start_time": "2025-05-09T02:09:14.961Z"
   },
   {
    "duration": 1257,
    "start_time": "2025-05-09T02:09:45.933Z"
   },
   {
    "duration": 19,
    "start_time": "2025-05-09T02:10:54.144Z"
   },
   {
    "duration": 140,
    "start_time": "2025-05-09T02:14:56.555Z"
   },
   {
    "duration": 168,
    "start_time": "2025-05-09T02:15:19.060Z"
   },
   {
    "duration": 110,
    "start_time": "2025-05-09T02:19:36.344Z"
   },
   {
    "duration": 20,
    "start_time": "2025-05-09T02:20:40.473Z"
   },
   {
    "duration": 24,
    "start_time": "2025-05-09T02:20:49.328Z"
   },
   {
    "duration": 93,
    "start_time": "2025-05-09T02:21:13.314Z"
   },
   {
    "duration": 20,
    "start_time": "2025-05-09T02:22:48.124Z"
   },
   {
    "duration": 43,
    "start_time": "2025-05-09T02:23:52.970Z"
   },
   {
    "duration": 83,
    "start_time": "2025-05-09T02:26:34.397Z"
   },
   {
    "duration": 78,
    "start_time": "2025-05-09T02:29:00.679Z"
   },
   {
    "duration": 102,
    "start_time": "2025-05-09T02:29:10.151Z"
   },
   {
    "duration": 50,
    "start_time": "2025-05-09T02:32:44.767Z"
   },
   {
    "duration": 4,
    "start_time": "2025-05-09T17:22:44.443Z"
   },
   {
    "duration": 1605,
    "start_time": "2025-05-09T17:22:44.449Z"
   },
   {
    "duration": 2060,
    "start_time": "2025-05-09T17:22:46.055Z"
   },
   {
    "duration": 5,
    "start_time": "2025-05-09T17:22:48.117Z"
   },
   {
    "duration": 53,
    "start_time": "2025-05-09T17:22:48.124Z"
   },
   {
    "duration": 310,
    "start_time": "2025-05-09T17:22:48.179Z"
   },
   {
    "duration": 18,
    "start_time": "2025-05-09T17:22:48.490Z"
   },
   {
    "duration": 308,
    "start_time": "2025-05-09T17:22:48.510Z"
   },
   {
    "duration": 180,
    "start_time": "2025-05-09T17:22:48.820Z"
   },
   {
    "duration": 106,
    "start_time": "2025-05-09T17:22:49.002Z"
   },
   {
    "duration": 60,
    "start_time": "2025-05-09T17:25:24.167Z"
   },
   {
    "duration": 10,
    "start_time": "2025-05-09T17:26:31.070Z"
   },
   {
    "duration": 17,
    "start_time": "2025-05-09T17:26:51.951Z"
   },
   {
    "duration": 122,
    "start_time": "2025-05-09T17:27:54.830Z"
   },
   {
    "duration": 16,
    "start_time": "2025-05-09T17:30:51.875Z"
   },
   {
    "duration": 15,
    "start_time": "2025-05-09T17:32:32.057Z"
   },
   {
    "duration": 78,
    "start_time": "2025-05-09T17:32:42.483Z"
   },
   {
    "duration": 18,
    "start_time": "2025-05-09T17:32:53.994Z"
   },
   {
    "duration": 15,
    "start_time": "2025-05-09T17:33:10.275Z"
   },
   {
    "duration": 17,
    "start_time": "2025-05-09T17:33:20.202Z"
   },
   {
    "duration": 7,
    "start_time": "2025-05-09T17:33:56.499Z"
   },
   {
    "duration": 10,
    "start_time": "2025-05-09T17:34:12.075Z"
   },
   {
    "duration": 3,
    "start_time": "2025-05-10T13:23:45.326Z"
   },
   {
    "duration": 1533,
    "start_time": "2025-05-10T13:23:45.331Z"
   },
   {
    "duration": 4859,
    "start_time": "2025-05-10T13:23:46.866Z"
   },
   {
    "duration": 5,
    "start_time": "2025-05-10T13:23:51.727Z"
   },
   {
    "duration": 22,
    "start_time": "2025-05-10T13:23:51.734Z"
   },
   {
    "duration": 372,
    "start_time": "2025-05-10T13:23:51.760Z"
   },
   {
    "duration": 48,
    "start_time": "2025-05-10T13:23:52.134Z"
   },
   {
    "duration": 321,
    "start_time": "2025-05-10T13:23:52.184Z"
   },
   {
    "duration": 158,
    "start_time": "2025-05-10T13:23:52.507Z"
   },
   {
    "duration": 103,
    "start_time": "2025-05-10T13:23:52.667Z"
   },
   {
    "duration": 99,
    "start_time": "2025-05-10T13:23:52.772Z"
   },
   {
    "duration": 6,
    "start_time": "2025-05-10T13:23:52.873Z"
   },
   {
    "duration": 53,
    "start_time": "2025-05-10T13:26:19.586Z"
   },
   {
    "duration": 52,
    "start_time": "2025-05-10T13:31:07.318Z"
   },
   {
    "duration": 128,
    "start_time": "2025-05-10T13:34:34.630Z"
   },
   {
    "duration": 50,
    "start_time": "2025-05-10T13:34:43.198Z"
   },
   {
    "duration": 154,
    "start_time": "2025-05-10T13:36:39.063Z"
   },
   {
    "duration": 1112,
    "start_time": "2025-05-10T13:40:34.721Z"
   },
   {
    "duration": 43,
    "start_time": "2025-05-10T13:40:59.906Z"
   },
   {
    "duration": 45,
    "start_time": "2025-05-10T13:42:27.051Z"
   },
   {
    "duration": 142,
    "start_time": "2025-05-10T13:47:08.957Z"
   },
   {
    "duration": 60,
    "start_time": "2025-05-10T13:47:24.662Z"
   },
   {
    "duration": 120,
    "start_time": "2025-05-10T13:47:59.073Z"
   },
   {
    "duration": 41,
    "start_time": "2025-05-10T13:50:23.104Z"
   },
   {
    "duration": 56,
    "start_time": "2025-05-10T13:53:57.290Z"
   },
   {
    "duration": 70,
    "start_time": "2025-05-10T13:54:34.354Z"
   },
   {
    "duration": 56,
    "start_time": "2025-05-10T13:55:55.180Z"
   },
   {
    "duration": 77,
    "start_time": "2025-05-10T13:55:59.579Z"
   },
   {
    "duration": 79,
    "start_time": "2025-05-10T13:56:32.451Z"
   },
   {
    "duration": 57,
    "start_time": "2025-05-10T13:58:17.092Z"
   },
   {
    "duration": 1029,
    "start_time": "2025-05-10T13:58:27.583Z"
   },
   {
    "duration": 69,
    "start_time": "2025-05-10T13:59:43.406Z"
   },
   {
    "duration": 47,
    "start_time": "2025-05-10T14:10:13.606Z"
   },
   {
    "duration": 44,
    "start_time": "2025-05-10T14:10:25.480Z"
   },
   {
    "duration": 60,
    "start_time": "2025-05-10T14:10:34.759Z"
   },
   {
    "duration": 58,
    "start_time": "2025-05-10T14:11:04.470Z"
   },
   {
    "duration": 1309,
    "start_time": "2025-05-10T14:12:40.568Z"
   },
   {
    "duration": 1299,
    "start_time": "2025-05-10T14:13:11.969Z"
   },
   {
    "duration": 99,
    "start_time": "2025-05-10T14:14:34.882Z"
   },
   {
    "duration": 49,
    "start_time": "2025-05-10T14:15:09.970Z"
   },
   {
    "duration": 45,
    "start_time": "2025-05-10T14:21:05.949Z"
   },
   {
    "duration": 41,
    "start_time": "2025-05-10T15:14:51.591Z"
   },
   {
    "duration": 59,
    "start_time": "2025-05-10T15:15:45.271Z"
   },
   {
    "duration": 54,
    "start_time": "2025-05-10T15:18:18.537Z"
   },
   {
    "duration": 26,
    "start_time": "2025-05-10T15:19:32.674Z"
   },
   {
    "duration": 50,
    "start_time": "2025-05-10T15:19:50.858Z"
   },
   {
    "duration": 45,
    "start_time": "2025-05-10T15:25:37.590Z"
   },
   {
    "duration": 47,
    "start_time": "2025-05-10T15:26:23.182Z"
   },
   {
    "duration": 52,
    "start_time": "2025-05-10T15:26:42.337Z"
   },
   {
    "duration": 52,
    "start_time": "2025-05-10T15:26:55.326Z"
   },
   {
    "duration": 50,
    "start_time": "2025-05-10T15:28:43.598Z"
   },
   {
    "duration": 69,
    "start_time": "2025-05-10T15:29:02.761Z"
   },
   {
    "duration": 53,
    "start_time": "2025-05-10T15:29:51.546Z"
   },
   {
    "duration": 62,
    "start_time": "2025-05-10T15:30:21.171Z"
   },
   {
    "duration": 47,
    "start_time": "2025-05-10T15:31:12.002Z"
   },
   {
    "duration": 50,
    "start_time": "2025-05-10T15:32:15.236Z"
   },
   {
    "duration": 88,
    "start_time": "2025-05-10T15:34:47.054Z"
   },
   {
    "duration": 82,
    "start_time": "2025-05-10T15:37:24.741Z"
   },
   {
    "duration": 77,
    "start_time": "2025-05-10T15:39:13.367Z"
   },
   {
    "duration": 76,
    "start_time": "2025-05-10T15:39:21.510Z"
   },
   {
    "duration": 78,
    "start_time": "2025-05-10T15:39:31.265Z"
   },
   {
    "duration": 73,
    "start_time": "2025-05-10T15:43:30.049Z"
   },
   {
    "duration": 85,
    "start_time": "2025-05-10T15:43:37.417Z"
   },
   {
    "duration": 75,
    "start_time": "2025-05-10T15:46:38.540Z"
   },
   {
    "duration": 59,
    "start_time": "2025-05-10T15:47:19.149Z"
   },
   {
    "duration": 1002,
    "start_time": "2025-05-10T15:50:55.637Z"
   },
   {
    "duration": 321,
    "start_time": "2025-05-10T15:58:05.103Z"
   },
   {
    "duration": 966,
    "start_time": "2025-05-10T15:58:43.550Z"
   },
   {
    "duration": 383,
    "start_time": "2025-05-10T15:59:39.354Z"
   },
   {
    "duration": 458,
    "start_time": "2025-05-10T16:02:21.687Z"
   },
   {
    "duration": 488,
    "start_time": "2025-05-10T16:02:40.053Z"
   },
   {
    "duration": 64,
    "start_time": "2025-05-10T16:03:34.435Z"
   },
   {
    "duration": 440,
    "start_time": "2025-05-10T16:03:39.391Z"
   },
   {
    "duration": 255,
    "start_time": "2025-05-10T16:04:09.781Z"
   },
   {
    "duration": 276,
    "start_time": "2025-05-10T16:04:49.648Z"
   },
   {
    "duration": 266,
    "start_time": "2025-05-10T16:05:06.039Z"
   },
   {
    "duration": 466,
    "start_time": "2025-05-10T16:08:37.322Z"
   },
   {
    "duration": 297,
    "start_time": "2025-05-10T16:08:56.028Z"
   },
   {
    "duration": 310,
    "start_time": "2025-05-10T16:09:51.708Z"
   },
   {
    "duration": 86,
    "start_time": "2025-05-10T16:21:02.172Z"
   },
   {
    "duration": 82,
    "start_time": "2025-05-10T16:21:22.017Z"
   },
   {
    "duration": 94,
    "start_time": "2025-05-10T16:22:03.592Z"
   },
   {
    "duration": 82,
    "start_time": "2025-05-10T16:23:01.126Z"
   },
   {
    "duration": 105,
    "start_time": "2025-05-10T16:25:00.222Z"
   },
   {
    "duration": 78,
    "start_time": "2025-05-10T16:26:48.757Z"
   },
   {
    "duration": 51,
    "start_time": "2025-05-10T16:27:22.024Z"
   },
   {
    "duration": 40,
    "start_time": "2025-05-10T16:27:41.311Z"
   },
   {
    "duration": 42,
    "start_time": "2025-05-10T16:27:52.304Z"
   },
   {
    "duration": 278,
    "start_time": "2025-05-10T16:28:23.103Z"
   },
   {
    "duration": 3,
    "start_time": "2025-05-10T16:28:52.313Z"
   },
   {
    "duration": 14,
    "start_time": "2025-05-10T16:47:07.205Z"
   },
   {
    "duration": 16,
    "start_time": "2025-05-10T16:48:42.051Z"
   },
   {
    "duration": 42,
    "start_time": "2025-05-10T16:49:43.933Z"
   },
   {
    "duration": 16,
    "start_time": "2025-05-10T16:50:46.397Z"
   },
   {
    "duration": 33,
    "start_time": "2025-05-10T16:51:00.349Z"
   },
   {
    "duration": 32,
    "start_time": "2025-05-10T16:51:12.190Z"
   },
   {
    "duration": 34,
    "start_time": "2025-05-10T16:52:01.454Z"
   },
   {
    "duration": 96,
    "start_time": "2025-05-10T16:56:45.331Z"
   },
   {
    "duration": 4,
    "start_time": "2025-05-11T08:20:00.962Z"
   },
   {
    "duration": 1498,
    "start_time": "2025-05-11T08:20:00.968Z"
   },
   {
    "duration": 2033,
    "start_time": "2025-05-11T08:20:02.468Z"
   },
   {
    "duration": 6,
    "start_time": "2025-05-11T08:20:04.503Z"
   },
   {
    "duration": 33,
    "start_time": "2025-05-11T08:20:04.512Z"
   },
   {
    "duration": 325,
    "start_time": "2025-05-11T08:20:04.547Z"
   },
   {
    "duration": 44,
    "start_time": "2025-05-11T08:20:04.874Z"
   },
   {
    "duration": 42,
    "start_time": "2025-05-11T08:20:04.920Z"
   },
   {
    "duration": 24,
    "start_time": "2025-05-11T08:20:04.964Z"
   },
   {
    "duration": 344,
    "start_time": "2025-05-11T08:20:04.990Z"
   },
   {
    "duration": 224,
    "start_time": "2025-05-11T08:20:05.336Z"
   },
   {
    "duration": 68,
    "start_time": "2025-05-11T08:20:05.562Z"
   },
   {
    "duration": 320,
    "start_time": "2025-05-11T08:20:05.632Z"
   },
   {
    "duration": 2,
    "start_time": "2025-05-11T08:20:05.960Z"
   },
   {
    "duration": 103,
    "start_time": "2025-05-11T08:20:05.965Z"
   },
   {
    "duration": 45,
    "start_time": "2025-05-11T08:27:26.208Z"
   },
   {
    "duration": 47,
    "start_time": "2025-05-11T08:28:15.838Z"
   },
   {
    "duration": 48,
    "start_time": "2025-05-11T08:29:22.986Z"
   },
   {
    "duration": 204,
    "start_time": "2025-05-11T08:30:22.249Z"
   },
   {
    "duration": 18,
    "start_time": "2025-05-11T08:49:51.947Z"
   },
   {
    "duration": 25,
    "start_time": "2025-05-11T08:53:01.144Z"
   },
   {
    "duration": 3,
    "start_time": "2025-05-12T17:21:12.201Z"
   },
   {
    "duration": 1199,
    "start_time": "2025-05-12T17:21:12.206Z"
   },
   {
    "duration": 1674,
    "start_time": "2025-05-12T17:21:13.407Z"
   },
   {
    "duration": 4,
    "start_time": "2025-05-12T17:21:15.083Z"
   },
   {
    "duration": 46,
    "start_time": "2025-05-12T17:21:15.089Z"
   },
   {
    "duration": 245,
    "start_time": "2025-05-12T17:21:15.136Z"
   },
   {
    "duration": 165,
    "start_time": "2025-05-12T17:21:15.382Z"
   },
   {
    "duration": 26,
    "start_time": "2025-05-12T17:21:15.549Z"
   },
   {
    "duration": 14,
    "start_time": "2025-05-12T17:21:15.577Z"
   },
   {
    "duration": 228,
    "start_time": "2025-05-12T17:21:15.593Z"
   },
   {
    "duration": 128,
    "start_time": "2025-05-12T17:21:15.823Z"
   },
   {
    "duration": 60,
    "start_time": "2025-05-12T17:21:15.953Z"
   },
   {
    "duration": 238,
    "start_time": "2025-05-12T17:21:16.014Z"
   },
   {
    "duration": 2,
    "start_time": "2025-05-12T17:21:16.255Z"
   },
   {
    "duration": 65,
    "start_time": "2025-05-12T17:21:16.270Z"
   },
   {
    "duration": 21,
    "start_time": "2025-05-12T17:21:16.337Z"
   },
   {
    "duration": 1099,
    "start_time": "2025-05-12T17:21:16.359Z"
   },
   {
    "duration": 81,
    "start_time": "2025-05-12T17:51:23.234Z"
   },
   {
    "duration": 2,
    "start_time": "2025-05-12T17:51:49.868Z"
   },
   {
    "duration": 11,
    "start_time": "2025-05-12T17:52:06.998Z"
   },
   {
    "duration": 8,
    "start_time": "2025-05-12T17:52:36.110Z"
   },
   {
    "duration": 71,
    "start_time": "2025-05-12T17:52:51.437Z"
   },
   {
    "duration": 11,
    "start_time": "2025-05-12T17:53:03.222Z"
   },
   {
    "duration": 24,
    "start_time": "2025-05-12T17:53:12.970Z"
   },
   {
    "duration": 20,
    "start_time": "2025-05-12T17:57:08.808Z"
   },
   {
    "duration": 20,
    "start_time": "2025-05-12T17:57:32.802Z"
   },
   {
    "duration": 19,
    "start_time": "2025-05-12T17:57:40.412Z"
   },
   {
    "duration": 10,
    "start_time": "2025-05-12T18:02:23.067Z"
   },
   {
    "duration": 23,
    "start_time": "2025-05-12T18:03:00.820Z"
   },
   {
    "duration": 15,
    "start_time": "2025-05-12T18:05:59.081Z"
   },
   {
    "duration": 19,
    "start_time": "2025-05-12T18:06:24.943Z"
   },
   {
    "duration": 24,
    "start_time": "2025-05-12T18:08:01.036Z"
   },
   {
    "duration": 26,
    "start_time": "2025-05-12T18:08:42.978Z"
   },
   {
    "duration": 23,
    "start_time": "2025-05-12T18:09:42.054Z"
   },
   {
    "duration": 24,
    "start_time": "2025-05-12T18:10:40.070Z"
   },
   {
    "duration": 35,
    "start_time": "2025-05-12T18:12:43.764Z"
   },
   {
    "duration": 20,
    "start_time": "2025-05-12T18:15:00.809Z"
   },
   {
    "duration": 21,
    "start_time": "2025-05-12T18:16:05.194Z"
   },
   {
    "duration": 18,
    "start_time": "2025-05-12T18:16:14.819Z"
   },
   {
    "duration": 23,
    "start_time": "2025-05-12T18:22:40.036Z"
   },
   {
    "duration": 10,
    "start_time": "2025-05-12T18:23:24.297Z"
   },
   {
    "duration": 43,
    "start_time": "2025-05-12T18:23:43.275Z"
   },
   {
    "duration": 28,
    "start_time": "2025-05-12T18:23:56.833Z"
   },
   {
    "duration": 37,
    "start_time": "2025-05-12T18:24:04.889Z"
   },
   {
    "duration": 37,
    "start_time": "2025-05-12T18:24:45.628Z"
   },
   {
    "duration": 10,
    "start_time": "2025-05-12T18:26:14.110Z"
   },
   {
    "duration": 24,
    "start_time": "2025-05-12T18:27:08.304Z"
   },
   {
    "duration": 74,
    "start_time": "2025-05-12T19:02:49.354Z"
   },
   {
    "duration": 13,
    "start_time": "2025-05-12T19:05:51.388Z"
   },
   {
    "duration": 13,
    "start_time": "2025-05-12T19:06:27.777Z"
   },
   {
    "duration": 13,
    "start_time": "2025-05-12T19:06:42.370Z"
   },
   {
    "duration": 83,
    "start_time": "2025-05-12T19:13:18.930Z"
   },
   {
    "duration": 11,
    "start_time": "2025-05-12T19:13:26.479Z"
   },
   {
    "duration": 1092,
    "start_time": "2025-05-12T19:13:40.399Z"
   },
   {
    "duration": 13,
    "start_time": "2025-05-12T19:13:51.034Z"
   },
   {
    "duration": 11,
    "start_time": "2025-05-12T19:19:53.282Z"
   },
   {
    "duration": 4,
    "start_time": "2025-05-12T19:20:11.835Z"
   },
   {
    "duration": 3,
    "start_time": "2025-05-12T19:20:23.322Z"
   },
   {
    "duration": 3,
    "start_time": "2025-05-12T19:23:33.024Z"
   },
   {
    "duration": 1127,
    "start_time": "2025-05-12T19:23:33.032Z"
   },
   {
    "duration": 1721,
    "start_time": "2025-05-12T19:23:34.160Z"
   },
   {
    "duration": 5,
    "start_time": "2025-05-12T19:23:35.883Z"
   },
   {
    "duration": 62,
    "start_time": "2025-05-12T19:23:35.889Z"
   },
   {
    "duration": 234,
    "start_time": "2025-05-12T19:23:35.953Z"
   },
   {
    "duration": 203,
    "start_time": "2025-05-12T19:23:36.188Z"
   },
   {
    "duration": 14,
    "start_time": "2025-05-12T19:23:36.393Z"
   },
   {
    "duration": 7,
    "start_time": "2025-05-12T19:23:36.409Z"
   },
   {
    "duration": 15,
    "start_time": "2025-05-12T19:23:36.417Z"
   },
   {
    "duration": 248,
    "start_time": "2025-05-12T19:23:36.433Z"
   },
   {
    "duration": 129,
    "start_time": "2025-05-12T19:23:36.683Z"
   },
   {
    "duration": 58,
    "start_time": "2025-05-12T19:23:36.813Z"
   },
   {
    "duration": 247,
    "start_time": "2025-05-12T19:23:36.873Z"
   },
   {
    "duration": 2,
    "start_time": "2025-05-12T19:23:37.123Z"
   },
   {
    "duration": 5,
    "start_time": "2025-05-12T19:23:37.127Z"
   },
   {
    "duration": 357,
    "start_time": "2025-05-12T19:23:37.133Z"
   },
   {
    "duration": 99,
    "start_time": "2025-05-12T19:23:37.492Z"
   },
   {
    "duration": 0,
    "start_time": "2025-05-12T19:23:37.593Z"
   },
   {
    "duration": 0,
    "start_time": "2025-05-12T19:23:37.594Z"
   },
   {
    "duration": 0,
    "start_time": "2025-05-12T19:23:37.596Z"
   },
   {
    "duration": 383,
    "start_time": "2025-05-12T19:24:07.720Z"
   },
   {
    "duration": 4,
    "start_time": "2025-05-12T19:24:21.191Z"
   },
   {
    "duration": 377,
    "start_time": "2025-05-12T19:24:34.535Z"
   },
   {
    "duration": 9,
    "start_time": "2025-05-12T19:25:03.552Z"
   },
   {
    "duration": 55,
    "start_time": "2025-05-12T19:30:06.691Z"
   },
   {
    "duration": 7,
    "start_time": "2025-05-12T19:31:23.789Z"
   },
   {
    "duration": 3,
    "start_time": "2025-05-12T19:32:12.043Z"
   },
   {
    "duration": 1114,
    "start_time": "2025-05-12T19:32:12.052Z"
   },
   {
    "duration": 2137,
    "start_time": "2025-05-12T19:32:13.171Z"
   },
   {
    "duration": 5,
    "start_time": "2025-05-12T19:32:15.310Z"
   },
   {
    "duration": 6,
    "start_time": "2025-05-12T19:32:15.317Z"
   },
   {
    "duration": 269,
    "start_time": "2025-05-12T19:32:15.324Z"
   },
   {
    "duration": 184,
    "start_time": "2025-05-12T19:32:15.594Z"
   },
   {
    "duration": 14,
    "start_time": "2025-05-12T19:32:15.780Z"
   },
   {
    "duration": 7,
    "start_time": "2025-05-12T19:32:15.796Z"
   },
   {
    "duration": 14,
    "start_time": "2025-05-12T19:32:15.804Z"
   },
   {
    "duration": 252,
    "start_time": "2025-05-12T19:32:15.819Z"
   },
   {
    "duration": 144,
    "start_time": "2025-05-12T19:32:16.072Z"
   },
   {
    "duration": 72,
    "start_time": "2025-05-12T19:32:16.218Z"
   },
   {
    "duration": 229,
    "start_time": "2025-05-12T19:32:16.291Z"
   },
   {
    "duration": 2,
    "start_time": "2025-05-12T19:32:16.523Z"
   },
   {
    "duration": 496,
    "start_time": "2025-05-12T19:32:16.527Z"
   },
   {
    "duration": 0,
    "start_time": "2025-05-12T19:32:17.025Z"
   },
   {
    "duration": 0,
    "start_time": "2025-05-12T19:32:17.027Z"
   },
   {
    "duration": 0,
    "start_time": "2025-05-12T19:32:17.028Z"
   },
   {
    "duration": 0,
    "start_time": "2025-05-12T19:32:17.029Z"
   },
   {
    "duration": 378,
    "start_time": "2025-05-12T19:32:59.060Z"
   },
   {
    "duration": 404,
    "start_time": "2025-05-12T19:33:13.909Z"
   },
   {
    "duration": 582,
    "start_time": "2025-05-12T19:34:04.326Z"
   },
   {
    "duration": 606,
    "start_time": "2025-05-12T19:34:39.806Z"
   },
   {
    "duration": 8,
    "start_time": "2025-05-12T19:36:22.649Z"
   },
   {
    "duration": 47,
    "start_time": "2025-05-12T19:36:24.233Z"
   },
   {
    "duration": 23,
    "start_time": "2025-05-12T19:38:47.136Z"
   },
   {
    "duration": 16,
    "start_time": "2025-05-12T19:39:17.983Z"
   },
   {
    "duration": 23,
    "start_time": "2025-05-12T19:39:46.963Z"
   },
   {
    "duration": 23,
    "start_time": "2025-05-12T19:40:34.466Z"
   },
   {
    "duration": 649,
    "start_time": "2025-05-12T19:41:55.747Z"
   },
   {
    "duration": 610,
    "start_time": "2025-05-12T19:43:31.685Z"
   },
   {
    "duration": 3,
    "start_time": "2025-05-12T19:46:07.130Z"
   },
   {
    "duration": 3,
    "start_time": "2025-05-12T19:46:23.875Z"
   },
   {
    "duration": 610,
    "start_time": "2025-05-12T19:47:29.085Z"
   },
   {
    "duration": 106,
    "start_time": "2025-05-12T19:48:03.951Z"
   },
   {
    "duration": 696,
    "start_time": "2025-05-12T19:50:01.425Z"
   },
   {
    "duration": 610,
    "start_time": "2025-05-12T19:50:38.441Z"
   },
   {
    "duration": 650,
    "start_time": "2025-05-12T19:50:58.245Z"
   },
   {
    "duration": 673,
    "start_time": "2025-05-12T19:52:28.730Z"
   },
   {
    "duration": 662,
    "start_time": "2025-05-12T19:53:16.223Z"
   },
   {
    "duration": 1513,
    "start_time": "2025-05-12T19:56:02.684Z"
   },
   {
    "duration": 1594,
    "start_time": "2025-05-12T19:57:43.043Z"
   },
   {
    "duration": 618,
    "start_time": "2025-05-12T19:58:18.191Z"
   },
   {
    "duration": 623,
    "start_time": "2025-05-12T19:59:11.710Z"
   },
   {
    "duration": 4,
    "start_time": "2025-05-12T19:59:37.355Z"
   },
   {
    "duration": 609,
    "start_time": "2025-05-12T19:59:48.716Z"
   },
   {
    "duration": 594,
    "start_time": "2025-05-12T20:00:49.919Z"
   },
   {
    "duration": 632,
    "start_time": "2025-05-12T20:01:05.178Z"
   },
   {
    "duration": 618,
    "start_time": "2025-05-12T20:01:31.617Z"
   },
   {
    "duration": 70,
    "start_time": "2025-05-12T20:06:58.515Z"
   },
   {
    "duration": 562,
    "start_time": "2025-05-12T20:07:09.267Z"
   },
   {
    "duration": 614,
    "start_time": "2025-05-12T20:07:33.418Z"
   },
   {
    "duration": 648,
    "start_time": "2025-05-12T20:07:44.739Z"
   },
   {
    "duration": 617,
    "start_time": "2025-05-12T20:08:56.693Z"
   },
   {
    "duration": 658,
    "start_time": "2025-05-12T20:09:43.613Z"
   },
   {
    "duration": 639,
    "start_time": "2025-05-12T20:10:30.926Z"
   },
   {
    "duration": 2105,
    "start_time": "2025-05-12T20:18:55.086Z"
   },
   {
    "duration": 596,
    "start_time": "2025-05-12T20:21:20.955Z"
   },
   {
    "duration": 607,
    "start_time": "2025-05-12T20:21:56.307Z"
   },
   {
    "duration": 630,
    "start_time": "2025-05-12T20:22:24.801Z"
   },
   {
    "duration": 661,
    "start_time": "2025-05-12T20:23:40.583Z"
   },
   {
    "duration": 655,
    "start_time": "2025-05-12T20:36:12.487Z"
   },
   {
    "duration": 655,
    "start_time": "2025-05-12T20:36:32.158Z"
   },
   {
    "duration": 623,
    "start_time": "2025-05-12T20:40:03.798Z"
   },
   {
    "duration": 624,
    "start_time": "2025-05-12T20:41:54.209Z"
   },
   {
    "duration": 630,
    "start_time": "2025-05-12T20:42:06.694Z"
   },
   {
    "duration": 3,
    "start_time": "2025-05-14T16:08:27.347Z"
   },
   {
    "duration": 1373,
    "start_time": "2025-05-14T16:08:27.352Z"
   },
   {
    "duration": 1977,
    "start_time": "2025-05-14T16:08:28.726Z"
   },
   {
    "duration": 5,
    "start_time": "2025-05-14T16:08:30.706Z"
   },
   {
    "duration": 27,
    "start_time": "2025-05-14T16:08:30.713Z"
   },
   {
    "duration": 309,
    "start_time": "2025-05-14T16:08:30.742Z"
   },
   {
    "duration": 205,
    "start_time": "2025-05-14T16:08:31.052Z"
   },
   {
    "duration": 20,
    "start_time": "2025-05-14T16:08:31.259Z"
   },
   {
    "duration": 7,
    "start_time": "2025-05-14T16:08:31.280Z"
   },
   {
    "duration": 29,
    "start_time": "2025-05-14T16:08:31.289Z"
   },
   {
    "duration": 255,
    "start_time": "2025-05-14T16:08:31.320Z"
   },
   {
    "duration": 148,
    "start_time": "2025-05-14T16:08:31.576Z"
   },
   {
    "duration": 64,
    "start_time": "2025-05-14T16:08:31.726Z"
   },
   {
    "duration": 254,
    "start_time": "2025-05-14T16:08:31.792Z"
   },
   {
    "duration": 3,
    "start_time": "2025-05-14T16:08:32.047Z"
   },
   {
    "duration": 674,
    "start_time": "2025-05-14T16:08:32.051Z"
   },
   {
    "duration": 2,
    "start_time": "2025-05-14T16:08:32.727Z"
   },
   {
    "duration": 39,
    "start_time": "2025-05-14T16:08:32.730Z"
   },
   {
    "duration": 37,
    "start_time": "2025-05-14T16:11:33.193Z"
   },
   {
    "duration": 1219,
    "start_time": "2025-05-14T16:11:57.989Z"
   },
   {
    "duration": 5,
    "start_time": "2025-05-14T17:07:03.488Z"
   },
   {
    "duration": 7,
    "start_time": "2025-05-14T17:07:32.215Z"
   },
   {
    "duration": 18,
    "start_time": "2025-05-14T17:15:28.137Z"
   },
   {
    "duration": 6,
    "start_time": "2025-05-14T17:16:57.010Z"
   },
   {
    "duration": 6,
    "start_time": "2025-05-14T17:17:56.105Z"
   },
   {
    "duration": 6,
    "start_time": "2025-05-14T17:18:02.922Z"
   },
   {
    "duration": 4,
    "start_time": "2025-05-14T17:19:23.637Z"
   },
   {
    "duration": 9,
    "start_time": "2025-05-14T17:19:49.222Z"
   },
   {
    "duration": 36,
    "start_time": "2025-05-14T17:22:02.422Z"
   },
   {
    "duration": 37,
    "start_time": "2025-05-14T17:22:42.846Z"
   },
   {
    "duration": 12,
    "start_time": "2025-05-14T17:24:37.834Z"
   },
   {
    "duration": 52,
    "start_time": "2025-05-14T17:25:22.484Z"
   },
   {
    "duration": 15,
    "start_time": "2025-05-14T17:25:53.049Z"
   },
   {
    "duration": 14,
    "start_time": "2025-05-14T17:26:19.852Z"
   },
   {
    "duration": 11,
    "start_time": "2025-05-14T17:27:10.039Z"
   },
   {
    "duration": 11,
    "start_time": "2025-05-14T17:27:28.893Z"
   },
   {
    "duration": 14,
    "start_time": "2025-05-14T17:27:43.803Z"
   },
   {
    "duration": 22,
    "start_time": "2025-05-14T17:28:23.293Z"
   },
   {
    "duration": 32,
    "start_time": "2025-05-14T17:30:35.516Z"
   },
   {
    "duration": 69,
    "start_time": "2025-05-14T17:39:03.645Z"
   },
   {
    "duration": 8,
    "start_time": "2025-05-14T17:39:28.189Z"
   },
   {
    "duration": 8,
    "start_time": "2025-05-14T17:39:39.667Z"
   },
   {
    "duration": 4,
    "start_time": "2025-05-14T19:10:22.169Z"
   },
   {
    "duration": 1243,
    "start_time": "2025-05-14T19:10:22.175Z"
   },
   {
    "duration": 2471,
    "start_time": "2025-05-14T19:10:23.420Z"
   },
   {
    "duration": 5,
    "start_time": "2025-05-14T19:10:25.892Z"
   },
   {
    "duration": 10,
    "start_time": "2025-05-14T19:10:25.899Z"
   },
   {
    "duration": 274,
    "start_time": "2025-05-14T19:10:25.910Z"
   },
   {
    "duration": 217,
    "start_time": "2025-05-14T19:10:26.186Z"
   },
   {
    "duration": 15,
    "start_time": "2025-05-14T19:10:26.405Z"
   },
   {
    "duration": 7,
    "start_time": "2025-05-14T19:10:26.422Z"
   },
   {
    "duration": 28,
    "start_time": "2025-05-14T19:10:26.430Z"
   },
   {
    "duration": 239,
    "start_time": "2025-05-14T19:10:26.460Z"
   },
   {
    "duration": 147,
    "start_time": "2025-05-14T19:10:26.701Z"
   },
   {
    "duration": 64,
    "start_time": "2025-05-14T19:10:26.849Z"
   },
   {
    "duration": 258,
    "start_time": "2025-05-14T19:10:26.915Z"
   },
   {
    "duration": 2,
    "start_time": "2025-05-14T19:10:27.175Z"
   },
   {
    "duration": 676,
    "start_time": "2025-05-14T19:10:27.178Z"
   },
   {
    "duration": 71,
    "start_time": "2025-05-14T19:10:27.856Z"
   },
   {
    "duration": 121,
    "start_time": "2025-05-14T19:10:27.929Z"
   },
   {
    "duration": 0,
    "start_time": "2025-05-14T19:10:28.052Z"
   },
   {
    "duration": 0,
    "start_time": "2025-05-14T19:10:28.053Z"
   },
   {
    "duration": 66,
    "start_time": "2025-05-14T19:11:34.128Z"
   },
   {
    "duration": 32,
    "start_time": "2025-05-14T19:11:39.987Z"
   },
   {
    "duration": 13,
    "start_time": "2025-05-14T19:16:06.501Z"
   },
   {
    "duration": 15,
    "start_time": "2025-05-14T19:17:44.582Z"
   },
   {
    "duration": 12,
    "start_time": "2025-05-14T19:17:53.367Z"
   },
   {
    "duration": 13,
    "start_time": "2025-05-14T19:22:11.391Z"
   },
   {
    "duration": 17,
    "start_time": "2025-05-14T19:22:27.039Z"
   },
   {
    "duration": 24,
    "start_time": "2025-05-14T19:25:50.440Z"
   },
   {
    "duration": 17,
    "start_time": "2025-05-14T19:29:26.907Z"
   },
   {
    "duration": 56,
    "start_time": "2025-05-14T19:30:31.644Z"
   },
   {
    "duration": 18,
    "start_time": "2025-05-14T19:30:44.564Z"
   },
   {
    "duration": 17,
    "start_time": "2025-05-14T19:31:01.620Z"
   },
   {
    "duration": 18,
    "start_time": "2025-05-14T19:32:09.146Z"
   },
   {
    "duration": 43,
    "start_time": "2025-05-14T19:32:37.838Z"
   },
   {
    "duration": 43,
    "start_time": "2025-05-14T19:33:16.740Z"
   },
   {
    "duration": 49,
    "start_time": "2025-05-14T19:33:40.198Z"
   },
   {
    "duration": 43,
    "start_time": "2025-05-14T19:34:12.498Z"
   },
   {
    "duration": 43,
    "start_time": "2025-05-14T19:34:46.034Z"
   },
   {
    "duration": 3,
    "start_time": "2025-05-14T19:36:12.871Z"
   },
   {
    "duration": 1217,
    "start_time": "2025-05-14T19:36:12.876Z"
   },
   {
    "duration": 2105,
    "start_time": "2025-05-14T19:36:14.094Z"
   },
   {
    "duration": 5,
    "start_time": "2025-05-14T19:36:16.202Z"
   },
   {
    "duration": 13,
    "start_time": "2025-05-14T19:36:16.209Z"
   },
   {
    "duration": 271,
    "start_time": "2025-05-14T19:36:16.224Z"
   },
   {
    "duration": 224,
    "start_time": "2025-05-14T19:36:16.496Z"
   },
   {
    "duration": 20,
    "start_time": "2025-05-14T19:36:16.722Z"
   },
   {
    "duration": 7,
    "start_time": "2025-05-14T19:36:16.744Z"
   },
   {
    "duration": 15,
    "start_time": "2025-05-14T19:36:16.771Z"
   },
   {
    "duration": 252,
    "start_time": "2025-05-14T19:36:16.788Z"
   },
   {
    "duration": 159,
    "start_time": "2025-05-14T19:36:17.042Z"
   },
   {
    "duration": 70,
    "start_time": "2025-05-14T19:36:17.202Z"
   },
   {
    "duration": 264,
    "start_time": "2025-05-14T19:36:17.274Z"
   },
   {
    "duration": 2,
    "start_time": "2025-05-14T19:36:17.539Z"
   },
   {
    "duration": 653,
    "start_time": "2025-05-14T19:36:17.543Z"
   },
   {
    "duration": 14,
    "start_time": "2025-05-14T19:36:18.198Z"
   },
   {
    "duration": 205,
    "start_time": "2025-05-14T19:36:18.213Z"
   },
   {
    "duration": 0,
    "start_time": "2025-05-14T19:36:18.420Z"
   },
   {
    "duration": 0,
    "start_time": "2025-05-14T19:36:18.421Z"
   },
   {
    "duration": 0,
    "start_time": "2025-05-14T19:36:18.422Z"
   },
   {
    "duration": 16,
    "start_time": "2025-05-14T19:38:44.859Z"
   },
   {
    "duration": 26,
    "start_time": "2025-05-14T19:39:15.906Z"
   },
   {
    "duration": 12,
    "start_time": "2025-05-14T19:41:13.705Z"
   },
   {
    "duration": 18,
    "start_time": "2025-05-14T19:44:47.584Z"
   },
   {
    "duration": 54,
    "start_time": "2025-05-14T20:02:36.413Z"
   },
   {
    "duration": 35,
    "start_time": "2025-05-14T20:03:38.018Z"
   },
   {
    "duration": 58,
    "start_time": "2025-05-14T20:06:45.918Z"
   },
   {
    "duration": 58,
    "start_time": "2025-05-14T20:08:56.127Z"
   },
   {
    "duration": 28,
    "start_time": "2025-05-14T20:12:57.901Z"
   },
   {
    "duration": 63,
    "start_time": "2025-05-14T20:15:11.604Z"
   },
   {
    "duration": 57,
    "start_time": "2025-05-14T20:15:53.576Z"
   },
   {
    "duration": 50,
    "start_time": "2025-05-14T20:16:47.993Z"
   },
   {
    "duration": 2,
    "start_time": "2025-05-14T20:17:56.261Z"
   },
   {
    "duration": 31,
    "start_time": "2025-05-14T20:17:58.324Z"
   },
   {
    "duration": 28,
    "start_time": "2025-05-14T20:18:46.180Z"
   },
   {
    "duration": 6,
    "start_time": "2025-05-14T20:20:03.563Z"
   },
   {
    "duration": 68,
    "start_time": "2025-05-14T20:20:45.840Z"
   },
   {
    "duration": 7,
    "start_time": "2025-05-14T20:21:00.347Z"
   },
   {
    "duration": 53,
    "start_time": "2025-05-14T20:23:41.188Z"
   },
   {
    "duration": 8,
    "start_time": "2025-05-14T20:24:04.446Z"
   },
   {
    "duration": 7,
    "start_time": "2025-05-14T20:37:03.543Z"
   },
   {
    "duration": 9,
    "start_time": "2025-05-14T20:37:53.404Z"
   },
   {
    "duration": 7,
    "start_time": "2025-05-14T20:38:59.362Z"
   },
   {
    "duration": 7,
    "start_time": "2025-05-14T20:39:50.107Z"
   },
   {
    "duration": 52,
    "start_time": "2025-05-14T20:40:29.904Z"
   },
   {
    "duration": 57,
    "start_time": "2025-05-14T20:41:01.796Z"
   },
   {
    "duration": 55,
    "start_time": "2025-05-14T20:43:13.480Z"
   },
   {
    "duration": 58,
    "start_time": "2025-05-14T20:43:39.958Z"
   },
   {
    "duration": 62,
    "start_time": "2025-05-14T20:43:45.877Z"
   },
   {
    "duration": 7,
    "start_time": "2025-05-14T20:44:45.643Z"
   },
   {
    "duration": 52,
    "start_time": "2025-05-14T20:47:13.549Z"
   },
   {
    "duration": 12,
    "start_time": "2025-05-14T20:47:23.379Z"
   },
   {
    "duration": 63,
    "start_time": "2025-05-14T20:52:49.240Z"
   },
   {
    "duration": 68,
    "start_time": "2025-05-14T20:53:21.997Z"
   },
   {
    "duration": 84,
    "start_time": "2025-05-14T20:54:34.146Z"
   },
   {
    "duration": 7,
    "start_time": "2025-05-14T20:55:25.254Z"
   },
   {
    "duration": 30,
    "start_time": "2025-05-14T20:57:14.850Z"
   },
   {
    "duration": 25,
    "start_time": "2025-05-14T20:57:36.999Z"
   },
   {
    "duration": 79,
    "start_time": "2025-05-14T20:59:30.387Z"
   },
   {
    "duration": 52,
    "start_time": "2025-05-14T20:59:41.291Z"
   },
   {
    "duration": 58,
    "start_time": "2025-05-14T21:00:00.245Z"
   },
   {
    "duration": 77,
    "start_time": "2025-05-14T21:00:31.623Z"
   },
   {
    "duration": 14,
    "start_time": "2025-05-14T21:01:11.835Z"
   },
   {
    "duration": 9,
    "start_time": "2025-05-14T21:01:15.485Z"
   },
   {
    "duration": 27,
    "start_time": "2025-05-14T21:01:30.232Z"
   },
   {
    "duration": 13,
    "start_time": "2025-05-14T21:02:02.090Z"
   },
   {
    "duration": 68,
    "start_time": "2025-05-14T21:02:07.177Z"
   },
   {
    "duration": 62,
    "start_time": "2025-05-14T21:02:37.111Z"
   },
   {
    "duration": 69,
    "start_time": "2025-05-14T21:03:32.728Z"
   },
   {
    "duration": 91,
    "start_time": "2025-05-14T21:04:01.475Z"
   },
   {
    "duration": 51,
    "start_time": "2025-05-14T21:05:29.041Z"
   },
   {
    "duration": 62,
    "start_time": "2025-05-14T21:05:40.039Z"
   },
   {
    "duration": 78,
    "start_time": "2025-05-14T21:06:32.559Z"
   },
   {
    "duration": 13,
    "start_time": "2025-05-14T21:06:51.096Z"
   },
   {
    "duration": 29,
    "start_time": "2025-05-14T21:07:02.406Z"
   },
   {
    "duration": 13,
    "start_time": "2025-05-14T21:08:51.321Z"
   },
   {
    "duration": 1812,
    "start_time": "2025-05-14T21:09:46.643Z"
   },
   {
    "duration": 680,
    "start_time": "2025-05-14T21:10:26.532Z"
   },
   {
    "duration": 3,
    "start_time": "2025-05-15T05:03:54.061Z"
   },
   {
    "duration": 1416,
    "start_time": "2025-05-15T05:03:54.067Z"
   },
   {
    "duration": 2270,
    "start_time": "2025-05-15T05:03:55.485Z"
   },
   {
    "duration": 5,
    "start_time": "2025-05-15T05:03:57.757Z"
   },
   {
    "duration": 8,
    "start_time": "2025-05-15T05:03:57.764Z"
   },
   {
    "duration": 283,
    "start_time": "2025-05-15T05:03:57.774Z"
   },
   {
    "duration": 216,
    "start_time": "2025-05-15T05:03:58.058Z"
   },
   {
    "duration": 17,
    "start_time": "2025-05-15T05:03:58.277Z"
   },
   {
    "duration": 15,
    "start_time": "2025-05-15T05:03:58.296Z"
   },
   {
    "duration": 35,
    "start_time": "2025-05-15T05:03:58.313Z"
   },
   {
    "duration": 244,
    "start_time": "2025-05-15T05:03:58.350Z"
   },
   {
    "duration": 144,
    "start_time": "2025-05-15T05:03:58.596Z"
   },
   {
    "duration": 59,
    "start_time": "2025-05-15T05:03:58.742Z"
   },
   {
    "duration": 262,
    "start_time": "2025-05-15T05:03:58.805Z"
   },
   {
    "duration": 2,
    "start_time": "2025-05-15T05:03:59.070Z"
   },
   {
    "duration": 704,
    "start_time": "2025-05-15T05:03:59.074Z"
   },
   {
    "duration": 36,
    "start_time": "2025-05-15T05:03:59.780Z"
   },
   {
    "duration": 220,
    "start_time": "2025-05-15T05:03:59.818Z"
   },
   {
    "duration": 31,
    "start_time": "2025-05-15T05:04:00.040Z"
   },
   {
    "duration": 49,
    "start_time": "2025-05-15T05:04:00.073Z"
   },
   {
    "duration": 129,
    "start_time": "2025-05-15T05:04:00.123Z"
   },
   {
    "duration": 0,
    "start_time": "2025-05-15T05:04:00.254Z"
   },
   {
    "duration": 0,
    "start_time": "2025-05-15T05:04:00.255Z"
   },
   {
    "duration": 90,
    "start_time": "2025-05-15T05:19:38.296Z"
   },
   {
    "duration": 77,
    "start_time": "2025-05-15T05:20:20.457Z"
   },
   {
    "duration": 106,
    "start_time": "2025-05-15T05:20:37.815Z"
   },
   {
    "duration": 118,
    "start_time": "2025-05-15T05:22:19.554Z"
   },
   {
    "duration": 110,
    "start_time": "2025-05-15T05:22:43.645Z"
   },
   {
    "duration": 116,
    "start_time": "2025-05-15T05:24:36.450Z"
   },
   {
    "duration": 143,
    "start_time": "2025-05-15T05:25:26.068Z"
   },
   {
    "duration": 135,
    "start_time": "2025-05-15T05:25:47.561Z"
   },
   {
    "duration": 116,
    "start_time": "2025-05-15T05:26:35.335Z"
   },
   {
    "duration": 3,
    "start_time": "2025-05-15T05:27:12.518Z"
   },
   {
    "duration": 1248,
    "start_time": "2025-05-15T05:27:12.527Z"
   },
   {
    "duration": 2479,
    "start_time": "2025-05-15T05:27:13.777Z"
   },
   {
    "duration": 5,
    "start_time": "2025-05-15T05:27:16.258Z"
   },
   {
    "duration": 16,
    "start_time": "2025-05-15T05:27:16.264Z"
   },
   {
    "duration": 272,
    "start_time": "2025-05-15T05:27:16.283Z"
   },
   {
    "duration": 241,
    "start_time": "2025-05-15T05:27:16.558Z"
   },
   {
    "duration": 16,
    "start_time": "2025-05-15T05:27:16.800Z"
   },
   {
    "duration": 68,
    "start_time": "2025-05-15T05:27:16.818Z"
   },
   {
    "duration": 16,
    "start_time": "2025-05-15T05:27:16.888Z"
   },
   {
    "duration": 240,
    "start_time": "2025-05-15T05:27:16.906Z"
   },
   {
    "duration": 144,
    "start_time": "2025-05-15T05:27:17.148Z"
   },
   {
    "duration": 63,
    "start_time": "2025-05-15T05:27:17.294Z"
   },
   {
    "duration": 256,
    "start_time": "2025-05-15T05:27:17.359Z"
   },
   {
    "duration": 2,
    "start_time": "2025-05-15T05:27:17.618Z"
   },
   {
    "duration": 130,
    "start_time": "2025-05-15T05:27:17.622Z"
   },
   {
    "duration": 96,
    "start_time": "2025-05-15T05:27:17.755Z"
   },
   {
    "duration": 198,
    "start_time": "2025-05-15T05:27:17.853Z"
   },
   {
    "duration": 30,
    "start_time": "2025-05-15T05:27:18.053Z"
   },
   {
    "duration": 16,
    "start_time": "2025-05-15T05:27:18.085Z"
   },
   {
    "duration": 124,
    "start_time": "2025-05-15T05:27:18.102Z"
   },
   {
    "duration": 0,
    "start_time": "2025-05-15T05:27:18.228Z"
   },
   {
    "duration": 0,
    "start_time": "2025-05-15T05:27:18.230Z"
   },
   {
    "duration": 135,
    "start_time": "2025-05-15T05:28:31.488Z"
   },
   {
    "duration": 143,
    "start_time": "2025-05-15T05:31:23.279Z"
   },
   {
    "duration": 1171,
    "start_time": "2025-05-15T05:41:53.923Z"
   },
   {
    "duration": 140,
    "start_time": "2025-05-15T05:43:10.564Z"
   },
   {
    "duration": 227,
    "start_time": "2025-05-15T05:47:39.906Z"
   },
   {
    "duration": 228,
    "start_time": "2025-05-15T05:50:19.740Z"
   },
   {
    "duration": 102,
    "start_time": "2025-05-15T05:52:37.427Z"
   },
   {
    "duration": 3,
    "start_time": "2025-05-15T09:05:20.167Z"
   },
   {
    "duration": 1552,
    "start_time": "2025-05-15T09:05:20.172Z"
   },
   {
    "duration": 2184,
    "start_time": "2025-05-15T09:05:21.725Z"
   },
   {
    "duration": 5,
    "start_time": "2025-05-15T09:05:23.911Z"
   },
   {
    "duration": 234,
    "start_time": "2025-05-15T09:05:23.918Z"
   },
   {
    "duration": 345,
    "start_time": "2025-05-15T09:05:24.154Z"
   },
   {
    "duration": 247,
    "start_time": "2025-05-15T09:05:24.501Z"
   },
   {
    "duration": 26,
    "start_time": "2025-05-15T09:05:24.749Z"
   },
   {
    "duration": 9,
    "start_time": "2025-05-15T09:05:24.777Z"
   },
   {
    "duration": 112,
    "start_time": "2025-05-15T09:05:24.787Z"
   },
   {
    "duration": 413,
    "start_time": "2025-05-15T09:05:24.901Z"
   },
   {
    "duration": 149,
    "start_time": "2025-05-15T09:05:25.316Z"
   },
   {
    "duration": 281,
    "start_time": "2025-05-15T09:05:25.466Z"
   },
   {
    "duration": 278,
    "start_time": "2025-05-15T09:05:25.749Z"
   },
   {
    "duration": 2,
    "start_time": "2025-05-15T09:05:26.029Z"
   },
   {
    "duration": 218,
    "start_time": "2025-05-15T09:05:26.033Z"
   },
   {
    "duration": 0,
    "start_time": "2025-05-15T09:05:26.252Z"
   },
   {
    "duration": 0,
    "start_time": "2025-05-15T09:05:26.254Z"
   },
   {
    "duration": 0,
    "start_time": "2025-05-15T09:05:26.261Z"
   },
   {
    "duration": 0,
    "start_time": "2025-05-15T09:05:26.262Z"
   },
   {
    "duration": 0,
    "start_time": "2025-05-15T09:05:26.263Z"
   },
   {
    "duration": 0,
    "start_time": "2025-05-15T09:05:26.264Z"
   },
   {
    "duration": 0,
    "start_time": "2025-05-15T09:05:26.265Z"
   },
   {
    "duration": 88,
    "start_time": "2025-05-15T09:06:46.541Z"
   },
   {
    "duration": 90,
    "start_time": "2025-05-15T09:07:38.035Z"
   },
   {
    "duration": 27,
    "start_time": "2025-05-15T09:10:22.888Z"
   },
   {
    "duration": 126,
    "start_time": "2025-05-15T09:11:17.374Z"
   },
   {
    "duration": 124,
    "start_time": "2025-05-15T09:11:30.050Z"
   },
   {
    "duration": 91,
    "start_time": "2025-05-15T09:12:25.117Z"
   },
   {
    "duration": 129,
    "start_time": "2025-05-15T09:12:40.653Z"
   },
   {
    "duration": 124,
    "start_time": "2025-05-15T09:12:58.317Z"
   },
   {
    "duration": 124,
    "start_time": "2025-05-15T09:14:00.171Z"
   },
   {
    "duration": 124,
    "start_time": "2025-05-15T09:14:18.988Z"
   },
   {
    "duration": 119,
    "start_time": "2025-05-15T09:20:27.634Z"
   },
   {
    "duration": 131,
    "start_time": "2025-05-15T09:21:25.411Z"
   },
   {
    "duration": 148,
    "start_time": "2025-05-15T09:24:09.869Z"
   },
   {
    "duration": 141,
    "start_time": "2025-05-15T09:24:19.044Z"
   },
   {
    "duration": 160,
    "start_time": "2025-05-15T09:29:27.417Z"
   },
   {
    "duration": 127,
    "start_time": "2025-05-15T09:30:02.048Z"
   },
   {
    "duration": 121,
    "start_time": "2025-05-15T09:30:55.897Z"
   },
   {
    "duration": 130,
    "start_time": "2025-05-15T09:33:30.325Z"
   },
   {
    "duration": 129,
    "start_time": "2025-05-15T09:41:31.999Z"
   },
   {
    "duration": 178,
    "start_time": "2025-05-15T09:43:01.305Z"
   },
   {
    "duration": 134,
    "start_time": "2025-05-15T09:49:47.339Z"
   },
   {
    "duration": 1073,
    "start_time": "2025-05-15T09:50:39.990Z"
   },
   {
    "duration": 1105,
    "start_time": "2025-05-15T09:51:33.558Z"
   },
   {
    "duration": 4,
    "start_time": "2025-05-15T11:46:57.459Z"
   },
   {
    "duration": 1479,
    "start_time": "2025-05-15T11:46:57.466Z"
   },
   {
    "duration": 2769,
    "start_time": "2025-05-15T11:46:58.946Z"
   },
   {
    "duration": 5,
    "start_time": "2025-05-15T11:47:01.717Z"
   },
   {
    "duration": 55,
    "start_time": "2025-05-15T11:47:01.724Z"
   },
   {
    "duration": 316,
    "start_time": "2025-05-15T11:47:01.781Z"
   },
   {
    "duration": 248,
    "start_time": "2025-05-15T11:47:02.099Z"
   },
   {
    "duration": 29,
    "start_time": "2025-05-15T11:47:02.349Z"
   },
   {
    "duration": 8,
    "start_time": "2025-05-15T11:47:02.380Z"
   },
   {
    "duration": 17,
    "start_time": "2025-05-15T11:47:02.391Z"
   },
   {
    "duration": 300,
    "start_time": "2025-05-15T11:47:02.410Z"
   },
   {
    "duration": 181,
    "start_time": "2025-05-15T11:47:02.712Z"
   },
   {
    "duration": 79,
    "start_time": "2025-05-15T11:47:02.895Z"
   },
   {
    "duration": 293,
    "start_time": "2025-05-15T11:47:02.976Z"
   },
   {
    "duration": 3,
    "start_time": "2025-05-15T11:47:03.272Z"
   },
   {
    "duration": 1373,
    "start_time": "2025-05-15T11:47:03.277Z"
   },
   {
    "duration": 0,
    "start_time": "2025-05-15T11:47:04.652Z"
   },
   {
    "duration": 0,
    "start_time": "2025-05-15T11:47:04.653Z"
   },
   {
    "duration": 0,
    "start_time": "2025-05-15T11:47:04.654Z"
   },
   {
    "duration": 0,
    "start_time": "2025-05-15T11:47:04.655Z"
   },
   {
    "duration": 0,
    "start_time": "2025-05-15T11:47:04.656Z"
   },
   {
    "duration": 0,
    "start_time": "2025-05-15T11:47:04.658Z"
   },
   {
    "duration": 0,
    "start_time": "2025-05-15T11:47:04.659Z"
   },
   {
    "duration": 83,
    "start_time": "2025-05-15T11:57:28.801Z"
   },
   {
    "duration": 72,
    "start_time": "2025-05-15T11:57:49.709Z"
   },
   {
    "duration": 121,
    "start_time": "2025-05-15T11:58:26.097Z"
   },
   {
    "duration": 153,
    "start_time": "2025-05-15T11:58:33.200Z"
   },
   {
    "duration": 149,
    "start_time": "2025-05-15T11:59:01.277Z"
   },
   {
    "duration": 156,
    "start_time": "2025-05-15T11:59:59.629Z"
   },
   {
    "duration": 141,
    "start_time": "2025-05-15T12:04:54.591Z"
   },
   {
    "duration": 146,
    "start_time": "2025-05-15T12:12:15.528Z"
   },
   {
    "duration": 6,
    "start_time": "2025-05-15T12:15:54.573Z"
   },
   {
    "duration": 170,
    "start_time": "2025-05-15T12:16:02.967Z"
   },
   {
    "duration": 168,
    "start_time": "2025-05-15T12:16:27.009Z"
   },
   {
    "duration": 154,
    "start_time": "2025-05-15T12:16:37.899Z"
   },
   {
    "duration": 144,
    "start_time": "2025-05-15T12:57:28.506Z"
   },
   {
    "duration": 220,
    "start_time": "2025-05-15T12:58:33.301Z"
   },
   {
    "duration": 131,
    "start_time": "2025-05-15T13:03:28.865Z"
   },
   {
    "duration": 78,
    "start_time": "2025-05-15T13:20:56.560Z"
   },
   {
    "duration": 134,
    "start_time": "2025-05-15T13:21:08.673Z"
   },
   {
    "duration": 17,
    "start_time": "2025-05-15T13:21:38.924Z"
   },
   {
    "duration": 77,
    "start_time": "2025-05-15T13:21:47.837Z"
   },
   {
    "duration": 77,
    "start_time": "2025-05-15T13:21:59.533Z"
   },
   {
    "duration": 158,
    "start_time": "2025-05-15T13:25:55.271Z"
   },
   {
    "duration": 157,
    "start_time": "2025-05-15T13:28:11.114Z"
   },
   {
    "duration": 208,
    "start_time": "2025-05-15T13:31:24.577Z"
   },
   {
    "duration": 163,
    "start_time": "2025-05-15T13:37:11.778Z"
   },
   {
    "duration": 72,
    "start_time": "2025-05-15T13:38:56.500Z"
   },
   {
    "duration": 159,
    "start_time": "2025-05-15T13:39:06.687Z"
   },
   {
    "duration": 162,
    "start_time": "2025-05-15T13:41:20.479Z"
   },
   {
    "duration": 165,
    "start_time": "2025-05-15T13:41:37.855Z"
   },
   {
    "duration": 166,
    "start_time": "2025-05-15T13:42:28.776Z"
   },
   {
    "duration": 7,
    "start_time": "2025-05-15T13:49:38.539Z"
   },
   {
    "duration": 144,
    "start_time": "2025-05-15T13:50:09.738Z"
   },
   {
    "duration": 3,
    "start_time": "2025-05-15T14:10:15.761Z"
   },
   {
    "duration": 155,
    "start_time": "2025-05-15T14:26:26.252Z"
   },
   {
    "duration": 6,
    "start_time": "2025-05-15T14:56:50.740Z"
   },
   {
    "duration": 7,
    "start_time": "2025-05-15T15:39:18.441Z"
   },
   {
    "duration": 6,
    "start_time": "2025-05-15T15:39:23.320Z"
   },
   {
    "duration": 21,
    "start_time": "2025-05-15T15:40:20.737Z"
   },
   {
    "duration": 43,
    "start_time": "2025-05-15T15:40:59.174Z"
   },
   {
    "duration": 45,
    "start_time": "2025-05-15T15:41:53.329Z"
   },
   {
    "duration": 49,
    "start_time": "2025-05-15T15:44:11.310Z"
   },
   {
    "duration": 48,
    "start_time": "2025-05-15T15:44:43.310Z"
   },
   {
    "duration": 50,
    "start_time": "2025-05-15T15:44:57.901Z"
   },
   {
    "duration": 52,
    "start_time": "2025-05-15T15:45:26.473Z"
   },
   {
    "duration": 62,
    "start_time": "2025-05-15T15:45:44.951Z"
   },
   {
    "duration": 59,
    "start_time": "2025-05-15T15:46:10.037Z"
   },
   {
    "duration": 73,
    "start_time": "2025-05-15T15:47:08.481Z"
   },
   {
    "duration": 76,
    "start_time": "2025-05-15T15:48:19.839Z"
   },
   {
    "duration": 78,
    "start_time": "2025-05-15T15:48:37.198Z"
   },
   {
    "duration": 85,
    "start_time": "2025-05-15T15:48:47.554Z"
   },
   {
    "duration": 60,
    "start_time": "2025-05-15T15:49:02.865Z"
   },
   {
    "duration": 62,
    "start_time": "2025-05-15T15:49:30.137Z"
   },
   {
    "duration": 69,
    "start_time": "2025-05-15T15:50:06.730Z"
   },
   {
    "duration": 38,
    "start_time": "2025-05-15T15:51:23.975Z"
   },
   {
    "duration": 63,
    "start_time": "2025-05-15T15:55:22.307Z"
   },
   {
    "duration": 52,
    "start_time": "2025-05-15T15:56:20.420Z"
   },
   {
    "duration": 209,
    "start_time": "2025-05-15T16:12:00.385Z"
   },
   {
    "duration": 118,
    "start_time": "2025-05-15T16:21:01.825Z"
   },
   {
    "duration": 176,
    "start_time": "2025-05-15T16:22:14.575Z"
   },
   {
    "duration": 1279,
    "start_time": "2025-05-15T19:17:52.197Z"
   },
   {
    "duration": 2550,
    "start_time": "2025-05-15T19:17:53.479Z"
   },
   {
    "duration": 5,
    "start_time": "2025-05-15T19:17:56.030Z"
   },
   {
    "duration": 19,
    "start_time": "2025-05-15T19:17:56.036Z"
   },
   {
    "duration": 238,
    "start_time": "2025-05-15T19:17:56.057Z"
   },
   {
    "duration": 196,
    "start_time": "2025-05-15T19:17:56.297Z"
   },
   {
    "duration": 14,
    "start_time": "2025-05-15T19:17:56.495Z"
   },
   {
    "duration": 8,
    "start_time": "2025-05-15T19:17:56.510Z"
   },
   {
    "duration": 36,
    "start_time": "2025-05-15T19:17:56.519Z"
   },
   {
    "duration": 262,
    "start_time": "2025-05-15T19:17:56.557Z"
   },
   {
    "duration": 142,
    "start_time": "2025-05-15T19:17:56.821Z"
   },
   {
    "duration": 56,
    "start_time": "2025-05-15T19:17:56.965Z"
   },
   {
    "duration": 241,
    "start_time": "2025-05-15T19:17:57.022Z"
   },
   {
    "duration": 2,
    "start_time": "2025-05-15T19:17:57.266Z"
   },
   {
    "duration": 139,
    "start_time": "2025-05-15T19:17:57.269Z"
   },
   {
    "duration": 136,
    "start_time": "2025-05-15T19:17:57.410Z"
   },
   {
    "duration": 214,
    "start_time": "2025-05-15T19:17:57.548Z"
   },
   {
    "duration": 111,
    "start_time": "2025-05-15T19:17:57.763Z"
   },
   {
    "duration": 70,
    "start_time": "2025-05-15T19:17:57.875Z"
   },
   {
    "duration": 38,
    "start_time": "2025-05-15T19:17:57.962Z"
   },
   {
    "duration": 222,
    "start_time": "2025-05-15T19:17:58.001Z"
   },
   {
    "duration": 108,
    "start_time": "2025-05-15T19:17:58.224Z"
   },
   {
    "duration": 75,
    "start_time": "2025-05-15T19:22:03.960Z"
   },
   {
    "duration": 4,
    "start_time": "2025-05-15T19:35:31.568Z"
   },
   {
    "duration": 4,
    "start_time": "2025-05-15T19:35:54.109Z"
   },
   {
    "duration": 3,
    "start_time": "2025-05-15T19:37:57.531Z"
   },
   {
    "duration": 4,
    "start_time": "2025-05-15T19:38:14.446Z"
   },
   {
    "duration": 856,
    "start_time": "2025-05-15T19:54:03.728Z"
   },
   {
    "duration": 824,
    "start_time": "2025-05-15T19:56:10.897Z"
   },
   {
    "duration": 10,
    "start_time": "2025-05-15T19:57:19.538Z"
   },
   {
    "duration": 18,
    "start_time": "2025-05-15T19:57:44.448Z"
   },
   {
    "duration": 769,
    "start_time": "2025-05-15T20:03:48.246Z"
   },
   {
    "duration": 750,
    "start_time": "2025-05-15T20:04:39.465Z"
   },
   {
    "duration": 736,
    "start_time": "2025-05-15T20:04:55.012Z"
   },
   {
    "duration": 732,
    "start_time": "2025-05-15T20:05:04.740Z"
   },
   {
    "duration": 692,
    "start_time": "2025-05-15T20:05:16.020Z"
   },
   {
    "duration": 742,
    "start_time": "2025-05-15T20:05:29.061Z"
   },
   {
    "duration": 11,
    "start_time": "2025-05-15T20:05:50.457Z"
   },
   {
    "duration": 5,
    "start_time": "2025-05-15T20:08:55.386Z"
   },
   {
    "duration": 6,
    "start_time": "2025-05-15T20:09:09.246Z"
   },
   {
    "duration": 78,
    "start_time": "2025-05-15T20:12:31.686Z"
   },
   {
    "duration": 732,
    "start_time": "2025-05-15T20:13:23.392Z"
   },
   {
    "duration": 87,
    "start_time": "2025-05-15T20:16:12.549Z"
   },
   {
    "duration": 723,
    "start_time": "2025-05-15T20:16:30.689Z"
   },
   {
    "duration": 99,
    "start_time": "2025-05-15T20:17:08.498Z"
   },
   {
    "duration": 17,
    "start_time": "2025-05-15T20:17:36.556Z"
   },
   {
    "duration": 769,
    "start_time": "2025-05-15T20:21:39.277Z"
   },
   {
    "duration": 8,
    "start_time": "2025-05-15T20:25:48.481Z"
   },
   {
    "duration": 997,
    "start_time": "2025-05-15T20:31:08.234Z"
   },
   {
    "duration": 60,
    "start_time": "2025-05-15T20:32:48.330Z"
   },
   {
    "duration": 39,
    "start_time": "2025-05-15T20:33:08.635Z"
   },
   {
    "duration": 5,
    "start_time": "2025-05-15T20:33:38.221Z"
   },
   {
    "duration": 73,
    "start_time": "2025-05-15T20:35:01.226Z"
   },
   {
    "duration": 1005,
    "start_time": "2025-05-15T20:38:39.816Z"
   },
   {
    "duration": 70,
    "start_time": "2025-05-15T20:39:46.514Z"
   },
   {
    "duration": 46,
    "start_time": "2025-05-15T20:40:19.693Z"
   },
   {
    "duration": 7,
    "start_time": "2025-05-15T20:40:53.809Z"
   },
   {
    "duration": 68,
    "start_time": "2025-05-15T20:47:35.435Z"
   },
   {
    "duration": 76,
    "start_time": "2025-05-15T20:48:51.191Z"
   },
   {
    "duration": 67,
    "start_time": "2025-05-15T20:49:36.678Z"
   },
   {
    "duration": 67,
    "start_time": "2025-05-15T20:50:31.080Z"
   },
   {
    "duration": 67,
    "start_time": "2025-05-15T20:50:43.303Z"
   },
   {
    "duration": 68,
    "start_time": "2025-05-15T20:50:53.208Z"
   },
   {
    "duration": 130,
    "start_time": "2025-05-15T20:52:11.050Z"
   },
   {
    "duration": 68,
    "start_time": "2025-05-15T20:52:19.668Z"
   },
   {
    "duration": 70,
    "start_time": "2025-05-15T20:53:10.670Z"
   },
   {
    "duration": 68,
    "start_time": "2025-05-15T20:53:24.847Z"
   },
   {
    "duration": 15,
    "start_time": "2025-05-15T20:55:02.322Z"
   },
   {
    "duration": 7,
    "start_time": "2025-05-15T20:56:13.912Z"
   },
   {
    "duration": 1335,
    "start_time": "2025-05-15T21:19:08.883Z"
   },
   {
    "duration": 16,
    "start_time": "2025-05-15T21:19:21.429Z"
   },
   {
    "duration": 96,
    "start_time": "2025-05-15T21:21:12.467Z"
   },
   {
    "duration": 1001,
    "start_time": "2025-05-15T21:21:24.852Z"
   },
   {
    "duration": 69,
    "start_time": "2025-05-15T21:22:35.268Z"
   },
   {
    "duration": 1034,
    "start_time": "2025-05-15T21:24:01.222Z"
   },
   {
    "duration": 68,
    "start_time": "2025-05-15T21:24:24.635Z"
   },
   {
    "duration": 140,
    "start_time": "2025-05-15T21:25:45.961Z"
   },
   {
    "duration": 50,
    "start_time": "2025-05-15T21:26:41.762Z"
   },
   {
    "duration": 88,
    "start_time": "2025-05-15T21:33:27.112Z"
   },
   {
    "duration": 1789,
    "start_time": "2025-05-15T21:33:45.935Z"
   },
   {
    "duration": 2864,
    "start_time": "2025-05-15T21:36:53.408Z"
   },
   {
    "duration": 70,
    "start_time": "2025-05-15T21:37:34.047Z"
   },
   {
    "duration": 8,
    "start_time": "2025-05-15T21:42:05.591Z"
   },
   {
    "duration": 8,
    "start_time": "2025-05-15T21:42:44.593Z"
   },
   {
    "duration": 14,
    "start_time": "2025-05-15T21:43:10.394Z"
   },
   {
    "duration": 137,
    "start_time": "2025-05-15T21:45:30.458Z"
   },
   {
    "duration": 4,
    "start_time": "2025-05-15T21:45:41.540Z"
   },
   {
    "duration": 15,
    "start_time": "2025-05-15T21:48:22.196Z"
   },
   {
    "duration": 28,
    "start_time": "2025-05-15T21:48:37.917Z"
   },
   {
    "duration": 15,
    "start_time": "2025-05-15T21:48:59.265Z"
   },
   {
    "duration": 95,
    "start_time": "2025-05-15T21:57:47.312Z"
   },
   {
    "duration": 98,
    "start_time": "2025-05-15T21:58:03.483Z"
   },
   {
    "duration": 97,
    "start_time": "2025-05-15T21:58:42.941Z"
   },
   {
    "duration": 98,
    "start_time": "2025-05-15T21:59:05.982Z"
   },
   {
    "duration": 15,
    "start_time": "2025-05-15T22:08:11.822Z"
   },
   {
    "duration": 121,
    "start_time": "2025-05-15T22:08:49.529Z"
   },
   {
    "duration": 1093,
    "start_time": "2025-05-15T22:11:38.360Z"
   },
   {
    "duration": 3986,
    "start_time": "2025-05-15T22:11:39.455Z"
   },
   {
    "duration": 4,
    "start_time": "2025-05-15T22:11:43.443Z"
   },
   {
    "duration": 22,
    "start_time": "2025-05-15T22:11:43.448Z"
   },
   {
    "duration": 219,
    "start_time": "2025-05-15T22:11:43.473Z"
   },
   {
    "duration": 193,
    "start_time": "2025-05-15T22:11:43.694Z"
   },
   {
    "duration": 15,
    "start_time": "2025-05-15T22:11:43.889Z"
   },
   {
    "duration": 6,
    "start_time": "2025-05-15T22:11:43.906Z"
   },
   {
    "duration": 14,
    "start_time": "2025-05-15T22:11:43.914Z"
   },
   {
    "duration": 250,
    "start_time": "2025-05-15T22:11:43.929Z"
   },
   {
    "duration": 139,
    "start_time": "2025-05-15T22:11:44.181Z"
   },
   {
    "duration": 62,
    "start_time": "2025-05-15T22:11:44.322Z"
   },
   {
    "duration": 221,
    "start_time": "2025-05-15T22:11:44.386Z"
   },
   {
    "duration": 3,
    "start_time": "2025-05-15T22:11:44.609Z"
   },
   {
    "duration": 135,
    "start_time": "2025-05-15T22:11:44.613Z"
   },
   {
    "duration": 130,
    "start_time": "2025-05-15T22:11:44.749Z"
   },
   {
    "duration": 185,
    "start_time": "2025-05-15T22:11:44.880Z"
   },
   {
    "duration": 50,
    "start_time": "2025-05-15T22:11:45.066Z"
   },
   {
    "duration": 62,
    "start_time": "2025-05-15T22:11:45.117Z"
   },
   {
    "duration": 126,
    "start_time": "2025-05-15T22:11:45.180Z"
   },
   {
    "duration": 2783,
    "start_time": "2025-05-15T22:11:45.307Z"
   },
   {
    "duration": 14,
    "start_time": "2025-05-15T22:11:48.091Z"
   },
   {
    "duration": 1393,
    "start_time": "2025-05-16T04:31:36.296Z"
   },
   {
    "duration": 2089,
    "start_time": "2025-05-16T04:31:37.691Z"
   },
   {
    "duration": 5,
    "start_time": "2025-05-16T04:31:39.782Z"
   },
   {
    "duration": 34,
    "start_time": "2025-05-16T04:31:39.789Z"
   },
   {
    "duration": 261,
    "start_time": "2025-05-16T04:31:39.825Z"
   },
   {
    "duration": 16,
    "start_time": "2025-05-16T04:31:40.088Z"
   },
   {
    "duration": 284,
    "start_time": "2025-05-16T04:31:40.106Z"
   },
   {
    "duration": 159,
    "start_time": "2025-05-16T04:31:40.392Z"
   },
   {
    "duration": 62,
    "start_time": "2025-05-16T04:31:40.552Z"
   },
   {
    "duration": 259,
    "start_time": "2025-05-16T04:31:40.617Z"
   },
   {
    "duration": 177,
    "start_time": "2025-05-16T04:31:40.878Z"
   },
   {
    "duration": 154,
    "start_time": "2025-05-16T04:31:41.056Z"
   },
   {
    "duration": 203,
    "start_time": "2025-05-16T04:31:41.211Z"
   },
   {
    "duration": 65,
    "start_time": "2025-05-16T04:31:41.416Z"
   },
   {
    "duration": 56,
    "start_time": "2025-05-16T04:31:41.483Z"
   },
   {
    "duration": 128,
    "start_time": "2025-05-16T04:31:41.540Z"
   },
   {
    "duration": 3128,
    "start_time": "2025-05-16T04:31:41.670Z"
   },
   {
    "duration": 15,
    "start_time": "2025-05-16T04:31:44.800Z"
   },
   {
    "duration": 11,
    "start_time": "2025-05-16T04:35:57.523Z"
   },
   {
    "duration": 10,
    "start_time": "2025-05-16T04:36:06.939Z"
   },
   {
    "duration": 17,
    "start_time": "2025-05-16T04:36:19.122Z"
   },
   {
    "duration": 9,
    "start_time": "2025-05-16T04:36:37.186Z"
   },
   {
    "duration": 95,
    "start_time": "2025-05-16T04:36:55.386Z"
   },
   {
    "duration": 16,
    "start_time": "2025-05-16T04:37:02.459Z"
   },
   {
    "duration": 8,
    "start_time": "2025-05-16T04:38:05.466Z"
   },
   {
    "duration": 28,
    "start_time": "2025-05-16T04:38:19.978Z"
   },
   {
    "duration": 93,
    "start_time": "2025-05-16T09:06:48.224Z"
   },
   {
    "duration": 1433,
    "start_time": "2025-05-16T09:42:48.490Z"
   },
   {
    "duration": 2389,
    "start_time": "2025-05-16T09:42:52.089Z"
   },
   {
    "duration": 5,
    "start_time": "2025-05-16T09:43:01.649Z"
   },
   {
    "duration": 57,
    "start_time": "2025-05-16T09:43:10.634Z"
   },
   {
    "duration": 274,
    "start_time": "2025-05-16T09:43:29.989Z"
   },
   {
    "duration": 167,
    "start_time": "2025-05-16T09:47:17.324Z"
   },
   {
    "duration": 13,
    "start_time": "2025-05-16T09:49:56.906Z"
   },
   {
    "duration": 61,
    "start_time": "2025-05-16T09:50:22.526Z"
   },
   {
    "duration": 11,
    "start_time": "2025-05-16T09:51:46.302Z"
   },
   {
    "duration": 8849,
    "start_time": "2025-05-16T09:52:50.813Z"
   },
   {
    "duration": 199,
    "start_time": "2025-05-16T09:53:09.191Z"
   },
   {
    "duration": 3,
    "start_time": "2025-05-16T10:28:11.467Z"
   },
   {
    "duration": 440,
    "start_time": "2025-05-16T10:28:39.956Z"
   },
   {
    "duration": 145,
    "start_time": "2025-05-16T10:53:01.046Z"
   },
   {
    "duration": 14,
    "start_time": "2025-05-16T10:53:23.109Z"
   },
   {
    "duration": 3192,
    "start_time": "2025-05-16T10:54:11.571Z"
   },
   {
    "duration": 2467,
    "start_time": "2025-05-16T10:54:20.946Z"
   },
   {
    "duration": 3081,
    "start_time": "2025-05-16T10:57:26.182Z"
   },
   {
    "duration": 57,
    "start_time": "2025-05-16T10:58:39.170Z"
   },
   {
    "duration": 31,
    "start_time": "2025-05-16T10:59:20.961Z"
   },
   {
    "duration": 37,
    "start_time": "2025-05-16T11:00:01.096Z"
   },
   {
    "duration": 31,
    "start_time": "2025-05-16T11:00:18.207Z"
   },
   {
    "duration": 23,
    "start_time": "2025-05-16T11:12:56.770Z"
   },
   {
    "duration": 43,
    "start_time": "2025-05-16T11:13:34.596Z"
   },
   {
    "duration": 64,
    "start_time": "2025-05-16T11:13:59.540Z"
   },
   {
    "duration": 44,
    "start_time": "2025-05-16T11:14:18.116Z"
   },
   {
    "duration": 60,
    "start_time": "2025-05-16T11:14:48.015Z"
   },
   {
    "duration": 35,
    "start_time": "2025-05-16T11:16:38.776Z"
   },
   {
    "duration": 77,
    "start_time": "2025-05-16T11:18:02.540Z"
   },
   {
    "duration": 80,
    "start_time": "2025-05-16T11:18:49.076Z"
   },
   {
    "duration": 99,
    "start_time": "2025-05-16T11:19:25.689Z"
   },
   {
    "duration": 71,
    "start_time": "2025-05-16T11:19:44.204Z"
   },
   {
    "duration": 71,
    "start_time": "2025-05-16T11:20:02.764Z"
   },
   {
    "duration": 59,
    "start_time": "2025-05-16T11:20:17.914Z"
   },
   {
    "duration": 1492,
    "start_time": "2025-05-16T14:59:30.242Z"
   },
   {
    "duration": 2729,
    "start_time": "2025-05-16T14:59:31.736Z"
   },
   {
    "duration": 6,
    "start_time": "2025-05-16T14:59:34.467Z"
   },
   {
    "duration": 65,
    "start_time": "2025-05-16T14:59:34.474Z"
   },
   {
    "duration": 256,
    "start_time": "2025-05-16T14:59:34.541Z"
   },
   {
    "duration": 9020,
    "start_time": "2025-05-16T14:59:34.798Z"
   },
   {
    "duration": 197,
    "start_time": "2025-05-16T14:59:43.820Z"
   },
   {
    "duration": 17,
    "start_time": "2025-05-16T14:59:44.019Z"
   },
   {
    "duration": 320,
    "start_time": "2025-05-16T14:59:44.038Z"
   },
   {
    "duration": 344,
    "start_time": "2025-05-16T14:59:44.359Z"
   },
   {
    "duration": 154,
    "start_time": "2025-05-16T14:59:44.705Z"
   },
   {
    "duration": 3132,
    "start_time": "2025-05-16T14:59:44.861Z"
   },
   {
    "duration": 2958,
    "start_time": "2025-05-16T14:59:47.996Z"
   },
   {
    "duration": 260,
    "start_time": "2025-05-16T14:59:50.957Z"
   },
   {
    "duration": 0,
    "start_time": "2025-05-16T14:59:51.219Z"
   },
   {
    "duration": 0,
    "start_time": "2025-05-16T14:59:51.221Z"
   },
   {
    "duration": 0,
    "start_time": "2025-05-16T14:59:51.223Z"
   },
   {
    "duration": 0,
    "start_time": "2025-05-16T14:59:51.224Z"
   },
   {
    "duration": 0,
    "start_time": "2025-05-16T14:59:51.226Z"
   },
   {
    "duration": 0,
    "start_time": "2025-05-16T14:59:51.227Z"
   },
   {
    "duration": 0,
    "start_time": "2025-05-16T14:59:51.228Z"
   },
   {
    "duration": 0,
    "start_time": "2025-05-16T14:59:51.229Z"
   },
   {
    "duration": 0,
    "start_time": "2025-05-16T14:59:51.230Z"
   },
   {
    "duration": 51,
    "start_time": "2025-05-16T15:00:21.747Z"
   },
   {
    "duration": 43,
    "start_time": "2025-05-16T15:03:35.186Z"
   },
   {
    "duration": 36,
    "start_time": "2025-05-16T15:04:03.226Z"
   },
   {
    "duration": 60,
    "start_time": "2025-05-16T15:04:55.212Z"
   },
   {
    "duration": 61,
    "start_time": "2025-05-16T15:05:27.552Z"
   },
   {
    "duration": 45,
    "start_time": "2025-05-16T15:06:05.376Z"
   },
   {
    "duration": 89,
    "start_time": "2025-05-16T15:06:50.974Z"
   },
   {
    "duration": 83,
    "start_time": "2025-05-16T15:07:12.197Z"
   },
   {
    "duration": 35,
    "start_time": "2025-05-16T15:07:47.678Z"
   },
   {
    "duration": 44,
    "start_time": "2025-05-16T17:16:53.275Z"
   },
   {
    "duration": 42,
    "start_time": "2025-05-16T17:17:12.377Z"
   },
   {
    "duration": 39,
    "start_time": "2025-05-16T17:21:11.666Z"
   },
   {
    "duration": 40,
    "start_time": "2025-05-16T17:21:23.098Z"
   },
   {
    "duration": 61,
    "start_time": "2025-05-16T17:26:48.676Z"
   },
   {
    "duration": 39,
    "start_time": "2025-05-16T17:30:23.917Z"
   },
   {
    "duration": 1437,
    "start_time": "2025-05-16T17:30:36.733Z"
   },
   {
    "duration": 40,
    "start_time": "2025-05-16T17:31:04.494Z"
   },
   {
    "duration": 39,
    "start_time": "2025-05-16T17:31:17.853Z"
   },
   {
    "duration": 40,
    "start_time": "2025-05-16T17:31:28.662Z"
   },
   {
    "duration": 43,
    "start_time": "2025-05-16T17:31:47.807Z"
   },
   {
    "duration": 38,
    "start_time": "2025-05-16T17:32:16.625Z"
   },
   {
    "duration": 41,
    "start_time": "2025-05-16T17:32:34.215Z"
   },
   {
    "duration": 38,
    "start_time": "2025-05-16T17:32:39.598Z"
   },
   {
    "duration": 125,
    "start_time": "2025-05-16T17:35:39.970Z"
   },
   {
    "duration": 33,
    "start_time": "2025-05-16T17:35:58.622Z"
   },
   {
    "duration": 26,
    "start_time": "2025-05-16T17:37:41.497Z"
   },
   {
    "duration": 231,
    "start_time": "2025-05-16T17:42:00.798Z"
   },
   {
    "duration": 87,
    "start_time": "2025-05-16T17:42:58.680Z"
   },
   {
    "duration": 24,
    "start_time": "2025-05-16T17:43:19.771Z"
   },
   {
    "duration": 97,
    "start_time": "2025-05-16T17:43:53.567Z"
   },
   {
    "duration": 37,
    "start_time": "2025-05-16T17:44:04.000Z"
   },
   {
    "duration": 377,
    "start_time": "2025-05-16T17:45:57.599Z"
   },
   {
    "duration": 13,
    "start_time": "2025-05-16T17:47:02.185Z"
   },
   {
    "duration": 347,
    "start_time": "2025-05-16T17:48:09.332Z"
   },
   {
    "duration": 44,
    "start_time": "2025-05-16T17:49:02.193Z"
   },
   {
    "duration": 38,
    "start_time": "2025-05-16T17:49:08.130Z"
   },
   {
    "duration": 38,
    "start_time": "2025-05-16T17:49:17.796Z"
   },
   {
    "duration": 222,
    "start_time": "2025-05-16T17:49:24.915Z"
   },
   {
    "duration": 88,
    "start_time": "2025-05-16T17:51:45.956Z"
   },
   {
    "duration": 37,
    "start_time": "2025-05-16T17:52:53.453Z"
   },
   {
    "duration": 37,
    "start_time": "2025-05-16T17:53:19.639Z"
   },
   {
    "duration": 56,
    "start_time": "2025-05-16T17:53:44.196Z"
   },
   {
    "duration": 58,
    "start_time": "2025-05-16T17:54:02.134Z"
   },
   {
    "duration": 57,
    "start_time": "2025-05-16T17:55:44.162Z"
   },
   {
    "duration": 55,
    "start_time": "2025-05-16T17:56:12.608Z"
   },
   {
    "duration": 58,
    "start_time": "2025-05-16T17:57:07.928Z"
   },
   {
    "duration": 58,
    "start_time": "2025-05-16T17:57:51.889Z"
   },
   {
    "duration": 41,
    "start_time": "2025-05-16T18:10:10.089Z"
   },
   {
    "duration": 37,
    "start_time": "2025-05-16T18:11:48.066Z"
   },
   {
    "duration": 36,
    "start_time": "2025-05-16T18:12:19.149Z"
   },
   {
    "duration": 34,
    "start_time": "2025-05-16T18:12:39.905Z"
   },
   {
    "duration": 38,
    "start_time": "2025-05-16T18:12:50.647Z"
   },
   {
    "duration": 38,
    "start_time": "2025-05-16T18:12:58.016Z"
   },
   {
    "duration": 40,
    "start_time": "2025-05-16T18:13:10.203Z"
   },
   {
    "duration": 35,
    "start_time": "2025-05-16T18:13:19.041Z"
   },
   {
    "duration": 38,
    "start_time": "2025-05-16T18:13:49.273Z"
   },
   {
    "duration": 37,
    "start_time": "2025-05-16T18:14:23.768Z"
   },
   {
    "duration": 33,
    "start_time": "2025-05-16T18:14:31.259Z"
   },
   {
    "duration": 37,
    "start_time": "2025-05-16T18:15:11.139Z"
   },
   {
    "duration": 37,
    "start_time": "2025-05-16T18:15:46.521Z"
   },
   {
    "duration": 56,
    "start_time": "2025-05-16T18:16:55.083Z"
   },
   {
    "duration": 45,
    "start_time": "2025-05-16T18:17:19.366Z"
   },
   {
    "duration": 38,
    "start_time": "2025-05-16T18:18:02.564Z"
   },
   {
    "duration": 37,
    "start_time": "2025-05-16T18:18:09.866Z"
   },
   {
    "duration": 35,
    "start_time": "2025-05-16T18:18:40.451Z"
   },
   {
    "duration": 38,
    "start_time": "2025-05-16T18:19:50.975Z"
   },
   {
    "duration": 43,
    "start_time": "2025-05-16T18:22:10.319Z"
   },
   {
    "duration": 39,
    "start_time": "2025-05-16T18:22:41.720Z"
   },
   {
    "duration": 97,
    "start_time": "2025-05-16T18:23:16.458Z"
   },
   {
    "duration": 43,
    "start_time": "2025-05-16T18:23:29.852Z"
   },
   {
    "duration": 91,
    "start_time": "2025-05-16T18:27:32.782Z"
   },
   {
    "duration": 40,
    "start_time": "2025-05-16T18:27:43.913Z"
   },
   {
    "duration": 33,
    "start_time": "2025-05-16T18:27:55.602Z"
   },
   {
    "duration": 34,
    "start_time": "2025-05-16T18:28:03.820Z"
   },
   {
    "duration": 39,
    "start_time": "2025-05-16T18:28:15.249Z"
   },
   {
    "duration": 40,
    "start_time": "2025-05-16T18:32:34.273Z"
   },
   {
    "duration": 221,
    "start_time": "2025-05-16T18:32:39.536Z"
   },
   {
    "duration": 443,
    "start_time": "2025-05-16T18:50:29.500Z"
   },
   {
    "duration": 140,
    "start_time": "2025-05-16T18:53:56.755Z"
   },
   {
    "duration": 120,
    "start_time": "2025-05-16T18:59:18.522Z"
   },
   {
    "duration": 9,
    "start_time": "2025-05-16T19:10:24.612Z"
   },
   {
    "duration": 108,
    "start_time": "2025-05-16T19:10:47.697Z"
   },
   {
    "duration": 1248,
    "start_time": "2025-05-16T19:13:31.925Z"
   },
   {
    "duration": 1349,
    "start_time": "2025-05-16T19:14:24.715Z"
   },
   {
    "duration": 184,
    "start_time": "2025-05-16T19:15:10.902Z"
   },
   {
    "duration": 169,
    "start_time": "2025-05-16T19:17:41.005Z"
   },
   {
    "duration": 166,
    "start_time": "2025-05-16T19:18:01.279Z"
   },
   {
    "duration": 105,
    "start_time": "2025-05-16T19:22:27.132Z"
   },
   {
    "duration": 152,
    "start_time": "2025-05-16T19:23:00.722Z"
   },
   {
    "duration": 157,
    "start_time": "2025-05-16T19:24:01.682Z"
   },
   {
    "duration": 186,
    "start_time": "2025-05-16T19:25:06.233Z"
   },
   {
    "duration": 87,
    "start_time": "2025-05-16T19:33:47.921Z"
   },
   {
    "duration": 54,
    "start_time": "2025-05-16T19:34:12.260Z"
   },
   {
    "duration": 51,
    "start_time": "2025-05-16T19:34:58.639Z"
   },
   {
    "duration": 56,
    "start_time": "2025-05-16T19:35:53.069Z"
   },
   {
    "duration": 86,
    "start_time": "2025-05-16T19:36:32.844Z"
   },
   {
    "duration": 44,
    "start_time": "2025-05-16T19:37:17.995Z"
   },
   {
    "duration": 110,
    "start_time": "2025-05-16T20:06:53.452Z"
   },
   {
    "duration": 1130,
    "start_time": "2025-05-16T20:09:13.107Z"
   },
   {
    "duration": 2986,
    "start_time": "2025-05-16T20:09:14.240Z"
   },
   {
    "duration": 4,
    "start_time": "2025-05-16T20:09:17.228Z"
   },
   {
    "duration": 71,
    "start_time": "2025-05-16T20:09:17.234Z"
   },
   {
    "duration": 219,
    "start_time": "2025-05-16T20:09:17.306Z"
   },
   {
    "duration": 2371,
    "start_time": "2025-05-16T20:09:17.526Z"
   },
   {
    "duration": 201,
    "start_time": "2025-05-16T20:09:19.898Z"
   },
   {
    "duration": 17,
    "start_time": "2025-05-16T20:09:20.101Z"
   },
   {
    "duration": 266,
    "start_time": "2025-05-16T20:09:20.120Z"
   },
   {
    "duration": 316,
    "start_time": "2025-05-16T20:09:20.388Z"
   },
   {
    "duration": 160,
    "start_time": "2025-05-16T20:09:20.705Z"
   },
   {
    "duration": 2322,
    "start_time": "2025-05-16T20:09:20.866Z"
   },
   {
    "duration": 2688,
    "start_time": "2025-05-16T20:09:23.190Z"
   },
   {
    "duration": 135,
    "start_time": "2025-05-16T20:09:25.880Z"
   },
   {
    "duration": 254,
    "start_time": "2025-05-16T20:09:26.017Z"
   },
   {
    "duration": 134,
    "start_time": "2025-05-16T20:09:26.272Z"
   },
   {
    "duration": 163,
    "start_time": "2025-05-16T20:09:26.408Z"
   },
   {
    "duration": 183,
    "start_time": "2025-05-16T20:09:26.572Z"
   },
   {
    "duration": 60,
    "start_time": "2025-05-16T20:09:26.756Z"
   },
   {
    "duration": 68,
    "start_time": "2025-05-16T20:09:26.818Z"
   },
   {
    "duration": 48,
    "start_time": "2025-05-16T20:24:34.830Z"
   },
   {
    "duration": 7,
    "start_time": "2025-05-16T20:25:20.781Z"
   },
   {
    "duration": 6,
    "start_time": "2025-05-16T20:27:00.619Z"
   },
   {
    "duration": 1047,
    "start_time": "2025-05-16T20:27:21.129Z"
   },
   {
    "duration": 2146,
    "start_time": "2025-05-16T20:27:22.177Z"
   },
   {
    "duration": 6,
    "start_time": "2025-05-16T20:27:24.325Z"
   },
   {
    "duration": 78,
    "start_time": "2025-05-16T20:27:24.333Z"
   },
   {
    "duration": 244,
    "start_time": "2025-05-16T20:27:24.413Z"
   },
   {
    "duration": 2320,
    "start_time": "2025-05-16T20:27:24.671Z"
   },
   {
    "duration": 171,
    "start_time": "2025-05-16T20:27:26.993Z"
   },
   {
    "duration": 16,
    "start_time": "2025-05-16T20:27:27.166Z"
   },
   {
    "duration": 241,
    "start_time": "2025-05-16T20:27:27.184Z"
   },
   {
    "duration": 297,
    "start_time": "2025-05-16T20:27:27.427Z"
   },
   {
    "duration": 149,
    "start_time": "2025-05-16T20:27:27.726Z"
   },
   {
    "duration": 2301,
    "start_time": "2025-05-16T20:27:27.877Z"
   },
   {
    "duration": 2786,
    "start_time": "2025-05-16T20:27:30.180Z"
   },
   {
    "duration": 130,
    "start_time": "2025-05-16T20:27:32.970Z"
   },
   {
    "duration": 244,
    "start_time": "2025-05-16T20:27:33.101Z"
   },
   {
    "duration": 141,
    "start_time": "2025-05-16T20:27:33.347Z"
   },
   {
    "duration": 173,
    "start_time": "2025-05-16T20:27:33.489Z"
   },
   {
    "duration": 193,
    "start_time": "2025-05-16T20:27:33.664Z"
   },
   {
    "duration": 62,
    "start_time": "2025-05-16T20:27:33.859Z"
   },
   {
    "duration": 66,
    "start_time": "2025-05-16T20:27:33.922Z"
   },
   {
    "duration": 43,
    "start_time": "2025-05-16T20:27:33.989Z"
   },
   {
    "duration": 144,
    "start_time": "2025-05-16T20:27:34.033Z"
   },
   {
    "duration": 112,
    "start_time": "2025-05-16T20:27:34.179Z"
   },
   {
    "duration": 162,
    "start_time": "2025-05-16T20:27:34.293Z"
   },
   {
    "duration": 0,
    "start_time": "2025-05-16T20:27:34.457Z"
   },
   {
    "duration": 1260,
    "start_time": "2025-05-16T20:28:57.907Z"
   },
   {
    "duration": 1336,
    "start_time": "2025-05-16T20:29:07.842Z"
   },
   {
    "duration": 16,
    "start_time": "2025-05-16T20:29:26.986Z"
   },
   {
    "duration": 18,
    "start_time": "2025-05-16T20:29:54.636Z"
   },
   {
    "duration": 61,
    "start_time": "2025-05-16T20:30:34.798Z"
   },
   {
    "duration": 143,
    "start_time": "2025-05-16T20:31:00.091Z"
   },
   {
    "duration": 4,
    "start_time": "2025-05-16T20:50:14.840Z"
   },
   {
    "duration": 4,
    "start_time": "2025-05-16T20:53:02.953Z"
   },
   {
    "duration": 14,
    "start_time": "2025-05-16T20:56:38.152Z"
   },
   {
    "duration": 9,
    "start_time": "2025-05-16T20:57:07.157Z"
   },
   {
    "duration": 19,
    "start_time": "2025-05-16T20:57:39.766Z"
   },
   {
    "duration": 1434,
    "start_time": "2025-05-16T21:05:32.690Z"
   },
   {
    "duration": 27,
    "start_time": "2025-05-16T21:06:17.851Z"
   },
   {
    "duration": 52,
    "start_time": "2025-05-16T21:06:41.041Z"
   },
   {
    "duration": 256,
    "start_time": "2025-05-16T21:06:55.918Z"
   },
   {
    "duration": 279,
    "start_time": "2025-05-16T21:11:02.813Z"
   },
   {
    "duration": 857,
    "start_time": "2025-05-16T21:25:16.876Z"
   },
   {
    "duration": 787,
    "start_time": "2025-05-16T21:27:42.956Z"
   },
   {
    "duration": 749,
    "start_time": "2025-05-16T21:28:36.208Z"
   },
   {
    "duration": 857,
    "start_time": "2025-05-16T21:29:20.714Z"
   },
   {
    "duration": 819,
    "start_time": "2025-05-16T21:29:51.527Z"
   },
   {
    "duration": 807,
    "start_time": "2025-05-16T21:30:21.410Z"
   },
   {
    "duration": 816,
    "start_time": "2025-05-16T21:30:55.355Z"
   },
   {
    "duration": 823,
    "start_time": "2025-05-16T21:31:06.869Z"
   },
   {
    "duration": 820,
    "start_time": "2025-05-16T21:38:00.458Z"
   },
   {
    "duration": 804,
    "start_time": "2025-05-16T21:39:43.578Z"
   },
   {
    "duration": 831,
    "start_time": "2025-05-16T21:41:11.477Z"
   },
   {
    "duration": 823,
    "start_time": "2025-05-16T21:41:45.851Z"
   },
   {
    "duration": 830,
    "start_time": "2025-05-16T21:44:45.661Z"
   },
   {
    "duration": 1074,
    "start_time": "2025-05-16T21:45:07.718Z"
   },
   {
    "duration": 1982,
    "start_time": "2025-05-16T21:45:08.794Z"
   },
   {
    "duration": 4,
    "start_time": "2025-05-16T21:45:10.778Z"
   },
   {
    "duration": 56,
    "start_time": "2025-05-16T21:45:10.783Z"
   },
   {
    "duration": 264,
    "start_time": "2025-05-16T21:45:10.841Z"
   },
   {
    "duration": 2350,
    "start_time": "2025-05-16T21:45:11.107Z"
   },
   {
    "duration": 163,
    "start_time": "2025-05-16T21:45:13.460Z"
   },
   {
    "duration": 18,
    "start_time": "2025-05-16T21:45:13.624Z"
   },
   {
    "duration": 242,
    "start_time": "2025-05-16T21:45:13.644Z"
   },
   {
    "duration": 292,
    "start_time": "2025-05-16T21:45:13.887Z"
   },
   {
    "duration": 138,
    "start_time": "2025-05-16T21:45:14.181Z"
   },
   {
    "duration": 2292,
    "start_time": "2025-05-16T21:45:14.321Z"
   },
   {
    "duration": 2697,
    "start_time": "2025-05-16T21:45:16.615Z"
   },
   {
    "duration": 135,
    "start_time": "2025-05-16T21:45:19.315Z"
   },
   {
    "duration": 240,
    "start_time": "2025-05-16T21:45:19.452Z"
   },
   {
    "duration": 138,
    "start_time": "2025-05-16T21:45:19.694Z"
   },
   {
    "duration": 175,
    "start_time": "2025-05-16T21:45:19.833Z"
   },
   {
    "duration": 192,
    "start_time": "2025-05-16T21:45:20.010Z"
   },
   {
    "duration": 70,
    "start_time": "2025-05-16T21:45:20.204Z"
   },
   {
    "duration": 45,
    "start_time": "2025-05-16T21:45:20.275Z"
   },
   {
    "duration": 187,
    "start_time": "2025-05-16T21:45:20.321Z"
   },
   {
    "duration": 114,
    "start_time": "2025-05-16T21:45:20.510Z"
   },
   {
    "duration": 1348,
    "start_time": "2025-05-16T21:45:20.626Z"
   },
   {
    "duration": 17,
    "start_time": "2025-05-16T21:45:21.976Z"
   },
   {
    "duration": 127,
    "start_time": "2025-05-16T21:45:21.995Z"
   },
   {
    "duration": 0,
    "start_time": "2025-05-16T21:45:22.124Z"
   },
   {
    "duration": 0,
    "start_time": "2025-05-16T21:45:22.125Z"
   },
   {
    "duration": 1130,
    "start_time": "2025-05-16T21:46:03.667Z"
   },
   {
    "duration": 2368,
    "start_time": "2025-05-16T21:46:04.799Z"
   },
   {
    "duration": 4,
    "start_time": "2025-05-16T21:46:07.168Z"
   },
   {
    "duration": 65,
    "start_time": "2025-05-16T21:46:07.174Z"
   },
   {
    "duration": 266,
    "start_time": "2025-05-16T21:46:07.241Z"
   },
   {
    "duration": 2354,
    "start_time": "2025-05-16T21:46:07.509Z"
   },
   {
    "duration": 175,
    "start_time": "2025-05-16T21:46:09.865Z"
   },
   {
    "duration": 18,
    "start_time": "2025-05-16T21:46:10.041Z"
   },
   {
    "duration": 242,
    "start_time": "2025-05-16T21:46:10.060Z"
   },
   {
    "duration": 293,
    "start_time": "2025-05-16T21:46:10.304Z"
   },
   {
    "duration": 152,
    "start_time": "2025-05-16T21:46:10.599Z"
   },
   {
    "duration": 2332,
    "start_time": "2025-05-16T21:46:10.752Z"
   },
   {
    "duration": 2661,
    "start_time": "2025-05-16T21:46:13.086Z"
   },
   {
    "duration": 129,
    "start_time": "2025-05-16T21:46:15.750Z"
   },
   {
    "duration": 229,
    "start_time": "2025-05-16T21:46:15.880Z"
   },
   {
    "duration": 145,
    "start_time": "2025-05-16T21:46:16.111Z"
   },
   {
    "duration": 163,
    "start_time": "2025-05-16T21:46:16.257Z"
   },
   {
    "duration": 186,
    "start_time": "2025-05-16T21:46:16.421Z"
   },
   {
    "duration": 71,
    "start_time": "2025-05-16T21:46:16.608Z"
   },
   {
    "duration": 45,
    "start_time": "2025-05-16T21:46:16.680Z"
   },
   {
    "duration": 177,
    "start_time": "2025-05-16T21:46:16.727Z"
   },
   {
    "duration": 115,
    "start_time": "2025-05-16T21:46:16.905Z"
   },
   {
    "duration": 1291,
    "start_time": "2025-05-16T21:46:17.022Z"
   },
   {
    "duration": 18,
    "start_time": "2025-05-16T21:46:18.314Z"
   },
   {
    "duration": 864,
    "start_time": "2025-05-16T21:46:18.334Z"
   },
   {
    "duration": 1117,
    "start_time": "2025-05-17T06:56:58.836Z"
   },
   {
    "duration": 2894,
    "start_time": "2025-05-17T06:56:59.954Z"
   },
   {
    "duration": 5,
    "start_time": "2025-05-17T06:57:02.849Z"
   },
   {
    "duration": 81,
    "start_time": "2025-05-17T06:57:02.855Z"
   },
   {
    "duration": 226,
    "start_time": "2025-05-17T06:57:02.937Z"
   },
   {
    "duration": 8119,
    "start_time": "2025-05-17T06:57:03.164Z"
   },
   {
    "duration": 159,
    "start_time": "2025-05-17T06:57:11.285Z"
   },
   {
    "duration": 24,
    "start_time": "2025-05-17T06:57:11.446Z"
   },
   {
    "duration": 234,
    "start_time": "2025-05-17T06:57:11.472Z"
   },
   {
    "duration": 291,
    "start_time": "2025-05-17T06:57:11.708Z"
   },
   {
    "duration": 142,
    "start_time": "2025-05-17T06:57:12.000Z"
   },
   {
    "duration": 2889,
    "start_time": "2025-05-17T06:57:12.143Z"
   },
   {
    "duration": 2554,
    "start_time": "2025-05-17T06:57:15.034Z"
   },
   {
    "duration": 131,
    "start_time": "2025-05-17T06:57:17.589Z"
   },
   {
    "duration": 241,
    "start_time": "2025-05-17T06:57:17.721Z"
   },
   {
    "duration": 137,
    "start_time": "2025-05-17T06:57:17.964Z"
   },
   {
    "duration": 156,
    "start_time": "2025-05-17T06:57:18.102Z"
   },
   {
    "duration": 185,
    "start_time": "2025-05-17T06:57:18.260Z"
   },
   {
    "duration": 61,
    "start_time": "2025-05-17T06:57:18.447Z"
   },
   {
    "duration": 63,
    "start_time": "2025-05-17T06:57:18.510Z"
   },
   {
    "duration": 154,
    "start_time": "2025-05-17T06:57:18.574Z"
   },
   {
    "duration": 112,
    "start_time": "2025-05-17T06:57:18.729Z"
   },
   {
    "duration": 1273,
    "start_time": "2025-05-17T06:57:18.843Z"
   },
   {
    "duration": 17,
    "start_time": "2025-05-17T06:57:20.118Z"
   },
   {
    "duration": 832,
    "start_time": "2025-05-17T06:57:20.137Z"
   },
   {
    "duration": 20,
    "start_time": "2025-05-17T06:57:33.676Z"
   },
   {
    "duration": 1445,
    "start_time": "2025-05-17T07:33:11.654Z"
   },
   {
    "duration": 2358,
    "start_time": "2025-05-17T07:33:13.101Z"
   },
   {
    "duration": 6,
    "start_time": "2025-05-17T07:33:15.460Z"
   },
   {
    "duration": 67,
    "start_time": "2025-05-17T07:33:15.468Z"
   },
   {
    "duration": 284,
    "start_time": "2025-05-17T07:33:15.540Z"
   },
   {
    "duration": 8838,
    "start_time": "2025-05-17T07:33:15.840Z"
   },
   {
    "duration": 196,
    "start_time": "2025-05-17T07:33:24.680Z"
   },
   {
    "duration": 19,
    "start_time": "2025-05-17T07:33:24.878Z"
   },
   {
    "duration": 292,
    "start_time": "2025-05-17T07:33:24.898Z"
   },
   {
    "duration": 335,
    "start_time": "2025-05-17T07:33:25.192Z"
   },
   {
    "duration": 152,
    "start_time": "2025-05-17T07:33:25.538Z"
   },
   {
    "duration": 2896,
    "start_time": "2025-05-17T07:33:25.692Z"
   },
   {
    "duration": 2819,
    "start_time": "2025-05-17T07:33:28.590Z"
   },
   {
    "duration": 154,
    "start_time": "2025-05-17T07:33:31.412Z"
   },
   {
    "duration": 241,
    "start_time": "2025-05-17T07:33:31.567Z"
   },
   {
    "duration": 146,
    "start_time": "2025-05-17T07:33:31.810Z"
   },
   {
    "duration": 173,
    "start_time": "2025-05-17T07:33:31.958Z"
   },
   {
    "duration": 201,
    "start_time": "2025-05-17T07:33:32.138Z"
   },
   {
    "duration": 59,
    "start_time": "2025-05-17T07:33:32.341Z"
   },
   {
    "duration": 86,
    "start_time": "2025-05-17T07:33:32.401Z"
   },
   {
    "duration": 182,
    "start_time": "2025-05-17T07:33:32.488Z"
   },
   {
    "duration": 134,
    "start_time": "2025-05-17T07:33:32.672Z"
   },
   {
    "duration": 1412,
    "start_time": "2025-05-17T07:33:32.808Z"
   },
   {
    "duration": 28,
    "start_time": "2025-05-17T07:33:34.222Z"
   },
   {
    "duration": 893,
    "start_time": "2025-05-17T07:33:34.252Z"
   },
   {
    "duration": 41,
    "start_time": "2025-05-17T07:33:35.147Z"
   },
   {
    "duration": 9,
    "start_time": "2025-05-17T07:33:35.190Z"
   },
   {
    "duration": 24,
    "start_time": "2025-05-17T07:34:10.007Z"
   },
   {
    "duration": 21,
    "start_time": "2025-05-17T07:34:15.511Z"
   },
   {
    "duration": 11,
    "start_time": "2025-05-17T07:35:05.516Z"
   },
   {
    "duration": 10,
    "start_time": "2025-05-17T07:36:10.071Z"
   },
   {
    "duration": 13,
    "start_time": "2025-05-17T07:36:30.121Z"
   },
   {
    "duration": 11,
    "start_time": "2025-05-17T07:36:41.946Z"
   },
   {
    "duration": 11,
    "start_time": "2025-05-17T07:36:58.545Z"
   },
   {
    "duration": 41,
    "start_time": "2025-05-17T07:46:53.446Z"
   },
   {
    "duration": 1162,
    "start_time": "2025-05-17T07:47:49.979Z"
   },
   {
    "duration": 1025,
    "start_time": "2025-05-17T07:48:21.134Z"
   },
   {
    "duration": 144,
    "start_time": "2025-05-17T07:48:41.796Z"
   },
   {
    "duration": 40,
    "start_time": "2025-05-17T07:51:31.781Z"
   },
   {
    "duration": 11,
    "start_time": "2025-05-17T07:54:55.336Z"
   },
   {
    "duration": 117,
    "start_time": "2025-05-17T07:57:00.169Z"
   },
   {
    "duration": 146,
    "start_time": "2025-05-17T07:57:20.272Z"
   },
   {
    "duration": 166,
    "start_time": "2025-05-17T07:58:10.610Z"
   },
   {
    "duration": 112,
    "start_time": "2025-05-17T07:58:58.295Z"
   },
   {
    "duration": 150,
    "start_time": "2025-05-17T08:08:49.273Z"
   },
   {
    "duration": 1482,
    "start_time": "2025-05-17T11:27:18.386Z"
   },
   {
    "duration": 2292,
    "start_time": "2025-05-17T11:27:19.871Z"
   },
   {
    "duration": 5,
    "start_time": "2025-05-17T11:27:22.166Z"
   },
   {
    "duration": 86,
    "start_time": "2025-05-17T11:27:22.173Z"
   },
   {
    "duration": 281,
    "start_time": "2025-05-17T11:27:22.261Z"
   },
   {
    "duration": 8874,
    "start_time": "2025-05-17T11:27:22.544Z"
   },
   {
    "duration": 188,
    "start_time": "2025-05-17T11:27:31.420Z"
   },
   {
    "duration": 18,
    "start_time": "2025-05-17T11:27:31.610Z"
   },
   {
    "duration": 289,
    "start_time": "2025-05-17T11:27:31.629Z"
   },
   {
    "duration": 306,
    "start_time": "2025-05-17T11:27:31.920Z"
   },
   {
    "duration": 154,
    "start_time": "2025-05-17T11:27:32.228Z"
   },
   {
    "duration": 3115,
    "start_time": "2025-05-17T11:27:32.384Z"
   },
   {
    "duration": 2952,
    "start_time": "2025-05-17T11:27:35.501Z"
   },
   {
    "duration": 146,
    "start_time": "2025-05-17T11:27:38.456Z"
   },
   {
    "duration": 257,
    "start_time": "2025-05-17T11:27:38.604Z"
   },
   {
    "duration": 156,
    "start_time": "2025-05-17T11:27:38.863Z"
   },
   {
    "duration": 234,
    "start_time": "2025-05-17T11:27:39.021Z"
   },
   {
    "duration": 210,
    "start_time": "2025-05-17T11:27:39.257Z"
   },
   {
    "duration": 81,
    "start_time": "2025-05-17T11:27:39.468Z"
   },
   {
    "duration": 76,
    "start_time": "2025-05-17T11:27:39.552Z"
   },
   {
    "duration": 186,
    "start_time": "2025-05-17T11:27:39.630Z"
   },
   {
    "duration": 131,
    "start_time": "2025-05-17T11:27:39.818Z"
   },
   {
    "duration": 1471,
    "start_time": "2025-05-17T11:27:39.951Z"
   },
   {
    "duration": 21,
    "start_time": "2025-05-17T11:27:41.425Z"
   },
   {
    "duration": 949,
    "start_time": "2025-05-17T11:27:41.448Z"
   },
   {
    "duration": 111,
    "start_time": "2025-05-17T11:27:42.399Z"
   },
   {
    "duration": 0,
    "start_time": "2025-05-17T11:27:42.512Z"
   },
   {
    "duration": 0,
    "start_time": "2025-05-17T11:27:42.513Z"
   },
   {
    "duration": 0,
    "start_time": "2025-05-17T11:27:42.514Z"
   },
   {
    "duration": 0,
    "start_time": "2025-05-17T11:27:42.515Z"
   },
   {
    "duration": 30,
    "start_time": "2025-05-17T11:28:10.031Z"
   },
   {
    "duration": 36,
    "start_time": "2025-05-17T11:28:23.134Z"
   },
   {
    "duration": 45,
    "start_time": "2025-05-17T11:28:29.830Z"
   },
   {
    "duration": 11,
    "start_time": "2025-05-17T11:28:36.622Z"
   },
   {
    "duration": 256,
    "start_time": "2025-05-17T11:28:39.175Z"
   },
   {
    "duration": 150,
    "start_time": "2025-05-17T11:28:42.278Z"
   },
   {
    "duration": 11,
    "start_time": "2025-05-17T11:29:44.158Z"
   },
   {
    "duration": 13,
    "start_time": "2025-05-17T11:29:59.066Z"
   },
   {
    "duration": 11,
    "start_time": "2025-05-17T11:30:07.640Z"
   },
   {
    "duration": 11,
    "start_time": "2025-05-17T11:30:42.423Z"
   },
   {
    "duration": 11,
    "start_time": "2025-05-17T11:30:51.068Z"
   },
   {
    "duration": 12,
    "start_time": "2025-05-17T11:31:11.766Z"
   },
   {
    "duration": 101,
    "start_time": "2025-05-17T11:34:24.889Z"
   },
   {
    "duration": 113,
    "start_time": "2025-05-17T11:39:52.013Z"
   },
   {
    "duration": 122,
    "start_time": "2025-05-17T11:45:41.153Z"
   },
   {
    "duration": 129,
    "start_time": "2025-05-17T11:46:21.786Z"
   },
   {
    "duration": 112,
    "start_time": "2025-05-17T11:47:31.764Z"
   },
   {
    "duration": 174,
    "start_time": "2025-05-17T11:47:55.881Z"
   },
   {
    "duration": 243,
    "start_time": "2025-05-17T11:50:58.603Z"
   },
   {
    "duration": 190,
    "start_time": "2025-05-17T11:51:41.733Z"
   },
   {
    "duration": 222,
    "start_time": "2025-05-17T11:52:21.589Z"
   },
   {
    "duration": 341,
    "start_time": "2025-05-17T11:52:31.782Z"
   },
   {
    "duration": 74,
    "start_time": "2025-05-17T11:53:07.741Z"
   },
   {
    "duration": 126,
    "start_time": "2025-05-17T11:53:15.654Z"
   },
   {
    "duration": 1043,
    "start_time": "2025-05-17T11:55:58.689Z"
   },
   {
    "duration": 1037,
    "start_time": "2025-05-17T11:56:57.225Z"
   },
   {
    "duration": 41,
    "start_time": "2025-05-17T11:57:48.385Z"
   },
   {
    "duration": 131,
    "start_time": "2025-05-17T12:00:57.974Z"
   },
   {
    "duration": 132,
    "start_time": "2025-05-17T12:05:08.295Z"
   },
   {
    "duration": 139,
    "start_time": "2025-05-17T12:05:42.614Z"
   },
   {
    "duration": 131,
    "start_time": "2025-05-17T12:06:05.878Z"
   },
   {
    "duration": 127,
    "start_time": "2025-05-17T12:06:16.319Z"
   },
   {
    "duration": 216,
    "start_time": "2025-05-17T12:07:59.974Z"
   },
   {
    "duration": 240,
    "start_time": "2025-05-17T12:10:04.892Z"
   },
   {
    "duration": 145,
    "start_time": "2025-05-17T12:11:09.291Z"
   },
   {
    "duration": 442,
    "start_time": "2025-05-17T12:14:46.187Z"
   },
   {
    "duration": 313,
    "start_time": "2025-05-17T12:15:09.293Z"
   },
   {
    "duration": 267,
    "start_time": "2025-05-17T12:31:14.050Z"
   },
   {
    "duration": 267,
    "start_time": "2025-05-17T12:34:51.918Z"
   },
   {
    "duration": 751,
    "start_time": "2025-05-17T12:35:16.888Z"
   },
   {
    "duration": 277,
    "start_time": "2025-05-17T12:36:02.929Z"
   },
   {
    "duration": 1219,
    "start_time": "2025-05-17T13:14:29.233Z"
   },
   {
    "duration": 2236,
    "start_time": "2025-05-17T13:14:30.454Z"
   },
   {
    "duration": 5,
    "start_time": "2025-05-17T13:14:32.691Z"
   },
   {
    "duration": 156,
    "start_time": "2025-05-17T13:14:32.697Z"
   },
   {
    "duration": 268,
    "start_time": "2025-05-17T13:14:32.856Z"
   },
   {
    "duration": 2625,
    "start_time": "2025-05-17T13:14:33.126Z"
   },
   {
    "duration": 185,
    "start_time": "2025-05-17T13:14:35.753Z"
   },
   {
    "duration": 20,
    "start_time": "2025-05-17T13:14:35.940Z"
   },
   {
    "duration": 280,
    "start_time": "2025-05-17T13:14:35.962Z"
   },
   {
    "duration": 343,
    "start_time": "2025-05-17T13:14:36.243Z"
   },
   {
    "duration": 145,
    "start_time": "2025-05-17T13:14:36.605Z"
   },
   {
    "duration": 2661,
    "start_time": "2025-05-17T13:14:36.752Z"
   },
   {
    "duration": 2921,
    "start_time": "2025-05-17T13:14:39.415Z"
   },
   {
    "duration": 151,
    "start_time": "2025-05-17T13:14:42.339Z"
   },
   {
    "duration": 261,
    "start_time": "2025-05-17T13:14:42.492Z"
   },
   {
    "duration": 154,
    "start_time": "2025-05-17T13:14:42.755Z"
   },
   {
    "duration": 185,
    "start_time": "2025-05-17T13:14:42.911Z"
   },
   {
    "duration": 207,
    "start_time": "2025-05-17T13:14:43.098Z"
   },
   {
    "duration": 97,
    "start_time": "2025-05-17T13:14:43.307Z"
   },
   {
    "duration": 51,
    "start_time": "2025-05-17T13:14:43.406Z"
   },
   {
    "duration": 285,
    "start_time": "2025-05-17T13:14:43.459Z"
   },
   {
    "duration": 134,
    "start_time": "2025-05-17T13:14:43.746Z"
   },
   {
    "duration": 1508,
    "start_time": "2025-05-17T13:14:43.882Z"
   },
   {
    "duration": 24,
    "start_time": "2025-05-17T13:14:45.392Z"
   },
   {
    "duration": 1212,
    "start_time": "2025-05-17T13:14:45.418Z"
   },
   {
    "duration": 43,
    "start_time": "2025-05-17T13:14:46.632Z"
   },
   {
    "duration": 141,
    "start_time": "2025-05-17T13:14:46.677Z"
   },
   {
    "duration": 250,
    "start_time": "2025-05-17T13:14:46.819Z"
   },
   {
    "duration": 274,
    "start_time": "2025-05-17T13:14:47.071Z"
   },
   {
    "duration": 109,
    "start_time": "2025-05-17T13:15:55.755Z"
   },
   {
    "duration": 264,
    "start_time": "2025-05-17T13:16:09.478Z"
   },
   {
    "duration": 23,
    "start_time": "2025-05-17T13:16:21.116Z"
   },
   {
    "duration": 7,
    "start_time": "2025-05-17T13:18:39.595Z"
   },
   {
    "duration": 6,
    "start_time": "2025-05-17T13:19:59.571Z"
   },
   {
    "duration": 23,
    "start_time": "2025-05-17T13:20:14.414Z"
   },
   {
    "duration": 21,
    "start_time": "2025-05-17T13:20:27.593Z"
   },
   {
    "duration": 4,
    "start_time": "2025-05-17T13:21:56.606Z"
   },
   {
    "duration": 3,
    "start_time": "2025-05-17T13:24:12.372Z"
   },
   {
    "duration": 23,
    "start_time": "2025-05-17T13:24:19.906Z"
   },
   {
    "duration": 9,
    "start_time": "2025-05-17T13:25:55.531Z"
   },
   {
    "duration": 13,
    "start_time": "2025-05-17T13:26:28.748Z"
   },
   {
    "duration": 10,
    "start_time": "2025-05-17T13:27:18.804Z"
   },
   {
    "duration": 7,
    "start_time": "2025-05-17T13:31:22.831Z"
   },
   {
    "duration": 6,
    "start_time": "2025-05-17T13:31:30.742Z"
   },
   {
    "duration": 15,
    "start_time": "2025-05-17T13:32:13.188Z"
   },
   {
    "duration": 9,
    "start_time": "2025-05-17T13:32:39.263Z"
   },
   {
    "duration": 15,
    "start_time": "2025-05-17T13:33:01.901Z"
   },
   {
    "duration": 15,
    "start_time": "2025-05-17T13:35:56.557Z"
   },
   {
    "duration": 9,
    "start_time": "2025-05-17T13:36:39.798Z"
   },
   {
    "duration": 8,
    "start_time": "2025-05-17T13:36:48.140Z"
   },
   {
    "duration": 14,
    "start_time": "2025-05-17T13:36:59.963Z"
   },
   {
    "duration": 15,
    "start_time": "2025-05-17T13:37:32.945Z"
   },
   {
    "duration": 15,
    "start_time": "2025-05-17T13:39:35.828Z"
   },
   {
    "duration": 15,
    "start_time": "2025-05-17T13:48:21.316Z"
   },
   {
    "duration": 10,
    "start_time": "2025-05-17T13:51:54.159Z"
   },
   {
    "duration": 2,
    "start_time": "2025-05-17T13:55:12.497Z"
   },
   {
    "duration": 3,
    "start_time": "2025-05-17T13:55:17.044Z"
   },
   {
    "duration": 18,
    "start_time": "2025-05-17T14:01:13.602Z"
   },
   {
    "duration": 15,
    "start_time": "2025-05-17T14:02:09.418Z"
   },
   {
    "duration": 17,
    "start_time": "2025-05-17T14:04:42.597Z"
   },
   {
    "duration": 12,
    "start_time": "2025-05-17T14:05:56.306Z"
   },
   {
    "duration": 11,
    "start_time": "2025-05-17T14:07:49.097Z"
   },
   {
    "duration": 10,
    "start_time": "2025-05-17T14:08:49.246Z"
   },
   {
    "duration": 10,
    "start_time": "2025-05-17T14:14:57.434Z"
   },
   {
    "duration": 167,
    "start_time": "2025-05-17T14:31:15.210Z"
   },
   {
    "duration": 281,
    "start_time": "2025-05-17T14:31:23.590Z"
   },
   {
    "duration": 10,
    "start_time": "2025-05-17T14:32:26.404Z"
   },
   {
    "duration": 25,
    "start_time": "2025-05-17T14:32:34.813Z"
   },
   {
    "duration": 28,
    "start_time": "2025-05-17T14:32:49.787Z"
   },
   {
    "duration": 15,
    "start_time": "2025-05-17T14:34:32.046Z"
   },
   {
    "duration": 15,
    "start_time": "2025-05-17T14:43:15.940Z"
   },
   {
    "duration": 6970,
    "start_time": "2025-05-17T14:43:54.521Z"
   },
   {
    "duration": 7072,
    "start_time": "2025-05-17T14:44:02.291Z"
   },
   {
    "duration": 11,
    "start_time": "2025-05-17T14:44:43.132Z"
   },
   {
    "duration": 12,
    "start_time": "2025-05-17T14:45:53.149Z"
   },
   {
    "duration": 11,
    "start_time": "2025-05-17T14:46:04.100Z"
   },
   {
    "duration": 14,
    "start_time": "2025-05-17T14:46:19.277Z"
   },
   {
    "duration": 5,
    "start_time": "2025-05-17T14:47:45.997Z"
   },
   {
    "duration": 2,
    "start_time": "2025-05-17T14:49:38.296Z"
   },
   {
    "duration": 6870,
    "start_time": "2025-05-17T14:51:04.495Z"
   },
   {
    "duration": 19,
    "start_time": "2025-05-17T14:52:11.306Z"
   },
   {
    "duration": 17,
    "start_time": "2025-05-17T14:53:00.268Z"
   },
   {
    "duration": 7024,
    "start_time": "2025-05-17T14:53:12.859Z"
   },
   {
    "duration": 199,
    "start_time": "2025-05-17T14:54:01.474Z"
   },
   {
    "duration": 18,
    "start_time": "2025-05-17T14:54:26.974Z"
   },
   {
    "duration": 204,
    "start_time": "2025-05-17T14:54:33.577Z"
   },
   {
    "duration": 208,
    "start_time": "2025-05-17T14:54:49.971Z"
   },
   {
    "duration": 17,
    "start_time": "2025-05-17T14:55:22.675Z"
   },
   {
    "duration": 14,
    "start_time": "2025-05-17T14:56:00.690Z"
   },
   {
    "duration": 19,
    "start_time": "2025-05-17T14:57:10.972Z"
   },
   {
    "duration": 22,
    "start_time": "2025-05-17T14:59:15.167Z"
   },
   {
    "duration": 16,
    "start_time": "2025-05-17T15:00:24.901Z"
   },
   {
    "duration": 16,
    "start_time": "2025-05-17T15:00:36.533Z"
   },
   {
    "duration": 17,
    "start_time": "2025-05-17T15:01:11.135Z"
   },
   {
    "duration": 15,
    "start_time": "2025-05-17T15:01:28.082Z"
   },
   {
    "duration": 17,
    "start_time": "2025-05-17T15:02:17.007Z"
   },
   {
    "duration": 20,
    "start_time": "2025-05-17T15:04:44.658Z"
   },
   {
    "duration": 17,
    "start_time": "2025-05-17T15:05:07.921Z"
   },
   {
    "duration": 17,
    "start_time": "2025-05-17T15:05:33.841Z"
   },
   {
    "duration": 15,
    "start_time": "2025-05-17T15:06:18.598Z"
   },
   {
    "duration": 15,
    "start_time": "2025-05-17T15:07:43.691Z"
   },
   {
    "duration": 20,
    "start_time": "2025-05-17T15:08:15.651Z"
   },
   {
    "duration": 19,
    "start_time": "2025-05-17T15:08:40.537Z"
   },
   {
    "duration": 22,
    "start_time": "2025-05-17T15:09:07.490Z"
   },
   {
    "duration": 17,
    "start_time": "2025-05-17T15:09:38.004Z"
   },
   {
    "duration": 18,
    "start_time": "2025-05-17T15:11:14.068Z"
   },
   {
    "duration": 84,
    "start_time": "2025-05-17T15:11:32.419Z"
   },
   {
    "duration": 71,
    "start_time": "2025-05-17T15:11:38.319Z"
   },
   {
    "duration": 17,
    "start_time": "2025-05-17T15:11:47.830Z"
   },
   {
    "duration": 186,
    "start_time": "2025-05-17T15:12:06.733Z"
   },
   {
    "duration": 206,
    "start_time": "2025-05-17T15:12:42.125Z"
   },
   {
    "duration": 220,
    "start_time": "2025-05-17T15:14:47.120Z"
   },
   {
    "duration": 214,
    "start_time": "2025-05-17T15:27:35.370Z"
   },
   {
    "duration": 16,
    "start_time": "2025-05-17T15:39:01.567Z"
   },
   {
    "duration": 10,
    "start_time": "2025-05-17T15:39:33.230Z"
   },
   {
    "duration": 12,
    "start_time": "2025-05-17T15:40:04.367Z"
   },
   {
    "duration": 19,
    "start_time": "2025-05-17T15:42:31.464Z"
   },
   {
    "duration": 15,
    "start_time": "2025-05-17T15:43:10.508Z"
   },
   {
    "duration": 19,
    "start_time": "2025-05-17T15:43:21.065Z"
   },
   {
    "duration": 19,
    "start_time": "2025-05-17T15:43:36.896Z"
   },
   {
    "duration": 20,
    "start_time": "2025-05-17T15:44:00.392Z"
   },
   {
    "duration": 256,
    "start_time": "2025-05-17T15:44:15.806Z"
   },
   {
    "duration": 257,
    "start_time": "2025-05-17T15:44:24.037Z"
   },
   {
    "duration": 298,
    "start_time": "2025-05-17T15:44:35.579Z"
   },
   {
    "duration": 28,
    "start_time": "2025-05-17T15:44:44.005Z"
   },
   {
    "duration": 20,
    "start_time": "2025-05-17T15:45:28.845Z"
   },
   {
    "duration": 175,
    "start_time": "2025-05-17T15:45:51.502Z"
   },
   {
    "duration": 17,
    "start_time": "2025-05-17T15:46:15.861Z"
   },
   {
    "duration": 9,
    "start_time": "2025-05-17T15:50:05.024Z"
   },
   {
    "duration": 218,
    "start_time": "2025-05-17T15:50:11.615Z"
   },
   {
    "duration": 75,
    "start_time": "2025-05-17T15:55:08.085Z"
   },
   {
    "duration": 10,
    "start_time": "2025-05-17T15:55:18.654Z"
   },
   {
    "duration": 22,
    "start_time": "2025-05-17T15:55:30.584Z"
   },
   {
    "duration": 15,
    "start_time": "2025-05-17T15:57:12.635Z"
   },
   {
    "duration": 52,
    "start_time": "2025-05-17T15:57:31.169Z"
   },
   {
    "duration": 120,
    "start_time": "2025-05-17T15:58:13.146Z"
   },
   {
    "duration": 754,
    "start_time": "2025-05-17T15:58:59.273Z"
   },
   {
    "duration": 16,
    "start_time": "2025-05-17T16:04:10.668Z"
   },
   {
    "duration": 235,
    "start_time": "2025-05-17T16:07:23.334Z"
   },
   {
    "duration": 217,
    "start_time": "2025-05-17T16:09:47.961Z"
   },
   {
    "duration": 227,
    "start_time": "2025-05-17T16:10:04.124Z"
   },
   {
    "duration": 220,
    "start_time": "2025-05-17T16:10:25.170Z"
   },
   {
    "duration": 18,
    "start_time": "2025-05-17T16:11:52.109Z"
   },
   {
    "duration": 140,
    "start_time": "2025-05-17T16:12:17.476Z"
   },
   {
    "duration": 219,
    "start_time": "2025-05-17T16:12:23.535Z"
   },
   {
    "duration": 344,
    "start_time": "2025-05-17T16:12:36.615Z"
   },
   {
    "duration": 200,
    "start_time": "2025-05-17T16:12:50.579Z"
   },
   {
    "duration": 218,
    "start_time": "2025-05-17T16:12:59.032Z"
   },
   {
    "duration": 202,
    "start_time": "2025-05-17T16:14:21.528Z"
   },
   {
    "duration": 217,
    "start_time": "2025-05-17T16:18:43.168Z"
   },
   {
    "duration": 236,
    "start_time": "2025-05-17T16:19:01.358Z"
   },
   {
    "duration": 216,
    "start_time": "2025-05-17T16:19:30.062Z"
   },
   {
    "duration": 120,
    "start_time": "2025-05-17T16:22:53.229Z"
   },
   {
    "duration": 214,
    "start_time": "2025-05-17T16:23:43.110Z"
   },
   {
    "duration": 21,
    "start_time": "2025-05-17T16:29:13.630Z"
   },
   {
    "duration": 7,
    "start_time": "2025-05-17T16:32:24.257Z"
   },
   {
    "duration": 9,
    "start_time": "2025-05-17T16:32:35.627Z"
   },
   {
    "duration": 9,
    "start_time": "2025-05-17T16:33:00.032Z"
   },
   {
    "duration": 9,
    "start_time": "2025-05-17T16:33:27.652Z"
   },
   {
    "duration": 10,
    "start_time": "2025-05-17T16:33:35.712Z"
   },
   {
    "duration": 9,
    "start_time": "2025-05-17T16:34:01.888Z"
   },
   {
    "duration": 10,
    "start_time": "2025-05-17T16:34:09.119Z"
   },
   {
    "duration": 10,
    "start_time": "2025-05-17T16:34:25.934Z"
   },
   {
    "duration": 11,
    "start_time": "2025-05-17T16:34:36.815Z"
   },
   {
    "duration": 10,
    "start_time": "2025-05-17T16:34:45.624Z"
   },
   {
    "duration": 186,
    "start_time": "2025-05-17T16:36:06.447Z"
   },
   {
    "duration": 175,
    "start_time": "2025-05-17T16:36:27.872Z"
   },
   {
    "duration": 291,
    "start_time": "2025-05-17T16:36:43.665Z"
   },
   {
    "duration": 178,
    "start_time": "2025-05-17T16:38:06.745Z"
   },
   {
    "duration": 171,
    "start_time": "2025-05-17T16:38:20.178Z"
   },
   {
    "duration": 208,
    "start_time": "2025-05-17T16:38:34.464Z"
   },
   {
    "duration": 216,
    "start_time": "2025-05-17T16:38:53.674Z"
   },
   {
    "duration": 208,
    "start_time": "2025-05-17T16:39:02.590Z"
   },
   {
    "duration": 175,
    "start_time": "2025-05-17T16:39:33.810Z"
   },
   {
    "duration": 200,
    "start_time": "2025-05-17T16:40:42.006Z"
   },
   {
    "duration": 199,
    "start_time": "2025-05-17T16:40:52.058Z"
   },
   {
    "duration": 169,
    "start_time": "2025-05-17T16:44:21.637Z"
   },
   {
    "duration": 193,
    "start_time": "2025-05-17T16:51:16.680Z"
   },
   {
    "duration": 320,
    "start_time": "2025-05-17T16:51:26.466Z"
   },
   {
    "duration": 210,
    "start_time": "2025-05-17T16:51:39.161Z"
   },
   {
    "duration": 209,
    "start_time": "2025-05-17T16:52:49.113Z"
   },
   {
    "duration": 220,
    "start_time": "2025-05-17T16:53:02.098Z"
   },
   {
    "duration": 219,
    "start_time": "2025-05-17T16:53:14.393Z"
   },
   {
    "duration": 217,
    "start_time": "2025-05-17T16:53:23.356Z"
   },
   {
    "duration": 18,
    "start_time": "2025-05-17T16:54:08.572Z"
   },
   {
    "duration": 15,
    "start_time": "2025-05-17T16:56:30.147Z"
   },
   {
    "duration": 15,
    "start_time": "2025-05-17T16:56:32.108Z"
   },
   {
    "duration": 17,
    "start_time": "2025-05-17T16:57:53.445Z"
   },
   {
    "duration": 206,
    "start_time": "2025-05-17T16:58:03.604Z"
   },
   {
    "duration": 252,
    "start_time": "2025-05-17T16:58:52.527Z"
   },
   {
    "duration": 235,
    "start_time": "2025-05-17T16:59:06.940Z"
   },
   {
    "duration": 415,
    "start_time": "2025-05-17T16:59:26.543Z"
   },
   {
    "duration": 1252,
    "start_time": "2025-05-17T17:39:05.905Z"
   },
   {
    "duration": 2815,
    "start_time": "2025-05-17T17:39:07.159Z"
   },
   {
    "duration": 5,
    "start_time": "2025-05-17T17:39:09.977Z"
   },
   {
    "duration": 109,
    "start_time": "2025-05-17T17:39:09.984Z"
   },
   {
    "duration": 271,
    "start_time": "2025-05-17T17:39:10.096Z"
   },
   {
    "duration": 2655,
    "start_time": "2025-05-17T17:39:10.369Z"
   },
   {
    "duration": 193,
    "start_time": "2025-05-17T17:39:13.026Z"
   },
   {
    "duration": 19,
    "start_time": "2025-05-17T17:39:13.221Z"
   },
   {
    "duration": 329,
    "start_time": "2025-05-17T17:39:13.242Z"
   },
   {
    "duration": 348,
    "start_time": "2025-05-17T17:39:13.572Z"
   },
   {
    "duration": 162,
    "start_time": "2025-05-17T17:39:13.921Z"
   },
   {
    "duration": 2588,
    "start_time": "2025-05-17T17:39:14.085Z"
   },
   {
    "duration": 2952,
    "start_time": "2025-05-17T17:39:16.676Z"
   },
   {
    "duration": 156,
    "start_time": "2025-05-17T17:39:19.631Z"
   },
   {
    "duration": 256,
    "start_time": "2025-05-17T17:39:19.789Z"
   },
   {
    "duration": 164,
    "start_time": "2025-05-17T17:39:20.047Z"
   },
   {
    "duration": 185,
    "start_time": "2025-05-17T17:39:20.212Z"
   },
   {
    "duration": 206,
    "start_time": "2025-05-17T17:39:20.404Z"
   },
   {
    "duration": 93,
    "start_time": "2025-05-17T17:39:20.612Z"
   },
   {
    "duration": 51,
    "start_time": "2025-05-17T17:39:20.707Z"
   },
   {
    "duration": 202,
    "start_time": "2025-05-17T17:39:20.759Z"
   },
   {
    "duration": 141,
    "start_time": "2025-05-17T17:39:20.963Z"
   },
   {
    "duration": 1534,
    "start_time": "2025-05-17T17:39:21.106Z"
   },
   {
    "duration": 21,
    "start_time": "2025-05-17T17:39:22.642Z"
   },
   {
    "duration": 974,
    "start_time": "2025-05-17T17:39:22.666Z"
   },
   {
    "duration": 46,
    "start_time": "2025-05-17T17:39:23.644Z"
   },
   {
    "duration": 131,
    "start_time": "2025-05-17T17:39:23.692Z"
   },
   {
    "duration": 284,
    "start_time": "2025-05-17T17:39:23.825Z"
   },
   {
    "duration": 304,
    "start_time": "2025-05-17T17:39:24.111Z"
   },
   {
    "duration": 15,
    "start_time": "2025-05-17T17:39:24.417Z"
   },
   {
    "duration": 289,
    "start_time": "2025-05-17T17:39:24.434Z"
   },
   {
    "duration": 8,
    "start_time": "2025-05-17T17:39:24.725Z"
   },
   {
    "duration": 222,
    "start_time": "2025-05-17T17:39:24.734Z"
   },
   {
    "duration": 179,
    "start_time": "2025-05-17T17:39:24.958Z"
   },
   {
    "duration": 7,
    "start_time": "2025-05-17T17:39:25.139Z"
   },
   {
    "duration": 51,
    "start_time": "2025-05-18T11:15:03.922Z"
   },
   {
    "duration": 1422,
    "start_time": "2025-05-18T11:15:24.153Z"
   },
   {
    "duration": 2019,
    "start_time": "2025-05-18T11:15:25.577Z"
   },
   {
    "duration": 5,
    "start_time": "2025-05-18T11:15:27.599Z"
   },
   {
    "duration": 56,
    "start_time": "2025-05-18T11:15:27.607Z"
   },
   {
    "duration": 285,
    "start_time": "2025-05-18T11:15:27.664Z"
   },
   {
    "duration": 8658,
    "start_time": "2025-05-18T11:15:27.951Z"
   },
   {
    "duration": 181,
    "start_time": "2025-05-18T11:15:36.611Z"
   },
   {
    "duration": 19,
    "start_time": "2025-05-18T11:15:36.793Z"
   },
   {
    "duration": 266,
    "start_time": "2025-05-18T11:15:36.814Z"
   },
   {
    "duration": 289,
    "start_time": "2025-05-18T11:15:37.084Z"
   },
   {
    "duration": 155,
    "start_time": "2025-05-18T11:15:37.375Z"
   },
   {
    "duration": 3173,
    "start_time": "2025-05-18T11:15:37.536Z"
   },
   {
    "duration": 2894,
    "start_time": "2025-05-18T11:15:40.711Z"
   },
   {
    "duration": 145,
    "start_time": "2025-05-18T11:15:43.607Z"
   },
   {
    "duration": 249,
    "start_time": "2025-05-18T11:15:43.753Z"
   },
   {
    "duration": 148,
    "start_time": "2025-05-18T11:15:44.004Z"
   },
   {
    "duration": 183,
    "start_time": "2025-05-18T11:15:44.154Z"
   },
   {
    "duration": 227,
    "start_time": "2025-05-18T11:15:44.338Z"
   },
   {
    "duration": 89,
    "start_time": "2025-05-18T11:15:44.567Z"
   },
   {
    "duration": 52,
    "start_time": "2025-05-18T11:15:44.658Z"
   },
   {
    "duration": 193,
    "start_time": "2025-05-18T11:15:44.711Z"
   },
   {
    "duration": 156,
    "start_time": "2025-05-18T11:15:44.907Z"
   },
   {
    "duration": 1421,
    "start_time": "2025-05-18T11:15:45.065Z"
   },
   {
    "duration": 18,
    "start_time": "2025-05-18T11:15:46.488Z"
   },
   {
    "duration": 909,
    "start_time": "2025-05-18T11:15:46.508Z"
   },
   {
    "duration": 53,
    "start_time": "2025-05-18T11:15:47.419Z"
   },
   {
    "duration": 39,
    "start_time": "2025-05-18T11:15:47.475Z"
   },
   {
    "duration": 258,
    "start_time": "2025-05-18T11:15:47.517Z"
   },
   {
    "duration": 314,
    "start_time": "2025-05-18T11:15:47.777Z"
   },
   {
    "duration": 153,
    "start_time": "2025-05-18T11:15:48.093Z"
   },
   {
    "duration": 0,
    "start_time": "2025-05-18T11:15:48.248Z"
   },
   {
    "duration": 0,
    "start_time": "2025-05-18T11:15:48.249Z"
   },
   {
    "duration": 0,
    "start_time": "2025-05-18T11:15:48.250Z"
   },
   {
    "duration": 0,
    "start_time": "2025-05-18T11:15:48.252Z"
   },
   {
    "duration": 0,
    "start_time": "2025-05-18T11:15:48.253Z"
   },
   {
    "duration": 30,
    "start_time": "2025-05-18T11:16:11.711Z"
   },
   {
    "duration": 39,
    "start_time": "2025-05-18T11:19:13.694Z"
   },
   {
    "duration": 81,
    "start_time": "2025-05-18T11:20:24.145Z"
   },
   {
    "duration": 84,
    "start_time": "2025-05-18T11:21:20.923Z"
   },
   {
    "duration": 73,
    "start_time": "2025-05-18T11:21:32.449Z"
   },
   {
    "duration": 81,
    "start_time": "2025-05-18T11:21:44.824Z"
   },
   {
    "duration": 22,
    "start_time": "2025-05-18T11:23:12.073Z"
   },
   {
    "duration": 25,
    "start_time": "2025-05-18T11:24:00.274Z"
   },
   {
    "duration": 24,
    "start_time": "2025-05-18T11:25:32.619Z"
   },
   {
    "duration": 6,
    "start_time": "2025-05-18T11:25:50.813Z"
   },
   {
    "duration": 8,
    "start_time": "2025-05-18T11:26:39.100Z"
   },
   {
    "duration": 83,
    "start_time": "2025-05-18T11:27:17.763Z"
   },
   {
    "duration": 23,
    "start_time": "2025-05-18T11:27:24.386Z"
   },
   {
    "duration": 14,
    "start_time": "2025-05-18T11:28:15.029Z"
   },
   {
    "duration": 14,
    "start_time": "2025-05-18T11:28:23.677Z"
   },
   {
    "duration": 11,
    "start_time": "2025-05-18T11:29:07.097Z"
   },
   {
    "duration": 27,
    "start_time": "2025-05-18T11:29:40.039Z"
   },
   {
    "duration": 16,
    "start_time": "2025-05-18T11:30:27.358Z"
   },
   {
    "duration": 17,
    "start_time": "2025-05-18T11:31:00.998Z"
   },
   {
    "duration": 15,
    "start_time": "2025-05-18T11:33:51.674Z"
   },
   {
    "duration": 17,
    "start_time": "2025-05-18T11:34:44.873Z"
   },
   {
    "duration": 14,
    "start_time": "2025-05-18T11:35:21.817Z"
   },
   {
    "duration": 11,
    "start_time": "2025-05-18T11:35:37.473Z"
   },
   {
    "duration": 15,
    "start_time": "2025-05-18T11:36:08.761Z"
   },
   {
    "duration": 12,
    "start_time": "2025-05-18T11:36:25.866Z"
   },
   {
    "duration": 12,
    "start_time": "2025-05-18T11:37:05.465Z"
   },
   {
    "duration": 15,
    "start_time": "2025-05-18T11:39:23.352Z"
   },
   {
    "duration": 12,
    "start_time": "2025-05-18T11:39:32.692Z"
   },
   {
    "duration": 82,
    "start_time": "2025-05-18T11:41:33.461Z"
   },
   {
    "duration": 80,
    "start_time": "2025-05-18T11:42:13.605Z"
   },
   {
    "duration": 100,
    "start_time": "2025-05-18T11:42:24.429Z"
   },
   {
    "duration": 79,
    "start_time": "2025-05-18T11:43:06.373Z"
   },
   {
    "duration": 80,
    "start_time": "2025-05-18T11:43:30.541Z"
   },
   {
    "duration": 79,
    "start_time": "2025-05-18T11:45:31.287Z"
   },
   {
    "duration": 82,
    "start_time": "2025-05-18T11:45:54.039Z"
   },
   {
    "duration": 13,
    "start_time": "2025-05-18T11:50:16.977Z"
   },
   {
    "duration": 73,
    "start_time": "2025-05-18T11:51:35.460Z"
   },
   {
    "duration": 99,
    "start_time": "2025-05-18T11:51:47.523Z"
   },
   {
    "duration": 87,
    "start_time": "2025-05-18T11:52:25.172Z"
   },
   {
    "duration": 137,
    "start_time": "2025-05-18T11:52:49.035Z"
   },
   {
    "duration": 12,
    "start_time": "2025-05-18T11:57:56.615Z"
   },
   {
    "duration": 13,
    "start_time": "2025-05-18T11:58:44.694Z"
   },
   {
    "duration": 3,
    "start_time": "2025-05-18T11:59:08.751Z"
   },
   {
    "duration": 116,
    "start_time": "2025-05-18T11:59:57.882Z"
   },
   {
    "duration": 96,
    "start_time": "2025-05-18T12:00:34.976Z"
   },
   {
    "duration": 131,
    "start_time": "2025-05-18T12:00:48.945Z"
   },
   {
    "duration": 86,
    "start_time": "2025-05-18T12:04:42.559Z"
   },
   {
    "duration": 101,
    "start_time": "2025-05-18T12:07:22.869Z"
   },
   {
    "duration": 99,
    "start_time": "2025-05-18T12:08:46.534Z"
   },
   {
    "duration": 94,
    "start_time": "2025-05-18T12:11:22.111Z"
   },
   {
    "duration": 74,
    "start_time": "2025-05-18T12:25:38.379Z"
   },
   {
    "duration": 80,
    "start_time": "2025-05-18T12:26:30.172Z"
   },
   {
    "duration": 97,
    "start_time": "2025-05-18T12:26:50.648Z"
   },
   {
    "duration": 231,
    "start_time": "2025-05-18T12:27:21.235Z"
   },
   {
    "duration": 79,
    "start_time": "2025-05-18T12:27:38.739Z"
   },
   {
    "duration": 8,
    "start_time": "2025-05-18T12:27:54.786Z"
   },
   {
    "duration": 15,
    "start_time": "2025-05-18T12:34:03.037Z"
   },
   {
    "duration": 15,
    "start_time": "2025-05-18T12:34:40.304Z"
   },
   {
    "duration": 10,
    "start_time": "2025-05-18T12:35:03.430Z"
   },
   {
    "duration": 2,
    "start_time": "2025-05-18T12:35:49.375Z"
   },
   {
    "duration": 10,
    "start_time": "2025-05-18T12:36:29.113Z"
   },
   {
    "duration": 16,
    "start_time": "2025-05-18T12:36:44.335Z"
   },
   {
    "duration": 15,
    "start_time": "2025-05-18T12:37:28.744Z"
   },
   {
    "duration": 14,
    "start_time": "2025-05-18T12:40:02.307Z"
   },
   {
    "duration": 47,
    "start_time": "2025-05-18T12:55:30.900Z"
   },
   {
    "duration": 13,
    "start_time": "2025-05-18T12:58:00.557Z"
   },
   {
    "duration": 18,
    "start_time": "2025-05-18T12:58:33.542Z"
   },
   {
    "duration": 5,
    "start_time": "2025-05-18T12:58:46.918Z"
   },
   {
    "duration": 16,
    "start_time": "2025-05-18T12:59:16.502Z"
   },
   {
    "duration": 5,
    "start_time": "2025-05-18T12:59:37.366Z"
   },
   {
    "duration": 42,
    "start_time": "2025-05-18T13:01:47.727Z"
   },
   {
    "duration": 56,
    "start_time": "2025-05-18T13:13:28.815Z"
   },
   {
    "duration": 279,
    "start_time": "2025-05-18T13:16:36.923Z"
   },
   {
    "duration": 426,
    "start_time": "2025-05-18T13:18:21.090Z"
   },
   {
    "duration": 1441,
    "start_time": "2025-05-18T13:35:24.629Z"
   },
   {
    "duration": 2495,
    "start_time": "2025-05-18T13:39:30.975Z"
   },
   {
    "duration": 94,
    "start_time": "2025-05-18T14:12:32.893Z"
   },
   {
    "duration": 56,
    "start_time": "2025-05-18T14:12:40.550Z"
   },
   {
    "duration": 58,
    "start_time": "2025-05-18T14:14:18.737Z"
   },
   {
    "duration": 4,
    "start_time": "2025-05-18T14:15:54.799Z"
   },
   {
    "duration": 50,
    "start_time": "2025-05-18T14:22:39.059Z"
   },
   {
    "duration": 45,
    "start_time": "2025-05-18T14:23:03.595Z"
   },
   {
    "duration": 48,
    "start_time": "2025-05-18T14:24:55.085Z"
   },
   {
    "duration": 35,
    "start_time": "2025-05-18T14:28:54.238Z"
   },
   {
    "duration": 49,
    "start_time": "2025-05-18T14:29:11.773Z"
   },
   {
    "duration": 89,
    "start_time": "2025-05-18T14:35:05.882Z"
   },
   {
    "duration": 40,
    "start_time": "2025-05-18T14:36:15.779Z"
   },
   {
    "duration": 45,
    "start_time": "2025-05-18T14:36:35.666Z"
   },
   {
    "duration": 60,
    "start_time": "2025-05-18T14:38:45.798Z"
   },
   {
    "duration": 63,
    "start_time": "2025-05-18T14:39:58.494Z"
   },
   {
    "duration": 67,
    "start_time": "2025-05-18T14:41:18.271Z"
   },
   {
    "duration": 46,
    "start_time": "2025-05-18T14:42:00.206Z"
   },
   {
    "duration": 89,
    "start_time": "2025-05-18T14:43:30.759Z"
   },
   {
    "duration": 43,
    "start_time": "2025-05-18T14:43:55.511Z"
   },
   {
    "duration": 56,
    "start_time": "2025-05-18T14:44:21.169Z"
   },
   {
    "duration": 80,
    "start_time": "2025-05-18T14:46:59.259Z"
   },
   {
    "duration": 42,
    "start_time": "2025-05-18T14:47:20.379Z"
   },
   {
    "duration": 73,
    "start_time": "2025-05-18T14:47:41.185Z"
   },
   {
    "duration": 53,
    "start_time": "2025-05-18T14:47:53.730Z"
   },
   {
    "duration": 64,
    "start_time": "2025-05-18T14:49:25.900Z"
   },
   {
    "duration": 59,
    "start_time": "2025-05-18T14:49:49.811Z"
   },
   {
    "duration": 50,
    "start_time": "2025-05-18T14:50:38.692Z"
   },
   {
    "duration": 58,
    "start_time": "2025-05-18T14:50:50.052Z"
   },
   {
    "duration": 1051,
    "start_time": "2025-05-18T14:51:18.013Z"
   },
   {
    "duration": 51,
    "start_time": "2025-05-18T14:52:02.934Z"
   },
   {
    "duration": 1185,
    "start_time": "2025-05-18T14:53:02.014Z"
   },
   {
    "duration": 63,
    "start_time": "2025-05-18T14:53:46.928Z"
   },
   {
    "duration": 56,
    "start_time": "2025-05-18T14:54:20.854Z"
   },
   {
    "duration": 59,
    "start_time": "2025-05-18T14:55:09.560Z"
   },
   {
    "duration": 1148,
    "start_time": "2025-05-18T14:55:54.150Z"
   },
   {
    "duration": 62,
    "start_time": "2025-05-18T14:56:44.983Z"
   },
   {
    "duration": 77,
    "start_time": "2025-05-18T15:09:26.848Z"
   },
   {
    "duration": 121,
    "start_time": "2025-05-18T15:09:39.121Z"
   },
   {
    "duration": 48,
    "start_time": "2025-05-18T15:09:49.842Z"
   },
   {
    "duration": 68,
    "start_time": "2025-05-18T15:10:50.139Z"
   },
   {
    "duration": 68,
    "start_time": "2025-05-18T15:11:02.807Z"
   },
   {
    "duration": 53,
    "start_time": "2025-05-18T15:11:49.402Z"
   },
   {
    "duration": 1215,
    "start_time": "2025-05-18T15:15:10.083Z"
   },
   {
    "duration": 292,
    "start_time": "2025-05-18T15:17:27.644Z"
   },
   {
    "duration": 237,
    "start_time": "2025-05-18T15:18:55.119Z"
   },
   {
    "duration": 209,
    "start_time": "2025-05-18T15:21:34.928Z"
   },
   {
    "duration": 221,
    "start_time": "2025-05-18T15:22:26.713Z"
   },
   {
    "duration": 207,
    "start_time": "2025-05-18T15:23:14.612Z"
   },
   {
    "duration": 204,
    "start_time": "2025-05-18T15:26:29.091Z"
   },
   {
    "duration": 186,
    "start_time": "2025-05-18T15:34:57.224Z"
   },
   {
    "duration": 215,
    "start_time": "2025-05-18T15:37:38.874Z"
   },
   {
    "duration": 185,
    "start_time": "2025-05-18T15:39:54.074Z"
   },
   {
    "duration": 185,
    "start_time": "2025-05-18T15:44:09.605Z"
   },
   {
    "duration": 302,
    "start_time": "2025-05-18T15:50:20.537Z"
   },
   {
    "duration": 167,
    "start_time": "2025-05-18T15:52:03.569Z"
   },
   {
    "duration": 195,
    "start_time": "2025-05-18T15:59:31.121Z"
   },
   {
    "duration": 274,
    "start_time": "2025-05-18T16:00:13.774Z"
   },
   {
    "duration": 314,
    "start_time": "2025-05-18T16:01:32.999Z"
   },
   {
    "duration": 1183,
    "start_time": "2025-05-18T16:04:13.306Z"
   },
   {
    "duration": 191,
    "start_time": "2025-05-18T16:19:56.262Z"
   },
   {
    "duration": 193,
    "start_time": "2025-05-18T16:20:31.772Z"
   },
   {
    "duration": 1365,
    "start_time": "2025-05-19T06:04:22.484Z"
   },
   {
    "duration": 2319,
    "start_time": "2025-05-19T06:04:23.852Z"
   },
   {
    "duration": 5,
    "start_time": "2025-05-19T06:04:26.173Z"
   },
   {
    "duration": 70,
    "start_time": "2025-05-19T06:04:26.179Z"
   },
   {
    "duration": 299,
    "start_time": "2025-05-19T06:04:26.252Z"
   },
   {
    "duration": 9195,
    "start_time": "2025-05-19T06:04:26.553Z"
   },
   {
    "duration": 272,
    "start_time": "2025-05-19T06:04:35.751Z"
   },
   {
    "duration": 22,
    "start_time": "2025-05-19T06:04:36.025Z"
   },
   {
    "duration": 271,
    "start_time": "2025-05-19T06:04:36.049Z"
   },
   {
    "duration": 353,
    "start_time": "2025-05-19T06:04:36.323Z"
   },
   {
    "duration": 202,
    "start_time": "2025-05-19T06:04:36.678Z"
   },
   {
    "duration": 3170,
    "start_time": "2025-05-19T06:04:36.882Z"
   },
   {
    "duration": 3133,
    "start_time": "2025-05-19T06:04:40.055Z"
   },
   {
    "duration": 158,
    "start_time": "2025-05-19T06:04:43.192Z"
   },
   {
    "duration": 314,
    "start_time": "2025-05-19T06:04:43.352Z"
   },
   {
    "duration": 172,
    "start_time": "2025-05-19T06:04:43.668Z"
   },
   {
    "duration": 197,
    "start_time": "2025-05-19T06:04:43.842Z"
   },
   {
    "duration": 209,
    "start_time": "2025-05-19T06:04:44.040Z"
   },
   {
    "duration": 64,
    "start_time": "2025-05-19T06:04:44.250Z"
   },
   {
    "duration": 70,
    "start_time": "2025-05-19T06:04:44.316Z"
   },
   {
    "duration": 196,
    "start_time": "2025-05-19T06:04:44.388Z"
   },
   {
    "duration": 123,
    "start_time": "2025-05-19T06:04:44.586Z"
   },
   {
    "duration": 1455,
    "start_time": "2025-05-19T06:04:44.711Z"
   },
   {
    "duration": 18,
    "start_time": "2025-05-19T06:04:46.168Z"
   },
   {
    "duration": 981,
    "start_time": "2025-05-19T06:04:46.188Z"
   },
   {
    "duration": 45,
    "start_time": "2025-05-19T06:04:47.171Z"
   },
   {
    "duration": 28,
    "start_time": "2025-05-19T06:04:47.218Z"
   },
   {
    "duration": 429,
    "start_time": "2025-05-19T06:04:47.249Z"
   },
   {
    "duration": 1162,
    "start_time": "2025-05-19T06:04:47.680Z"
   },
   {
    "duration": 95,
    "start_time": "2025-05-19T06:04:48.844Z"
   },
   {
    "duration": 31,
    "start_time": "2025-05-19T06:04:48.942Z"
   },
   {
    "duration": 246,
    "start_time": "2025-05-19T06:04:48.975Z"
   },
   {
    "duration": 17,
    "start_time": "2025-05-19T06:04:49.222Z"
   },
   {
    "duration": 204,
    "start_time": "2025-05-19T06:04:49.241Z"
   },
   {
    "duration": 5,
    "start_time": "2025-05-19T06:04:49.447Z"
   },
   {
    "duration": 196,
    "start_time": "2025-05-19T06:04:49.453Z"
   },
   {
    "duration": 129,
    "start_time": "2025-05-19T06:04:49.650Z"
   },
   {
    "duration": 23,
    "start_time": "2025-05-19T06:08:59.738Z"
   },
   {
    "duration": 24,
    "start_time": "2025-05-19T06:09:26.741Z"
   },
   {
    "duration": 407,
    "start_time": "2025-05-19T06:13:06.671Z"
   },
   {
    "duration": 189,
    "start_time": "2025-05-19T06:14:51.831Z"
   }
  ],
  "colab": {
   "provenance": []
  },
  "kernelspec": {
   "display_name": "Python 3 (ipykernel)",
   "language": "python",
   "name": "python3"
  },
  "language_info": {
   "codemirror_mode": {
    "name": "ipython",
    "version": 3
   },
   "file_extension": ".py",
   "mimetype": "text/x-python",
   "name": "python",
   "nbconvert_exporter": "python",
   "pygments_lexer": "ipython3",
   "version": "3.9.12"
  },
  "toc": {
   "base_numbering": 1,
   "nav_menu": {},
   "number_sections": true,
   "sideBar": true,
   "skip_h1_title": true,
   "title_cell": "Table of Contents",
   "title_sidebar": "Contents",
   "toc_cell": false,
   "toc_position": {},
   "toc_section_display": true,
   "toc_window_display": false
  }
 },
 "nbformat": 4,
 "nbformat_minor": 1
}
