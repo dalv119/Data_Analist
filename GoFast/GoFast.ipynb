{
 "cells": [
  {
   "cell_type": "markdown",
   "metadata": {
    "deletable": false,
    "editable": false,
    "id": "1xwNO7BJsK7k"
   },
   "source": [
    "# Проверка гипотез в бизнесе\n",
    "Компания крупного сервиса проката самокатов GoFast предоставила три датасета с данными о пользователях сервиса, их поездках за один год, а также стоимости услуг в подписках. Необходимо проанализировать демографию пользователей и особенности использования самокатов, а также определить возможную выгоду от распространения платной подписки на самокаты."
   ]
  },
  {
   "cell_type": "markdown",
   "metadata": {
    "deletable": false,
    "editable": false,
    "id": "gzyXNgprsK7m"
   },
   "source": [
    "# Описание данных\n",
    "\n",
    "Таблица с пользователями `users_go.csv`\n",
    "\n",
    "- `user_id` — уникальный идентификатор пользователя.\n",
    "\n",
    "- `name` — имя пользователя.\n",
    "\n",
    "- `age` — возраст.\n",
    "\n",
    "- `city` — город.\n",
    "\n",
    "- `subscription_type` — тип подписки: `free`, `ultra`.\n",
    "\n",
    "Таблица с поездками `rides_go.csv`\n",
    "\n",
    "- `user_id` — уникальный идентификатор пользователя.\n",
    "\n",
    "- `distance` — расстояние в метрах, которое пользователь проехал в текущей сессии.\n",
    "\n",
    "- `duration` — продолжительность сессии в минутах, то есть время с того момента, как пользователь нажал кнопку «Начать поездку», до того, как он нажал кнопку «Завершить поездку».\n",
    "\n",
    "- `date` — дата совершения поездки.\n",
    "\n",
    "Таблица с подписками `subscriptions_go.csv`\n",
    "\n",
    "- `subscription_type` — тип подписки.\n",
    "\n",
    "- `minute_price` — стоимость одной минуты поездки по этой подписке.\n",
    "\n",
    "- `start_ride_price` — стоимость начала поездки.\n",
    "\n",
    "- `subscription_fee` — стоимость ежемесячного платежа."
   ]
  },
  {
   "cell_type": "markdown",
   "metadata": {
    "deletable": false,
    "editable": false,
    "id": "Gpc3MBZRsK7m"
   },
   "source": [
    "---\n",
    "## 1. Загрузка данных\n",
    "Загрузим все необходимые данные и познакомимся с содержанием таблиц."
   ]
  },
  {
   "cell_type": "markdown",
   "metadata": {
    "deletable": false,
    "editable": false,
    "id": "vSu11HpOsK7m",
    "tags": [
     "start_task"
    ]
   },
   "source": [
    "### 1.1 Импорт библиотеки pandas\n",
    "Импортируем библиотеку pandas с сокращением `pd`."
   ]
  },
  {
   "cell_type": "code",
   "execution_count": 1,
   "metadata": {
    "deletable": false,
    "id": "n97uaKsR7LbX"
   },
   "outputs": [],
   "source": [
    "import pandas as pd"
   ]
  },
  {
   "cell_type": "markdown",
   "metadata": {
    "deletable": false,
    "editable": false,
    "id": "iiB5hMdMsK7n",
    "tags": [
     "start_task"
    ]
   },
   "source": [
    "### 1.2 Чтение данных\n",
    "Cчитаем и сохраним в отдельные датафреймы три CSV-файла. "
   ]
  },
  {
   "cell_type": "code",
   "execution_count": 2,
   "metadata": {
    "deletable": false,
    "id": "jvIwXMOz7HaE"
   },
   "outputs": [],
   "source": [
    "df_users_go = pd.read_csv('https://code.s3.yandex.net/datasets/users_go.csv')\n",
    "df_rides_go = pd.read_csv('https://code.s3.yandex.net/datasets/rides_go.csv')\n",
    "df_subscriptions_go = pd.read_csv('https://code.s3.yandex.net/datasets/subscriptions_go.csv')"
   ]
  },
  {
   "cell_type": "markdown",
   "metadata": {
    "deletable": false,
    "editable": false,
    "id": "zw-1DjajsK7o",
    "tags": [
     "start_task"
    ]
   },
   "source": [
    "### 1.3 Печать первых строк\n",
    "Выведем первые пять строк каждого датафрейма. Познакомимся с содержанием таблиц."
   ]
  },
  {
   "cell_type": "code",
   "execution_count": 3,
   "metadata": {
    "deletable": false,
    "id": "7aqE6vqSHZE-"
   },
   "outputs": [
    {
     "data": {
      "text/html": [
       "<div>\n",
       "<style scoped>\n",
       "    .dataframe tbody tr th:only-of-type {\n",
       "        vertical-align: middle;\n",
       "    }\n",
       "\n",
       "    .dataframe tbody tr th {\n",
       "        vertical-align: top;\n",
       "    }\n",
       "\n",
       "    .dataframe thead th {\n",
       "        text-align: right;\n",
       "    }\n",
       "</style>\n",
       "<table border=\"1\" class=\"dataframe\">\n",
       "  <thead>\n",
       "    <tr style=\"text-align: right;\">\n",
       "      <th></th>\n",
       "      <th>user_id</th>\n",
       "      <th>name</th>\n",
       "      <th>age</th>\n",
       "      <th>city</th>\n",
       "      <th>subscription_type</th>\n",
       "    </tr>\n",
       "  </thead>\n",
       "  <tbody>\n",
       "    <tr>\n",
       "      <th>0</th>\n",
       "      <td>1</td>\n",
       "      <td>Кира</td>\n",
       "      <td>22</td>\n",
       "      <td>Тюмень</td>\n",
       "      <td>ultra</td>\n",
       "    </tr>\n",
       "    <tr>\n",
       "      <th>1</th>\n",
       "      <td>2</td>\n",
       "      <td>Станислав</td>\n",
       "      <td>31</td>\n",
       "      <td>Омск</td>\n",
       "      <td>ultra</td>\n",
       "    </tr>\n",
       "    <tr>\n",
       "      <th>2</th>\n",
       "      <td>3</td>\n",
       "      <td>Алексей</td>\n",
       "      <td>20</td>\n",
       "      <td>Москва</td>\n",
       "      <td>ultra</td>\n",
       "    </tr>\n",
       "    <tr>\n",
       "      <th>3</th>\n",
       "      <td>4</td>\n",
       "      <td>Константин</td>\n",
       "      <td>26</td>\n",
       "      <td>Ростов-на-Дону</td>\n",
       "      <td>ultra</td>\n",
       "    </tr>\n",
       "    <tr>\n",
       "      <th>4</th>\n",
       "      <td>5</td>\n",
       "      <td>Адель</td>\n",
       "      <td>28</td>\n",
       "      <td>Омск</td>\n",
       "      <td>ultra</td>\n",
       "    </tr>\n",
       "  </tbody>\n",
       "</table>\n",
       "</div>"
      ],
      "text/plain": [
       "   user_id        name  age            city subscription_type\n",
       "0        1        Кира   22          Тюмень             ultra\n",
       "1        2   Станислав   31            Омск             ultra\n",
       "2        3     Алексей   20          Москва             ultra\n",
       "3        4  Константин   26  Ростов-на-Дону             ultra\n",
       "4        5       Адель   28            Омск             ultra"
      ]
     },
     "metadata": {},
     "output_type": "display_data"
    },
    {
     "data": {
      "text/html": [
       "<div>\n",
       "<style scoped>\n",
       "    .dataframe tbody tr th:only-of-type {\n",
       "        vertical-align: middle;\n",
       "    }\n",
       "\n",
       "    .dataframe tbody tr th {\n",
       "        vertical-align: top;\n",
       "    }\n",
       "\n",
       "    .dataframe thead th {\n",
       "        text-align: right;\n",
       "    }\n",
       "</style>\n",
       "<table border=\"1\" class=\"dataframe\">\n",
       "  <thead>\n",
       "    <tr style=\"text-align: right;\">\n",
       "      <th></th>\n",
       "      <th>user_id</th>\n",
       "      <th>distance</th>\n",
       "      <th>duration</th>\n",
       "      <th>date</th>\n",
       "    </tr>\n",
       "  </thead>\n",
       "  <tbody>\n",
       "    <tr>\n",
       "      <th>0</th>\n",
       "      <td>1</td>\n",
       "      <td>4409.919140</td>\n",
       "      <td>25.599769</td>\n",
       "      <td>2021-01-01</td>\n",
       "    </tr>\n",
       "    <tr>\n",
       "      <th>1</th>\n",
       "      <td>1</td>\n",
       "      <td>2617.592153</td>\n",
       "      <td>15.816871</td>\n",
       "      <td>2021-01-18</td>\n",
       "    </tr>\n",
       "    <tr>\n",
       "      <th>2</th>\n",
       "      <td>1</td>\n",
       "      <td>754.159807</td>\n",
       "      <td>6.232113</td>\n",
       "      <td>2021-04-20</td>\n",
       "    </tr>\n",
       "    <tr>\n",
       "      <th>3</th>\n",
       "      <td>1</td>\n",
       "      <td>2694.783254</td>\n",
       "      <td>18.511000</td>\n",
       "      <td>2021-08-11</td>\n",
       "    </tr>\n",
       "    <tr>\n",
       "      <th>4</th>\n",
       "      <td>1</td>\n",
       "      <td>4028.687306</td>\n",
       "      <td>26.265803</td>\n",
       "      <td>2021-08-28</td>\n",
       "    </tr>\n",
       "  </tbody>\n",
       "</table>\n",
       "</div>"
      ],
      "text/plain": [
       "   user_id     distance   duration        date\n",
       "0        1  4409.919140  25.599769  2021-01-01\n",
       "1        1  2617.592153  15.816871  2021-01-18\n",
       "2        1   754.159807   6.232113  2021-04-20\n",
       "3        1  2694.783254  18.511000  2021-08-11\n",
       "4        1  4028.687306  26.265803  2021-08-28"
      ]
     },
     "metadata": {},
     "output_type": "display_data"
    },
    {
     "data": {
      "text/html": [
       "<div>\n",
       "<style scoped>\n",
       "    .dataframe tbody tr th:only-of-type {\n",
       "        vertical-align: middle;\n",
       "    }\n",
       "\n",
       "    .dataframe tbody tr th {\n",
       "        vertical-align: top;\n",
       "    }\n",
       "\n",
       "    .dataframe thead th {\n",
       "        text-align: right;\n",
       "    }\n",
       "</style>\n",
       "<table border=\"1\" class=\"dataframe\">\n",
       "  <thead>\n",
       "    <tr style=\"text-align: right;\">\n",
       "      <th></th>\n",
       "      <th>subscription_type</th>\n",
       "      <th>minute_price</th>\n",
       "      <th>start_ride_price</th>\n",
       "      <th>subscription_fee</th>\n",
       "    </tr>\n",
       "  </thead>\n",
       "  <tbody>\n",
       "    <tr>\n",
       "      <th>0</th>\n",
       "      <td>free</td>\n",
       "      <td>8</td>\n",
       "      <td>50</td>\n",
       "      <td>0</td>\n",
       "    </tr>\n",
       "    <tr>\n",
       "      <th>1</th>\n",
       "      <td>ultra</td>\n",
       "      <td>6</td>\n",
       "      <td>0</td>\n",
       "      <td>199</td>\n",
       "    </tr>\n",
       "  </tbody>\n",
       "</table>\n",
       "</div>"
      ],
      "text/plain": [
       "  subscription_type  minute_price  start_ride_price  subscription_fee\n",
       "0              free             8                50                 0\n",
       "1             ultra             6                 0               199"
      ]
     },
     "metadata": {},
     "output_type": "display_data"
    }
   ],
   "source": [
    "\n",
    "# display('df_users_go', df_users_go.head(5), \n",
    "#         'df_rides_go',df_rides_go.head(5),\n",
    "#         'df_subscriptions_go', df_subscriptions_go.head(5))\n",
    "display(df_users_go.head(5))\n",
    "display(df_rides_go.head(5))\n",
    "display(df_subscriptions_go.head(5))"
   ]
  },
  {
   "cell_type": "markdown",
   "metadata": {
    "deletable": false,
    "editable": false,
    "id": "zjZVYVQ3sK7p",
    "tags": [
     "start_task"
    ]
   },
   "source": [
    "### 1.4 Подсчёт строк\n",
    "Определим количество строк в каждом из трёх датафреймов. Это поможет оценить объём данных и выявить аномалии, например слишком малое количество записей. Запишем три целых числа в одну строку через пробел."
   ]
  },
  {
   "cell_type": "code",
   "execution_count": 4,
   "metadata": {
    "deletable": false,
    "id": "I-mEFxuHHavX"
   },
   "outputs": [
    {
     "name": "stdout",
     "output_type": "stream",
     "text": [
      "1565 18068 2\n"
     ]
    }
   ],
   "source": [
    "# print('Количество записей:\\n', \n",
    "#       len(df_users_go), '- df_users_go \\n',\n",
    "#       len(df_rides_go), '- df_rides_go \\n', \n",
    "#       len(df_subscriptions_go), '- df_subscriptions_go')\n",
    "print(len(df_users_go), len(df_rides_go), len(df_subscriptions_go))"
   ]
  },
  {
   "cell_type": "markdown",
   "metadata": {
    "deletable": false,
    "editable": false,
    "id": "xXmiI6QYsK7q"
   },
   "source": [
    "---\n",
    "## 2. Знакомство с данными и их предварительная подготовка\n",
    "\n",
    "Убедимся в качестве предоставленных данных. Изучим структуру и устраним потенциальные проблемы в таблицах."
   ]
  },
  {
   "cell_type": "markdown",
   "metadata": {
    "deletable": false,
    "editable": false,
    "id": "2D6UywOBsK7q",
    "tags": [
     "start_task"
    ]
   },
   "source": [
    "### 2.1 Определение типов данных\n",
    "Для проверки корректности типов данных в датафрейме `df_rides_go` выведем типы данных каждой колонки стандартным атрибутом `dtypes`. "
   ]
  },
  {
   "cell_type": "code",
   "execution_count": 5,
   "metadata": {
    "deletable": false,
    "id": "B40wZ2cnHfAM"
   },
   "outputs": [
    {
     "data": {
      "text/plain": [
       "user_id       int64\n",
       "distance    float64\n",
       "duration    float64\n",
       "date         object\n",
       "dtype: object"
      ]
     },
     "execution_count": 5,
     "metadata": {},
     "output_type": "execute_result"
    }
   ],
   "source": [
    "df_rides_go.dtypes"
   ]
  },
  {
   "cell_type": "markdown",
   "metadata": {
    "deletable": false,
    "editable": false,
    "id": "R0EN6gRJsK7r",
    "tags": [
     "start_task"
    ]
   },
   "source": [
    "### 2.2 Преобразование формата даты\n",
    "Приведём столбец `date` в датафрейме `df_rides_go` к типу даты pandas, используя метод `pd.to_datetime()`, изученный вами в одном из прошлых спринтов. "
   ]
  },
  {
   "cell_type": "code",
   "execution_count": 6,
   "metadata": {
    "deletable": false,
    "id": "flLYZquqHggn"
   },
   "outputs": [
    {
     "name": "stdout",
     "output_type": "stream",
     "text": [
      "datetime64[ns]\n"
     ]
    }
   ],
   "source": [
    "df_rides_go['date'] = pd.to_datetime(df_rides_go['date'])\n",
    "print(df_rides_go['date'].dtypes)"
   ]
  },
  {
   "cell_type": "markdown",
   "metadata": {
    "deletable": false,
    "editable": false,
    "id": "RVxOqAqtsK7r",
    "tags": [
     "start_task"
    ]
   },
   "source": [
    "### 2.3 Создание столбца с месяцем\n",
    "На основе столбца `date` создадим новый столбец `month`, содержащий номер месяца. Это нужно для последующей группировки данных и анализа сезонных трендов."
   ]
  },
  {
   "cell_type": "code",
   "execution_count": 7,
   "metadata": {
    "deletable": false,
    "id": "LYkUO3EnHhu5"
   },
   "outputs": [
    {
     "data": {
      "text/html": [
       "<div>\n",
       "<style scoped>\n",
       "    .dataframe tbody tr th:only-of-type {\n",
       "        vertical-align: middle;\n",
       "    }\n",
       "\n",
       "    .dataframe tbody tr th {\n",
       "        vertical-align: top;\n",
       "    }\n",
       "\n",
       "    .dataframe thead th {\n",
       "        text-align: right;\n",
       "    }\n",
       "</style>\n",
       "<table border=\"1\" class=\"dataframe\">\n",
       "  <thead>\n",
       "    <tr style=\"text-align: right;\">\n",
       "      <th></th>\n",
       "      <th>user_id</th>\n",
       "      <th>distance</th>\n",
       "      <th>duration</th>\n",
       "      <th>date</th>\n",
       "      <th>month</th>\n",
       "    </tr>\n",
       "  </thead>\n",
       "  <tbody>\n",
       "    <tr>\n",
       "      <th>0</th>\n",
       "      <td>1</td>\n",
       "      <td>4409.919140</td>\n",
       "      <td>25.599769</td>\n",
       "      <td>2021-01-01</td>\n",
       "      <td>1</td>\n",
       "    </tr>\n",
       "    <tr>\n",
       "      <th>1</th>\n",
       "      <td>1</td>\n",
       "      <td>2617.592153</td>\n",
       "      <td>15.816871</td>\n",
       "      <td>2021-01-18</td>\n",
       "      <td>1</td>\n",
       "    </tr>\n",
       "    <tr>\n",
       "      <th>2</th>\n",
       "      <td>1</td>\n",
       "      <td>754.159807</td>\n",
       "      <td>6.232113</td>\n",
       "      <td>2021-04-20</td>\n",
       "      <td>4</td>\n",
       "    </tr>\n",
       "    <tr>\n",
       "      <th>3</th>\n",
       "      <td>1</td>\n",
       "      <td>2694.783254</td>\n",
       "      <td>18.511000</td>\n",
       "      <td>2021-08-11</td>\n",
       "      <td>8</td>\n",
       "    </tr>\n",
       "    <tr>\n",
       "      <th>4</th>\n",
       "      <td>1</td>\n",
       "      <td>4028.687306</td>\n",
       "      <td>26.265803</td>\n",
       "      <td>2021-08-28</td>\n",
       "      <td>8</td>\n",
       "    </tr>\n",
       "  </tbody>\n",
       "</table>\n",
       "</div>"
      ],
      "text/plain": [
       "   user_id     distance   duration       date  month\n",
       "0        1  4409.919140  25.599769 2021-01-01      1\n",
       "1        1  2617.592153  15.816871 2021-01-18      1\n",
       "2        1   754.159807   6.232113 2021-04-20      4\n",
       "3        1  2694.783254  18.511000 2021-08-11      8\n",
       "4        1  4028.687306  26.265803 2021-08-28      8"
      ]
     },
     "execution_count": 7,
     "metadata": {},
     "output_type": "execute_result"
    }
   ],
   "source": [
    "df_rides_go['month'] = df_rides_go['date'].dt.month\n",
    "df_rides_go.head()"
   ]
  },
  {
   "cell_type": "markdown",
   "metadata": {
    "deletable": false,
    "editable": false,
    "id": "u69-EsMDsK7w",
    "tags": [
     "start_task"
    ]
   },
   "source": [
    "### 2.4 Поиск дублей и пропусков\n",
    "В датафрейме пользователей `df_users_go` определим количество пропусков и дубликатов. Ответ выведем в виде двух целых чисел, разделённых пробелом."
   ]
  },
  {
   "cell_type": "code",
   "execution_count": 8,
   "metadata": {
    "deletable": false,
    "id": "Bsfa7IX3Hi7w"
   },
   "outputs": [
    {
     "name": "stdout",
     "output_type": "stream",
     "text": [
      "0 31\n"
     ]
    }
   ],
   "source": [
    "print(df_users_go.isna().sum().sum(), \n",
    "      df_users_go.duplicated().sum())\n",
    "# df_users_go.info()"
   ]
  },
  {
   "cell_type": "markdown",
   "metadata": {
    "deletable": false,
    "editable": false,
    "id": "0n5_KBqtsK7y",
    "tags": [
     "start_task"
    ]
   },
   "source": [
    "### 2.5 Заполнение пропусков и удаление дублей\n",
    "При наличии пропущенных значений заполним их нулями, а все дубликаты удалим. "
   ]
  },
  {
   "cell_type": "code",
   "execution_count": 9,
   "metadata": {
    "deletable": false,
    "id": "X75yCyl_HkUS"
   },
   "outputs": [
    {
     "data": {
      "text/plain": [
       "0"
      ]
     },
     "execution_count": 9,
     "metadata": {},
     "output_type": "execute_result"
    }
   ],
   "source": [
    "df_users_go = df_users_go.drop_duplicates()\n",
    "\n",
    "df_users_go.duplicated().sum()\n",
    "# df_users_go[df_users_go['user_id']==829]\n"
   ]
  },
  {
   "cell_type": "markdown",
   "metadata": {
    "deletable": false,
    "editable": false,
    "id": "kAGj3NxDsK7z",
    "tags": [
     "start_task"
    ]
   },
   "source": [
    "### 2.6 Округление длительности поездки\n",
    "В датафрейме поездок `df_rides_go` округлим время поездки `duration` до целого числа стандартным методом `round()`. Затем приведём эту колонку к целочисленному типу `int`. Этот шаг затем поможет вам правильно рассчитать прибыль, так как плата взимается только за целое число минут."
   ]
  },
  {
   "cell_type": "code",
   "execution_count": 10,
   "metadata": {
    "deletable": false,
    "id": "pm5FYnl_HlSd"
   },
   "outputs": [
    {
     "data": {
      "text/plain": [
       "0        26\n",
       "1        16\n",
       "2         6\n",
       "3        19\n",
       "4        26\n",
       "         ..\n",
       "18063    20\n",
       "18064    21\n",
       "18065    18\n",
       "18066    17\n",
       "18067    16\n",
       "Name: duration, Length: 18068, dtype: int64"
      ]
     },
     "execution_count": 10,
     "metadata": {},
     "output_type": "execute_result"
    }
   ],
   "source": [
    "# df_rides_go['duration'] = pd.to_numeric(round(df_rides_go['duration']), downcast='integer')\n",
    "df_rides_go['duration'] = round(df_rides_go['duration']).astype('int64')\n",
    "df_rides_go['duration']"
   ]
  },
  {
   "cell_type": "markdown",
   "metadata": {
    "deletable": false,
    "editable": false,
    "id": "r5kzIOGGsK7z"
   },
   "source": [
    "---\n",
    "## 3. Исследовательский анализ данных (EDA)\n",
    "Исследовательский анализ данных. Изучим и визуализируем информацию о географии и демографии сервиса, а также лучше поймём закономерности в дистанциях и длительности поездок.\n"
   ]
  },
  {
   "cell_type": "markdown",
   "metadata": {
    "deletable": false,
    "editable": false,
    "id": "mnLLcghssK70",
    "tags": [
     "start_task"
    ]
   },
   "source": [
    "### 3.1 Импорт библиотеки matplotlib\n",
    "Импортируем библиотеку matplotlib.pyplot с сокращением `plt`."
   ]
  },
  {
   "cell_type": "code",
   "execution_count": 11,
   "metadata": {
    "deletable": false,
    "id": "gtf8ylhTHnBO"
   },
   "outputs": [],
   "source": [
    "# Загружаем библиотеки для визуализации данных\n",
    "import matplotlib.pyplot as plt"
   ]
  },
  {
   "cell_type": "markdown",
   "metadata": {
    "deletable": false,
    "editable": false,
    "id": "v4xEIrk1sK70",
    "tags": [
     "start_task"
    ]
   },
   "source": [
    "### 3.2 Количество пользователей по городам.\n",
    "Пользуясь данными из датафрейма `df_users_go`, изучим количество пользователей в каждом из городов. Создадим и выведеи на экран объект `pd.Series`, названный `users_by_city_count`, с одной колонкой `count` — суммарным количеством пользователей в каждом городе `city`, отсортированным по убыванию."
   ]
  },
  {
   "cell_type": "code",
   "execution_count": 12,
   "metadata": {
    "deletable": false,
    "id": "rkqVGZ9HHoXm"
   },
   "outputs": [
    {
     "data": {
      "text/plain": [
       "Пятигорск         219\n",
       "Екатеринбург      204\n",
       "Ростов-на-Дону    198\n",
       "Краснодар         193\n",
       "Сочи              189\n",
       "Омск              183\n",
       "Тюмень            180\n",
       "Москва            168\n",
       "Name: city, dtype: int64"
      ]
     },
     "execution_count": 12,
     "metadata": {},
     "output_type": "execute_result"
    }
   ],
   "source": [
    "# users_by_city_count = df_users_go.groupby('city')['user_id'].count().rename('count').sort_values(ascending=False).reset_index()\n",
    "users_by_city_count = df_users_go['city'].value_counts()\n",
    "users_by_city_count"
   ]
  },
  {
   "cell_type": "markdown",
   "metadata": {
    "deletable": false,
    "editable": false,
    "id": "T4MURCh8sK76",
    "tags": [
     "start_task"
    ]
   },
   "source": [
    "### 3.3 Количество пользователей подписки\n",
    "Создадим и выведем на экран серию `subscription_type_count` с количеством пользователей для каждого типа подписки `subscription_type`."
   ]
  },
  {
   "cell_type": "code",
   "execution_count": 13,
   "metadata": {
    "deletable": false,
    "id": "Fc_B3eFvHpum"
   },
   "outputs": [
    {
     "data": {
      "text/plain": [
       "free     835\n",
       "ultra    699\n",
       "Name: subscription_type, dtype: int64"
      ]
     },
     "execution_count": 13,
     "metadata": {},
     "output_type": "execute_result"
    }
   ],
   "source": [
    "# subscription_type_count = df_users_go.groupby('subscription_type')['user_id'].count()\n",
    "subscription_type_count = df_users_go['subscription_type'].value_counts()\n",
    "subscription_type_count"
   ]
  },
  {
   "cell_type": "markdown",
   "metadata": {
    "deletable": false,
    "editable": false,
    "id": "O3lz5rR4sK77",
    "tags": [
     "start_task"
    ]
   },
   "source": [
    "### 3.4 Круговая диаграмма\n",
    "Построим круговую диаграмму, указав процент пользователей с `free` и `ultra` подпиской. \n",
    "\n"
   ]
  },
  {
   "cell_type": "code",
   "execution_count": null,
   "metadata": {
    "deletable": false,
    "id": "xdIJI_KoHr7b"
   },
   "outputs": [
    {
     "data": {
      "image/png": "[encoded data removed]",
      "text/plain": [
       "<Figure size 432x288 with 1 Axes>"
      ]
     },
     "metadata": {},
     "output_type": "display_data"
    }
   ],
   "source": [
    "subscription_type_count.plot(\n",
    "    kind= 'pie', # Тип круговая диаграмма\n",
    "    title='Соотношение пользователей с подпиской и без подписки', # Заголовок\n",
    "    autopct= '%.0f%%', # Процентные метки\n",
    "    ylabel='', # Подпись оси Y не должна отображаться\n",
    "    colors= ['red', 'green'] # Цвета секторов\n",
    ")\n",
    "\n",
    "# Отобразим диаграмму\n",
    "plt.show()"
   ]
  },
  {
   "cell_type": "markdown",
   "metadata": {
    "deletable": false,
    "editable": false,
    "id": "AghuPrntsK78",
    "tags": [
     "start_task"
    ]
   },
   "source": [
    "### 3.5 Гистограмма возрастов\n",
    "Построим гистограмму возрастов `age` пользователей самокатов. Используем количество бинов, равное разности максимального и минимального значений возраста.\n"
   ]
  },
  {
   "cell_type": "code",
   "execution_count": null,
   "metadata": {
    "deletable": false,
    "id": "E-0ubIOKmbCR"
   },
   "outputs": [
    {
     "data": {
      "image/png": "[encoded data removed]",
      "text/plain": [
       "<Figure size 432x288 with 1 Axes>"
      ]
     },
     "metadata": {
      "needs_background": "light"
     },
     "output_type": "display_data"
    }
   ],
   "source": [
    "# Определим количество бинов `n_bins` как разницу между максимальным и минимальным значениями в столбце `age`.\n",
    "n_bins = df_users_go['age'].max() - df_users_go['age'].min()\n",
    "# print(n_bins, df_users_go['age'].max(), df_users_go['age'].min())\n",
    "df_users_go['age'].hist(bins=n_bins)\n",
    "\n",
    "# Настраиваем внешний вид графика и выводим его на экран\n",
    "plt.title('Возраст пользователей')\n",
    "# Установим подпись оси X\n",
    "plt.xlabel('Возраст')\n",
    "plt.show()"
   ]
  },
  {
   "cell_type": "markdown",
   "metadata": {
    "deletable": false,
    "editable": false,
    "id": "s0gjcXIasK7-",
    "tags": [
     "start_task"
    ]
   },
   "source": [
    "### 3.6 Несовершеннолетние пользователи\n",
    "Рассчитаем долю несовершеннолетних (возрастом менее 18 лет) пользователей самокатов."
   ]
  },
  {
   "cell_type": "code",
   "execution_count": 16,
   "metadata": {
    "deletable": false,
    "id": "OR-1q5LJI9UK"
   },
   "outputs": [
    {
     "name": "stdout",
     "output_type": "stream",
     "text": [
      "Доля несовершеннолетних пользователей самокатов составляет 5%.\n"
     ]
    }
   ],
   "source": [
    "users_under_18_ratio = int(100*df_users_go[df_users_go['age']<18].value_counts().sum() / \n",
    "                        df_users_go['age'].value_counts().sum())#.astype('int')\n",
    "print(f'Доля несовершеннолетних пользователей самокатов составляет {users_under_18_ratio}%.')\n"
   ]
  },
  {
   "cell_type": "markdown",
   "metadata": {
    "deletable": false,
    "editable": false,
    "id": "FK3h1H-nP5NW",
    "tags": [
     "start_task"
    ]
   },
   "source": [
    "### 3.7 Характеристики длительности поездки\n",
    "Длительность поездки является важной метрикой в работе сервиса проката самокатов. Если средняя длительность поездок будет слишком высокой, самокаты будут быстрее выходить из строя. Если слишком низкой, значит, клиентам что-то не нравится в сервисе.\n",
    "\n",
    "С помощью описательной статистики изучим длительность поездок\n"
   ]
  },
  {
   "cell_type": "code",
   "execution_count": null,
   "metadata": {
    "deletable": false,
    "id": "Gnhi9BqZKr3-"
   },
   "outputs": [
    {
     "name": "stdout",
     "output_type": "stream",
     "text": [
      "Средняя длительность поездки 18 минут со стандартным отклонением 6. Основная часть поездок занимает от 14 до 22 минут.\n"
     ]
    }
   ],
   "source": [
    "import numpy as np\n",
    "\n",
    "# Расчитаем среднее значение и стандартное отклонение длительности поездки.\n",
    "duration_mean = int(round(df_rides_go['duration'].mean()))\n",
    "duration_std = int(np.std(df_rides_go['duration']))\n",
    "\n",
    "# Рассчитаем 25-й и 75-й процентили длительности поездки.\n",
    "duration_pct25 = int(np.percentile(df_rides_go['duration'], 25))\n",
    "duration_pct75 = int(np.percentile(df_rides_go['duration'], 75))\n",
    "\n",
    "# Выведем на экран результат\n",
    "print(f'Средняя длительность поездки {duration_mean} минут со стандартным отклонением {duration_std}. Основная часть поездок занимает от {duration_pct25} до {duration_pct75} минут.')"
   ]
  },
  {
   "cell_type": "markdown",
   "metadata": {
    "deletable": false,
    "editable": false,
    "id": "tyrEdxs0sK8C"
   },
   "source": [
    "---\n",
    "## 4. Объединение данных\n",
    "\n",
    "Объединим все три таблицы в один датафрейм."
   ]
  },
  {
   "cell_type": "markdown",
   "metadata": {
    "deletable": false,
    "editable": false,
    "id": "diTj4AtBsK8C",
    "tags": [
     "start_task"
    ]
   },
   "source": [
    "### 4.1 Объединение таблицы пользователей и поездок\n",
    "Объединим датафреймы с информацией о пользователях `df_users_go` и поездках `df_rides_go`. Полученный датафрейм назовём просто `df`. При объединении используем метод `merge()` по общей для двух таблиц колонке и тип объединения `left`."
   ]
  },
  {
   "cell_type": "code",
   "execution_count": 18,
   "metadata": {
    "deletable": false,
    "id": "WwPCouN0nhPk"
   },
   "outputs": [
    {
     "data": {
      "text/html": [
       "<div>\n",
       "<style scoped>\n",
       "    .dataframe tbody tr th:only-of-type {\n",
       "        vertical-align: middle;\n",
       "    }\n",
       "\n",
       "    .dataframe tbody tr th {\n",
       "        vertical-align: top;\n",
       "    }\n",
       "\n",
       "    .dataframe thead th {\n",
       "        text-align: right;\n",
       "    }\n",
       "</style>\n",
       "<table border=\"1\" class=\"dataframe\">\n",
       "  <thead>\n",
       "    <tr style=\"text-align: right;\">\n",
       "      <th></th>\n",
       "      <th>user_id</th>\n",
       "      <th>name</th>\n",
       "      <th>age</th>\n",
       "      <th>city</th>\n",
       "      <th>subscription_type</th>\n",
       "      <th>distance</th>\n",
       "      <th>duration</th>\n",
       "      <th>date</th>\n",
       "      <th>month</th>\n",
       "    </tr>\n",
       "  </thead>\n",
       "  <tbody>\n",
       "    <tr>\n",
       "      <th>0</th>\n",
       "      <td>1</td>\n",
       "      <td>Кира</td>\n",
       "      <td>22</td>\n",
       "      <td>Тюмень</td>\n",
       "      <td>ultra</td>\n",
       "      <td>4409.919140</td>\n",
       "      <td>26</td>\n",
       "      <td>2021-01-01</td>\n",
       "      <td>1</td>\n",
       "    </tr>\n",
       "    <tr>\n",
       "      <th>1</th>\n",
       "      <td>1</td>\n",
       "      <td>Кира</td>\n",
       "      <td>22</td>\n",
       "      <td>Тюмень</td>\n",
       "      <td>ultra</td>\n",
       "      <td>2617.592153</td>\n",
       "      <td>16</td>\n",
       "      <td>2021-01-18</td>\n",
       "      <td>1</td>\n",
       "    </tr>\n",
       "    <tr>\n",
       "      <th>2</th>\n",
       "      <td>1</td>\n",
       "      <td>Кира</td>\n",
       "      <td>22</td>\n",
       "      <td>Тюмень</td>\n",
       "      <td>ultra</td>\n",
       "      <td>754.159807</td>\n",
       "      <td>6</td>\n",
       "      <td>2021-04-20</td>\n",
       "      <td>4</td>\n",
       "    </tr>\n",
       "    <tr>\n",
       "      <th>3</th>\n",
       "      <td>1</td>\n",
       "      <td>Кира</td>\n",
       "      <td>22</td>\n",
       "      <td>Тюмень</td>\n",
       "      <td>ultra</td>\n",
       "      <td>2694.783254</td>\n",
       "      <td>19</td>\n",
       "      <td>2021-08-11</td>\n",
       "      <td>8</td>\n",
       "    </tr>\n",
       "    <tr>\n",
       "      <th>4</th>\n",
       "      <td>1</td>\n",
       "      <td>Кира</td>\n",
       "      <td>22</td>\n",
       "      <td>Тюмень</td>\n",
       "      <td>ultra</td>\n",
       "      <td>4028.687306</td>\n",
       "      <td>26</td>\n",
       "      <td>2021-08-28</td>\n",
       "      <td>8</td>\n",
       "    </tr>\n",
       "    <tr>\n",
       "      <th>...</th>\n",
       "      <td>...</td>\n",
       "      <td>...</td>\n",
       "      <td>...</td>\n",
       "      <td>...</td>\n",
       "      <td>...</td>\n",
       "      <td>...</td>\n",
       "      <td>...</td>\n",
       "      <td>...</td>\n",
       "      <td>...</td>\n",
       "    </tr>\n",
       "    <tr>\n",
       "      <th>18063</th>\n",
       "      <td>1534</td>\n",
       "      <td>Альберт</td>\n",
       "      <td>25</td>\n",
       "      <td>Краснодар</td>\n",
       "      <td>free</td>\n",
       "      <td>3781.098080</td>\n",
       "      <td>20</td>\n",
       "      <td>2021-11-04</td>\n",
       "      <td>11</td>\n",
       "    </tr>\n",
       "    <tr>\n",
       "      <th>18064</th>\n",
       "      <td>1534</td>\n",
       "      <td>Альберт</td>\n",
       "      <td>25</td>\n",
       "      <td>Краснодар</td>\n",
       "      <td>free</td>\n",
       "      <td>2840.423057</td>\n",
       "      <td>21</td>\n",
       "      <td>2021-11-16</td>\n",
       "      <td>11</td>\n",
       "    </tr>\n",
       "    <tr>\n",
       "      <th>18065</th>\n",
       "      <td>1534</td>\n",
       "      <td>Альберт</td>\n",
       "      <td>25</td>\n",
       "      <td>Краснодар</td>\n",
       "      <td>free</td>\n",
       "      <td>3826.185507</td>\n",
       "      <td>18</td>\n",
       "      <td>2021-11-18</td>\n",
       "      <td>11</td>\n",
       "    </tr>\n",
       "    <tr>\n",
       "      <th>18066</th>\n",
       "      <td>1534</td>\n",
       "      <td>Альберт</td>\n",
       "      <td>25</td>\n",
       "      <td>Краснодар</td>\n",
       "      <td>free</td>\n",
       "      <td>2902.308661</td>\n",
       "      <td>17</td>\n",
       "      <td>2021-11-27</td>\n",
       "      <td>11</td>\n",
       "    </tr>\n",
       "    <tr>\n",
       "      <th>18067</th>\n",
       "      <td>1534</td>\n",
       "      <td>Альберт</td>\n",
       "      <td>25</td>\n",
       "      <td>Краснодар</td>\n",
       "      <td>free</td>\n",
       "      <td>2371.711192</td>\n",
       "      <td>16</td>\n",
       "      <td>2021-12-29</td>\n",
       "      <td>12</td>\n",
       "    </tr>\n",
       "  </tbody>\n",
       "</table>\n",
       "<p>18068 rows × 9 columns</p>\n",
       "</div>"
      ],
      "text/plain": [
       "       user_id     name  age       city subscription_type     distance  \\\n",
       "0            1     Кира   22     Тюмень             ultra  4409.919140   \n",
       "1            1     Кира   22     Тюмень             ultra  2617.592153   \n",
       "2            1     Кира   22     Тюмень             ultra   754.159807   \n",
       "3            1     Кира   22     Тюмень             ultra  2694.783254   \n",
       "4            1     Кира   22     Тюмень             ultra  4028.687306   \n",
       "...        ...      ...  ...        ...               ...          ...   \n",
       "18063     1534  Альберт   25  Краснодар              free  3781.098080   \n",
       "18064     1534  Альберт   25  Краснодар              free  2840.423057   \n",
       "18065     1534  Альберт   25  Краснодар              free  3826.185507   \n",
       "18066     1534  Альберт   25  Краснодар              free  2902.308661   \n",
       "18067     1534  Альберт   25  Краснодар              free  2371.711192   \n",
       "\n",
       "       duration       date  month  \n",
       "0            26 2021-01-01      1  \n",
       "1            16 2021-01-18      1  \n",
       "2             6 2021-04-20      4  \n",
       "3            19 2021-08-11      8  \n",
       "4            26 2021-08-28      8  \n",
       "...         ...        ...    ...  \n",
       "18063        20 2021-11-04     11  \n",
       "18064        21 2021-11-16     11  \n",
       "18065        18 2021-11-18     11  \n",
       "18066        17 2021-11-27     11  \n",
       "18067        16 2021-12-29     12  \n",
       "\n",
       "[18068 rows x 9 columns]"
      ]
     },
     "execution_count": 18,
     "metadata": {},
     "output_type": "execute_result"
    }
   ],
   "source": [
    "df = df_users_go.merge(df_rides_go, on='user_id', how='left')\n",
    "df"
   ]
  },
  {
   "cell_type": "markdown",
   "metadata": {
    "deletable": false,
    "editable": false,
    "id": "-RP6pSRQsK8D",
    "tags": [
     "start_task"
    ]
   },
   "source": [
    "### 4.2 Присоединение информации о подписках\n",
    "Присоединим к полученному датафрейму `df` информацию о подписках из `df_subscriptions_go`, используя метод `merge()` по общей колонке.\n"
   ]
  },
  {
   "cell_type": "code",
   "execution_count": 19,
   "metadata": {
    "deletable": false,
    "id": "G2coeCg2n6oe"
   },
   "outputs": [
    {
     "data": {
      "text/html": [
       "<div>\n",
       "<style scoped>\n",
       "    .dataframe tbody tr th:only-of-type {\n",
       "        vertical-align: middle;\n",
       "    }\n",
       "\n",
       "    .dataframe tbody tr th {\n",
       "        vertical-align: top;\n",
       "    }\n",
       "\n",
       "    .dataframe thead th {\n",
       "        text-align: right;\n",
       "    }\n",
       "</style>\n",
       "<table border=\"1\" class=\"dataframe\">\n",
       "  <thead>\n",
       "    <tr style=\"text-align: right;\">\n",
       "      <th></th>\n",
       "      <th>user_id</th>\n",
       "      <th>name</th>\n",
       "      <th>age</th>\n",
       "      <th>city</th>\n",
       "      <th>subscription_type</th>\n",
       "      <th>distance</th>\n",
       "      <th>duration</th>\n",
       "      <th>date</th>\n",
       "      <th>month</th>\n",
       "      <th>minute_price</th>\n",
       "      <th>start_ride_price</th>\n",
       "      <th>subscription_fee</th>\n",
       "    </tr>\n",
       "  </thead>\n",
       "  <tbody>\n",
       "    <tr>\n",
       "      <th>0</th>\n",
       "      <td>1</td>\n",
       "      <td>Кира</td>\n",
       "      <td>22</td>\n",
       "      <td>Тюмень</td>\n",
       "      <td>ultra</td>\n",
       "      <td>4409.919140</td>\n",
       "      <td>26</td>\n",
       "      <td>2021-01-01</td>\n",
       "      <td>1</td>\n",
       "      <td>6</td>\n",
       "      <td>0</td>\n",
       "      <td>199</td>\n",
       "    </tr>\n",
       "    <tr>\n",
       "      <th>1</th>\n",
       "      <td>1</td>\n",
       "      <td>Кира</td>\n",
       "      <td>22</td>\n",
       "      <td>Тюмень</td>\n",
       "      <td>ultra</td>\n",
       "      <td>2617.592153</td>\n",
       "      <td>16</td>\n",
       "      <td>2021-01-18</td>\n",
       "      <td>1</td>\n",
       "      <td>6</td>\n",
       "      <td>0</td>\n",
       "      <td>199</td>\n",
       "    </tr>\n",
       "    <tr>\n",
       "      <th>2</th>\n",
       "      <td>1</td>\n",
       "      <td>Кира</td>\n",
       "      <td>22</td>\n",
       "      <td>Тюмень</td>\n",
       "      <td>ultra</td>\n",
       "      <td>754.159807</td>\n",
       "      <td>6</td>\n",
       "      <td>2021-04-20</td>\n",
       "      <td>4</td>\n",
       "      <td>6</td>\n",
       "      <td>0</td>\n",
       "      <td>199</td>\n",
       "    </tr>\n",
       "    <tr>\n",
       "      <th>3</th>\n",
       "      <td>1</td>\n",
       "      <td>Кира</td>\n",
       "      <td>22</td>\n",
       "      <td>Тюмень</td>\n",
       "      <td>ultra</td>\n",
       "      <td>2694.783254</td>\n",
       "      <td>19</td>\n",
       "      <td>2021-08-11</td>\n",
       "      <td>8</td>\n",
       "      <td>6</td>\n",
       "      <td>0</td>\n",
       "      <td>199</td>\n",
       "    </tr>\n",
       "    <tr>\n",
       "      <th>4</th>\n",
       "      <td>1</td>\n",
       "      <td>Кира</td>\n",
       "      <td>22</td>\n",
       "      <td>Тюмень</td>\n",
       "      <td>ultra</td>\n",
       "      <td>4028.687306</td>\n",
       "      <td>26</td>\n",
       "      <td>2021-08-28</td>\n",
       "      <td>8</td>\n",
       "      <td>6</td>\n",
       "      <td>0</td>\n",
       "      <td>199</td>\n",
       "    </tr>\n",
       "    <tr>\n",
       "      <th>...</th>\n",
       "      <td>...</td>\n",
       "      <td>...</td>\n",
       "      <td>...</td>\n",
       "      <td>...</td>\n",
       "      <td>...</td>\n",
       "      <td>...</td>\n",
       "      <td>...</td>\n",
       "      <td>...</td>\n",
       "      <td>...</td>\n",
       "      <td>...</td>\n",
       "      <td>...</td>\n",
       "      <td>...</td>\n",
       "    </tr>\n",
       "    <tr>\n",
       "      <th>18063</th>\n",
       "      <td>1534</td>\n",
       "      <td>Альберт</td>\n",
       "      <td>25</td>\n",
       "      <td>Краснодар</td>\n",
       "      <td>free</td>\n",
       "      <td>3781.098080</td>\n",
       "      <td>20</td>\n",
       "      <td>2021-11-04</td>\n",
       "      <td>11</td>\n",
       "      <td>8</td>\n",
       "      <td>50</td>\n",
       "      <td>0</td>\n",
       "    </tr>\n",
       "    <tr>\n",
       "      <th>18064</th>\n",
       "      <td>1534</td>\n",
       "      <td>Альберт</td>\n",
       "      <td>25</td>\n",
       "      <td>Краснодар</td>\n",
       "      <td>free</td>\n",
       "      <td>2840.423057</td>\n",
       "      <td>21</td>\n",
       "      <td>2021-11-16</td>\n",
       "      <td>11</td>\n",
       "      <td>8</td>\n",
       "      <td>50</td>\n",
       "      <td>0</td>\n",
       "    </tr>\n",
       "    <tr>\n",
       "      <th>18065</th>\n",
       "      <td>1534</td>\n",
       "      <td>Альберт</td>\n",
       "      <td>25</td>\n",
       "      <td>Краснодар</td>\n",
       "      <td>free</td>\n",
       "      <td>3826.185507</td>\n",
       "      <td>18</td>\n",
       "      <td>2021-11-18</td>\n",
       "      <td>11</td>\n",
       "      <td>8</td>\n",
       "      <td>50</td>\n",
       "      <td>0</td>\n",
       "    </tr>\n",
       "    <tr>\n",
       "      <th>18066</th>\n",
       "      <td>1534</td>\n",
       "      <td>Альберт</td>\n",
       "      <td>25</td>\n",
       "      <td>Краснодар</td>\n",
       "      <td>free</td>\n",
       "      <td>2902.308661</td>\n",
       "      <td>17</td>\n",
       "      <td>2021-11-27</td>\n",
       "      <td>11</td>\n",
       "      <td>8</td>\n",
       "      <td>50</td>\n",
       "      <td>0</td>\n",
       "    </tr>\n",
       "    <tr>\n",
       "      <th>18067</th>\n",
       "      <td>1534</td>\n",
       "      <td>Альберт</td>\n",
       "      <td>25</td>\n",
       "      <td>Краснодар</td>\n",
       "      <td>free</td>\n",
       "      <td>2371.711192</td>\n",
       "      <td>16</td>\n",
       "      <td>2021-12-29</td>\n",
       "      <td>12</td>\n",
       "      <td>8</td>\n",
       "      <td>50</td>\n",
       "      <td>0</td>\n",
       "    </tr>\n",
       "  </tbody>\n",
       "</table>\n",
       "<p>18068 rows × 12 columns</p>\n",
       "</div>"
      ],
      "text/plain": [
       "       user_id     name  age       city subscription_type     distance  \\\n",
       "0            1     Кира   22     Тюмень             ultra  4409.919140   \n",
       "1            1     Кира   22     Тюмень             ultra  2617.592153   \n",
       "2            1     Кира   22     Тюмень             ultra   754.159807   \n",
       "3            1     Кира   22     Тюмень             ultra  2694.783254   \n",
       "4            1     Кира   22     Тюмень             ultra  4028.687306   \n",
       "...        ...      ...  ...        ...               ...          ...   \n",
       "18063     1534  Альберт   25  Краснодар              free  3781.098080   \n",
       "18064     1534  Альберт   25  Краснодар              free  2840.423057   \n",
       "18065     1534  Альберт   25  Краснодар              free  3826.185507   \n",
       "18066     1534  Альберт   25  Краснодар              free  2902.308661   \n",
       "18067     1534  Альберт   25  Краснодар              free  2371.711192   \n",
       "\n",
       "       duration       date  month  minute_price  start_ride_price  \\\n",
       "0            26 2021-01-01      1             6                 0   \n",
       "1            16 2021-01-18      1             6                 0   \n",
       "2             6 2021-04-20      4             6                 0   \n",
       "3            19 2021-08-11      8             6                 0   \n",
       "4            26 2021-08-28      8             6                 0   \n",
       "...         ...        ...    ...           ...               ...   \n",
       "18063        20 2021-11-04     11             8                50   \n",
       "18064        21 2021-11-16     11             8                50   \n",
       "18065        18 2021-11-18     11             8                50   \n",
       "18066        17 2021-11-27     11             8                50   \n",
       "18067        16 2021-12-29     12             8                50   \n",
       "\n",
       "       subscription_fee  \n",
       "0                   199  \n",
       "1                   199  \n",
       "2                   199  \n",
       "3                   199  \n",
       "4                   199  \n",
       "...                 ...  \n",
       "18063                 0  \n",
       "18064                 0  \n",
       "18065                 0  \n",
       "18066                 0  \n",
       "18067                 0  \n",
       "\n",
       "[18068 rows x 12 columns]"
      ]
     },
     "execution_count": 19,
     "metadata": {},
     "output_type": "execute_result"
    }
   ],
   "source": [
    "df = df.merge(df_subscriptions_go, on='subscription_type', how='left') \n",
    "df"
   ]
  },
  {
   "cell_type": "markdown",
   "metadata": {
    "deletable": false,
    "editable": false,
    "id": "RGrvW_QIsK8D",
    "tags": [
     "start_task"
    ]
   },
   "source": [
    "### 4.3. Размеры объединённого датафрейма\n",
    "Для финальной проверки выведем на экран первые пять строк датафрейма, а также количество строк и столбцов полученного датафрейма `df`. Этот этап позволит убедиться, что никакие записи не потерялись при объединении."
   ]
  },
  {
   "cell_type": "code",
   "execution_count": 20,
   "metadata": {
    "deletable": false,
    "id": "9isF62fNLWAD"
   },
   "outputs": [
    {
     "data": {
      "text/html": [
       "<div>\n",
       "<style scoped>\n",
       "    .dataframe tbody tr th:only-of-type {\n",
       "        vertical-align: middle;\n",
       "    }\n",
       "\n",
       "    .dataframe tbody tr th {\n",
       "        vertical-align: top;\n",
       "    }\n",
       "\n",
       "    .dataframe thead th {\n",
       "        text-align: right;\n",
       "    }\n",
       "</style>\n",
       "<table border=\"1\" class=\"dataframe\">\n",
       "  <thead>\n",
       "    <tr style=\"text-align: right;\">\n",
       "      <th></th>\n",
       "      <th>user_id</th>\n",
       "      <th>name</th>\n",
       "      <th>age</th>\n",
       "      <th>city</th>\n",
       "      <th>subscription_type</th>\n",
       "      <th>distance</th>\n",
       "      <th>duration</th>\n",
       "      <th>date</th>\n",
       "      <th>month</th>\n",
       "      <th>minute_price</th>\n",
       "      <th>start_ride_price</th>\n",
       "      <th>subscription_fee</th>\n",
       "    </tr>\n",
       "  </thead>\n",
       "  <tbody>\n",
       "    <tr>\n",
       "      <th>0</th>\n",
       "      <td>1</td>\n",
       "      <td>Кира</td>\n",
       "      <td>22</td>\n",
       "      <td>Тюмень</td>\n",
       "      <td>ultra</td>\n",
       "      <td>4409.919140</td>\n",
       "      <td>26</td>\n",
       "      <td>2021-01-01</td>\n",
       "      <td>1</td>\n",
       "      <td>6</td>\n",
       "      <td>0</td>\n",
       "      <td>199</td>\n",
       "    </tr>\n",
       "    <tr>\n",
       "      <th>1</th>\n",
       "      <td>1</td>\n",
       "      <td>Кира</td>\n",
       "      <td>22</td>\n",
       "      <td>Тюмень</td>\n",
       "      <td>ultra</td>\n",
       "      <td>2617.592153</td>\n",
       "      <td>16</td>\n",
       "      <td>2021-01-18</td>\n",
       "      <td>1</td>\n",
       "      <td>6</td>\n",
       "      <td>0</td>\n",
       "      <td>199</td>\n",
       "    </tr>\n",
       "    <tr>\n",
       "      <th>2</th>\n",
       "      <td>1</td>\n",
       "      <td>Кира</td>\n",
       "      <td>22</td>\n",
       "      <td>Тюмень</td>\n",
       "      <td>ultra</td>\n",
       "      <td>754.159807</td>\n",
       "      <td>6</td>\n",
       "      <td>2021-04-20</td>\n",
       "      <td>4</td>\n",
       "      <td>6</td>\n",
       "      <td>0</td>\n",
       "      <td>199</td>\n",
       "    </tr>\n",
       "    <tr>\n",
       "      <th>3</th>\n",
       "      <td>1</td>\n",
       "      <td>Кира</td>\n",
       "      <td>22</td>\n",
       "      <td>Тюмень</td>\n",
       "      <td>ultra</td>\n",
       "      <td>2694.783254</td>\n",
       "      <td>19</td>\n",
       "      <td>2021-08-11</td>\n",
       "      <td>8</td>\n",
       "      <td>6</td>\n",
       "      <td>0</td>\n",
       "      <td>199</td>\n",
       "    </tr>\n",
       "    <tr>\n",
       "      <th>4</th>\n",
       "      <td>1</td>\n",
       "      <td>Кира</td>\n",
       "      <td>22</td>\n",
       "      <td>Тюмень</td>\n",
       "      <td>ultra</td>\n",
       "      <td>4028.687306</td>\n",
       "      <td>26</td>\n",
       "      <td>2021-08-28</td>\n",
       "      <td>8</td>\n",
       "      <td>6</td>\n",
       "      <td>0</td>\n",
       "      <td>199</td>\n",
       "    </tr>\n",
       "  </tbody>\n",
       "</table>\n",
       "</div>"
      ],
      "text/plain": [
       "   user_id  name  age    city subscription_type     distance  duration  \\\n",
       "0        1  Кира   22  Тюмень             ultra  4409.919140        26   \n",
       "1        1  Кира   22  Тюмень             ultra  2617.592153        16   \n",
       "2        1  Кира   22  Тюмень             ultra   754.159807         6   \n",
       "3        1  Кира   22  Тюмень             ultra  2694.783254        19   \n",
       "4        1  Кира   22  Тюмень             ultra  4028.687306        26   \n",
       "\n",
       "        date  month  minute_price  start_ride_price  subscription_fee  \n",
       "0 2021-01-01      1             6                 0               199  \n",
       "1 2021-01-18      1             6                 0               199  \n",
       "2 2021-04-20      4             6                 0               199  \n",
       "3 2021-08-11      8             6                 0               199  \n",
       "4 2021-08-28      8             6                 0               199  "
      ]
     },
     "metadata": {},
     "output_type": "display_data"
    },
    {
     "name": "stdout",
     "output_type": "stream",
     "text": [
      "В полученном датафрейме 18068 строк и 12 столбцов.\n"
     ]
    }
   ],
   "source": [
    "# Выводим первые строки датафрейма\n",
    "display(df.head(5))\n",
    "\n",
    "# Выводим количество строк и столбцов в объединённом датафрейме\n",
    "n_rows, n_cols = df.shape\n",
    "print(f'В полученном датафрейме {n_rows} строк и {n_cols} столбцов.')"
   ]
  },
  {
   "cell_type": "markdown",
   "metadata": {
    "deletable": false,
    "editable": false,
    "id": "j4fAbR0dsK8E",
    "tags": [
     "start_task"
    ]
   },
   "source": [
    "### 4.4 Отдельные датафреймы для пользователей с подпиской и без\n",
    "Создадим два вспомогательных датафрейма на основе `df`: первый только для пользователей с подпиской `df_ultra` и второй только для пользователей без подписки `df_free`. "
   ]
  },
  {
   "cell_type": "code",
   "execution_count": 21,
   "metadata": {
    "deletable": false,
    "id": "sKY6MwNNosYg"
   },
   "outputs": [],
   "source": [
    "df_ultra = df[df['subscription_type']=='ultra']\n",
    "df_free = df[df['subscription_type']=='free']\n",
    "\n",
    "# df_ultra\n",
    "# df_free"
   ]
  },
  {
   "cell_type": "markdown",
   "metadata": {
    "deletable": false,
    "editable": false,
    "id": "EsOUpiJ1sK8F",
    "tags": [
     "start_task"
    ]
   },
   "source": [
    "### 4.5 Гистограмма длительности поездок для обоих групп\n",
    "На одном графике построим гистограмму распределения длительности поездок `duration` для пользователей с подпиской и без.\n",
    "\n"
   ]
  },
  {
   "cell_type": "code",
   "execution_count": null,
   "metadata": {
    "deletable": false,
    "id": "qw6ZmTHspFbc"
   },
   "outputs": [
    {
     "data": {
      "image/png": "[encoded data removed]",
      "text/plain": [
       "<Figure size 1080x360 with 1 Axes>"
      ]
     },
     "metadata": {
      "needs_background": "light"
     },
     "output_type": "display_data"
    },
    {
     "name": "stdout",
     "output_type": "stream",
     "text": [
      "Средняя длительность поездки для пользователей без подписки 17 мин, а для пользователей с подпиской 19 мин\n"
     ]
    }
   ],
   "source": [
    "# Гистограмма длительности поездки для пользователей с подпиской и без\n",
    "\n",
    "# Установим размер графика\n",
    "plt.figure(figsize=(15, 5))\n",
    " \n",
    "df_free['duration'].plot( \n",
    "            kind='hist', # тип гравфика гистограмма\n",
    "            bins=30, # зададим количество бинов\n",
    "            label='free'\n",
    ")\n",
    "\n",
    "df_ultra['duration'].plot( \n",
    "            kind='hist',\n",
    "            bins=30,\n",
    "            label='ultra'\n",
    ")\n",
    "\n",
    "# Установим подпись оси X\n",
    "plt.xlabel('Длительность поездки, мин.')\n",
    "# Зададим заголовок графика\n",
    "plt.title('Гистограмма распределения длительности поездок')\n",
    "# Добавим легенду для различения категорий\n",
    "plt.legend()\n",
    "# Покажем график\n",
    "plt.show()\n",
    "\n",
    "# Расчет и вывод на экран средней длительности поездки для пользователей с подпиской и без\n",
    "mean_duration_free = int(round(df_free['duration'].mean(), 2))\n",
    "mean_duration_ultra = round(df_ultra['duration'].mean())\n",
    "print(f'Средняя длительность поездки для пользователей без подписки {mean_duration_free} мин, а для пользователей с подпиской {mean_duration_ultra} мин')"
   ]
  },
  {
   "cell_type": "markdown",
   "metadata": {
    "deletable": false,
    "editable": false,
    "id": "oasgRJ_osK8G"
   },
   "source": [
    "---\n",
    "## 5. Подсчёт выручки\n",
    "Данные о количестве и длительности поездок объединены с ценами и тарифами, а значит, теперь есть всё необходимое, чтобы рассчитать важный для бизнеса показатель — выручку."
   ]
  },
  {
   "cell_type": "markdown",
   "metadata": {
    "deletable": false,
    "editable": false,
    "id": "LVBMnLV0sK8G",
    "tags": [
     "start_task"
    ]
   },
   "source": [
    "### 5.1 Данные сгруппированные по нужным колонкам\n",
    "Сгруппируем данные по следующим столбцам: `user_id`, `name`, `subscription_type`, `month`. В итоговом датафрейме `df_gp` сохраним порядок агрегации изначальных столбцов и не будем использовать групповые индексы (опция `as_index=False`).\n"
   ]
  },
  {
   "cell_type": "code",
   "execution_count": 23,
   "metadata": {
    "deletable": false,
    "id": "Ij2VX1plpVQI"
   },
   "outputs": [
    {
     "name": "stdout",
     "output_type": "stream",
     "text": [
      "<pandas.core.groupby.generic.DataFrameGroupBy object at 0x7fb7ece6d250>\n"
     ]
    }
   ],
   "source": [
    "df_gp = df.groupby(['user_id', 'name', 'subscription_type', 'month'], as_index=False)\n",
    "print(df_gp)"
   ]
  },
  {
   "cell_type": "markdown",
   "metadata": {
    "deletable": false,
    "editable": false,
    "id": "UVBq7IWjsK8H",
    "tags": [
     "start_task"
    ]
   },
   "source": [
    "### 5.2 Подсчёт агрегированных метрик\n",
    "Создадим новый датафрейм `df_agg`. В нём для каждой группы рассчитаем и добавим в датафрейм следующие агрегированные значения, используя метод `agg()`:\n",
    "- `total_distance` — сумма значений в столбце `distance`.\n",
    "- `total_duration` — сумма значений в столбце `duration`.\n",
    "- `rides_count` — количество элементов в столбце `duration`.\n",
    "- `subscription_type` — первое значение в группе для столбца `subscription_type`.\n",
    "- `minute_price` — первое значение в группе для столбца `minute_price`.\n",
    "- `start_ride_price` — первое значение в группе для столбца `start_ride_price`.\n",
    "- `subscription_fee` — первое значение в группе для столбца `subscription_fee`."
   ]
  },
  {
   "cell_type": "markdown",
   "metadata": {
    "deletable": false,
    "editable": false,
    "id": "p5MR_VMxNHKs"
   },
   "source": [
    "<details>\n",
    "<summary>Открыть подсказку</summary>\n",
    "В этом задании удобнее всего сделать агрегацию с использованием кортежей.\n",
    "</details>"
   ]
  },
  {
   "cell_type": "code",
   "execution_count": 24,
   "metadata": {
    "deletable": false,
    "id": "8NEOkiIONXHF"
   },
   "outputs": [
    {
     "data": {
      "text/html": [
       "<div>\n",
       "<style scoped>\n",
       "    .dataframe tbody tr th:only-of-type {\n",
       "        vertical-align: middle;\n",
       "    }\n",
       "\n",
       "    .dataframe tbody tr th {\n",
       "        vertical-align: top;\n",
       "    }\n",
       "\n",
       "    .dataframe thead th {\n",
       "        text-align: right;\n",
       "    }\n",
       "</style>\n",
       "<table border=\"1\" class=\"dataframe\">\n",
       "  <thead>\n",
       "    <tr style=\"text-align: right;\">\n",
       "      <th></th>\n",
       "      <th>user_id</th>\n",
       "      <th>name</th>\n",
       "      <th>month</th>\n",
       "      <th>total_distance</th>\n",
       "      <th>total_duration</th>\n",
       "      <th>rides_count</th>\n",
       "      <th>subscription_type</th>\n",
       "      <th>minute_price</th>\n",
       "      <th>start_ride_price</th>\n",
       "      <th>subscription_fee</th>\n",
       "    </tr>\n",
       "  </thead>\n",
       "  <tbody>\n",
       "    <tr>\n",
       "      <th>0</th>\n",
       "      <td>1</td>\n",
       "      <td>Кира</td>\n",
       "      <td>1</td>\n",
       "      <td>7027.511294</td>\n",
       "      <td>42</td>\n",
       "      <td>2</td>\n",
       "      <td>ultra</td>\n",
       "      <td>6</td>\n",
       "      <td>0</td>\n",
       "      <td>199</td>\n",
       "    </tr>\n",
       "    <tr>\n",
       "      <th>1</th>\n",
       "      <td>1</td>\n",
       "      <td>Кира</td>\n",
       "      <td>4</td>\n",
       "      <td>754.159807</td>\n",
       "      <td>6</td>\n",
       "      <td>1</td>\n",
       "      <td>ultra</td>\n",
       "      <td>6</td>\n",
       "      <td>0</td>\n",
       "      <td>199</td>\n",
       "    </tr>\n",
       "    <tr>\n",
       "      <th>2</th>\n",
       "      <td>1</td>\n",
       "      <td>Кира</td>\n",
       "      <td>8</td>\n",
       "      <td>6723.470560</td>\n",
       "      <td>45</td>\n",
       "      <td>2</td>\n",
       "      <td>ultra</td>\n",
       "      <td>6</td>\n",
       "      <td>0</td>\n",
       "      <td>199</td>\n",
       "    </tr>\n",
       "    <tr>\n",
       "      <th>3</th>\n",
       "      <td>1</td>\n",
       "      <td>Кира</td>\n",
       "      <td>10</td>\n",
       "      <td>5809.911100</td>\n",
       "      <td>32</td>\n",
       "      <td>2</td>\n",
       "      <td>ultra</td>\n",
       "      <td>6</td>\n",
       "      <td>0</td>\n",
       "      <td>199</td>\n",
       "    </tr>\n",
       "    <tr>\n",
       "      <th>4</th>\n",
       "      <td>1</td>\n",
       "      <td>Кира</td>\n",
       "      <td>11</td>\n",
       "      <td>7003.499363</td>\n",
       "      <td>53</td>\n",
       "      <td>3</td>\n",
       "      <td>ultra</td>\n",
       "      <td>6</td>\n",
       "      <td>0</td>\n",
       "      <td>199</td>\n",
       "    </tr>\n",
       "    <tr>\n",
       "      <th>...</th>\n",
       "      <td>...</td>\n",
       "      <td>...</td>\n",
       "      <td>...</td>\n",
       "      <td>...</td>\n",
       "      <td>...</td>\n",
       "      <td>...</td>\n",
       "      <td>...</td>\n",
       "      <td>...</td>\n",
       "      <td>...</td>\n",
       "      <td>...</td>\n",
       "    </tr>\n",
       "    <tr>\n",
       "      <th>11326</th>\n",
       "      <td>1534</td>\n",
       "      <td>Альберт</td>\n",
       "      <td>6</td>\n",
       "      <td>3409.468534</td>\n",
       "      <td>24</td>\n",
       "      <td>2</td>\n",
       "      <td>free</td>\n",
       "      <td>8</td>\n",
       "      <td>50</td>\n",
       "      <td>0</td>\n",
       "    </tr>\n",
       "    <tr>\n",
       "      <th>11327</th>\n",
       "      <td>1534</td>\n",
       "      <td>Альберт</td>\n",
       "      <td>8</td>\n",
       "      <td>7622.453034</td>\n",
       "      <td>47</td>\n",
       "      <td>2</td>\n",
       "      <td>free</td>\n",
       "      <td>8</td>\n",
       "      <td>50</td>\n",
       "      <td>0</td>\n",
       "    </tr>\n",
       "    <tr>\n",
       "      <th>11328</th>\n",
       "      <td>1534</td>\n",
       "      <td>Альберт</td>\n",
       "      <td>9</td>\n",
       "      <td>4928.173852</td>\n",
       "      <td>23</td>\n",
       "      <td>1</td>\n",
       "      <td>free</td>\n",
       "      <td>8</td>\n",
       "      <td>50</td>\n",
       "      <td>0</td>\n",
       "    </tr>\n",
       "    <tr>\n",
       "      <th>11329</th>\n",
       "      <td>1534</td>\n",
       "      <td>Альберт</td>\n",
       "      <td>11</td>\n",
       "      <td>13350.015305</td>\n",
       "      <td>76</td>\n",
       "      <td>4</td>\n",
       "      <td>free</td>\n",
       "      <td>8</td>\n",
       "      <td>50</td>\n",
       "      <td>0</td>\n",
       "    </tr>\n",
       "    <tr>\n",
       "      <th>11330</th>\n",
       "      <td>1534</td>\n",
       "      <td>Альберт</td>\n",
       "      <td>12</td>\n",
       "      <td>2371.711192</td>\n",
       "      <td>16</td>\n",
       "      <td>1</td>\n",
       "      <td>free</td>\n",
       "      <td>8</td>\n",
       "      <td>50</td>\n",
       "      <td>0</td>\n",
       "    </tr>\n",
       "  </tbody>\n",
       "</table>\n",
       "<p>11331 rows × 10 columns</p>\n",
       "</div>"
      ],
      "text/plain": [
       "       user_id     name  month  total_distance  total_duration  rides_count  \\\n",
       "0            1     Кира      1     7027.511294              42            2   \n",
       "1            1     Кира      4      754.159807               6            1   \n",
       "2            1     Кира      8     6723.470560              45            2   \n",
       "3            1     Кира     10     5809.911100              32            2   \n",
       "4            1     Кира     11     7003.499363              53            3   \n",
       "...        ...      ...    ...             ...             ...          ...   \n",
       "11326     1534  Альберт      6     3409.468534              24            2   \n",
       "11327     1534  Альберт      8     7622.453034              47            2   \n",
       "11328     1534  Альберт      9     4928.173852              23            1   \n",
       "11329     1534  Альберт     11    13350.015305              76            4   \n",
       "11330     1534  Альберт     12     2371.711192              16            1   \n",
       "\n",
       "      subscription_type  minute_price  start_ride_price  subscription_fee  \n",
       "0                 ultra             6                 0               199  \n",
       "1                 ultra             6                 0               199  \n",
       "2                 ultra             6                 0               199  \n",
       "3                 ultra             6                 0               199  \n",
       "4                 ultra             6                 0               199  \n",
       "...                 ...           ...               ...               ...  \n",
       "11326              free             8                50                 0  \n",
       "11327              free             8                50                 0  \n",
       "11328              free             8                50                 0  \n",
       "11329              free             8                50                 0  \n",
       "11330              free             8                50                 0  \n",
       "\n",
       "[11331 rows x 10 columns]"
      ]
     },
     "execution_count": 24,
     "metadata": {},
     "output_type": "execute_result"
    }
   ],
   "source": [
    "df_agg = df_gp.agg( # Укажите подходящий инструмент здесь\n",
    "    total_distance=('distance', 'sum'),\n",
    "    total_duration= ('duration', 'sum'),\n",
    "    rides_count= ('duration', 'count'),\n",
    "    subscription_type= ('subscription_type', 'first'),\n",
    "    minute_price= ('minute_price', 'first'),\n",
    "    start_ride_price= ('start_ride_price', 'first'),\n",
    "    subscription_fee= ('subscription_fee', 'first'),\n",
    ")\n",
    "df_agg"
   ]
  },
  {
   "cell_type": "markdown",
   "metadata": {
    "deletable": false,
    "editable": false,
    "id": "l6uH5vWSsK8H",
    "tags": [
     "start_task"
    ]
   },
   "source": [
    "### 5.3 Функция для подсчёта выручки\n",
    "Создадим функцию `calculate_monthly_revenue(row)` для расчёта месячной выручки по формуле:\n",
    "\n",
    "`monthly_revenue` = `start_ride_price` * `rides_count` + `minute_price` * `total_duration` + `subscription_fee`\n",
    "\n",
    "В качестве входных данных функция будет принимать одну строку `row` датафрейма. \n",
    "\n",
    "Здесь:\n",
    "- `start_ride_price * rides_count` — выручка от начала каждой поездки.\n",
    "- `minute_price * total_duration` — выручка за время использования.\n",
    "- `subscription_fee` — фиксированная выручка от подписок."
   ]
  },
  {
   "cell_type": "code",
   "execution_count": 25,
   "metadata": {
    "deletable": false,
    "id": "4nzdjVb8qDds"
   },
   "outputs": [],
   "source": [
    "def calculate_monthly_revenue(row):\n",
    "    return  row['start_ride_price'] * row['rides_count'] + row['minute_price'] * row['total_duration'] + row['subscription_fee']\n"
   ]
  },
  {
   "cell_type": "markdown",
   "metadata": {
    "deletable": false,
    "editable": false,
    "id": "bH0zftBAsK8I",
    "tags": [
     "start_task"
    ]
   },
   "source": [
    "### 5.4 Создание столбца с месячной выручкой на пользователя\n",
    "Создадим новый столбец с месячной выручкой на пользователя `monthly_revenue`. Для этого применим функцию `calculate_monthly_revenue(row)` к каждой строке агрегированного датафрейма `df_agg`."
   ]
  },
  {
   "cell_type": "code",
   "execution_count": 26,
   "metadata": {
    "deletable": false,
    "id": "iUo_b7nmqVL3"
   },
   "outputs": [
    {
     "data": {
      "text/html": [
       "<div>\n",
       "<style scoped>\n",
       "    .dataframe tbody tr th:only-of-type {\n",
       "        vertical-align: middle;\n",
       "    }\n",
       "\n",
       "    .dataframe tbody tr th {\n",
       "        vertical-align: top;\n",
       "    }\n",
       "\n",
       "    .dataframe thead th {\n",
       "        text-align: right;\n",
       "    }\n",
       "</style>\n",
       "<table border=\"1\" class=\"dataframe\">\n",
       "  <thead>\n",
       "    <tr style=\"text-align: right;\">\n",
       "      <th></th>\n",
       "      <th>user_id</th>\n",
       "      <th>name</th>\n",
       "      <th>month</th>\n",
       "      <th>total_distance</th>\n",
       "      <th>total_duration</th>\n",
       "      <th>rides_count</th>\n",
       "      <th>subscription_type</th>\n",
       "      <th>minute_price</th>\n",
       "      <th>start_ride_price</th>\n",
       "      <th>subscription_fee</th>\n",
       "      <th>monthly_revenue</th>\n",
       "    </tr>\n",
       "  </thead>\n",
       "  <tbody>\n",
       "    <tr>\n",
       "      <th>0</th>\n",
       "      <td>1</td>\n",
       "      <td>Кира</td>\n",
       "      <td>1</td>\n",
       "      <td>7027.511294</td>\n",
       "      <td>42</td>\n",
       "      <td>2</td>\n",
       "      <td>ultra</td>\n",
       "      <td>6</td>\n",
       "      <td>0</td>\n",
       "      <td>199</td>\n",
       "      <td>451</td>\n",
       "    </tr>\n",
       "    <tr>\n",
       "      <th>1</th>\n",
       "      <td>1</td>\n",
       "      <td>Кира</td>\n",
       "      <td>4</td>\n",
       "      <td>754.159807</td>\n",
       "      <td>6</td>\n",
       "      <td>1</td>\n",
       "      <td>ultra</td>\n",
       "      <td>6</td>\n",
       "      <td>0</td>\n",
       "      <td>199</td>\n",
       "      <td>235</td>\n",
       "    </tr>\n",
       "    <tr>\n",
       "      <th>2</th>\n",
       "      <td>1</td>\n",
       "      <td>Кира</td>\n",
       "      <td>8</td>\n",
       "      <td>6723.470560</td>\n",
       "      <td>45</td>\n",
       "      <td>2</td>\n",
       "      <td>ultra</td>\n",
       "      <td>6</td>\n",
       "      <td>0</td>\n",
       "      <td>199</td>\n",
       "      <td>469</td>\n",
       "    </tr>\n",
       "    <tr>\n",
       "      <th>3</th>\n",
       "      <td>1</td>\n",
       "      <td>Кира</td>\n",
       "      <td>10</td>\n",
       "      <td>5809.911100</td>\n",
       "      <td>32</td>\n",
       "      <td>2</td>\n",
       "      <td>ultra</td>\n",
       "      <td>6</td>\n",
       "      <td>0</td>\n",
       "      <td>199</td>\n",
       "      <td>391</td>\n",
       "    </tr>\n",
       "    <tr>\n",
       "      <th>4</th>\n",
       "      <td>1</td>\n",
       "      <td>Кира</td>\n",
       "      <td>11</td>\n",
       "      <td>7003.499363</td>\n",
       "      <td>53</td>\n",
       "      <td>3</td>\n",
       "      <td>ultra</td>\n",
       "      <td>6</td>\n",
       "      <td>0</td>\n",
       "      <td>199</td>\n",
       "      <td>517</td>\n",
       "    </tr>\n",
       "    <tr>\n",
       "      <th>...</th>\n",
       "      <td>...</td>\n",
       "      <td>...</td>\n",
       "      <td>...</td>\n",
       "      <td>...</td>\n",
       "      <td>...</td>\n",
       "      <td>...</td>\n",
       "      <td>...</td>\n",
       "      <td>...</td>\n",
       "      <td>...</td>\n",
       "      <td>...</td>\n",
       "      <td>...</td>\n",
       "    </tr>\n",
       "    <tr>\n",
       "      <th>11326</th>\n",
       "      <td>1534</td>\n",
       "      <td>Альберт</td>\n",
       "      <td>6</td>\n",
       "      <td>3409.468534</td>\n",
       "      <td>24</td>\n",
       "      <td>2</td>\n",
       "      <td>free</td>\n",
       "      <td>8</td>\n",
       "      <td>50</td>\n",
       "      <td>0</td>\n",
       "      <td>292</td>\n",
       "    </tr>\n",
       "    <tr>\n",
       "      <th>11327</th>\n",
       "      <td>1534</td>\n",
       "      <td>Альберт</td>\n",
       "      <td>8</td>\n",
       "      <td>7622.453034</td>\n",
       "      <td>47</td>\n",
       "      <td>2</td>\n",
       "      <td>free</td>\n",
       "      <td>8</td>\n",
       "      <td>50</td>\n",
       "      <td>0</td>\n",
       "      <td>476</td>\n",
       "    </tr>\n",
       "    <tr>\n",
       "      <th>11328</th>\n",
       "      <td>1534</td>\n",
       "      <td>Альберт</td>\n",
       "      <td>9</td>\n",
       "      <td>4928.173852</td>\n",
       "      <td>23</td>\n",
       "      <td>1</td>\n",
       "      <td>free</td>\n",
       "      <td>8</td>\n",
       "      <td>50</td>\n",
       "      <td>0</td>\n",
       "      <td>234</td>\n",
       "    </tr>\n",
       "    <tr>\n",
       "      <th>11329</th>\n",
       "      <td>1534</td>\n",
       "      <td>Альберт</td>\n",
       "      <td>11</td>\n",
       "      <td>13350.015305</td>\n",
       "      <td>76</td>\n",
       "      <td>4</td>\n",
       "      <td>free</td>\n",
       "      <td>8</td>\n",
       "      <td>50</td>\n",
       "      <td>0</td>\n",
       "      <td>808</td>\n",
       "    </tr>\n",
       "    <tr>\n",
       "      <th>11330</th>\n",
       "      <td>1534</td>\n",
       "      <td>Альберт</td>\n",
       "      <td>12</td>\n",
       "      <td>2371.711192</td>\n",
       "      <td>16</td>\n",
       "      <td>1</td>\n",
       "      <td>free</td>\n",
       "      <td>8</td>\n",
       "      <td>50</td>\n",
       "      <td>0</td>\n",
       "      <td>178</td>\n",
       "    </tr>\n",
       "  </tbody>\n",
       "</table>\n",
       "<p>11331 rows × 11 columns</p>\n",
       "</div>"
      ],
      "text/plain": [
       "       user_id     name  month  total_distance  total_duration  rides_count  \\\n",
       "0            1     Кира      1     7027.511294              42            2   \n",
       "1            1     Кира      4      754.159807               6            1   \n",
       "2            1     Кира      8     6723.470560              45            2   \n",
       "3            1     Кира     10     5809.911100              32            2   \n",
       "4            1     Кира     11     7003.499363              53            3   \n",
       "...        ...      ...    ...             ...             ...          ...   \n",
       "11326     1534  Альберт      6     3409.468534              24            2   \n",
       "11327     1534  Альберт      8     7622.453034              47            2   \n",
       "11328     1534  Альберт      9     4928.173852              23            1   \n",
       "11329     1534  Альберт     11    13350.015305              76            4   \n",
       "11330     1534  Альберт     12     2371.711192              16            1   \n",
       "\n",
       "      subscription_type  minute_price  start_ride_price  subscription_fee  \\\n",
       "0                 ultra             6                 0               199   \n",
       "1                 ultra             6                 0               199   \n",
       "2                 ultra             6                 0               199   \n",
       "3                 ultra             6                 0               199   \n",
       "4                 ultra             6                 0               199   \n",
       "...                 ...           ...               ...               ...   \n",
       "11326              free             8                50                 0   \n",
       "11327              free             8                50                 0   \n",
       "11328              free             8                50                 0   \n",
       "11329              free             8                50                 0   \n",
       "11330              free             8                50                 0   \n",
       "\n",
       "       monthly_revenue  \n",
       "0                  451  \n",
       "1                  235  \n",
       "2                  469  \n",
       "3                  391  \n",
       "4                  517  \n",
       "...                ...  \n",
       "11326              292  \n",
       "11327              476  \n",
       "11328              234  \n",
       "11329              808  \n",
       "11330              178  \n",
       "\n",
       "[11331 rows x 11 columns]"
      ]
     },
     "execution_count": 26,
     "metadata": {},
     "output_type": "execute_result"
    }
   ],
   "source": [
    "df_agg['monthly_revenue'] = df_agg.apply(calculate_monthly_revenue, axis=1)#\n",
    "df_agg"
   ]
  },
  {
   "cell_type": "markdown",
   "metadata": {
    "deletable": false,
    "editable": false,
    "id": "HTbnNX3msK8I",
    "tags": [
     "start_task"
    ]
   },
   "source": [
    "### 5.5 Поиск пользователя с максимальной выручкой\n",
    "Исследуем полученные значения выручки. Найдём пользователя с максимальной суммарной выручкой за весь период наблюдения и для него выведем на экран `user_id`, имя, месяц, количество поездок и выручку за каждый из месяцев."
   ]
  },
  {
   "cell_type": "code",
   "execution_count": 27,
   "metadata": {
    "deletable": false,
    "id": "G93dZkJgqozi"
   },
   "outputs": [
    {
     "data": {
      "text/html": [
       "<div>\n",
       "<style scoped>\n",
       "    .dataframe tbody tr th:only-of-type {\n",
       "        vertical-align: middle;\n",
       "    }\n",
       "\n",
       "    .dataframe tbody tr th {\n",
       "        vertical-align: top;\n",
       "    }\n",
       "\n",
       "    .dataframe thead th {\n",
       "        text-align: right;\n",
       "    }\n",
       "</style>\n",
       "<table border=\"1\" class=\"dataframe\">\n",
       "  <thead>\n",
       "    <tr style=\"text-align: right;\">\n",
       "      <th></th>\n",
       "      <th>user_id</th>\n",
       "      <th>name</th>\n",
       "      <th>month</th>\n",
       "      <th>rides_count</th>\n",
       "      <th>monthly_revenue</th>\n",
       "    </tr>\n",
       "  </thead>\n",
       "  <tbody>\n",
       "    <tr>\n",
       "      <th>8877</th>\n",
       "      <td>1236</td>\n",
       "      <td>Александр</td>\n",
       "      <td>1</td>\n",
       "      <td>2</td>\n",
       "      <td>228</td>\n",
       "    </tr>\n",
       "    <tr>\n",
       "      <th>8878</th>\n",
       "      <td>1236</td>\n",
       "      <td>Александр</td>\n",
       "      <td>2</td>\n",
       "      <td>3</td>\n",
       "      <td>614</td>\n",
       "    </tr>\n",
       "    <tr>\n",
       "      <th>8879</th>\n",
       "      <td>1236</td>\n",
       "      <td>Александр</td>\n",
       "      <td>3</td>\n",
       "      <td>5</td>\n",
       "      <td>762</td>\n",
       "    </tr>\n",
       "    <tr>\n",
       "      <th>8880</th>\n",
       "      <td>1236</td>\n",
       "      <td>Александр</td>\n",
       "      <td>4</td>\n",
       "      <td>1</td>\n",
       "      <td>202</td>\n",
       "    </tr>\n",
       "    <tr>\n",
       "      <th>8881</th>\n",
       "      <td>1236</td>\n",
       "      <td>Александр</td>\n",
       "      <td>5</td>\n",
       "      <td>3</td>\n",
       "      <td>574</td>\n",
       "    </tr>\n",
       "    <tr>\n",
       "      <th>8882</th>\n",
       "      <td>1236</td>\n",
       "      <td>Александр</td>\n",
       "      <td>6</td>\n",
       "      <td>1</td>\n",
       "      <td>282</td>\n",
       "    </tr>\n",
       "    <tr>\n",
       "      <th>8883</th>\n",
       "      <td>1236</td>\n",
       "      <td>Александр</td>\n",
       "      <td>7</td>\n",
       "      <td>1</td>\n",
       "      <td>290</td>\n",
       "    </tr>\n",
       "    <tr>\n",
       "      <th>8884</th>\n",
       "      <td>1236</td>\n",
       "      <td>Александр</td>\n",
       "      <td>8</td>\n",
       "      <td>2</td>\n",
       "      <td>452</td>\n",
       "    </tr>\n",
       "    <tr>\n",
       "      <th>8885</th>\n",
       "      <td>1236</td>\n",
       "      <td>Александр</td>\n",
       "      <td>9</td>\n",
       "      <td>1</td>\n",
       "      <td>122</td>\n",
       "    </tr>\n",
       "    <tr>\n",
       "      <th>8886</th>\n",
       "      <td>1236</td>\n",
       "      <td>Александр</td>\n",
       "      <td>10</td>\n",
       "      <td>3</td>\n",
       "      <td>430</td>\n",
       "    </tr>\n",
       "    <tr>\n",
       "      <th>8887</th>\n",
       "      <td>1236</td>\n",
       "      <td>Александр</td>\n",
       "      <td>11</td>\n",
       "      <td>3</td>\n",
       "      <td>494</td>\n",
       "    </tr>\n",
       "    <tr>\n",
       "      <th>8888</th>\n",
       "      <td>1236</td>\n",
       "      <td>Александр</td>\n",
       "      <td>12</td>\n",
       "      <td>2</td>\n",
       "      <td>476</td>\n",
       "    </tr>\n",
       "  </tbody>\n",
       "</table>\n",
       "</div>"
      ],
      "text/plain": [
       "      user_id       name  month  rides_count  monthly_revenue\n",
       "8877     1236  Александр      1            2              228\n",
       "8878     1236  Александр      2            3              614\n",
       "8879     1236  Александр      3            5              762\n",
       "8880     1236  Александр      4            1              202\n",
       "8881     1236  Александр      5            3              574\n",
       "8882     1236  Александр      6            1              282\n",
       "8883     1236  Александр      7            1              290\n",
       "8884     1236  Александр      8            2              452\n",
       "8885     1236  Александр      9            1              122\n",
       "8886     1236  Александр     10            3              430\n",
       "8887     1236  Александр     11            3              494\n",
       "8888     1236  Александр     12            2              476"
      ]
     },
     "execution_count": 27,
     "metadata": {},
     "output_type": "execute_result"
    }
   ],
   "source": [
    "df_max_revenue = df_agg.groupby(['user_id']).agg(total_revenue = ('monthly_revenue', 'sum')).sort_values(by='total_revenue', ascending=False).head(1).reset_index()#\n",
    "# df_filtered = df_max_revenue.merge(df_agg[['user_id', 'name', 'month', 'rides_count', 'monthly_revenue']], on='user_id', how='left')\n",
    "# df_filtered[['user_id', 'name', 'month', 'rides_count', 'monthly_revenue']]\n",
    "df_max_revenue = df_max_revenue['user_id'].iloc[0]\n",
    "# df_max_revenue\n",
    "df_agg[['user_id', 'name', 'month', 'rides_count', 'monthly_revenue']][df_agg['user_id']==df_max_revenue]"
   ]
  },
  {
   "cell_type": "markdown",
   "metadata": {
    "deletable": false,
    "editable": false,
    "id": "pTYLbBZEsK8J"
   },
   "source": [
    "---\n",
    "## 6. Проверка гипотез"
   ]
  },
  {
   "cell_type": "markdown",
   "metadata": {
    "deletable": false,
    "editable": false,
    "id": "W4q8-WRDsK8J",
    "tags": [
     "start_task"
    ]
   },
   "source": [
    "### 6.1 Импорт библиотеки SciPy\n",
    "Импортируем библиотеку `scipy.stats` с сокращением `st`."
   ]
  },
  {
   "cell_type": "code",
   "execution_count": 28,
   "metadata": {
    "deletable": false,
    "id": "zyNhaTb8q5JY"
   },
   "outputs": [],
   "source": [
    "import scipy.stats as st"
   ]
  },
  {
   "cell_type": "markdown",
   "metadata": {
    "deletable": false,
    "editable": false,
    "id": "kiNRoB5zsK8K",
    "tags": [
     "start_task"
    ]
   },
   "source": [
    "### 6.2 Вспомогательная функция для интерпретации результатов\n",
    "Напишем вспомогательную функцию `print_stattest_results(p_value, alpha)`, которая будет интерпретировать результаты статистического теста на основе p-value и заданного уровня значимости (α-уровня). Функция должна решать, следует ли принять альтернативную гипотезу или сохранить нулевую гипотезу.\n",
    "\n",
    "У функции два параметра:\n",
    "- `p_value` (тип `float`) — значение p-value, полученное в результате выполнения статистического теста.\n",
    "- `alpha` (тип `float`, необязательный, по умолчанию `alpha = 0.05`) — уровень значимости статистического теста, который используется как порог для принятия решения об отклонении нулевой гипотезы.\n",
    "\n",
    "Если принимаем альтернативную гипотезу, выводится сообщение:\n",
    "`'Полученное значение p_value=<Введённое значение p_value> меньше критического уровня alpha=0.05. Принимаем альтернативную гипотезу.'`\n",
    "\n",
    "Если мы не можем опровергнуть нулевую гипотезу, выводим сообщение: `'Полученное значение p_value=<Введённое значение p_value> больше критического уровня alpha=0.05. Опровергнуть нулевую гипотезу нельзя.'`\n"
   ]
  },
  {
   "cell_type": "code",
   "execution_count": null,
   "metadata": {
    "deletable": false,
    "id": "xRuwp-yeQwTD",
    "scrolled": true
   },
   "outputs": [
    {
     "name": "stdout",
     "output_type": "stream",
     "text": [
      "Полученное значение p_value=0.0001 меньше критического уровня alpha=0.05. Принимаем альтернативную гипотезу.\n",
      "Полученное значение p_value=0.1 больше критического уровня alpha=0.05. Опровергнуть нулевую гипотезу нельзя.\n"
     ]
    }
   ],
   "source": [
    "def print_stattest_results(p_value:float, alpha:float = 0.05):\n",
    "    # Напишите код для функции здесь\n",
    "\n",
    "    if p_value < alpha:\n",
    "        print(f'Полученное значение p_value={p_value} меньше критического уровня alpha={alpha}. Принимаем альтернативную гипотезу.')\n",
    "    else:\n",
    "        print(f'Полученное значение p_value={p_value} больше критического уровня alpha={alpha}. Опровергнуть нулевую гипотезу нельзя.')\n",
    "        \n",
    "# Вызовим функцию для `p_value = 0.0001` и `p_value = 0.1`\n",
    "print_stattest_results(p_value=0.0001)\n",
    "print_stattest_results(p_value=0.1)"
   ]
  },
  {
   "cell_type": "markdown",
   "metadata": {
    "deletable": false,
    "editable": false,
    "id": "6sLXAPjjsK8K",
    "tags": [
     "start_task"
    ]
   },
   "source": [
    "### 6.3 Длительность для пользователей с подпиской и без\n",
    "\n",
    "Важно понять, тратят ли пользователи с подпиской больше времени на поездки? Сформулируем нулевую и альтернативную гипотезы:\n",
    "- Нулевая гипотеза (Н0): Среднее время поездки у пользователей с подпиской и без подписки одинаковое.\n",
    "- Альтернативная гипотеза (Н1): Среднее время поездки у пользователей с подпиской больше, чем у пользователей без подписки.\n"
   ]
  },
  {
   "cell_type": "code",
   "execution_count": null,
   "metadata": {
    "deletable": false,
    "id": "DJ1nCMZQRfFX"
   },
   "outputs": [
    {
     "name": "stdout",
     "output_type": "stream",
     "text": [
      "Полученное значение p_value=3.1600689435611813e-35 меньше критического уровня alpha=0.05. Принимаем альтернативную гипотезу.\n",
      "Средняя длительность поездки тарифа Ultra 18.55\n",
      "Средняя длительность поездки тарифа Free 17.39\n"
     ]
    }
   ],
   "source": [
    "# Используем неагрегированные данные\n",
    "ultra_duration = df_ultra['duration']\n",
    "free_duration = df_free['duration']\n",
    "\n",
    "# Рассчитаем значение `p_value` для выбранной гипотезы, используя функции модуля `scipy.stats` и односторонний t-тест.\n",
    "results = st.ttest_ind(ultra_duration, free_duration, alternative='greater' ) \n",
    "p_value =  results.pvalue\n",
    "\n",
    "# Передадим функции `print_stattest_results` значение `p_value`\n",
    "print_stattest_results(p_value)\n",
    "\n",
    "# Рассчитаем среднюю длительность поездки для тарифов `ultra` и `free`\n",
    "ultra_mean_duration = round(df_ultra['duration'].mean(), 2)\n",
    "free_mean_duration =round(df_free['duration'].mean(), 2)\n",
    "\n",
    "print(f'Средняя длительность поездки тарифа Ultra {ultra_mean_duration}')\n",
    "print(f'Средняя длительность поездки тарифа Free {free_mean_duration}')"
   ]
  },
  {
   "cell_type": "markdown",
   "metadata": {
    "deletable": false,
    "editable": false,
    "id": "HLlf6BYfsK8L",
    "tags": [
     "start_task"
    ]
   },
   "source": [
    "### 6.4 Длительность поездки: больше или меньше критического значения\n",
    "\n",
    "Проанализируем ещё одну важную продуктовую гипотезу. Расстояние одной поездки в 3130 метров — оптимальное с точки зрения износа самоката. Можно ли сказать, что расстояние, которое проезжают пользователи с подпиской за одну поездку, меньше 3130 метров?\n",
    "\n",
    "Сформулируем нулевую и альтернативную гипотезы:\n",
    "\n",
    "- Нулевая гипотеза (Н0): Средняя дистанция поездки у пользователей с подпиской равна 3130 м.\n",
    "\n",
    "- Альтернативная гипотеза (Н1): Средняя дистанция поездки у пользователей с подпиской больше 3130 м.\n"
   ]
  },
  {
   "cell_type": "code",
   "execution_count": null,
   "metadata": {
    "deletable": false,
    "id": "sXgKlO-bSJI-"
   },
   "outputs": [
    {
     "name": "stdout",
     "output_type": "stream",
     "text": [
      "Полученное значение p_value=0.9195368847849785 больше критического уровня alpha=0.05. Опровергнуть нулевую гипотезу нельзя.\n"
     ]
    }
   ],
   "source": [
    "null_hypothesis = 3130\n",
    "\n",
    "# Используем неагрегированные данные о каждой поездке пользователей с подпиской\n",
    "ultra_distance = df_ultra['distance']\n",
    "\n",
    "# Рассчитаем значение `p_value` для выбранной гипотезы, используя функции модуля `scipy.stats` и односторонний t-тест\n",
    "results = st.ttest_1samp (ultra_distance , null_hypothesis, alternative = 'greater')\n",
    "p_value = results.pvalue\n",
    "\n",
    "# Передадим функции `print_stattest_results` значение `p_value`\n",
    "print_stattest_results(p_value)"
   ]
  },
  {
   "cell_type": "markdown",
   "metadata": {
    "deletable": false,
    "editable": false,
    "id": "5TmnT74FsK8L",
    "tags": [
     "start_task"
    ]
   },
   "source": [
    "### 6.5 Прибыль от пользователей с подпиской и без\n",
    "Проверим гипотезу о том, что выручка от пользователей с подпиской выше, чем выручка от пользователей без подписки.\n",
    "\n",
    "Сформулируем нулевую и альтернативную гипотезы:\n",
    "\n",
    "- Нулевая гипотеза (Н0): Средняя месячная выручка у пользователей с подпиской и без подписки одинаковая.\n",
    "- Альтернативная гипотеза (Н1): Средняя месячная выручка у пользователей с подпиской выше, чем у пользователей без подписки.\n"
   ]
  },
  {
   "cell_type": "code",
   "execution_count": null,
   "metadata": {
    "deletable": false,
    "id": "Gvfo6GlvSrHl"
   },
   "outputs": [
    {
     "name": "stdout",
     "output_type": "stream",
     "text": [
      "Полученное значение p_value=1.7274069878387966e-37 меньше критического уровня alpha=0.05. Принимаем альтернативную гипотезу.\n",
      "Средняя выручка подписчиков Ultra 358.5896757114494 руб\n",
      "Средняя выручка подписчиков Free 321.75345689908795 руб\n"
     ]
    }
   ],
   "source": [
    "# Используем исходные данные о месячной выручке от каждого пользователя\n",
    "revenue_ultra = df_agg['monthly_revenue'][ df_agg['subscription_type'] == 'ultra']\n",
    "revenue_free = df_agg['monthly_revenue'][ df_agg['subscription_type'] == 'free']\n",
    "\n",
    "# Рассчитаем значение `p_value` для выбранной гипотезы, используя функции модуля `scipy.stats` и односторонний t-тест.\n",
    "results = st.ttest_ind(revenue_ultra, revenue_free, alternative = 'greater')\n",
    "p_value = results.pvalue\n",
    "\n",
    "# Передадим функции `print_stattest_results` значение `p_value`\n",
    "print_stattest_results(p_value)\n",
    "\n",
    "# Рассчитаем среднюю выручку для тарифов `ultra` и `free`\n",
    "mean_revenue_ultra = round(revenue_ultra.mean())\n",
    "mean_revenue_free = round(revenue_free.mean())\n",
    "\n",
    "print(f'Средняя выручка подписчиков Ultra {mean_revenue_ultra} руб')\n",
    "print(f'Средняя выручка подписчиков Free {mean_revenue_free} руб')"
   ]
  },
  {
   "cell_type": "markdown",
   "metadata": {
    "deletable": false,
    "editable": false,
    "id": "C3EoEcibyzeu"
   },
   "source": [
    "---\n",
    "## 7. Распределения"
   ]
  },
  {
   "cell_type": "markdown",
   "metadata": {
    "deletable": false,
    "editable": false,
    "id": "ibnzyqiCz0i2"
   },
   "source": [
    "В компании возникла идея предлагать дополнительную скидку подписчикам, совершающим длительные поездки продолжительностью более 30 минут. Необходимо оценить долю таких поездок.\n",
    "\n",
    "Так как нас интересуют возможные значения для всей генеральной совокупности, то  учитывая, что у нас нет доступа ко всем данным о поездках, смоделируем длительность поездки с помощью нормального распределения, используя в качестве параметров выборочное среднее и стандартное отклонение из доступных данных о поездках."
   ]
  },
  {
   "cell_type": "markdown",
   "metadata": {
    "deletable": false,
    "editable": false,
    "id": "C2C1nTJx5Hf_",
    "tags": [
     "start_task"
    ]
   },
   "source": [
    "### 7.1 Расчёт выборочного среднего и стандартного отклонения\n",
    "\n"
   ]
  },
  {
   "cell_type": "code",
   "execution_count": null,
   "metadata": {
    "deletable": false,
    "id": "LNVfLHzUTkAJ"
   },
   "outputs": [
    {
     "name": "stdout",
     "output_type": "stream",
     "text": [
      "Средняя длительность поездки 18.5, стандартное отклонение 6.\n"
     ]
    }
   ],
   "source": [
    "# Расчитаем среднюю длительность поездки\n",
    "mu = df_ultra['duration'].mean()\n",
    "\n",
    "# Вычисляем стандартное отклонение длительности `duration` \n",
    "sigma = df_ultra['duration'].std()\n",
    "\n",
    "# Задаём целевое время. Эта переменная будет использоваться для последующего вычисления вероятности.\n",
    "target_time = 30\n",
    "\n",
    "# Делаем вывод\n",
    "print(f'Средняя длительность поездки {round(mu, 1)}, стандартное отклонение {round(sigma)}.')"
   ]
  },
  {
   "cell_type": "markdown",
   "metadata": {
    "deletable": false,
    "editable": false,
    "id": "M65RN8Ic6ozL",
    "tags": [
     "start_task"
    ]
   },
   "source": [
    "### 7.2 Вычисление значения функции распределения в точке (CDF)\n",
    "Если вычислить значение функции распределения в точке, это позволит узнать вероятность того, что случайная величина примет значение меньше заданного либо равное ему. Соответственно, для расчёта вероятности поездки более 30 минут, потребуется использовать CDF.\n"
   ]
  },
  {
   "cell_type": "code",
   "execution_count": null,
   "metadata": {
    "deletable": false,
    "id": "l3kJCKfvUQMP"
   },
   "outputs": [
    {
     "name": "stdout",
     "output_type": "stream",
     "text": [
      "Вероятность поездки более 30 минут 0.02\n"
     ]
    }
   ],
   "source": [
    "# Используем функцию `norm()` из библиотеки SciPy для создания нормального распределения\n",
    "duration_norm_dist  = st.norm(mu, sigma)\n",
    "\n",
    "# Вычисляем вероятность того, что случайная величина будет меньше указанного значения или равна ему\n",
    "prob = round(1 - duration_norm_dist.cdf(target_time), 3) # Используем CDF для нахождения накопленной вероятности\n",
    "\n",
    "print(f'Вероятность поездки более 30 минут {prob}')"
   ]
  },
  {
   "cell_type": "markdown",
   "metadata": {
    "deletable": false,
    "editable": false,
    "id": "G6r8KA03IrNe",
    "tags": [
     "start_task"
    ]
   },
   "source": [
    "### 7.3 Вероятность для интервала (CDF)\n",
    "Коллеги посчитали, что процент пользователей, для которых будет показана скидка, недостаточно большой и вряд ли поможет в увеличении лояльности клиентов. Дополнительно проверим, какой процент пользователей совершает поездки в интервале от 20 до 30 минут. Возможно, именно для них стоит провести промоакцию?\n"
   ]
  },
  {
   "cell_type": "code",
   "execution_count": null,
   "metadata": {
    "deletable": false,
    "id": "aujB5fDhU15e"
   },
   "outputs": [
    {
     "name": "stdout",
     "output_type": "stream",
     "text": [
      "Вероятность того, что пользователь совершит поездку длительностью от 20 до 30 минут: 0.377\n"
     ]
    }
   ],
   "source": [
    "# Определяем границы временного интервала. Они равны 20 и 30 минут.\n",
    "low = 20\n",
    "high = 30\n",
    "\n",
    "# Вычисляем вероятность попадания в интервал, используя кумулятивную функцию распределения (CDF) для объекта `duration_norm_dist`, \n",
    "# чтобы вычислить вероятность достижения верхней границы (`high`) и нижней границы (`low`).\n",
    "prob_interval = round(duration_norm_dist.cdf(high) - duration_norm_dist.cdf(low), 3)\n",
    "\n",
    "# Выводим результат\n",
    "print(f'Вероятность того, что пользователь совершит поездку длительностью от {low} до {high} минут: {prob_interval}')"
   ]
  },
  {
   "cell_type": "markdown",
   "metadata": {
    "deletable": false,
    "editable": false,
    "id": "HDjUsAV8VB_t",
    "tags": [
     "start_task"
    ]
   },
   "source": [
    "### 7.4 Определение критической дистанции поездок (PPF)\n",
    "Длительные поездки могут негативно сказываться на сроке службы самоката. В связи с этим принято решение установить критическую дистанцию, превышение которой будет сопровождаться дополнительной платой. Для этого необходимо определить расстояние, которое превышается только в 10% поездок (90-й процентиль).\n",
    "\n",
    "Задача — смоделировать распределение длительности поездок, предполагая, что оно подчиняется нормальному закону, и рассчитать критическую дистанцию, ниже которой находится 90% всех поездок.\n"
   ]
  },
  {
   "cell_type": "code",
   "execution_count": null,
   "metadata": {
    "deletable": false,
    "id": "uviLDRSKVkho"
   },
   "outputs": [
    {
     "name": "stdout",
     "output_type": "stream",
     "text": [
      "90.0 % поездок имеют дистанцию ниже критического значения 4501.94 М.\n"
     ]
    }
   ],
   "source": [
    "# Вычисляем среднее значение дистанции поездки для всех пользователей\n",
    "mu = df['distance'].mean()\n",
    "\n",
    "# Вычисляем стандартное отклонение дистанции поездки\n",
    "sigma = df['distance'].std()\n",
    "\n",
    "# Вероятность, для которой хотим найти значение (90% случаев)\n",
    "target_prob = 0.90\n",
    "\n",
    "# Создаём объект нормального распределения\n",
    "distance_norm = st.norm(mu, sigma)\n",
    "\n",
    "# Рассчитываем критическую дистанцию для заданного процентиля поездок\n",
    "critical_distance = distance_norm.ppf(target_prob)\n",
    "\n",
    "print(f'{100 * target_prob} % поездок имеют дистанцию ниже критического значения {critical_distance:.2f} М.')"
   ]
  }
 ],
 "metadata": {
  "ExecuteTimeLog": [
   {
    "duration": 447,
    "start_time": "2025-06-20T04:16:03.234Z"
   },
   {
    "duration": 72,
    "start_time": "2025-06-20T04:16:07.580Z"
   },
   {
    "duration": 266,
    "start_time": "2025-06-20T04:17:19.502Z"
   },
   {
    "duration": 15,
    "start_time": "2025-06-20T04:18:19.619Z"
   },
   {
    "duration": 7,
    "start_time": "2025-06-20T04:19:22.709Z"
   },
   {
    "duration": 13,
    "start_time": "2025-06-20T04:20:56.395Z"
   },
   {
    "duration": 16,
    "start_time": "2025-06-20T04:21:08.896Z"
   },
   {
    "duration": 4,
    "start_time": "2025-06-20T04:22:40.489Z"
   },
   {
    "duration": 4,
    "start_time": "2025-06-20T05:02:22.943Z"
   },
   {
    "duration": 4,
    "start_time": "2025-06-20T05:04:58.913Z"
   },
   {
    "duration": 72,
    "start_time": "2025-06-20T05:06:28.417Z"
   },
   {
    "duration": 19,
    "start_time": "2025-06-20T05:06:48.870Z"
   },
   {
    "duration": 26,
    "start_time": "2025-06-20T05:07:32.347Z"
   },
   {
    "duration": 19,
    "start_time": "2025-06-20T05:07:46.675Z"
   },
   {
    "duration": 27,
    "start_time": "2025-06-20T05:18:16.672Z"
   },
   {
    "duration": 35,
    "start_time": "2025-06-20T05:19:13.099Z"
   },
   {
    "duration": 25,
    "start_time": "2025-06-20T05:19:28.697Z"
   },
   {
    "duration": 24,
    "start_time": "2025-06-20T05:19:59.425Z"
   },
   {
    "duration": 4,
    "start_time": "2025-06-20T05:20:51.970Z"
   },
   {
    "duration": 4,
    "start_time": "2025-06-20T05:21:38.355Z"
   },
   {
    "duration": 70,
    "start_time": "2025-06-20T05:21:53.899Z"
   },
   {
    "duration": 74,
    "start_time": "2025-06-20T05:22:03.860Z"
   },
   {
    "duration": 4,
    "start_time": "2025-06-20T05:22:14.211Z"
   },
   {
    "duration": 4,
    "start_time": "2025-06-20T05:22:28.779Z"
   },
   {
    "duration": 3,
    "start_time": "2025-06-20T05:23:35.555Z"
   },
   {
    "duration": 76,
    "start_time": "2025-06-20T05:23:58.194Z"
   },
   {
    "duration": 5,
    "start_time": "2025-06-20T05:24:06.395Z"
   },
   {
    "duration": 4,
    "start_time": "2025-06-20T05:25:08.598Z"
   },
   {
    "duration": 76,
    "start_time": "2025-06-20T05:25:30.709Z"
   },
   {
    "duration": 4,
    "start_time": "2025-06-20T05:25:48.914Z"
   },
   {
    "duration": 3,
    "start_time": "2025-06-20T05:25:57.237Z"
   },
   {
    "duration": 4,
    "start_time": "2025-06-20T05:26:33.085Z"
   },
   {
    "duration": 4,
    "start_time": "2025-06-20T05:27:40.007Z"
   },
   {
    "duration": 3,
    "start_time": "2025-06-20T05:27:50.600Z"
   },
   {
    "duration": 8,
    "start_time": "2025-06-20T05:34:20.823Z"
   },
   {
    "duration": 78,
    "start_time": "2025-06-20T05:35:25.986Z"
   },
   {
    "duration": 82,
    "start_time": "2025-06-20T05:35:38.058Z"
   },
   {
    "duration": 63,
    "start_time": "2025-06-20T05:35:51.295Z"
   },
   {
    "duration": 10,
    "start_time": "2025-06-20T05:36:16.685Z"
   },
   {
    "duration": 4,
    "start_time": "2025-06-20T05:36:57.217Z"
   },
   {
    "duration": 9,
    "start_time": "2025-06-20T05:38:59.124Z"
   },
   {
    "duration": 8,
    "start_time": "2025-06-20T05:39:17.663Z"
   },
   {
    "duration": 3,
    "start_time": "2025-06-20T05:39:46.188Z"
   },
   {
    "duration": 5,
    "start_time": "2025-06-20T05:40:27.664Z"
   },
   {
    "duration": 5,
    "start_time": "2025-06-20T05:41:35.777Z"
   },
   {
    "duration": 4,
    "start_time": "2025-06-20T05:42:03.756Z"
   },
   {
    "duration": 4,
    "start_time": "2025-06-20T05:42:16.541Z"
   },
   {
    "duration": 4,
    "start_time": "2025-06-20T05:43:51.341Z"
   },
   {
    "duration": 12,
    "start_time": "2025-06-20T05:45:57.320Z"
   },
   {
    "duration": 11,
    "start_time": "2025-06-20T05:46:32.631Z"
   },
   {
    "duration": 7,
    "start_time": "2025-06-20T05:49:48.234Z"
   },
   {
    "duration": 6,
    "start_time": "2025-06-20T05:50:17.258Z"
   },
   {
    "duration": 49,
    "start_time": "2025-06-20T05:52:15.622Z"
   },
   {
    "duration": 5,
    "start_time": "2025-06-20T06:00:45.043Z"
   },
   {
    "duration": 4,
    "start_time": "2025-06-20T06:01:10.667Z"
   },
   {
    "duration": 15,
    "start_time": "2025-06-20T06:04:31.944Z"
   },
   {
    "duration": 11,
    "start_time": "2025-06-20T06:05:07.071Z"
   },
   {
    "duration": 62,
    "start_time": "2025-06-20T15:13:49.576Z"
   },
   {
    "duration": 465,
    "start_time": "2025-06-20T15:14:11.924Z"
   },
   {
    "duration": 161,
    "start_time": "2025-06-20T15:14:12.391Z"
   },
   {
    "duration": 28,
    "start_time": "2025-06-20T15:14:12.553Z"
   },
   {
    "duration": 4,
    "start_time": "2025-06-20T15:14:12.582Z"
   },
   {
    "duration": 12,
    "start_time": "2025-06-20T15:14:12.588Z"
   },
   {
    "duration": 22,
    "start_time": "2025-06-20T15:14:12.602Z"
   },
   {
    "duration": 25,
    "start_time": "2025-06-20T15:14:12.625Z"
   },
   {
    "duration": 66,
    "start_time": "2025-06-20T15:14:12.652Z"
   },
   {
    "duration": 0,
    "start_time": "2025-06-20T15:14:12.739Z"
   },
   {
    "duration": 0,
    "start_time": "2025-06-20T15:14:12.741Z"
   },
   {
    "duration": 0,
    "start_time": "2025-06-20T15:14:12.742Z"
   },
   {
    "duration": 0,
    "start_time": "2025-06-20T15:14:12.743Z"
   },
   {
    "duration": 0,
    "start_time": "2025-06-20T15:14:12.744Z"
   },
   {
    "duration": 0,
    "start_time": "2025-06-20T15:14:12.747Z"
   },
   {
    "duration": 0,
    "start_time": "2025-06-20T15:14:12.748Z"
   },
   {
    "duration": 0,
    "start_time": "2025-06-20T15:14:12.749Z"
   },
   {
    "duration": 0,
    "start_time": "2025-06-20T15:14:12.750Z"
   },
   {
    "duration": 0,
    "start_time": "2025-06-20T15:14:12.751Z"
   },
   {
    "duration": 0,
    "start_time": "2025-06-20T15:14:12.752Z"
   },
   {
    "duration": 0,
    "start_time": "2025-06-20T15:14:12.753Z"
   },
   {
    "duration": 0,
    "start_time": "2025-06-20T15:14:12.754Z"
   },
   {
    "duration": 0,
    "start_time": "2025-06-20T15:14:12.755Z"
   },
   {
    "duration": 80,
    "start_time": "2025-06-20T15:15:10.471Z"
   },
   {
    "duration": 16,
    "start_time": "2025-06-20T15:15:15.474Z"
   },
   {
    "duration": 14,
    "start_time": "2025-06-20T15:15:18.928Z"
   },
   {
    "duration": 16,
    "start_time": "2025-06-20T15:15:22.000Z"
   },
   {
    "duration": 15,
    "start_time": "2025-06-20T15:17:38.949Z"
   },
   {
    "duration": 13,
    "start_time": "2025-06-20T15:18:08.856Z"
   },
   {
    "duration": 14,
    "start_time": "2025-06-20T15:19:12.518Z"
   },
   {
    "duration": 7,
    "start_time": "2025-06-20T15:20:14.977Z"
   },
   {
    "duration": 7,
    "start_time": "2025-06-20T15:20:25.226Z"
   },
   {
    "duration": 8,
    "start_time": "2025-06-20T15:22:35.436Z"
   },
   {
    "duration": 22,
    "start_time": "2025-06-20T16:03:45.513Z"
   },
   {
    "duration": 11,
    "start_time": "2025-06-20T16:05:39.871Z"
   },
   {
    "duration": 10,
    "start_time": "2025-06-20T16:10:26.401Z"
   },
   {
    "duration": 13,
    "start_time": "2025-06-20T16:11:05.794Z"
   },
   {
    "duration": 19,
    "start_time": "2025-06-20T16:12:28.130Z"
   },
   {
    "duration": 11,
    "start_time": "2025-06-20T16:12:32.474Z"
   },
   {
    "duration": 15,
    "start_time": "2025-06-20T16:13:11.589Z"
   },
   {
    "duration": 7,
    "start_time": "2025-06-20T16:13:51.668Z"
   },
   {
    "duration": 6,
    "start_time": "2025-06-20T16:14:46.700Z"
   },
   {
    "duration": 19,
    "start_time": "2025-06-20T17:15:18.964Z"
   },
   {
    "duration": 9,
    "start_time": "2025-06-20T17:15:32.342Z"
   },
   {
    "duration": 7,
    "start_time": "2025-06-20T17:16:21.681Z"
   },
   {
    "duration": 9,
    "start_time": "2025-06-20T17:21:54.141Z"
   },
   {
    "duration": 10,
    "start_time": "2025-06-20T17:22:30.407Z"
   },
   {
    "duration": 13,
    "start_time": "2025-06-20T17:24:43.397Z"
   },
   {
    "duration": 13,
    "start_time": "2025-06-20T17:25:17.062Z"
   },
   {
    "duration": 10,
    "start_time": "2025-06-20T17:26:29.496Z"
   },
   {
    "duration": 14,
    "start_time": "2025-06-20T17:27:10.591Z"
   },
   {
    "duration": 7,
    "start_time": "2025-06-20T17:28:19.889Z"
   },
   {
    "duration": 6,
    "start_time": "2025-06-20T17:28:25.896Z"
   },
   {
    "duration": 8,
    "start_time": "2025-06-20T17:28:34.570Z"
   },
   {
    "duration": 14,
    "start_time": "2025-06-20T17:28:52.580Z"
   },
   {
    "duration": 9,
    "start_time": "2025-06-20T17:29:18.057Z"
   },
   {
    "duration": 437,
    "start_time": "2025-06-21T06:44:34.121Z"
   },
   {
    "duration": 137,
    "start_time": "2025-06-21T06:44:34.560Z"
   },
   {
    "duration": 37,
    "start_time": "2025-06-21T06:44:34.698Z"
   },
   {
    "duration": 125,
    "start_time": "2025-06-21T06:44:34.737Z"
   },
   {
    "duration": 33,
    "start_time": "2025-06-21T06:44:34.864Z"
   },
   {
    "duration": 61,
    "start_time": "2025-06-21T06:44:34.899Z"
   },
   {
    "duration": 58,
    "start_time": "2025-06-21T06:44:34.961Z"
   },
   {
    "duration": 13,
    "start_time": "2025-06-21T06:44:35.020Z"
   },
   {
    "duration": 26,
    "start_time": "2025-06-21T06:44:35.034Z"
   },
   {
    "duration": 73,
    "start_time": "2025-06-21T06:44:35.061Z"
   },
   {
    "duration": 0,
    "start_time": "2025-06-21T06:44:35.138Z"
   },
   {
    "duration": 0,
    "start_time": "2025-06-21T06:44:35.140Z"
   },
   {
    "duration": 0,
    "start_time": "2025-06-21T06:44:35.141Z"
   },
   {
    "duration": 0,
    "start_time": "2025-06-21T06:44:35.141Z"
   },
   {
    "duration": 0,
    "start_time": "2025-06-21T06:44:35.142Z"
   },
   {
    "duration": 0,
    "start_time": "2025-06-21T06:44:35.143Z"
   },
   {
    "duration": 0,
    "start_time": "2025-06-21T06:44:35.144Z"
   },
   {
    "duration": 0,
    "start_time": "2025-06-21T06:44:35.146Z"
   },
   {
    "duration": 0,
    "start_time": "2025-06-21T06:44:35.147Z"
   },
   {
    "duration": 0,
    "start_time": "2025-06-21T06:44:35.148Z"
   },
   {
    "duration": 0,
    "start_time": "2025-06-21T06:44:35.149Z"
   },
   {
    "duration": 0,
    "start_time": "2025-06-21T06:44:35.150Z"
   },
   {
    "duration": 0,
    "start_time": "2025-06-21T06:44:35.150Z"
   },
   {
    "duration": 13,
    "start_time": "2025-06-21T06:47:53.112Z"
   },
   {
    "duration": 9,
    "start_time": "2025-06-21T06:48:33.964Z"
   },
   {
    "duration": 10,
    "start_time": "2025-06-21T06:50:13.892Z"
   },
   {
    "duration": 6,
    "start_time": "2025-06-21T06:51:32.091Z"
   },
   {
    "duration": 6,
    "start_time": "2025-06-21T06:51:47.883Z"
   },
   {
    "duration": 6,
    "start_time": "2025-06-21T06:52:00.284Z"
   },
   {
    "duration": 77,
    "start_time": "2025-06-21T06:53:10.068Z"
   },
   {
    "duration": 6,
    "start_time": "2025-06-21T06:55:03.982Z"
   },
   {
    "duration": 16,
    "start_time": "2025-06-21T06:56:35.011Z"
   },
   {
    "duration": 7,
    "start_time": "2025-06-21T06:57:53.124Z"
   },
   {
    "duration": 7,
    "start_time": "2025-06-21T06:58:38.126Z"
   },
   {
    "duration": 475,
    "start_time": "2025-06-21T07:42:18.585Z"
   },
   {
    "duration": 8,
    "start_time": "2025-06-21T07:47:36.742Z"
   },
   {
    "duration": 21,
    "start_time": "2025-06-21T07:47:46.100Z"
   },
   {
    "duration": 7,
    "start_time": "2025-06-21T07:48:10.287Z"
   },
   {
    "duration": 7,
    "start_time": "2025-06-21T07:49:39.071Z"
   },
   {
    "duration": 11,
    "start_time": "2025-06-21T07:50:10.869Z"
   },
   {
    "duration": 15,
    "start_time": "2025-06-21T07:50:40.394Z"
   },
   {
    "duration": 11,
    "start_time": "2025-06-21T07:50:49.471Z"
   },
   {
    "duration": 8,
    "start_time": "2025-06-21T07:54:32.313Z"
   },
   {
    "duration": 9,
    "start_time": "2025-06-21T07:55:12.266Z"
   },
   {
    "duration": 411,
    "start_time": "2025-06-21T12:41:41.094Z"
   },
   {
    "duration": 148,
    "start_time": "2025-06-21T12:41:41.507Z"
   },
   {
    "duration": 23,
    "start_time": "2025-06-21T12:41:41.657Z"
   },
   {
    "duration": 28,
    "start_time": "2025-06-21T12:41:41.681Z"
   },
   {
    "duration": 4,
    "start_time": "2025-06-21T12:41:41.713Z"
   },
   {
    "duration": 8,
    "start_time": "2025-06-21T12:41:41.718Z"
   },
   {
    "duration": 10,
    "start_time": "2025-06-21T12:41:41.727Z"
   },
   {
    "duration": 6,
    "start_time": "2025-06-21T12:41:41.738Z"
   },
   {
    "duration": 7,
    "start_time": "2025-06-21T12:41:41.745Z"
   },
   {
    "duration": 7,
    "start_time": "2025-06-21T12:41:41.753Z"
   },
   {
    "duration": 442,
    "start_time": "2025-06-21T12:41:41.762Z"
   },
   {
    "duration": 16,
    "start_time": "2025-06-21T12:41:42.211Z"
   },
   {
    "duration": 81,
    "start_time": "2025-06-21T12:41:42.229Z"
   },
   {
    "duration": 83,
    "start_time": "2025-06-21T12:41:42.314Z"
   },
   {
    "duration": 0,
    "start_time": "2025-06-21T12:41:42.399Z"
   },
   {
    "duration": 0,
    "start_time": "2025-06-21T12:41:42.400Z"
   },
   {
    "duration": 0,
    "start_time": "2025-06-21T12:41:42.401Z"
   },
   {
    "duration": 0,
    "start_time": "2025-06-21T12:41:42.403Z"
   },
   {
    "duration": 0,
    "start_time": "2025-06-21T12:41:42.404Z"
   },
   {
    "duration": 0,
    "start_time": "2025-06-21T12:41:42.405Z"
   },
   {
    "duration": 0,
    "start_time": "2025-06-21T12:41:42.406Z"
   },
   {
    "duration": 0,
    "start_time": "2025-06-21T12:41:42.408Z"
   },
   {
    "duration": 0,
    "start_time": "2025-06-21T12:41:42.409Z"
   },
   {
    "duration": 0,
    "start_time": "2025-06-21T12:41:42.410Z"
   },
   {
    "duration": 0,
    "start_time": "2025-06-21T12:41:42.412Z"
   },
   {
    "duration": 0,
    "start_time": "2025-06-21T12:41:42.413Z"
   },
   {
    "duration": 0,
    "start_time": "2025-06-21T12:41:42.414Z"
   },
   {
    "duration": 80,
    "start_time": "2025-06-21T12:48:50.257Z"
   },
   {
    "duration": 86,
    "start_time": "2025-06-21T12:50:29.978Z"
   },
   {
    "duration": 9,
    "start_time": "2025-06-21T12:50:47.736Z"
   },
   {
    "duration": 8,
    "start_time": "2025-06-21T12:51:22.243Z"
   },
   {
    "duration": 8,
    "start_time": "2025-06-21T12:51:53.716Z"
   },
   {
    "duration": 6,
    "start_time": "2025-06-21T12:53:27.587Z"
   },
   {
    "duration": 94,
    "start_time": "2025-06-21T12:53:40.263Z"
   },
   {
    "duration": 422,
    "start_time": "2025-06-21T14:20:33.405Z"
   },
   {
    "duration": 122,
    "start_time": "2025-06-21T14:20:33.829Z"
   },
   {
    "duration": 24,
    "start_time": "2025-06-21T14:20:33.952Z"
   },
   {
    "duration": 40,
    "start_time": "2025-06-21T14:20:33.978Z"
   },
   {
    "duration": 28,
    "start_time": "2025-06-21T14:20:34.020Z"
   },
   {
    "duration": 20,
    "start_time": "2025-06-21T14:20:34.049Z"
   },
   {
    "duration": 81,
    "start_time": "2025-06-21T14:20:34.071Z"
   },
   {
    "duration": 120,
    "start_time": "2025-06-21T14:20:34.154Z"
   },
   {
    "duration": 7,
    "start_time": "2025-06-21T14:20:34.276Z"
   },
   {
    "duration": 21,
    "start_time": "2025-06-21T14:20:34.284Z"
   },
   {
    "duration": 280,
    "start_time": "2025-06-21T14:20:34.307Z"
   },
   {
    "duration": 27,
    "start_time": "2025-06-21T14:20:34.589Z"
   },
   {
    "duration": 102,
    "start_time": "2025-06-21T14:20:34.618Z"
   },
   {
    "duration": 190,
    "start_time": "2025-06-21T14:20:34.725Z"
   },
   {
    "duration": 71,
    "start_time": "2025-06-21T14:20:34.917Z"
   },
   {
    "duration": 0,
    "start_time": "2025-06-21T14:20:34.991Z"
   },
   {
    "duration": 0,
    "start_time": "2025-06-21T14:20:34.992Z"
   },
   {
    "duration": 0,
    "start_time": "2025-06-21T14:20:34.993Z"
   },
   {
    "duration": 0,
    "start_time": "2025-06-21T14:20:34.994Z"
   },
   {
    "duration": 0,
    "start_time": "2025-06-21T14:20:34.996Z"
   },
   {
    "duration": 0,
    "start_time": "2025-06-21T14:20:34.997Z"
   },
   {
    "duration": 0,
    "start_time": "2025-06-21T14:20:35.000Z"
   },
   {
    "duration": 0,
    "start_time": "2025-06-21T14:20:35.001Z"
   },
   {
    "duration": 0,
    "start_time": "2025-06-21T14:20:35.002Z"
   },
   {
    "duration": 0,
    "start_time": "2025-06-21T14:20:35.002Z"
   },
   {
    "duration": 0,
    "start_time": "2025-06-21T14:20:35.003Z"
   },
   {
    "duration": 0,
    "start_time": "2025-06-21T14:20:35.004Z"
   },
   {
    "duration": 7,
    "start_time": "2025-06-21T14:28:35.506Z"
   },
   {
    "duration": 5,
    "start_time": "2025-06-21T14:28:56.515Z"
   },
   {
    "duration": 188,
    "start_time": "2025-06-21T14:36:19.568Z"
   },
   {
    "duration": 95,
    "start_time": "2025-06-21T14:42:51.106Z"
   },
   {
    "duration": 13,
    "start_time": "2025-06-21T14:43:22.756Z"
   },
   {
    "duration": 5,
    "start_time": "2025-06-21T14:44:30.188Z"
   },
   {
    "duration": 77,
    "start_time": "2025-06-21T14:45:10.317Z"
   },
   {
    "duration": 5,
    "start_time": "2025-06-21T14:45:29.871Z"
   },
   {
    "duration": 7,
    "start_time": "2025-06-21T14:45:56.718Z"
   },
   {
    "duration": 69,
    "start_time": "2025-06-21T14:46:50.102Z"
   },
   {
    "duration": 8,
    "start_time": "2025-06-21T14:47:14.263Z"
   },
   {
    "duration": 9,
    "start_time": "2025-06-21T14:47:39.912Z"
   },
   {
    "duration": 9,
    "start_time": "2025-06-21T14:48:16.078Z"
   },
   {
    "duration": 11,
    "start_time": "2025-06-21T14:48:38.457Z"
   },
   {
    "duration": 10,
    "start_time": "2025-06-21T14:49:05.082Z"
   },
   {
    "duration": 17,
    "start_time": "2025-06-21T14:50:03.949Z"
   },
   {
    "duration": 12,
    "start_time": "2025-06-21T14:50:11.001Z"
   },
   {
    "duration": 9,
    "start_time": "2025-06-21T14:50:45.810Z"
   },
   {
    "duration": 7,
    "start_time": "2025-06-21T14:57:25.745Z"
   },
   {
    "duration": 7,
    "start_time": "2025-06-21T16:35:44.509Z"
   },
   {
    "duration": 6,
    "start_time": "2025-06-21T16:36:28.748Z"
   },
   {
    "duration": 23,
    "start_time": "2025-06-21T16:44:51.440Z"
   },
   {
    "duration": 23,
    "start_time": "2025-06-21T16:47:40.752Z"
   },
   {
    "duration": 11,
    "start_time": "2025-06-21T16:49:42.949Z"
   },
   {
    "duration": 8,
    "start_time": "2025-06-21T16:52:47.507Z"
   },
   {
    "duration": 26,
    "start_time": "2025-06-21T16:53:06.363Z"
   },
   {
    "duration": 22,
    "start_time": "2025-06-21T16:53:17.907Z"
   },
   {
    "duration": 8,
    "start_time": "2025-06-21T16:53:28.581Z"
   },
   {
    "duration": 1351,
    "start_time": "2025-06-21T17:04:46.357Z"
   },
   {
    "duration": 208,
    "start_time": "2025-06-21T17:05:34.493Z"
   },
   {
    "duration": 210,
    "start_time": "2025-06-21T17:06:15.148Z"
   },
   {
    "duration": 12,
    "start_time": "2025-06-21T18:55:27.563Z"
   },
   {
    "duration": 11,
    "start_time": "2025-06-21T19:00:58.648Z"
   },
   {
    "duration": 5,
    "start_time": "2025-06-21T19:01:10.953Z"
   },
   {
    "duration": 4,
    "start_time": "2025-06-21T19:02:00.425Z"
   },
   {
    "duration": 3,
    "start_time": "2025-06-21T19:03:05.611Z"
   },
   {
    "duration": 16,
    "start_time": "2025-06-21T19:15:31.635Z"
   },
   {
    "duration": 58,
    "start_time": "2025-06-21T19:16:03.814Z"
   },
   {
    "duration": 5,
    "start_time": "2025-06-21T19:21:24.769Z"
   },
   {
    "duration": 61,
    "start_time": "2025-06-21T19:21:29.022Z"
   },
   {
    "duration": 3,
    "start_time": "2025-06-21T19:23:47.320Z"
   },
   {
    "duration": 10,
    "start_time": "2025-06-21T19:26:34.851Z"
   },
   {
    "duration": 7,
    "start_time": "2025-06-21T19:30:55.184Z"
   },
   {
    "duration": 10,
    "start_time": "2025-06-21T19:31:16.287Z"
   },
   {
    "duration": 25,
    "start_time": "2025-06-21T19:33:18.811Z"
   },
   {
    "duration": 54,
    "start_time": "2025-06-21T19:34:14.488Z"
   },
   {
    "duration": 83,
    "start_time": "2025-06-21T19:34:20.543Z"
   },
   {
    "duration": 3,
    "start_time": "2025-06-21T19:34:53.656Z"
   },
   {
    "duration": 29,
    "start_time": "2025-06-21T19:35:05.155Z"
   },
   {
    "duration": 13,
    "start_time": "2025-06-21T19:39:47.502Z"
   },
   {
    "duration": 2,
    "start_time": "2025-06-21T19:41:47.678Z"
   },
   {
    "duration": 14,
    "start_time": "2025-06-21T19:41:51.607Z"
   },
   {
    "duration": 3,
    "start_time": "2025-06-21T19:43:58.214Z"
   },
   {
    "duration": 12,
    "start_time": "2025-06-21T19:44:03.424Z"
   },
   {
    "duration": 2,
    "start_time": "2025-06-21T19:44:46.687Z"
   },
   {
    "duration": 12,
    "start_time": "2025-06-21T19:44:50.432Z"
   },
   {
    "duration": 15,
    "start_time": "2025-06-21T19:53:45.552Z"
   },
   {
    "duration": 3,
    "start_time": "2025-06-21T19:59:09.963Z"
   },
   {
    "duration": 190,
    "start_time": "2025-06-21T19:59:18.175Z"
   },
   {
    "duration": 520,
    "start_time": "2025-06-21T20:55:32.808Z"
   },
   {
    "duration": 255,
    "start_time": "2025-06-21T20:55:33.330Z"
   },
   {
    "duration": 27,
    "start_time": "2025-06-21T20:55:33.587Z"
   },
   {
    "duration": 5,
    "start_time": "2025-06-21T20:55:33.615Z"
   },
   {
    "duration": 23,
    "start_time": "2025-06-21T20:55:33.622Z"
   },
   {
    "duration": 11,
    "start_time": "2025-06-21T20:55:33.647Z"
   },
   {
    "duration": 35,
    "start_time": "2025-06-21T20:55:33.659Z"
   },
   {
    "duration": 68,
    "start_time": "2025-06-21T20:55:33.696Z"
   },
   {
    "duration": 90,
    "start_time": "2025-06-21T20:55:33.766Z"
   },
   {
    "duration": 33,
    "start_time": "2025-06-21T20:55:33.858Z"
   },
   {
    "duration": 254,
    "start_time": "2025-06-21T20:55:33.893Z"
   },
   {
    "duration": 11,
    "start_time": "2025-06-21T20:55:34.148Z"
   },
   {
    "duration": 110,
    "start_time": "2025-06-21T20:55:34.160Z"
   },
   {
    "duration": 106,
    "start_time": "2025-06-21T20:55:34.274Z"
   },
   {
    "duration": 190,
    "start_time": "2025-06-21T20:55:34.382Z"
   },
   {
    "duration": 9,
    "start_time": "2025-06-21T20:55:34.574Z"
   },
   {
    "duration": 63,
    "start_time": "2025-06-21T20:55:34.585Z"
   },
   {
    "duration": 54,
    "start_time": "2025-06-21T20:55:34.650Z"
   },
   {
    "duration": 38,
    "start_time": "2025-06-21T20:55:34.707Z"
   },
   {
    "duration": 20,
    "start_time": "2025-06-21T20:55:34.747Z"
   },
   {
    "duration": 49,
    "start_time": "2025-06-21T20:55:34.769Z"
   },
   {
    "duration": 225,
    "start_time": "2025-06-21T20:55:34.819Z"
   },
   {
    "duration": 4,
    "start_time": "2025-06-21T20:55:35.046Z"
   },
   {
    "duration": 91,
    "start_time": "2025-06-21T20:55:35.051Z"
   },
   {
    "duration": 3,
    "start_time": "2025-06-21T20:55:35.144Z"
   },
   {
    "duration": 275,
    "start_time": "2025-06-21T20:55:35.148Z"
   },
   {
    "duration": 99,
    "start_time": "2025-06-21T20:55:35.424Z"
   },
   {
    "duration": 0,
    "start_time": "2025-06-21T20:55:35.525Z"
   },
   {
    "duration": 0,
    "start_time": "2025-06-21T20:55:35.526Z"
   },
   {
    "duration": 0,
    "start_time": "2025-06-21T20:55:35.527Z"
   },
   {
    "duration": 0,
    "start_time": "2025-06-21T20:55:35.528Z"
   },
   {
    "duration": 0,
    "start_time": "2025-06-21T20:55:35.530Z"
   },
   {
    "duration": 0,
    "start_time": "2025-06-21T20:55:35.531Z"
   },
   {
    "duration": 0,
    "start_time": "2025-06-21T20:55:35.532Z"
   },
   {
    "duration": 7,
    "start_time": "2025-06-21T21:01:20.918Z"
   },
   {
    "duration": 7,
    "start_time": "2025-06-21T21:02:01.246Z"
   },
   {
    "duration": 8,
    "start_time": "2025-06-21T21:02:25.696Z"
   },
   {
    "duration": 75,
    "start_time": "2025-06-21T21:06:04.465Z"
   },
   {
    "duration": 80,
    "start_time": "2025-06-21T21:08:01.720Z"
   },
   {
    "duration": 15,
    "start_time": "2025-06-21T21:08:42.396Z"
   },
   {
    "duration": 388,
    "start_time": "2025-06-22T05:21:30.989Z"
   },
   {
    "duration": 481,
    "start_time": "2025-06-22T05:21:31.379Z"
   },
   {
    "duration": 28,
    "start_time": "2025-06-22T05:21:31.862Z"
   },
   {
    "duration": 4,
    "start_time": "2025-06-22T05:21:31.892Z"
   },
   {
    "duration": 5,
    "start_time": "2025-06-22T05:21:31.897Z"
   },
   {
    "duration": 11,
    "start_time": "2025-06-22T05:21:31.904Z"
   },
   {
    "duration": 43,
    "start_time": "2025-06-22T05:21:31.916Z"
   },
   {
    "duration": 7,
    "start_time": "2025-06-22T05:21:31.961Z"
   },
   {
    "duration": 15,
    "start_time": "2025-06-22T05:21:31.969Z"
   },
   {
    "duration": 8,
    "start_time": "2025-06-22T05:21:31.985Z"
   },
   {
    "duration": 414,
    "start_time": "2025-06-22T05:21:31.995Z"
   },
   {
    "duration": 11,
    "start_time": "2025-06-22T05:21:32.411Z"
   },
   {
    "duration": 13,
    "start_time": "2025-06-22T05:21:32.424Z"
   },
   {
    "duration": 104,
    "start_time": "2025-06-22T05:21:32.440Z"
   },
   {
    "duration": 170,
    "start_time": "2025-06-22T05:21:32.546Z"
   },
   {
    "duration": 9,
    "start_time": "2025-06-22T05:21:32.718Z"
   },
   {
    "duration": 17,
    "start_time": "2025-06-22T05:21:32.728Z"
   },
   {
    "duration": 33,
    "start_time": "2025-06-22T05:21:32.747Z"
   },
   {
    "duration": 23,
    "start_time": "2025-06-22T05:21:32.781Z"
   },
   {
    "duration": 11,
    "start_time": "2025-06-22T05:21:32.805Z"
   },
   {
    "duration": 30,
    "start_time": "2025-06-22T05:21:32.818Z"
   },
   {
    "duration": 221,
    "start_time": "2025-06-22T05:21:32.850Z"
   },
   {
    "duration": 4,
    "start_time": "2025-06-22T05:21:33.073Z"
   },
   {
    "duration": 133,
    "start_time": "2025-06-22T05:21:33.078Z"
   },
   {
    "duration": 3,
    "start_time": "2025-06-22T05:21:33.213Z"
   },
   {
    "duration": 283,
    "start_time": "2025-06-22T05:21:33.218Z"
   },
   {
    "duration": 16,
    "start_time": "2025-06-22T05:21:33.503Z"
   },
   {
    "duration": 76,
    "start_time": "2025-06-22T05:21:33.521Z"
   },
   {
    "duration": 0,
    "start_time": "2025-06-22T05:21:33.599Z"
   },
   {
    "duration": 0,
    "start_time": "2025-06-22T05:21:33.600Z"
   },
   {
    "duration": 0,
    "start_time": "2025-06-22T05:21:33.601Z"
   },
   {
    "duration": 0,
    "start_time": "2025-06-22T05:21:33.602Z"
   },
   {
    "duration": 0,
    "start_time": "2025-06-22T05:21:33.603Z"
   },
   {
    "duration": 0,
    "start_time": "2025-06-22T05:21:33.604Z"
   },
   {
    "duration": 0,
    "start_time": "2025-06-22T05:21:33.605Z"
   },
   {
    "duration": 443,
    "start_time": "2025-06-22T06:18:08.834Z"
   },
   {
    "duration": 128,
    "start_time": "2025-06-22T06:18:09.282Z"
   },
   {
    "duration": 27,
    "start_time": "2025-06-22T06:18:09.411Z"
   },
   {
    "duration": 4,
    "start_time": "2025-06-22T06:18:09.440Z"
   },
   {
    "duration": 10,
    "start_time": "2025-06-22T06:18:09.460Z"
   },
   {
    "duration": 11,
    "start_time": "2025-06-22T06:18:09.472Z"
   },
   {
    "duration": 11,
    "start_time": "2025-06-22T06:18:09.485Z"
   },
   {
    "duration": 7,
    "start_time": "2025-06-22T06:18:09.497Z"
   },
   {
    "duration": 8,
    "start_time": "2025-06-22T06:18:09.505Z"
   },
   {
    "duration": 45,
    "start_time": "2025-06-22T06:18:09.514Z"
   },
   {
    "duration": 239,
    "start_time": "2025-06-22T06:18:09.561Z"
   },
   {
    "duration": 11,
    "start_time": "2025-06-22T06:18:09.802Z"
   },
   {
    "duration": 6,
    "start_time": "2025-06-22T06:18:09.815Z"
   },
   {
    "duration": 122,
    "start_time": "2025-06-22T06:18:09.824Z"
   },
   {
    "duration": 194,
    "start_time": "2025-06-22T06:18:09.947Z"
   },
   {
    "duration": 19,
    "start_time": "2025-06-22T06:18:10.143Z"
   },
   {
    "duration": 14,
    "start_time": "2025-06-22T06:18:10.164Z"
   },
   {
    "duration": 26,
    "start_time": "2025-06-22T06:18:10.180Z"
   },
   {
    "duration": 23,
    "start_time": "2025-06-22T06:18:10.208Z"
   },
   {
    "duration": 35,
    "start_time": "2025-06-22T06:18:10.233Z"
   },
   {
    "duration": 17,
    "start_time": "2025-06-22T06:18:10.270Z"
   },
   {
    "duration": 271,
    "start_time": "2025-06-22T06:18:10.289Z"
   },
   {
    "duration": 11,
    "start_time": "2025-06-22T06:18:10.567Z"
   },
   {
    "duration": 68,
    "start_time": "2025-06-22T06:18:10.581Z"
   },
   {
    "duration": 8,
    "start_time": "2025-06-22T06:18:10.651Z"
   },
   {
    "duration": 253,
    "start_time": "2025-06-22T06:18:10.662Z"
   },
   {
    "duration": 18,
    "start_time": "2025-06-22T06:18:10.916Z"
   },
   {
    "duration": 72,
    "start_time": "2025-06-22T06:18:10.935Z"
   },
   {
    "duration": 0,
    "start_time": "2025-06-22T06:18:11.009Z"
   },
   {
    "duration": 0,
    "start_time": "2025-06-22T06:18:11.011Z"
   },
   {
    "duration": 0,
    "start_time": "2025-06-22T06:18:11.012Z"
   },
   {
    "duration": 0,
    "start_time": "2025-06-22T06:18:11.014Z"
   },
   {
    "duration": 0,
    "start_time": "2025-06-22T06:18:11.015Z"
   },
   {
    "duration": 0,
    "start_time": "2025-06-22T06:18:11.017Z"
   },
   {
    "duration": 1,
    "start_time": "2025-06-22T06:18:11.018Z"
   },
   {
    "duration": 73,
    "start_time": "2025-06-22T06:26:35.912Z"
   },
   {
    "duration": 108,
    "start_time": "2025-06-22T06:26:45.915Z"
   },
   {
    "duration": 7,
    "start_time": "2025-06-22T06:27:02.933Z"
   },
   {
    "duration": 7,
    "start_time": "2025-06-22T06:27:10.646Z"
   },
   {
    "duration": 8,
    "start_time": "2025-06-22T06:27:16.429Z"
   },
   {
    "duration": 815,
    "start_time": "2025-06-22T06:29:11.272Z"
   },
   {
    "duration": 7,
    "start_time": "2025-06-22T06:30:02.142Z"
   },
   {
    "duration": 10,
    "start_time": "2025-06-22T06:32:26.912Z"
   },
   {
    "duration": 21,
    "start_time": "2025-06-22T06:32:49.877Z"
   },
   {
    "duration": 15,
    "start_time": "2025-06-22T06:33:27.536Z"
   },
   {
    "duration": 16,
    "start_time": "2025-06-22T06:34:21.752Z"
   },
   {
    "duration": 9,
    "start_time": "2025-06-22T06:35:06.500Z"
   },
   {
    "duration": 10,
    "start_time": "2025-06-22T06:35:54.808Z"
   },
   {
    "duration": 9,
    "start_time": "2025-06-22T06:36:03.522Z"
   },
   {
    "duration": 9,
    "start_time": "2025-06-22T06:36:16.033Z"
   },
   {
    "duration": 21,
    "start_time": "2025-06-22T06:36:28.258Z"
   },
   {
    "duration": 15,
    "start_time": "2025-06-22T06:37:17.390Z"
   },
   {
    "duration": 12,
    "start_time": "2025-06-22T06:37:39.387Z"
   },
   {
    "duration": 34,
    "start_time": "2025-06-22T06:52:39.363Z"
   },
   {
    "duration": 818,
    "start_time": "2025-06-22T06:53:28.549Z"
   },
   {
    "duration": 11,
    "start_time": "2025-06-22T06:54:26.831Z"
   },
   {
    "duration": 14,
    "start_time": "2025-06-22T06:55:26.909Z"
   },
   {
    "duration": 11,
    "start_time": "2025-06-22T06:55:45.118Z"
   },
   {
    "duration": 13,
    "start_time": "2025-06-22T06:56:17.978Z"
   },
   {
    "duration": 14,
    "start_time": "2025-06-22T06:56:46.501Z"
   },
   {
    "duration": 9,
    "start_time": "2025-06-22T06:56:53.141Z"
   },
   {
    "duration": 14,
    "start_time": "2025-06-22T06:57:14.299Z"
   },
   {
    "duration": 11,
    "start_time": "2025-06-22T07:02:11.241Z"
   },
   {
    "duration": 792,
    "start_time": "2025-06-22T07:02:47.250Z"
   },
   {
    "duration": 932,
    "start_time": "2025-06-22T07:02:57.980Z"
   },
   {
    "duration": 7,
    "start_time": "2025-06-22T07:03:25.064Z"
   },
   {
    "duration": 7,
    "start_time": "2025-06-22T07:03:31.033Z"
   },
   {
    "duration": 12,
    "start_time": "2025-06-22T07:03:44.884Z"
   },
   {
    "duration": 16,
    "start_time": "2025-06-22T07:04:54.385Z"
   },
   {
    "duration": 11,
    "start_time": "2025-06-22T07:06:08.148Z"
   },
   {
    "duration": 19,
    "start_time": "2025-06-22T07:06:39.548Z"
   },
   {
    "duration": 24,
    "start_time": "2025-06-22T07:06:54.927Z"
   },
   {
    "duration": 1010,
    "start_time": "2025-06-22T07:08:58.287Z"
   },
   {
    "duration": 998,
    "start_time": "2025-06-22T07:09:23.345Z"
   },
   {
    "duration": 1322,
    "start_time": "2025-06-22T07:10:04.008Z"
   },
   {
    "duration": 1029,
    "start_time": "2025-06-22T07:10:32.509Z"
   },
   {
    "duration": 21,
    "start_time": "2025-06-22T07:12:48.154Z"
   },
   {
    "duration": 20,
    "start_time": "2025-06-22T07:13:13.861Z"
   },
   {
    "duration": 17,
    "start_time": "2025-06-22T07:16:03.475Z"
   },
   {
    "duration": 22,
    "start_time": "2025-06-22T07:16:22.132Z"
   },
   {
    "duration": 388,
    "start_time": "2025-06-22T16:21:33.564Z"
   },
   {
    "duration": 111,
    "start_time": "2025-06-22T16:21:33.954Z"
   },
   {
    "duration": 27,
    "start_time": "2025-06-22T16:21:34.066Z"
   },
   {
    "duration": 4,
    "start_time": "2025-06-22T16:21:34.095Z"
   },
   {
    "duration": 36,
    "start_time": "2025-06-22T16:21:34.101Z"
   },
   {
    "duration": 22,
    "start_time": "2025-06-22T16:21:34.138Z"
   },
   {
    "duration": 25,
    "start_time": "2025-06-22T16:21:34.161Z"
   },
   {
    "duration": 7,
    "start_time": "2025-06-22T16:21:34.188Z"
   },
   {
    "duration": 179,
    "start_time": "2025-06-22T16:21:34.197Z"
   },
   {
    "duration": 99,
    "start_time": "2025-06-22T16:21:34.378Z"
   },
   {
    "duration": 414,
    "start_time": "2025-06-22T16:21:34.479Z"
   },
   {
    "duration": 19,
    "start_time": "2025-06-22T16:21:34.896Z"
   },
   {
    "duration": 17,
    "start_time": "2025-06-22T16:21:34.917Z"
   },
   {
    "duration": 131,
    "start_time": "2025-06-22T16:21:34.938Z"
   },
   {
    "duration": 181,
    "start_time": "2025-06-22T16:21:35.070Z"
   },
   {
    "duration": 9,
    "start_time": "2025-06-22T16:21:35.252Z"
   },
   {
    "duration": 14,
    "start_time": "2025-06-22T16:21:35.263Z"
   },
   {
    "duration": 37,
    "start_time": "2025-06-22T16:21:35.278Z"
   },
   {
    "duration": 25,
    "start_time": "2025-06-22T16:21:35.317Z"
   },
   {
    "duration": 20,
    "start_time": "2025-06-22T16:21:35.344Z"
   },
   {
    "duration": 82,
    "start_time": "2025-06-22T16:21:35.366Z"
   },
   {
    "duration": 317,
    "start_time": "2025-06-22T16:21:35.449Z"
   },
   {
    "duration": 4,
    "start_time": "2025-06-22T16:21:35.767Z"
   },
   {
    "duration": 134,
    "start_time": "2025-06-22T16:21:35.772Z"
   },
   {
    "duration": 3,
    "start_time": "2025-06-22T16:21:35.908Z"
   },
   {
    "duration": 263,
    "start_time": "2025-06-22T16:21:35.912Z"
   },
   {
    "duration": 29,
    "start_time": "2025-06-22T16:21:36.177Z"
   },
   {
    "duration": 278,
    "start_time": "2025-06-22T16:21:36.208Z"
   },
   {
    "duration": 0,
    "start_time": "2025-06-22T16:21:36.488Z"
   },
   {
    "duration": 0,
    "start_time": "2025-06-22T16:21:36.489Z"
   },
   {
    "duration": 0,
    "start_time": "2025-06-22T16:21:36.491Z"
   },
   {
    "duration": 0,
    "start_time": "2025-06-22T16:21:36.493Z"
   },
   {
    "duration": 0,
    "start_time": "2025-06-22T16:21:36.495Z"
   },
   {
    "duration": 0,
    "start_time": "2025-06-22T16:21:36.496Z"
   },
   {
    "duration": 0,
    "start_time": "2025-06-22T16:21:36.497Z"
   },
   {
    "duration": 23,
    "start_time": "2025-06-22T16:25:09.096Z"
   },
   {
    "duration": 25,
    "start_time": "2025-06-22T16:55:38.720Z"
   },
   {
    "duration": 15,
    "start_time": "2025-06-22T17:08:54.592Z"
   },
   {
    "duration": 16,
    "start_time": "2025-06-22T17:09:42.919Z"
   },
   {
    "duration": 21,
    "start_time": "2025-06-22T17:10:30.121Z"
   },
   {
    "duration": 26,
    "start_time": "2025-06-22T17:13:18.677Z"
   },
   {
    "duration": 95,
    "start_time": "2025-06-22T17:16:14.168Z"
   },
   {
    "duration": 37,
    "start_time": "2025-06-22T17:16:36.203Z"
   },
   {
    "duration": 2298,
    "start_time": "2025-06-22T17:17:52.615Z"
   },
   {
    "duration": 32,
    "start_time": "2025-06-22T17:18:26.103Z"
   },
   {
    "duration": 518,
    "start_time": "2025-06-22T17:21:04.158Z"
   },
   {
    "duration": 81,
    "start_time": "2025-06-22T17:22:58.210Z"
   },
   {
    "duration": 3,
    "start_time": "2025-06-22T17:25:01.665Z"
   },
   {
    "duration": 426,
    "start_time": "2025-06-24T10:34:22.922Z"
   },
   {
    "duration": 1061,
    "start_time": "2025-06-24T10:34:23.350Z"
   },
   {
    "duration": 53,
    "start_time": "2025-06-24T10:34:24.412Z"
   },
   {
    "duration": 65,
    "start_time": "2025-06-24T10:34:24.472Z"
   },
   {
    "duration": 139,
    "start_time": "2025-06-24T10:34:24.540Z"
   },
   {
    "duration": 9,
    "start_time": "2025-06-24T10:34:24.681Z"
   },
   {
    "duration": 20,
    "start_time": "2025-06-24T10:34:24.692Z"
   },
   {
    "duration": 7,
    "start_time": "2025-06-24T10:34:24.713Z"
   },
   {
    "duration": 8,
    "start_time": "2025-06-24T10:34:24.721Z"
   },
   {
    "duration": 15,
    "start_time": "2025-06-24T10:34:24.731Z"
   },
   {
    "duration": 516,
    "start_time": "2025-06-24T10:34:24.748Z"
   },
   {
    "duration": 18,
    "start_time": "2025-06-24T10:34:25.271Z"
   },
   {
    "duration": 20,
    "start_time": "2025-06-24T10:34:25.291Z"
   },
   {
    "duration": 137,
    "start_time": "2025-06-24T10:34:25.313Z"
   },
   {
    "duration": 204,
    "start_time": "2025-06-24T10:34:25.452Z"
   },
   {
    "duration": 18,
    "start_time": "2025-06-24T10:34:25.658Z"
   },
   {
    "duration": 13,
    "start_time": "2025-06-24T10:34:25.677Z"
   },
   {
    "duration": 23,
    "start_time": "2025-06-24T10:34:25.692Z"
   },
   {
    "duration": 150,
    "start_time": "2025-06-24T10:34:25.717Z"
   },
   {
    "duration": 27,
    "start_time": "2025-06-24T10:34:25.869Z"
   },
   {
    "duration": 10,
    "start_time": "2025-06-24T10:34:25.898Z"
   },
   {
    "duration": 284,
    "start_time": "2025-06-24T10:34:25.910Z"
   },
   {
    "duration": 3,
    "start_time": "2025-06-24T10:34:26.196Z"
   },
   {
    "duration": 149,
    "start_time": "2025-06-24T10:34:26.201Z"
   },
   {
    "duration": 12,
    "start_time": "2025-06-24T10:34:26.351Z"
   },
   {
    "duration": 288,
    "start_time": "2025-06-24T10:34:26.374Z"
   },
   {
    "duration": 27,
    "start_time": "2025-06-24T10:34:26.664Z"
   },
   {
    "duration": 483,
    "start_time": "2025-06-24T10:34:26.694Z"
   },
   {
    "duration": 80,
    "start_time": "2025-06-24T10:34:27.179Z"
   },
   {
    "duration": 0,
    "start_time": "2025-06-24T10:34:27.265Z"
   },
   {
    "duration": 0,
    "start_time": "2025-06-24T10:34:27.266Z"
   },
   {
    "duration": 0,
    "start_time": "2025-06-24T10:34:27.268Z"
   },
   {
    "duration": 0,
    "start_time": "2025-06-24T10:34:27.269Z"
   },
   {
    "duration": 0,
    "start_time": "2025-06-24T10:34:27.275Z"
   },
   {
    "duration": 0,
    "start_time": "2025-06-24T10:34:27.276Z"
   },
   {
    "duration": 0,
    "start_time": "2025-06-24T10:34:27.280Z"
   },
   {
    "duration": 367,
    "start_time": "2025-06-24T12:41:41.718Z"
   },
   {
    "duration": 338,
    "start_time": "2025-06-24T12:41:42.087Z"
   },
   {
    "duration": 32,
    "start_time": "2025-06-24T12:41:42.427Z"
   },
   {
    "duration": 4,
    "start_time": "2025-06-24T12:41:42.461Z"
   },
   {
    "duration": 10,
    "start_time": "2025-06-24T12:41:42.467Z"
   },
   {
    "duration": 17,
    "start_time": "2025-06-24T12:41:42.478Z"
   },
   {
    "duration": 41,
    "start_time": "2025-06-24T12:41:42.497Z"
   },
   {
    "duration": 8,
    "start_time": "2025-06-24T12:41:42.540Z"
   },
   {
    "duration": 19,
    "start_time": "2025-06-24T12:41:42.550Z"
   },
   {
    "duration": 74,
    "start_time": "2025-06-24T12:41:42.570Z"
   },
   {
    "duration": 432,
    "start_time": "2025-06-24T12:41:42.646Z"
   },
   {
    "duration": 13,
    "start_time": "2025-06-24T12:41:43.080Z"
   },
   {
    "duration": 13,
    "start_time": "2025-06-24T12:41:43.095Z"
   },
   {
    "duration": 115,
    "start_time": "2025-06-24T12:41:43.111Z"
   },
   {
    "duration": 181,
    "start_time": "2025-06-24T12:41:43.228Z"
   },
   {
    "duration": 10,
    "start_time": "2025-06-24T12:41:43.411Z"
   },
   {
    "duration": 7,
    "start_time": "2025-06-24T12:41:43.423Z"
   },
   {
    "duration": 42,
    "start_time": "2025-06-24T12:41:43.432Z"
   },
   {
    "duration": 25,
    "start_time": "2025-06-24T12:41:43.476Z"
   },
   {
    "duration": 51,
    "start_time": "2025-06-24T12:41:43.502Z"
   },
   {
    "duration": 29,
    "start_time": "2025-06-24T12:41:43.555Z"
   },
   {
    "duration": 220,
    "start_time": "2025-06-24T12:41:43.586Z"
   },
   {
    "duration": 4,
    "start_time": "2025-06-24T12:41:43.807Z"
   },
   {
    "duration": 138,
    "start_time": "2025-06-24T12:41:43.813Z"
   },
   {
    "duration": 3,
    "start_time": "2025-06-24T12:41:43.953Z"
   },
   {
    "duration": 199,
    "start_time": "2025-06-24T12:41:43.962Z"
   },
   {
    "duration": 24,
    "start_time": "2025-06-24T12:41:44.163Z"
   },
   {
    "duration": 485,
    "start_time": "2025-06-24T12:41:44.188Z"
   },
   {
    "duration": 110,
    "start_time": "2025-06-24T12:41:44.675Z"
   },
   {
    "duration": 0,
    "start_time": "2025-06-24T12:41:44.787Z"
   },
   {
    "duration": 0,
    "start_time": "2025-06-24T12:41:44.789Z"
   },
   {
    "duration": 0,
    "start_time": "2025-06-24T12:41:44.790Z"
   },
   {
    "duration": 0,
    "start_time": "2025-06-24T12:41:44.791Z"
   },
   {
    "duration": 0,
    "start_time": "2025-06-24T12:41:44.793Z"
   },
   {
    "duration": 0,
    "start_time": "2025-06-24T12:41:44.794Z"
   },
   {
    "duration": 0,
    "start_time": "2025-06-24T12:41:44.795Z"
   },
   {
    "duration": 6,
    "start_time": "2025-06-24T12:48:14.670Z"
   },
   {
    "duration": 27,
    "start_time": "2025-06-24T15:03:29.807Z"
   },
   {
    "duration": 4,
    "start_time": "2025-06-24T15:04:36.921Z"
   },
   {
    "duration": 6,
    "start_time": "2025-06-24T15:06:36.590Z"
   },
   {
    "duration": 4,
    "start_time": "2025-06-24T15:08:58.394Z"
   },
   {
    "duration": 6,
    "start_time": "2025-06-24T15:09:03.951Z"
   },
   {
    "duration": 5,
    "start_time": "2025-06-24T15:10:00.807Z"
   },
   {
    "duration": 6,
    "start_time": "2025-06-24T15:10:05.133Z"
   },
   {
    "duration": 7,
    "start_time": "2025-06-24T15:17:59.097Z"
   },
   {
    "duration": 4,
    "start_time": "2025-06-24T15:19:52.343Z"
   },
   {
    "duration": 18,
    "start_time": "2025-06-24T15:24:33.881Z"
   },
   {
    "duration": 112,
    "start_time": "2025-06-24T15:26:44.538Z"
   },
   {
    "duration": 4,
    "start_time": "2025-06-24T15:26:52.836Z"
   },
   {
    "duration": 8,
    "start_time": "2025-06-24T15:30:13.587Z"
   },
   {
    "duration": 19,
    "start_time": "2025-06-24T15:30:32.604Z"
   },
   {
    "duration": 7,
    "start_time": "2025-06-24T15:31:07.301Z"
   },
   {
    "duration": 10,
    "start_time": "2025-06-24T15:33:49.439Z"
   },
   {
    "duration": 34,
    "start_time": "2025-06-24T15:48:32.598Z"
   },
   {
    "duration": 3,
    "start_time": "2025-06-24T15:49:08.567Z"
   },
   {
    "duration": 9,
    "start_time": "2025-06-24T15:58:22.125Z"
   },
   {
    "duration": 5,
    "start_time": "2025-06-24T15:59:57.981Z"
   },
   {
    "duration": 5,
    "start_time": "2025-06-24T16:06:52.202Z"
   },
   {
    "duration": 4,
    "start_time": "2025-06-24T16:12:05.214Z"
   },
   {
    "duration": 18,
    "start_time": "2025-06-24T16:14:10.712Z"
   },
   {
    "duration": 3,
    "start_time": "2025-06-24T16:16:08.593Z"
   },
   {
    "duration": 6,
    "start_time": "2025-06-24T16:18:54.747Z"
   },
   {
    "duration": 85,
    "start_time": "2025-06-24T16:22:55.641Z"
   },
   {
    "duration": 17,
    "start_time": "2025-06-24T16:23:10.512Z"
   },
   {
    "duration": 49,
    "start_time": "2025-06-24T20:02:29.277Z"
   },
   {
    "duration": 399,
    "start_time": "2025-06-24T20:02:38.271Z"
   },
   {
    "duration": 132,
    "start_time": "2025-06-24T20:02:38.672Z"
   },
   {
    "duration": 25,
    "start_time": "2025-06-24T20:02:38.806Z"
   },
   {
    "duration": 4,
    "start_time": "2025-06-24T20:02:38.832Z"
   },
   {
    "duration": 5,
    "start_time": "2025-06-24T20:02:38.838Z"
   },
   {
    "duration": 19,
    "start_time": "2025-06-24T20:02:38.845Z"
   },
   {
    "duration": 16,
    "start_time": "2025-06-24T20:02:38.866Z"
   },
   {
    "duration": 7,
    "start_time": "2025-06-24T20:02:38.883Z"
   },
   {
    "duration": 8,
    "start_time": "2025-06-24T20:02:38.891Z"
   },
   {
    "duration": 7,
    "start_time": "2025-06-24T20:02:38.900Z"
   },
   {
    "duration": 430,
    "start_time": "2025-06-24T20:02:38.909Z"
   },
   {
    "duration": 18,
    "start_time": "2025-06-24T20:02:39.341Z"
   },
   {
    "duration": 6,
    "start_time": "2025-06-24T20:02:39.360Z"
   },
   {
    "duration": 108,
    "start_time": "2025-06-24T20:02:39.369Z"
   },
   {
    "duration": 179,
    "start_time": "2025-06-24T20:02:39.479Z"
   },
   {
    "duration": 8,
    "start_time": "2025-06-24T20:02:39.659Z"
   },
   {
    "duration": 25,
    "start_time": "2025-06-24T20:02:39.669Z"
   },
   {
    "duration": 30,
    "start_time": "2025-06-24T20:02:39.695Z"
   },
   {
    "duration": 23,
    "start_time": "2025-06-24T20:02:39.727Z"
   },
   {
    "duration": 45,
    "start_time": "2025-06-24T20:02:39.758Z"
   },
   {
    "duration": 10,
    "start_time": "2025-06-24T20:02:39.805Z"
   },
   {
    "duration": 221,
    "start_time": "2025-06-24T20:02:39.817Z"
   },
   {
    "duration": 4,
    "start_time": "2025-06-24T20:02:40.040Z"
   },
   {
    "duration": 126,
    "start_time": "2025-06-24T20:02:40.057Z"
   },
   {
    "duration": 3,
    "start_time": "2025-06-24T20:02:40.185Z"
   },
   {
    "duration": 281,
    "start_time": "2025-06-24T20:02:40.190Z"
   },
   {
    "duration": 23,
    "start_time": "2025-06-24T20:02:40.473Z"
   },
   {
    "duration": 440,
    "start_time": "2025-06-24T20:02:40.498Z"
   },
   {
    "duration": 6,
    "start_time": "2025-06-24T20:02:40.939Z"
   },
   {
    "duration": 9,
    "start_time": "2025-06-24T20:02:40.958Z"
   },
   {
    "duration": 5,
    "start_time": "2025-06-24T20:02:40.968Z"
   },
   {
    "duration": 10,
    "start_time": "2025-06-24T20:02:40.974Z"
   },
   {
    "duration": 12,
    "start_time": "2025-06-24T20:02:40.985Z"
   },
   {
    "duration": 5,
    "start_time": "2025-06-24T20:02:40.998Z"
   },
   {
    "duration": 5,
    "start_time": "2025-06-24T20:02:41.005Z"
   },
   {
    "duration": 7,
    "start_time": "2025-06-24T20:02:41.011Z"
   },
   {
    "duration": 43,
    "start_time": "2025-06-24T20:02:41.019Z"
   },
   {
    "duration": 7,
    "start_time": "2025-06-24T20:06:45.011Z"
   },
   {
    "duration": 6,
    "start_time": "2025-06-24T20:09:03.257Z"
   },
   {
    "duration": 409,
    "start_time": "2025-06-24T20:09:29.504Z"
   },
   {
    "duration": 117,
    "start_time": "2025-06-24T20:09:29.916Z"
   },
   {
    "duration": 27,
    "start_time": "2025-06-24T20:09:30.035Z"
   },
   {
    "duration": 16,
    "start_time": "2025-06-24T20:09:30.064Z"
   },
   {
    "duration": 22,
    "start_time": "2025-06-24T20:09:30.083Z"
   },
   {
    "duration": 39,
    "start_time": "2025-06-24T20:09:30.107Z"
   },
   {
    "duration": 23,
    "start_time": "2025-06-24T20:09:30.147Z"
   },
   {
    "duration": 6,
    "start_time": "2025-06-24T20:09:30.172Z"
   },
   {
    "duration": 7,
    "start_time": "2025-06-24T20:09:30.180Z"
   },
   {
    "duration": 18,
    "start_time": "2025-06-24T20:09:30.188Z"
   },
   {
    "duration": 336,
    "start_time": "2025-06-24T20:09:30.207Z"
   },
   {
    "duration": 13,
    "start_time": "2025-06-24T20:09:30.544Z"
   },
   {
    "duration": 32,
    "start_time": "2025-06-24T20:09:30.559Z"
   },
   {
    "duration": 107,
    "start_time": "2025-06-24T20:09:30.594Z"
   },
   {
    "duration": 197,
    "start_time": "2025-06-24T20:09:30.702Z"
   },
   {
    "duration": 9,
    "start_time": "2025-06-24T20:09:30.901Z"
   },
   {
    "duration": 22,
    "start_time": "2025-06-24T20:09:30.911Z"
   },
   {
    "duration": 43,
    "start_time": "2025-06-24T20:09:30.934Z"
   },
   {
    "duration": 26,
    "start_time": "2025-06-24T20:09:30.979Z"
   },
   {
    "duration": 13,
    "start_time": "2025-06-24T20:09:31.006Z"
   },
   {
    "duration": 40,
    "start_time": "2025-06-24T20:09:31.020Z"
   },
   {
    "duration": 238,
    "start_time": "2025-06-24T20:09:31.063Z"
   },
   {
    "duration": 5,
    "start_time": "2025-06-24T20:09:31.303Z"
   },
   {
    "duration": 86,
    "start_time": "2025-06-24T20:09:31.310Z"
   },
   {
    "duration": 3,
    "start_time": "2025-06-24T20:09:31.398Z"
   },
   {
    "duration": 267,
    "start_time": "2025-06-24T20:09:31.402Z"
   },
   {
    "duration": 25,
    "start_time": "2025-06-24T20:09:31.670Z"
   },
   {
    "duration": 506,
    "start_time": "2025-06-24T20:09:31.696Z"
   },
   {
    "duration": 4,
    "start_time": "2025-06-24T20:09:32.204Z"
   },
   {
    "duration": 90,
    "start_time": "2025-06-24T20:09:32.210Z"
   },
   {
    "duration": 16,
    "start_time": "2025-06-24T20:09:32.302Z"
   },
   {
    "duration": 22,
    "start_time": "2025-06-24T20:09:32.319Z"
   },
   {
    "duration": 5,
    "start_time": "2025-06-24T20:09:32.343Z"
   },
   {
    "duration": 5,
    "start_time": "2025-06-24T20:09:32.350Z"
   },
   {
    "duration": 7,
    "start_time": "2025-06-24T20:09:32.356Z"
   },
   {
    "duration": 6,
    "start_time": "2025-06-24T20:09:32.365Z"
   },
   {
    "duration": 99,
    "start_time": "2025-06-24T20:09:32.372Z"
   },
   {
    "duration": 3,
    "start_time": "2025-06-24T20:12:18.421Z"
   },
   {
    "duration": 7,
    "start_time": "2025-06-24T20:12:32.402Z"
   },
   {
    "duration": 6,
    "start_time": "2025-06-24T20:13:47.468Z"
   },
   {
    "duration": 428,
    "start_time": "2025-06-24T20:14:49.542Z"
   },
   {
    "duration": 120,
    "start_time": "2025-06-24T20:14:49.972Z"
   },
   {
    "duration": 26,
    "start_time": "2025-06-24T20:14:50.095Z"
   },
   {
    "duration": 4,
    "start_time": "2025-06-24T20:14:50.122Z"
   },
   {
    "duration": 6,
    "start_time": "2025-06-24T20:14:50.128Z"
   },
   {
    "duration": 25,
    "start_time": "2025-06-24T20:14:50.135Z"
   },
   {
    "duration": 10,
    "start_time": "2025-06-24T20:14:50.162Z"
   },
   {
    "duration": 7,
    "start_time": "2025-06-24T20:14:50.173Z"
   },
   {
    "duration": 7,
    "start_time": "2025-06-24T20:14:50.181Z"
   },
   {
    "duration": 7,
    "start_time": "2025-06-24T20:14:50.190Z"
   },
   {
    "duration": 230,
    "start_time": "2025-06-24T20:14:50.198Z"
   },
   {
    "duration": 10,
    "start_time": "2025-06-24T20:14:50.430Z"
   },
   {
    "duration": 79,
    "start_time": "2025-06-24T20:14:50.442Z"
   },
   {
    "duration": 127,
    "start_time": "2025-06-24T20:14:50.524Z"
   },
   {
    "duration": 165,
    "start_time": "2025-06-24T20:14:50.653Z"
   },
   {
    "duration": 8,
    "start_time": "2025-06-24T20:14:50.820Z"
   },
   {
    "duration": 56,
    "start_time": "2025-06-24T20:14:50.829Z"
   },
   {
    "duration": 61,
    "start_time": "2025-06-24T20:14:50.887Z"
   },
   {
    "duration": 24,
    "start_time": "2025-06-24T20:14:50.950Z"
   },
   {
    "duration": 12,
    "start_time": "2025-06-24T20:14:50.976Z"
   },
   {
    "duration": 11,
    "start_time": "2025-06-24T20:14:50.989Z"
   },
   {
    "duration": 262,
    "start_time": "2025-06-24T20:14:51.002Z"
   },
   {
    "duration": 4,
    "start_time": "2025-06-24T20:14:51.266Z"
   },
   {
    "duration": 74,
    "start_time": "2025-06-24T20:14:51.272Z"
   },
   {
    "duration": 3,
    "start_time": "2025-06-24T20:14:51.348Z"
   },
   {
    "duration": 216,
    "start_time": "2025-06-24T20:14:51.358Z"
   },
   {
    "duration": 27,
    "start_time": "2025-06-24T20:14:51.576Z"
   },
   {
    "duration": 479,
    "start_time": "2025-06-24T20:14:51.605Z"
   },
   {
    "duration": 5,
    "start_time": "2025-06-24T20:14:52.085Z"
   },
   {
    "duration": 39,
    "start_time": "2025-06-24T20:14:52.091Z"
   },
   {
    "duration": 19,
    "start_time": "2025-06-24T20:14:52.132Z"
   },
   {
    "duration": 19,
    "start_time": "2025-06-24T20:14:52.152Z"
   },
   {
    "duration": 7,
    "start_time": "2025-06-24T20:14:52.173Z"
   },
   {
    "duration": 17,
    "start_time": "2025-06-24T20:14:52.182Z"
   },
   {
    "duration": 77,
    "start_time": "2025-06-24T20:14:52.201Z"
   },
   {
    "duration": 88,
    "start_time": "2025-06-24T20:14:52.279Z"
   },
   {
    "duration": 20,
    "start_time": "2025-06-24T20:14:52.369Z"
   },
   {
    "duration": 7,
    "start_time": "2025-06-24T20:15:49.035Z"
   },
   {
    "duration": 7,
    "start_time": "2025-06-24T20:16:50.893Z"
   },
   {
    "duration": 6,
    "start_time": "2025-06-24T20:20:49.483Z"
   },
   {
    "duration": 7,
    "start_time": "2025-06-24T20:22:32.688Z"
   },
   {
    "duration": 82,
    "start_time": "2025-06-24T20:24:20.508Z"
   },
   {
    "duration": 245,
    "start_time": "2025-06-24T20:27:46.417Z"
   },
   {
    "duration": 96,
    "start_time": "2025-06-24T20:28:00.006Z"
   },
   {
    "duration": 201,
    "start_time": "2025-06-24T20:30:43.119Z"
   },
   {
    "duration": 172,
    "start_time": "2025-06-24T20:34:00.060Z"
   },
   {
    "duration": 177,
    "start_time": "2025-06-24T20:34:53.652Z"
   },
   {
    "duration": 247,
    "start_time": "2025-06-24T20:36:27.261Z"
   },
   {
    "duration": 457,
    "start_time": "2025-06-24T20:37:40.575Z"
   },
   {
    "duration": 140,
    "start_time": "2025-06-24T20:37:41.034Z"
   },
   {
    "duration": 33,
    "start_time": "2025-06-24T20:37:41.175Z"
   },
   {
    "duration": 5,
    "start_time": "2025-06-24T20:37:41.211Z"
   },
   {
    "duration": 6,
    "start_time": "2025-06-24T20:37:41.218Z"
   },
   {
    "duration": 15,
    "start_time": "2025-06-24T20:37:41.225Z"
   },
   {
    "duration": 12,
    "start_time": "2025-06-24T20:37:41.259Z"
   },
   {
    "duration": 9,
    "start_time": "2025-06-24T20:37:41.274Z"
   },
   {
    "duration": 12,
    "start_time": "2025-06-24T20:37:41.285Z"
   },
   {
    "duration": 8,
    "start_time": "2025-06-24T20:37:41.299Z"
   },
   {
    "duration": 318,
    "start_time": "2025-06-24T20:37:41.309Z"
   },
   {
    "duration": 8,
    "start_time": "2025-06-24T20:37:41.629Z"
   },
   {
    "duration": 7,
    "start_time": "2025-06-24T20:37:41.638Z"
   },
   {
    "duration": 110,
    "start_time": "2025-06-24T20:37:41.647Z"
   },
   {
    "duration": 180,
    "start_time": "2025-06-24T20:37:41.759Z"
   },
   {
    "duration": 18,
    "start_time": "2025-06-24T20:37:41.941Z"
   },
   {
    "duration": 8,
    "start_time": "2025-06-24T20:37:41.961Z"
   },
   {
    "duration": 26,
    "start_time": "2025-06-24T20:37:41.971Z"
   },
   {
    "duration": 26,
    "start_time": "2025-06-24T20:37:41.999Z"
   },
   {
    "duration": 43,
    "start_time": "2025-06-24T20:37:42.027Z"
   },
   {
    "duration": 9,
    "start_time": "2025-06-24T20:37:42.073Z"
   },
   {
    "duration": 254,
    "start_time": "2025-06-24T20:37:42.084Z"
   },
   {
    "duration": 17,
    "start_time": "2025-06-24T20:37:42.340Z"
   },
   {
    "duration": 122,
    "start_time": "2025-06-24T20:37:42.359Z"
   },
   {
    "duration": 3,
    "start_time": "2025-06-24T20:37:42.482Z"
   },
   {
    "duration": 209,
    "start_time": "2025-06-24T20:37:42.487Z"
   },
   {
    "duration": 23,
    "start_time": "2025-06-24T20:37:42.697Z"
   },
   {
    "duration": 502,
    "start_time": "2025-06-24T20:37:42.723Z"
   },
   {
    "duration": 4,
    "start_time": "2025-06-24T20:37:43.227Z"
   },
   {
    "duration": 6,
    "start_time": "2025-06-24T20:37:43.233Z"
   },
   {
    "duration": 5,
    "start_time": "2025-06-24T20:37:43.258Z"
   },
   {
    "duration": 9,
    "start_time": "2025-06-24T20:37:43.264Z"
   },
   {
    "duration": 4,
    "start_time": "2025-06-24T20:37:43.275Z"
   },
   {
    "duration": 4,
    "start_time": "2025-06-24T20:37:43.281Z"
   },
   {
    "duration": 8,
    "start_time": "2025-06-24T20:37:43.287Z"
   },
   {
    "duration": 4,
    "start_time": "2025-06-24T20:37:43.297Z"
   },
   {
    "duration": 55,
    "start_time": "2025-06-24T20:37:43.303Z"
   },
   {
    "duration": 185,
    "start_time": "2025-06-24T20:43:07.751Z"
   },
   {
    "duration": 9,
    "start_time": "2025-06-24T20:44:57.425Z"
   },
   {
    "duration": 12,
    "start_time": "2025-06-24T20:46:04.965Z"
   },
   {
    "duration": 15,
    "start_time": "2025-06-24T20:47:23.849Z"
   },
   {
    "duration": 409,
    "start_time": "2025-06-24T20:48:03.495Z"
   },
   {
    "duration": 133,
    "start_time": "2025-06-24T20:48:03.906Z"
   },
   {
    "duration": 35,
    "start_time": "2025-06-24T20:48:04.040Z"
   },
   {
    "duration": 10,
    "start_time": "2025-06-24T20:48:04.078Z"
   },
   {
    "duration": 6,
    "start_time": "2025-06-24T20:48:04.090Z"
   },
   {
    "duration": 10,
    "start_time": "2025-06-24T20:48:04.098Z"
   },
   {
    "duration": 11,
    "start_time": "2025-06-24T20:48:04.109Z"
   },
   {
    "duration": 41,
    "start_time": "2025-06-24T20:48:04.122Z"
   },
   {
    "duration": 12,
    "start_time": "2025-06-24T20:48:04.166Z"
   },
   {
    "duration": 8,
    "start_time": "2025-06-24T20:48:04.182Z"
   },
   {
    "duration": 317,
    "start_time": "2025-06-24T20:48:04.192Z"
   },
   {
    "duration": 7,
    "start_time": "2025-06-24T20:48:04.511Z"
   },
   {
    "duration": 68,
    "start_time": "2025-06-24T20:48:04.520Z"
   },
   {
    "duration": 161,
    "start_time": "2025-06-24T20:48:04.590Z"
   },
   {
    "duration": 193,
    "start_time": "2025-06-24T20:48:04.753Z"
   },
   {
    "duration": 21,
    "start_time": "2025-06-24T20:48:04.948Z"
   },
   {
    "duration": 74,
    "start_time": "2025-06-24T20:48:04.972Z"
   },
   {
    "duration": 40,
    "start_time": "2025-06-24T20:48:05.047Z"
   },
   {
    "duration": 33,
    "start_time": "2025-06-24T20:48:05.089Z"
   },
   {
    "duration": 13,
    "start_time": "2025-06-24T20:48:05.124Z"
   },
   {
    "duration": 17,
    "start_time": "2025-06-24T20:48:05.160Z"
   },
   {
    "duration": 271,
    "start_time": "2025-06-24T20:48:05.181Z"
   },
   {
    "duration": 6,
    "start_time": "2025-06-24T20:48:05.459Z"
   },
   {
    "duration": 93,
    "start_time": "2025-06-24T20:48:05.468Z"
   },
   {
    "duration": 3,
    "start_time": "2025-06-24T20:48:05.564Z"
   },
   {
    "duration": 352,
    "start_time": "2025-06-24T20:48:05.571Z"
   },
   {
    "duration": 21,
    "start_time": "2025-06-24T20:48:05.924Z"
   },
   {
    "duration": 486,
    "start_time": "2025-06-24T20:48:05.957Z"
   },
   {
    "duration": 6,
    "start_time": "2025-06-24T20:48:06.445Z"
   },
   {
    "duration": 53,
    "start_time": "2025-06-24T20:48:06.459Z"
   },
   {
    "duration": 38,
    "start_time": "2025-06-24T20:48:06.515Z"
   },
   {
    "duration": 126,
    "start_time": "2025-06-24T20:48:06.555Z"
   },
   {
    "duration": 6,
    "start_time": "2025-06-24T20:48:06.683Z"
   },
   {
    "duration": 7,
    "start_time": "2025-06-24T20:48:06.691Z"
   },
   {
    "duration": 6,
    "start_time": "2025-06-24T20:48:06.699Z"
   },
   {
    "duration": 4,
    "start_time": "2025-06-24T20:48:06.708Z"
   },
   {
    "duration": 35,
    "start_time": "2025-06-24T20:48:06.714Z"
   },
   {
    "duration": 11,
    "start_time": "2025-06-24T20:50:11.044Z"
   },
   {
    "duration": 10,
    "start_time": "2025-06-24T20:54:02.932Z"
   },
   {
    "duration": 18,
    "start_time": "2025-06-24T20:54:12.153Z"
   },
   {
    "duration": 8,
    "start_time": "2025-06-24T20:58:57.611Z"
   },
   {
    "duration": 104,
    "start_time": "2025-06-24T21:07:16.045Z"
   },
   {
    "duration": 12,
    "start_time": "2025-06-24T21:07:23.760Z"
   },
   {
    "duration": 10,
    "start_time": "2025-06-24T21:11:46.005Z"
   },
   {
    "duration": 10,
    "start_time": "2025-06-24T21:14:11.195Z"
   },
   {
    "duration": 19,
    "start_time": "2025-06-24T21:19:24.311Z"
   },
   {
    "duration": 17,
    "start_time": "2025-06-24T21:20:35.679Z"
   },
   {
    "duration": 19,
    "start_time": "2025-06-24T21:21:07.167Z"
   },
   {
    "duration": 782,
    "start_time": "2025-06-24T21:22:11.352Z"
   },
   {
    "duration": 12,
    "start_time": "2025-06-24T21:22:48.023Z"
   },
   {
    "duration": 101,
    "start_time": "2025-06-24T21:40:45.836Z"
   },
   {
    "duration": 169,
    "start_time": "2025-06-24T21:41:45.204Z"
   },
   {
    "duration": 85,
    "start_time": "2025-06-24T21:42:00.588Z"
   },
   {
    "duration": 19,
    "start_time": "2025-06-24T21:42:30.162Z"
   },
   {
    "duration": 11,
    "start_time": "2025-06-24T21:42:53.487Z"
   },
   {
    "duration": 11,
    "start_time": "2025-06-24T21:43:14.088Z"
   },
   {
    "duration": 10,
    "start_time": "2025-06-24T21:43:22.309Z"
   },
   {
    "duration": 13,
    "start_time": "2025-06-24T21:43:33.303Z"
   },
   {
    "duration": 16,
    "start_time": "2025-06-24T21:46:54.823Z"
   },
   {
    "duration": 14,
    "start_time": "2025-06-24T21:47:13.431Z"
   },
   {
    "duration": 21,
    "start_time": "2025-06-24T21:48:15.146Z"
   },
   {
    "duration": 11,
    "start_time": "2025-06-24T21:49:47.587Z"
   },
   {
    "duration": 15,
    "start_time": "2025-06-24T21:50:16.394Z"
   },
   {
    "duration": 15,
    "start_time": "2025-06-24T21:50:24.435Z"
   },
   {
    "duration": 19,
    "start_time": "2025-06-24T21:50:33.377Z"
   },
   {
    "duration": 14,
    "start_time": "2025-06-24T21:53:53.996Z"
   },
   {
    "duration": 14,
    "start_time": "2025-06-24T21:54:07.482Z"
   },
   {
    "duration": 453,
    "start_time": "2025-06-24T21:56:24.285Z"
   },
   {
    "duration": 273,
    "start_time": "2025-06-24T21:56:24.740Z"
   },
   {
    "duration": 24,
    "start_time": "2025-06-24T21:56:25.015Z"
   },
   {
    "duration": 4,
    "start_time": "2025-06-24T21:56:25.041Z"
   },
   {
    "duration": 8,
    "start_time": "2025-06-24T21:56:25.047Z"
   },
   {
    "duration": 33,
    "start_time": "2025-06-24T21:56:25.056Z"
   },
   {
    "duration": 13,
    "start_time": "2025-06-24T21:56:25.091Z"
   },
   {
    "duration": 8,
    "start_time": "2025-06-24T21:56:25.106Z"
   },
   {
    "duration": 9,
    "start_time": "2025-06-24T21:56:25.116Z"
   },
   {
    "duration": 9,
    "start_time": "2025-06-24T21:56:25.126Z"
   },
   {
    "duration": 307,
    "start_time": "2025-06-24T21:56:25.137Z"
   },
   {
    "duration": 6,
    "start_time": "2025-06-24T21:56:25.446Z"
   },
   {
    "duration": 22,
    "start_time": "2025-06-24T21:56:25.454Z"
   },
   {
    "duration": 116,
    "start_time": "2025-06-24T21:56:25.479Z"
   },
   {
    "duration": 200,
    "start_time": "2025-06-24T21:56:25.597Z"
   },
   {
    "duration": 13,
    "start_time": "2025-06-24T21:56:25.798Z"
   },
   {
    "duration": 51,
    "start_time": "2025-06-24T21:56:25.812Z"
   },
   {
    "duration": 23,
    "start_time": "2025-06-24T21:56:25.864Z"
   },
   {
    "duration": 26,
    "start_time": "2025-06-24T21:56:25.890Z"
   },
   {
    "duration": 25,
    "start_time": "2025-06-24T21:56:25.919Z"
   },
   {
    "duration": 28,
    "start_time": "2025-06-24T21:56:25.946Z"
   },
   {
    "duration": 20,
    "start_time": "2025-06-24T21:56:25.979Z"
   },
   {
    "duration": 245,
    "start_time": "2025-06-24T21:56:26.001Z"
   },
   {
    "duration": 14,
    "start_time": "2025-06-24T21:56:26.248Z"
   },
   {
    "duration": 74,
    "start_time": "2025-06-24T21:56:26.264Z"
   },
   {
    "duration": 3,
    "start_time": "2025-06-24T21:56:26.340Z"
   },
   {
    "duration": 252,
    "start_time": "2025-06-24T21:56:26.344Z"
   },
   {
    "duration": 21,
    "start_time": "2025-06-24T21:56:26.597Z"
   },
   {
    "duration": 558,
    "start_time": "2025-06-24T21:56:26.620Z"
   },
   {
    "duration": 5,
    "start_time": "2025-06-24T21:56:27.185Z"
   },
   {
    "duration": 7,
    "start_time": "2025-06-24T21:56:27.192Z"
   },
   {
    "duration": 5,
    "start_time": "2025-06-24T21:56:27.200Z"
   },
   {
    "duration": 16,
    "start_time": "2025-06-24T21:56:27.206Z"
   },
   {
    "duration": 6,
    "start_time": "2025-06-24T21:56:27.224Z"
   },
   {
    "duration": 5,
    "start_time": "2025-06-24T21:56:27.232Z"
   },
   {
    "duration": 6,
    "start_time": "2025-06-24T21:56:27.258Z"
   },
   {
    "duration": 86,
    "start_time": "2025-06-24T21:56:27.265Z"
   },
   {
    "duration": 19,
    "start_time": "2025-06-24T21:56:27.353Z"
   },
   {
    "duration": 11,
    "start_time": "2025-06-24T21:58:08.679Z"
   },
   {
    "duration": 11,
    "start_time": "2025-06-24T21:58:22.449Z"
   },
   {
    "duration": 419,
    "start_time": "2025-06-25T05:27:38.823Z"
   },
   {
    "duration": 505,
    "start_time": "2025-06-25T05:27:39.244Z"
   },
   {
    "duration": 26,
    "start_time": "2025-06-25T05:27:39.751Z"
   },
   {
    "duration": 4,
    "start_time": "2025-06-25T05:27:39.778Z"
   },
   {
    "duration": 9,
    "start_time": "2025-06-25T05:27:39.784Z"
   },
   {
    "duration": 16,
    "start_time": "2025-06-25T05:27:39.794Z"
   },
   {
    "duration": 10,
    "start_time": "2025-06-25T05:27:39.812Z"
   },
   {
    "duration": 7,
    "start_time": "2025-06-25T05:27:39.824Z"
   },
   {
    "duration": 29,
    "start_time": "2025-06-25T05:27:39.833Z"
   },
   {
    "duration": 8,
    "start_time": "2025-06-25T05:27:39.863Z"
   },
   {
    "duration": 423,
    "start_time": "2025-06-25T05:27:39.873Z"
   },
   {
    "duration": 8,
    "start_time": "2025-06-25T05:27:40.298Z"
   },
   {
    "duration": 35,
    "start_time": "2025-06-25T05:27:40.307Z"
   },
   {
    "duration": 101,
    "start_time": "2025-06-25T05:27:40.345Z"
   },
   {
    "duration": 192,
    "start_time": "2025-06-25T05:27:40.448Z"
   },
   {
    "duration": 8,
    "start_time": "2025-06-25T05:27:40.642Z"
   },
   {
    "duration": 6,
    "start_time": "2025-06-25T05:27:40.661Z"
   },
   {
    "duration": 37,
    "start_time": "2025-06-25T05:27:40.669Z"
   },
   {
    "duration": 25,
    "start_time": "2025-06-25T05:27:40.708Z"
   },
   {
    "duration": 30,
    "start_time": "2025-06-25T05:27:40.735Z"
   },
   {
    "duration": 11,
    "start_time": "2025-06-25T05:27:40.767Z"
   },
   {
    "duration": 244,
    "start_time": "2025-06-25T05:27:40.779Z"
   },
   {
    "duration": 4,
    "start_time": "2025-06-25T05:27:41.025Z"
   },
   {
    "duration": 218,
    "start_time": "2025-06-25T05:27:41.030Z"
   },
   {
    "duration": 3,
    "start_time": "2025-06-25T05:27:41.250Z"
   },
   {
    "duration": 220,
    "start_time": "2025-06-25T05:27:41.259Z"
   },
   {
    "duration": 22,
    "start_time": "2025-06-25T05:27:41.481Z"
   },
   {
    "duration": 556,
    "start_time": "2025-06-25T05:27:41.504Z"
   },
   {
    "duration": 6,
    "start_time": "2025-06-25T05:27:42.061Z"
   },
   {
    "duration": 11,
    "start_time": "2025-06-25T05:27:42.068Z"
   },
   {
    "duration": 4,
    "start_time": "2025-06-25T05:27:42.081Z"
   },
   {
    "duration": 8,
    "start_time": "2025-06-25T05:27:42.087Z"
   },
   {
    "duration": 8,
    "start_time": "2025-06-25T05:27:42.096Z"
   },
   {
    "duration": 4,
    "start_time": "2025-06-25T05:27:42.106Z"
   },
   {
    "duration": 7,
    "start_time": "2025-06-25T05:27:42.112Z"
   },
   {
    "duration": 41,
    "start_time": "2025-06-25T05:27:42.120Z"
   },
   {
    "duration": 11,
    "start_time": "2025-06-25T05:27:42.163Z"
   },
   {
    "duration": 9,
    "start_time": "2025-06-25T05:30:10.681Z"
   },
   {
    "duration": 9,
    "start_time": "2025-06-25T05:46:37.196Z"
   },
   {
    "duration": 7,
    "start_time": "2025-06-25T06:10:23.704Z"
   },
   {
    "duration": 23,
    "start_time": "2025-06-25T06:22:54.307Z"
   },
   {
    "duration": 436,
    "start_time": "2025-06-25T06:23:29.836Z"
   },
   {
    "duration": 130,
    "start_time": "2025-06-25T06:23:30.274Z"
   },
   {
    "duration": 24,
    "start_time": "2025-06-25T06:23:30.406Z"
   },
   {
    "duration": 4,
    "start_time": "2025-06-25T06:23:30.432Z"
   },
   {
    "duration": 6,
    "start_time": "2025-06-25T06:23:30.437Z"
   },
   {
    "duration": 15,
    "start_time": "2025-06-25T06:23:30.445Z"
   },
   {
    "duration": 11,
    "start_time": "2025-06-25T06:23:30.462Z"
   },
   {
    "duration": 6,
    "start_time": "2025-06-25T06:23:30.474Z"
   },
   {
    "duration": 7,
    "start_time": "2025-06-25T06:23:30.482Z"
   },
   {
    "duration": 7,
    "start_time": "2025-06-25T06:23:30.491Z"
   },
   {
    "duration": 243,
    "start_time": "2025-06-25T06:23:30.499Z"
   },
   {
    "duration": 6,
    "start_time": "2025-06-25T06:23:30.744Z"
   },
   {
    "duration": 7,
    "start_time": "2025-06-25T06:23:30.761Z"
   },
   {
    "duration": 109,
    "start_time": "2025-06-25T06:23:30.770Z"
   },
   {
    "duration": 182,
    "start_time": "2025-06-25T06:23:30.881Z"
   },
   {
    "duration": 9,
    "start_time": "2025-06-25T06:23:31.065Z"
   },
   {
    "duration": 14,
    "start_time": "2025-06-25T06:23:31.076Z"
   },
   {
    "duration": 25,
    "start_time": "2025-06-25T06:23:31.092Z"
   },
   {
    "duration": 46,
    "start_time": "2025-06-25T06:23:31.119Z"
   },
   {
    "duration": 13,
    "start_time": "2025-06-25T06:23:31.166Z"
   },
   {
    "duration": 11,
    "start_time": "2025-06-25T06:23:31.181Z"
   },
   {
    "duration": 301,
    "start_time": "2025-06-25T06:23:31.194Z"
   },
   {
    "duration": 4,
    "start_time": "2025-06-25T06:23:31.497Z"
   },
   {
    "duration": 85,
    "start_time": "2025-06-25T06:23:31.502Z"
   },
   {
    "duration": 4,
    "start_time": "2025-06-25T06:23:31.589Z"
   },
   {
    "duration": 328,
    "start_time": "2025-06-25T06:23:31.596Z"
   },
   {
    "duration": 23,
    "start_time": "2025-06-25T06:23:31.926Z"
   },
   {
    "duration": 480,
    "start_time": "2025-06-25T06:23:31.963Z"
   },
   {
    "duration": 5,
    "start_time": "2025-06-25T06:23:32.444Z"
   },
   {
    "duration": 32,
    "start_time": "2025-06-25T06:23:32.450Z"
   },
   {
    "duration": 5,
    "start_time": "2025-06-25T06:23:32.484Z"
   },
   {
    "duration": 9,
    "start_time": "2025-06-25T06:23:32.490Z"
   },
   {
    "duration": 10,
    "start_time": "2025-06-25T06:23:32.501Z"
   },
   {
    "duration": 126,
    "start_time": "2025-06-25T06:23:32.512Z"
   },
   {
    "duration": 6,
    "start_time": "2025-06-25T06:23:32.640Z"
   },
   {
    "duration": 5,
    "start_time": "2025-06-25T06:23:32.648Z"
   },
   {
    "duration": 12,
    "start_time": "2025-06-25T06:23:32.654Z"
   },
   {
    "duration": 23,
    "start_time": "2025-06-25T06:25:42.870Z"
   },
   {
    "duration": 20,
    "start_time": "2025-06-25T06:31:22.521Z"
   },
   {
    "duration": 114,
    "start_time": "2025-06-25T06:31:42.306Z"
   },
   {
    "duration": 20,
    "start_time": "2025-06-25T06:31:59.638Z"
   },
   {
    "duration": 23,
    "start_time": "2025-06-25T06:35:20.154Z"
   },
   {
    "duration": 12,
    "start_time": "2025-06-25T06:36:18.069Z"
   },
   {
    "duration": 13,
    "start_time": "2025-06-25T06:36:33.512Z"
   },
   {
    "duration": 31,
    "start_time": "2025-06-25T06:36:45.771Z"
   },
   {
    "duration": 15,
    "start_time": "2025-06-25T06:40:08.428Z"
   },
   {
    "duration": 1175,
    "start_time": "2025-06-25T06:40:29.893Z"
   },
   {
    "duration": 1065,
    "start_time": "2025-06-25T06:40:47.716Z"
   },
   {
    "duration": 1195,
    "start_time": "2025-06-25T06:40:59.837Z"
   },
   {
    "duration": 13,
    "start_time": "2025-06-25T06:41:13.846Z"
   },
   {
    "duration": 14,
    "start_time": "2025-06-25T06:42:06.133Z"
   },
   {
    "duration": 20,
    "start_time": "2025-06-25T06:42:15.861Z"
   },
   {
    "duration": 4,
    "start_time": "2025-06-25T06:55:42.807Z"
   },
   {
    "duration": 4,
    "start_time": "2025-06-25T07:08:41.271Z"
   },
   {
    "duration": 71,
    "start_time": "2025-06-25T07:49:03.607Z"
   },
   {
    "duration": 4,
    "start_time": "2025-06-25T07:49:40.078Z"
   },
   {
    "duration": 5,
    "start_time": "2025-06-25T07:50:10.409Z"
   },
   {
    "duration": 84,
    "start_time": "2025-06-25T07:51:17.260Z"
   },
   {
    "duration": 5,
    "start_time": "2025-06-25T07:52:28.196Z"
   },
   {
    "duration": 5,
    "start_time": "2025-06-25T07:52:43.668Z"
   },
   {
    "duration": 4,
    "start_time": "2025-06-25T07:55:28.763Z"
   },
   {
    "duration": 5,
    "start_time": "2025-06-25T07:56:08.731Z"
   },
   {
    "duration": 4,
    "start_time": "2025-06-25T07:56:47.118Z"
   },
   {
    "duration": 5,
    "start_time": "2025-06-25T07:57:23.998Z"
   },
   {
    "duration": 443,
    "start_time": "2025-06-25T08:06:45.944Z"
   },
   {
    "duration": 118,
    "start_time": "2025-06-25T08:06:46.389Z"
   },
   {
    "duration": 28,
    "start_time": "2025-06-25T08:06:46.509Z"
   },
   {
    "duration": 8,
    "start_time": "2025-06-25T08:06:46.539Z"
   },
   {
    "duration": 56,
    "start_time": "2025-06-25T08:06:46.549Z"
   },
   {
    "duration": 20,
    "start_time": "2025-06-25T08:06:46.606Z"
   },
   {
    "duration": 14,
    "start_time": "2025-06-25T08:06:46.628Z"
   },
   {
    "duration": 8,
    "start_time": "2025-06-25T08:06:46.643Z"
   },
   {
    "duration": 13,
    "start_time": "2025-06-25T08:06:46.653Z"
   },
   {
    "duration": 26,
    "start_time": "2025-06-25T08:06:46.669Z"
   },
   {
    "duration": 280,
    "start_time": "2025-06-25T08:06:46.696Z"
   },
   {
    "duration": 7,
    "start_time": "2025-06-25T08:06:46.978Z"
   },
   {
    "duration": 71,
    "start_time": "2025-06-25T08:06:46.987Z"
   },
   {
    "duration": 102,
    "start_time": "2025-06-25T08:06:47.061Z"
   },
   {
    "duration": 176,
    "start_time": "2025-06-25T08:06:47.165Z"
   },
   {
    "duration": 17,
    "start_time": "2025-06-25T08:06:47.343Z"
   },
   {
    "duration": 8,
    "start_time": "2025-06-25T08:06:47.363Z"
   },
   {
    "duration": 27,
    "start_time": "2025-06-25T08:06:47.372Z"
   },
   {
    "duration": 28,
    "start_time": "2025-06-25T08:06:47.401Z"
   },
   {
    "duration": 13,
    "start_time": "2025-06-25T08:06:47.460Z"
   },
   {
    "duration": 52,
    "start_time": "2025-06-25T08:06:47.476Z"
   },
   {
    "duration": 225,
    "start_time": "2025-06-25T08:06:47.529Z"
   },
   {
    "duration": 4,
    "start_time": "2025-06-25T08:06:47.756Z"
   },
   {
    "duration": 155,
    "start_time": "2025-06-25T08:06:47.762Z"
   },
   {
    "duration": 4,
    "start_time": "2025-06-25T08:06:47.919Z"
   },
   {
    "duration": 215,
    "start_time": "2025-06-25T08:06:47.924Z"
   },
   {
    "duration": 31,
    "start_time": "2025-06-25T08:06:48.141Z"
   },
   {
    "duration": 484,
    "start_time": "2025-06-25T08:06:48.176Z"
   },
   {
    "duration": 5,
    "start_time": "2025-06-25T08:06:48.662Z"
   },
   {
    "duration": 8,
    "start_time": "2025-06-25T08:06:48.669Z"
   },
   {
    "duration": 6,
    "start_time": "2025-06-25T08:06:48.679Z"
   },
   {
    "duration": 9,
    "start_time": "2025-06-25T08:06:48.687Z"
   },
   {
    "duration": 4,
    "start_time": "2025-06-25T08:06:48.698Z"
   },
   {
    "duration": 5,
    "start_time": "2025-06-25T08:06:48.703Z"
   },
   {
    "duration": 5,
    "start_time": "2025-06-25T08:06:48.710Z"
   },
   {
    "duration": 6,
    "start_time": "2025-06-25T08:06:48.761Z"
   },
   {
    "duration": 9,
    "start_time": "2025-06-25T08:06:48.769Z"
   },
   {
    "duration": 4,
    "start_time": "2025-06-25T08:09:40.638Z"
   },
   {
    "duration": 5,
    "start_time": "2025-06-25T08:10:32.920Z"
   },
   {
    "duration": 5,
    "start_time": "2025-06-25T08:14:54.936Z"
   },
   {
    "duration": 440,
    "start_time": "2025-06-25T08:16:15.568Z"
   },
   {
    "duration": 118,
    "start_time": "2025-06-25T08:16:16.010Z"
   },
   {
    "duration": 26,
    "start_time": "2025-06-25T08:16:16.130Z"
   },
   {
    "duration": 4,
    "start_time": "2025-06-25T08:16:16.157Z"
   },
   {
    "duration": 11,
    "start_time": "2025-06-25T08:16:16.163Z"
   },
   {
    "duration": 11,
    "start_time": "2025-06-25T08:16:16.176Z"
   },
   {
    "duration": 11,
    "start_time": "2025-06-25T08:16:16.189Z"
   },
   {
    "duration": 7,
    "start_time": "2025-06-25T08:16:16.202Z"
   },
   {
    "duration": 19,
    "start_time": "2025-06-25T08:16:16.211Z"
   },
   {
    "duration": 30,
    "start_time": "2025-06-25T08:16:16.232Z"
   },
   {
    "duration": 258,
    "start_time": "2025-06-25T08:16:16.264Z"
   },
   {
    "duration": 6,
    "start_time": "2025-06-25T08:16:16.524Z"
   },
   {
    "duration": 21,
    "start_time": "2025-06-25T08:16:16.532Z"
   },
   {
    "duration": 108,
    "start_time": "2025-06-25T08:16:16.561Z"
   },
   {
    "duration": 186,
    "start_time": "2025-06-25T08:16:16.670Z"
   },
   {
    "duration": 10,
    "start_time": "2025-06-25T08:16:16.860Z"
   },
   {
    "duration": 28,
    "start_time": "2025-06-25T08:16:16.871Z"
   },
   {
    "duration": 41,
    "start_time": "2025-06-25T08:16:16.901Z"
   },
   {
    "duration": 27,
    "start_time": "2025-06-25T08:16:16.944Z"
   },
   {
    "duration": 23,
    "start_time": "2025-06-25T08:16:16.973Z"
   },
   {
    "duration": 75,
    "start_time": "2025-06-25T08:16:16.998Z"
   },
   {
    "duration": 226,
    "start_time": "2025-06-25T08:16:17.075Z"
   },
   {
    "duration": 4,
    "start_time": "2025-06-25T08:16:17.303Z"
   },
   {
    "duration": 80,
    "start_time": "2025-06-25T08:16:17.309Z"
   },
   {
    "duration": 3,
    "start_time": "2025-06-25T08:16:17.391Z"
   },
   {
    "duration": 217,
    "start_time": "2025-06-25T08:16:17.395Z"
   },
   {
    "duration": 20,
    "start_time": "2025-06-25T08:16:17.614Z"
   },
   {
    "duration": 554,
    "start_time": "2025-06-25T08:16:17.636Z"
   },
   {
    "duration": 5,
    "start_time": "2025-06-25T08:16:18.193Z"
   },
   {
    "duration": 8,
    "start_time": "2025-06-25T08:16:18.200Z"
   },
   {
    "duration": 6,
    "start_time": "2025-06-25T08:16:18.211Z"
   },
   {
    "duration": 45,
    "start_time": "2025-06-25T08:16:18.218Z"
   },
   {
    "duration": 5,
    "start_time": "2025-06-25T08:16:18.265Z"
   },
   {
    "duration": 6,
    "start_time": "2025-06-25T08:16:18.272Z"
   },
   {
    "duration": 7,
    "start_time": "2025-06-25T08:16:18.280Z"
   },
   {
    "duration": 6,
    "start_time": "2025-06-25T08:16:18.289Z"
   },
   {
    "duration": 91,
    "start_time": "2025-06-25T08:16:18.298Z"
   },
   {
    "duration": 449,
    "start_time": "2025-06-25T14:43:52.372Z"
   },
   {
    "duration": 247,
    "start_time": "2025-06-25T14:43:52.823Z"
   },
   {
    "duration": 27,
    "start_time": "2025-06-25T14:43:53.072Z"
   },
   {
    "duration": 34,
    "start_time": "2025-06-25T14:43:53.102Z"
   },
   {
    "duration": 41,
    "start_time": "2025-06-25T14:43:53.140Z"
   },
   {
    "duration": 51,
    "start_time": "2025-06-25T14:43:53.183Z"
   },
   {
    "duration": 45,
    "start_time": "2025-06-25T14:43:53.236Z"
   },
   {
    "duration": 77,
    "start_time": "2025-06-25T14:43:53.283Z"
   },
   {
    "duration": 50,
    "start_time": "2025-06-25T14:43:53.365Z"
   },
   {
    "duration": 58,
    "start_time": "2025-06-25T14:43:53.417Z"
   },
   {
    "duration": 528,
    "start_time": "2025-06-25T14:43:53.477Z"
   },
   {
    "duration": 8,
    "start_time": "2025-06-25T14:43:54.007Z"
   },
   {
    "duration": 153,
    "start_time": "2025-06-25T14:43:54.016Z"
   },
   {
    "duration": 162,
    "start_time": "2025-06-25T14:43:54.172Z"
   },
   {
    "duration": 197,
    "start_time": "2025-06-25T14:43:54.336Z"
   },
   {
    "duration": 14,
    "start_time": "2025-06-25T14:43:54.535Z"
   },
   {
    "duration": 14,
    "start_time": "2025-06-25T14:43:54.561Z"
   },
   {
    "duration": 38,
    "start_time": "2025-06-25T14:43:54.576Z"
   },
   {
    "duration": 44,
    "start_time": "2025-06-25T14:43:54.616Z"
   },
   {
    "duration": 19,
    "start_time": "2025-06-25T14:43:54.662Z"
   },
   {
    "duration": 28,
    "start_time": "2025-06-25T14:43:54.683Z"
   },
   {
    "duration": 274,
    "start_time": "2025-06-25T14:43:54.713Z"
   },
   {
    "duration": 4,
    "start_time": "2025-06-25T14:43:54.988Z"
   },
   {
    "duration": 164,
    "start_time": "2025-06-25T14:43:54.994Z"
   },
   {
    "duration": 4,
    "start_time": "2025-06-25T14:43:55.160Z"
   },
   {
    "duration": 334,
    "start_time": "2025-06-25T14:43:55.165Z"
   },
   {
    "duration": 19,
    "start_time": "2025-06-25T14:43:55.501Z"
   },
   {
    "duration": 484,
    "start_time": "2025-06-25T14:43:55.522Z"
   },
   {
    "duration": 5,
    "start_time": "2025-06-25T14:43:56.008Z"
   },
   {
    "duration": 129,
    "start_time": "2025-06-25T14:43:56.015Z"
   },
   {
    "duration": 24,
    "start_time": "2025-06-25T14:43:56.148Z"
   },
   {
    "duration": 72,
    "start_time": "2025-06-25T14:43:56.174Z"
   },
   {
    "duration": 123,
    "start_time": "2025-06-25T14:43:56.248Z"
   },
   {
    "duration": 24,
    "start_time": "2025-06-25T14:43:56.373Z"
   },
   {
    "duration": 12,
    "start_time": "2025-06-25T14:43:56.398Z"
   },
   {
    "duration": 20,
    "start_time": "2025-06-25T14:43:56.412Z"
   },
   {
    "duration": 23,
    "start_time": "2025-06-25T14:43:56.434Z"
   },
   {
    "duration": 5,
    "start_time": "2025-06-25T14:44:44.231Z"
   },
   {
    "duration": 5,
    "start_time": "2025-06-25T15:04:48.301Z"
   },
   {
    "duration": 6,
    "start_time": "2025-06-25T15:09:06.161Z"
   },
   {
    "duration": 17,
    "start_time": "2025-06-25T15:13:06.698Z"
   },
   {
    "duration": 12,
    "start_time": "2025-06-25T15:15:06.237Z"
   },
   {
    "duration": 5,
    "start_time": "2025-06-25T15:22:01.876Z"
   },
   {
    "duration": 7,
    "start_time": "2025-06-25T15:40:12.783Z"
   },
   {
    "duration": 7,
    "start_time": "2025-06-25T15:42:58.695Z"
   },
   {
    "duration": 6,
    "start_time": "2025-06-25T15:49:52.383Z"
   },
   {
    "duration": 5,
    "start_time": "2025-06-25T16:03:06.306Z"
   },
   {
    "duration": 7,
    "start_time": "2025-06-25T16:04:53.308Z"
   }
  ],
  "colab": {
   "provenance": [],
   "toc_visible": true
  },
  "kernelspec": {
   "display_name": "Python 3 (ipykernel)",
   "language": "python",
   "name": "python3"
  },
  "language_info": {
   "codemirror_mode": {
    "name": "ipython",
    "version": 3
   },
   "file_extension": ".py",
   "mimetype": "text/x-python",
   "name": "python",
   "nbconvert_exporter": "python",
   "pygments_lexer": "ipython3",
   "version": "3.9.12"
  },
  "toc": {
   "base_numbering": 1,
   "nav_menu": {},
   "number_sections": true,
   "sideBar": true,
   "skip_h1_title": true,
   "title_cell": "Table of Contents",
   "title_sidebar": "Contents",
   "toc_cell": false,
   "toc_position": {},
   "toc_section_display": true,
   "toc_window_display": false
  }
 },
 "nbformat": 4,
 "nbformat_minor": 1
}
