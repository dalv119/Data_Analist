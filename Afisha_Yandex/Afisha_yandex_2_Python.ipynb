{
 "cells": [
  {
   "cell_type": "markdown",
   "metadata": {},
   "source": [
    "# Проект: Исследовательский анализ данных сервиса Яндекс Афиша\n",
    "\n",
    "- Автор: Владимир Добров\n",
    "- Дата: 2025-08-01"
   ]
  },
  {
   "cell_type": "markdown",
   "metadata": {},
   "source": [
    "## Цель и задача исследования  \n",
    "\n",
    "**Цель:**   \n",
    "Провести исследовательский анализ данных в Python, чтобы выявить инсайты об изменении пользовательских предпочтений и популярности событий осенью 2024 года, а также проверить гипотезы о разнице в поведении пользователей с мобильными и стационарными устройствами.  \n",
    "\n",
    "**Задачи:**\n",
    "1. Загрузить данные и познакомиться с их содержимым.\n",
    "2. Провести предобработку данных.\n",
    "3. Провести исследовательский анализ данных:\n",
    "    - Анализ распределения заказов по сегментам и их сезонные изменения;\n",
    "    - Осенняя активность пользователейОсенняя активность пользователей;\n",
    "    - Популярные события и партнёры.\n",
    "4. Статистический анализ данных\n",
    "5. Сформулировать выводы по проведённому анализу."
   ]
  },
  {
   "cell_type": "markdown",
   "metadata": {
    "id": "LJBRALHs0eMf"
   },
   "source": [
    "## Описание данных\n",
    "\n",
    "Данные состоят из трёх датасетов:  \n",
    "\n",
    "#### Таблица `final_tickets_orders_df.csv`\n",
    "Содержит информацию обо всех заказах билетов, совершённых с двух типов устройств — мобильных и стационарных:  \n",
    "\n",
    "- order_id — уникальный идентификатор заказа.\n",
    "- user_id — уникальный идентификатор пользователя.\n",
    "- created_dt_msk — дата создания заказа (московское время).\n",
    "- created_ts_msk — дата и время создания заказа (московское время).\n",
    "- event_id — идентификатор мероприятия из таблицы events.\n",
    "- cinema_circuit — сеть кинотеатров. Если не применимо, то здесь будет значение 'нет'.\n",
    "- age_limit — возрастное ограничение мероприятия.\n",
    "- currency_code — валюта оплаты, например rub для российских рублей.\n",
    "- device_type_canonical — тип устройства, с которого был оформлен заказ, например mobile для мобильных устройств, desktop для стационарных.\n",
    "- revenue — выручка от заказа.\n",
    "- service_name — название билетного оператора.\n",
    "- tickets_count — количество купленных билетов.\n",
    "- total — общая сумма заказа.\n",
    "- days_since_prev - количество дней с предыдущей покупки для каждого пользователя. Если покупки не было, то данные содержат пропуск.\n",
    "\n",
    "#### Таблица `final_tickets_events_df.csv`\n",
    "Содержит информацию о событиях, включая город и регион события, а также информацию о площадке проведения мероприятия:  \n",
    "\n",
    "- event_id — уникальный идентификатор мероприятия.\n",
    "- event_name — название мероприятия. Аналог поля event_name_code из исходной базы данных.\n",
    "- event_type_description — описание типа мероприятия.\n",
    "- event_type_main — основной тип мероприятия: театральная постановка, концерт и так далее.\n",
    "- organizers — организаторы мероприятия.\n",
    "- region_name — название региона.\n",
    "- city_name — название города.\n",
    "- venue_id — уникальный идентификатор площадки.\n",
    "- venue_name — название площадки.\n",
    "- venue_address — адрес площадки.\n",
    "\n",
    "#### Таблица `final_tickets_tenge_df.csv`\n",
    "Содержит информацию о с информацией о курсе тенге к российскому рублю за 2024 год. Значения в рублях представлено для 100 тенге:  \n",
    "\n",
    "- nominal — номинал (100 тенге).\n",
    "- data — дата.\n",
    "- curs — курс тенге к рублю.\n",
    "- cdx — обозначение валюты (kzt)."
   ]
  },
  {
   "cell_type": "markdown",
   "metadata": {},
   "source": [
    "### 1. Загрузка данных и знакомство с их содержимым"
   ]
  },
  {
   "cell_type": "code",
   "execution_count": 1,
   "metadata": {},
   "outputs": [
    {
     "name": "stdout",
     "output_type": "stream",
     "text": [
      "Requirement already satisfied: matplotlib-venn in c:\\users\\11961\\anaconda3\\lib\\site-packages (1.1.2)\n",
      "Requirement already satisfied: numpy in c:\\users\\11961\\anaconda3\\lib\\site-packages (from matplotlib-venn) (1.26.4)\n",
      "Requirement already satisfied: scipy in c:\\users\\11961\\anaconda3\\lib\\site-packages (from matplotlib-venn) (1.13.1)\n",
      "Requirement already satisfied: matplotlib in c:\\users\\11961\\anaconda3\\lib\\site-packages (from matplotlib-venn) (3.5.1)\n",
      "Requirement already satisfied: packaging>=20.0 in c:\\users\\11961\\anaconda3\\lib\\site-packages (from matplotlib->matplotlib-venn) (21.3)\n",
      "Requirement already satisfied: cycler>=0.10 in c:\\users\\11961\\anaconda3\\lib\\site-packages (from matplotlib->matplotlib-venn) (0.11.0)\n",
      "Requirement already satisfied: kiwisolver>=1.0.1 in c:\\users\\11961\\anaconda3\\lib\\site-packages (from matplotlib->matplotlib-venn) (1.3.2)\n",
      "Requirement already satisfied: pyparsing>=2.2.1 in c:\\users\\11961\\anaconda3\\lib\\site-packages (from matplotlib->matplotlib-venn) (3.0.4)\n",
      "Requirement already satisfied: pillow>=6.2.0 in c:\\users\\11961\\anaconda3\\lib\\site-packages (from matplotlib->matplotlib-venn) (9.0.1)\n",
      "Requirement already satisfied: fonttools>=4.22.0 in c:\\users\\11961\\anaconda3\\lib\\site-packages (from matplotlib->matplotlib-venn) (4.25.0)\n",
      "Requirement already satisfied: python-dateutil>=2.7 in c:\\users\\11961\\anaconda3\\lib\\site-packages (from matplotlib->matplotlib-venn) (2.8.2)\n",
      "Requirement already satisfied: six>=1.5 in c:\\users\\11961\\anaconda3\\lib\\site-packages (from python-dateutil>=2.7->matplotlib->matplotlib-venn) (1.16.0)\n"
     ]
    }
   ],
   "source": [
    "# Устанавливаем библиотеку визуализации данных\n",
    "!pip install matplotlib-venn"
   ]
  },
  {
   "cell_type": "code",
   "execution_count": 2,
   "metadata": {},
   "outputs": [],
   "source": [
    "# Импортируем библиотеки\n",
    "import pandas as pd\n",
    "\n",
    "import numpy as np\n",
    "# import datetime\n",
    "\n",
    "from math import ceil\n",
    "from scipy.stats import ttest_ind\n",
    "from statsmodels.stats.power import NormalIndPower\n",
    "from statsmodels.stats.proportion import proportion_effectsize\n",
    "from statsmodels.stats.proportion import proportions_ztest\n",
    "\n",
    "# Импортируем библиотеки для визуализации данных\n",
    "import matplotlib.pyplot as plt\n",
    "from matplotlib_venn import venn2"
   ]
  },
  {
   "cell_type": "code",
   "execution_count": 3,
   "metadata": {},
   "outputs": [
    {
     "data": {
      "text/html": [
       "<div>\n",
       "<style scoped>\n",
       "    .dataframe tbody tr th:only-of-type {\n",
       "        vertical-align: middle;\n",
       "    }\n",
       "\n",
       "    .dataframe tbody tr th {\n",
       "        vertical-align: top;\n",
       "    }\n",
       "\n",
       "    .dataframe thead th {\n",
       "        text-align: right;\n",
       "    }\n",
       "</style>\n",
       "<table border=\"1\" class=\"dataframe\">\n",
       "  <thead>\n",
       "    <tr style=\"text-align: right;\">\n",
       "      <th></th>\n",
       "      <th>order_id</th>\n",
       "      <th>user_id</th>\n",
       "      <th>created_dt_msk</th>\n",
       "      <th>created_ts_msk</th>\n",
       "      <th>event_id</th>\n",
       "      <th>cinema_circuit</th>\n",
       "      <th>age_limit</th>\n",
       "      <th>currency_code</th>\n",
       "      <th>device_type_canonical</th>\n",
       "      <th>revenue</th>\n",
       "      <th>service_name</th>\n",
       "      <th>tickets_count</th>\n",
       "      <th>total</th>\n",
       "      <th>days_since_prev</th>\n",
       "    </tr>\n",
       "  </thead>\n",
       "  <tbody>\n",
       "    <tr>\n",
       "      <th>0</th>\n",
       "      <td>4359165</td>\n",
       "      <td>0002849b70a3ce2</td>\n",
       "      <td>2024-08-20</td>\n",
       "      <td>2024-08-20 16:08:03</td>\n",
       "      <td>169230</td>\n",
       "      <td>нет</td>\n",
       "      <td>16</td>\n",
       "      <td>rub</td>\n",
       "      <td>mobile</td>\n",
       "      <td>1521.94</td>\n",
       "      <td>Край билетов</td>\n",
       "      <td>4</td>\n",
       "      <td>10870.99</td>\n",
       "      <td>NaN</td>\n",
       "    </tr>\n",
       "    <tr>\n",
       "      <th>1</th>\n",
       "      <td>7965605</td>\n",
       "      <td>0005ca5e93f2cf4</td>\n",
       "      <td>2024-07-23</td>\n",
       "      <td>2024-07-23 18:36:24</td>\n",
       "      <td>237325</td>\n",
       "      <td>нет</td>\n",
       "      <td>0</td>\n",
       "      <td>rub</td>\n",
       "      <td>mobile</td>\n",
       "      <td>289.45</td>\n",
       "      <td>Мой билет</td>\n",
       "      <td>2</td>\n",
       "      <td>2067.51</td>\n",
       "      <td>NaN</td>\n",
       "    </tr>\n",
       "    <tr>\n",
       "      <th>2</th>\n",
       "      <td>7292370</td>\n",
       "      <td>0005ca5e93f2cf4</td>\n",
       "      <td>2024-10-06</td>\n",
       "      <td>2024-10-06 13:56:02</td>\n",
       "      <td>578454</td>\n",
       "      <td>нет</td>\n",
       "      <td>0</td>\n",
       "      <td>rub</td>\n",
       "      <td>mobile</td>\n",
       "      <td>1258.57</td>\n",
       "      <td>За билетом!</td>\n",
       "      <td>4</td>\n",
       "      <td>13984.16</td>\n",
       "      <td>75.0</td>\n",
       "    </tr>\n",
       "    <tr>\n",
       "      <th>3</th>\n",
       "      <td>1139875</td>\n",
       "      <td>000898990054619</td>\n",
       "      <td>2024-07-13</td>\n",
       "      <td>2024-07-13 19:40:48</td>\n",
       "      <td>387271</td>\n",
       "      <td>нет</td>\n",
       "      <td>0</td>\n",
       "      <td>rub</td>\n",
       "      <td>mobile</td>\n",
       "      <td>8.49</td>\n",
       "      <td>Лови билет!</td>\n",
       "      <td>2</td>\n",
       "      <td>212.28</td>\n",
       "      <td>NaN</td>\n",
       "    </tr>\n",
       "    <tr>\n",
       "      <th>4</th>\n",
       "      <td>972400</td>\n",
       "      <td>000898990054619</td>\n",
       "      <td>2024-10-04</td>\n",
       "      <td>2024-10-04 22:33:15</td>\n",
       "      <td>509453</td>\n",
       "      <td>нет</td>\n",
       "      <td>18</td>\n",
       "      <td>rub</td>\n",
       "      <td>mobile</td>\n",
       "      <td>1390.41</td>\n",
       "      <td>Билеты без проблем</td>\n",
       "      <td>3</td>\n",
       "      <td>10695.43</td>\n",
       "      <td>83.0</td>\n",
       "    </tr>\n",
       "  </tbody>\n",
       "</table>\n",
       "</div>"
      ],
      "text/plain": [
       "   order_id          user_id created_dt_msk       created_ts_msk  event_id  \\\n",
       "0   4359165  0002849b70a3ce2     2024-08-20  2024-08-20 16:08:03    169230   \n",
       "1   7965605  0005ca5e93f2cf4     2024-07-23  2024-07-23 18:36:24    237325   \n",
       "2   7292370  0005ca5e93f2cf4     2024-10-06  2024-10-06 13:56:02    578454   \n",
       "3   1139875  000898990054619     2024-07-13  2024-07-13 19:40:48    387271   \n",
       "4    972400  000898990054619     2024-10-04  2024-10-04 22:33:15    509453   \n",
       "\n",
       "  cinema_circuit  age_limit currency_code device_type_canonical  revenue  \\\n",
       "0            нет         16           rub                mobile  1521.94   \n",
       "1            нет          0           rub                mobile   289.45   \n",
       "2            нет          0           rub                mobile  1258.57   \n",
       "3            нет          0           rub                mobile     8.49   \n",
       "4            нет         18           rub                mobile  1390.41   \n",
       "\n",
       "         service_name  tickets_count     total  days_since_prev  \n",
       "0        Край билетов              4  10870.99              NaN  \n",
       "1           Мой билет              2   2067.51              NaN  \n",
       "2         За билетом!              4  13984.16             75.0  \n",
       "3         Лови билет!              2    212.28              NaN  \n",
       "4  Билеты без проблем              3  10695.43             83.0  "
      ]
     },
     "metadata": {},
     "output_type": "display_data"
    },
    {
     "data": {
      "text/html": [
       "<div>\n",
       "<style scoped>\n",
       "    .dataframe tbody tr th:only-of-type {\n",
       "        vertical-align: middle;\n",
       "    }\n",
       "\n",
       "    .dataframe tbody tr th {\n",
       "        vertical-align: top;\n",
       "    }\n",
       "\n",
       "    .dataframe thead th {\n",
       "        text-align: right;\n",
       "    }\n",
       "</style>\n",
       "<table border=\"1\" class=\"dataframe\">\n",
       "  <thead>\n",
       "    <tr style=\"text-align: right;\">\n",
       "      <th></th>\n",
       "      <th>event_id</th>\n",
       "      <th>event_name</th>\n",
       "      <th>event_type_description</th>\n",
       "      <th>event_type_main</th>\n",
       "      <th>organizers</th>\n",
       "      <th>region_name</th>\n",
       "      <th>city_name</th>\n",
       "      <th>city_id</th>\n",
       "      <th>venue_id</th>\n",
       "      <th>venue_name</th>\n",
       "      <th>venue_address</th>\n",
       "    </tr>\n",
       "  </thead>\n",
       "  <tbody>\n",
       "    <tr>\n",
       "      <th>0</th>\n",
       "      <td>4436</td>\n",
       "      <td>e4f26fba-da77-4c61-928a-6c3e434d793f</td>\n",
       "      <td>спектакль</td>\n",
       "      <td>театр</td>\n",
       "      <td>№4893</td>\n",
       "      <td>Североярская область</td>\n",
       "      <td>Озёрск</td>\n",
       "      <td>2</td>\n",
       "      <td>1600</td>\n",
       "      <td>Кладбище искусств \"Проблема\" и партнеры</td>\n",
       "      <td>наб. Загородная, д. 785</td>\n",
       "    </tr>\n",
       "    <tr>\n",
       "      <th>1</th>\n",
       "      <td>5785</td>\n",
       "      <td>5cc08a60-fdea-4186-9bb2-bffc3603fb77</td>\n",
       "      <td>спектакль</td>\n",
       "      <td>театр</td>\n",
       "      <td>№1931</td>\n",
       "      <td>Светополянский округ</td>\n",
       "      <td>Глиноград</td>\n",
       "      <td>54</td>\n",
       "      <td>2196</td>\n",
       "      <td>Лекции по искусству \"Свет\" Групп</td>\n",
       "      <td>ул. Ягодная, д. 942</td>\n",
       "    </tr>\n",
       "    <tr>\n",
       "      <th>2</th>\n",
       "      <td>8817</td>\n",
       "      <td>8e379a89-3a10-4811-ba06-ec22ebebe989</td>\n",
       "      <td>спектакль</td>\n",
       "      <td>театр</td>\n",
       "      <td>№4896</td>\n",
       "      <td>Североярская область</td>\n",
       "      <td>Озёрск</td>\n",
       "      <td>2</td>\n",
       "      <td>4043</td>\n",
       "      <td>Кинокомитет \"Золотая\" Инк</td>\n",
       "      <td>ш. Коммуны, д. 92 стр. 6</td>\n",
       "    </tr>\n",
       "    <tr>\n",
       "      <th>3</th>\n",
       "      <td>8849</td>\n",
       "      <td>682e3129-6a32-4952-9d8a-ef7f60d4c247</td>\n",
       "      <td>спектакль</td>\n",
       "      <td>театр</td>\n",
       "      <td>№4960</td>\n",
       "      <td>Каменевский регион</td>\n",
       "      <td>Глиногорск</td>\n",
       "      <td>213</td>\n",
       "      <td>1987</td>\n",
       "      <td>Выставка ремесел \"Свет\" Лтд</td>\n",
       "      <td>пер. Набережный, д. 35</td>\n",
       "    </tr>\n",
       "    <tr>\n",
       "      <th>4</th>\n",
       "      <td>8850</td>\n",
       "      <td>d6e99176-c77f-4af0-9222-07c571f6c624</td>\n",
       "      <td>спектакль</td>\n",
       "      <td>театр</td>\n",
       "      <td>№4770</td>\n",
       "      <td>Лесодальний край</td>\n",
       "      <td>Родниковец</td>\n",
       "      <td>55</td>\n",
       "      <td>4230</td>\n",
       "      <td>Фестивальный проект \"Листья\" Групп</td>\n",
       "      <td>пер. Проезжий, д. 9</td>\n",
       "    </tr>\n",
       "  </tbody>\n",
       "</table>\n",
       "</div>"
      ],
      "text/plain": [
       "   event_id                            event_name event_type_description  \\\n",
       "0      4436  e4f26fba-da77-4c61-928a-6c3e434d793f              спектакль   \n",
       "1      5785  5cc08a60-fdea-4186-9bb2-bffc3603fb77              спектакль   \n",
       "2      8817  8e379a89-3a10-4811-ba06-ec22ebebe989              спектакль   \n",
       "3      8849  682e3129-6a32-4952-9d8a-ef7f60d4c247              спектакль   \n",
       "4      8850  d6e99176-c77f-4af0-9222-07c571f6c624              спектакль   \n",
       "\n",
       "  event_type_main organizers           region_name   city_name  city_id  \\\n",
       "0           театр      №4893  Североярская область      Озёрск        2   \n",
       "1           театр      №1931  Светополянский округ   Глиноград       54   \n",
       "2           театр      №4896  Североярская область      Озёрск        2   \n",
       "3           театр      №4960    Каменевский регион  Глиногорск      213   \n",
       "4           театр      №4770      Лесодальний край  Родниковец       55   \n",
       "\n",
       "   venue_id                               venue_name             venue_address  \n",
       "0      1600  Кладбище искусств \"Проблема\" и партнеры   наб. Загородная, д. 785  \n",
       "1      2196         Лекции по искусству \"Свет\" Групп       ул. Ягодная, д. 942  \n",
       "2      4043                Кинокомитет \"Золотая\" Инк  ш. Коммуны, д. 92 стр. 6  \n",
       "3      1987              Выставка ремесел \"Свет\" Лтд    пер. Набережный, д. 35  \n",
       "4      4230       Фестивальный проект \"Листья\" Групп       пер. Проезжий, д. 9  "
      ]
     },
     "metadata": {},
     "output_type": "display_data"
    },
    {
     "data": {
      "text/html": [
       "<div>\n",
       "<style scoped>\n",
       "    .dataframe tbody tr th:only-of-type {\n",
       "        vertical-align: middle;\n",
       "    }\n",
       "\n",
       "    .dataframe tbody tr th {\n",
       "        vertical-align: top;\n",
       "    }\n",
       "\n",
       "    .dataframe thead th {\n",
       "        text-align: right;\n",
       "    }\n",
       "</style>\n",
       "<table border=\"1\" class=\"dataframe\">\n",
       "  <thead>\n",
       "    <tr style=\"text-align: right;\">\n",
       "      <th></th>\n",
       "      <th>data</th>\n",
       "      <th>nominal</th>\n",
       "      <th>curs</th>\n",
       "      <th>cdx</th>\n",
       "    </tr>\n",
       "  </thead>\n",
       "  <tbody>\n",
       "    <tr>\n",
       "      <th>0</th>\n",
       "      <td>2024-01-10</td>\n",
       "      <td>100</td>\n",
       "      <td>19.9391</td>\n",
       "      <td>kzt</td>\n",
       "    </tr>\n",
       "    <tr>\n",
       "      <th>1</th>\n",
       "      <td>2024-01-11</td>\n",
       "      <td>100</td>\n",
       "      <td>19.7255</td>\n",
       "      <td>kzt</td>\n",
       "    </tr>\n",
       "    <tr>\n",
       "      <th>2</th>\n",
       "      <td>2024-01-12</td>\n",
       "      <td>100</td>\n",
       "      <td>19.5839</td>\n",
       "      <td>kzt</td>\n",
       "    </tr>\n",
       "    <tr>\n",
       "      <th>3</th>\n",
       "      <td>2024-01-13</td>\n",
       "      <td>100</td>\n",
       "      <td>19.4501</td>\n",
       "      <td>kzt</td>\n",
       "    </tr>\n",
       "    <tr>\n",
       "      <th>4</th>\n",
       "      <td>2024-01-14</td>\n",
       "      <td>100</td>\n",
       "      <td>19.4501</td>\n",
       "      <td>kzt</td>\n",
       "    </tr>\n",
       "  </tbody>\n",
       "</table>\n",
       "</div>"
      ],
      "text/plain": [
       "         data  nominal     curs  cdx\n",
       "0  2024-01-10      100  19.9391  kzt\n",
       "1  2024-01-11      100  19.7255  kzt\n",
       "2  2024-01-12      100  19.5839  kzt\n",
       "3  2024-01-13      100  19.4501  kzt\n",
       "4  2024-01-14      100  19.4501  kzt"
      ]
     },
     "metadata": {},
     "output_type": "display_data"
    }
   ],
   "source": [
    "# Выгружаем и сохраняем в датафрейм данные\n",
    "PATH = \"https://code.s3.yandex.net/datasets/\"\n",
    "orders = pd.read_csv(PATH + \"final_tickets_orders_df.csv\" )\n",
    "events = pd.read_csv(PATH + \"final_tickets_events_df.csv\")\n",
    "exchange = pd.read_csv(PATH + \"final_tickets_tenge_df.csv\")\n",
    "\n",
    "# Выводим на экран первые пять строк датафрейма\n",
    "display(orders.head(5))\n",
    "display(events.head(5))\n",
    "display(exchange.head(5))"
   ]
  },
  {
   "cell_type": "code",
   "execution_count": 4,
   "metadata": {},
   "outputs": [
    {
     "name": "stdout",
     "output_type": "stream",
     "text": [
      "<class 'pandas.core.frame.DataFrame'>\n",
      "RangeIndex: 290849 entries, 0 to 290848\n",
      "Data columns (total 14 columns):\n",
      " #   Column                 Non-Null Count   Dtype  \n",
      "---  ------                 --------------   -----  \n",
      " 0   order_id               290849 non-null  int64  \n",
      " 1   user_id                290849 non-null  object \n",
      " 2   created_dt_msk         290849 non-null  object \n",
      " 3   created_ts_msk         290849 non-null  object \n",
      " 4   event_id               290849 non-null  int64  \n",
      " 5   cinema_circuit         290849 non-null  object \n",
      " 6   age_limit              290849 non-null  int64  \n",
      " 7   currency_code          290849 non-null  object \n",
      " 8   device_type_canonical  290849 non-null  object \n",
      " 9   revenue                290849 non-null  float64\n",
      " 10  service_name           290849 non-null  object \n",
      " 11  tickets_count          290849 non-null  int64  \n",
      " 12  total                  290849 non-null  float64\n",
      " 13  days_since_prev        268909 non-null  float64\n",
      "dtypes: float64(3), int64(4), object(7)\n",
      "memory usage: 31.1+ MB\n",
      "\n",
      "<class 'pandas.core.frame.DataFrame'>\n",
      "RangeIndex: 22427 entries, 0 to 22426\n",
      "Data columns (total 11 columns):\n",
      " #   Column                  Non-Null Count  Dtype \n",
      "---  ------                  --------------  ----- \n",
      " 0   event_id                22427 non-null  int64 \n",
      " 1   event_name              22427 non-null  object\n",
      " 2   event_type_description  22427 non-null  object\n",
      " 3   event_type_main         22427 non-null  object\n",
      " 4   organizers              22427 non-null  object\n",
      " 5   region_name             22427 non-null  object\n",
      " 6   city_name               22427 non-null  object\n",
      " 7   city_id                 22427 non-null  int64 \n",
      " 8   venue_id                22427 non-null  int64 \n",
      " 9   venue_name              22427 non-null  object\n",
      " 10  venue_address           22427 non-null  object\n",
      "dtypes: int64(3), object(8)\n",
      "memory usage: 1.9+ MB\n",
      "\n",
      "<class 'pandas.core.frame.DataFrame'>\n",
      "RangeIndex: 357 entries, 0 to 356\n",
      "Data columns (total 4 columns):\n",
      " #   Column   Non-Null Count  Dtype  \n",
      "---  ------   --------------  -----  \n",
      " 0   data     357 non-null    object \n",
      " 1   nominal  357 non-null    int64  \n",
      " 2   curs     357 non-null    float64\n",
      " 3   cdx      357 non-null    object \n",
      "dtypes: float64(1), int64(1), object(2)\n",
      "memory usage: 11.3+ KB\n"
     ]
    }
   ],
   "source": [
    "# Выводим информацию о датафреймах\n",
    "orders.info()\n",
    "print()\n",
    "events.info()\n",
    "print()\n",
    "exchange.info()"
   ]
  },
  {
   "cell_type": "markdown",
   "metadata": {},
   "source": [
    "Выводы:\n",
    "- Первичноый анализ полноты данных показывает, что данные достаточно высокого качества. Присутствуют 30 неявных дубликатов и пропущенные 7.5% данных в колонке с количеством дней с предыдущей покупки. Также колоноки с датами необходимо перевести из формата object в datetime. В целом полнона и корректность данных достаточна для анализа."
   ]
  },
  {
   "cell_type": "markdown",
   "metadata": {},
   "source": [
    "### 2. Предобработка данных и подготовка их к исследованию"
   ]
  },
  {
   "cell_type": "code",
   "execution_count": 5,
   "metadata": {},
   "outputs": [],
   "source": [
    "# Объеденим данные в единый датафрейм df_all\n",
    "df_all = orders.merge(events, on='event_id').merge(exchange, left_on='created_dt_msk', right_on='data', how='left')"
   ]
  },
  {
   "cell_type": "markdown",
   "metadata": {},
   "source": [
    "#### 2.1 Проверка данных на пропуски"
   ]
  },
  {
   "cell_type": "code",
   "execution_count": 6,
   "metadata": {},
   "outputs": [
    {
     "name": "stdout",
     "output_type": "stream",
     "text": [
      "order_id                  0.0\n",
      "user_id                   0.0\n",
      "created_dt_msk            0.0\n",
      "created_ts_msk            0.0\n",
      "event_id                  0.0\n",
      "cinema_circuit            0.0\n",
      "age_limit                 0.0\n",
      "currency_code             0.0\n",
      "device_type_canonical     0.0\n",
      "revenue                   0.0\n",
      "service_name              0.0\n",
      "tickets_count             0.0\n",
      "total                     0.0\n",
      "days_since_prev           7.5\n",
      "event_name                0.0\n",
      "event_type_description    0.0\n",
      "event_type_main           0.0\n",
      "organizers                0.0\n",
      "region_name               0.0\n",
      "city_name                 0.0\n",
      "city_id                   0.0\n",
      "venue_id                  0.0\n",
      "venue_name                0.0\n",
      "venue_address             0.0\n",
      "data                      0.0\n",
      "nominal                   0.0\n",
      "curs                      0.0\n",
      "cdx                       0.0\n",
      "dtype: float64\n"
     ]
    }
   ],
   "source": [
    "# Посчитаем процент пропусков в каждом столбце\n",
    "print(df_all.isna().mean().round(3)*100)"
   ]
  },
  {
   "cell_type": "markdown",
   "metadata": {},
   "source": [
    "Вывод:\n",
    "- Пропуски 7.5% присутствуют только столбца `days_since_prev`. Остальные данные не содержат пропусков. Наличие данных пропусков не являются существенным и не помешают объективному исследованию "
   ]
  },
  {
   "cell_type": "markdown",
   "metadata": {},
   "source": [
    "#### 2.2 Изучим значения в ключевых столбцах для категориальных значений"
   ]
  },
  {
   "cell_type": "code",
   "execution_count": 7,
   "metadata": {},
   "outputs": [
    {
     "name": "stdout",
     "output_type": "stream",
     "text": [
      "desktop\n",
      "mobile\n",
      "\n",
      "kzt\n",
      "rub\n",
      "\n",
      "Crazy ticket!\n",
      "Show_ticket\n",
      "Билет по телефону\n",
      "Билеты без проблем\n",
      "Билеты в интернете\n",
      "Билеты в руки\n",
      "Быстробилет\n",
      "Быстрый кассир\n",
      "Весь в билетах\n",
      "Восьмёрка\n",
      "Вперёд!\n",
      "Выступления.ру\n",
      "Городской дом культуры\n",
      "Дом культуры\n",
      "Дырокол\n",
      "За билетом!\n",
      "Зе Бест!\n",
      "КарандашРУ\n",
      "Кино билет\n",
      "Край билетов\n",
      "Лимоны\n",
      "Лови билет!\n",
      "Лучшие билеты\n",
      "Мир касс\n",
      "Мой билет\n",
      "Облачко\n",
      "Прачечная\n",
      "Радио ticket\n",
      "Реестр\n",
      "Росбилет\n",
      "Тебе билет!\n",
      "Телебилет\n",
      "Тех билет\n",
      "Цвет и билет\n",
      "Шоу начинается!\n",
      "Яблоко\n",
      "\n",
      "балет\n",
      "выставка\n",
      "концерт\n",
      "кукольный спектакль\n",
      "музыкальный спектакль\n",
      "мюзикл\n",
      "опера\n",
      "оперетта\n",
      "подарок\n",
      "рок-мюзикл\n",
      "снегурочка\n",
      "событие\n",
      "спектакль\n",
      "спорт\n",
      "спортивное мероприятие\n",
      "фестиваль\n",
      "цирковое шоу\n",
      "шоу\n",
      "экскурсия\n",
      "ёлка\n",
      "\n",
      "выставки\n",
      "другое\n",
      "концерты\n",
      "спорт\n",
      "стендап\n",
      "театр\n",
      "ёлки\n",
      "\n"
     ]
    }
   ],
   "source": [
    "# Изучим, какие категории присутствуют в данных.\n",
    "col_category =['device_type_canonical', 'currency_code', 'service_name', 'event_type_description', 'event_type_main']\n",
    "\n",
    "for col in col_category:\n",
    "    print('\\n'.join(df_all[col].sort_values().unique().tolist()))\n",
    "    print()"
   ]
  },
  {
   "cell_type": "markdown",
   "metadata": {},
   "source": [
    "#### 2.3 Изучим значения в ключевых столбцах для количественных значений"
   ]
  },
  {
   "cell_type": "code",
   "execution_count": 8,
   "metadata": {},
   "outputs": [],
   "source": [
    "# Разделим анализ по валютам заказа\n",
    "# для российского рубля\n",
    "df_rub = df_all[df_all['currency_code']=='rub']\n",
    "# для казахстанского тэнге\n",
    "df_kzt = df_all[df_all['currency_code']=='kzt']"
   ]
  },
  {
   "cell_type": "markdown",
   "metadata": {},
   "source": [
    "#### - для валюты заказа - rub"
   ]
  },
  {
   "cell_type": "code",
   "execution_count": 9,
   "metadata": {},
   "outputs": [
    {
     "name": "stdout",
     "output_type": "stream",
     "text": [
      "Статистические показатели столбца - revenue - rub:\n",
      "count    285542\n",
      "mean        548\n",
      "std         871\n",
      "min         -90\n",
      "25%         114\n",
      "50%         346\n",
      "75%         793\n",
      "max       81174\n",
      "Name: revenue, dtype: int32\n",
      "\n",
      "Статистические показатели столбца - tickets_count - rub:\n",
      "count    285542\n",
      "mean          2\n",
      "std           1\n",
      "min           1\n",
      "25%           2\n",
      "50%           3\n",
      "75%           4\n",
      "max          57\n",
      "Name: tickets_count, dtype: int32\n",
      "\n"
     ]
    }
   ],
   "source": [
    "# Изучаем статистические показатели количественных значений колонок \n",
    "col_for_analiz = ['revenue', 'tickets_count']\n",
    "\n",
    "for col in col_for_analiz:\n",
    "    print(f'Статистические показатели столбца - {col} - rub:')\n",
    "    print(df_rub[col].describe().astype('int'))\n",
    "    print()"
   ]
  },
  {
   "cell_type": "code",
   "execution_count": 10,
   "metadata": {},
   "outputs": [
    {
     "data": {
      "image/png": "[encoded data removed]",
      "text/plain": [
       "<Figure size 864x144 with 1 Axes>"
      ]
     },
     "metadata": {
      "needs_background": "light"
     },
     "output_type": "display_data"
    },
    {
     "data": {
      "image/png": "[encoded data removed]",
      "text/plain": [
       "<Figure size 864x144 with 1 Axes>"
      ]
     },
     "metadata": {
      "needs_background": "light"
     },
     "output_type": "display_data"
    }
   ],
   "source": [
    "# Для визуализации уберём экстемальные выбросы 1% слева и справа колонки revenue\n",
    "Q1 = df_rub['revenue'].quantile(0.01)\n",
    "Q3 = df_rub['revenue'].quantile(0.99)\n",
    "\n",
    "# Строим диаграмму размаха значений в столбце revenue\n",
    "df_quantile_rub = df_rub[(df_rub['revenue'] > Q1) & (df_rub['revenue'] < Q3)]\n",
    "df_quantile_rub.boxplot(column=\"revenue\",\n",
    "                    figsize=(12, 2),\n",
    "                    vert=False)\n",
    "\n",
    "# Добавляем заголовок и метки оси\n",
    "plt.title('Распределение значений выручки от заказа - rub')\n",
    "plt.xlabel('Выручка от заказа - rub') \n",
    "\n",
    "# Выводим график\n",
    "plt.show()\n",
    "\n",
    "df_quantile_rub.boxplot(column=\"revenue\",\n",
    "                    figsize=(12, 2),\n",
    "                    showfliers=False,\n",
    "                    vert=False)\n",
    "plt.title('Распределение значений выручки от заказа БЕЗ учета выбросов -rub')\n",
    "plt.xlabel('Выручка от заказа - rub') \n",
    "plt.show()"
   ]
  },
  {
   "cell_type": "code",
   "execution_count": 11,
   "metadata": {},
   "outputs": [
    {
     "data": {
      "image/png": "[encoded data removed]",
      "text/plain": [
       "<Figure size 720x432 with 1 Axes>"
      ]
     },
     "metadata": {
      "needs_background": "light"
     },
     "output_type": "display_data"
    },
    {
     "data": {
      "image/png": "[encoded data removed]",
      "text/plain": [
       "<Figure size 720x432 with 1 Axes>"
      ]
     },
     "metadata": {
      "needs_background": "light"
     },
     "output_type": "display_data"
    }
   ],
   "source": [
    "# Строим гистограмму распределения значений\n",
    "df_quantile_rub['revenue'].plot(\n",
    "                kind='hist', # гистограмма\n",
    "                bins=100, # количество корзин\n",
    "                figsize=(10, 6),\n",
    "                alpha=0.75,\n",
    "                edgecolor='black')\n",
    "\n",
    "\n",
    "# Настраиваем оформление графика\n",
    "plt.title('Распределение значений выручки от заказа - rub')\n",
    "plt.xlabel('Выручка от заказа')\n",
    "plt.ylabel('Частота')\n",
    "# Добавляем сетку графика\n",
    "plt.grid()\n",
    "\n",
    "# Выводим график\n",
    "plt.show()\n",
    "\n",
    "# Строим гистограмму с логарифмической шкалой\n",
    "plt.figure(figsize=(10, 6))\n",
    "plt.hist(df_all['revenue'], bins=50, color='skyblue', edgecolor='black', log=True)\n",
    "plt.xscale('log')  # Логарифмическая шкала по оси X\n",
    "plt.xlabel('Выручка от заказа(логарифмическая шкала)')\n",
    "plt.ylabel('Количество заказов')\n",
    "plt.title('Распределение выручки от заказа (логарифмическая шкала) - rub')\n",
    "plt.show()\n"
   ]
  },
  {
   "cell_type": "markdown",
   "metadata": {},
   "source": [
    "#### - для валюты заказа - kzt"
   ]
  },
  {
   "cell_type": "code",
   "execution_count": 12,
   "metadata": {},
   "outputs": [
    {
     "name": "stdout",
     "output_type": "stream",
     "text": [
      "Статистические показатели столбца - revenue - kzt:\n",
      "count     5069\n",
      "mean      4995\n",
      "std       4916\n",
      "min          0\n",
      "25%        518\n",
      "50%       3698\n",
      "75%       7397\n",
      "max      26425\n",
      "Name: revenue, dtype: int32\n",
      "\n",
      "Статистические показатели столбца - tickets_count - kzt:\n",
      "count    5069\n",
      "mean        2\n",
      "std         1\n",
      "min         1\n",
      "25%         2\n",
      "50%         3\n",
      "75%         4\n",
      "max         6\n",
      "Name: tickets_count, dtype: int32\n",
      "\n"
     ]
    }
   ],
   "source": [
    "# Изучаем статистические показатели количественных значений колонок \n",
    "col_for_analiz = ['revenue', 'tickets_count']\n",
    "\n",
    "for col in col_for_analiz:\n",
    "    print(f'Статистические показатели столбца - {col} - kzt:')\n",
    "    print(df_kzt[col].describe().astype('int'))\n",
    "    print()"
   ]
  },
  {
   "cell_type": "code",
   "execution_count": 13,
   "metadata": {},
   "outputs": [
    {
     "data": {
      "image/png": "[encoded data removed]",
      "text/plain": [
       "<Figure size 864x144 with 1 Axes>"
      ]
     },
     "metadata": {
      "needs_background": "light"
     },
     "output_type": "display_data"
    },
    {
     "data": {
      "image/png": "[encoded data removed]",
      "text/plain": [
       "<Figure size 864x144 with 1 Axes>"
      ]
     },
     "metadata": {
      "needs_background": "light"
     },
     "output_type": "display_data"
    }
   ],
   "source": [
    "# Для визуализации уберём экстемальные выбросы 1% слева и справа колонки revenue\n",
    "Q1 = df_kzt['revenue'].quantile(0.01)\n",
    "Q3 = df_kzt['revenue'].quantile(0.99)\n",
    "\n",
    "# Строим диаграмму размаха значений в столбце revenue\n",
    "df_quantile_kzt = df_kzt[(df_kzt['revenue'] > Q1) & (df_kzt['revenue'] < Q3)]\n",
    "df_quantile_kzt.boxplot(column=\"revenue\",\n",
    "                    figsize=(12, 2),\n",
    "                    vert=False)\n",
    "\n",
    "# Добавляем заголовок и метки оси\n",
    "plt.title('Распределение значений выручки от заказа - kzt')\n",
    "plt.xlabel('Выручка от заказа - kzt') \n",
    "\n",
    "# Выводим график\n",
    "plt.show()\n",
    "\n",
    "df_quantile_kzt.boxplot(column=\"revenue\",\n",
    "                    figsize=(12, 2),\n",
    "                    showfliers=False,\n",
    "                    vert=False)\n",
    "plt.title('Распределение значений выручки от заказа БЕЗ учета выбросов -kzt')\n",
    "plt.xlabel('Выручка от заказа - kzt') \n",
    "plt.show()"
   ]
  },
  {
   "cell_type": "code",
   "execution_count": 14,
   "metadata": {},
   "outputs": [
    {
     "data": {
      "image/png": "[encoded data removed]",
      "text/plain": [
       "<Figure size 720x432 with 1 Axes>"
      ]
     },
     "metadata": {
      "needs_background": "light"
     },
     "output_type": "display_data"
    },
    {
     "data": {
      "image/png": "[encoded data removed]",
      "text/plain": [
       "<Figure size 720x432 with 1 Axes>"
      ]
     },
     "metadata": {
      "needs_background": "light"
     },
     "output_type": "display_data"
    }
   ],
   "source": [
    "# Строим гистограмму распределения значений\n",
    "df_quantile_kzt['revenue'].plot(\n",
    "                kind='hist', # гистограмма\n",
    "                bins=100, # количество корзин\n",
    "                figsize=(10, 6),\n",
    "                alpha=0.75,\n",
    "                edgecolor='black')\n",
    "\n",
    "\n",
    "# Настраиваем оформление графика\n",
    "plt.title('Распределение значений выручки от заказа - kzt')\n",
    "plt.xlabel('Выручка от заказа - kzt')\n",
    "plt.ylabel('Частота')\n",
    "# Добавляем сетку графика\n",
    "plt.grid()\n",
    "\n",
    "# Выводим график\n",
    "plt.show()\n",
    "\n",
    "# Строим гистограмму с логарифмической шкалой\n",
    "plt.figure(figsize=(10, 6))\n",
    "plt.hist(df_all['revenue'], bins=50, color='skyblue', edgecolor='black', log=True)\n",
    "plt.xscale('log')  # Логарифмическая шкала по оси X\n",
    "plt.xlabel('Выручка от заказа(логарифмическая шкала)')\n",
    "plt.ylabel('Количество заказов')\n",
    "plt.title('Распределение выручки от заказа (логарифмическая шкала) - kzt')\n",
    "plt.show()\n"
   ]
  },
  {
   "cell_type": "code",
   "execution_count": 15,
   "metadata": {},
   "outputs": [],
   "source": [
    "# Уберём экстемальные выбросы из исходного датафрейма - 1% справа и слева колонки revenue для rub и kzt \n",
    "df = pd.concat([df_quantile_rub, df_quantile_kzt])"
   ]
  },
  {
   "cell_type": "markdown",
   "metadata": {},
   "source": [
    "Выводы:\n",
    "- Распределение данных характеризуется широким разбросом и длинным «хвостом» в правой части гистограммы. Такие высокие значения можно отнести к выбросам. Для дальнейшего анализа мы их исключаем."
   ]
  },
  {
   "cell_type": "markdown",
   "metadata": {},
   "source": [
    "#### 2.4 Проверим явные и неявные дубликаты по бронированию билета без учёта идентификаторов заказа"
   ]
  },
  {
   "cell_type": "code",
   "execution_count": 16,
   "metadata": {},
   "outputs": [
    {
     "name": "stdout",
     "output_type": "stream",
     "text": [
      "Дублирующиеся строки:\n"
     ]
    },
    {
     "data": {
      "text/html": [
       "<div>\n",
       "<style scoped>\n",
       "    .dataframe tbody tr th:only-of-type {\n",
       "        vertical-align: middle;\n",
       "    }\n",
       "\n",
       "    .dataframe tbody tr th {\n",
       "        vertical-align: top;\n",
       "    }\n",
       "\n",
       "    .dataframe thead th {\n",
       "        text-align: right;\n",
       "    }\n",
       "</style>\n",
       "<table border=\"1\" class=\"dataframe\">\n",
       "  <thead>\n",
       "    <tr style=\"text-align: right;\">\n",
       "      <th></th>\n",
       "      <th>order_id</th>\n",
       "      <th>user_id</th>\n",
       "      <th>created_dt_msk</th>\n",
       "      <th>created_ts_msk</th>\n",
       "      <th>event_id</th>\n",
       "      <th>cinema_circuit</th>\n",
       "      <th>age_limit</th>\n",
       "      <th>currency_code</th>\n",
       "      <th>device_type_canonical</th>\n",
       "      <th>revenue</th>\n",
       "      <th>...</th>\n",
       "      <th>region_name</th>\n",
       "      <th>city_name</th>\n",
       "      <th>city_id</th>\n",
       "      <th>venue_id</th>\n",
       "      <th>venue_name</th>\n",
       "      <th>venue_address</th>\n",
       "      <th>data</th>\n",
       "      <th>nominal</th>\n",
       "      <th>curs</th>\n",
       "      <th>cdx</th>\n",
       "    </tr>\n",
       "  </thead>\n",
       "  <tbody>\n",
       "    <tr>\n",
       "      <th>3839</th>\n",
       "      <td>7299678</td>\n",
       "      <td>a0384c26d91e09e</td>\n",
       "      <td>2024-08-24</td>\n",
       "      <td>2024-08-24 00:07:14</td>\n",
       "      <td>534657</td>\n",
       "      <td>нет</td>\n",
       "      <td>16</td>\n",
       "      <td>rub</td>\n",
       "      <td>mobile</td>\n",
       "      <td>679.21</td>\n",
       "      <td>...</td>\n",
       "      <td>Ветренский регион</td>\n",
       "      <td>Кокжар</td>\n",
       "      <td>20</td>\n",
       "      <td>2866</td>\n",
       "      <td>Школа фотографии \"Золотое\" Инк</td>\n",
       "      <td>ш. Микрорайон, д. 79 стр. 50</td>\n",
       "      <td>2024-08-24</td>\n",
       "      <td>100</td>\n",
       "      <td>19.1202</td>\n",
       "      <td>kzt</td>\n",
       "    </tr>\n",
       "    <tr>\n",
       "      <th>48973</th>\n",
       "      <td>5372831</td>\n",
       "      <td>7eb4fc207ecc10f</td>\n",
       "      <td>2024-08-23</td>\n",
       "      <td>2024-08-23 14:08:19</td>\n",
       "      <td>298035</td>\n",
       "      <td>нет</td>\n",
       "      <td>6</td>\n",
       "      <td>rub</td>\n",
       "      <td>mobile</td>\n",
       "      <td>126.84</td>\n",
       "      <td>...</td>\n",
       "      <td>Североярская область</td>\n",
       "      <td>Озёрск</td>\n",
       "      <td>2</td>\n",
       "      <td>2795</td>\n",
       "      <td>Клуб исторических реконструкций \"Логос\" и парт...</td>\n",
       "      <td>пр. Пушкина, д. 8/6 к. 482</td>\n",
       "      <td>2024-08-23</td>\n",
       "      <td>100</td>\n",
       "      <td>19.1903</td>\n",
       "      <td>kzt</td>\n",
       "    </tr>\n",
       "    <tr>\n",
       "      <th>48977</th>\n",
       "      <td>5373179</td>\n",
       "      <td>7eb4fc207ecc10f</td>\n",
       "      <td>2024-08-23</td>\n",
       "      <td>2024-08-23 14:08:19</td>\n",
       "      <td>298035</td>\n",
       "      <td>нет</td>\n",
       "      <td>6</td>\n",
       "      <td>rub</td>\n",
       "      <td>mobile</td>\n",
       "      <td>126.84</td>\n",
       "      <td>...</td>\n",
       "      <td>Североярская область</td>\n",
       "      <td>Озёрск</td>\n",
       "      <td>2</td>\n",
       "      <td>2795</td>\n",
       "      <td>Клуб исторических реконструкций \"Логос\" и парт...</td>\n",
       "      <td>пр. Пушкина, д. 8/6 к. 482</td>\n",
       "      <td>2024-08-23</td>\n",
       "      <td>100</td>\n",
       "      <td>19.1903</td>\n",
       "      <td>kzt</td>\n",
       "    </tr>\n",
       "  </tbody>\n",
       "</table>\n",
       "<p>3 rows × 28 columns</p>\n",
       "</div>"
      ],
      "text/plain": [
       "       order_id          user_id created_dt_msk       created_ts_msk  \\\n",
       "3839    7299678  a0384c26d91e09e     2024-08-24  2024-08-24 00:07:14   \n",
       "48973   5372831  7eb4fc207ecc10f     2024-08-23  2024-08-23 14:08:19   \n",
       "48977   5373179  7eb4fc207ecc10f     2024-08-23  2024-08-23 14:08:19   \n",
       "\n",
       "       event_id cinema_circuit  age_limit currency_code device_type_canonical  \\\n",
       "3839     534657            нет         16           rub                mobile   \n",
       "48973    298035            нет          6           rub                mobile   \n",
       "48977    298035            нет          6           rub                mobile   \n",
       "\n",
       "       revenue  ...           region_name  city_name  city_id  venue_id  \\\n",
       "3839    679.21  ...     Ветренский регион     Кокжар       20      2866   \n",
       "48973   126.84  ...  Североярская область     Озёрск        2      2795   \n",
       "48977   126.84  ...  Североярская область     Озёрск        2      2795   \n",
       "\n",
       "                                              venue_name  \\\n",
       "3839                      Школа фотографии \"Золотое\" Инк   \n",
       "48973  Клуб исторических реконструкций \"Логос\" и парт...   \n",
       "48977  Клуб исторических реконструкций \"Логос\" и парт...   \n",
       "\n",
       "                      venue_address        data nominal     curs  cdx  \n",
       "3839   ш. Микрорайон, д. 79 стр. 50  2024-08-24     100  19.1202  kzt  \n",
       "48973    пр. Пушкина, д. 8/6 к. 482  2024-08-23     100  19.1903  kzt  \n",
       "48977    пр. Пушкина, д. 8/6 к. 482  2024-08-23     100  19.1903  kzt  \n",
       "\n",
       "[3 rows x 28 columns]"
      ]
     },
     "metadata": {},
     "output_type": "display_data"
    },
    {
     "name": "stdout",
     "output_type": "stream",
     "text": [
      "Кол-во дубликатов без учёта идентификаторов заказа: \n",
      "- в исходном датасете\n",
      "29\n",
      "- после удаления дублей\n",
      "0\n"
     ]
    }
   ],
   "source": [
    "\n",
    "col_dupl = ['user_id',\n",
    " 'created_dt_msk',\n",
    " 'created_ts_msk',\n",
    " 'event_id',\n",
    " 'cinema_circuit',\n",
    " 'age_limit',\n",
    " 'currency_code',\n",
    " 'device_type_canonical',\n",
    " 'revenue',\n",
    " 'service_name',\n",
    " 'tickets_count',\n",
    " 'total',\n",
    " 'days_since_prev',\n",
    " 'event_name',\n",
    " 'event_type_description',\n",
    " 'event_type_main',\n",
    " 'organizers',\n",
    " 'region_name',\n",
    " 'city_name',\n",
    " 'city_id',\n",
    " 'venue_id',\n",
    " 'venue_name',\n",
    " 'venue_address']\n",
    "\n",
    "# Отобразим первые 3 дублирующихся строки\n",
    "print('Дублирующиеся строки:')\n",
    "display(df[df.duplicated(subset=col_dupl)].head(3))\n",
    "# Отобразим все колонки датафрейма\n",
    "pd.set_option('display.max_columns', None)\n",
    "\n",
    "print('Кол-во дубликатов без учёта идентификаторов заказа: \\n- в исходном датасете')\n",
    "print(df.duplicated(subset=col_dupl).sum())\n",
    " \n",
    "\n",
    "# Удалим дубликаты\n",
    "df_uniq = df.drop_duplicates(subset=col_dupl)\n",
    "\n",
    "print('- после удаления дублей')\n",
    "print(df_uniq.duplicated(subset=col_dupl).sum())"
   ]
  },
  {
   "cell_type": "markdown",
   "metadata": {},
   "source": [
    "Вывод:\n",
    "- при анализе  данных по бронированию билета без учёта идентификаторов заказа выявлено 29 дубликатов. По дате и времени создания видно, что заказазы были созданы одномоментно. Дублирование могло быть вызвано сбоем в сети при оформлении. Данные дубликаты были удалены."
   ]
  },
  {
   "cell_type": "markdown",
   "metadata": {},
   "source": [
    "#### 2.4 Проведите преобразования типов данных.    \n",
    "\n"
   ]
  },
  {
   "cell_type": "markdown",
   "metadata": {},
   "source": [
    "- Обработаем типы данных в столбцах, которые хранят значения даты и времени"
   ]
  },
  {
   "cell_type": "code",
   "execution_count": 17,
   "metadata": {},
   "outputs": [
    {
     "name": "stdout",
     "output_type": "stream",
     "text": [
      "Исходный формат полей:\n",
      "created_dt_msk    object\n",
      "created_ts_msk    object\n",
      "data              object\n",
      "dtype: object\n",
      "Формат после изменения типа:\n",
      "created_dt_msk    datetime64[ns]\n",
      "created_ts_msk    datetime64[ns]\n",
      "data              datetime64[ns]\n",
      "dtype: object\n"
     ]
    },
    {
     "name": "stderr",
     "output_type": "stream",
     "text": [
      "C:\\Users\\11961\\AppData\\Local\\Temp\\ipykernel_22048\\345291691.py:9: SettingWithCopyWarning: \n",
      "A value is trying to be set on a copy of a slice from a DataFrame.\n",
      "Try using .loc[row_indexer,col_indexer] = value instead\n",
      "\n",
      "See the caveats in the documentation: https://pandas.pydata.org/pandas-docs/stable/user_guide/indexing.html#returning-a-view-versus-a-copy\n",
      "  df_uniq[column] = pd.to_datetime(df_uniq[column]) # df_uniq[column].astype('datetime64[ns]')\n",
      "C:\\Users\\11961\\AppData\\Local\\Temp\\ipykernel_22048\\345291691.py:9: SettingWithCopyWarning: \n",
      "A value is trying to be set on a copy of a slice from a DataFrame.\n",
      "Try using .loc[row_indexer,col_indexer] = value instead\n",
      "\n",
      "See the caveats in the documentation: https://pandas.pydata.org/pandas-docs/stable/user_guide/indexing.html#returning-a-view-versus-a-copy\n",
      "  df_uniq[column] = pd.to_datetime(df_uniq[column]) # df_uniq[column].astype('datetime64[ns]')\n",
      "C:\\Users\\11961\\AppData\\Local\\Temp\\ipykernel_22048\\345291691.py:9: SettingWithCopyWarning: \n",
      "A value is trying to be set on a copy of a slice from a DataFrame.\n",
      "Try using .loc[row_indexer,col_indexer] = value instead\n",
      "\n",
      "See the caveats in the documentation: https://pandas.pydata.org/pandas-docs/stable/user_guide/indexing.html#returning-a-view-versus-a-copy\n",
      "  df_uniq[column] = pd.to_datetime(df_uniq[column]) # df_uniq[column].astype('datetime64[ns]')\n"
     ]
    }
   ],
   "source": [
    "# Определим список полей с датой\n",
    "column_date = ['created_dt_msk', 'created_ts_msk', 'data']\n",
    "\n",
    "print('Исходный формат полей:')\n",
    "print(df_uniq[column_date].dtypes)\n",
    "\n",
    "# Приводим данные с датой и временем к типу datetime64[ns]\n",
    "for column in column_date:\n",
    "    df_uniq[column] = pd.to_datetime(df_uniq[column]) # df_uniq[column].astype('datetime64[ns]') \n",
    "    \n",
    "# Проверим результат   \n",
    "print('Формат после изменения типа:')\n",
    "print(df_uniq[column_date].dtypes)\n"
   ]
  },
  {
   "cell_type": "markdown",
   "metadata": {},
   "source": [
    " - Уменьшим размерности количественных данных"
   ]
  },
  {
   "cell_type": "code",
   "execution_count": 18,
   "metadata": {},
   "outputs": [
    {
     "name": "stderr",
     "output_type": "stream",
     "text": [
      "C:\\Users\\11961\\AppData\\Local\\Temp\\ipykernel_22048\\3147216808.py:18: SettingWithCopyWarning: \n",
      "A value is trying to be set on a copy of a slice from a DataFrame.\n",
      "Try using .loc[row_indexer,col_indexer] = value instead\n",
      "\n",
      "See the caveats in the documentation: https://pandas.pydata.org/pandas-docs/stable/user_guide/indexing.html#returning-a-view-versus-a-copy\n",
      "  df_uniq[column] = pd.to_numeric(df_uniq[column],\n"
     ]
    },
    {
     "name": "stdout",
     "output_type": "stream",
     "text": [
      "Исходные типы полей:\n",
      "order_id             int64\n",
      "event_id             int64\n",
      "age_limit            int64\n",
      "tickets_count        int64\n",
      "days_since_prev    float64\n",
      "city_id              int64\n",
      "venue_id             int64\n",
      "nominal              int64\n",
      "revenue            float64\n",
      "total              float64\n",
      "curs               float64\n",
      "dtype: object\n",
      "\n",
      "Преобразованные типы полей:\n",
      "order_id             int32\n",
      "event_id             int32\n",
      "age_limit             int8\n",
      "tickets_count         int8\n",
      "days_since_prev    float64\n",
      "city_id              int32\n",
      "venue_id             int16\n",
      "nominal               int8\n",
      "revenue            float32\n",
      "total              float32\n",
      "curs               float32\n",
      "dtype: object\n"
     ]
    },
    {
     "name": "stderr",
     "output_type": "stream",
     "text": [
      "C:\\Users\\11961\\AppData\\Local\\Temp\\ipykernel_22048\\3147216808.py:21: SettingWithCopyWarning: \n",
      "A value is trying to be set on a copy of a slice from a DataFrame.\n",
      "Try using .loc[row_indexer,col_indexer] = value instead\n",
      "\n",
      "See the caveats in the documentation: https://pandas.pydata.org/pandas-docs/stable/user_guide/indexing.html#returning-a-view-versus-a-copy\n",
      "  df_uniq[column] = pd.to_numeric(df_uniq[column],\n"
     ]
    }
   ],
   "source": [
    "# Оптимизируем целочисленный тип данных в датафрейме bank_df\n",
    "\n",
    "column_int = ['order_id',\n",
    "              'event_id',\n",
    "              'age_limit',\n",
    "              'tickets_count',\n",
    "              'days_since_prev',\n",
    "              'city_id',\n",
    "              'venue_id',\n",
    "              'nominal']\n",
    "column_float = ['revenue',\n",
    "                'total',\n",
    "                'curs']\n",
    "print('Исходные типы полей:')\n",
    "print(df_uniq[column_int + column_float].dtypes)\n",
    "\n",
    "for column in column_int:\n",
    "    df_uniq[column] = pd.to_numeric(df_uniq[column],\n",
    "                                    downcast='integer')\n",
    "for column in column_float:\n",
    "    df_uniq[column] = pd.to_numeric(df_uniq[column],\n",
    "                                    downcast='float')\n",
    "print()\n",
    "# Проверим результат    \n",
    "print('Преобразованные типы полей:')\n",
    "print(df_uniq[column_int + column_float].dtypes)"
   ]
  },
  {
   "cell_type": "markdown",
   "metadata": {},
   "source": [
    "#### 2.5 Создадим несколько новых столбцов  \n",
    "- revenue_rub — выручка с заказа в единой валюте — российский рубль. \n",
    "- one_ticket_revenue_rub — рассчитаем выручку с продажи одного билета на мероприятие.  \n",
    "- month — выделим месяц оформления заказа в отдельный столбец.\n",
    "- season — создадим столбец с информацией о сезонности, включая такие категории, как: 'лето', 'осень', 'зима', 'весна'."
   ]
  },
  {
   "cell_type": "code",
   "execution_count": 19,
   "metadata": {
    "scrolled": true
   },
   "outputs": [
    {
     "name": "stderr",
     "output_type": "stream",
     "text": [
      "C:\\Users\\11961\\AppData\\Local\\Temp\\ipykernel_22048\\320562231.py:2: SettingWithCopyWarning: \n",
      "A value is trying to be set on a copy of a slice from a DataFrame.\n",
      "Try using .loc[row_indexer,col_indexer] = value instead\n",
      "\n",
      "See the caveats in the documentation: https://pandas.pydata.org/pandas-docs/stable/user_guide/indexing.html#returning-a-view-versus-a-copy\n",
      "  df_uniq['revenue_rub'] = np.where(df_uniq['currency_code']=='kzt', df_uniq['revenue'] * df_uniq['curs'] / df_uniq['nominal'], df_uniq['revenue'])\n",
      "C:\\Users\\11961\\AppData\\Local\\Temp\\ipykernel_22048\\320562231.py:4: SettingWithCopyWarning: \n",
      "A value is trying to be set on a copy of a slice from a DataFrame.\n",
      "Try using .loc[row_indexer,col_indexer] = value instead\n",
      "\n",
      "See the caveats in the documentation: https://pandas.pydata.org/pandas-docs/stable/user_guide/indexing.html#returning-a-view-versus-a-copy\n",
      "  df_uniq['one_ticket_revenue_rub'] = df_uniq['revenue_rub'] / df_uniq['tickets_count']\n",
      "C:\\Users\\11961\\AppData\\Local\\Temp\\ipykernel_22048\\320562231.py:6: SettingWithCopyWarning: \n",
      "A value is trying to be set on a copy of a slice from a DataFrame.\n",
      "Try using .loc[row_indexer,col_indexer] = value instead\n",
      "\n",
      "See the caveats in the documentation: https://pandas.pydata.org/pandas-docs/stable/user_guide/indexing.html#returning-a-view-versus-a-copy\n",
      "  df_uniq['month'] = df_uniq['created_dt_msk'].dt.month\n",
      "C:\\Users\\11961\\AppData\\Local\\Temp\\ipykernel_22048\\320562231.py:17: SettingWithCopyWarning: \n",
      "A value is trying to be set on a copy of a slice from a DataFrame.\n",
      "Try using .loc[row_indexer,col_indexer] = value instead\n",
      "\n",
      "See the caveats in the documentation: https://pandas.pydata.org/pandas-docs/stable/user_guide/indexing.html#returning-a-view-versus-a-copy\n",
      "  df_uniq['season'] = np.select(conditions, choices)\n"
     ]
    },
    {
     "data": {
      "text/html": [
       "<div>\n",
       "<style scoped>\n",
       "    .dataframe tbody tr th:only-of-type {\n",
       "        vertical-align: middle;\n",
       "    }\n",
       "\n",
       "    .dataframe tbody tr th {\n",
       "        vertical-align: top;\n",
       "    }\n",
       "\n",
       "    .dataframe thead th {\n",
       "        text-align: right;\n",
       "    }\n",
       "</style>\n",
       "<table border=\"1\" class=\"dataframe\">\n",
       "  <thead>\n",
       "    <tr style=\"text-align: right;\">\n",
       "      <th></th>\n",
       "      <th>order_id</th>\n",
       "      <th>user_id</th>\n",
       "      <th>created_dt_msk</th>\n",
       "      <th>created_ts_msk</th>\n",
       "      <th>event_id</th>\n",
       "      <th>cinema_circuit</th>\n",
       "      <th>age_limit</th>\n",
       "      <th>currency_code</th>\n",
       "      <th>device_type_canonical</th>\n",
       "      <th>revenue</th>\n",
       "      <th>service_name</th>\n",
       "      <th>tickets_count</th>\n",
       "      <th>total</th>\n",
       "      <th>days_since_prev</th>\n",
       "      <th>event_name</th>\n",
       "      <th>event_type_description</th>\n",
       "      <th>event_type_main</th>\n",
       "      <th>organizers</th>\n",
       "      <th>region_name</th>\n",
       "      <th>city_name</th>\n",
       "      <th>city_id</th>\n",
       "      <th>venue_id</th>\n",
       "      <th>venue_name</th>\n",
       "      <th>venue_address</th>\n",
       "      <th>data</th>\n",
       "      <th>nominal</th>\n",
       "      <th>curs</th>\n",
       "      <th>cdx</th>\n",
       "      <th>revenue_rub</th>\n",
       "      <th>one_ticket_revenue_rub</th>\n",
       "      <th>month</th>\n",
       "      <th>season</th>\n",
       "    </tr>\n",
       "  </thead>\n",
       "  <tbody>\n",
       "    <tr>\n",
       "      <th>0</th>\n",
       "      <td>4359165</td>\n",
       "      <td>0002849b70a3ce2</td>\n",
       "      <td>2024-08-20</td>\n",
       "      <td>2024-08-20 16:08:03</td>\n",
       "      <td>169230</td>\n",
       "      <td>нет</td>\n",
       "      <td>16</td>\n",
       "      <td>rub</td>\n",
       "      <td>mobile</td>\n",
       "      <td>1521.939941</td>\n",
       "      <td>Край билетов</td>\n",
       "      <td>4</td>\n",
       "      <td>10870.990234</td>\n",
       "      <td>NaN</td>\n",
       "      <td>f0f7b271-04eb-4af6-bcb8-8f05cf46d6ad</td>\n",
       "      <td>спектакль</td>\n",
       "      <td>театр</td>\n",
       "      <td>№3322</td>\n",
       "      <td>Каменевский регион</td>\n",
       "      <td>Глиногорск</td>\n",
       "      <td>213</td>\n",
       "      <td>3972</td>\n",
       "      <td>Сценический центр \"Деталь\" Групп</td>\n",
       "      <td>алл. Машиностроителей, д. 19 стр. 6</td>\n",
       "      <td>2024-08-20</td>\n",
       "      <td>100</td>\n",
       "      <td>18.697201</td>\n",
       "      <td>kzt</td>\n",
       "      <td>1521.939941</td>\n",
       "      <td>380.484985</td>\n",
       "      <td>8</td>\n",
       "      <td>лето</td>\n",
       "    </tr>\n",
       "    <tr>\n",
       "      <th>1</th>\n",
       "      <td>7431164</td>\n",
       "      <td>024dc5236465850</td>\n",
       "      <td>2024-07-23</td>\n",
       "      <td>2024-07-23 20:52:02</td>\n",
       "      <td>169230</td>\n",
       "      <td>нет</td>\n",
       "      <td>16</td>\n",
       "      <td>rub</td>\n",
       "      <td>mobile</td>\n",
       "      <td>1902.420044</td>\n",
       "      <td>Край билетов</td>\n",
       "      <td>5</td>\n",
       "      <td>13588.740234</td>\n",
       "      <td>0.0</td>\n",
       "      <td>f0f7b271-04eb-4af6-bcb8-8f05cf46d6ad</td>\n",
       "      <td>спектакль</td>\n",
       "      <td>театр</td>\n",
       "      <td>№3322</td>\n",
       "      <td>Каменевский регион</td>\n",
       "      <td>Глиногорск</td>\n",
       "      <td>213</td>\n",
       "      <td>3972</td>\n",
       "      <td>Сценический центр \"Деталь\" Групп</td>\n",
       "      <td>алл. Машиностроителей, д. 19 стр. 6</td>\n",
       "      <td>2024-07-23</td>\n",
       "      <td>100</td>\n",
       "      <td>18.341900</td>\n",
       "      <td>kzt</td>\n",
       "      <td>1902.420044</td>\n",
       "      <td>380.484009</td>\n",
       "      <td>7</td>\n",
       "      <td>лето</td>\n",
       "    </tr>\n",
       "    <tr>\n",
       "      <th>2</th>\n",
       "      <td>7431106</td>\n",
       "      <td>024dc5236465850</td>\n",
       "      <td>2024-07-23</td>\n",
       "      <td>2024-07-23 20:54:19</td>\n",
       "      <td>169230</td>\n",
       "      <td>нет</td>\n",
       "      <td>16</td>\n",
       "      <td>rub</td>\n",
       "      <td>mobile</td>\n",
       "      <td>1141.449951</td>\n",
       "      <td>Край билетов</td>\n",
       "      <td>3</td>\n",
       "      <td>8153.250000</td>\n",
       "      <td>0.0</td>\n",
       "      <td>f0f7b271-04eb-4af6-bcb8-8f05cf46d6ad</td>\n",
       "      <td>спектакль</td>\n",
       "      <td>театр</td>\n",
       "      <td>№3322</td>\n",
       "      <td>Каменевский регион</td>\n",
       "      <td>Глиногорск</td>\n",
       "      <td>213</td>\n",
       "      <td>3972</td>\n",
       "      <td>Сценический центр \"Деталь\" Групп</td>\n",
       "      <td>алл. Машиностроителей, д. 19 стр. 6</td>\n",
       "      <td>2024-07-23</td>\n",
       "      <td>100</td>\n",
       "      <td>18.341900</td>\n",
       "      <td>kzt</td>\n",
       "      <td>1141.449951</td>\n",
       "      <td>380.483307</td>\n",
       "      <td>7</td>\n",
       "      <td>лето</td>\n",
       "    </tr>\n",
       "  </tbody>\n",
       "</table>\n",
       "</div>"
      ],
      "text/plain": [
       "   order_id          user_id created_dt_msk      created_ts_msk  event_id  \\\n",
       "0   4359165  0002849b70a3ce2     2024-08-20 2024-08-20 16:08:03    169230   \n",
       "1   7431164  024dc5236465850     2024-07-23 2024-07-23 20:52:02    169230   \n",
       "2   7431106  024dc5236465850     2024-07-23 2024-07-23 20:54:19    169230   \n",
       "\n",
       "  cinema_circuit  age_limit currency_code device_type_canonical      revenue  \\\n",
       "0            нет         16           rub                mobile  1521.939941   \n",
       "1            нет         16           rub                mobile  1902.420044   \n",
       "2            нет         16           rub                mobile  1141.449951   \n",
       "\n",
       "   service_name  tickets_count         total  days_since_prev  \\\n",
       "0  Край билетов              4  10870.990234              NaN   \n",
       "1  Край билетов              5  13588.740234              0.0   \n",
       "2  Край билетов              3   8153.250000              0.0   \n",
       "\n",
       "                             event_name event_type_description  \\\n",
       "0  f0f7b271-04eb-4af6-bcb8-8f05cf46d6ad              спектакль   \n",
       "1  f0f7b271-04eb-4af6-bcb8-8f05cf46d6ad              спектакль   \n",
       "2  f0f7b271-04eb-4af6-bcb8-8f05cf46d6ad              спектакль   \n",
       "\n",
       "  event_type_main organizers         region_name   city_name  city_id  \\\n",
       "0           театр      №3322  Каменевский регион  Глиногорск      213   \n",
       "1           театр      №3322  Каменевский регион  Глиногорск      213   \n",
       "2           театр      №3322  Каменевский регион  Глиногорск      213   \n",
       "\n",
       "   venue_id                        venue_name  \\\n",
       "0      3972  Сценический центр \"Деталь\" Групп   \n",
       "1      3972  Сценический центр \"Деталь\" Групп   \n",
       "2      3972  Сценический центр \"Деталь\" Групп   \n",
       "\n",
       "                         venue_address       data  nominal       curs  cdx  \\\n",
       "0  алл. Машиностроителей, д. 19 стр. 6 2024-08-20      100  18.697201  kzt   \n",
       "1  алл. Машиностроителей, д. 19 стр. 6 2024-07-23      100  18.341900  kzt   \n",
       "2  алл. Машиностроителей, д. 19 стр. 6 2024-07-23      100  18.341900  kzt   \n",
       "\n",
       "   revenue_rub  one_ticket_revenue_rub  month season  \n",
       "0  1521.939941              380.484985      8   лето  \n",
       "1  1902.420044              380.484009      7   лето  \n",
       "2  1141.449951              380.483307      7   лето  "
      ]
     },
     "metadata": {},
     "output_type": "display_data"
    }
   ],
   "source": [
    "# Добавим столбец revenue_rub — выручка с заказа в единой валюте — российский рубль.\n",
    "df_uniq['revenue_rub'] = np.where(df_uniq['currency_code']=='kzt', df_uniq['revenue'] * df_uniq['curs'] / df_uniq['nominal'], df_uniq['revenue'])\n",
    "# Добавим столбец one_ticket_revenue_rub — рассчитаем выручку с продажи одного билета на мероприятие.\n",
    "df_uniq['one_ticket_revenue_rub'] = df_uniq['revenue_rub'] / df_uniq['tickets_count']\n",
    "# Добавим столбец month — выделим месяц оформления заказа в отдельный столбец.\n",
    "df_uniq['month'] = df_uniq['created_dt_msk'].dt.month\n",
    "\n",
    "# Опреелим сезонность по условиям\n",
    "conditions = [(df_uniq['month'] <= 2) | (df_uniq['month'] == 12),\n",
    "              (df_uniq['month'] >= 3) & (df_uniq['month'] <= 5),\n",
    "              (df_uniq['month'] >= 6) & (df_uniq['month'] <= 8),\n",
    "              (df_uniq['month'] >= 9) & (df_uniq['month'] <= 11)]\n",
    "\n",
    "choices = ['зима', 'весна', 'лето', 'осень']\n",
    "\n",
    "# Добавим столбец season — с информацией о сезонности, включая такие категории, как: 'лето', 'осень', 'зима', 'весна'\n",
    "df_uniq['season'] = np.select(conditions, choices)\n",
    "\n",
    "# Проверим результат добавления колонок\n",
    "display(df_uniq.head(3))"
   ]
  },
  {
   "cell_type": "code",
   "execution_count": 20,
   "metadata": {},
   "outputs": [],
   "source": [
    "# df_uniq.loc[(df_uniq['month'] <= 2) | (df_uniq['month'] == 12), 'season'] = 'зима'\n",
    "# df_uniq.loc[(df_uniq['month'] >= 3) & (df_uniq['month'] <= 5), 'season'] = 'весна'\n",
    "# df_uniq.loc[(df_uniq['month'] >= 6) & (df_uniq['month'] <= 8), 'season'] = 'лето'\n",
    "# df_uniq.loc[(df_uniq['month'] >= 9) & (df_uniq['month'] <= 11), 'season'] = 'осень'"
   ]
  },
  {
   "cell_type": "markdown",
   "metadata": {},
   "source": [
    "**Вывод:** \n",
    "- формат столбцов хранящих дату 'created_dt_msk', 'created_ts_msk', 'data', был измен с object на datetime \n",
    "- для оптимизации памяти уменьшена размерность столбцов содержащих количественных данные\n",
    "- для дальнейшего анализа добавлены новые столбцы:\n",
    "    - revenue_rub — выручка с заказа в единой валюте — российский рубль\n",
    "    - one_ticket_revenue_rub — выручка с продажи одного билета на мероприятие\n",
    "    - month — месяц оформления заказа\n",
    "    - season — сезонност, включая такие категории, как: 'лето', 'осень', 'зима', 'весна'"
   ]
  },
  {
   "cell_type": "markdown",
   "metadata": {},
   "source": [
    "### 3. Исследовательский анализ данных"
   ]
  },
  {
   "cell_type": "markdown",
   "metadata": {},
   "source": [
    "### 3.1. Анализ распределения заказов по сегментам и их сезонные изменения\n",
    "\n"
   ]
  },
  {
   "cell_type": "markdown",
   "metadata": {},
   "source": [
    "----\n",
    "- Для каждого месяца найдём количество заказов и визуализируем результаты. "
   ]
  },
  {
   "cell_type": "code",
   "execution_count": 21,
   "metadata": {},
   "outputs": [
    {
     "data": {
      "image/png": "[encoded data removed]",
      "text/plain": [
       "<Figure size 1080x576 with 1 Axes>"
      ]
     },
     "metadata": {
      "needs_background": "light"
     },
     "output_type": "display_data"
    }
   ],
   "source": [
    "# Определим Количество заказов по месяцам\n",
    "orders_count = df_uniq.groupby('month')['order_id'].count()\n",
    "\n",
    "# Строим столбчатый график\n",
    "orders_count.plot(\n",
    "         kind='bar',\n",
    "         figsize=(15, 8),\n",
    "         rot = 0)\n",
    "\n",
    "# Настраиваем оформление графика\n",
    "plt.xlabel('Месяц')\n",
    "plt.ylabel('Количество заказов')\n",
    "plt.grid(axis='y')\n",
    "plt.title('Количество заказов по месяцам 2024 г.')\n",
    "# Выводим график\n",
    "plt.show()"
   ]
  },
  {
   "cell_type": "markdown",
   "metadata": {},
   "source": [
    "Вывод:\n",
    "- отмечаем увеличение количества заказов от июня до ноября 2024 г."
   ]
  },
  {
   "cell_type": "markdown",
   "metadata": {},
   "source": [
    "----\n",
    "  Для осеннего и летнего периодов сравним распределение заказов билетов по разным категориям: тип мероприятия, тип устройства, категория мероприятия по возрастному рейтингу."
   ]
  },
  {
   "cell_type": "code",
   "execution_count": 22,
   "metadata": {},
   "outputs": [
    {
     "data": {
      "text/html": [
       "<div>\n",
       "<style scoped>\n",
       "    .dataframe tbody tr th:only-of-type {\n",
       "        vertical-align: middle;\n",
       "    }\n",
       "\n",
       "    .dataframe tbody tr th {\n",
       "        vertical-align: top;\n",
       "    }\n",
       "\n",
       "    .dataframe thead th {\n",
       "        text-align: right;\n",
       "    }\n",
       "</style>\n",
       "<table border=\"1\" class=\"dataframe\">\n",
       "  <thead>\n",
       "    <tr style=\"text-align: right;\">\n",
       "      <th>season</th>\n",
       "      <th>лето</th>\n",
       "      <th>осень</th>\n",
       "    </tr>\n",
       "    <tr>\n",
       "      <th>event_type_main</th>\n",
       "      <th></th>\n",
       "      <th></th>\n",
       "    </tr>\n",
       "  </thead>\n",
       "  <tbody>\n",
       "    <tr>\n",
       "      <th>выставки</th>\n",
       "      <td>50.051986</td>\n",
       "      <td>49.948014</td>\n",
       "    </tr>\n",
       "    <tr>\n",
       "      <th>другое</th>\n",
       "      <td>46.585701</td>\n",
       "      <td>53.414299</td>\n",
       "    </tr>\n",
       "    <tr>\n",
       "      <th>концерты</th>\n",
       "      <td>44.269861</td>\n",
       "      <td>55.730139</td>\n",
       "    </tr>\n",
       "    <tr>\n",
       "      <th>спорт</th>\n",
       "      <td>12.818608</td>\n",
       "      <td>87.181392</td>\n",
       "    </tr>\n",
       "    <tr>\n",
       "      <th>стендап</th>\n",
       "      <td>47.825759</td>\n",
       "      <td>52.174241</td>\n",
       "    </tr>\n",
       "    <tr>\n",
       "      <th>театр</th>\n",
       "      <td>35.685028</td>\n",
       "      <td>64.314972</td>\n",
       "    </tr>\n",
       "    <tr>\n",
       "      <th>ёлки</th>\n",
       "      <td>13.900204</td>\n",
       "      <td>86.099796</td>\n",
       "    </tr>\n",
       "  </tbody>\n",
       "</table>\n",
       "</div>"
      ],
      "text/plain": [
       "season                лето      осень\n",
       "event_type_main                      \n",
       "выставки         50.051986  49.948014\n",
       "другое           46.585701  53.414299\n",
       "концерты         44.269861  55.730139\n",
       "спорт            12.818608  87.181392\n",
       "стендап          47.825759  52.174241\n",
       "театр            35.685028  64.314972\n",
       "ёлки             13.900204  86.099796"
      ]
     },
     "metadata": {},
     "output_type": "display_data"
    },
    {
     "data": {
      "image/png": "[encoded data removed]",
      "text/plain": [
       "<Figure size 648x288 with 1 Axes>"
      ]
     },
     "metadata": {
      "needs_background": "light"
     },
     "output_type": "display_data"
    },
    {
     "data": {
      "text/html": [
       "<div>\n",
       "<style scoped>\n",
       "    .dataframe tbody tr th:only-of-type {\n",
       "        vertical-align: middle;\n",
       "    }\n",
       "\n",
       "    .dataframe tbody tr th {\n",
       "        vertical-align: top;\n",
       "    }\n",
       "\n",
       "    .dataframe thead th {\n",
       "        text-align: right;\n",
       "    }\n",
       "</style>\n",
       "<table border=\"1\" class=\"dataframe\">\n",
       "  <thead>\n",
       "    <tr style=\"text-align: right;\">\n",
       "      <th>season</th>\n",
       "      <th>лето</th>\n",
       "      <th>осень</th>\n",
       "    </tr>\n",
       "    <tr>\n",
       "      <th>device_type_canonical</th>\n",
       "      <th></th>\n",
       "      <th></th>\n",
       "    </tr>\n",
       "  </thead>\n",
       "  <tbody>\n",
       "    <tr>\n",
       "      <th>desktop</th>\n",
       "      <td>38.788323</td>\n",
       "      <td>61.211677</td>\n",
       "    </tr>\n",
       "    <tr>\n",
       "      <th>mobile</th>\n",
       "      <td>40.794203</td>\n",
       "      <td>59.205797</td>\n",
       "    </tr>\n",
       "  </tbody>\n",
       "</table>\n",
       "</div>"
      ],
      "text/plain": [
       "season                      лето      осень\n",
       "device_type_canonical                      \n",
       "desktop                38.788323  61.211677\n",
       "mobile                 40.794203  59.205797"
      ]
     },
     "metadata": {},
     "output_type": "display_data"
    },
    {
     "data": {
      "image/png": "[encoded data removed]",
      "text/plain": [
       "<Figure size 648x288 with 1 Axes>"
      ]
     },
     "metadata": {
      "needs_background": "light"
     },
     "output_type": "display_data"
    },
    {
     "data": {
      "text/html": [
       "<div>\n",
       "<style scoped>\n",
       "    .dataframe tbody tr th:only-of-type {\n",
       "        vertical-align: middle;\n",
       "    }\n",
       "\n",
       "    .dataframe tbody tr th {\n",
       "        vertical-align: top;\n",
       "    }\n",
       "\n",
       "    .dataframe thead th {\n",
       "        text-align: right;\n",
       "    }\n",
       "</style>\n",
       "<table border=\"1\" class=\"dataframe\">\n",
       "  <thead>\n",
       "    <tr style=\"text-align: right;\">\n",
       "      <th>season</th>\n",
       "      <th>лето</th>\n",
       "      <th>осень</th>\n",
       "    </tr>\n",
       "    <tr>\n",
       "      <th>age_limit</th>\n",
       "      <th></th>\n",
       "      <th></th>\n",
       "    </tr>\n",
       "  </thead>\n",
       "  <tbody>\n",
       "    <tr>\n",
       "      <th>0</th>\n",
       "      <td>34.464926</td>\n",
       "      <td>65.535074</td>\n",
       "    </tr>\n",
       "    <tr>\n",
       "      <th>6</th>\n",
       "      <td>41.331380</td>\n",
       "      <td>58.668620</td>\n",
       "    </tr>\n",
       "    <tr>\n",
       "      <th>12</th>\n",
       "      <td>39.235334</td>\n",
       "      <td>60.764666</td>\n",
       "    </tr>\n",
       "    <tr>\n",
       "      <th>16</th>\n",
       "      <td>42.291767</td>\n",
       "      <td>57.708233</td>\n",
       "    </tr>\n",
       "    <tr>\n",
       "      <th>18</th>\n",
       "      <td>47.415602</td>\n",
       "      <td>52.584398</td>\n",
       "    </tr>\n",
       "  </tbody>\n",
       "</table>\n",
       "</div>"
      ],
      "text/plain": [
       "season          лето      осень\n",
       "age_limit                      \n",
       "0          34.464926  65.535074\n",
       "6          41.331380  58.668620\n",
       "12         39.235334  60.764666\n",
       "16         42.291767  57.708233\n",
       "18         47.415602  52.584398"
      ]
     },
     "metadata": {},
     "output_type": "display_data"
    },
    {
     "data": {
      "image/png": "[encoded data removed]",
      "text/plain": [
       "<Figure size 648x288 with 1 Axes>"
      ]
     },
     "metadata": {
      "needs_background": "light"
     },
     "output_type": "display_data"
    }
   ],
   "source": [
    "categories = ['event_type_main', 'device_type_canonical', 'age_limit']\n",
    "\n",
    "for category in categories:\n",
    "    \n",
    "    # Определим количество заказов по сезонам\n",
    "    orders_count = df_uniq.groupby([category, 'season'], as_index=False)['order_id'].count()\n",
    "\n",
    "    # Добавляем столбец с расчетом доли\n",
    "    orders_count['share'] = 100*orders_count['order_id']/orders_count.groupby(category)['order_id'].transform('sum')\n",
    "\n",
    "    # Группируем кол-во заказов по категории\n",
    "    orders_share = pd.pivot_table(orders_count, values='share', index=category,\n",
    "                           columns=['season'], aggfunc=\"sum\") \n",
    "    display(orders_share)\n",
    "    \n",
    "    # Строим столбчатый график\n",
    "    orders_share.plot(kind='bar',\n",
    "                          figsize=(9, 4),\n",
    "                          rot=0\n",
    "                          )\n",
    "    # Настраиваем оформление графика\n",
    "    plt.grid(axis='y')\n",
    "    plt.xlabel(category)\n",
    "    plt.ylabel('Доля заказов, %')\n",
    "    plt.title(f'Распределение заказов билетов по {category}')\n",
    "    # Отображаем график\n",
    "    plt.show()"
   ]
  },
  {
   "cell_type": "markdown",
   "metadata": {},
   "source": [
    "**Вывод:** \n",
    "- сравнительный анализ распределения заказов билетов по типу мероприятия показывает наибольше влияние сезонности на категории спорт,  ёлки где доля осенних заказов существенно выше летних и составляет около 90% от всех заказов, а так же театр с доле осенних заказов  64%. На категории выставки, другое, концерты и стендап влияние сезонности не существенно.\n",
    "- распределения заказов билетов по типу устройства влияние сезонности лето/осень составляет 40/60 соответственно.\n",
    "- сезонность не влияет на категорию 18 и старше при распределения заказов билетов. Для категории 16 и моложе доля осенних заказов выше летних и составляет от 57 до 65 %"
   ]
  },
  {
   "cell_type": "markdown",
   "metadata": {},
   "source": [
    "----\n",
    "Изучим изменение выручки с продажи одного билета в зависимости от типа мероприятия летом и осенью."
   ]
  },
  {
   "cell_type": "code",
   "execution_count": 23,
   "metadata": {},
   "outputs": [
    {
     "data": {
      "image/png": "[encoded data removed]",
      "text/plain": [
       "<Figure size 648x288 with 1 Axes>"
      ]
     },
     "metadata": {
      "needs_background": "light"
     },
     "output_type": "display_data"
    },
    {
     "data": {
      "image/png": "[encoded data removed]",
      "text/plain": [
       "<Figure size 648x288 with 1 Axes>"
      ]
     },
     "metadata": {
      "needs_background": "light"
     },
     "output_type": "display_data"
    },
    {
     "data": {
      "text/html": [
       "<div>\n",
       "<style scoped>\n",
       "    .dataframe tbody tr th:only-of-type {\n",
       "        vertical-align: middle;\n",
       "    }\n",
       "\n",
       "    .dataframe tbody tr th {\n",
       "        vertical-align: top;\n",
       "    }\n",
       "\n",
       "    .dataframe thead th {\n",
       "        text-align: right;\n",
       "    }\n",
       "</style>\n",
       "<table border=\"1\" class=\"dataframe\">\n",
       "  <thead>\n",
       "    <tr style=\"text-align: right;\">\n",
       "      <th>season</th>\n",
       "      <th>лето</th>\n",
       "      <th>осень</th>\n",
       "      <th>changes,%</th>\n",
       "    </tr>\n",
       "    <tr>\n",
       "      <th>event_type_main</th>\n",
       "      <th></th>\n",
       "      <th></th>\n",
       "      <th></th>\n",
       "    </tr>\n",
       "  </thead>\n",
       "  <tbody>\n",
       "    <tr>\n",
       "      <th>выставки</th>\n",
       "      <td>89.53</td>\n",
       "      <td>93.46</td>\n",
       "      <td>4.2</td>\n",
       "    </tr>\n",
       "    <tr>\n",
       "      <th>другое</th>\n",
       "      <td>92.65</td>\n",
       "      <td>83.36</td>\n",
       "      <td>-11.1</td>\n",
       "    </tr>\n",
       "    <tr>\n",
       "      <th>концерты</th>\n",
       "      <td>304.28</td>\n",
       "      <td>269.22</td>\n",
       "      <td>-13.0</td>\n",
       "    </tr>\n",
       "    <tr>\n",
       "      <th>спорт</th>\n",
       "      <td>54.69</td>\n",
       "      <td>50.09</td>\n",
       "      <td>-9.2</td>\n",
       "    </tr>\n",
       "    <tr>\n",
       "      <th>стендап</th>\n",
       "      <td>215.22</td>\n",
       "      <td>228.67</td>\n",
       "      <td>5.9</td>\n",
       "    </tr>\n",
       "    <tr>\n",
       "      <th>театр</th>\n",
       "      <td>213.44</td>\n",
       "      <td>176.47</td>\n",
       "      <td>-20.9</td>\n",
       "    </tr>\n",
       "    <tr>\n",
       "      <th>ёлки</th>\n",
       "      <td>263.50</td>\n",
       "      <td>217.97</td>\n",
       "      <td>-20.9</td>\n",
       "    </tr>\n",
       "  </tbody>\n",
       "</table>\n",
       "</div>"
      ],
      "text/plain": [
       "season             лето   осень  changes,%\n",
       "event_type_main                           \n",
       "выставки          89.53   93.46        4.2\n",
       "другое            92.65   83.36      -11.1\n",
       "концерты         304.28  269.22      -13.0\n",
       "спорт             54.69   50.09       -9.2\n",
       "стендап          215.22  228.67        5.9\n",
       "театр            213.44  176.47      -20.9\n",
       "ёлки             263.50  217.97      -20.9"
      ]
     },
     "metadata": {},
     "output_type": "display_data"
    }
   ],
   "source": [
    "# Определим выручку с продажи одного билета в зависимости от типа мероприятия по сезонам\n",
    "revenue_gr = df_uniq.groupby(['event_type_main', 'season'], as_index=False)\\\n",
    "                            .agg(revenue_sum = ('revenue_rub', 'sum'), ticket_sum = ('tickets_count', 'sum'))\n",
    "\n",
    "# Добавляем столбец с расчетом средней выручки с билета\n",
    "revenue_gr['ticket_revenue'] = round(revenue_gr['revenue_sum']/revenue_gr['ticket_sum'], 2)\n",
    "\n",
    "# Группируем кол-во заказов по категории\n",
    "revenue_ticket = pd.pivot_table(revenue_gr, values='ticket_revenue', index='event_type_main',\n",
    "                           columns=['season'], aggfunc=\"sum\") \n",
    "\n",
    "# Строим столбчатый график\n",
    "revenue_ticket.plot(kind='bar',\n",
    "                      figsize=(9, 4),\n",
    "                      rot=0\n",
    "                      ) \n",
    "# Настраиваем оформление графика\n",
    "plt.grid(axis='y')\n",
    "plt.xlabel(category)\n",
    "plt.ylabel('Выручка, руб')\n",
    "plt.title(f'Распределение выручки от одного билета по типу мероприятия')\n",
    "# Отображаем график\n",
    "plt.show()\n",
    "\n",
    "# Добавим колонку с расчетом относительного изменения осенних значений по сравнению с летними\n",
    "revenue_ticket['changes,%'] = round(100*(revenue_ticket['осень'] - revenue_ticket['лето'])/revenue_ticket['осень'], 1)\n",
    "# Оставляем необходимые для графика столбцы\n",
    "revenue_ticket_gr = revenue_ticket.groupby('event_type_main')['changes,%'].sum() #.agg(changes =('changes,%', 'sum')).reset_index()\n",
    "\n",
    "# Строим столбчатый график\n",
    "\n",
    "colors = ['green' if x >= 0 else 'red' for x in revenue_ticket_gr]\n",
    "revenue_ticket_gr.plot(kind='bar',\n",
    "                      figsize=(9, 4),\n",
    "                      color=colors,\n",
    "                      rot=0\n",
    "                      ) \n",
    "# Настраиваем оформление графика\n",
    "plt.grid(axis='y')\n",
    "plt.xlabel(category)\n",
    "plt.ylabel('Changes, %')\n",
    "plt.title('Изменение средней выручки от одного билета лето-осень, %')\n",
    "# Отображаем график\n",
    "plt.show()\n",
    "display(revenue_ticket)"
   ]
  },
  {
   "cell_type": "markdown",
   "metadata": {},
   "source": [
    "Вывод:\n",
    "- с наступлением осени увеличение средней выручки с одного билета происходит только в категориях выставки(3.7%) и стендап(8.7%). В остальных котегориях она снижается от -4% до -20%. Больле всего это относится к категориям театр(-19.7%) и ёлки(20.4%)"
   ]
  },
  {
   "cell_type": "markdown",
   "metadata": {},
   "source": [
    "####  3.2. Осенняя активность пользователей"
   ]
  },
  {
   "cell_type": "markdown",
   "metadata": {},
   "source": [
    "---\n",
    "- Проанализируем динамику изменений по дням:\n",
    "    - общего числа заказов;\n",
    "    - количества активных пользователей DAU;\n",
    "    - среднего числа заказов на одного пользователя;\n",
    "    - средней стоимости одного билета."
   ]
  },
  {
   "cell_type": "code",
   "execution_count": 25,
   "metadata": {},
   "outputs": [],
   "source": [
    "df_autumn = df_uniq[df_uniq.season=='осень']"
   ]
  },
  {
   "cell_type": "code",
   "execution_count": 26,
   "metadata": {},
   "outputs": [
    {
     "data": {
      "image/png": "[encoded data removed]",
      "text/plain": [
       "<Figure size 864x288 with 1 Axes>"
      ]
     },
     "metadata": {
      "needs_background": "light"
     },
     "output_type": "display_data"
    },
    {
     "data": {
      "image/png": "[encoded data removed]",
      "text/plain": [
       "<Figure size 864x288 with 1 Axes>"
      ]
     },
     "metadata": {
      "needs_background": "light"
     },
     "output_type": "display_data"
    },
    {
     "data": {
      "image/png": "[encoded data removed]",
      "text/plain": [
       "<Figure size 864x288 with 1 Axes>"
      ]
     },
     "metadata": {
      "needs_background": "light"
     },
     "output_type": "display_data"
    },
    {
     "data": {
      "image/png": "[encoded data removed]",
      "text/plain": [
       "<Figure size 864x288 with 1 Axes>"
      ]
     },
     "metadata": {
      "needs_background": "light"
     },
     "output_type": "display_data"
    }
   ],
   "source": [
    "# Рассчитаем по дням число заказов и число уникальных пользователей\n",
    "df_pt = pd.pivot_table(df_autumn, \n",
    "                       values=['order_id', 'user_id', 'total'], \n",
    "                       index='created_dt_msk',\n",
    "                       aggfunc={'order_id':'count', # Общее число заказо\n",
    "                                'user_id': lambda x: x.value_counts().count(), # Кол-во активных пользователей DAU\n",
    "                                'total': lambda x:  x.sum()/df_autumn.loc[x.index, 'tickets_count'].sum() # средняя стоимость одного билета\n",
    "                               }) \n",
    "\n",
    "# Добавим колонку с количеством заказов на одного пользователя\n",
    "df_pt['orders_for_user'] = round(df_pt['order_id']/df_pt['user_id'], 1)\n",
    "# print(df_pt)\n",
    "\n",
    "# Определим категории данных для анализа\n",
    "category = {'order_id':'Общее число заказов', \n",
    "            'user_id':'Кол-во активных пользователей DAU', \n",
    "            'orders_for_user':'Среднее число заказов \\nна одного пользователя',\n",
    "            'total': 'средняя стоимость одного билета'}\n",
    "for i in category:\n",
    "    # Строим линейный график\n",
    "    df_pt[i].plot(figsize=(12, 4), # размер графика\n",
    "                     ylabel=category[i])\n",
    "    plt.xticks(rotation=45)\n",
    "\n",
    "    # Настраиваем оформление графика\n",
    "    plt.grid()\n",
    "    plt.xlabel('Дата')\n",
    "    plt.title(f'Динамика изменений - {category[i]}')\n",
    "    # Выводим график\n",
    "    plt.show()"
   ]
  },
  {
   "cell_type": "markdown",
   "metadata": {},
   "source": [
    "Вывод:\n",
    "- динамика показывает рост числа заказов и количества активных пользователей. Среднее число заказов на одного пользователя в течение месяца сохраняется с тенденцией к небольшому росту. Так же там наблюдаем два пика начала сентября и начала октября связанных с меньшей ценой билета. "
   ]
  },
  {
   "cell_type": "markdown",
   "metadata": {},
   "source": [
    "----\n",
    "Изучим недельную цикличность. Сравним пользовательскую активность в будни и выходные."
   ]
  },
  {
   "cell_type": "code",
   "execution_count": 27,
   "metadata": {},
   "outputs": [
    {
     "name": "stderr",
     "output_type": "stream",
     "text": [
      "C:\\Users\\11961\\AppData\\Local\\Temp\\ipykernel_22048\\3531183238.py:2: SettingWithCopyWarning: \n",
      "A value is trying to be set on a copy of a slice from a DataFrame.\n",
      "Try using .loc[row_indexer,col_indexer] = value instead\n",
      "\n",
      "See the caveats in the documentation: https://pandas.pydata.org/pandas-docs/stable/user_guide/indexing.html#returning-a-view-versus-a-copy\n",
      "  df_uniq['week_day'] = df_uniq['created_dt_msk'].dt.dayofweek\n"
     ]
    },
    {
     "data": {
      "text/html": [
       "<div>\n",
       "<style scoped>\n",
       "    .dataframe tbody tr th:only-of-type {\n",
       "        vertical-align: middle;\n",
       "    }\n",
       "\n",
       "    .dataframe tbody tr th {\n",
       "        vertical-align: top;\n",
       "    }\n",
       "\n",
       "    .dataframe thead th {\n",
       "        text-align: right;\n",
       "    }\n",
       "</style>\n",
       "<table border=\"1\" class=\"dataframe\">\n",
       "  <thead>\n",
       "    <tr style=\"text-align: right;\">\n",
       "      <th></th>\n",
       "      <th>user_id</th>\n",
       "    </tr>\n",
       "    <tr>\n",
       "      <th>week_day</th>\n",
       "      <th></th>\n",
       "    </tr>\n",
       "  </thead>\n",
       "  <tbody>\n",
       "    <tr>\n",
       "      <th>0</th>\n",
       "      <td>6491</td>\n",
       "    </tr>\n",
       "    <tr>\n",
       "      <th>1</th>\n",
       "      <td>7042</td>\n",
       "    </tr>\n",
       "    <tr>\n",
       "      <th>2</th>\n",
       "      <td>6980</td>\n",
       "    </tr>\n",
       "    <tr>\n",
       "      <th>3</th>\n",
       "      <td>7131</td>\n",
       "    </tr>\n",
       "    <tr>\n",
       "      <th>4</th>\n",
       "      <td>7198</td>\n",
       "    </tr>\n",
       "    <tr>\n",
       "      <th>5</th>\n",
       "      <td>6990</td>\n",
       "    </tr>\n",
       "    <tr>\n",
       "      <th>6</th>\n",
       "      <td>6298</td>\n",
       "    </tr>\n",
       "  </tbody>\n",
       "</table>\n",
       "</div>"
      ],
      "text/plain": [
       "          user_id\n",
       "week_day         \n",
       "0            6491\n",
       "1            7042\n",
       "2            6980\n",
       "3            7131\n",
       "4            7198\n",
       "5            6990\n",
       "6            6298"
      ]
     },
     "metadata": {},
     "output_type": "display_data"
    },
    {
     "data": {
      "image/png": "[encoded data removed]",
      "text/plain": [
       "<Figure size 648x288 with 1 Axes>"
      ]
     },
     "metadata": {
      "needs_background": "light"
     },
     "output_type": "display_data"
    }
   ],
   "source": [
    "# Добавим колонку с номером дня недели\n",
    "df_uniq['week_day'] = df_uniq['created_dt_msk'].dt.dayofweek\n",
    "\n",
    "# Сгруппируем по дню недели и кол-ву уникальных пользователей\n",
    "df_weekday = pd.pivot_table(df_uniq, \n",
    "                       values=['user_id'], \n",
    "                       index='week_day',\n",
    "                       aggfunc={'user_id': lambda x: x.value_counts().count()})\n",
    "display(df_weekday)\n",
    "\n",
    "# Строим столбчатый график\n",
    "df_weekday.plot(kind='bar',\n",
    "                      figsize=(9, 4),\n",
    "                      rot=0\n",
    "                      ) \n",
    "# Настраиваем оформление графика\n",
    "plt.grid(axis='y')\n",
    "plt.xlabel(category)\n",
    "plt.ylabel('Кол-во пользователей')\n",
    "plt.xlabel('День недели (0 - пн, 6 -вс)')\n",
    "plt.title('Пользовательская активность по дням недели')\n",
    "\n",
    "# Отображаем график\n",
    "plt.show()\n"
   ]
  },
  {
   "cell_type": "markdown",
   "metadata": {},
   "source": [
    "Вывод?\n",
    "- наибольшая активность пользователей наблюдается в четверг с пиком в пятницу. Наименьшая активность в понедельник и воскресение. Но также при анализе результатов необходимо учесть, что в течение периода количество календарных и фактических выходных и будних дней может отличаться."
   ]
  },
  {
   "cell_type": "markdown",
   "metadata": {},
   "source": [
    "#### 3.3. Популярные события и партнёры"
   ]
  },
  {
   "cell_type": "markdown",
   "metadata": {},
   "source": [
    "----\n",
    "Для каждого региона посчитаем уникальное количество мероприятий и общее число заказов."
   ]
  },
  {
   "cell_type": "code",
   "execution_count": 28,
   "metadata": {},
   "outputs": [
    {
     "data": {
      "text/html": [
       "<div>\n",
       "<style scoped>\n",
       "    .dataframe tbody tr th:only-of-type {\n",
       "        vertical-align: middle;\n",
       "    }\n",
       "\n",
       "    .dataframe tbody tr th {\n",
       "        vertical-align: top;\n",
       "    }\n",
       "\n",
       "    .dataframe thead th {\n",
       "        text-align: right;\n",
       "    }\n",
       "</style>\n",
       "<table border=\"1\" class=\"dataframe\">\n",
       "  <thead>\n",
       "    <tr style=\"text-align: right;\">\n",
       "      <th></th>\n",
       "      <th>region_name</th>\n",
       "      <th>order_count</th>\n",
       "      <th>event_count</th>\n",
       "      <th>event_share,%</th>\n",
       "      <th>order_share,%</th>\n",
       "    </tr>\n",
       "  </thead>\n",
       "  <tbody>\n",
       "    <tr>\n",
       "      <th>23</th>\n",
       "      <td>Каменевский регион</td>\n",
       "      <td>85398</td>\n",
       "      <td>5792</td>\n",
       "      <td>26.3</td>\n",
       "      <td>30.3</td>\n",
       "    </tr>\n",
       "    <tr>\n",
       "      <th>60</th>\n",
       "      <td>Североярская область</td>\n",
       "      <td>43591</td>\n",
       "      <td>3777</td>\n",
       "      <td>17.2</td>\n",
       "      <td>15.5</td>\n",
       "    </tr>\n",
       "    <tr>\n",
       "      <th>77</th>\n",
       "      <td>Широковская область</td>\n",
       "      <td>16087</td>\n",
       "      <td>1217</td>\n",
       "      <td>5.5</td>\n",
       "      <td>5.7</td>\n",
       "    </tr>\n",
       "    <tr>\n",
       "      <th>57</th>\n",
       "      <td>Светополянский округ</td>\n",
       "      <td>7464</td>\n",
       "      <td>1059</td>\n",
       "      <td>4.8</td>\n",
       "      <td>2.7</td>\n",
       "    </tr>\n",
       "    <tr>\n",
       "      <th>52</th>\n",
       "      <td>Речиновская область</td>\n",
       "      <td>6266</td>\n",
       "      <td>701</td>\n",
       "      <td>3.2</td>\n",
       "      <td>2.2</td>\n",
       "    </tr>\n",
       "    <tr>\n",
       "      <th>74</th>\n",
       "      <td>Травяная область</td>\n",
       "      <td>4719</td>\n",
       "      <td>667</td>\n",
       "      <td>3.0</td>\n",
       "      <td>1.7</td>\n",
       "    </tr>\n",
       "    <tr>\n",
       "      <th>11</th>\n",
       "      <td>Горицветская область</td>\n",
       "      <td>5153</td>\n",
       "      <td>551</td>\n",
       "      <td>2.5</td>\n",
       "      <td>1.8</td>\n",
       "    </tr>\n",
       "    <tr>\n",
       "      <th>61</th>\n",
       "      <td>Серебринская область</td>\n",
       "      <td>5586</td>\n",
       "      <td>541</td>\n",
       "      <td>2.5</td>\n",
       "      <td>2.0</td>\n",
       "    </tr>\n",
       "    <tr>\n",
       "      <th>78</th>\n",
       "      <td>Яблоневская область</td>\n",
       "      <td>6120</td>\n",
       "      <td>534</td>\n",
       "      <td>2.4</td>\n",
       "      <td>2.2</td>\n",
       "    </tr>\n",
       "    <tr>\n",
       "      <th>69</th>\n",
       "      <td>Тепляковская область</td>\n",
       "      <td>4384</td>\n",
       "      <td>528</td>\n",
       "      <td>2.4</td>\n",
       "      <td>1.6</td>\n",
       "    </tr>\n",
       "  </tbody>\n",
       "</table>\n",
       "</div>"
      ],
      "text/plain": [
       "             region_name  order_count  event_count  event_share,%  \\\n",
       "23    Каменевский регион        85398         5792           26.3   \n",
       "60  Североярская область        43591         3777           17.2   \n",
       "77   Широковская область        16087         1217            5.5   \n",
       "57  Светополянский округ         7464         1059            4.8   \n",
       "52   Речиновская область         6266          701            3.2   \n",
       "74      Травяная область         4719          667            3.0   \n",
       "11  Горицветская область         5153          551            2.5   \n",
       "61  Серебринская область         5586          541            2.5   \n",
       "78   Яблоневская область         6120          534            2.4   \n",
       "69  Тепляковская область         4384          528            2.4   \n",
       "\n",
       "    order_share,%  \n",
       "23           30.3  \n",
       "60           15.5  \n",
       "77            5.7  \n",
       "57            2.7  \n",
       "52            2.2  \n",
       "74            1.7  \n",
       "11            1.8  \n",
       "61            2.0  \n",
       "78            2.2  \n",
       "69            1.6  "
      ]
     },
     "metadata": {},
     "output_type": "display_data"
    },
    {
     "data": {
      "image/png": "[encoded data removed]",
      "text/plain": [
       "<Figure size 720x360 with 1 Axes>"
      ]
     },
     "metadata": {
      "needs_background": "light"
     },
     "output_type": "display_data"
    }
   ],
   "source": [
    "# Расчитаем уникальное количество мероприятий и общее число заказов\n",
    "events_gr = df_uniq.groupby(['region_name'], as_index=False)\\\n",
    "                            .agg(order_count = ('order_id', 'count'), \n",
    "                                 event_count = ('event_id', lambda x: x.value_counts().count()))\\\n",
    "                            .sort_values(by='event_count',ascending=False)\n",
    "# Добавляем столбец с расчетом доли кол-ва мероприятий региона\n",
    "events_gr['event_share,%'] = round(100*events_gr['event_count']/events_gr['event_count'].sum(), 1)\n",
    "# Добавляем столбец с расчетом доли кол-ва заказов региона\n",
    "events_gr['order_share,%'] = round(100*events_gr['order_count']/events_gr['order_count'].sum(), 1)\n",
    "\n",
    "display(events_gr.head(10))\n",
    "\n",
    "# Строим столбчатую диаграмму\n",
    "events_gr.head(10).sort_values('event_share,%').plot(x = 'region_name',\n",
    "               y = 'event_share,%',\n",
    "               kind = 'barh', # тип графика \n",
    "               rot = 0, # градус вращения подписи по оси Х\n",
    "               figsize=(10, 5),\n",
    "               title = f'Топ-10 регионов по доле проводимых мероприятий'\n",
    "                            )\n",
    "# Настраиваем оформление графика\n",
    "plt.xlabel('Доля мероприятий, %')\n",
    "plt.ylabel('Регион') \n",
    "plt.grid(axis='x') # добавляем сетку графика\n",
    "\n",
    "# Выводим график\n",
    "plt.show()"
   ]
  },
  {
   "cell_type": "markdown",
   "metadata": {},
   "source": [
    "Вывод:\n",
    "- Ключевыми регионами по количеству проводимых мероприятий являются Каменевский регион с долей 26.7% и Североярская область 17%. Остальные регионы имеют долю от 5% и ниже"
   ]
  },
  {
   "cell_type": "markdown",
   "metadata": {},
   "source": [
    "---\n",
    "Для каждого билетного партнёра посчитаем общее число уникальных мероприятий, обработанных заказов и суммарную выручку с заказов билетов."
   ]
  },
  {
   "cell_type": "code",
   "execution_count": 29,
   "metadata": {},
   "outputs": [
    {
     "data": {
      "text/html": [
       "<div>\n",
       "<style scoped>\n",
       "    .dataframe tbody tr th:only-of-type {\n",
       "        vertical-align: middle;\n",
       "    }\n",
       "\n",
       "    .dataframe tbody tr th {\n",
       "        vertical-align: top;\n",
       "    }\n",
       "\n",
       "    .dataframe thead th {\n",
       "        text-align: right;\n",
       "    }\n",
       "</style>\n",
       "<table border=\"1\" class=\"dataframe\">\n",
       "  <thead>\n",
       "    <tr style=\"text-align: right;\">\n",
       "      <th></th>\n",
       "      <th>service_name</th>\n",
       "      <th>order_count</th>\n",
       "      <th>event_count</th>\n",
       "      <th>revenue_sum</th>\n",
       "      <th>event_share,%</th>\n",
       "      <th>order_share,%</th>\n",
       "      <th>revenue_share,%</th>\n",
       "    </tr>\n",
       "  </thead>\n",
       "  <tbody>\n",
       "    <tr>\n",
       "      <th>24</th>\n",
       "      <td>Мой билет</td>\n",
       "      <td>34198</td>\n",
       "      <td>1296</td>\n",
       "      <td>35935232.0</td>\n",
       "      <td>5.4</td>\n",
       "      <td>12.1</td>\n",
       "      <td>21.700001</td>\n",
       "    </tr>\n",
       "    <tr>\n",
       "      <th>3</th>\n",
       "      <td>Билеты без проблем</td>\n",
       "      <td>57819</td>\n",
       "      <td>4018</td>\n",
       "      <td>26427948.0</td>\n",
       "      <td>16.7</td>\n",
       "      <td>20.5</td>\n",
       "      <td>16.000000</td>\n",
       "    </tr>\n",
       "    <tr>\n",
       "      <th>25</th>\n",
       "      <td>Облачко</td>\n",
       "      <td>26402</td>\n",
       "      <td>2335</td>\n",
       "      <td>18588614.0</td>\n",
       "      <td>9.7</td>\n",
       "      <td>9.4</td>\n",
       "      <td>11.200000</td>\n",
       "    </tr>\n",
       "    <tr>\n",
       "      <th>21</th>\n",
       "      <td>Лови билет!</td>\n",
       "      <td>40503</td>\n",
       "      <td>4813</td>\n",
       "      <td>16670375.0</td>\n",
       "      <td>20.0</td>\n",
       "      <td>14.4</td>\n",
       "      <td>10.100000</td>\n",
       "    </tr>\n",
       "    <tr>\n",
       "      <th>8</th>\n",
       "      <td>Весь в билетах</td>\n",
       "      <td>16410</td>\n",
       "      <td>855</td>\n",
       "      <td>16494669.0</td>\n",
       "      <td>3.6</td>\n",
       "      <td>5.8</td>\n",
       "      <td>10.000000</td>\n",
       "    </tr>\n",
       "    <tr>\n",
       "      <th>5</th>\n",
       "      <td>Билеты в руки</td>\n",
       "      <td>39803</td>\n",
       "      <td>3486</td>\n",
       "      <td>13194799.0</td>\n",
       "      <td>14.5</td>\n",
       "      <td>14.1</td>\n",
       "      <td>8.000000</td>\n",
       "    </tr>\n",
       "    <tr>\n",
       "      <th>19</th>\n",
       "      <td>Край билетов</td>\n",
       "      <td>6109</td>\n",
       "      <td>252</td>\n",
       "      <td>6405689.0</td>\n",
       "      <td>1.0</td>\n",
       "      <td>2.2</td>\n",
       "      <td>3.900000</td>\n",
       "    </tr>\n",
       "    <tr>\n",
       "      <th>26</th>\n",
       "      <td>Прачечная</td>\n",
       "      <td>10222</td>\n",
       "      <td>1026</td>\n",
       "      <td>4746810.5</td>\n",
       "      <td>4.3</td>\n",
       "      <td>3.6</td>\n",
       "      <td>2.900000</td>\n",
       "    </tr>\n",
       "    <tr>\n",
       "      <th>13</th>\n",
       "      <td>Дом культуры</td>\n",
       "      <td>4412</td>\n",
       "      <td>272</td>\n",
       "      <td>4358656.0</td>\n",
       "      <td>1.1</td>\n",
       "      <td>1.6</td>\n",
       "      <td>2.600000</td>\n",
       "    </tr>\n",
       "    <tr>\n",
       "      <th>35</th>\n",
       "      <td>Яблоко</td>\n",
       "      <td>5004</td>\n",
       "      <td>714</td>\n",
       "      <td>3868337.0</td>\n",
       "      <td>3.0</td>\n",
       "      <td>1.8</td>\n",
       "      <td>2.300000</td>\n",
       "    </tr>\n",
       "  </tbody>\n",
       "</table>\n",
       "</div>"
      ],
      "text/plain": [
       "          service_name  order_count  event_count  revenue_sum  event_share,%  \\\n",
       "24           Мой билет        34198         1296   35935232.0            5.4   \n",
       "3   Билеты без проблем        57819         4018   26427948.0           16.7   \n",
       "25             Облачко        26402         2335   18588614.0            9.7   \n",
       "21         Лови билет!        40503         4813   16670375.0           20.0   \n",
       "8       Весь в билетах        16410          855   16494669.0            3.6   \n",
       "5        Билеты в руки        39803         3486   13194799.0           14.5   \n",
       "19        Край билетов         6109          252    6405689.0            1.0   \n",
       "26           Прачечная        10222         1026    4746810.5            4.3   \n",
       "13        Дом культуры         4412          272    4358656.0            1.1   \n",
       "35              Яблоко         5004          714    3868337.0            3.0   \n",
       "\n",
       "    order_share,%  revenue_share,%  \n",
       "24           12.1        21.700001  \n",
       "3            20.5        16.000000  \n",
       "25            9.4        11.200000  \n",
       "21           14.4        10.100000  \n",
       "8             5.8        10.000000  \n",
       "5            14.1         8.000000  \n",
       "19            2.2         3.900000  \n",
       "26            3.6         2.900000  \n",
       "13            1.6         2.600000  \n",
       "35            1.8         2.300000  "
      ]
     },
     "metadata": {},
     "output_type": "display_data"
    },
    {
     "data": {
      "image/png": "[encoded data removed]",
      "text/plain": [
       "<Figure size 720x360 with 1 Axes>"
      ]
     },
     "metadata": {
      "needs_background": "light"
     },
     "output_type": "display_data"
    }
   ],
   "source": [
    "# Расчитаем уникальное количество мероприятий и общее число заказов\n",
    "partners_gr = df_uniq.groupby(['service_name'], as_index=False)\\\n",
    "                            .agg(order_count = ('order_id', 'count'), \n",
    "                                 event_count = ('event_id', lambda x: x.value_counts().count()),\n",
    "                                 revenue_sum = ('revenue', 'sum'))\\\n",
    "                            .sort_values(by='revenue_sum',ascending=False)\n",
    "# Добавляем столбец с расчетом доли кол-ва мероприятий от партнера\n",
    "partners_gr['event_share,%'] = round(100*partners_gr['event_count']/partners_gr['event_count'].sum(), 1)\n",
    "# Добавляем столбец с расчетом доли кол-ва заказов от партнера\n",
    "partners_gr['order_share,%'] = round(100*partners_gr['order_count']/partners_gr['order_count'].sum(), 1)\n",
    "# Добавляем столбец с расчетом доли выручки от партнера\n",
    "partners_gr['revenue_share,%'] = round(100*partners_gr['revenue_sum']/partners_gr['revenue_sum'].sum(), 1)\n",
    "\n",
    "display(partners_gr.head(10))\n",
    "\n",
    "# Строим столбчатую диаграмму\n",
    "partners_gr.head(10).sort_values('revenue_share,%').plot(x = 'service_name',\n",
    "               y = 'revenue_share,%',\n",
    "               kind = 'barh', # тип графика \n",
    "               rot = 0, # градус вращения подписи по оси Х\n",
    "               figsize=(10, 5),\n",
    "               title = f'Топ-10 билетных операторов по доле выручки'\n",
    "                            )\n",
    "# Настраиваем оформление графика\n",
    "plt.xlabel('Доля выручки, %')\n",
    "plt.ylabel('Билетный оператор') \n",
    "plt.grid(axis='x') # добавляем сетку графика\n",
    "\n",
    "# Выводим график\n",
    "plt.show()"
   ]
  },
  {
   "cell_type": "markdown",
   "metadata": {},
   "source": [
    "**Вывод:** Явными лидерами среди билетных операторов являются Мой билет\tс долей выручке 22.7% и Билеты без проблем 15.9%. 6 из 36 партнеров-лидеров совокупно приносят около 80% всей выручки. Остальные менее 2-3%"
   ]
  },
  {
   "cell_type": "markdown",
   "metadata": {},
   "source": [
    "### 4. Статистический анализ данных"
   ]
  },
  {
   "cell_type": "markdown",
   "metadata": {},
   "source": [
    "##### 4.1 Проверяем следующие гипотизы:  \n",
    "- H₀ (нулевая гипотеза) — среднее количество заказов на одного пользователя мобильного приложения не отличается от пользователя стационарных устройств.\n",
    "- H₁ (альтернативная гипотеза) — среднее количество заказов на одного пользователя мобильного приложения выше по сравнению с пользователями стационарных устройств.\n",
    "---\n",
    "- Для сравнения средних значений двух выборок наиболее подходит тест Уэлча ttest_ind. T-тест Уэлча не требует равенства дисперсий и применим даже при статистически разных дисперсиях."
   ]
  },
  {
   "cell_type": "code",
   "execution_count": 30,
   "metadata": {},
   "outputs": [
    {
     "name": "stdout",
     "output_type": "stream",
     "text": [
      "Доля уникальных пользователей мобильного приложения: 74 %\n",
      "Доля уникальных пользователей стационарных устройств: 26 %\n",
      "Разница между двумя группами 48 %\n"
     ]
    }
   ],
   "source": [
    "# Определим размер групп для определения типа необходимого теста\n",
    "mob_gr_count = df_autumn[df_autumn['device_type_canonical']=='mobile']['user_id'].nunique()\n",
    "pc_gr_count = df_autumn[df_autumn['device_type_canonical']=='desktop']['user_id'].nunique()\n",
    "\n",
    "# Расчитаем долю уникальных пользователей по типу устройства\n",
    "mob_share = round(100*mob_gr_count/(mob_gr_count+pc_gr_count))\n",
    "print(f'Доля уникальных пользователей мобильного приложения: {mob_share} %')\n",
    "\n",
    "pc_share = round(100*pc_gr_count/(mob_gr_count+pc_gr_count))\n",
    "print(f'Доля уникальных пользователей стационарных устройств: {pc_share} %')\n",
    "\n",
    "diff = abs(mob_share - pc_share)\n",
    "print(f'Разница между двумя группами {diff} %')"
   ]
  },
  {
   "cell_type": "code",
   "execution_count": 31,
   "metadata": {},
   "outputs": [
    {
     "data": {
      "image/png": "[encoded data removed]",
      "text/plain": [
       "<Figure size 648x288 with 1 Axes>"
      ]
     },
     "metadata": {
      "needs_background": "light"
     },
     "output_type": "display_data"
    }
   ],
   "source": [
    "df_ = df_autumn.groupby('device_type_canonical')['user_id'].nunique()\n",
    "\n",
    "# Строим диаграмму распределения пользователей по группам пользователей\n",
    "df_.plot(kind='bar',\n",
    "                  rot=0,\n",
    "                  color=['salmon', 'darkseagreen'],\n",
    "                  figsize=(9, 4))#labels=('Группа А', 'Группа В')\n",
    "            \n",
    "# Настраиваем оформление графика\n",
    "plt.title(\"Распределение пользователей по группам \")\n",
    "plt.ylabel('Кол-во пользователей')\n",
    "# Отображаем график\n",
    "plt.show() "
   ]
  },
  {
   "cell_type": "markdown",
   "metadata": {},
   "source": [
    "Вывод:\n",
    "- распределение кол-ва пользователей не равномерно. Разницу количества между двух групп менее 48% является существенной существенной"
   ]
  },
  {
   "cell_type": "code",
   "execution_count": 32,
   "metadata": {},
   "outputs": [
    {
     "name": "stdout",
     "output_type": "stream",
     "text": [
      "Кол-во пользователей, которые встречаются одновременно в группах A и B: 3234\n"
     ]
    }
   ],
   "source": [
    "# Пользователи группы А\n",
    "mob_gr = df_autumn[df_autumn['device_type_canonical']=='mobile']['user_id']\n",
    "# Пользователи группы В\n",
    "pc_gr = df_autumn[df_autumn['device_type_canonical']=='desktop']['user_id']\n",
    "\n",
    "# Рассчитаем количество пользователей, которые встречаются одновременно в группах A и B\n",
    "interselection = len(list(set(mob_gr) & set(pc_gr)))\n",
    "print(f'Кол-во пользователей, которые встречаются одновременно в группах A и B: {interselection}')"
   ]
  },
  {
   "cell_type": "code",
   "execution_count": 33,
   "metadata": {},
   "outputs": [
    {
     "data": {
      "image/png": "[encoded data removed]",
      "text/plain": [
       "<Figure size 432x288 with 1 Axes>"
      ]
     },
     "metadata": {},
     "output_type": "display_data"
    }
   ],
   "source": [
    "A = set(mob_gr.unique())\n",
    "B = set(pc_gr.unique())\n",
    "\n",
    "# Строим диаграмму Венна\n",
    "venn2([A, B], set_labels=('mobil', 'PC'))\n",
    "\n",
    "# Отображаем график\n",
    "plt.title(\"Пересечение \")\n",
    "plt.show() \n"
   ]
  },
  {
   "cell_type": "markdown",
   "metadata": {},
   "source": [
    "Вывод:\n",
    "- диаграмма Венна показывает наличие пересечений двух групп между собой, т.е. пользователи одной группы попадают в другую"
   ]
  },
  {
   "cell_type": "code",
   "execution_count": 34,
   "metadata": {},
   "outputs": [],
   "source": [
    "# Определим уникальные user_id попавшие в пересечение обоих групп пользователей\n",
    "cross = set(mob_gr) & set(pc_gr)\n",
    "\n",
    "# Отсечём пользователей попавшие в обе группы\n",
    "df_no_cross = df_autumn[~df_autumn['user_id'].isin(cross)]"
   ]
  },
  {
   "cell_type": "code",
   "execution_count": 35,
   "metadata": {},
   "outputs": [
    {
     "name": "stdout",
     "output_type": "stream",
     "text": [
      "Полученное значение теста Уэлча p_value=0.0 меньше критического уровня alpha=0.05 Принимаем альтернативную гипотезу.\n",
      "H₁ (альтернативная гипотеза) — среднее количество заказов на одного пользователя мобильного приложения выше по сравнению с пользователями стационарных устройств.\n"
     ]
    }
   ],
   "source": [
    "# Определим среднее количество заказов на одного пользователя мобильного приложения\n",
    "mob_user_test_1 = df_no_cross[df_no_cross['device_type_canonical']=='mobile'].groupby('user_id')['order_id'].count()\n",
    "# Определим среднее количество заказов на одного пользователя стационарных устройств\n",
    "pc_user_test_1 = df_no_cross[df_no_cross['device_type_canonical']=='desktop'].groupby('user_id')['order_id'].count()\n",
    "\n",
    "alpha = 0.05 ## на каком уровне значимости проверяем гипотезу о равенстве выборочных средних\n",
    "stat_ttest, p_value_ttest = ttest_ind(\n",
    "    mob_user_test_1, \n",
    "    pc_user_test_1,\n",
    "    equal_var=False,\n",
    "    alternative='greater' ) \n",
    "\n",
    "if p_value_ttest>alpha:\n",
    "    print(f'Полученное значение теста Уэлча p_value={round(p_value_ttest, 5)} больше критического уровня alpha={alpha} Опровергнуть нулевую гипотезу нельзя.')\n",
    "    print('H₀ (нулевая гипотеза) — среднее количество заказов на одного пользователя мобильного приложения не отличается от пользователя стационарных устройств')\n",
    "else:\n",
    "    print(f'Полученное значение теста Уэлча p_value={round(p_value_ttest, 5)} меньше критического уровня alpha={alpha} Принимаем альтернативную гипотезу.')    \n",
    "    print('H₁ (альтернативная гипотеза) — среднее количество заказов на одного пользователя мобильного приложения выше по сравнению с пользователями стационарных устройств.')"
   ]
  },
  {
   "cell_type": "markdown",
   "metadata": {},
   "source": [
    "##### 4.2   Проверяем следующие гипотизы:  \n",
    "- H₀ (нулевая гипотеза) — Среднее время между заказами пользователей мобильных приложений не отличается от времени пользователей стационарных устройств.\n",
    "- H₁ (альтернативная гипотеза) — Среднее время между заказами пользователей мобильных приложений выше по сравнению с пользователями стационарных устройств.\n",
    "---\n",
    "Для сравнения средних значений двух выборок наиболее подходит тест Уэлча ttest_ind. T-тест Уэлча не требует равенства дисперсий и применим даже при статистически разных дисперсиях."
   ]
  },
  {
   "cell_type": "code",
   "execution_count": 36,
   "metadata": {},
   "outputs": [
    {
     "name": "stdout",
     "output_type": "stream",
     "text": [
      "Полученное значение теста Уэлча p_value=1.0 больше критического уровня alpha=0.05 Опровергнуть нулевую гипотезу нельзя.\n",
      "H₀ (нулевая гипотеза) — среднее время между заказами пользователей мобильных приложений не отличается от времени пользователей стационарных устройств.\n"
     ]
    }
   ],
   "source": [
    "# Определим среднее время между заказами пользователей мобильных приложений\n",
    "mob_user_test_2 = df_no_cross.loc[(df_no_cross['device_type_canonical']=='mobile') & (df_uniq['days_since_prev']>0)]['days_since_prev']\n",
    "# Определим среднее время между заказами пользователей стационарных устройств\n",
    "pc_user_test_2 = df_no_cross.loc[(df_no_cross['device_type_canonical']=='desktop') & (df_uniq['days_since_prev']>0)]['days_since_prev']\n",
    "\n",
    "alpha = 0.05 ## на каком уровне значимости проверяем гипотезу о равенстве выборочных средних\n",
    "stat_ttest, p_value_ttest = ttest_ind(\n",
    "    mob_user_test_2, \n",
    "    pc_user_test_2, \n",
    "    equal_var=False,\n",
    "    alternative='greater' ) \n",
    "\n",
    "if p_value_ttest>alpha:\n",
    "    print(f'Полученное значение теста Уэлча p_value={round(p_value_ttest, 5)} больше критического уровня alpha={alpha} Опровергнуть нулевую гипотезу нельзя.')\n",
    "    print('H₀ (нулевая гипотеза) — среднее время между заказами пользователей мобильных приложений не отличается от времени пользователей стационарных устройств.')\n",
    "else:\n",
    "    print(f'Полученное значение теста Уэлча p_value={round(p_value_ttest, 5)} меньше критического уровня alpha={alpha} Принимаем альтернативную гипотезу.')    \n",
    "    print('H₁ (альтернативная гипотеза) — среднее время между заказами пользователей мобильных приложений выше по сравнению с пользователями стационарных устройств.')"
   ]
  },
  {
   "cell_type": "markdown",
   "metadata": {},
   "source": [
    " ### 5. Общий вывод и рекомендации"
   ]
  },
  {
   "cell_type": "markdown",
   "metadata": {},
   "source": [
    "Общий обзор проделанной работы. В ходе исследования были проанализированы данные сервиса Яндекс Афиша за период июнь-октябрь 2024.\n",
    "- Первичноый анализ полноты данных показывает, что данные достаточно высокого качества. Наличие 29 неявных дубликатов и пропущенные 7.5% данных в колонке с количеством дней с предыдущей покупки не являются существенными. Полнона и корректность данных достаточна для анализа.\n",
    "- Популярность мерооприятий осенью растёт хотя и наблюдается небольшое снижение средней выручки. Наибольше влияние сезонности на категории спорт, ёлки где доля осенних заказов существенно выше летних и составляет около 90% от всех заказов, а так же театр с доле осенних заказов 64%. На категории выставки, другое, концерты и стендап влияние сезонности не существенно. С наступлением осени увеличение средней выручки с одного билета происходит только в категориях выставки(3.7%) и стендап(8.7%). В остальных котегориях она снижается от -4% до -20%. Больле всего это относится к категориям театр(-19.7%) и ёлки(20.4%)  \n",
    "- Динамика показывает рост количества активных пользователей и числа заказов. Если в летние месяцы тренд роста незначительный, то с наступлением осени наблюдаем существенное повышение динамики роста. Так же наблюдаем два пика начала сентября и начала октября.\n",
    "- Сезонность не влияет на категорию 18 и старше при распределения заказов билетов. Для категории 16 и моложе доля осенних заказов выше летних и составляет от 57 до 65 %\n",
    "- Наибольшая активность пользователей наблюдается в четверг с пиком в пятницу. Наименьшая активность в понедельник и воскресение \n",
    "- Ключевыми регионами по количеству проводимых мероприятий являются Каменевский регион с долей 26.7% и Североярская область 17%. Остальные регионы имеют долю от 5% и ниже\n",
    "- Явными лидерами среди билетных операторов являются Мой билет с долей выручке 22.7% и Билеты без проблем 15.9%. 6 из 36 партнеров-лидеров совокупно приносят около 80% всей выручки. Остальные менее 2-3%\n",
    "- В результа стат анализа подтвердилась гипотеза, что среднее количество заказов на одного пользователя мобильного приложения выше по сравнению с пользователями стационарных устройств\n",
    "- Также было выяснено, что среднее время между заказами пользователей мобильных приложений не отличается от времени пользователей стационарных устройств.\n",
    "\n",
    "На основе исследования можно было увидеть, что с наступлением осени увеличилось количество заказов, однако у средней стоимости был тренд к снижению. Одна из причин - существенное увеличения осенью мероприятий для возростной группы 16 лет и моложе с более низкой ценой билета, а так же спортивных мероприятий. Также с окончание отпускного периода происходит оживление интереса пользователей к проведению досуга. В свою очередь, компании предлагающие услуги идут на снижение цен с целью привлечения большего числа пользователей на свои мероприятия.\n",
    "\n",
    "Рекомендации: Уделить больше внимание и развивать мобильные сервисы как наиболее перспективные и удобные для предложения услуг с акцентом на молодежную аудиторию. "
   ]
  },
  {
   "cell_type": "code",
   "execution_count": null,
   "metadata": {},
   "outputs": [],
   "source": []
  }
 ],
 "metadata": {
  "ExecuteTimeLog": [
   {
    "duration": 1367,
    "start_time": "2025-07-31T12:43:26.046Z"
   },
   {
    "duration": 847,
    "start_time": "2025-07-31T12:45:28.900Z"
   },
   {
    "duration": 1290,
    "start_time": "2025-07-31T12:49:44.387Z"
   },
   {
    "duration": 2048,
    "start_time": "2025-07-31T12:50:24.733Z"
   },
   {
    "duration": 114,
    "start_time": "2025-07-31T15:31:14.379Z"
   },
   {
    "duration": 121,
    "start_time": "2025-07-31T15:35:25.914Z"
   },
   {
    "duration": 120,
    "start_time": "2025-07-31T15:35:38.578Z"
   },
   {
    "duration": 122,
    "start_time": "2025-07-31T15:36:49.195Z"
   },
   {
    "duration": 103,
    "start_time": "2025-07-31T15:37:47.596Z"
   },
   {
    "duration": 101,
    "start_time": "2025-07-31T15:41:39.460Z"
   },
   {
    "duration": 377,
    "start_time": "2025-07-31T15:42:37.862Z"
   },
   {
    "duration": 221,
    "start_time": "2025-07-31T15:45:03.047Z"
   },
   {
    "duration": 75,
    "start_time": "2025-07-31T18:13:15.914Z"
   },
   {
    "duration": 1320,
    "start_time": "2025-07-31T18:13:30.073Z"
   },
   {
    "duration": 2159,
    "start_time": "2025-07-31T18:13:31.395Z"
   },
   {
    "duration": 127,
    "start_time": "2025-07-31T18:13:33.556Z"
   },
   {
    "duration": 449,
    "start_time": "2025-07-31T18:13:33.685Z"
   },
   {
    "duration": 234,
    "start_time": "2025-07-31T18:13:34.136Z"
   },
   {
    "duration": 1181,
    "start_time": "2025-07-31T18:13:34.372Z"
   },
   {
    "duration": 1109,
    "start_time": "2025-07-31T19:33:20.295Z"
   },
   {
    "duration": 2135,
    "start_time": "2025-07-31T19:33:21.406Z"
   },
   {
    "duration": 134,
    "start_time": "2025-07-31T19:33:23.543Z"
   },
   {
    "duration": 484,
    "start_time": "2025-07-31T19:33:23.679Z"
   },
   {
    "duration": 278,
    "start_time": "2025-07-31T19:33:24.166Z"
   },
   {
    "duration": 1272,
    "start_time": "2025-07-31T19:33:24.446Z"
   },
   {
    "duration": 1347,
    "start_time": "2025-07-31T19:37:21.480Z"
   },
   {
    "duration": 1125,
    "start_time": "2025-07-31T19:38:12.217Z"
   },
   {
    "duration": 30,
    "start_time": "2025-07-31T19:51:30.411Z"
   },
   {
    "duration": 30,
    "start_time": "2025-07-31T19:51:52.466Z"
   },
   {
    "duration": 40,
    "start_time": "2025-07-31T19:52:28.323Z"
   },
   {
    "duration": 32,
    "start_time": "2025-07-31T19:53:20.505Z"
   },
   {
    "duration": 923,
    "start_time": "2025-07-31T20:13:19.380Z"
   },
   {
    "duration": 793,
    "start_time": "2025-07-31T20:14:42.045Z"
   },
   {
    "duration": 345,
    "start_time": "2025-07-31T20:18:05.364Z"
   },
   {
    "duration": 1156,
    "start_time": "2025-07-31T20:18:24.644Z"
   },
   {
    "duration": 1250,
    "start_time": "2025-08-01T08:47:50.671Z"
   },
   {
    "duration": 1480,
    "start_time": "2025-08-01T08:47:51.923Z"
   },
   {
    "duration": 125,
    "start_time": "2025-08-01T08:47:53.405Z"
   },
   {
    "duration": 434,
    "start_time": "2025-08-01T08:47:53.532Z"
   },
   {
    "duration": 216,
    "start_time": "2025-08-01T08:47:53.967Z"
   },
   {
    "duration": 1028,
    "start_time": "2025-08-01T08:47:54.185Z"
   },
   {
    "duration": 30,
    "start_time": "2025-08-01T08:47:55.214Z"
   },
   {
    "duration": 1076,
    "start_time": "2025-08-01T08:47:55.246Z"
   },
   {
    "duration": 929,
    "start_time": "2025-08-01T08:47:56.324Z"
   },
   {
    "duration": 95,
    "start_time": "2025-08-01T08:57:29.015Z"
   },
   {
    "duration": 92,
    "start_time": "2025-08-01T08:57:33.431Z"
   },
   {
    "duration": 27,
    "start_time": "2025-08-01T08:57:37.145Z"
   },
   {
    "duration": 28,
    "start_time": "2025-08-01T09:04:29.219Z"
   },
   {
    "duration": 50,
    "start_time": "2025-08-01T09:07:42.582Z"
   },
   {
    "duration": 50,
    "start_time": "2025-08-01T09:09:08.247Z"
   },
   {
    "duration": 48,
    "start_time": "2025-08-01T09:11:06.911Z"
   },
   {
    "duration": 52,
    "start_time": "2025-08-01T09:13:01.747Z"
   },
   {
    "duration": 11,
    "start_time": "2025-08-01T09:16:28.349Z"
   },
   {
    "duration": 11,
    "start_time": "2025-08-01T09:18:33.464Z"
   },
   {
    "duration": 477,
    "start_time": "2025-08-01T09:23:10.261Z"
   },
   {
    "duration": 109,
    "start_time": "2025-08-01T09:26:04.011Z"
   },
   {
    "duration": 171,
    "start_time": "2025-08-01T09:26:17.592Z"
   },
   {
    "duration": 10,
    "start_time": "2025-08-01T09:26:50.979Z"
   },
   {
    "duration": 36,
    "start_time": "2025-08-01T09:28:45.467Z"
   },
   {
    "duration": 820,
    "start_time": "2025-08-01T09:29:43.499Z"
   },
   {
    "duration": 803,
    "start_time": "2025-08-01T09:30:40.325Z"
   },
   {
    "duration": 847,
    "start_time": "2025-08-01T09:30:45.715Z"
   },
   {
    "duration": 848,
    "start_time": "2025-08-01T09:31:28.765Z"
   },
   {
    "duration": 1112,
    "start_time": "2025-08-01T09:34:41.136Z"
   },
   {
    "duration": 2108,
    "start_time": "2025-08-01T09:35:24.364Z"
   },
   {
    "duration": 842,
    "start_time": "2025-08-01T09:35:32.904Z"
   },
   {
    "duration": 917,
    "start_time": "2025-08-01T09:35:42.791Z"
   },
   {
    "duration": 865,
    "start_time": "2025-08-01T09:35:52.744Z"
   },
   {
    "duration": 949,
    "start_time": "2025-08-01T09:38:39.161Z"
   },
   {
    "duration": 11,
    "start_time": "2025-08-01T09:39:58.243Z"
   },
   {
    "duration": 10,
    "start_time": "2025-08-01T09:40:09.324Z"
   },
   {
    "duration": 845,
    "start_time": "2025-08-01T09:41:30.261Z"
   },
   {
    "duration": 279,
    "start_time": "2025-08-01T09:43:22.157Z"
   },
   {
    "duration": 997,
    "start_time": "2025-08-01T09:47:49.152Z"
   },
   {
    "duration": 4,
    "start_time": "2025-08-01T09:53:43.380Z"
   },
   {
    "duration": 1336,
    "start_time": "2025-08-01T09:55:06.811Z"
   },
   {
    "duration": 313,
    "start_time": "2025-08-01T09:55:33.287Z"
   },
   {
    "duration": 614,
    "start_time": "2025-08-01T09:56:07.047Z"
   },
   {
    "duration": 650,
    "start_time": "2025-08-01T09:56:29.318Z"
   },
   {
    "duration": 604,
    "start_time": "2025-08-01T09:56:39.286Z"
   },
   {
    "duration": 659,
    "start_time": "2025-08-01T09:56:59.048Z"
   },
   {
    "duration": 614,
    "start_time": "2025-08-01T09:57:53.870Z"
   },
   {
    "duration": 609,
    "start_time": "2025-08-01T09:59:17.607Z"
   },
   {
    "duration": 63,
    "start_time": "2025-08-01T10:01:11.815Z"
   },
   {
    "duration": 1147,
    "start_time": "2025-08-01T10:01:25.624Z"
   },
   {
    "duration": 1132,
    "start_time": "2025-08-01T10:04:09.189Z"
   },
   {
    "duration": 1281,
    "start_time": "2025-08-01T10:09:04.942Z"
   },
   {
    "duration": 1136,
    "start_time": "2025-08-01T10:11:21.951Z"
   },
   {
    "duration": 1145,
    "start_time": "2025-08-01T10:12:40.626Z"
   },
   {
    "duration": 1163,
    "start_time": "2025-08-01T10:13:23.295Z"
   },
   {
    "duration": 3,
    "start_time": "2025-08-01T10:18:05.677Z"
   },
   {
    "duration": 2,
    "start_time": "2025-08-01T10:24:01.637Z"
   },
   {
    "duration": 1210,
    "start_time": "2025-08-01T11:35:33.654Z"
   },
   {
    "duration": 1696,
    "start_time": "2025-08-01T11:36:13.418Z"
   },
   {
    "duration": 1177,
    "start_time": "2025-08-01T11:37:26.985Z"
   },
   {
    "duration": 1192,
    "start_time": "2025-08-01T11:37:50.593Z"
   },
   {
    "duration": 525,
    "start_time": "2025-08-01T11:56:42.463Z"
   },
   {
    "duration": 1082,
    "start_time": "2025-08-01T11:57:02.244Z"
   },
   {
    "duration": 98,
    "start_time": "2025-08-01T12:01:52.927Z"
   },
   {
    "duration": 1077,
    "start_time": "2025-08-01T12:02:04.248Z"
   },
   {
    "duration": 1101,
    "start_time": "2025-08-01T12:04:40.986Z"
   },
   {
    "duration": 1103,
    "start_time": "2025-08-01T12:04:48.550Z"
   },
   {
    "duration": 2257,
    "start_time": "2025-08-01T12:06:04.053Z"
   },
   {
    "duration": 238,
    "start_time": "2025-08-01T12:24:47.776Z"
   },
   {
    "duration": 185,
    "start_time": "2025-08-01T12:25:15.335Z"
   },
   {
    "duration": 12,
    "start_time": "2025-08-01T12:27:57.263Z"
   },
   {
    "duration": 14,
    "start_time": "2025-08-01T12:28:49.648Z"
   },
   {
    "duration": 12,
    "start_time": "2025-08-01T12:29:07.680Z"
   },
   {
    "duration": 10,
    "start_time": "2025-08-01T12:32:22.314Z"
   },
   {
    "duration": 13,
    "start_time": "2025-08-01T12:32:57.434Z"
   },
   {
    "duration": 182,
    "start_time": "2025-08-01T12:37:11.004Z"
   },
   {
    "duration": 9,
    "start_time": "2025-08-01T12:52:59.553Z"
   },
   {
    "duration": 9,
    "start_time": "2025-08-01T12:53:34.328Z"
   },
   {
    "duration": 9,
    "start_time": "2025-08-01T12:54:45.962Z"
   },
   {
    "duration": 21,
    "start_time": "2025-08-01T12:55:05.280Z"
   },
   {
    "duration": 1038,
    "start_time": "2025-08-01T12:57:19.002Z"
   },
   {
    "duration": 1710,
    "start_time": "2025-08-01T12:57:20.042Z"
   },
   {
    "duration": 122,
    "start_time": "2025-08-01T12:57:21.754Z"
   },
   {
    "duration": 464,
    "start_time": "2025-08-01T12:57:21.879Z"
   },
   {
    "duration": 223,
    "start_time": "2025-08-01T12:57:22.345Z"
   },
   {
    "duration": 1024,
    "start_time": "2025-08-01T12:57:22.570Z"
   },
   {
    "duration": 269,
    "start_time": "2025-08-01T12:57:23.596Z"
   },
   {
    "duration": 34,
    "start_time": "2025-08-01T12:57:23.867Z"
   },
   {
    "duration": 952,
    "start_time": "2025-08-01T12:57:23.903Z"
   },
   {
    "duration": 927,
    "start_time": "2025-08-01T12:57:24.859Z"
   },
   {
    "duration": 12,
    "start_time": "2025-08-01T12:57:25.788Z"
   },
   {
    "duration": 370,
    "start_time": "2025-08-01T12:57:25.801Z"
   },
   {
    "duration": 816,
    "start_time": "2025-08-01T12:57:26.172Z"
   },
   {
    "duration": 696,
    "start_time": "2025-08-01T12:57:26.989Z"
   },
   {
    "duration": 0,
    "start_time": "2025-08-01T12:57:27.686Z"
   },
   {
    "duration": 0,
    "start_time": "2025-08-01T12:57:27.687Z"
   },
   {
    "duration": 1,
    "start_time": "2025-08-01T12:57:27.688Z"
   },
   {
    "duration": 2326,
    "start_time": "2025-08-01T12:59:30.664Z"
   },
   {
    "duration": 203,
    "start_time": "2025-08-01T12:59:41.632Z"
   },
   {
    "duration": 12,
    "start_time": "2025-08-01T13:04:02.090Z"
   },
   {
    "duration": 116,
    "start_time": "2025-08-01T13:08:00.485Z"
   },
   {
    "duration": 35,
    "start_time": "2025-08-01T13:12:07.081Z"
   },
   {
    "duration": 32,
    "start_time": "2025-08-01T13:12:31.754Z"
   },
   {
    "duration": 1080,
    "start_time": "2025-08-01T13:13:09.793Z"
   },
   {
    "duration": 2039,
    "start_time": "2025-08-01T13:13:10.876Z"
   },
   {
    "duration": 121,
    "start_time": "2025-08-01T13:13:12.919Z"
   },
   {
    "duration": 434,
    "start_time": "2025-08-01T13:13:13.042Z"
   },
   {
    "duration": 222,
    "start_time": "2025-08-01T13:13:13.478Z"
   },
   {
    "duration": 1058,
    "start_time": "2025-08-01T13:13:13.702Z"
   },
   {
    "duration": 281,
    "start_time": "2025-08-01T13:13:14.762Z"
   },
   {
    "duration": 38,
    "start_time": "2025-08-01T13:13:15.045Z"
   },
   {
    "duration": 887,
    "start_time": "2025-08-01T13:13:15.085Z"
   },
   {
    "duration": 925,
    "start_time": "2025-08-01T13:13:15.977Z"
   },
   {
    "duration": 11,
    "start_time": "2025-08-01T13:13:16.904Z"
   },
   {
    "duration": 509,
    "start_time": "2025-08-01T13:13:16.916Z"
   },
   {
    "duration": 818,
    "start_time": "2025-08-01T13:13:17.429Z"
   },
   {
    "duration": 2360,
    "start_time": "2025-08-01T13:13:18.249Z"
   },
   {
    "duration": 231,
    "start_time": "2025-08-01T13:13:20.611Z"
   },
   {
    "duration": 186,
    "start_time": "2025-08-01T13:13:20.844Z"
   },
   {
    "duration": 113,
    "start_time": "2025-08-01T13:13:21.032Z"
   },
   {
    "duration": 125,
    "start_time": "2025-08-01T13:13:56.169Z"
   },
   {
    "duration": 721,
    "start_time": "2025-08-01T13:15:02.842Z"
   },
   {
    "duration": 28,
    "start_time": "2025-08-01T13:16:13.467Z"
   },
   {
    "duration": 66,
    "start_time": "2025-08-01T13:16:43.587Z"
   },
   {
    "duration": 43,
    "start_time": "2025-08-01T13:17:28.989Z"
   },
   {
    "duration": 1095,
    "start_time": "2025-08-01T13:21:14.901Z"
   },
   {
    "duration": 2028,
    "start_time": "2025-08-01T13:21:15.998Z"
   },
   {
    "duration": 117,
    "start_time": "2025-08-01T13:21:18.028Z"
   },
   {
    "duration": 443,
    "start_time": "2025-08-01T13:21:18.147Z"
   },
   {
    "duration": 224,
    "start_time": "2025-08-01T13:21:18.591Z"
   },
   {
    "duration": 1035,
    "start_time": "2025-08-01T13:21:18.816Z"
   },
   {
    "duration": 279,
    "start_time": "2025-08-01T13:21:19.853Z"
   },
   {
    "duration": 29,
    "start_time": "2025-08-01T13:21:20.133Z"
   },
   {
    "duration": 792,
    "start_time": "2025-08-01T13:21:20.164Z"
   },
   {
    "duration": 943,
    "start_time": "2025-08-01T13:21:20.958Z"
   },
   {
    "duration": 11,
    "start_time": "2025-08-01T13:21:21.903Z"
   },
   {
    "duration": 372,
    "start_time": "2025-08-01T13:21:21.916Z"
   },
   {
    "duration": 846,
    "start_time": "2025-08-01T13:21:22.289Z"
   },
   {
    "duration": 2273,
    "start_time": "2025-08-01T13:21:23.137Z"
   },
   {
    "duration": 220,
    "start_time": "2025-08-01T13:21:25.412Z"
   },
   {
    "duration": 177,
    "start_time": "2025-08-01T13:21:25.634Z"
   },
   {
    "duration": 111,
    "start_time": "2025-08-01T13:21:25.813Z"
   },
   {
    "duration": 12,
    "start_time": "2025-08-01T13:27:14.642Z"
   },
   {
    "duration": 484,
    "start_time": "2025-08-01T13:39:10.432Z"
   },
   {
    "duration": 13,
    "start_time": "2025-08-01T13:46:07.011Z"
   },
   {
    "duration": 30,
    "start_time": "2025-08-01T13:46:44.301Z"
   },
   {
    "duration": 13,
    "start_time": "2025-08-01T13:47:26.614Z"
   },
   {
    "duration": 6,
    "start_time": "2025-08-01T13:48:05.712Z"
   },
   {
    "duration": 5,
    "start_time": "2025-08-01T13:48:40.924Z"
   },
   {
    "duration": 14,
    "start_time": "2025-08-01T13:49:10.937Z"
   },
   {
    "duration": 12,
    "start_time": "2025-08-01T13:49:34.175Z"
   },
   {
    "duration": 544,
    "start_time": "2025-08-01T13:50:39.223Z"
   },
   {
    "duration": 240,
    "start_time": "2025-08-01T13:51:38.681Z"
   },
   {
    "duration": 1014,
    "start_time": "2025-08-01T13:51:58.525Z"
   },
   {
    "duration": 278,
    "start_time": "2025-08-01T13:52:08.410Z"
   },
   {
    "duration": 31,
    "start_time": "2025-08-01T13:52:11.870Z"
   },
   {
    "duration": 806,
    "start_time": "2025-08-01T13:52:14.964Z"
   },
   {
    "duration": 900,
    "start_time": "2025-08-01T13:52:18.477Z"
   },
   {
    "duration": 11,
    "start_time": "2025-08-01T13:52:22.370Z"
   },
   {
    "duration": 259,
    "start_time": "2025-08-01T13:52:25.432Z"
   },
   {
    "duration": 933,
    "start_time": "2025-08-01T13:52:28.403Z"
   },
   {
    "duration": 2266,
    "start_time": "2025-08-01T13:52:34.218Z"
   },
   {
    "duration": 212,
    "start_time": "2025-08-01T13:52:39.618Z"
   },
   {
    "duration": 2235,
    "start_time": "2025-08-01T13:54:45.524Z"
   },
   {
    "duration": 2208,
    "start_time": "2025-08-01T13:55:45.665Z"
   },
   {
    "duration": 258,
    "start_time": "2025-08-01T13:55:59.964Z"
   },
   {
    "duration": 11,
    "start_time": "2025-08-01T13:57:34.733Z"
   },
   {
    "duration": 194,
    "start_time": "2025-08-01T13:57:42.235Z"
   },
   {
    "duration": 125,
    "start_time": "2025-08-01T13:59:17.103Z"
   },
   {
    "duration": 83,
    "start_time": "2025-08-01T13:59:27.568Z"
   },
   {
    "duration": 40,
    "start_time": "2025-08-01T14:01:11.353Z"
   },
   {
    "duration": 51,
    "start_time": "2025-08-01T14:02:15.283Z"
   },
   {
    "duration": 46,
    "start_time": "2025-08-01T14:02:36.524Z"
   },
   {
    "duration": 335,
    "start_time": "2025-08-01T15:11:08.488Z"
   },
   {
    "duration": 1085,
    "start_time": "2025-08-01T15:12:52.768Z"
   },
   {
    "duration": 1967,
    "start_time": "2025-08-01T15:12:53.855Z"
   },
   {
    "duration": 137,
    "start_time": "2025-08-01T15:12:55.824Z"
   },
   {
    "duration": 575,
    "start_time": "2025-08-01T15:12:55.963Z"
   },
   {
    "duration": 264,
    "start_time": "2025-08-01T15:12:56.541Z"
   },
   {
    "duration": 1023,
    "start_time": "2025-08-01T15:12:56.806Z"
   },
   {
    "duration": 296,
    "start_time": "2025-08-01T15:12:57.830Z"
   },
   {
    "duration": 28,
    "start_time": "2025-08-01T15:12:58.127Z"
   },
   {
    "duration": 737,
    "start_time": "2025-08-01T15:12:58.157Z"
   },
   {
    "duration": 923,
    "start_time": "2025-08-01T15:12:58.895Z"
   },
   {
    "duration": 11,
    "start_time": "2025-08-01T15:12:59.820Z"
   },
   {
    "duration": 373,
    "start_time": "2025-08-01T15:12:59.833Z"
   },
   {
    "duration": 855,
    "start_time": "2025-08-01T15:13:00.208Z"
   },
   {
    "duration": 2437,
    "start_time": "2025-08-01T15:13:01.066Z"
   },
   {
    "duration": 387,
    "start_time": "2025-08-01T15:13:03.505Z"
   },
   {
    "duration": 100,
    "start_time": "2025-08-01T15:13:03.894Z"
   },
   {
    "duration": 202,
    "start_time": "2025-08-01T15:13:03.996Z"
   },
   {
    "duration": 1080,
    "start_time": "2025-08-01T15:13:54.676Z"
   },
   {
    "duration": 1839,
    "start_time": "2025-08-01T15:13:55.758Z"
   },
   {
    "duration": 129,
    "start_time": "2025-08-01T15:13:57.600Z"
   },
   {
    "duration": 588,
    "start_time": "2025-08-01T15:13:57.731Z"
   },
   {
    "duration": 242,
    "start_time": "2025-08-01T15:13:58.321Z"
   },
   {
    "duration": 1037,
    "start_time": "2025-08-01T15:13:58.565Z"
   },
   {
    "duration": 305,
    "start_time": "2025-08-01T15:13:59.603Z"
   },
   {
    "duration": 29,
    "start_time": "2025-08-01T15:13:59.909Z"
   },
   {
    "duration": 768,
    "start_time": "2025-08-01T15:13:59.940Z"
   },
   {
    "duration": 985,
    "start_time": "2025-08-01T15:14:00.710Z"
   },
   {
    "duration": 11,
    "start_time": "2025-08-01T15:14:01.697Z"
   },
   {
    "duration": 384,
    "start_time": "2025-08-01T15:14:01.709Z"
   },
   {
    "duration": 803,
    "start_time": "2025-08-01T15:14:02.096Z"
   },
   {
    "duration": 2377,
    "start_time": "2025-08-01T15:14:02.901Z"
   },
   {
    "duration": 369,
    "start_time": "2025-08-01T15:14:05.280Z"
   },
   {
    "duration": 92,
    "start_time": "2025-08-01T15:14:05.651Z"
   },
   {
    "duration": 260,
    "start_time": "2025-08-01T15:14:05.744Z"
   },
   {
    "duration": 23,
    "start_time": "2025-08-01T15:14:06.005Z"
   },
   {
    "duration": 74,
    "start_time": "2025-08-01T15:14:06.029Z"
   },
   {
    "duration": 97,
    "start_time": "2025-08-01T15:14:06.105Z"
   },
   {
    "duration": 26,
    "start_time": "2025-08-01T15:22:47.421Z"
   },
   {
    "duration": 38,
    "start_time": "2025-08-01T15:22:54.613Z"
   },
   {
    "duration": 4,
    "start_time": "2025-08-01T15:26:29.057Z"
   },
   {
    "duration": 22,
    "start_time": "2025-08-01T15:26:41.960Z"
   },
   {
    "duration": 128,
    "start_time": "2025-08-01T15:27:05.168Z"
   },
   {
    "duration": 23,
    "start_time": "2025-08-01T15:27:26.723Z"
   },
   {
    "duration": 23,
    "start_time": "2025-08-01T15:27:43.569Z"
   },
   {
    "duration": 39,
    "start_time": "2025-08-01T15:27:47.769Z"
   },
   {
    "duration": 1117,
    "start_time": "2025-08-01T15:28:20.709Z"
   },
   {
    "duration": 2175,
    "start_time": "2025-08-01T15:28:21.828Z"
   },
   {
    "duration": 130,
    "start_time": "2025-08-01T15:28:24.006Z"
   },
   {
    "duration": 602,
    "start_time": "2025-08-01T15:28:24.137Z"
   },
   {
    "duration": 273,
    "start_time": "2025-08-01T15:28:24.741Z"
   },
   {
    "duration": 1117,
    "start_time": "2025-08-01T15:28:25.016Z"
   },
   {
    "duration": 308,
    "start_time": "2025-08-01T15:28:26.134Z"
   },
   {
    "duration": 37,
    "start_time": "2025-08-01T15:28:26.445Z"
   },
   {
    "duration": 912,
    "start_time": "2025-08-01T15:28:26.484Z"
   },
   {
    "duration": 964,
    "start_time": "2025-08-01T15:28:27.398Z"
   },
   {
    "duration": 20,
    "start_time": "2025-08-01T15:28:28.363Z"
   },
   {
    "duration": 355,
    "start_time": "2025-08-01T15:28:28.385Z"
   },
   {
    "duration": 847,
    "start_time": "2025-08-01T15:28:28.742Z"
   },
   {
    "duration": 2402,
    "start_time": "2025-08-01T15:28:29.591Z"
   },
   {
    "duration": 411,
    "start_time": "2025-08-01T15:28:31.996Z"
   },
   {
    "duration": 100,
    "start_time": "2025-08-01T15:28:32.408Z"
   },
   {
    "duration": 251,
    "start_time": "2025-08-01T15:28:32.510Z"
   },
   {
    "duration": 28,
    "start_time": "2025-08-01T15:28:32.763Z"
   },
   {
    "duration": 49,
    "start_time": "2025-08-01T15:28:32.793Z"
   },
   {
    "duration": 75,
    "start_time": "2025-08-01T15:28:32.843Z"
   },
   {
    "duration": 23,
    "start_time": "2025-08-01T15:28:58.964Z"
   },
   {
    "duration": 51,
    "start_time": "2025-08-01T15:33:46.773Z"
   },
   {
    "duration": 22,
    "start_time": "2025-08-01T15:33:50.518Z"
   },
   {
    "duration": 1115,
    "start_time": "2025-08-01T15:36:35.660Z"
   },
   {
    "duration": 2064,
    "start_time": "2025-08-01T15:36:36.777Z"
   },
   {
    "duration": 121,
    "start_time": "2025-08-01T15:36:38.842Z"
   },
   {
    "duration": 582,
    "start_time": "2025-08-01T15:36:38.965Z"
   },
   {
    "duration": 247,
    "start_time": "2025-08-01T15:36:39.550Z"
   },
   {
    "duration": 1045,
    "start_time": "2025-08-01T15:36:39.798Z"
   },
   {
    "duration": 307,
    "start_time": "2025-08-01T15:36:40.845Z"
   },
   {
    "duration": 38,
    "start_time": "2025-08-01T15:36:41.154Z"
   },
   {
    "duration": 756,
    "start_time": "2025-08-01T15:36:41.194Z"
   },
   {
    "duration": 974,
    "start_time": "2025-08-01T15:36:41.953Z"
   },
   {
    "duration": 13,
    "start_time": "2025-08-01T15:36:42.930Z"
   },
   {
    "duration": 371,
    "start_time": "2025-08-01T15:36:42.944Z"
   },
   {
    "duration": 850,
    "start_time": "2025-08-01T15:36:43.317Z"
   },
   {
    "duration": 2413,
    "start_time": "2025-08-01T15:36:44.177Z"
   },
   {
    "duration": 378,
    "start_time": "2025-08-01T15:36:46.592Z"
   },
   {
    "duration": 90,
    "start_time": "2025-08-01T15:36:46.972Z"
   },
   {
    "duration": 189,
    "start_time": "2025-08-01T15:36:47.077Z"
   },
   {
    "duration": 1055,
    "start_time": "2025-08-01T15:46:15.592Z"
   },
   {
    "duration": 1994,
    "start_time": "2025-08-01T15:46:16.649Z"
   },
   {
    "duration": 115,
    "start_time": "2025-08-01T15:46:18.645Z"
   },
   {
    "duration": 546,
    "start_time": "2025-08-01T15:46:18.762Z"
   },
   {
    "duration": 238,
    "start_time": "2025-08-01T15:46:19.310Z"
   },
   {
    "duration": 1003,
    "start_time": "2025-08-01T15:46:19.550Z"
   },
   {
    "duration": 300,
    "start_time": "2025-08-01T15:46:20.554Z"
   },
   {
    "duration": 36,
    "start_time": "2025-08-01T15:46:20.856Z"
   },
   {
    "duration": 726,
    "start_time": "2025-08-01T15:46:20.894Z"
   },
   {
    "duration": 966,
    "start_time": "2025-08-01T15:46:21.621Z"
   },
   {
    "duration": 10,
    "start_time": "2025-08-01T15:46:22.589Z"
   },
   {
    "duration": 349,
    "start_time": "2025-08-01T15:46:22.601Z"
   },
   {
    "duration": 811,
    "start_time": "2025-08-01T15:46:22.952Z"
   },
   {
    "duration": 2311,
    "start_time": "2025-08-01T15:46:23.766Z"
   },
   {
    "duration": 374,
    "start_time": "2025-08-01T15:46:26.079Z"
   },
   {
    "duration": 94,
    "start_time": "2025-08-01T15:46:26.455Z"
   },
   {
    "duration": 245,
    "start_time": "2025-08-01T15:46:26.551Z"
   },
   {
    "duration": 155,
    "start_time": "2025-08-01T15:46:26.798Z"
   },
   {
    "duration": 0,
    "start_time": "2025-08-01T15:46:26.955Z"
   },
   {
    "duration": 0,
    "start_time": "2025-08-01T15:46:26.957Z"
   },
   {
    "duration": 0,
    "start_time": "2025-08-01T15:46:26.958Z"
   },
   {
    "duration": 60,
    "start_time": "2025-08-01T15:47:20.319Z"
   },
   {
    "duration": 22,
    "start_time": "2025-08-01T15:47:27.109Z"
   },
   {
    "duration": 57,
    "start_time": "2025-08-01T15:51:43.559Z"
   },
   {
    "duration": 59,
    "start_time": "2025-08-01T15:51:53.263Z"
   },
   {
    "duration": 55,
    "start_time": "2025-08-01T15:53:17.541Z"
   },
   {
    "duration": 1037,
    "start_time": "2025-08-01T15:54:28.111Z"
   },
   {
    "duration": 2036,
    "start_time": "2025-08-01T15:54:29.150Z"
   },
   {
    "duration": 135,
    "start_time": "2025-08-01T15:54:31.188Z"
   },
   {
    "duration": 587,
    "start_time": "2025-08-01T15:54:31.325Z"
   },
   {
    "duration": 275,
    "start_time": "2025-08-01T15:54:31.915Z"
   },
   {
    "duration": 1031,
    "start_time": "2025-08-01T15:54:32.192Z"
   },
   {
    "duration": 315,
    "start_time": "2025-08-01T15:54:33.224Z"
   },
   {
    "duration": 36,
    "start_time": "2025-08-01T15:54:33.540Z"
   },
   {
    "duration": 835,
    "start_time": "2025-08-01T15:54:33.578Z"
   },
   {
    "duration": 925,
    "start_time": "2025-08-01T15:54:34.416Z"
   },
   {
    "duration": 11,
    "start_time": "2025-08-01T15:54:35.343Z"
   },
   {
    "duration": 352,
    "start_time": "2025-08-01T15:54:35.356Z"
   },
   {
    "duration": 844,
    "start_time": "2025-08-01T15:54:35.710Z"
   },
   {
    "duration": 2314,
    "start_time": "2025-08-01T15:54:36.557Z"
   },
   {
    "duration": 376,
    "start_time": "2025-08-01T15:54:38.876Z"
   },
   {
    "duration": 91,
    "start_time": "2025-08-01T15:54:39.254Z"
   },
   {
    "duration": 195,
    "start_time": "2025-08-01T15:54:39.346Z"
   },
   {
    "duration": 1075,
    "start_time": "2025-08-01T15:56:24.142Z"
   },
   {
    "duration": 2830,
    "start_time": "2025-08-01T15:56:25.219Z"
   },
   {
    "duration": 120,
    "start_time": "2025-08-01T15:56:28.051Z"
   },
   {
    "duration": 545,
    "start_time": "2025-08-01T15:56:28.176Z"
   },
   {
    "duration": 257,
    "start_time": "2025-08-01T15:56:28.723Z"
   },
   {
    "duration": 1002,
    "start_time": "2025-08-01T15:56:28.982Z"
   },
   {
    "duration": 305,
    "start_time": "2025-08-01T15:56:29.986Z"
   },
   {
    "duration": 29,
    "start_time": "2025-08-01T15:56:30.293Z"
   },
   {
    "duration": 762,
    "start_time": "2025-08-01T15:56:30.324Z"
   },
   {
    "duration": 992,
    "start_time": "2025-08-01T15:56:31.089Z"
   },
   {
    "duration": 11,
    "start_time": "2025-08-01T15:56:32.083Z"
   },
   {
    "duration": 350,
    "start_time": "2025-08-01T15:56:32.095Z"
   },
   {
    "duration": 827,
    "start_time": "2025-08-01T15:56:32.446Z"
   },
   {
    "duration": 2371,
    "start_time": "2025-08-01T15:56:33.276Z"
   },
   {
    "duration": 413,
    "start_time": "2025-08-01T15:56:35.649Z"
   },
   {
    "duration": 92,
    "start_time": "2025-08-01T15:56:36.063Z"
   },
   {
    "duration": 179,
    "start_time": "2025-08-01T15:56:36.176Z"
   },
   {
    "duration": 153,
    "start_time": "2025-08-01T15:56:36.356Z"
   },
   {
    "duration": 0,
    "start_time": "2025-08-01T15:56:36.510Z"
   },
   {
    "duration": 0,
    "start_time": "2025-08-01T15:56:36.512Z"
   },
   {
    "duration": 0,
    "start_time": "2025-08-01T15:56:36.513Z"
   },
   {
    "duration": 1039,
    "start_time": "2025-08-01T15:57:46.010Z"
   },
   {
    "duration": 1502,
    "start_time": "2025-08-01T15:57:47.051Z"
   },
   {
    "duration": 118,
    "start_time": "2025-08-01T15:57:48.554Z"
   },
   {
    "duration": 561,
    "start_time": "2025-08-01T15:57:48.674Z"
   },
   {
    "duration": 242,
    "start_time": "2025-08-01T15:57:49.237Z"
   },
   {
    "duration": 1056,
    "start_time": "2025-08-01T15:57:49.481Z"
   },
   {
    "duration": 310,
    "start_time": "2025-08-01T15:57:50.538Z"
   },
   {
    "duration": 33,
    "start_time": "2025-08-01T15:57:50.850Z"
   },
   {
    "duration": 734,
    "start_time": "2025-08-01T15:57:50.885Z"
   },
   {
    "duration": 941,
    "start_time": "2025-08-01T15:57:51.621Z"
   },
   {
    "duration": 16,
    "start_time": "2025-08-01T15:57:52.563Z"
   },
   {
    "duration": 433,
    "start_time": "2025-08-01T15:57:52.581Z"
   },
   {
    "duration": 813,
    "start_time": "2025-08-01T15:57:53.015Z"
   },
   {
    "duration": 2403,
    "start_time": "2025-08-01T15:57:53.831Z"
   },
   {
    "duration": 386,
    "start_time": "2025-08-01T15:57:56.235Z"
   },
   {
    "duration": 96,
    "start_time": "2025-08-01T15:57:56.623Z"
   },
   {
    "duration": 193,
    "start_time": "2025-08-01T15:57:56.720Z"
   },
   {
    "duration": 156,
    "start_time": "2025-08-01T15:57:56.914Z"
   },
   {
    "duration": 0,
    "start_time": "2025-08-01T15:57:57.072Z"
   },
   {
    "duration": 0,
    "start_time": "2025-08-01T15:57:57.077Z"
   },
   {
    "duration": 0,
    "start_time": "2025-08-01T15:57:57.077Z"
   },
   {
    "duration": 56,
    "start_time": "2025-08-01T15:59:05.493Z"
   },
   {
    "duration": 22,
    "start_time": "2025-08-01T15:59:11.551Z"
   },
   {
    "duration": 63,
    "start_time": "2025-08-01T16:00:16.248Z"
   },
   {
    "duration": 113,
    "start_time": "2025-08-01T16:01:46.969Z"
   },
   {
    "duration": 150,
    "start_time": "2025-08-01T16:02:00.352Z"
   },
   {
    "duration": 1093,
    "start_time": "2025-08-01T16:02:42.244Z"
   },
   {
    "duration": 1983,
    "start_time": "2025-08-01T16:02:43.338Z"
   },
   {
    "duration": 119,
    "start_time": "2025-08-01T16:02:45.322Z"
   },
   {
    "duration": 582,
    "start_time": "2025-08-01T16:02:45.442Z"
   },
   {
    "duration": 244,
    "start_time": "2025-08-01T16:02:46.026Z"
   },
   {
    "duration": 1045,
    "start_time": "2025-08-01T16:02:46.275Z"
   },
   {
    "duration": 308,
    "start_time": "2025-08-01T16:02:47.321Z"
   },
   {
    "duration": 28,
    "start_time": "2025-08-01T16:02:47.631Z"
   },
   {
    "duration": 841,
    "start_time": "2025-08-01T16:02:47.661Z"
   },
   {
    "duration": 910,
    "start_time": "2025-08-01T16:02:48.504Z"
   },
   {
    "duration": 11,
    "start_time": "2025-08-01T16:02:49.415Z"
   },
   {
    "duration": 351,
    "start_time": "2025-08-01T16:02:49.427Z"
   },
   {
    "duration": 804,
    "start_time": "2025-08-01T16:02:49.779Z"
   },
   {
    "duration": 2405,
    "start_time": "2025-08-01T16:02:50.586Z"
   },
   {
    "duration": 389,
    "start_time": "2025-08-01T16:02:52.993Z"
   },
   {
    "duration": 105,
    "start_time": "2025-08-01T16:02:53.384Z"
   },
   {
    "duration": 198,
    "start_time": "2025-08-01T16:02:53.491Z"
   },
   {
    "duration": 148,
    "start_time": "2025-08-01T16:02:53.691Z"
   },
   {
    "duration": 35,
    "start_time": "2025-08-01T16:02:53.841Z"
   },
   {
    "duration": 217,
    "start_time": "2025-08-01T16:02:53.878Z"
   },
   {
    "duration": 189,
    "start_time": "2025-08-01T16:02:54.097Z"
   },
   {
    "duration": 197,
    "start_time": "2025-08-01T16:03:30.949Z"
   },
   {
    "duration": 1090,
    "start_time": "2025-08-01T16:05:42.377Z"
   },
   {
    "duration": 1789,
    "start_time": "2025-08-01T16:05:43.469Z"
   },
   {
    "duration": 124,
    "start_time": "2025-08-01T16:05:45.259Z"
   },
   {
    "duration": 604,
    "start_time": "2025-08-01T16:05:45.385Z"
   },
   {
    "duration": 251,
    "start_time": "2025-08-01T16:05:45.991Z"
   },
   {
    "duration": 1040,
    "start_time": "2025-08-01T16:05:46.243Z"
   },
   {
    "duration": 305,
    "start_time": "2025-08-01T16:05:47.285Z"
   },
   {
    "duration": 29,
    "start_time": "2025-08-01T16:05:47.592Z"
   },
   {
    "duration": 872,
    "start_time": "2025-08-01T16:05:47.622Z"
   },
   {
    "duration": 980,
    "start_time": "2025-08-01T16:05:48.495Z"
   },
   {
    "duration": 13,
    "start_time": "2025-08-01T16:05:49.477Z"
   },
   {
    "duration": 381,
    "start_time": "2025-08-01T16:05:49.492Z"
   },
   {
    "duration": 848,
    "start_time": "2025-08-01T16:05:49.875Z"
   },
   {
    "duration": 2485,
    "start_time": "2025-08-01T16:05:50.725Z"
   },
   {
    "duration": 397,
    "start_time": "2025-08-01T16:05:53.212Z"
   },
   {
    "duration": 111,
    "start_time": "2025-08-01T16:05:53.611Z"
   },
   {
    "duration": 219,
    "start_time": "2025-08-01T16:05:53.724Z"
   },
   {
    "duration": 1088,
    "start_time": "2025-08-01T16:09:28.684Z"
   },
   {
    "duration": 1867,
    "start_time": "2025-08-01T16:09:29.774Z"
   },
   {
    "duration": 120,
    "start_time": "2025-08-01T16:09:31.643Z"
   },
   {
    "duration": 576,
    "start_time": "2025-08-01T16:09:31.765Z"
   },
   {
    "duration": 246,
    "start_time": "2025-08-01T16:09:32.344Z"
   },
   {
    "duration": 1018,
    "start_time": "2025-08-01T16:09:32.592Z"
   },
   {
    "duration": 297,
    "start_time": "2025-08-01T16:09:33.611Z"
   },
   {
    "duration": 26,
    "start_time": "2025-08-01T16:09:33.909Z"
   },
   {
    "duration": 732,
    "start_time": "2025-08-01T16:09:33.937Z"
   },
   {
    "duration": 916,
    "start_time": "2025-08-01T16:09:34.675Z"
   },
   {
    "duration": 10,
    "start_time": "2025-08-01T16:09:35.593Z"
   },
   {
    "duration": 371,
    "start_time": "2025-08-01T16:09:35.605Z"
   },
   {
    "duration": 812,
    "start_time": "2025-08-01T16:09:35.977Z"
   },
   {
    "duration": 2392,
    "start_time": "2025-08-01T16:09:36.793Z"
   },
   {
    "duration": 379,
    "start_time": "2025-08-01T16:09:39.187Z"
   },
   {
    "duration": 89,
    "start_time": "2025-08-01T16:09:39.567Z"
   },
   {
    "duration": 227,
    "start_time": "2025-08-01T16:09:39.658Z"
   },
   {
    "duration": 121,
    "start_time": "2025-08-01T16:09:39.886Z"
   },
   {
    "duration": 23,
    "start_time": "2025-08-01T16:09:40.008Z"
   },
   {
    "duration": 226,
    "start_time": "2025-08-01T16:09:40.033Z"
   },
   {
    "duration": 180,
    "start_time": "2025-08-01T16:09:40.261Z"
   },
   {
    "duration": 163,
    "start_time": "2025-08-01T16:15:24.630Z"
   },
   {
    "duration": 2,
    "start_time": "2025-08-01T16:15:54.125Z"
   },
   {
    "duration": 1390,
    "start_time": "2025-08-01T19:49:16.707Z"
   },
   {
    "duration": 1765,
    "start_time": "2025-08-01T19:49:18.099Z"
   },
   {
    "duration": 123,
    "start_time": "2025-08-01T19:49:19.865Z"
   },
   {
    "duration": 579,
    "start_time": "2025-08-01T19:49:19.991Z"
   },
   {
    "duration": 243,
    "start_time": "2025-08-01T19:49:20.571Z"
   },
   {
    "duration": 1058,
    "start_time": "2025-08-01T19:49:20.816Z"
   },
   {
    "duration": 292,
    "start_time": "2025-08-01T19:49:21.876Z"
   },
   {
    "duration": 29,
    "start_time": "2025-08-01T19:49:22.170Z"
   },
   {
    "duration": 735,
    "start_time": "2025-08-01T19:49:22.200Z"
   },
   {
    "duration": 1036,
    "start_time": "2025-08-01T19:49:22.940Z"
   },
   {
    "duration": 11,
    "start_time": "2025-08-01T19:49:23.977Z"
   },
   {
    "duration": 280,
    "start_time": "2025-08-01T19:49:23.990Z"
   },
   {
    "duration": 935,
    "start_time": "2025-08-01T19:49:24.272Z"
   },
   {
    "duration": 2431,
    "start_time": "2025-08-01T19:49:25.208Z"
   },
   {
    "duration": 409,
    "start_time": "2025-08-01T19:49:27.641Z"
   },
   {
    "duration": 108,
    "start_time": "2025-08-01T19:49:28.052Z"
   },
   {
    "duration": 191,
    "start_time": "2025-08-01T19:49:28.161Z"
   },
   {
    "duration": 100,
    "start_time": "2025-08-01T19:49:28.353Z"
   },
   {
    "duration": 3,
    "start_time": "2025-08-01T19:49:28.455Z"
   },
   {
    "duration": 125,
    "start_time": "2025-08-01T20:00:22.628Z"
   },
   {
    "duration": 1119,
    "start_time": "2025-08-01T20:08:29.111Z"
   },
   {
    "duration": 2177,
    "start_time": "2025-08-01T20:08:30.231Z"
   },
   {
    "duration": 117,
    "start_time": "2025-08-01T20:08:32.410Z"
   },
   {
    "duration": 575,
    "start_time": "2025-08-01T20:08:32.530Z"
   },
   {
    "duration": 244,
    "start_time": "2025-08-01T20:08:33.106Z"
   },
   {
    "duration": 1029,
    "start_time": "2025-08-01T20:08:33.352Z"
   },
   {
    "duration": 296,
    "start_time": "2025-08-01T20:08:34.384Z"
   },
   {
    "duration": 30,
    "start_time": "2025-08-01T20:08:34.682Z"
   },
   {
    "duration": 767,
    "start_time": "2025-08-01T20:08:34.714Z"
   },
   {
    "duration": 956,
    "start_time": "2025-08-01T20:08:35.485Z"
   },
   {
    "duration": 13,
    "start_time": "2025-08-01T20:08:36.443Z"
   },
   {
    "duration": 371,
    "start_time": "2025-08-01T20:08:36.458Z"
   },
   {
    "duration": 860,
    "start_time": "2025-08-01T20:08:36.831Z"
   },
   {
    "duration": 2399,
    "start_time": "2025-08-01T20:08:37.693Z"
   },
   {
    "duration": 377,
    "start_time": "2025-08-01T20:08:40.093Z"
   },
   {
    "duration": 103,
    "start_time": "2025-08-01T20:08:40.472Z"
   },
   {
    "duration": 190,
    "start_time": "2025-08-01T20:08:40.577Z"
   },
   {
    "duration": 134,
    "start_time": "2025-08-01T20:08:40.769Z"
   },
   {
    "duration": 45,
    "start_time": "2025-08-01T20:08:40.904Z"
   },
   {
    "duration": 80,
    "start_time": "2025-08-01T20:08:40.952Z"
   },
   {
    "duration": 2,
    "start_time": "2025-08-01T20:11:36.597Z"
   },
   {
    "duration": 121,
    "start_time": "2025-08-01T20:11:43.291Z"
   },
   {
    "duration": 127,
    "start_time": "2025-08-01T20:13:34.232Z"
   },
   {
    "duration": 93,
    "start_time": "2025-08-01T20:24:44.022Z"
   },
   {
    "duration": 87,
    "start_time": "2025-08-01T20:25:15.901Z"
   },
   {
    "duration": 118,
    "start_time": "2025-08-01T20:26:23.929Z"
   },
   {
    "duration": 125,
    "start_time": "2025-08-01T20:27:06.010Z"
   },
   {
    "duration": 63,
    "start_time": "2025-08-01T20:27:25.417Z"
   },
   {
    "duration": 24,
    "start_time": "2025-08-01T20:29:22.618Z"
   },
   {
    "duration": 158,
    "start_time": "2025-08-01T20:37:15.669Z"
   },
   {
    "duration": 9,
    "start_time": "2025-08-01T20:57:23.283Z"
   },
   {
    "duration": 4,
    "start_time": "2025-08-01T21:09:50.690Z"
   },
   {
    "duration": 27,
    "start_time": "2025-08-01T21:13:31.291Z"
   },
   {
    "duration": 5,
    "start_time": "2025-08-01T21:13:34.276Z"
   },
   {
    "duration": 178,
    "start_time": "2025-08-01T21:13:51.933Z"
   },
   {
    "duration": 8,
    "start_time": "2025-08-01T21:13:55.275Z"
   },
   {
    "duration": 31,
    "start_time": "2025-08-01T21:16:35.700Z"
   },
   {
    "duration": 9,
    "start_time": "2025-08-01T21:16:41.757Z"
   },
   {
    "duration": 31,
    "start_time": "2025-08-01T21:20:53.911Z"
   },
   {
    "duration": 8,
    "start_time": "2025-08-01T21:20:57.793Z"
   },
   {
    "duration": 127,
    "start_time": "2025-08-01T21:23:38.874Z"
   },
   {
    "duration": 8,
    "start_time": "2025-08-01T21:23:45.569Z"
   },
   {
    "duration": 10,
    "start_time": "2025-08-01T21:23:47.626Z"
   },
   {
    "duration": 67,
    "start_time": "2025-08-01T21:25:07.683Z"
   },
   {
    "duration": 8,
    "start_time": "2025-08-01T21:25:11.274Z"
   },
   {
    "duration": 8,
    "start_time": "2025-08-01T21:25:17.363Z"
   },
   {
    "duration": 213,
    "start_time": "2025-08-01T21:30:01.926Z"
   },
   {
    "duration": 96,
    "start_time": "2025-08-01T21:35:06.209Z"
   },
   {
    "duration": 192,
    "start_time": "2025-08-01T21:35:22.839Z"
   },
   {
    "duration": 200,
    "start_time": "2025-08-01T21:39:27.160Z"
   },
   {
    "duration": 194,
    "start_time": "2025-08-01T21:40:45.466Z"
   },
   {
    "duration": 185,
    "start_time": "2025-08-01T21:42:22.167Z"
   },
   {
    "duration": 212,
    "start_time": "2025-08-01T21:44:07.442Z"
   },
   {
    "duration": 201,
    "start_time": "2025-08-01T21:44:31.011Z"
   },
   {
    "duration": 1599,
    "start_time": "2025-08-01T21:46:44.894Z"
   },
   {
    "duration": 1012,
    "start_time": "2025-08-01T21:48:02.485Z"
   },
   {
    "duration": 1250,
    "start_time": "2025-08-01T21:48:03.499Z"
   },
   {
    "duration": 2201,
    "start_time": "2025-08-01T21:48:04.751Z"
   },
   {
    "duration": 127,
    "start_time": "2025-08-01T21:48:06.954Z"
   },
   {
    "duration": 605,
    "start_time": "2025-08-01T21:48:07.083Z"
   },
   {
    "duration": 243,
    "start_time": "2025-08-01T21:48:07.690Z"
   },
   {
    "duration": 1014,
    "start_time": "2025-08-01T21:48:07.935Z"
   },
   {
    "duration": 303,
    "start_time": "2025-08-01T21:48:08.951Z"
   },
   {
    "duration": 29,
    "start_time": "2025-08-01T21:48:09.256Z"
   },
   {
    "duration": 764,
    "start_time": "2025-08-01T21:48:09.287Z"
   },
   {
    "duration": 953,
    "start_time": "2025-08-01T21:48:10.053Z"
   },
   {
    "duration": 12,
    "start_time": "2025-08-01T21:48:11.009Z"
   },
   {
    "duration": 368,
    "start_time": "2025-08-01T21:48:11.023Z"
   },
   {
    "duration": 844,
    "start_time": "2025-08-01T21:48:11.395Z"
   },
   {
    "duration": 2452,
    "start_time": "2025-08-01T21:48:12.240Z"
   },
   {
    "duration": 423,
    "start_time": "2025-08-01T21:48:14.694Z"
   },
   {
    "duration": 101,
    "start_time": "2025-08-01T21:48:15.119Z"
   },
   {
    "duration": 253,
    "start_time": "2025-08-01T21:48:15.222Z"
   },
   {
    "duration": 129,
    "start_time": "2025-08-01T21:48:15.477Z"
   },
   {
    "duration": 3,
    "start_time": "2025-08-01T21:48:15.608Z"
   },
   {
    "duration": 69,
    "start_time": "2025-08-01T21:48:15.613Z"
   },
   {
    "duration": 160,
    "start_time": "2025-08-01T21:48:15.684Z"
   },
   {
    "duration": 539,
    "start_time": "2025-08-01T21:48:15.846Z"
   },
   {
    "duration": 0,
    "start_time": "2025-08-01T21:48:16.387Z"
   },
   {
    "duration": 0,
    "start_time": "2025-08-01T21:48:16.389Z"
   },
   {
    "duration": 1362,
    "start_time": "2025-08-01T21:49:37.078Z"
   },
   {
    "duration": 1027,
    "start_time": "2025-08-01T21:49:55.266Z"
   },
   {
    "duration": 1250,
    "start_time": "2025-08-01T21:49:56.294Z"
   },
   {
    "duration": 2422,
    "start_time": "2025-08-01T21:49:57.546Z"
   },
   {
    "duration": 130,
    "start_time": "2025-08-01T21:49:59.970Z"
   },
   {
    "duration": 583,
    "start_time": "2025-08-01T21:50:00.102Z"
   },
   {
    "duration": 261,
    "start_time": "2025-08-01T21:50:00.687Z"
   },
   {
    "duration": 1049,
    "start_time": "2025-08-01T21:50:00.950Z"
   },
   {
    "duration": 317,
    "start_time": "2025-08-01T21:50:02.001Z"
   },
   {
    "duration": 40,
    "start_time": "2025-08-01T21:50:02.320Z"
   },
   {
    "duration": 761,
    "start_time": "2025-08-01T21:50:02.362Z"
   },
   {
    "duration": 938,
    "start_time": "2025-08-01T21:50:03.125Z"
   },
   {
    "duration": 11,
    "start_time": "2025-08-01T21:50:04.064Z"
   },
   {
    "duration": 401,
    "start_time": "2025-08-01T21:50:04.077Z"
   },
   {
    "duration": 801,
    "start_time": "2025-08-01T21:50:04.480Z"
   },
   {
    "duration": 2434,
    "start_time": "2025-08-01T21:50:05.282Z"
   },
   {
    "duration": 417,
    "start_time": "2025-08-01T21:50:07.717Z"
   },
   {
    "duration": 81,
    "start_time": "2025-08-01T21:50:08.138Z"
   },
   {
    "duration": 208,
    "start_time": "2025-08-01T21:50:08.221Z"
   },
   {
    "duration": 123,
    "start_time": "2025-08-01T21:50:08.431Z"
   },
   {
    "duration": 3,
    "start_time": "2025-08-01T21:50:08.555Z"
   },
   {
    "duration": 30,
    "start_time": "2025-08-01T21:50:08.559Z"
   },
   {
    "duration": 161,
    "start_time": "2025-08-01T21:50:08.591Z"
   },
   {
    "duration": 542,
    "start_time": "2025-08-01T21:50:08.754Z"
   },
   {
    "duration": 0,
    "start_time": "2025-08-01T21:50:09.298Z"
   },
   {
    "duration": 0,
    "start_time": "2025-08-01T21:50:09.299Z"
   },
   {
    "duration": 2405,
    "start_time": "2025-08-01T21:51:47.139Z"
   },
   {
    "duration": 1079,
    "start_time": "2025-08-01T21:52:06.545Z"
   },
   {
    "duration": 2369,
    "start_time": "2025-08-01T21:52:07.627Z"
   },
   {
    "duration": 1928,
    "start_time": "2025-08-01T21:52:09.998Z"
   },
   {
    "duration": 120,
    "start_time": "2025-08-01T21:52:11.928Z"
   },
   {
    "duration": 579,
    "start_time": "2025-08-01T21:52:12.050Z"
   },
   {
    "duration": 247,
    "start_time": "2025-08-01T21:52:12.631Z"
   },
   {
    "duration": 1004,
    "start_time": "2025-08-01T21:52:12.880Z"
   },
   {
    "duration": 307,
    "start_time": "2025-08-01T21:52:13.885Z"
   },
   {
    "duration": 29,
    "start_time": "2025-08-01T21:52:14.194Z"
   },
   {
    "duration": 724,
    "start_time": "2025-08-01T21:52:14.238Z"
   },
   {
    "duration": 941,
    "start_time": "2025-08-01T21:52:14.964Z"
   },
   {
    "duration": 11,
    "start_time": "2025-08-01T21:52:15.907Z"
   },
   {
    "duration": 367,
    "start_time": "2025-08-01T21:52:15.919Z"
   },
   {
    "duration": 807,
    "start_time": "2025-08-01T21:52:16.288Z"
   },
   {
    "duration": 2408,
    "start_time": "2025-08-01T21:52:17.096Z"
   },
   {
    "duration": 375,
    "start_time": "2025-08-01T21:52:19.505Z"
   },
   {
    "duration": 101,
    "start_time": "2025-08-01T21:52:19.882Z"
   },
   {
    "duration": 189,
    "start_time": "2025-08-01T21:52:19.985Z"
   },
   {
    "duration": 125,
    "start_time": "2025-08-01T21:52:20.175Z"
   },
   {
    "duration": 3,
    "start_time": "2025-08-01T21:52:20.302Z"
   },
   {
    "duration": 17,
    "start_time": "2025-08-01T21:52:20.306Z"
   },
   {
    "duration": 153,
    "start_time": "2025-08-01T21:52:20.325Z"
   },
   {
    "duration": 555,
    "start_time": "2025-08-01T21:52:20.479Z"
   },
   {
    "duration": 0,
    "start_time": "2025-08-01T21:52:21.039Z"
   },
   {
    "duration": 0,
    "start_time": "2025-08-01T21:52:21.040Z"
   },
   {
    "duration": 8,
    "start_time": "2025-08-01T21:54:49.822Z"
   },
   {
    "duration": 3,
    "start_time": "2025-08-01T21:55:17.478Z"
   },
   {
    "duration": 145,
    "start_time": "2025-08-01T21:55:20.483Z"
   },
   {
    "duration": 8,
    "start_time": "2025-08-01T21:56:38.084Z"
   },
   {
    "duration": 99,
    "start_time": "2025-08-01T21:58:47.574Z"
   },
   {
    "duration": 113,
    "start_time": "2025-08-01T21:59:02.685Z"
   },
   {
    "duration": 199,
    "start_time": "2025-08-01T21:59:55.674Z"
   },
   {
    "duration": 8,
    "start_time": "2025-08-01T22:01:30.440Z"
   },
   {
    "duration": 8,
    "start_time": "2025-08-01T22:01:33.560Z"
   },
   {
    "duration": 11,
    "start_time": "2025-08-01T22:12:42.147Z"
   },
   {
    "duration": 585,
    "start_time": "2025-08-01T22:13:03.561Z"
   },
   {
    "duration": 8,
    "start_time": "2025-08-01T22:28:25.946Z"
   },
   {
    "duration": 1619,
    "start_time": "2025-08-01T22:28:29.257Z"
   },
   {
    "duration": 10,
    "start_time": "2025-08-01T22:28:35.977Z"
   },
   {
    "duration": 60,
    "start_time": "2025-08-01T22:39:09.091Z"
   },
   {
    "duration": 11,
    "start_time": "2025-08-01T22:39:20.450Z"
   },
   {
    "duration": 64,
    "start_time": "2025-08-01T22:43:43.102Z"
   },
   {
    "duration": 8,
    "start_time": "2025-08-01T22:43:46.919Z"
   },
   {
    "duration": 11,
    "start_time": "2025-08-01T22:43:49.228Z"
   },
   {
    "duration": 224,
    "start_time": "2025-08-01T22:51:15.347Z"
   },
   {
    "duration": 228,
    "start_time": "2025-08-01T22:51:51.243Z"
   },
   {
    "duration": 258,
    "start_time": "2025-08-01T22:53:00.763Z"
   },
   {
    "duration": 11,
    "start_time": "2025-08-01T22:53:05.866Z"
   },
   {
    "duration": 8,
    "start_time": "2025-08-01T22:53:09.012Z"
   },
   {
    "duration": 8,
    "start_time": "2025-08-01T22:57:55.696Z"
   },
   {
    "duration": 10,
    "start_time": "2025-08-01T23:04:31.634Z"
   },
   {
    "duration": 9,
    "start_time": "2025-08-01T23:09:48.396Z"
   },
   {
    "duration": 10,
    "start_time": "2025-08-01T23:09:59.950Z"
   },
   {
    "duration": 10,
    "start_time": "2025-08-01T23:10:40.015Z"
   },
   {
    "duration": 11,
    "start_time": "2025-08-01T23:10:50.792Z"
   },
   {
    "duration": 251,
    "start_time": "2025-08-01T23:13:04.281Z"
   },
   {
    "duration": 96,
    "start_time": "2025-08-01T23:14:20.771Z"
   },
   {
    "duration": 77,
    "start_time": "2025-08-01T23:14:37.681Z"
   },
   {
    "duration": 426,
    "start_time": "2025-08-01T23:21:22.540Z"
   },
   {
    "duration": 345,
    "start_time": "2025-08-01T23:23:34.702Z"
   },
   {
    "duration": 12,
    "start_time": "2025-08-01T23:28:10.930Z"
   },
   {
    "duration": 1387,
    "start_time": "2025-08-02T06:49:23.333Z"
   },
   {
    "duration": 1657,
    "start_time": "2025-08-02T06:49:24.722Z"
   },
   {
    "duration": 153,
    "start_time": "2025-08-02T06:49:26.381Z"
   },
   {
    "duration": 599,
    "start_time": "2025-08-02T06:49:26.536Z"
   },
   {
    "duration": 257,
    "start_time": "2025-08-02T06:49:27.137Z"
   },
   {
    "duration": 1135,
    "start_time": "2025-08-02T06:49:27.396Z"
   },
   {
    "duration": 324,
    "start_time": "2025-08-02T06:49:28.532Z"
   },
   {
    "duration": 31,
    "start_time": "2025-08-02T06:49:28.858Z"
   },
   {
    "duration": 800,
    "start_time": "2025-08-02T06:49:28.891Z"
   },
   {
    "duration": 1120,
    "start_time": "2025-08-02T06:49:29.693Z"
   },
   {
    "duration": 12,
    "start_time": "2025-08-02T06:49:30.814Z"
   },
   {
    "duration": 308,
    "start_time": "2025-08-02T06:49:30.828Z"
   },
   {
    "duration": 998,
    "start_time": "2025-08-02T06:49:31.138Z"
   },
   {
    "duration": 2511,
    "start_time": "2025-08-02T06:49:32.139Z"
   },
   {
    "duration": 448,
    "start_time": "2025-08-02T06:49:34.652Z"
   },
   {
    "duration": 116,
    "start_time": "2025-08-02T06:49:35.102Z"
   },
   {
    "duration": 230,
    "start_time": "2025-08-02T06:49:35.220Z"
   },
   {
    "duration": 127,
    "start_time": "2025-08-02T06:49:35.451Z"
   },
   {
    "duration": 2,
    "start_time": "2025-08-02T06:49:35.580Z"
   },
   {
    "duration": 42,
    "start_time": "2025-08-02T06:49:35.583Z"
   },
   {
    "duration": 172,
    "start_time": "2025-08-02T06:49:35.627Z"
   },
   {
    "duration": 860,
    "start_time": "2025-08-02T06:49:35.800Z"
   },
   {
    "duration": 390,
    "start_time": "2025-08-02T06:49:36.662Z"
   },
   {
    "duration": 0,
    "start_time": "2025-08-02T06:49:37.054Z"
   },
   {
    "duration": 12,
    "start_time": "2025-08-02T06:54:12.866Z"
   },
   {
    "duration": 11,
    "start_time": "2025-08-02T06:54:21.893Z"
   },
   {
    "duration": 14,
    "start_time": "2025-08-02T06:54:45.093Z"
   },
   {
    "duration": 11,
    "start_time": "2025-08-02T07:00:32.769Z"
   },
   {
    "duration": 9,
    "start_time": "2025-08-02T07:02:18.945Z"
   },
   {
    "duration": 12,
    "start_time": "2025-08-02T07:03:07.619Z"
   },
   {
    "duration": 99,
    "start_time": "2025-08-02T07:04:28.812Z"
   },
   {
    "duration": 15,
    "start_time": "2025-08-02T07:04:36.156Z"
   },
   {
    "duration": 15,
    "start_time": "2025-08-02T07:05:09.533Z"
   },
   {
    "duration": 10,
    "start_time": "2025-08-02T07:05:19.410Z"
   },
   {
    "duration": 16,
    "start_time": "2025-08-02T07:05:47.556Z"
   },
   {
    "duration": 15,
    "start_time": "2025-08-02T07:06:15.428Z"
   },
   {
    "duration": 272,
    "start_time": "2025-08-02T07:07:47.625Z"
   },
   {
    "duration": 427,
    "start_time": "2025-08-02T07:08:29.653Z"
   },
   {
    "duration": 463,
    "start_time": "2025-08-02T07:09:14.945Z"
   },
   {
    "duration": 12,
    "start_time": "2025-08-02T07:11:28.121Z"
   },
   {
    "duration": 531,
    "start_time": "2025-08-02T07:11:41.818Z"
   },
   {
    "duration": 420,
    "start_time": "2025-08-02T07:12:30.565Z"
   },
   {
    "duration": 422,
    "start_time": "2025-08-02T07:12:45.762Z"
   },
   {
    "duration": 423,
    "start_time": "2025-08-02T07:14:40.897Z"
   },
   {
    "duration": 464,
    "start_time": "2025-08-02T07:14:47.931Z"
   },
   {
    "duration": 515,
    "start_time": "2025-08-02T07:27:26.893Z"
   },
   {
    "duration": 414,
    "start_time": "2025-08-02T07:27:47.063Z"
   },
   {
    "duration": 421,
    "start_time": "2025-08-02T07:28:29.453Z"
   },
   {
    "duration": 426,
    "start_time": "2025-08-02T07:29:32.116Z"
   },
   {
    "duration": 418,
    "start_time": "2025-08-02T07:29:59.158Z"
   },
   {
    "duration": 431,
    "start_time": "2025-08-02T07:32:32.848Z"
   },
   {
    "duration": 519,
    "start_time": "2025-08-02T07:33:41.560Z"
   },
   {
    "duration": 1251,
    "start_time": "2025-08-02T10:51:13.047Z"
   },
   {
    "duration": 1866,
    "start_time": "2025-08-02T10:51:14.300Z"
   },
   {
    "duration": 117,
    "start_time": "2025-08-02T10:51:16.168Z"
   },
   {
    "duration": 562,
    "start_time": "2025-08-02T10:51:16.287Z"
   },
   {
    "duration": 245,
    "start_time": "2025-08-02T10:51:16.851Z"
   },
   {
    "duration": 1078,
    "start_time": "2025-08-02T10:51:17.098Z"
   },
   {
    "duration": 289,
    "start_time": "2025-08-02T10:51:18.178Z"
   },
   {
    "duration": 33,
    "start_time": "2025-08-02T10:51:18.469Z"
   },
   {
    "duration": 744,
    "start_time": "2025-08-02T10:51:18.504Z"
   },
   {
    "duration": 940,
    "start_time": "2025-08-02T10:51:19.250Z"
   },
   {
    "duration": 12,
    "start_time": "2025-08-02T10:51:20.191Z"
   },
   {
    "duration": 420,
    "start_time": "2025-08-02T10:51:20.205Z"
   },
   {
    "duration": 857,
    "start_time": "2025-08-02T10:51:20.627Z"
   },
   {
    "duration": 2374,
    "start_time": "2025-08-02T10:51:21.487Z"
   },
   {
    "duration": 364,
    "start_time": "2025-08-02T10:51:23.863Z"
   },
   {
    "duration": 95,
    "start_time": "2025-08-02T10:51:24.229Z"
   },
   {
    "duration": 202,
    "start_time": "2025-08-02T10:51:24.326Z"
   },
   {
    "duration": 130,
    "start_time": "2025-08-02T10:51:24.529Z"
   },
   {
    "duration": 2,
    "start_time": "2025-08-02T10:51:24.661Z"
   },
   {
    "duration": 2,
    "start_time": "2025-08-02T10:51:24.677Z"
   },
   {
    "duration": 169,
    "start_time": "2025-08-02T10:51:24.681Z"
   },
   {
    "duration": 873,
    "start_time": "2025-08-02T10:51:24.851Z"
   },
   {
    "duration": 446,
    "start_time": "2025-08-02T10:51:25.725Z"
   },
   {
    "duration": 15,
    "start_time": "2025-08-02T10:54:21.368Z"
   },
   {
    "duration": 14,
    "start_time": "2025-08-02T10:55:46.680Z"
   },
   {
    "duration": 108,
    "start_time": "2025-08-02T11:02:21.240Z"
   },
   {
    "duration": 24,
    "start_time": "2025-08-02T11:05:00.207Z"
   },
   {
    "duration": 956,
    "start_time": "2025-08-02T11:08:34.162Z"
   },
   {
    "duration": 1475,
    "start_time": "2025-08-02T11:12:06.598Z"
   },
   {
    "duration": 1064,
    "start_time": "2025-08-02T11:14:16.356Z"
   },
   {
    "duration": 78,
    "start_time": "2025-08-02T11:15:10.775Z"
   },
   {
    "duration": 38,
    "start_time": "2025-08-02T11:17:26.345Z"
   },
   {
    "duration": 75,
    "start_time": "2025-08-02T12:47:20.009Z"
   },
   {
    "duration": 10,
    "start_time": "2025-08-02T12:49:18.637Z"
   },
   {
    "duration": 9,
    "start_time": "2025-08-02T12:49:35.322Z"
   },
   {
    "duration": 9,
    "start_time": "2025-08-02T12:50:04.387Z"
   },
   {
    "duration": 165,
    "start_time": "2025-08-02T12:50:44.843Z"
   },
   {
    "duration": 154,
    "start_time": "2025-08-02T12:51:17.089Z"
   },
   {
    "duration": 164,
    "start_time": "2025-08-02T13:00:09.416Z"
   },
   {
    "duration": 179,
    "start_time": "2025-08-02T13:06:45.790Z"
   },
   {
    "duration": 10,
    "start_time": "2025-08-02T13:07:26.058Z"
   },
   {
    "duration": 152,
    "start_time": "2025-08-02T13:08:05.238Z"
   },
   {
    "duration": 154,
    "start_time": "2025-08-02T13:08:43.605Z"
   },
   {
    "duration": 463,
    "start_time": "2025-08-02T13:12:49.786Z"
   },
   {
    "duration": 291,
    "start_time": "2025-08-02T13:13:35.075Z"
   },
   {
    "duration": 367,
    "start_time": "2025-08-02T13:25:40.395Z"
   },
   {
    "duration": 451,
    "start_time": "2025-08-02T13:37:50.930Z"
   },
   {
    "duration": 422,
    "start_time": "2025-08-02T13:38:19.554Z"
   },
   {
    "duration": 392,
    "start_time": "2025-08-02T13:39:16.030Z"
   },
   {
    "duration": 793,
    "start_time": "2025-08-02T13:44:14.511Z"
   },
   {
    "duration": 748,
    "start_time": "2025-08-02T13:45:44.241Z"
   },
   {
    "duration": 763,
    "start_time": "2025-08-02T13:45:54.975Z"
   },
   {
    "duration": 767,
    "start_time": "2025-08-02T14:10:39.662Z"
   },
   {
    "duration": 798,
    "start_time": "2025-08-02T14:11:31.701Z"
   },
   {
    "duration": 721,
    "start_time": "2025-08-02T14:12:32.537Z"
   },
   {
    "duration": 777,
    "start_time": "2025-08-02T14:13:01.392Z"
   },
   {
    "duration": 735,
    "start_time": "2025-08-02T14:13:49.962Z"
   },
   {
    "duration": 91,
    "start_time": "2025-08-02T14:26:43.538Z"
   },
   {
    "duration": 42,
    "start_time": "2025-08-02T14:37:08.288Z"
   },
   {
    "duration": 11,
    "start_time": "2025-08-02T14:37:38.028Z"
   },
   {
    "duration": 71,
    "start_time": "2025-08-02T14:40:10.299Z"
   },
   {
    "duration": 94,
    "start_time": "2025-08-02T14:42:21.996Z"
   },
   {
    "duration": 14,
    "start_time": "2025-08-02T14:43:16.605Z"
   },
   {
    "duration": 68,
    "start_time": "2025-08-02T14:43:54.702Z"
   },
   {
    "duration": 1669,
    "start_time": "2025-08-02T14:46:29.542Z"
   },
   {
    "duration": 13,
    "start_time": "2025-08-02T14:46:45.743Z"
   },
   {
    "duration": 1379,
    "start_time": "2025-08-02T14:47:10.625Z"
   },
   {
    "duration": 1380,
    "start_time": "2025-08-02T14:48:59.065Z"
   },
   {
    "duration": 12,
    "start_time": "2025-08-02T14:49:15.057Z"
   },
   {
    "duration": 25,
    "start_time": "2025-08-02T14:53:26.867Z"
   },
   {
    "duration": 106,
    "start_time": "2025-08-02T14:55:39.773Z"
   },
   {
    "duration": 30,
    "start_time": "2025-08-02T15:04:32.420Z"
   },
   {
    "duration": 30,
    "start_time": "2025-08-02T15:04:52.530Z"
   },
   {
    "duration": 86,
    "start_time": "2025-08-02T15:06:45.955Z"
   },
   {
    "duration": 274,
    "start_time": "2025-08-02T15:18:23.421Z"
   },
   {
    "duration": 278,
    "start_time": "2025-08-02T15:20:52.703Z"
   },
   {
    "duration": 1492,
    "start_time": "2025-08-02T15:30:20.102Z"
   },
   {
    "duration": 13,
    "start_time": "2025-08-02T15:30:39.083Z"
   },
   {
    "duration": 11,
    "start_time": "2025-08-02T15:31:01.868Z"
   },
   {
    "duration": 9,
    "start_time": "2025-08-02T15:32:31.435Z"
   },
   {
    "duration": 16,
    "start_time": "2025-08-02T15:32:38.990Z"
   },
   {
    "duration": 12,
    "start_time": "2025-08-02T15:35:11.235Z"
   },
   {
    "duration": 5,
    "start_time": "2025-08-02T15:35:19.481Z"
   },
   {
    "duration": 11,
    "start_time": "2025-08-02T15:35:37.087Z"
   },
   {
    "duration": 8,
    "start_time": "2025-08-02T15:36:05.465Z"
   },
   {
    "duration": 7,
    "start_time": "2025-08-02T15:36:15.698Z"
   },
   {
    "duration": 15,
    "start_time": "2025-08-02T15:36:20.477Z"
   },
   {
    "duration": 8,
    "start_time": "2025-08-02T15:36:39.249Z"
   },
   {
    "duration": 9,
    "start_time": "2025-08-02T15:36:45.561Z"
   },
   {
    "duration": 1739,
    "start_time": "2025-08-02T15:37:21.386Z"
   },
   {
    "duration": 11,
    "start_time": "2025-08-02T15:37:43.187Z"
   },
   {
    "duration": 5,
    "start_time": "2025-08-02T15:37:50.307Z"
   },
   {
    "duration": 1352,
    "start_time": "2025-08-02T15:39:45.605Z"
   },
   {
    "duration": 5,
    "start_time": "2025-08-02T15:40:16.966Z"
   },
   {
    "duration": 6,
    "start_time": "2025-08-02T15:46:10.847Z"
   },
   {
    "duration": 9,
    "start_time": "2025-08-02T15:47:53.250Z"
   },
   {
    "duration": 11,
    "start_time": "2025-08-02T15:48:28.575Z"
   },
   {
    "duration": 96,
    "start_time": "2025-08-02T16:05:47.947Z"
   },
   {
    "duration": 121,
    "start_time": "2025-08-02T17:00:36.570Z"
   },
   {
    "duration": 125,
    "start_time": "2025-08-02T17:01:21.213Z"
   },
   {
    "duration": 128,
    "start_time": "2025-08-02T17:07:07.264Z"
   },
   {
    "duration": 127,
    "start_time": "2025-08-02T17:07:27.399Z"
   },
   {
    "duration": 46,
    "start_time": "2025-08-02T17:07:48.744Z"
   },
   {
    "duration": 43,
    "start_time": "2025-08-02T17:10:05.691Z"
   },
   {
    "duration": 48,
    "start_time": "2025-08-02T17:10:13.683Z"
   },
   {
    "duration": 177,
    "start_time": "2025-08-02T17:11:43.620Z"
   },
   {
    "duration": 81,
    "start_time": "2025-08-02T17:12:23.982Z"
   },
   {
    "duration": 77,
    "start_time": "2025-08-02T17:13:46.342Z"
   },
   {
    "duration": 77,
    "start_time": "2025-08-02T17:14:41.014Z"
   },
   {
    "duration": 78,
    "start_time": "2025-08-02T17:15:19.936Z"
   },
   {
    "duration": 1232,
    "start_time": "2025-08-02T17:19:41.129Z"
   },
   {
    "duration": 8,
    "start_time": "2025-08-02T17:22:42.332Z"
   },
   {
    "duration": 57,
    "start_time": "2025-08-02T17:23:15.460Z"
   },
   {
    "duration": 69,
    "start_time": "2025-08-02T17:25:17.678Z"
   },
   {
    "duration": 10,
    "start_time": "2025-08-02T17:26:27.972Z"
   },
   {
    "duration": 64,
    "start_time": "2025-08-02T17:26:44.110Z"
   },
   {
    "duration": 1342,
    "start_time": "2025-08-02T17:34:25.170Z"
   },
   {
    "duration": 85,
    "start_time": "2025-08-02T17:36:37.333Z"
   },
   {
    "duration": 77,
    "start_time": "2025-08-02T17:37:59.612Z"
   },
   {
    "duration": 82,
    "start_time": "2025-08-02T17:38:33.332Z"
   },
   {
    "duration": 87,
    "start_time": "2025-08-02T17:38:56.797Z"
   },
   {
    "duration": 86,
    "start_time": "2025-08-02T17:41:44.136Z"
   },
   {
    "duration": 81,
    "start_time": "2025-08-02T17:42:08.153Z"
   },
   {
    "duration": 84,
    "start_time": "2025-08-02T17:42:20.975Z"
   },
   {
    "duration": 82,
    "start_time": "2025-08-02T17:42:38.089Z"
   },
   {
    "duration": 85,
    "start_time": "2025-08-02T17:43:03.239Z"
   },
   {
    "duration": 82,
    "start_time": "2025-08-02T17:44:31.219Z"
   },
   {
    "duration": 86,
    "start_time": "2025-08-02T17:44:57.530Z"
   },
   {
    "duration": 83,
    "start_time": "2025-08-02T17:45:14.556Z"
   },
   {
    "duration": 81,
    "start_time": "2025-08-02T17:45:26.946Z"
   },
   {
    "duration": 73,
    "start_time": "2025-08-02T17:46:56.538Z"
   },
   {
    "duration": 71,
    "start_time": "2025-08-02T17:52:51.009Z"
   },
   {
    "duration": 67,
    "start_time": "2025-08-02T17:53:06.991Z"
   },
   {
    "duration": 74,
    "start_time": "2025-08-02T17:53:42.865Z"
   },
   {
    "duration": 8,
    "start_time": "2025-08-02T17:55:17.101Z"
   },
   {
    "duration": 39,
    "start_time": "2025-08-02T17:55:29.145Z"
   },
   {
    "duration": 68,
    "start_time": "2025-08-02T17:58:18.980Z"
   },
   {
    "duration": 67,
    "start_time": "2025-08-02T17:59:08.923Z"
   },
   {
    "duration": 67,
    "start_time": "2025-08-02T17:59:27.677Z"
   },
   {
    "duration": 72,
    "start_time": "2025-08-02T18:01:00.373Z"
   },
   {
    "duration": 79,
    "start_time": "2025-08-02T18:01:26.965Z"
   },
   {
    "duration": 65,
    "start_time": "2025-08-02T18:01:34.173Z"
   },
   {
    "duration": 1955,
    "start_time": "2025-08-02T18:13:11.759Z"
   },
   {
    "duration": 247,
    "start_time": "2025-08-02T18:13:40.671Z"
   },
   {
    "duration": 237,
    "start_time": "2025-08-02T18:14:50.846Z"
   },
   {
    "duration": 243,
    "start_time": "2025-08-02T18:15:32.242Z"
   },
   {
    "duration": 238,
    "start_time": "2025-08-02T18:17:35.497Z"
   },
   {
    "duration": 258,
    "start_time": "2025-08-02T18:18:40.114Z"
   },
   {
    "duration": 78,
    "start_time": "2025-08-02T18:23:49.076Z"
   },
   {
    "duration": 81,
    "start_time": "2025-08-02T18:24:25.323Z"
   },
   {
    "duration": 245,
    "start_time": "2025-08-02T18:24:52.964Z"
   },
   {
    "duration": 280,
    "start_time": "2025-08-02T18:25:10.740Z"
   },
   {
    "duration": 276,
    "start_time": "2025-08-02T18:25:20.514Z"
   },
   {
    "duration": 236,
    "start_time": "2025-08-02T18:25:33.340Z"
   },
   {
    "duration": 280,
    "start_time": "2025-08-02T18:25:43.703Z"
   },
   {
    "duration": 288,
    "start_time": "2025-08-02T18:26:07.891Z"
   },
   {
    "duration": 89,
    "start_time": "2025-08-02T18:27:22.204Z"
   },
   {
    "duration": 270,
    "start_time": "2025-08-02T18:27:50.367Z"
   },
   {
    "duration": 84,
    "start_time": "2025-08-02T18:28:40.170Z"
   },
   {
    "duration": 1746,
    "start_time": "2025-08-02T18:29:07.735Z"
   },
   {
    "duration": 109,
    "start_time": "2025-08-02T18:29:43.217Z"
   },
   {
    "duration": 78,
    "start_time": "2025-08-02T18:29:54.983Z"
   },
   {
    "duration": 285,
    "start_time": "2025-08-02T18:30:21.610Z"
   },
   {
    "duration": 266,
    "start_time": "2025-08-02T18:30:49.615Z"
   },
   {
    "duration": 74,
    "start_time": "2025-08-02T19:24:30.276Z"
   },
   {
    "duration": 89,
    "start_time": "2025-08-02T19:33:07.190Z"
   },
   {
    "duration": 152,
    "start_time": "2025-08-02T19:39:17.829Z"
   },
   {
    "duration": 110,
    "start_time": "2025-08-02T19:41:12.351Z"
   },
   {
    "duration": 1412,
    "start_time": "2025-08-02T19:45:59.419Z"
   },
   {
    "duration": 1394,
    "start_time": "2025-08-02T19:46:32.617Z"
   },
   {
    "duration": 105,
    "start_time": "2025-08-02T19:46:46.915Z"
   },
   {
    "duration": 101,
    "start_time": "2025-08-02T19:47:10.676Z"
   },
   {
    "duration": 103,
    "start_time": "2025-08-02T19:47:39.712Z"
   },
   {
    "duration": 102,
    "start_time": "2025-08-02T19:47:48.252Z"
   },
   {
    "duration": 1520,
    "start_time": "2025-08-02T19:48:10.059Z"
   },
   {
    "duration": 103,
    "start_time": "2025-08-02T19:49:02.828Z"
   },
   {
    "duration": 109,
    "start_time": "2025-08-02T19:49:14.485Z"
   },
   {
    "duration": 1478,
    "start_time": "2025-08-02T19:50:02.408Z"
   },
   {
    "duration": 1455,
    "start_time": "2025-08-02T19:52:10.208Z"
   },
   {
    "duration": 362,
    "start_time": "2025-08-02T19:52:53.504Z"
   },
   {
    "duration": 144,
    "start_time": "2025-08-02T19:53:58.168Z"
   },
   {
    "duration": 92,
    "start_time": "2025-08-02T19:57:09.281Z"
   },
   {
    "duration": 147,
    "start_time": "2025-08-02T19:57:26.929Z"
   },
   {
    "duration": 147,
    "start_time": "2025-08-02T19:58:04.152Z"
   },
   {
    "duration": 145,
    "start_time": "2025-08-02T19:58:58.010Z"
   },
   {
    "duration": 146,
    "start_time": "2025-08-02T20:00:39.202Z"
   },
   {
    "duration": 150,
    "start_time": "2025-08-02T20:02:26.786Z"
   },
   {
    "duration": 141,
    "start_time": "2025-08-02T20:03:30.501Z"
   },
   {
    "duration": 84,
    "start_time": "2025-08-02T20:06:36.134Z"
   },
   {
    "duration": 131,
    "start_time": "2025-08-02T20:06:50.288Z"
   },
   {
    "duration": 1410,
    "start_time": "2025-08-02T20:06:59.071Z"
   },
   {
    "duration": 135,
    "start_time": "2025-08-02T20:07:23.357Z"
   },
   {
    "duration": 120,
    "start_time": "2025-08-02T20:07:31.217Z"
   },
   {
    "duration": 152,
    "start_time": "2025-08-02T20:13:45.267Z"
   },
   {
    "duration": 158,
    "start_time": "2025-08-02T20:14:00.775Z"
   },
   {
    "duration": 146,
    "start_time": "2025-08-02T20:14:10.899Z"
   },
   {
    "duration": 150,
    "start_time": "2025-08-02T20:14:53.763Z"
   },
   {
    "duration": 66,
    "start_time": "2025-08-02T20:32:15.262Z"
   },
   {
    "duration": 68,
    "start_time": "2025-08-02T20:36:20.120Z"
   },
   {
    "duration": 68,
    "start_time": "2025-08-02T20:37:30.796Z"
   },
   {
    "duration": 100,
    "start_time": "2025-08-02T20:42:35.328Z"
   },
   {
    "duration": 4,
    "start_time": "2025-08-02T20:44:29.639Z"
   },
   {
    "duration": 103,
    "start_time": "2025-08-02T20:44:45.367Z"
   },
   {
    "duration": 70,
    "start_time": "2025-08-02T20:45:20.632Z"
   },
   {
    "duration": 41,
    "start_time": "2025-08-02T21:02:28.601Z"
   },
   {
    "duration": 40,
    "start_time": "2025-08-02T21:02:49.859Z"
   },
   {
    "duration": 163,
    "start_time": "2025-08-02T21:08:06.334Z"
   },
   {
    "duration": 837,
    "start_time": "2025-08-02T21:24:21.312Z"
   },
   {
    "duration": 43,
    "start_time": "2025-08-02T21:48:36.016Z"
   },
   {
    "duration": 4,
    "start_time": "2025-08-02T21:51:10.476Z"
   },
   {
    "duration": 4,
    "start_time": "2025-08-02T21:51:31.779Z"
   },
   {
    "duration": 144,
    "start_time": "2025-08-02T21:51:47.018Z"
   },
   {
    "duration": 101,
    "start_time": "2025-08-02T21:52:02.626Z"
   },
   {
    "duration": 153,
    "start_time": "2025-08-02T22:01:48.378Z"
   },
   {
    "duration": 107,
    "start_time": "2025-08-02T22:03:45.596Z"
   },
   {
    "duration": 104,
    "start_time": "2025-08-02T22:04:41.057Z"
   },
   {
    "duration": 145,
    "start_time": "2025-08-02T22:05:03.675Z"
   },
   {
    "duration": 1284,
    "start_time": "2025-08-03T06:18:15.847Z"
   },
   {
    "duration": 1995,
    "start_time": "2025-08-03T06:18:17.133Z"
   },
   {
    "duration": 121,
    "start_time": "2025-08-03T06:18:19.129Z"
   },
   {
    "duration": 577,
    "start_time": "2025-08-03T06:18:19.253Z"
   },
   {
    "duration": 254,
    "start_time": "2025-08-03T06:18:19.831Z"
   },
   {
    "duration": 1046,
    "start_time": "2025-08-03T06:18:20.087Z"
   },
   {
    "duration": 311,
    "start_time": "2025-08-03T06:18:21.134Z"
   },
   {
    "duration": 34,
    "start_time": "2025-08-03T06:18:21.446Z"
   },
   {
    "duration": 756,
    "start_time": "2025-08-03T06:18:21.481Z"
   },
   {
    "duration": 969,
    "start_time": "2025-08-03T06:18:22.239Z"
   },
   {
    "duration": 11,
    "start_time": "2025-08-03T06:18:23.210Z"
   },
   {
    "duration": 363,
    "start_time": "2025-08-03T06:18:23.223Z"
   },
   {
    "duration": 830,
    "start_time": "2025-08-03T06:18:23.587Z"
   },
   {
    "duration": 2443,
    "start_time": "2025-08-03T06:18:24.420Z"
   },
   {
    "duration": 395,
    "start_time": "2025-08-03T06:18:26.865Z"
   },
   {
    "duration": 112,
    "start_time": "2025-08-03T06:18:27.263Z"
   },
   {
    "duration": 128,
    "start_time": "2025-08-03T06:18:27.377Z"
   },
   {
    "duration": 2,
    "start_time": "2025-08-03T06:18:27.507Z"
   },
   {
    "duration": 171,
    "start_time": "2025-08-03T06:18:27.510Z"
   },
   {
    "duration": 907,
    "start_time": "2025-08-03T06:18:27.683Z"
   },
   {
    "duration": 91,
    "start_time": "2025-08-03T06:18:28.592Z"
   },
   {
    "duration": 0,
    "start_time": "2025-08-03T06:18:28.685Z"
   },
   {
    "duration": 0,
    "start_time": "2025-08-03T06:18:28.686Z"
   },
   {
    "duration": 0,
    "start_time": "2025-08-03T06:18:28.687Z"
   },
   {
    "duration": 0,
    "start_time": "2025-08-03T06:18:28.688Z"
   },
   {
    "duration": 0,
    "start_time": "2025-08-03T06:18:28.690Z"
   },
   {
    "duration": 0,
    "start_time": "2025-08-03T06:18:28.691Z"
   },
   {
    "duration": 96,
    "start_time": "2025-08-03T06:32:02.070Z"
   },
   {
    "duration": 421,
    "start_time": "2025-08-03T06:34:12.354Z"
   },
   {
    "duration": 746,
    "start_time": "2025-08-03T06:35:24.682Z"
   },
   {
    "duration": 510,
    "start_time": "2025-08-03T06:35:52.357Z"
   },
   {
    "duration": 271,
    "start_time": "2025-08-03T06:36:41.165Z"
   },
   {
    "duration": 294,
    "start_time": "2025-08-03T06:49:11.960Z"
   },
   {
    "duration": 264,
    "start_time": "2025-08-03T06:51:30.138Z"
   },
   {
    "duration": 154,
    "start_time": "2025-08-03T06:52:48.442Z"
   },
   {
    "duration": 104,
    "start_time": "2025-08-03T06:52:51.340Z"
   },
   {
    "duration": 12,
    "start_time": "2025-08-03T06:54:45.068Z"
   },
   {
    "duration": 851,
    "start_time": "2025-08-03T07:13:55.170Z"
   },
   {
    "duration": 103,
    "start_time": "2025-08-03T07:14:30.287Z"
   },
   {
    "duration": 105,
    "start_time": "2025-08-03T07:15:01.121Z"
   },
   {
    "duration": 23,
    "start_time": "2025-08-03T07:21:00.781Z"
   },
   {
    "duration": 112,
    "start_time": "2025-08-03T07:21:23.511Z"
   },
   {
    "duration": 21,
    "start_time": "2025-08-03T07:23:01.055Z"
   },
   {
    "duration": 166,
    "start_time": "2025-08-03T07:23:09.742Z"
   },
   {
    "duration": 20,
    "start_time": "2025-08-03T07:23:44.319Z"
   },
   {
    "duration": 174,
    "start_time": "2025-08-03T07:24:22.094Z"
   },
   {
    "duration": 286,
    "start_time": "2025-08-03T07:24:36.633Z"
   },
   {
    "duration": 266,
    "start_time": "2025-08-03T07:32:33.589Z"
   },
   {
    "duration": 262,
    "start_time": "2025-08-03T07:32:44.686Z"
   },
   {
    "duration": 267,
    "start_time": "2025-08-03T07:33:07.421Z"
   },
   {
    "duration": 84,
    "start_time": "2025-08-03T07:43:27.652Z"
   },
   {
    "duration": 1056,
    "start_time": "2025-08-03T07:43:37.515Z"
   },
   {
    "duration": 13,
    "start_time": "2025-08-03T07:44:22.591Z"
   },
   {
    "duration": 1161,
    "start_time": "2025-08-03T08:58:57.360Z"
   },
   {
    "duration": 2205,
    "start_time": "2025-08-03T08:58:58.523Z"
   },
   {
    "duration": 144,
    "start_time": "2025-08-03T08:59:00.730Z"
   },
   {
    "duration": 650,
    "start_time": "2025-08-03T08:59:00.877Z"
   },
   {
    "duration": 317,
    "start_time": "2025-08-03T08:59:01.529Z"
   },
   {
    "duration": 1252,
    "start_time": "2025-08-03T08:59:01.848Z"
   },
   {
    "duration": 317,
    "start_time": "2025-08-03T08:59:03.102Z"
   },
   {
    "duration": 30,
    "start_time": "2025-08-03T08:59:03.421Z"
   },
   {
    "duration": 856,
    "start_time": "2025-08-03T08:59:03.453Z"
   },
   {
    "duration": 1087,
    "start_time": "2025-08-03T08:59:04.310Z"
   },
   {
    "duration": 13,
    "start_time": "2025-08-03T08:59:05.399Z"
   },
   {
    "duration": 466,
    "start_time": "2025-08-03T08:59:05.414Z"
   },
   {
    "duration": 1025,
    "start_time": "2025-08-03T08:59:05.882Z"
   },
   {
    "duration": 2699,
    "start_time": "2025-08-03T08:59:06.910Z"
   },
   {
    "duration": 413,
    "start_time": "2025-08-03T08:59:09.611Z"
   },
   {
    "duration": 105,
    "start_time": "2025-08-03T08:59:10.026Z"
   },
   {
    "duration": 149,
    "start_time": "2025-08-03T08:59:10.133Z"
   },
   {
    "duration": 3,
    "start_time": "2025-08-03T08:59:10.284Z"
   },
   {
    "duration": 250,
    "start_time": "2025-08-03T08:59:10.288Z"
   },
   {
    "duration": 1041,
    "start_time": "2025-08-03T08:59:10.540Z"
   },
   {
    "duration": 465,
    "start_time": "2025-08-03T08:59:11.583Z"
   },
   {
    "duration": 1226,
    "start_time": "2025-08-03T08:59:12.050Z"
   },
   {
    "duration": 304,
    "start_time": "2025-08-03T08:59:13.279Z"
   },
   {
    "duration": 326,
    "start_time": "2025-08-03T08:59:13.585Z"
   },
   {
    "duration": 409,
    "start_time": "2025-08-03T08:59:13.913Z"
   },
   {
    "duration": 187,
    "start_time": "2025-08-03T08:59:14.324Z"
   },
   {
    "duration": 115,
    "start_time": "2025-08-03T08:59:14.513Z"
   },
   {
    "duration": 103,
    "start_time": "2025-08-03T09:03:00.302Z"
   },
   {
    "duration": 1158,
    "start_time": "2025-08-03T09:03:54.457Z"
   },
   {
    "duration": 1889,
    "start_time": "2025-08-03T09:03:55.617Z"
   },
   {
    "duration": 123,
    "start_time": "2025-08-03T09:03:57.509Z"
   },
   {
    "duration": 614,
    "start_time": "2025-08-03T09:03:57.635Z"
   },
   {
    "duration": 254,
    "start_time": "2025-08-03T09:03:58.252Z"
   },
   {
    "duration": 1129,
    "start_time": "2025-08-03T09:03:58.508Z"
   },
   {
    "duration": 371,
    "start_time": "2025-08-03T09:03:59.639Z"
   },
   {
    "duration": 31,
    "start_time": "2025-08-03T09:04:00.012Z"
   },
   {
    "duration": 848,
    "start_time": "2025-08-03T09:04:00.045Z"
   },
   {
    "duration": 1024,
    "start_time": "2025-08-03T09:04:00.894Z"
   },
   {
    "duration": 11,
    "start_time": "2025-08-03T09:04:01.920Z"
   },
   {
    "duration": 468,
    "start_time": "2025-08-03T09:04:01.933Z"
   },
   {
    "duration": 883,
    "start_time": "2025-08-03T09:04:02.402Z"
   },
   {
    "duration": 2549,
    "start_time": "2025-08-03T09:04:03.289Z"
   },
   {
    "duration": 403,
    "start_time": "2025-08-03T09:04:05.840Z"
   },
   {
    "duration": 97,
    "start_time": "2025-08-03T09:04:06.244Z"
   },
   {
    "duration": 142,
    "start_time": "2025-08-03T09:04:06.342Z"
   },
   {
    "duration": 2,
    "start_time": "2025-08-03T09:04:06.486Z"
   },
   {
    "duration": 283,
    "start_time": "2025-08-03T09:04:06.490Z"
   },
   {
    "duration": 936,
    "start_time": "2025-08-03T09:04:06.775Z"
   },
   {
    "duration": 428,
    "start_time": "2025-08-03T09:04:07.713Z"
   },
   {
    "duration": 1114,
    "start_time": "2025-08-03T09:04:08.143Z"
   },
   {
    "duration": 288,
    "start_time": "2025-08-03T09:04:09.258Z"
   },
   {
    "duration": 299,
    "start_time": "2025-08-03T09:04:09.548Z"
   },
   {
    "duration": 373,
    "start_time": "2025-08-03T09:04:09.849Z"
   },
   {
    "duration": 168,
    "start_time": "2025-08-03T09:04:10.224Z"
   },
   {
    "duration": 117,
    "start_time": "2025-08-03T09:04:10.394Z"
   },
   {
    "duration": 1356,
    "start_time": "2025-08-03T19:54:13.450Z"
   },
   {
    "duration": 2074,
    "start_time": "2025-08-03T19:54:14.808Z"
   },
   {
    "duration": 130,
    "start_time": "2025-08-03T19:54:16.884Z"
   },
   {
    "duration": 542,
    "start_time": "2025-08-03T19:54:17.017Z"
   },
   {
    "duration": 241,
    "start_time": "2025-08-03T19:54:17.561Z"
   },
   {
    "duration": 1023,
    "start_time": "2025-08-03T19:54:17.803Z"
   },
   {
    "duration": 280,
    "start_time": "2025-08-03T19:54:20.516Z"
   },
   {
    "duration": 28,
    "start_time": "2025-08-03T19:54:20.871Z"
   },
   {
    "duration": 703,
    "start_time": "2025-08-03T19:54:21.048Z"
   },
   {
    "duration": 1031,
    "start_time": "2025-08-03T19:54:21.752Z"
   },
   {
    "duration": 10,
    "start_time": "2025-08-03T19:54:22.785Z"
   },
   {
    "duration": 295,
    "start_time": "2025-08-03T19:54:22.797Z"
   },
   {
    "duration": 899,
    "start_time": "2025-08-03T19:54:23.093Z"
   },
   {
    "duration": 28,
    "start_time": "2025-08-03T19:54:23.993Z"
   },
   {
    "duration": 4,
    "start_time": "2025-08-03T20:03:39.112Z"
   },
   {
    "duration": 1854,
    "start_time": "2025-08-03T20:03:39.118Z"
   },
   {
    "duration": 116,
    "start_time": "2025-08-03T20:03:40.973Z"
   },
   {
    "duration": 543,
    "start_time": "2025-08-03T20:03:41.091Z"
   },
   {
    "duration": 249,
    "start_time": "2025-08-03T20:03:41.635Z"
   },
   {
    "duration": 1101,
    "start_time": "2025-08-03T20:03:41.886Z"
   },
   {
    "duration": 329,
    "start_time": "2025-08-03T20:03:42.990Z"
   },
   {
    "duration": 31,
    "start_time": "2025-08-03T20:03:43.321Z"
   },
   {
    "duration": 755,
    "start_time": "2025-08-03T20:03:43.356Z"
   },
   {
    "duration": 874,
    "start_time": "2025-08-03T20:03:44.113Z"
   },
   {
    "duration": 11,
    "start_time": "2025-08-03T20:03:44.988Z"
   },
   {
    "duration": 400,
    "start_time": "2025-08-03T20:03:45.001Z"
   },
   {
    "duration": 848,
    "start_time": "2025-08-03T20:03:45.403Z"
   },
   {
    "duration": 2248,
    "start_time": "2025-08-03T20:03:46.253Z"
   },
   {
    "duration": 406,
    "start_time": "2025-08-03T20:03:48.502Z"
   },
   {
    "duration": 94,
    "start_time": "2025-08-03T20:03:48.909Z"
   },
   {
    "duration": 112,
    "start_time": "2025-08-03T20:03:49.004Z"
   },
   {
    "duration": 3,
    "start_time": "2025-08-03T20:03:49.117Z"
   },
   {
    "duration": 168,
    "start_time": "2025-08-03T20:03:49.121Z"
   },
   {
    "duration": 875,
    "start_time": "2025-08-03T20:03:49.291Z"
   },
   {
    "duration": 395,
    "start_time": "2025-08-03T20:03:50.167Z"
   },
   {
    "duration": 1049,
    "start_time": "2025-08-03T20:03:50.564Z"
   },
   {
    "duration": 268,
    "start_time": "2025-08-03T20:03:51.615Z"
   },
   {
    "duration": 318,
    "start_time": "2025-08-03T20:03:51.886Z"
   },
   {
    "duration": 353,
    "start_time": "2025-08-03T20:03:52.206Z"
   },
   {
    "duration": 155,
    "start_time": "2025-08-03T20:03:52.561Z"
   },
   {
    "duration": 108,
    "start_time": "2025-08-03T20:03:52.718Z"
   },
   {
    "duration": 1351,
    "start_time": "2025-08-04T06:37:50.594Z"
   },
   {
    "duration": 2123,
    "start_time": "2025-08-04T06:37:51.950Z"
   },
   {
    "duration": 142,
    "start_time": "2025-08-04T06:37:54.075Z"
   },
   {
    "duration": 589,
    "start_time": "2025-08-04T06:37:54.219Z"
   },
   {
    "duration": 274,
    "start_time": "2025-08-04T06:37:54.810Z"
   },
   {
    "duration": 1195,
    "start_time": "2025-08-04T06:37:55.086Z"
   },
   {
    "duration": 321,
    "start_time": "2025-08-04T06:37:56.283Z"
   },
   {
    "duration": 31,
    "start_time": "2025-08-04T06:37:56.606Z"
   },
   {
    "duration": 975,
    "start_time": "2025-08-04T06:37:56.650Z"
   },
   {
    "duration": 1156,
    "start_time": "2025-08-04T06:37:57.628Z"
   },
   {
    "duration": 11,
    "start_time": "2025-08-04T06:37:58.786Z"
   },
   {
    "duration": 307,
    "start_time": "2025-08-04T06:37:58.799Z"
   },
   {
    "duration": 1003,
    "start_time": "2025-08-04T06:37:59.108Z"
   },
   {
    "duration": 2633,
    "start_time": "2025-08-04T06:38:00.113Z"
   },
   {
    "duration": 446,
    "start_time": "2025-08-04T06:38:02.750Z"
   },
   {
    "duration": 105,
    "start_time": "2025-08-04T06:38:03.198Z"
   },
   {
    "duration": 144,
    "start_time": "2025-08-04T06:38:03.306Z"
   },
   {
    "duration": 3,
    "start_time": "2025-08-04T06:38:03.452Z"
   },
   {
    "duration": 178,
    "start_time": "2025-08-04T06:38:03.457Z"
   },
   {
    "duration": 878,
    "start_time": "2025-08-04T06:38:03.638Z"
   },
   {
    "duration": 459,
    "start_time": "2025-08-04T06:38:04.519Z"
   },
   {
    "duration": 1175,
    "start_time": "2025-08-04T06:38:04.980Z"
   },
   {
    "duration": 414,
    "start_time": "2025-08-04T06:38:06.157Z"
   },
   {
    "duration": 312,
    "start_time": "2025-08-04T06:38:06.573Z"
   },
   {
    "duration": 292,
    "start_time": "2025-08-04T06:38:06.886Z"
   },
   {
    "duration": 171,
    "start_time": "2025-08-04T06:38:07.179Z"
   },
   {
    "duration": 119,
    "start_time": "2025-08-04T06:38:07.352Z"
   },
   {
    "duration": 572,
    "start_time": "2025-08-04T07:42:23.039Z"
   },
   {
    "duration": 285,
    "start_time": "2025-08-04T07:42:36.142Z"
   },
   {
    "duration": 1268,
    "start_time": "2025-08-04T07:42:59.026Z"
   },
   {
    "duration": 310,
    "start_time": "2025-08-04T07:46:00.154Z"
   },
   {
    "duration": 31,
    "start_time": "2025-08-04T07:46:07.692Z"
   },
   {
    "duration": 821,
    "start_time": "2025-08-04T07:46:15.567Z"
   },
   {
    "duration": 12,
    "start_time": "2025-08-04T07:46:30.829Z"
   },
   {
    "duration": 281,
    "start_time": "2025-08-04T07:46:45.566Z"
   },
   {
    "duration": 992,
    "start_time": "2025-08-04T07:46:53.729Z"
   },
   {
    "duration": 53,
    "start_time": "2025-08-04T07:50:19.217Z"
   },
   {
    "duration": 40,
    "start_time": "2025-08-04T07:51:09.259Z"
   },
   {
    "duration": 37,
    "start_time": "2025-08-04T07:51:46.383Z"
   },
   {
    "duration": 107,
    "start_time": "2025-08-04T07:52:42.807Z"
   },
   {
    "duration": 56,
    "start_time": "2025-08-04T07:53:00.332Z"
   },
   {
    "duration": 55,
    "start_time": "2025-08-04T07:53:40.196Z"
   },
   {
    "duration": 59,
    "start_time": "2025-08-04T07:54:35.009Z"
   },
   {
    "duration": 56,
    "start_time": "2025-08-04T08:01:40.940Z"
   },
   {
    "duration": 41,
    "start_time": "2025-08-04T08:02:15.342Z"
   },
   {
    "duration": 31,
    "start_time": "2025-08-04T08:10:52.804Z"
   },
   {
    "duration": 39,
    "start_time": "2025-08-04T08:11:07.188Z"
   },
   {
    "duration": 55,
    "start_time": "2025-08-04T08:11:22.084Z"
   },
   {
    "duration": 2,
    "start_time": "2025-08-04T08:12:32.941Z"
   },
   {
    "duration": 26,
    "start_time": "2025-08-04T08:13:46.588Z"
   },
   {
    "duration": 6,
    "start_time": "2025-08-04T08:13:57.190Z"
   },
   {
    "duration": 13,
    "start_time": "2025-08-04T08:14:29.119Z"
   },
   {
    "duration": 1144,
    "start_time": "2025-08-04T08:15:11.090Z"
   },
   {
    "duration": 2367,
    "start_time": "2025-08-04T08:15:12.236Z"
   },
   {
    "duration": 139,
    "start_time": "2025-08-04T08:15:14.604Z"
   },
   {
    "duration": 621,
    "start_time": "2025-08-04T08:15:14.744Z"
   },
   {
    "duration": 296,
    "start_time": "2025-08-04T08:15:15.368Z"
   },
   {
    "duration": 1312,
    "start_time": "2025-08-04T08:15:15.666Z"
   },
   {
    "duration": 339,
    "start_time": "2025-08-04T08:15:16.980Z"
   },
   {
    "duration": 43,
    "start_time": "2025-08-04T08:15:17.321Z"
   },
   {
    "duration": 946,
    "start_time": "2025-08-04T08:15:17.366Z"
   },
   {
    "duration": 490,
    "start_time": "2025-08-04T08:15:18.314Z"
   },
   {
    "duration": 0,
    "start_time": "2025-08-04T08:15:18.806Z"
   },
   {
    "duration": 0,
    "start_time": "2025-08-04T08:15:18.808Z"
   },
   {
    "duration": 0,
    "start_time": "2025-08-04T08:15:18.809Z"
   },
   {
    "duration": 0,
    "start_time": "2025-08-04T08:15:18.810Z"
   },
   {
    "duration": 0,
    "start_time": "2025-08-04T08:15:18.811Z"
   },
   {
    "duration": 0,
    "start_time": "2025-08-04T08:15:18.812Z"
   },
   {
    "duration": 0,
    "start_time": "2025-08-04T08:15:18.813Z"
   },
   {
    "duration": 0,
    "start_time": "2025-08-04T08:15:18.814Z"
   },
   {
    "duration": 0,
    "start_time": "2025-08-04T08:15:18.815Z"
   },
   {
    "duration": 0,
    "start_time": "2025-08-04T08:15:18.816Z"
   },
   {
    "duration": 0,
    "start_time": "2025-08-04T08:15:18.817Z"
   },
   {
    "duration": 0,
    "start_time": "2025-08-04T08:15:18.817Z"
   },
   {
    "duration": 0,
    "start_time": "2025-08-04T08:15:18.818Z"
   },
   {
    "duration": 0,
    "start_time": "2025-08-04T08:15:18.819Z"
   },
   {
    "duration": 0,
    "start_time": "2025-08-04T08:15:18.820Z"
   },
   {
    "duration": 0,
    "start_time": "2025-08-04T08:15:18.857Z"
   },
   {
    "duration": 0,
    "start_time": "2025-08-04T08:15:18.858Z"
   },
   {
    "duration": 0,
    "start_time": "2025-08-04T08:15:18.859Z"
   },
   {
    "duration": 0,
    "start_time": "2025-08-04T08:15:18.859Z"
   },
   {
    "duration": 0,
    "start_time": "2025-08-04T08:15:18.860Z"
   },
   {
    "duration": 0,
    "start_time": "2025-08-04T08:15:18.861Z"
   },
   {
    "duration": 1127,
    "start_time": "2025-08-04T08:16:32.811Z"
   },
   {
    "duration": 13,
    "start_time": "2025-08-04T08:16:41.155Z"
   },
   {
    "duration": 284,
    "start_time": "2025-08-04T08:16:44.525Z"
   },
   {
    "duration": 305,
    "start_time": "2025-08-04T08:16:48.405Z"
   },
   {
    "duration": 998,
    "start_time": "2025-08-04T08:16:58.962Z"
   },
   {
    "duration": 1080,
    "start_time": "2025-08-04T08:17:28.781Z"
   },
   {
    "duration": 2049,
    "start_time": "2025-08-04T08:17:29.862Z"
   },
   {
    "duration": 127,
    "start_time": "2025-08-04T08:17:31.913Z"
   },
   {
    "duration": 578,
    "start_time": "2025-08-04T08:17:32.042Z"
   },
   {
    "duration": 264,
    "start_time": "2025-08-04T08:17:32.622Z"
   },
   {
    "duration": 1127,
    "start_time": "2025-08-04T08:17:32.888Z"
   },
   {
    "duration": 310,
    "start_time": "2025-08-04T08:17:34.016Z"
   },
   {
    "duration": 39,
    "start_time": "2025-08-04T08:17:34.328Z"
   },
   {
    "duration": 866,
    "start_time": "2025-08-04T08:17:34.369Z"
   },
   {
    "duration": 1044,
    "start_time": "2025-08-04T08:17:35.238Z"
   },
   {
    "duration": 12,
    "start_time": "2025-08-04T08:17:36.284Z"
   },
   {
    "duration": 424,
    "start_time": "2025-08-04T08:17:36.297Z"
   },
   {
    "duration": 913,
    "start_time": "2025-08-04T08:17:36.722Z"
   },
   {
    "duration": 14,
    "start_time": "2025-08-04T08:17:37.637Z"
   },
   {
    "duration": 115,
    "start_time": "2025-08-04T08:17:37.653Z"
   },
   {
    "duration": 0,
    "start_time": "2025-08-04T08:17:37.770Z"
   },
   {
    "duration": 0,
    "start_time": "2025-08-04T08:17:37.771Z"
   },
   {
    "duration": 0,
    "start_time": "2025-08-04T08:17:37.772Z"
   },
   {
    "duration": 0,
    "start_time": "2025-08-04T08:17:37.773Z"
   },
   {
    "duration": 0,
    "start_time": "2025-08-04T08:17:37.774Z"
   },
   {
    "duration": 0,
    "start_time": "2025-08-04T08:17:37.775Z"
   },
   {
    "duration": 0,
    "start_time": "2025-08-04T08:17:37.776Z"
   },
   {
    "duration": 0,
    "start_time": "2025-08-04T08:17:37.777Z"
   },
   {
    "duration": 0,
    "start_time": "2025-08-04T08:17:37.778Z"
   },
   {
    "duration": 0,
    "start_time": "2025-08-04T08:17:37.779Z"
   },
   {
    "duration": 0,
    "start_time": "2025-08-04T08:17:37.780Z"
   },
   {
    "duration": 0,
    "start_time": "2025-08-04T08:17:37.781Z"
   },
   {
    "duration": 0,
    "start_time": "2025-08-04T08:17:37.782Z"
   },
   {
    "duration": 0,
    "start_time": "2025-08-04T08:17:37.783Z"
   },
   {
    "duration": 0,
    "start_time": "2025-08-04T08:17:37.784Z"
   },
   {
    "duration": 7,
    "start_time": "2025-08-04T08:19:07.997Z"
   },
   {
    "duration": 32,
    "start_time": "2025-08-04T08:23:42.859Z"
   },
   {
    "duration": 76,
    "start_time": "2025-08-04T08:24:25.297Z"
   },
   {
    "duration": 196,
    "start_time": "2025-08-04T08:32:32.556Z"
   },
   {
    "duration": 482,
    "start_time": "2025-08-04T08:32:38.389Z"
   },
   {
    "duration": 185,
    "start_time": "2025-08-04T08:32:51.302Z"
   },
   {
    "duration": 182,
    "start_time": "2025-08-04T08:33:45.342Z"
   },
   {
    "duration": 199,
    "start_time": "2025-08-04T08:34:52.168Z"
   },
   {
    "duration": 196,
    "start_time": "2025-08-04T08:35:19.359Z"
   },
   {
    "duration": 198,
    "start_time": "2025-08-04T08:35:27.600Z"
   },
   {
    "duration": 196,
    "start_time": "2025-08-04T08:36:06.631Z"
   },
   {
    "duration": 473,
    "start_time": "2025-08-04T08:36:29.519Z"
   },
   {
    "duration": 380,
    "start_time": "2025-08-04T08:42:27.225Z"
   },
   {
    "duration": 457,
    "start_time": "2025-08-04T08:48:38.846Z"
   },
   {
    "duration": 373,
    "start_time": "2025-08-04T08:50:11.025Z"
   },
   {
    "duration": 137,
    "start_time": "2025-08-04T08:50:26.408Z"
   },
   {
    "duration": 660,
    "start_time": "2025-08-04T08:58:08.406Z"
   },
   {
    "duration": 790,
    "start_time": "2025-08-04T08:59:07.659Z"
   },
   {
    "duration": 817,
    "start_time": "2025-08-04T08:59:27.500Z"
   },
   {
    "duration": 4,
    "start_time": "2025-08-04T09:01:30.341Z"
   },
   {
    "duration": 280,
    "start_time": "2025-08-04T09:01:39.854Z"
   },
   {
    "duration": 645,
    "start_time": "2025-08-04T09:06:09.604Z"
   },
   {
    "duration": 270,
    "start_time": "2025-08-04T09:08:43.955Z"
   },
   {
    "duration": 984,
    "start_time": "2025-08-04T09:09:27.110Z"
   },
   {
    "duration": 11,
    "start_time": "2025-08-04T09:11:42.757Z"
   },
   {
    "duration": 38,
    "start_time": "2025-08-04T09:12:29.911Z"
   },
   {
    "duration": 668,
    "start_time": "2025-08-04T09:14:05.383Z"
   },
   {
    "duration": 195,
    "start_time": "2025-08-04T09:18:09.403Z"
   },
   {
    "duration": 2523,
    "start_time": "2025-08-04T09:18:22.092Z"
   },
   {
    "duration": 372,
    "start_time": "2025-08-04T09:22:06.007Z"
   },
   {
    "duration": 81,
    "start_time": "2025-08-04T09:22:10.607Z"
   },
   {
    "duration": 119,
    "start_time": "2025-08-04T09:22:23.148Z"
   },
   {
    "duration": 171,
    "start_time": "2025-08-04T09:36:31.975Z"
   },
   {
    "duration": 842,
    "start_time": "2025-08-04T09:36:41.671Z"
   },
   {
    "duration": 431,
    "start_time": "2025-08-04T09:37:28.471Z"
   },
   {
    "duration": 104,
    "start_time": "2025-08-04T09:42:32.756Z"
   },
   {
    "duration": 111,
    "start_time": "2025-08-04T09:43:28.699Z"
   },
   {
    "duration": 1650,
    "start_time": "2025-08-04T09:43:44.259Z"
   },
   {
    "duration": 6,
    "start_time": "2025-08-04T09:44:13.436Z"
   },
   {
    "duration": 4412,
    "start_time": "2025-08-04T09:47:10.751Z"
   },
   {
    "duration": 437,
    "start_time": "2025-08-04T09:48:12.633Z"
   },
   {
    "duration": 558,
    "start_time": "2025-08-04T09:49:17.273Z"
   },
   {
    "duration": 440,
    "start_time": "2025-08-04T09:49:43.304Z"
   },
   {
    "duration": 466,
    "start_time": "2025-08-04T09:50:01.376Z"
   },
   {
    "duration": 5842,
    "start_time": "2025-08-04T09:54:29.771Z"
   },
   {
    "duration": 10,
    "start_time": "2025-08-04T09:55:17.364Z"
   },
   {
    "duration": 11,
    "start_time": "2025-08-04T09:55:34.397Z"
   },
   {
    "duration": 12,
    "start_time": "2025-08-04T09:55:42.980Z"
   },
   {
    "duration": 11,
    "start_time": "2025-08-04T10:01:44.826Z"
   },
   {
    "duration": 95,
    "start_time": "2025-08-04T10:01:54.114Z"
   },
   {
    "duration": 12,
    "start_time": "2025-08-04T10:02:02.081Z"
   },
   {
    "duration": 96,
    "start_time": "2025-08-04T10:02:33.341Z"
   },
   {
    "duration": 14,
    "start_time": "2025-08-04T10:02:52.755Z"
   },
   {
    "duration": 124,
    "start_time": "2025-08-04T10:02:58.575Z"
   },
   {
    "duration": 16,
    "start_time": "2025-08-04T10:03:03.576Z"
   },
   {
    "duration": 428,
    "start_time": "2025-08-04T10:03:50.977Z"
   },
   {
    "duration": 448,
    "start_time": "2025-08-04T10:05:21.195Z"
   },
   {
    "duration": 586,
    "start_time": "2025-08-04T10:06:00.995Z"
   },
   {
    "duration": 452,
    "start_time": "2025-08-04T10:07:23.355Z"
   },
   {
    "duration": 457,
    "start_time": "2025-08-04T10:07:57.557Z"
   },
   {
    "duration": 488,
    "start_time": "2025-08-04T10:08:07.796Z"
   },
   {
    "duration": 105,
    "start_time": "2025-08-04T10:12:41.498Z"
   },
   {
    "duration": 280,
    "start_time": "2025-08-04T10:13:27.178Z"
   },
   {
    "duration": 17,
    "start_time": "2025-08-04T10:14:12.203Z"
   },
   {
    "duration": 439,
    "start_time": "2025-08-04T10:15:37.586Z"
   },
   {
    "duration": 529,
    "start_time": "2025-08-04T10:17:20.882Z"
   },
   {
    "duration": 16,
    "start_time": "2025-08-04T10:17:53.509Z"
   },
   {
    "duration": 14,
    "start_time": "2025-08-04T10:17:57.307Z"
   },
   {
    "duration": 15,
    "start_time": "2025-08-04T10:18:25.083Z"
   },
   {
    "duration": 442,
    "start_time": "2025-08-04T10:18:54.621Z"
   },
   {
    "duration": 448,
    "start_time": "2025-08-04T10:19:06.021Z"
   },
   {
    "duration": 450,
    "start_time": "2025-08-04T10:19:31.944Z"
   },
   {
    "duration": 458,
    "start_time": "2025-08-04T10:19:43.813Z"
   },
   {
    "duration": 544,
    "start_time": "2025-08-04T10:20:43.685Z"
   },
   {
    "duration": 460,
    "start_time": "2025-08-04T10:21:46.316Z"
   },
   {
    "duration": 85,
    "start_time": "2025-08-04T10:27:59.835Z"
   },
   {
    "duration": 48,
    "start_time": "2025-08-04T10:28:22.572Z"
   },
   {
    "duration": 119,
    "start_time": "2025-08-04T10:29:17.515Z"
   },
   {
    "duration": 86,
    "start_time": "2025-08-04T10:29:26.875Z"
   },
   {
    "duration": 1472,
    "start_time": "2025-08-04T10:30:29.598Z"
   },
   {
    "duration": 372,
    "start_time": "2025-08-04T10:38:41.963Z"
   },
   {
    "duration": 301,
    "start_time": "2025-08-04T10:43:57.156Z"
   },
   {
    "duration": 288,
    "start_time": "2025-08-04T10:44:05.750Z"
   },
   {
    "duration": 74,
    "start_time": "2025-08-04T10:52:18.242Z"
   },
   {
    "duration": 64,
    "start_time": "2025-08-04T10:52:38.987Z"
   },
   {
    "duration": 99,
    "start_time": "2025-08-04T10:53:37.228Z"
   },
   {
    "duration": 232,
    "start_time": "2025-08-04T11:00:43.891Z"
   },
   {
    "duration": 237,
    "start_time": "2025-08-04T11:00:52.961Z"
   },
   {
    "duration": 849,
    "start_time": "2025-08-04T11:06:19.697Z"
   },
   {
    "duration": 137,
    "start_time": "2025-08-04T11:11:17.846Z"
   },
   {
    "duration": 179,
    "start_time": "2025-08-04T11:13:50.413Z"
   },
   {
    "duration": 198,
    "start_time": "2025-08-04T11:16:18.425Z"
   },
   {
    "duration": 139,
    "start_time": "2025-08-04T11:16:36.217Z"
   },
   {
    "duration": 141,
    "start_time": "2025-08-04T11:17:55.626Z"
   },
   {
    "duration": 129,
    "start_time": "2025-08-04T11:18:26.577Z"
   },
   {
    "duration": 153,
    "start_time": "2025-08-04T11:18:33.922Z"
   },
   {
    "duration": 138,
    "start_time": "2025-08-04T11:18:39.874Z"
   },
   {
    "duration": 121,
    "start_time": "2025-08-04T11:21:12.901Z"
   },
   {
    "duration": 151,
    "start_time": "2025-08-04T11:23:14.231Z"
   },
   {
    "duration": 97,
    "start_time": "2025-08-04T11:27:04.177Z"
   },
   {
    "duration": 147,
    "start_time": "2025-08-04T11:27:58.121Z"
   },
   {
    "duration": 101,
    "start_time": "2025-08-04T11:28:03.786Z"
   },
   {
    "duration": 92,
    "start_time": "2025-08-04T11:33:11.829Z"
   },
   {
    "duration": 92,
    "start_time": "2025-08-04T11:36:21.526Z"
   },
   {
    "duration": 95,
    "start_time": "2025-08-04T11:36:31.922Z"
   },
   {
    "duration": 77,
    "start_time": "2025-08-04T11:44:48.581Z"
   },
   {
    "duration": 12,
    "start_time": "2025-08-04T11:46:09.989Z"
   },
   {
    "duration": 9725,
    "start_time": "2025-08-04T11:46:54.050Z"
   },
   {
    "duration": 22,
    "start_time": "2025-08-04T11:47:06.330Z"
   },
   {
    "duration": 219,
    "start_time": "2025-08-04T11:49:00.948Z"
   },
   {
    "duration": 96,
    "start_time": "2025-08-04T11:50:15.969Z"
   },
   {
    "duration": 96,
    "start_time": "2025-08-04T11:51:12.672Z"
   },
   {
    "duration": 65,
    "start_time": "2025-08-04T11:52:54.329Z"
   },
   {
    "duration": 186,
    "start_time": "2025-08-04T11:53:56.811Z"
   },
   {
    "duration": 86,
    "start_time": "2025-08-04T11:57:04.455Z"
   },
   {
    "duration": 68,
    "start_time": "2025-08-04T12:09:19.858Z"
   },
   {
    "duration": 73,
    "start_time": "2025-08-04T12:15:02.058Z"
   },
   {
    "duration": 31,
    "start_time": "2025-08-04T12:18:08.580Z"
   },
   {
    "duration": 35,
    "start_time": "2025-08-04T12:18:29.855Z"
   },
   {
    "duration": 22,
    "start_time": "2025-08-04T12:20:06.036Z"
   },
   {
    "duration": 47,
    "start_time": "2025-08-04T12:20:17.188Z"
   },
   {
    "duration": 4,
    "start_time": "2025-08-04T12:20:22.657Z"
   },
   {
    "duration": 19,
    "start_time": "2025-08-04T12:22:27.296Z"
   },
   {
    "duration": 129,
    "start_time": "2025-08-04T12:22:35.961Z"
   },
   {
    "duration": 105,
    "start_time": "2025-08-04T12:23:48.063Z"
   },
   {
    "duration": 27,
    "start_time": "2025-08-04T12:24:17.149Z"
   },
   {
    "duration": 16,
    "start_time": "2025-08-04T12:24:19.756Z"
   },
   {
    "duration": 19,
    "start_time": "2025-08-04T12:24:28.425Z"
   },
   {
    "duration": 106,
    "start_time": "2025-08-04T12:24:30.801Z"
   },
   {
    "duration": 156,
    "start_time": "2025-08-04T12:25:11.210Z"
   },
   {
    "duration": 53,
    "start_time": "2025-08-04T12:25:36.617Z"
   },
   {
    "duration": 9,
    "start_time": "2025-08-04T12:30:22.068Z"
   },
   {
    "duration": 79,
    "start_time": "2025-08-04T12:30:35.844Z"
   },
   {
    "duration": 3,
    "start_time": "2025-08-04T12:31:10.864Z"
   },
   {
    "duration": 101,
    "start_time": "2025-08-04T12:31:54.918Z"
   },
   {
    "duration": 19,
    "start_time": "2025-08-04T12:39:48.682Z"
   },
   {
    "duration": 72,
    "start_time": "2025-08-04T12:40:22.290Z"
   },
   {
    "duration": 34,
    "start_time": "2025-08-04T12:41:14.820Z"
   },
   {
    "duration": 66,
    "start_time": "2025-08-04T12:41:19.085Z"
   },
   {
    "duration": 19,
    "start_time": "2025-08-04T12:42:23.956Z"
   },
   {
    "duration": 19,
    "start_time": "2025-08-04T12:42:55.828Z"
   },
   {
    "duration": 19,
    "start_time": "2025-08-04T12:42:58.082Z"
   },
   {
    "duration": 67,
    "start_time": "2025-08-04T12:43:10.035Z"
   },
   {
    "duration": 6,
    "start_time": "2025-08-04T12:44:06.980Z"
   },
   {
    "duration": 9,
    "start_time": "2025-08-04T12:44:11.236Z"
   },
   {
    "duration": 34,
    "start_time": "2025-08-04T12:44:28.300Z"
   },
   {
    "duration": 10,
    "start_time": "2025-08-04T12:44:30.805Z"
   },
   {
    "duration": 4,
    "start_time": "2025-08-04T12:44:47.548Z"
   },
   {
    "duration": 26,
    "start_time": "2025-08-04T12:46:34.036Z"
   },
   {
    "duration": 6,
    "start_time": "2025-08-04T12:47:41.160Z"
   },
   {
    "duration": 62,
    "start_time": "2025-08-04T12:51:04.569Z"
   },
   {
    "duration": 60,
    "start_time": "2025-08-04T12:51:18.040Z"
   },
   {
    "duration": 84,
    "start_time": "2025-08-04T12:51:33.653Z"
   },
   {
    "duration": 9,
    "start_time": "2025-08-04T12:54:47.500Z"
   },
   {
    "duration": 37,
    "start_time": "2025-08-04T12:55:04.003Z"
   },
   {
    "duration": 71,
    "start_time": "2025-08-04T12:58:56.953Z"
   },
   {
    "duration": 45,
    "start_time": "2025-08-04T13:00:06.098Z"
   },
   {
    "duration": 79,
    "start_time": "2025-08-04T13:02:53.557Z"
   },
   {
    "duration": 42,
    "start_time": "2025-08-04T13:05:54.565Z"
   },
   {
    "duration": 45,
    "start_time": "2025-08-04T13:08:51.668Z"
   },
   {
    "duration": 512,
    "start_time": "2025-08-04T13:10:14.111Z"
   },
   {
    "duration": 2685,
    "start_time": "2025-08-04T13:48:32.017Z"
   },
   {
    "duration": 1217,
    "start_time": "2025-08-04T13:48:34.705Z"
   },
   {
    "duration": 2137,
    "start_time": "2025-08-04T13:48:35.924Z"
   },
   {
    "duration": 144,
    "start_time": "2025-08-04T13:48:38.062Z"
   },
   {
    "duration": 626,
    "start_time": "2025-08-04T13:48:38.208Z"
   },
   {
    "duration": 282,
    "start_time": "2025-08-04T13:48:38.835Z"
   },
   {
    "duration": 1173,
    "start_time": "2025-08-04T13:48:39.119Z"
   },
   {
    "duration": 326,
    "start_time": "2025-08-04T13:48:40.294Z"
   },
   {
    "duration": 38,
    "start_time": "2025-08-04T13:48:40.622Z"
   },
   {
    "duration": 248,
    "start_time": "2025-08-04T13:48:40.662Z"
   },
   {
    "duration": 0,
    "start_time": "2025-08-04T13:48:40.912Z"
   },
   {
    "duration": 0,
    "start_time": "2025-08-04T13:48:40.914Z"
   },
   {
    "duration": 0,
    "start_time": "2025-08-04T13:48:40.915Z"
   },
   {
    "duration": 0,
    "start_time": "2025-08-04T13:48:40.916Z"
   },
   {
    "duration": 0,
    "start_time": "2025-08-04T13:48:40.917Z"
   },
   {
    "duration": 0,
    "start_time": "2025-08-04T13:48:40.918Z"
   },
   {
    "duration": 0,
    "start_time": "2025-08-04T13:48:40.919Z"
   },
   {
    "duration": 0,
    "start_time": "2025-08-04T13:48:40.921Z"
   },
   {
    "duration": 0,
    "start_time": "2025-08-04T13:48:40.922Z"
   },
   {
    "duration": 0,
    "start_time": "2025-08-04T13:48:40.923Z"
   },
   {
    "duration": 0,
    "start_time": "2025-08-04T13:48:40.923Z"
   },
   {
    "duration": 0,
    "start_time": "2025-08-04T13:48:40.950Z"
   },
   {
    "duration": 0,
    "start_time": "2025-08-04T13:48:40.951Z"
   },
   {
    "duration": 0,
    "start_time": "2025-08-04T13:48:40.953Z"
   },
   {
    "duration": 0,
    "start_time": "2025-08-04T13:48:40.954Z"
   },
   {
    "duration": 0,
    "start_time": "2025-08-04T13:48:40.955Z"
   },
   {
    "duration": 0,
    "start_time": "2025-08-04T13:48:40.957Z"
   },
   {
    "duration": 0,
    "start_time": "2025-08-04T13:48:40.958Z"
   },
   {
    "duration": 0,
    "start_time": "2025-08-04T13:48:40.959Z"
   },
   {
    "duration": 0,
    "start_time": "2025-08-04T13:48:40.960Z"
   },
   {
    "duration": 0,
    "start_time": "2025-08-04T13:48:40.962Z"
   },
   {
    "duration": 0,
    "start_time": "2025-08-04T13:48:40.963Z"
   },
   {
    "duration": 0,
    "start_time": "2025-08-04T13:48:40.964Z"
   },
   {
    "duration": 0,
    "start_time": "2025-08-04T13:48:40.965Z"
   },
   {
    "duration": 0,
    "start_time": "2025-08-04T13:48:40.966Z"
   },
   {
    "duration": 855,
    "start_time": "2025-08-04T13:50:17.449Z"
   },
   {
    "duration": 1068,
    "start_time": "2025-08-04T13:50:24.512Z"
   },
   {
    "duration": 2783,
    "start_time": "2025-08-04T13:50:31.836Z"
   },
   {
    "duration": 1245,
    "start_time": "2025-08-04T13:50:34.622Z"
   },
   {
    "duration": 1981,
    "start_time": "2025-08-04T13:50:35.870Z"
   },
   {
    "duration": 146,
    "start_time": "2025-08-04T13:50:37.853Z"
   },
   {
    "duration": 618,
    "start_time": "2025-08-04T13:50:38.002Z"
   },
   {
    "duration": 291,
    "start_time": "2025-08-04T13:50:38.622Z"
   },
   {
    "duration": 1178,
    "start_time": "2025-08-04T13:50:38.915Z"
   },
   {
    "duration": 313,
    "start_time": "2025-08-04T13:50:40.094Z"
   },
   {
    "duration": 42,
    "start_time": "2025-08-04T13:50:40.409Z"
   },
   {
    "duration": 880,
    "start_time": "2025-08-04T13:50:40.453Z"
   },
   {
    "duration": 1075,
    "start_time": "2025-08-04T13:50:41.334Z"
   },
   {
    "duration": 12,
    "start_time": "2025-08-04T13:50:42.411Z"
   },
   {
    "duration": 190,
    "start_time": "2025-08-04T13:50:42.424Z"
   },
   {
    "duration": 0,
    "start_time": "2025-08-04T13:50:42.616Z"
   },
   {
    "duration": 0,
    "start_time": "2025-08-04T13:50:42.618Z"
   },
   {
    "duration": 0,
    "start_time": "2025-08-04T13:50:42.620Z"
   },
   {
    "duration": 0,
    "start_time": "2025-08-04T13:50:42.621Z"
   },
   {
    "duration": 0,
    "start_time": "2025-08-04T13:50:42.623Z"
   },
   {
    "duration": 0,
    "start_time": "2025-08-04T13:50:42.625Z"
   },
   {
    "duration": 0,
    "start_time": "2025-08-04T13:50:42.626Z"
   },
   {
    "duration": 0,
    "start_time": "2025-08-04T13:50:42.628Z"
   },
   {
    "duration": 0,
    "start_time": "2025-08-04T13:50:42.649Z"
   },
   {
    "duration": 0,
    "start_time": "2025-08-04T13:50:42.651Z"
   },
   {
    "duration": 0,
    "start_time": "2025-08-04T13:50:42.652Z"
   },
   {
    "duration": 0,
    "start_time": "2025-08-04T13:50:42.653Z"
   },
   {
    "duration": 0,
    "start_time": "2025-08-04T13:50:42.736Z"
   },
   {
    "duration": 0,
    "start_time": "2025-08-04T13:50:42.738Z"
   },
   {
    "duration": 0,
    "start_time": "2025-08-04T13:50:42.750Z"
   },
   {
    "duration": 0,
    "start_time": "2025-08-04T13:50:42.751Z"
   },
   {
    "duration": 0,
    "start_time": "2025-08-04T13:50:42.753Z"
   },
   {
    "duration": 0,
    "start_time": "2025-08-04T13:50:42.754Z"
   },
   {
    "duration": 0,
    "start_time": "2025-08-04T13:50:42.756Z"
   },
   {
    "duration": 0,
    "start_time": "2025-08-04T13:50:42.756Z"
   },
   {
    "duration": 0,
    "start_time": "2025-08-04T13:50:42.758Z"
   },
   {
    "duration": 0,
    "start_time": "2025-08-04T13:50:42.759Z"
   },
   {
    "duration": 274,
    "start_time": "2025-08-04T13:51:24.553Z"
   },
   {
    "duration": 2709,
    "start_time": "2025-08-04T13:51:30.697Z"
   },
   {
    "duration": 1237,
    "start_time": "2025-08-04T13:51:33.409Z"
   },
   {
    "duration": 2059,
    "start_time": "2025-08-04T13:51:34.648Z"
   },
   {
    "duration": 140,
    "start_time": "2025-08-04T13:51:36.709Z"
   },
   {
    "duration": 608,
    "start_time": "2025-08-04T13:51:36.853Z"
   },
   {
    "duration": 280,
    "start_time": "2025-08-04T13:51:37.463Z"
   },
   {
    "duration": 1155,
    "start_time": "2025-08-04T13:51:37.745Z"
   },
   {
    "duration": 317,
    "start_time": "2025-08-04T13:51:38.902Z"
   },
   {
    "duration": 43,
    "start_time": "2025-08-04T13:51:39.221Z"
   },
   {
    "duration": 819,
    "start_time": "2025-08-04T13:51:39.266Z"
   },
   {
    "duration": 1109,
    "start_time": "2025-08-04T13:51:40.087Z"
   },
   {
    "duration": 12,
    "start_time": "2025-08-04T13:51:41.198Z"
   },
   {
    "duration": 404,
    "start_time": "2025-08-04T13:51:41.212Z"
   },
   {
    "duration": 973,
    "start_time": "2025-08-04T13:51:41.619Z"
   },
   {
    "duration": 274,
    "start_time": "2025-08-04T13:51:42.594Z"
   },
   {
    "duration": 2718,
    "start_time": "2025-08-04T13:51:42.870Z"
   },
   {
    "duration": 386,
    "start_time": "2025-08-04T13:51:45.590Z"
   },
   {
    "duration": 103,
    "start_time": "2025-08-04T13:51:45.978Z"
   },
   {
    "duration": 155,
    "start_time": "2025-08-04T13:51:46.083Z"
   },
   {
    "duration": 3,
    "start_time": "2025-08-04T13:51:46.240Z"
   },
   {
    "duration": 182,
    "start_time": "2025-08-04T13:51:46.249Z"
   },
   {
    "duration": 934,
    "start_time": "2025-08-04T13:51:46.432Z"
   },
   {
    "duration": 451,
    "start_time": "2025-08-04T13:51:47.368Z"
   },
   {
    "duration": 58,
    "start_time": "2025-08-04T13:51:47.821Z"
   },
   {
    "duration": 1524,
    "start_time": "2025-08-04T13:51:47.881Z"
   },
   {
    "duration": 306,
    "start_time": "2025-08-04T13:51:49.407Z"
   },
   {
    "duration": 319,
    "start_time": "2025-08-04T13:51:49.715Z"
   },
   {
    "duration": 291,
    "start_time": "2025-08-04T13:51:50.037Z"
   },
   {
    "duration": 180,
    "start_time": "2025-08-04T13:51:50.330Z"
   },
   {
    "duration": 0,
    "start_time": "2025-08-04T13:51:50.512Z"
   },
   {
    "duration": 0,
    "start_time": "2025-08-04T13:51:50.513Z"
   },
   {
    "duration": 0,
    "start_time": "2025-08-04T13:51:50.515Z"
   },
   {
    "duration": 0,
    "start_time": "2025-08-04T13:51:50.516Z"
   },
   {
    "duration": 0,
    "start_time": "2025-08-04T13:51:50.518Z"
   },
   {
    "duration": 0,
    "start_time": "2025-08-04T13:51:50.520Z"
   },
   {
    "duration": 104,
    "start_time": "2025-08-04T13:54:46.789Z"
   },
   {
    "duration": 2835,
    "start_time": "2025-08-04T13:55:08.731Z"
   },
   {
    "duration": 1218,
    "start_time": "2025-08-04T13:55:11.568Z"
   },
   {
    "duration": 3086,
    "start_time": "2025-08-04T13:55:12.788Z"
   },
   {
    "duration": 148,
    "start_time": "2025-08-04T13:55:15.876Z"
   },
   {
    "duration": 652,
    "start_time": "2025-08-04T13:55:16.027Z"
   },
   {
    "duration": 273,
    "start_time": "2025-08-04T13:55:16.681Z"
   },
   {
    "duration": 1169,
    "start_time": "2025-08-04T13:55:16.955Z"
   },
   {
    "duration": 319,
    "start_time": "2025-08-04T13:55:18.126Z"
   },
   {
    "duration": 32,
    "start_time": "2025-08-04T13:55:18.448Z"
   },
   {
    "duration": 903,
    "start_time": "2025-08-04T13:55:18.482Z"
   },
   {
    "duration": 1068,
    "start_time": "2025-08-04T13:55:19.387Z"
   },
   {
    "duration": 13,
    "start_time": "2025-08-04T13:55:20.457Z"
   },
   {
    "duration": 447,
    "start_time": "2025-08-04T13:55:20.472Z"
   },
   {
    "duration": 930,
    "start_time": "2025-08-04T13:55:20.922Z"
   },
   {
    "duration": 209,
    "start_time": "2025-08-04T13:55:21.854Z"
   },
   {
    "duration": 2666,
    "start_time": "2025-08-04T13:55:22.065Z"
   },
   {
    "duration": 382,
    "start_time": "2025-08-04T13:55:24.732Z"
   },
   {
    "duration": 105,
    "start_time": "2025-08-04T13:55:25.117Z"
   },
   {
    "duration": 143,
    "start_time": "2025-08-04T13:55:25.224Z"
   },
   {
    "duration": 3,
    "start_time": "2025-08-04T13:55:25.368Z"
   },
   {
    "duration": 256,
    "start_time": "2025-08-04T13:55:25.373Z"
   },
   {
    "duration": 963,
    "start_time": "2025-08-04T13:55:25.630Z"
   },
   {
    "duration": 468,
    "start_time": "2025-08-04T13:55:26.595Z"
   },
   {
    "duration": 51,
    "start_time": "2025-08-04T13:55:27.065Z"
   },
   {
    "duration": 1534,
    "start_time": "2025-08-04T13:55:27.118Z"
   },
   {
    "duration": 316,
    "start_time": "2025-08-04T13:55:28.655Z"
   },
   {
    "duration": 316,
    "start_time": "2025-08-04T13:55:28.974Z"
   },
   {
    "duration": 294,
    "start_time": "2025-08-04T13:55:29.292Z"
   },
   {
    "duration": 98,
    "start_time": "2025-08-04T13:55:29.588Z"
   },
   {
    "duration": 214,
    "start_time": "2025-08-04T13:55:29.688Z"
   },
   {
    "duration": 79,
    "start_time": "2025-08-04T13:55:29.904Z"
   },
   {
    "duration": 100,
    "start_time": "2025-08-04T13:55:29.984Z"
   },
   {
    "duration": 36,
    "start_time": "2025-08-04T13:55:30.085Z"
   },
   {
    "duration": 151,
    "start_time": "2025-08-04T13:55:30.124Z"
   },
   {
    "duration": 486,
    "start_time": "2025-08-04T13:55:30.277Z"
   },
   {
    "duration": 480,
    "start_time": "2025-08-04T14:00:57.655Z"
   },
   {
    "duration": 506,
    "start_time": "2025-08-04T14:01:14.665Z"
   },
   {
    "duration": 1143,
    "start_time": "2025-08-04T14:02:32.240Z"
   },
   {
    "duration": 324,
    "start_time": "2025-08-04T14:03:24.912Z"
   },
   {
    "duration": 315,
    "start_time": "2025-08-04T14:03:56.164Z"
   },
   {
    "duration": 753,
    "start_time": "2025-08-04T14:04:31.700Z"
   },
   {
    "duration": 398,
    "start_time": "2025-08-04T14:05:11.298Z"
   },
   {
    "duration": 3496,
    "start_time": "2025-08-04T14:05:20.531Z"
   },
   {
    "duration": 15,
    "start_time": "2025-08-04T14:05:35.530Z"
   },
   {
    "duration": 17,
    "start_time": "2025-08-04T14:05:41.161Z"
   },
   {
    "duration": 2850,
    "start_time": "2025-08-04T14:05:59.690Z"
   },
   {
    "duration": 1285,
    "start_time": "2025-08-04T14:06:02.543Z"
   },
   {
    "duration": 2486,
    "start_time": "2025-08-04T14:06:03.830Z"
   },
   {
    "duration": 142,
    "start_time": "2025-08-04T14:06:06.318Z"
   },
   {
    "duration": 654,
    "start_time": "2025-08-04T14:06:06.470Z"
   },
   {
    "duration": 303,
    "start_time": "2025-08-04T14:06:07.126Z"
   },
   {
    "duration": 1286,
    "start_time": "2025-08-04T14:06:07.431Z"
   },
   {
    "duration": 325,
    "start_time": "2025-08-04T14:06:08.719Z"
   },
   {
    "duration": 33,
    "start_time": "2025-08-04T14:06:09.046Z"
   },
   {
    "duration": 859,
    "start_time": "2025-08-04T14:06:09.082Z"
   },
   {
    "duration": 1127,
    "start_time": "2025-08-04T14:06:09.942Z"
   },
   {
    "duration": 12,
    "start_time": "2025-08-04T14:06:11.070Z"
   },
   {
    "duration": 395,
    "start_time": "2025-08-04T14:06:11.084Z"
   },
   {
    "duration": 983,
    "start_time": "2025-08-04T14:06:11.480Z"
   },
   {
    "duration": 219,
    "start_time": "2025-08-04T14:06:12.465Z"
   },
   {
    "duration": 2812,
    "start_time": "2025-08-04T14:06:12.686Z"
   },
   {
    "duration": 401,
    "start_time": "2025-08-04T14:06:15.501Z"
   },
   {
    "duration": 103,
    "start_time": "2025-08-04T14:06:15.905Z"
   },
   {
    "duration": 159,
    "start_time": "2025-08-04T14:06:16.010Z"
   },
   {
    "duration": 3,
    "start_time": "2025-08-04T14:06:16.171Z"
   },
   {
    "duration": 236,
    "start_time": "2025-08-04T14:06:16.175Z"
   },
   {
    "duration": 999,
    "start_time": "2025-08-04T14:06:16.413Z"
   },
   {
    "duration": 487,
    "start_time": "2025-08-04T14:06:17.414Z"
   },
   {
    "duration": 69,
    "start_time": "2025-08-04T14:06:17.903Z"
   },
   {
    "duration": 1631,
    "start_time": "2025-08-04T14:06:17.974Z"
   },
   {
    "duration": 310,
    "start_time": "2025-08-04T14:06:19.607Z"
   },
   {
    "duration": 326,
    "start_time": "2025-08-04T14:06:19.919Z"
   },
   {
    "duration": 321,
    "start_time": "2025-08-04T14:06:20.248Z"
   },
   {
    "duration": 114,
    "start_time": "2025-08-04T14:06:20.571Z"
   },
   {
    "duration": 196,
    "start_time": "2025-08-04T14:06:20.687Z"
   },
   {
    "duration": 92,
    "start_time": "2025-08-04T14:06:20.885Z"
   },
   {
    "duration": 185,
    "start_time": "2025-08-04T14:06:20.979Z"
   },
   {
    "duration": 37,
    "start_time": "2025-08-04T14:06:21.166Z"
   },
   {
    "duration": 62,
    "start_time": "2025-08-04T14:06:21.205Z"
   },
   {
    "duration": 481,
    "start_time": "2025-08-04T14:06:21.269Z"
   },
   {
    "duration": 2901,
    "start_time": "2025-08-04T14:07:16.842Z"
   },
   {
    "duration": 1277,
    "start_time": "2025-08-04T14:07:19.746Z"
   },
   {
    "duration": 2012,
    "start_time": "2025-08-04T14:07:21.025Z"
   },
   {
    "duration": 148,
    "start_time": "2025-08-04T14:07:23.039Z"
   },
   {
    "duration": 626,
    "start_time": "2025-08-04T14:07:23.189Z"
   },
   {
    "duration": 294,
    "start_time": "2025-08-04T14:07:23.817Z"
   },
   {
    "duration": 1242,
    "start_time": "2025-08-04T14:07:24.113Z"
   },
   {
    "duration": 345,
    "start_time": "2025-08-04T14:07:25.358Z"
   },
   {
    "duration": 31,
    "start_time": "2025-08-04T14:07:25.705Z"
   },
   {
    "duration": 934,
    "start_time": "2025-08-04T14:07:25.752Z"
   },
   {
    "duration": 1115,
    "start_time": "2025-08-04T14:07:26.688Z"
   },
   {
    "duration": 12,
    "start_time": "2025-08-04T14:07:27.805Z"
   },
   {
    "duration": 418,
    "start_time": "2025-08-04T14:07:27.819Z"
   },
   {
    "duration": 1041,
    "start_time": "2025-08-04T14:07:28.239Z"
   },
   {
    "duration": 220,
    "start_time": "2025-08-04T14:07:29.282Z"
   },
   {
    "duration": 2854,
    "start_time": "2025-08-04T14:07:29.503Z"
   },
   {
    "duration": 412,
    "start_time": "2025-08-04T14:07:32.359Z"
   },
   {
    "duration": 98,
    "start_time": "2025-08-04T14:07:32.773Z"
   },
   {
    "duration": 142,
    "start_time": "2025-08-04T14:07:32.873Z"
   },
   {
    "duration": 3,
    "start_time": "2025-08-04T14:07:33.017Z"
   },
   {
    "duration": 325,
    "start_time": "2025-08-04T14:07:33.022Z"
   },
   {
    "duration": 990,
    "start_time": "2025-08-04T14:07:33.348Z"
   },
   {
    "duration": 480,
    "start_time": "2025-08-04T14:07:34.341Z"
   },
   {
    "duration": 64,
    "start_time": "2025-08-04T14:07:34.823Z"
   },
   {
    "duration": 1666,
    "start_time": "2025-08-04T14:07:34.889Z"
   },
   {
    "duration": 319,
    "start_time": "2025-08-04T14:07:36.559Z"
   },
   {
    "duration": 336,
    "start_time": "2025-08-04T14:07:36.879Z"
   },
   {
    "duration": 307,
    "start_time": "2025-08-04T14:07:37.219Z"
   },
   {
    "duration": 106,
    "start_time": "2025-08-04T14:07:37.528Z"
   },
   {
    "duration": 203,
    "start_time": "2025-08-04T14:07:37.636Z"
   },
   {
    "duration": 82,
    "start_time": "2025-08-04T14:07:37.841Z"
   },
   {
    "duration": 115,
    "start_time": "2025-08-04T14:07:37.925Z"
   },
   {
    "duration": 52,
    "start_time": "2025-08-04T14:07:38.042Z"
   },
   {
    "duration": 41,
    "start_time": "2025-08-04T14:07:38.095Z"
   },
   {
    "duration": 550,
    "start_time": "2025-08-04T14:07:38.149Z"
   },
   {
    "duration": 9903,
    "start_time": "2025-08-04T16:19:19.887Z"
   },
   {
    "duration": 1541,
    "start_time": "2025-08-04T16:19:29.792Z"
   },
   {
    "duration": 2096,
    "start_time": "2025-08-04T16:19:31.335Z"
   },
   {
    "duration": 161,
    "start_time": "2025-08-04T16:19:33.434Z"
   },
   {
    "duration": 670,
    "start_time": "2025-08-04T16:19:33.597Z"
   },
   {
    "duration": 305,
    "start_time": "2025-08-04T16:19:34.269Z"
   },
   {
    "duration": 1357,
    "start_time": "2025-08-04T16:19:34.576Z"
   },
   {
    "duration": 324,
    "start_time": "2025-08-04T16:19:35.935Z"
   },
   {
    "duration": 44,
    "start_time": "2025-08-04T16:19:36.261Z"
   },
   {
    "duration": 921,
    "start_time": "2025-08-04T16:19:36.310Z"
   },
   {
    "duration": 1245,
    "start_time": "2025-08-04T16:19:37.233Z"
   },
   {
    "duration": 30,
    "start_time": "2025-08-04T16:19:38.480Z"
   },
   {
    "duration": 502,
    "start_time": "2025-08-04T16:19:38.516Z"
   },
   {
    "duration": 1092,
    "start_time": "2025-08-04T16:19:39.024Z"
   },
   {
    "duration": 222,
    "start_time": "2025-08-04T16:19:40.117Z"
   },
   {
    "duration": 2796,
    "start_time": "2025-08-04T16:19:40.341Z"
   },
   {
    "duration": 403,
    "start_time": "2025-08-04T16:19:43.140Z"
   },
   {
    "duration": 93,
    "start_time": "2025-08-04T16:19:43.545Z"
   },
   {
    "duration": 138,
    "start_time": "2025-08-04T16:19:43.640Z"
   },
   {
    "duration": 3,
    "start_time": "2025-08-04T16:19:43.780Z"
   },
   {
    "duration": 207,
    "start_time": "2025-08-04T16:19:43.785Z"
   },
   {
    "duration": 993,
    "start_time": "2025-08-04T16:19:43.994Z"
   },
   {
    "duration": 475,
    "start_time": "2025-08-04T16:19:44.989Z"
   },
   {
    "duration": 67,
    "start_time": "2025-08-04T16:19:45.466Z"
   },
   {
    "duration": 1723,
    "start_time": "2025-08-04T16:19:45.535Z"
   },
   {
    "duration": 326,
    "start_time": "2025-08-04T16:19:47.260Z"
   },
   {
    "duration": 362,
    "start_time": "2025-08-04T16:19:47.588Z"
   },
   {
    "duration": 304,
    "start_time": "2025-08-04T16:19:47.953Z"
   },
   {
    "duration": 115,
    "start_time": "2025-08-04T16:19:48.259Z"
   },
   {
    "duration": 213,
    "start_time": "2025-08-04T16:19:48.376Z"
   },
   {
    "duration": 89,
    "start_time": "2025-08-04T16:19:48.591Z"
   },
   {
    "duration": 262,
    "start_time": "2025-08-04T16:19:48.682Z"
   },
   {
    "duration": 51,
    "start_time": "2025-08-04T16:19:48.945Z"
   },
   {
    "duration": 56,
    "start_time": "2025-08-04T16:19:48.998Z"
   },
   {
    "duration": 502,
    "start_time": "2025-08-04T16:19:49.055Z"
   },
   {
    "duration": 221,
    "start_time": "2025-08-04T16:20:28.706Z"
   },
   {
    "duration": 215,
    "start_time": "2025-08-04T16:21:11.753Z"
   },
   {
    "duration": 317,
    "start_time": "2025-08-04T16:21:20.308Z"
   },
   {
    "duration": 250,
    "start_time": "2025-08-04T16:21:24.734Z"
   },
   {
    "duration": 331,
    "start_time": "2025-08-04T16:22:13.122Z"
   },
   {
    "duration": 234,
    "start_time": "2025-08-04T16:22:25.061Z"
   },
   {
    "duration": 225,
    "start_time": "2025-08-04T16:22:47.163Z"
   },
   {
    "duration": 7959,
    "start_time": "2025-08-04T19:14:47.082Z"
   },
   {
    "duration": 1321,
    "start_time": "2025-08-04T19:14:55.043Z"
   },
   {
    "duration": 1740,
    "start_time": "2025-08-04T19:14:56.366Z"
   },
   {
    "duration": 130,
    "start_time": "2025-08-04T19:14:58.107Z"
   },
   {
    "duration": 551,
    "start_time": "2025-08-04T19:14:58.240Z"
   },
   {
    "duration": 255,
    "start_time": "2025-08-04T19:14:58.793Z"
   },
   {
    "duration": 1026,
    "start_time": "2025-08-04T19:14:59.050Z"
   },
   {
    "duration": 278,
    "start_time": "2025-08-04T19:15:00.078Z"
   },
   {
    "duration": 37,
    "start_time": "2025-08-04T19:15:00.358Z"
   },
   {
    "duration": 758,
    "start_time": "2025-08-04T19:15:00.397Z"
   },
   {
    "duration": 1082,
    "start_time": "2025-08-04T19:15:01.157Z"
   },
   {
    "duration": 12,
    "start_time": "2025-08-04T19:15:02.241Z"
   },
   {
    "duration": 281,
    "start_time": "2025-08-04T19:15:02.254Z"
   },
   {
    "duration": 893,
    "start_time": "2025-08-04T19:15:02.538Z"
   },
   {
    "duration": 190,
    "start_time": "2025-08-04T19:15:03.432Z"
   },
   {
    "duration": 2409,
    "start_time": "2025-08-04T19:15:03.624Z"
   },
   {
    "duration": 351,
    "start_time": "2025-08-04T19:15:06.035Z"
   },
   {
    "duration": 89,
    "start_time": "2025-08-04T19:15:06.388Z"
   },
   {
    "duration": 120,
    "start_time": "2025-08-04T19:15:06.479Z"
   },
   {
    "duration": 15,
    "start_time": "2025-08-04T19:15:06.601Z"
   },
   {
    "duration": 242,
    "start_time": "2025-08-04T19:15:06.618Z"
   },
   {
    "duration": 742,
    "start_time": "2025-08-04T19:15:06.862Z"
   },
   {
    "duration": 390,
    "start_time": "2025-08-04T19:15:07.606Z"
   },
   {
    "duration": 151,
    "start_time": "2025-08-04T19:15:07.998Z"
   },
   {
    "duration": 53,
    "start_time": "2025-08-04T19:15:08.151Z"
   },
   {
    "duration": 1389,
    "start_time": "2025-08-04T19:15:08.205Z"
   },
   {
    "duration": 265,
    "start_time": "2025-08-04T19:15:09.596Z"
   },
   {
    "duration": 292,
    "start_time": "2025-08-04T19:15:09.862Z"
   },
   {
    "duration": 252,
    "start_time": "2025-08-04T19:15:10.155Z"
   },
   {
    "duration": 91,
    "start_time": "2025-08-04T19:15:10.408Z"
   },
   {
    "duration": 183,
    "start_time": "2025-08-04T19:15:10.501Z"
   },
   {
    "duration": 67,
    "start_time": "2025-08-04T19:15:10.685Z"
   },
   {
    "duration": 100,
    "start_time": "2025-08-04T19:15:10.754Z"
   },
   {
    "duration": 43,
    "start_time": "2025-08-04T19:15:10.856Z"
   },
   {
    "duration": 39,
    "start_time": "2025-08-04T19:15:10.901Z"
   },
   {
    "duration": 505,
    "start_time": "2025-08-04T19:15:10.941Z"
   }
  ],
  "colab": {
   "provenance": []
  },
  "kernelspec": {
   "display_name": "Python 3 (ipykernel)",
   "language": "python",
   "name": "python3"
  },
  "language_info": {
   "codemirror_mode": {
    "name": "ipython",
    "version": 3
   },
   "file_extension": ".py",
   "mimetype": "text/x-python",
   "name": "python",
   "nbconvert_exporter": "python",
   "pygments_lexer": "ipython3",
   "version": "3.9.12"
  },
  "toc": {
   "base_numbering": 1,
   "nav_menu": {},
   "number_sections": false,
   "sideBar": true,
   "skip_h1_title": true,
   "title_cell": "Table of Contents",
   "title_sidebar": "Contents",
   "toc_cell": false,
   "toc_position": {},
   "toc_section_display": true,
   "toc_window_display": false
  }
 },
 "nbformat": 4,
 "nbformat_minor": 1
}
